{
 "cells": [
  {
   "cell_type": "code",
   "execution_count": 74,
   "id": "50f10e38",
   "metadata": {},
   "outputs": [],
   "source": [
    "import numpy as np\n",
    "\n",
    "import plotly.graph_objs as go"
   ]
  },
  {
   "cell_type": "code",
   "execution_count": 61,
   "id": "6077e281",
   "metadata": {},
   "outputs": [],
   "source": [
    "nr_points = 50\n",
    "interval_start = 0\n",
    "interval_end = 20\n",
    "\n",
    "t = np.linspace(interval_start, interval_end, nr_points)\n",
    "\n",
    "# Generate two similar shaped time series\n",
    "series1 = 0.8 + 0.9 * np.sin(0.9 + 0.9 * t) + 0.03 * np.random.randn(nr_points) - 0.2 * (t / (interval_end - interval_start))\n",
    "series2 = np.sin(1.05 * t) + 0.15 * np.random.randn(nr_points)"
   ]
  },
  {
   "cell_type": "code",
   "execution_count": 64,
   "id": "b4481615",
   "metadata": {},
   "outputs": [],
   "source": [
    "def plot_time_series_plotly(t, series1, series2, title):\n",
    "    fig = go.Figure()\n",
    "    fig.add_trace(go.Scatter(x=t, y=series1, mode='lines+markers', name='Series 1'))\n",
    "    fig.add_trace(go.Scatter(x=t, y=series2, mode='lines+markers', name='Series 2'))\n",
    "    fig.update_layout(\n",
    "        title=title,\n",
    "        xaxis_title='t',\n",
    "        yaxis_title='Value',\n",
    "        legend_title='Series'\n",
    "    )\n",
    "    return fig"
   ]
  },
  {
   "cell_type": "code",
   "execution_count": 65,
   "id": "af69acba",
   "metadata": {},
   "outputs": [
    {
     "data": {
      "application/vnd.plotly.v1+json": {
       "config": {
        "plotlyServerURL": "https://plot.ly"
       },
       "data": [
        {
         "mode": "lines+markers",
         "name": "Series 1",
         "type": "scatter",
         "x": {
          "bdata": "AAAAAAAAAACIxvrQWB/aP4jG+tBYH+o/5hS8nIKX8z+IxvrQWB/6PxW8nIKXUwBA5hS8nIKXA0C3bdu2bdsGQIjG+tBYHwpAWR8a60NjDUAVvJyCl1MQQH5orA+N9RFA5hS8nIKXE0BOwcspeDkVQLdt27Zt2xZAIBrrQ2N9GECIxvrQWB8aQPByCl5OwRtAWR8a60NjHUDCyyl4OQUfQBW8nIKXUyBASZIkSZIkIUB+aKwPjfUhQLI+NNaHxiJA5hS8nIKXI0Aa60NjfWgkQE7Byyl4OSVAg5dT8HIKJkC3bdu2bdsmQOtDY31orCdAIBrrQ2N9KEBU8HIKXk4pQIjG+tBYHypAvJyCl1PwKkDwcgpeTsErQCVJkiRJkixAWR8a60NjLUCN9aGxPjQuQMLLKXg5BS9A9qGxPjTWL0AVvJyCl1MwQC+n4OUUvDBASZIkSZIkMUBjfWisD40xQH5orA+N9TFAmFPwcgpeMkCyPjTWh8YyQMwpeDkFLzNA5hS8nIKXM0AAAAAAAAA0QA==",
          "dtype": "f8"
         },
         "y": {
          "bdata": "EKctqWD79z+3wy+Db5r6P8I7gpijSvs/IdU/8/YY+j/4t4UJ/T32P3i8yJStt/E/4azlTyRU6j/EUqh4zsfcP4aV3MjlvMA/YVrk2cxWoL/H0MEv9gLAv8b9WqsEOLe/sszuXsg6or8lMYcxmgzPP/cdpVpZauE//LZQhzBD6z9iT9/lT9byP3/MVpVfmvY/96Qg/gya+D93y9BqPp/5PzArEb5aW/k//m9dzK3i9T9j5h+sudPxP0UWzNSVs+g/n2+Ddc1B3T9IXA6Vi6HDP9lPr9fdtLC/68JGuuLsyL8mpd/PKDLMv/JIbW0o3rC/VLEUWdG4wz8Jppv307bZP2tC1LPE2Og/GTtaGwZy8T84JIlMKy31PxPS3ILAU/g/BsxdhNUZ+D97vW3mlYD3PxlgV2b/i/U/TDiYWyN38T9wwbwxvB3nPxywhNHqDtk/BKuMoizGtz+rHVZoAdrCv4r0rLHeSdK/nn3rTKTXzL/tA0rT2NDHv4DF6MFj3a8/hKSRHPyM1j/KYVX2e27jPw==",
          "dtype": "f8"
         }
        },
        {
         "mode": "lines+markers",
         "name": "Series 2",
         "type": "scatter",
         "x": {
          "bdata": "AAAAAAAAAACIxvrQWB/aP4jG+tBYH+o/5hS8nIKX8z+IxvrQWB/6PxW8nIKXUwBA5hS8nIKXA0C3bdu2bdsGQIjG+tBYHwpAWR8a60NjDUAVvJyCl1MQQH5orA+N9RFA5hS8nIKXE0BOwcspeDkVQLdt27Zt2xZAIBrrQ2N9GECIxvrQWB8aQPByCl5OwRtAWR8a60NjHUDCyyl4OQUfQBW8nIKXUyBASZIkSZIkIUB+aKwPjfUhQLI+NNaHxiJA5hS8nIKXI0Aa60NjfWgkQE7Byyl4OSVAg5dT8HIKJkC3bdu2bdsmQOtDY31orCdAIBrrQ2N9KEBU8HIKXk4pQIjG+tBYHypAvJyCl1PwKkDwcgpeTsErQCVJkiRJkixAWR8a60NjLUCN9aGxPjQuQMLLKXg5BS9A9qGxPjTWL0AVvJyCl1MwQC+n4OUUvDBASZIkSZIkMUBjfWisD40xQH5orA+N9TFAmFPwcgpeMkCyPjTWh8YyQMwpeDkFLzNA5hS8nIKXM0AAAAAAAAA0QA==",
          "dtype": "f8"
         },
         "y": {
          "bdata": "LL5YALetwr8S4wNFBG3UPwM0gT62Lus/tpWinhUm5z9WEhVZ077uP3/1ji87I+8/7IHkWYec1D+oIFPZXMHSPxhbw6KSOsC/GO9pOBCJ5r+yN0Itgmfsv1CzuDXJe/O/LtPSo+nq8b8Bjgkf+ELovzdxT3RQlNm/ba4LYu5y1z/JuINtAmbYP6fx/yH9nOw/CmWgF3PW5T9rbG8ikHrxP1dVPDh2UuE/e0fuLZ/Qyj+KyZYbAqfJP1dHrpKlN96/CORoPZ++679moChC2fPtv3FAEZyHv+6/JQmHou3B6L8CigGCCmrfv3GBWCJsQ8G/C0Np/Es31T86uIdDDB7kP9KkB/HZ6+w/nKewoiS68j91WXYEbgPtPwsTO/DjPuY/ffMJGjG/yD/IGUNvxJ6XP2Rh0z4P49i/+AWG5f6q678KSk1bhqDxv8XQCUZHoe6/xHwCKAkJ5b+liyJ/hjjPvydM5W8vIrw/eFaX6WqY4T+HubiaAWfqPwGITGCO6uw/MF4EavEe7T9U9QG+qlPrPw==",
          "dtype": "f8"
         }
        }
       ],
       "layout": {
        "legend": {
         "title": {
          "text": "Series"
         }
        },
        "template": {
         "data": {
          "bar": [
           {
            "error_x": {
             "color": "#2a3f5f"
            },
            "error_y": {
             "color": "#2a3f5f"
            },
            "marker": {
             "line": {
              "color": "#E5ECF6",
              "width": 0.5
             },
             "pattern": {
              "fillmode": "overlay",
              "size": 10,
              "solidity": 0.2
             }
            },
            "type": "bar"
           }
          ],
          "barpolar": [
           {
            "marker": {
             "line": {
              "color": "#E5ECF6",
              "width": 0.5
             },
             "pattern": {
              "fillmode": "overlay",
              "size": 10,
              "solidity": 0.2
             }
            },
            "type": "barpolar"
           }
          ],
          "carpet": [
           {
            "aaxis": {
             "endlinecolor": "#2a3f5f",
             "gridcolor": "white",
             "linecolor": "white",
             "minorgridcolor": "white",
             "startlinecolor": "#2a3f5f"
            },
            "baxis": {
             "endlinecolor": "#2a3f5f",
             "gridcolor": "white",
             "linecolor": "white",
             "minorgridcolor": "white",
             "startlinecolor": "#2a3f5f"
            },
            "type": "carpet"
           }
          ],
          "choropleth": [
           {
            "colorbar": {
             "outlinewidth": 0,
             "ticks": ""
            },
            "type": "choropleth"
           }
          ],
          "contour": [
           {
            "colorbar": {
             "outlinewidth": 0,
             "ticks": ""
            },
            "colorscale": [
             [
              0,
              "#0d0887"
             ],
             [
              0.1111111111111111,
              "#46039f"
             ],
             [
              0.2222222222222222,
              "#7201a8"
             ],
             [
              0.3333333333333333,
              "#9c179e"
             ],
             [
              0.4444444444444444,
              "#bd3786"
             ],
             [
              0.5555555555555556,
              "#d8576b"
             ],
             [
              0.6666666666666666,
              "#ed7953"
             ],
             [
              0.7777777777777778,
              "#fb9f3a"
             ],
             [
              0.8888888888888888,
              "#fdca26"
             ],
             [
              1,
              "#f0f921"
             ]
            ],
            "type": "contour"
           }
          ],
          "contourcarpet": [
           {
            "colorbar": {
             "outlinewidth": 0,
             "ticks": ""
            },
            "type": "contourcarpet"
           }
          ],
          "heatmap": [
           {
            "colorbar": {
             "outlinewidth": 0,
             "ticks": ""
            },
            "colorscale": [
             [
              0,
              "#0d0887"
             ],
             [
              0.1111111111111111,
              "#46039f"
             ],
             [
              0.2222222222222222,
              "#7201a8"
             ],
             [
              0.3333333333333333,
              "#9c179e"
             ],
             [
              0.4444444444444444,
              "#bd3786"
             ],
             [
              0.5555555555555556,
              "#d8576b"
             ],
             [
              0.6666666666666666,
              "#ed7953"
             ],
             [
              0.7777777777777778,
              "#fb9f3a"
             ],
             [
              0.8888888888888888,
              "#fdca26"
             ],
             [
              1,
              "#f0f921"
             ]
            ],
            "type": "heatmap"
           }
          ],
          "histogram": [
           {
            "marker": {
             "pattern": {
              "fillmode": "overlay",
              "size": 10,
              "solidity": 0.2
             }
            },
            "type": "histogram"
           }
          ],
          "histogram2d": [
           {
            "colorbar": {
             "outlinewidth": 0,
             "ticks": ""
            },
            "colorscale": [
             [
              0,
              "#0d0887"
             ],
             [
              0.1111111111111111,
              "#46039f"
             ],
             [
              0.2222222222222222,
              "#7201a8"
             ],
             [
              0.3333333333333333,
              "#9c179e"
             ],
             [
              0.4444444444444444,
              "#bd3786"
             ],
             [
              0.5555555555555556,
              "#d8576b"
             ],
             [
              0.6666666666666666,
              "#ed7953"
             ],
             [
              0.7777777777777778,
              "#fb9f3a"
             ],
             [
              0.8888888888888888,
              "#fdca26"
             ],
             [
              1,
              "#f0f921"
             ]
            ],
            "type": "histogram2d"
           }
          ],
          "histogram2dcontour": [
           {
            "colorbar": {
             "outlinewidth": 0,
             "ticks": ""
            },
            "colorscale": [
             [
              0,
              "#0d0887"
             ],
             [
              0.1111111111111111,
              "#46039f"
             ],
             [
              0.2222222222222222,
              "#7201a8"
             ],
             [
              0.3333333333333333,
              "#9c179e"
             ],
             [
              0.4444444444444444,
              "#bd3786"
             ],
             [
              0.5555555555555556,
              "#d8576b"
             ],
             [
              0.6666666666666666,
              "#ed7953"
             ],
             [
              0.7777777777777778,
              "#fb9f3a"
             ],
             [
              0.8888888888888888,
              "#fdca26"
             ],
             [
              1,
              "#f0f921"
             ]
            ],
            "type": "histogram2dcontour"
           }
          ],
          "mesh3d": [
           {
            "colorbar": {
             "outlinewidth": 0,
             "ticks": ""
            },
            "type": "mesh3d"
           }
          ],
          "parcoords": [
           {
            "line": {
             "colorbar": {
              "outlinewidth": 0,
              "ticks": ""
             }
            },
            "type": "parcoords"
           }
          ],
          "pie": [
           {
            "automargin": true,
            "type": "pie"
           }
          ],
          "scatter": [
           {
            "fillpattern": {
             "fillmode": "overlay",
             "size": 10,
             "solidity": 0.2
            },
            "type": "scatter"
           }
          ],
          "scatter3d": [
           {
            "line": {
             "colorbar": {
              "outlinewidth": 0,
              "ticks": ""
             }
            },
            "marker": {
             "colorbar": {
              "outlinewidth": 0,
              "ticks": ""
             }
            },
            "type": "scatter3d"
           }
          ],
          "scattercarpet": [
           {
            "marker": {
             "colorbar": {
              "outlinewidth": 0,
              "ticks": ""
             }
            },
            "type": "scattercarpet"
           }
          ],
          "scattergeo": [
           {
            "marker": {
             "colorbar": {
              "outlinewidth": 0,
              "ticks": ""
             }
            },
            "type": "scattergeo"
           }
          ],
          "scattergl": [
           {
            "marker": {
             "colorbar": {
              "outlinewidth": 0,
              "ticks": ""
             }
            },
            "type": "scattergl"
           }
          ],
          "scattermap": [
           {
            "marker": {
             "colorbar": {
              "outlinewidth": 0,
              "ticks": ""
             }
            },
            "type": "scattermap"
           }
          ],
          "scattermapbox": [
           {
            "marker": {
             "colorbar": {
              "outlinewidth": 0,
              "ticks": ""
             }
            },
            "type": "scattermapbox"
           }
          ],
          "scatterpolar": [
           {
            "marker": {
             "colorbar": {
              "outlinewidth": 0,
              "ticks": ""
             }
            },
            "type": "scatterpolar"
           }
          ],
          "scatterpolargl": [
           {
            "marker": {
             "colorbar": {
              "outlinewidth": 0,
              "ticks": ""
             }
            },
            "type": "scatterpolargl"
           }
          ],
          "scatterternary": [
           {
            "marker": {
             "colorbar": {
              "outlinewidth": 0,
              "ticks": ""
             }
            },
            "type": "scatterternary"
           }
          ],
          "surface": [
           {
            "colorbar": {
             "outlinewidth": 0,
             "ticks": ""
            },
            "colorscale": [
             [
              0,
              "#0d0887"
             ],
             [
              0.1111111111111111,
              "#46039f"
             ],
             [
              0.2222222222222222,
              "#7201a8"
             ],
             [
              0.3333333333333333,
              "#9c179e"
             ],
             [
              0.4444444444444444,
              "#bd3786"
             ],
             [
              0.5555555555555556,
              "#d8576b"
             ],
             [
              0.6666666666666666,
              "#ed7953"
             ],
             [
              0.7777777777777778,
              "#fb9f3a"
             ],
             [
              0.8888888888888888,
              "#fdca26"
             ],
             [
              1,
              "#f0f921"
             ]
            ],
            "type": "surface"
           }
          ],
          "table": [
           {
            "cells": {
             "fill": {
              "color": "#EBF0F8"
             },
             "line": {
              "color": "white"
             }
            },
            "header": {
             "fill": {
              "color": "#C8D4E3"
             },
             "line": {
              "color": "white"
             }
            },
            "type": "table"
           }
          ]
         },
         "layout": {
          "annotationdefaults": {
           "arrowcolor": "#2a3f5f",
           "arrowhead": 0,
           "arrowwidth": 1
          },
          "autotypenumbers": "strict",
          "coloraxis": {
           "colorbar": {
            "outlinewidth": 0,
            "ticks": ""
           }
          },
          "colorscale": {
           "diverging": [
            [
             0,
             "#8e0152"
            ],
            [
             0.1,
             "#c51b7d"
            ],
            [
             0.2,
             "#de77ae"
            ],
            [
             0.3,
             "#f1b6da"
            ],
            [
             0.4,
             "#fde0ef"
            ],
            [
             0.5,
             "#f7f7f7"
            ],
            [
             0.6,
             "#e6f5d0"
            ],
            [
             0.7,
             "#b8e186"
            ],
            [
             0.8,
             "#7fbc41"
            ],
            [
             0.9,
             "#4d9221"
            ],
            [
             1,
             "#276419"
            ]
           ],
           "sequential": [
            [
             0,
             "#0d0887"
            ],
            [
             0.1111111111111111,
             "#46039f"
            ],
            [
             0.2222222222222222,
             "#7201a8"
            ],
            [
             0.3333333333333333,
             "#9c179e"
            ],
            [
             0.4444444444444444,
             "#bd3786"
            ],
            [
             0.5555555555555556,
             "#d8576b"
            ],
            [
             0.6666666666666666,
             "#ed7953"
            ],
            [
             0.7777777777777778,
             "#fb9f3a"
            ],
            [
             0.8888888888888888,
             "#fdca26"
            ],
            [
             1,
             "#f0f921"
            ]
           ],
           "sequentialminus": [
            [
             0,
             "#0d0887"
            ],
            [
             0.1111111111111111,
             "#46039f"
            ],
            [
             0.2222222222222222,
             "#7201a8"
            ],
            [
             0.3333333333333333,
             "#9c179e"
            ],
            [
             0.4444444444444444,
             "#bd3786"
            ],
            [
             0.5555555555555556,
             "#d8576b"
            ],
            [
             0.6666666666666666,
             "#ed7953"
            ],
            [
             0.7777777777777778,
             "#fb9f3a"
            ],
            [
             0.8888888888888888,
             "#fdca26"
            ],
            [
             1,
             "#f0f921"
            ]
           ]
          },
          "colorway": [
           "#636efa",
           "#EF553B",
           "#00cc96",
           "#ab63fa",
           "#FFA15A",
           "#19d3f3",
           "#FF6692",
           "#B6E880",
           "#FF97FF",
           "#FECB52"
          ],
          "font": {
           "color": "#2a3f5f"
          },
          "geo": {
           "bgcolor": "white",
           "lakecolor": "white",
           "landcolor": "#E5ECF6",
           "showlakes": true,
           "showland": true,
           "subunitcolor": "white"
          },
          "hoverlabel": {
           "align": "left"
          },
          "hovermode": "closest",
          "mapbox": {
           "style": "light"
          },
          "paper_bgcolor": "white",
          "plot_bgcolor": "#E5ECF6",
          "polar": {
           "angularaxis": {
            "gridcolor": "white",
            "linecolor": "white",
            "ticks": ""
           },
           "bgcolor": "#E5ECF6",
           "radialaxis": {
            "gridcolor": "white",
            "linecolor": "white",
            "ticks": ""
           }
          },
          "scene": {
           "xaxis": {
            "backgroundcolor": "#E5ECF6",
            "gridcolor": "white",
            "gridwidth": 2,
            "linecolor": "white",
            "showbackground": true,
            "ticks": "",
            "zerolinecolor": "white"
           },
           "yaxis": {
            "backgroundcolor": "#E5ECF6",
            "gridcolor": "white",
            "gridwidth": 2,
            "linecolor": "white",
            "showbackground": true,
            "ticks": "",
            "zerolinecolor": "white"
           },
           "zaxis": {
            "backgroundcolor": "#E5ECF6",
            "gridcolor": "white",
            "gridwidth": 2,
            "linecolor": "white",
            "showbackground": true,
            "ticks": "",
            "zerolinecolor": "white"
           }
          },
          "shapedefaults": {
           "line": {
            "color": "#2a3f5f"
           }
          },
          "ternary": {
           "aaxis": {
            "gridcolor": "white",
            "linecolor": "white",
            "ticks": ""
           },
           "baxis": {
            "gridcolor": "white",
            "linecolor": "white",
            "ticks": ""
           },
           "bgcolor": "#E5ECF6",
           "caxis": {
            "gridcolor": "white",
            "linecolor": "white",
            "ticks": ""
           }
          },
          "title": {
           "x": 0.05
          },
          "xaxis": {
           "automargin": true,
           "gridcolor": "white",
           "linecolor": "white",
           "ticks": "",
           "title": {
            "standoff": 15
           },
           "zerolinecolor": "white",
           "zerolinewidth": 2
          },
          "yaxis": {
           "automargin": true,
           "gridcolor": "white",
           "linecolor": "white",
           "ticks": "",
           "title": {
            "standoff": 15
           },
           "zerolinecolor": "white",
           "zerolinewidth": 2
          }
         }
        },
        "title": {
         "text": "Two Similar Time Series"
        },
        "xaxis": {
         "title": {
          "text": "t"
         }
        },
        "yaxis": {
         "title": {
          "text": "Value"
         }
        }
       }
      }
     },
     "metadata": {},
     "output_type": "display_data"
    }
   ],
   "source": [
    "plot_time_series_plotly(t, series1, series2, 'Two Similar Time Series')"
   ]
  },
  {
   "cell_type": "markdown",
   "id": "9437af0d",
   "metadata": {},
   "source": [
    "### Euclidean Distance\n",
    "The Euclidean distance is the most straightforward similarity measure. It calculates the straight-line distance between two points.\n",
    "For time series data, this means comparing the values at each time point directly.\n",
    "\n",
    "Having two time series $X = (x_1, x_2, \\ldots, x_n)$ and $Y = (y_1, y_2, \\ldots, y_n)$ of equal length $n$, the Euclidean distance $d$ between them is calculated as:\n",
    "$$d(X, Y) = \\sqrt{\\sum_{i=1}^{n} (x_i - y_i)^2}$$"
   ]
  },
  {
   "cell_type": "code",
   "execution_count": 55,
   "id": "a03ab4fc",
   "metadata": {},
   "outputs": [],
   "source": [
    "#| code-fold: true\n",
    "\n",
    "def plot_euclidean_distance(series1, series2, t):\n",
    "    fig = go.Figure()\n",
    "    fig.add_trace(go.Scatter(x=t, y=series1, mode='lines+markers', name='Series 1'))\n",
    "    fig.add_trace(go.Scatter(x=t, y=series2, mode='lines+markers', name='Series 2'))\n",
    "\n",
    "    # Draw lines showing the Euclidean distance at each point (every 5th for clarity)\n",
    "    for i, v in enumerate(t):\n",
    "        fig.add_trace(go.Scatter(\n",
    "            x=[v, v],\n",
    "            y=[series1[i], series2[i]],\n",
    "            mode='lines',\n",
    "            line=dict(color='gray', dash='dash', width=1),\n",
    "            showlegend=False\n",
    "        ))\n",
    "\n",
    "    fig.update_layout(\n",
    "        title='Euclidean Distance Visualization Between Series 1 and Series 2',\n",
    "        xaxis_title='t',\n",
    "        yaxis_title='Value'\n",
    "    )\n",
    "    \n",
    "    return fig"
   ]
  },
  {
   "cell_type": "code",
   "execution_count": 71,
   "id": "59d6afaf",
   "metadata": {},
   "outputs": [
    {
     "data": {
      "application/vnd.plotly.v1+json": {
       "config": {
        "plotlyServerURL": "https://plot.ly"
       },
       "data": [
        {
         "mode": "lines+markers",
         "name": "Series 1",
         "type": "scatter",
         "x": {
          "bdata": "AAAAAAAAAACIxvrQWB/aP4jG+tBYH+o/5hS8nIKX8z+IxvrQWB/6PxW8nIKXUwBA5hS8nIKXA0C3bdu2bdsGQIjG+tBYHwpAWR8a60NjDUAVvJyCl1MQQH5orA+N9RFA5hS8nIKXE0BOwcspeDkVQLdt27Zt2xZAIBrrQ2N9GECIxvrQWB8aQPByCl5OwRtAWR8a60NjHUDCyyl4OQUfQBW8nIKXUyBASZIkSZIkIUB+aKwPjfUhQLI+NNaHxiJA5hS8nIKXI0Aa60NjfWgkQE7Byyl4OSVAg5dT8HIKJkC3bdu2bdsmQOtDY31orCdAIBrrQ2N9KEBU8HIKXk4pQIjG+tBYHypAvJyCl1PwKkDwcgpeTsErQCVJkiRJkixAWR8a60NjLUCN9aGxPjQuQMLLKXg5BS9A9qGxPjTWL0AVvJyCl1MwQC+n4OUUvDBASZIkSZIkMUBjfWisD40xQH5orA+N9TFAmFPwcgpeMkCyPjTWh8YyQMwpeDkFLzNA5hS8nIKXM0AAAAAAAAA0QA==",
          "dtype": "f8"
         },
         "y": {
          "bdata": "EKctqWD79z+3wy+Db5r6P8I7gpijSvs/IdU/8/YY+j/4t4UJ/T32P3i8yJStt/E/4azlTyRU6j/EUqh4zsfcP4aV3MjlvMA/YVrk2cxWoL/H0MEv9gLAv8b9WqsEOLe/sszuXsg6or8lMYcxmgzPP/cdpVpZauE//LZQhzBD6z9iT9/lT9byP3/MVpVfmvY/96Qg/gya+D93y9BqPp/5PzArEb5aW/k//m9dzK3i9T9j5h+sudPxP0UWzNSVs+g/n2+Ddc1B3T9IXA6Vi6HDP9lPr9fdtLC/68JGuuLsyL8mpd/PKDLMv/JIbW0o3rC/VLEUWdG4wz8Jppv307bZP2tC1LPE2Og/GTtaGwZy8T84JIlMKy31PxPS3ILAU/g/BsxdhNUZ+D97vW3mlYD3PxlgV2b/i/U/TDiYWyN38T9wwbwxvB3nPxywhNHqDtk/BKuMoizGtz+rHVZoAdrCv4r0rLHeSdK/nn3rTKTXzL/tA0rT2NDHv4DF6MFj3a8/hKSRHPyM1j/KYVX2e27jPw==",
          "dtype": "f8"
         }
        },
        {
         "mode": "lines+markers",
         "name": "Series 2",
         "type": "scatter",
         "x": {
          "bdata": "AAAAAAAAAACIxvrQWB/aP4jG+tBYH+o/5hS8nIKX8z+IxvrQWB/6PxW8nIKXUwBA5hS8nIKXA0C3bdu2bdsGQIjG+tBYHwpAWR8a60NjDUAVvJyCl1MQQH5orA+N9RFA5hS8nIKXE0BOwcspeDkVQLdt27Zt2xZAIBrrQ2N9GECIxvrQWB8aQPByCl5OwRtAWR8a60NjHUDCyyl4OQUfQBW8nIKXUyBASZIkSZIkIUB+aKwPjfUhQLI+NNaHxiJA5hS8nIKXI0Aa60NjfWgkQE7Byyl4OSVAg5dT8HIKJkC3bdu2bdsmQOtDY31orCdAIBrrQ2N9KEBU8HIKXk4pQIjG+tBYHypAvJyCl1PwKkDwcgpeTsErQCVJkiRJkixAWR8a60NjLUCN9aGxPjQuQMLLKXg5BS9A9qGxPjTWL0AVvJyCl1MwQC+n4OUUvDBASZIkSZIkMUBjfWisD40xQH5orA+N9TFAmFPwcgpeMkCyPjTWh8YyQMwpeDkFLzNA5hS8nIKXM0AAAAAAAAA0QA==",
          "dtype": "f8"
         },
         "y": {
          "bdata": "LL5YALetwr8S4wNFBG3UPwM0gT62Lus/tpWinhUm5z9WEhVZ077uP3/1ji87I+8/7IHkWYec1D+oIFPZXMHSPxhbw6KSOsC/GO9pOBCJ5r+yN0Itgmfsv1CzuDXJe/O/LtPSo+nq8b8Bjgkf+ELovzdxT3RQlNm/ba4LYu5y1z/JuINtAmbYP6fx/yH9nOw/CmWgF3PW5T9rbG8ikHrxP1dVPDh2UuE/e0fuLZ/Qyj+KyZYbAqfJP1dHrpKlN96/CORoPZ++679moChC2fPtv3FAEZyHv+6/JQmHou3B6L8CigGCCmrfv3GBWCJsQ8G/C0Np/Es31T86uIdDDB7kP9KkB/HZ6+w/nKewoiS68j91WXYEbgPtPwsTO/DjPuY/ffMJGjG/yD/IGUNvxJ6XP2Rh0z4P49i/+AWG5f6q678KSk1bhqDxv8XQCUZHoe6/xHwCKAkJ5b+liyJ/hjjPvydM5W8vIrw/eFaX6WqY4T+HubiaAWfqPwGITGCO6uw/MF4EavEe7T9U9QG+qlPrPw==",
          "dtype": "f8"
         }
        },
        {
         "line": {
          "color": "gray",
          "dash": "dash",
          "width": 1
         },
         "mode": "lines",
         "showlegend": false,
         "type": "scatter",
         "x": [
          0,
          0
         ],
         "y": [
          1.498871479847768,
          -0.1459263564770351
         ]
        },
        {
         "line": {
          "color": "gray",
          "dash": "dash",
          "width": 1
         },
         "mode": "lines",
         "showlegend": false,
         "type": "scatter",
         "x": [
          0.40816326530612246,
          0.40816326530612246
         ],
         "y": [
          1.6627040028072153,
          0.31915384998096485
         ]
        },
        {
         "line": {
          "color": "gray",
          "dash": "dash",
          "width": 1
         },
         "mode": "lines",
         "showlegend": false,
         "type": "scatter",
         "x": [
          0.8163265306122449,
          0.8163265306122449
         ],
         "y": [
          1.7057224233028454,
          0.849452135161869
         ]
        },
        {
         "line": {
          "color": "gray",
          "dash": "dash",
          "width": 1
         },
         "mode": "lines",
         "showlegend": false,
         "type": "scatter",
         "x": [
          1.2244897959183674,
          1.2244897959183674
         ],
         "y": [
          1.631094885056264,
          0.723398980936216
         ]
        },
        {
         "line": {
          "color": "gray",
          "dash": "dash",
          "width": 1
         },
         "mode": "lines",
         "showlegend": false,
         "type": "scatter",
         "x": [
          1.6326530612244898,
          1.6326530612244898
         ],
         "y": [
          1.3901338932005256,
          0.9607941379441154
         ]
        },
        {
         "line": {
          "color": "gray",
          "dash": "dash",
          "width": 1
         },
         "mode": "lines",
         "showlegend": false,
         "type": "scatter",
         "x": [
          2.0408163265306123,
          2.0408163265306123
         ],
         "y": [
          1.1073432742957987,
          0.9730506829143194
         ]
        },
        {
         "line": {
          "color": "gray",
          "dash": "dash",
          "width": 1
         },
         "mode": "lines",
         "showlegend": false,
         "type": "scatter",
         "x": [
          2.4489795918367347,
          2.4489795918367347
         ],
         "y": [
          0.8227712212077699,
          0.3220537546021933
         ]
        },
        {
         "line": {
          "color": "gray",
          "dash": "dash",
          "width": 1
         },
         "mode": "lines",
         "showlegend": false,
         "type": "scatter",
         "x": [
          2.857142857142857,
          2.857142857142857
         ],
         "y": [
          0.4496952226921105,
          0.29305192206494235
         ]
        },
        {
         "line": {
          "color": "gray",
          "dash": "dash",
          "width": 1
         },
         "mode": "lines",
         "showlegend": false,
         "type": "scatter",
         "x": [
          3.2653061224489797,
          3.2653061224489797
         ],
         "y": [
          0.1307646971483047,
          -0.12678749988000315
         ]
        },
        {
         "line": {
          "color": "gray",
          "dash": "dash",
          "width": 1
         },
         "mode": "lines",
         "showlegend": false,
         "type": "scatter",
         "x": [
          3.673469387755102,
          3.673469387755102
         ],
         "y": [
          -0.03191223296942237,
          -0.7042313672859306
         ]
        },
        {
         "line": {
          "color": "gray",
          "dash": "dash",
          "width": 1
         },
         "mode": "lines",
         "showlegend": false,
         "type": "scatter",
         "x": [
          4.081632653061225,
          4.081632653061225
         ],
         "y": [
          -0.1250903828801084,
          -0.8876353153188943
         ]
        },
        {
         "line": {
          "color": "gray",
          "dash": "dash",
          "width": 1
         },
         "mode": "lines",
         "showlegend": false,
         "type": "scatter",
         "x": [
          4.4897959183673475,
          4.4897959183673475
         ],
         "y": [
          -0.09069852050287527,
          -1.2177211855407286
         ]
        },
        {
         "line": {
          "color": "gray",
          "dash": "dash",
          "width": 1
         },
         "mode": "lines",
         "showlegend": false,
         "type": "scatter",
         "x": [
          4.8979591836734695,
          4.8979591836734695
         ],
         "y": [
          -0.03560472639892377,
          -1.1198517226559477
         ]
        },
        {
         "line": {
          "color": "gray",
          "dash": "dash",
          "width": 1
         },
         "mode": "lines",
         "showlegend": false,
         "type": "scatter",
         "x": [
          5.3061224489795915,
          5.3061224489795915
         ],
         "y": [
          0.24257209223140666,
          -0.7581749540517536
         ]
        },
        {
         "line": {
          "color": "gray",
          "dash": "dash",
          "width": 1
         },
         "mode": "lines",
         "showlegend": false,
         "type": "scatter",
         "x": [
          5.714285714285714,
          5.714285714285714
         ],
         "y": [
          0.5442320604715282,
          -0.399677384933756
         ]
        },
        {
         "line": {
          "color": "gray",
          "dash": "dash",
          "width": 1
         },
         "mode": "lines",
         "showlegend": false,
         "type": "scatter",
         "x": [
          6.122448979591837,
          6.122448979591837
         ],
         "y": [
          0.8519518511654662,
          0.366389842746435
         ]
        },
        {
         "line": {
          "color": "gray",
          "dash": "dash",
          "width": 1
         },
         "mode": "lines",
         "showlegend": false,
         "type": "scatter",
         "x": [
          6.530612244897959,
          6.530612244897959
         ],
         "y": [
          1.177322290362064,
          0.38122616476802
         ]
        },
        {
         "line": {
          "color": "gray",
          "dash": "dash",
          "width": 1
         },
         "mode": "lines",
         "showlegend": false,
         "type": "scatter",
         "x": [
          6.938775510204081,
          6.938775510204081
         ],
         "y": [
          1.412688811641402,
          0.8941636718805527
         ]
        },
        {
         "line": {
          "color": "gray",
          "dash": "dash",
          "width": 1
         },
         "mode": "lines",
         "showlegend": false,
         "type": "scatter",
         "x": [
          7.346938775510204,
          7.346938775510204
         ],
         "y": [
          1.5376100470405711,
          0.6824279271560567
         ]
        },
        {
         "line": {
          "color": "gray",
          "dash": "dash",
          "width": 1
         },
         "mode": "lines",
         "showlegend": false,
         "type": "scatter",
         "x": [
          7.755102040816327,
          7.755102040816327
         ],
         "y": [
          1.6013778851017528,
          1.092422613632858
         ]
        },
        {
         "line": {
          "color": "gray",
          "dash": "dash",
          "width": 1
         },
         "mode": "lines",
         "showlegend": false,
         "type": "scatter",
         "x": [
          8.16326530612245,
          8.16326530612245
         ],
         "y": [
          1.5848033356184708,
          0.5413161371567793
         ]
        },
        {
         "line": {
          "color": "gray",
          "dash": "dash",
          "width": 1
         },
         "mode": "lines",
         "showlegend": false,
         "type": "scatter",
         "x": [
          8.571428571428571,
          8.571428571428571
         ],
         "y": [
          1.3678415282256533,
          0.20949163191522388
         ]
        },
        {
         "line": {
          "color": "gray",
          "dash": "dash",
          "width": 1
         },
         "mode": "lines",
         "showlegend": false,
         "type": "scatter",
         "x": [
          8.979591836734695,
          8.979591836734695
         ],
         "y": [
          1.1141907428376718,
          0.2004091868125893
         ]
        },
        {
         "line": {
          "color": "gray",
          "dash": "dash",
          "width": 1
         },
         "mode": "lines",
         "showlegend": false,
         "type": "scatter",
         "x": [
          9.387755102040817,
          9.387755102040817
         ],
         "y": [
          0.7719220310397722,
          -0.47214640926641976
         ]
        },
        {
         "line": {
          "color": "gray",
          "dash": "dash",
          "width": 1
         },
         "mode": "lines",
         "showlegend": false,
         "type": "scatter",
         "x": [
          9.795918367346939,
          9.795918367346939
         ],
         "y": [
          0.4571412704078685,
          -0.867019290867689
         ]
        },
        {
         "line": {
          "color": "gray",
          "dash": "dash",
          "width": 1
         },
         "mode": "lines",
         "showlegend": false,
         "type": "scatter",
         "x": [
          10.204081632653061,
          10.204081632653061
         ],
         "y": [
          0.15336746957902592,
          -0.936016682831007
         ]
        },
        {
         "line": {
          "color": "gray",
          "dash": "dash",
          "width": 1
         },
         "mode": "lines",
         "showlegend": false,
         "type": "scatter",
         "x": [
          10.612244897959183,
          10.612244897959183
         ],
         "y": [
          -0.065259804875779,
          -0.9608800934020235
         ]
        },
        {
         "line": {
          "color": "gray",
          "dash": "dash",
          "width": 1
         },
         "mode": "lines",
         "showlegend": false,
         "type": "scatter",
         "x": [
          11.020408163265307,
          11.020408163265307
         ],
         "y": [
          -0.19472917647865215,
          -0.7736728834500225
         ]
        },
        {
         "line": {
          "color": "gray",
          "dash": "dash",
          "width": 1
         },
         "mode": "lines",
         "showlegend": false,
         "type": "scatter",
         "x": [
          11.428571428571429,
          11.428571428571429
         ],
         "y": [
          -0.2202807440765266,
          -0.4908472318258249
         ]
        },
        {
         "line": {
          "color": "gray",
          "dash": "dash",
          "width": 1
         },
         "mode": "lines",
         "showlegend": false,
         "type": "scatter",
         "x": [
          11.83673469387755,
          11.83673469387755
         ],
         "y": [
          -0.06588986083560025,
          -0.13487006833112106
         ]
        },
        {
         "line": {
          "color": "gray",
          "dash": "dash",
          "width": 1
         },
         "mode": "lines",
         "showlegend": false,
         "type": "scatter",
         "x": [
          12.244897959183675,
          12.244897959183675
         ],
         "y": [
          0.15407769059801046,
          0.33150005006341193
         ]
        },
        {
         "line": {
          "color": "gray",
          "dash": "dash",
          "width": 1
         },
         "mode": "lines",
         "showlegend": false,
         "type": "scatter",
         "x": [
          12.653061224489797,
          12.653061224489797
         ],
         "y": [
          0.4017839353606126,
          0.6286679572056137
         ]
        },
        {
         "line": {
          "color": "gray",
          "dash": "dash",
          "width": 1
         },
         "mode": "lines",
         "showlegend": false,
         "type": "scatter",
         "x": [
          13.061224489795919,
          13.061224489795919
         ],
         "y": [
          0.7764609825408803,
          0.9037904460539272
         ]
        },
        {
         "line": {
          "color": "gray",
          "dash": "dash",
          "width": 1
         },
         "mode": "lines",
         "showlegend": false,
         "type": "scatter",
         "x": [
          13.46938775510204,
          13.46938775510204
         ],
         "y": [
          1.0903378551917682,
          1.1704450945930835
         ]
        },
        {
         "line": {
          "color": "gray",
          "dash": "dash",
          "width": 1
         },
         "mode": "lines",
         "showlegend": false,
         "type": "scatter",
         "x": [
          13.877551020408163,
          13.877551020408163
         ],
         "y": [
          1.3235276212383393,
          0.9066686713365885
         ]
        },
        {
         "line": {
          "color": "gray",
          "dash": "dash",
          "width": 1
         },
         "mode": "lines",
         "showlegend": false,
         "type": "scatter",
         "x": [
          14.285714285714286,
          14.285714285714286
         ],
         "y": [
          1.5204472648448515,
          0.6951770488745707
         ]
        },
        {
         "line": {
          "color": "gray",
          "dash": "dash",
          "width": 1
         },
         "mode": "lines",
         "showlegend": false,
         "type": "scatter",
         "x": [
          14.693877551020408,
          14.693877551020408
         ],
         "y": [
          1.5063071413576394,
          0.19333471080235745
         ]
        },
        {
         "line": {
          "color": "gray",
          "dash": "dash",
          "width": 1
         },
         "mode": "lines",
         "showlegend": false,
         "type": "scatter",
         "x": [
          15.10204081632653,
          15.10204081632653
         ],
         "y": [
          1.4688929558868427,
          0.02306658677187004
         ]
        },
        {
         "line": {
          "color": "gray",
          "dash": "dash",
          "width": 1
         },
         "mode": "lines",
         "showlegend": false,
         "type": "scatter",
         "x": [
          15.510204081632654,
          15.510204081632654
         ],
         "y": [
          1.3466791150767732,
          -0.3888586152584337
         ]
        },
        {
         "line": {
          "color": "gray",
          "dash": "dash",
          "width": 1
         },
         "mode": "lines",
         "showlegend": false,
         "type": "scatter",
         "x": [
          15.918367346938776,
          15.918367346938776
         ],
         "y": [
          1.0915864541925826,
          -0.8646234972840707
         ]
        },
        {
         "line": {
          "color": "gray",
          "dash": "dash",
          "width": 1
         },
         "mode": "lines",
         "showlegend": false,
         "type": "scatter",
         "x": [
          16.3265306122449,
          16.3265306122449
         ],
         "y": [
          0.7223797770912324,
          -1.1016906324845217
         ]
        },
        {
         "line": {
          "color": "gray",
          "dash": "dash",
          "width": 1
         },
         "mode": "lines",
         "showlegend": false,
         "type": "scatter",
         "x": [
          16.73469387755102,
          16.73469387755102
         ],
         "y": [
          0.3915354772641437,
          -0.9571873062073101
         ]
        },
        {
         "line": {
          "color": "gray",
          "dash": "dash",
          "width": 1
         },
         "mode": "lines",
         "showlegend": false,
         "type": "scatter",
         "x": [
          17.142857142857142,
          17.142857142857142
         ],
         "y": [
          0.09286765068524622,
          -0.6573529988708278
         ]
        },
        {
         "line": {
          "color": "gray",
          "dash": "dash",
          "width": 1
         },
         "mode": "lines",
         "showlegend": false,
         "type": "scatter",
         "x": [
          17.551020408163264,
          17.551020408163264
         ],
         "y": [
          -0.14727799982595732,
          -0.24391251762162117
         ]
        },
        {
         "line": {
          "color": "gray",
          "dash": "dash",
          "width": 1
         },
         "mode": "lines",
         "showlegend": false,
         "type": "scatter",
         "x": [
          17.95918367346939,
          17.95918367346939
         ],
         "y": [
          -0.2857586608041137,
          0.10989662629917572
         ]
        },
        {
         "line": {
          "color": "gray",
          "dash": "dash",
          "width": 1
         },
         "mode": "lines",
         "showlegend": false,
         "type": "scatter",
         "x": [
          18.367346938775512,
          18.367346938775512
         ],
         "y": [
          -0.22533086543897424,
          0.5498556673362165
         ]
        },
        {
         "line": {
          "color": "gray",
          "dash": "dash",
          "width": 1
         },
         "mode": "lines",
         "showlegend": false,
         "type": "scatter",
         "x": [
          18.775510204081634,
          18.775510204081634
         ],
         "y": [
          -0.1860610038457077,
          0.8250740072160604
         ]
        },
        {
         "line": {
          "color": "gray",
          "dash": "dash",
          "width": 1
         },
         "mode": "lines",
         "showlegend": false,
         "type": "scatter",
         "x": [
          19.183673469387756,
          19.183673469387756
         ],
         "y": [
          0.06223594419533196,
          0.9036323433722374
         ]
        },
        {
         "line": {
          "color": "gray",
          "dash": "dash",
          "width": 1
         },
         "mode": "lines",
         "showlegend": false,
         "type": "scatter",
         "x": [
          19.591836734693878,
          19.591836734693878
         ],
         "y": [
          0.3523550299638105,
          0.9100272246022936
         ]
        },
        {
         "line": {
          "color": "gray",
          "dash": "dash",
          "width": 1
         },
         "mode": "lines",
         "showlegend": false,
         "type": "scatter",
         "x": [
          20,
          20
         ],
         "y": [
          0.6072368441774014,
          0.8539632521712215
         ]
        }
       ],
       "layout": {
        "template": {
         "data": {
          "bar": [
           {
            "error_x": {
             "color": "#2a3f5f"
            },
            "error_y": {
             "color": "#2a3f5f"
            },
            "marker": {
             "line": {
              "color": "#E5ECF6",
              "width": 0.5
             },
             "pattern": {
              "fillmode": "overlay",
              "size": 10,
              "solidity": 0.2
             }
            },
            "type": "bar"
           }
          ],
          "barpolar": [
           {
            "marker": {
             "line": {
              "color": "#E5ECF6",
              "width": 0.5
             },
             "pattern": {
              "fillmode": "overlay",
              "size": 10,
              "solidity": 0.2
             }
            },
            "type": "barpolar"
           }
          ],
          "carpet": [
           {
            "aaxis": {
             "endlinecolor": "#2a3f5f",
             "gridcolor": "white",
             "linecolor": "white",
             "minorgridcolor": "white",
             "startlinecolor": "#2a3f5f"
            },
            "baxis": {
             "endlinecolor": "#2a3f5f",
             "gridcolor": "white",
             "linecolor": "white",
             "minorgridcolor": "white",
             "startlinecolor": "#2a3f5f"
            },
            "type": "carpet"
           }
          ],
          "choropleth": [
           {
            "colorbar": {
             "outlinewidth": 0,
             "ticks": ""
            },
            "type": "choropleth"
           }
          ],
          "contour": [
           {
            "colorbar": {
             "outlinewidth": 0,
             "ticks": ""
            },
            "colorscale": [
             [
              0,
              "#0d0887"
             ],
             [
              0.1111111111111111,
              "#46039f"
             ],
             [
              0.2222222222222222,
              "#7201a8"
             ],
             [
              0.3333333333333333,
              "#9c179e"
             ],
             [
              0.4444444444444444,
              "#bd3786"
             ],
             [
              0.5555555555555556,
              "#d8576b"
             ],
             [
              0.6666666666666666,
              "#ed7953"
             ],
             [
              0.7777777777777778,
              "#fb9f3a"
             ],
             [
              0.8888888888888888,
              "#fdca26"
             ],
             [
              1,
              "#f0f921"
             ]
            ],
            "type": "contour"
           }
          ],
          "contourcarpet": [
           {
            "colorbar": {
             "outlinewidth": 0,
             "ticks": ""
            },
            "type": "contourcarpet"
           }
          ],
          "heatmap": [
           {
            "colorbar": {
             "outlinewidth": 0,
             "ticks": ""
            },
            "colorscale": [
             [
              0,
              "#0d0887"
             ],
             [
              0.1111111111111111,
              "#46039f"
             ],
             [
              0.2222222222222222,
              "#7201a8"
             ],
             [
              0.3333333333333333,
              "#9c179e"
             ],
             [
              0.4444444444444444,
              "#bd3786"
             ],
             [
              0.5555555555555556,
              "#d8576b"
             ],
             [
              0.6666666666666666,
              "#ed7953"
             ],
             [
              0.7777777777777778,
              "#fb9f3a"
             ],
             [
              0.8888888888888888,
              "#fdca26"
             ],
             [
              1,
              "#f0f921"
             ]
            ],
            "type": "heatmap"
           }
          ],
          "histogram": [
           {
            "marker": {
             "pattern": {
              "fillmode": "overlay",
              "size": 10,
              "solidity": 0.2
             }
            },
            "type": "histogram"
           }
          ],
          "histogram2d": [
           {
            "colorbar": {
             "outlinewidth": 0,
             "ticks": ""
            },
            "colorscale": [
             [
              0,
              "#0d0887"
             ],
             [
              0.1111111111111111,
              "#46039f"
             ],
             [
              0.2222222222222222,
              "#7201a8"
             ],
             [
              0.3333333333333333,
              "#9c179e"
             ],
             [
              0.4444444444444444,
              "#bd3786"
             ],
             [
              0.5555555555555556,
              "#d8576b"
             ],
             [
              0.6666666666666666,
              "#ed7953"
             ],
             [
              0.7777777777777778,
              "#fb9f3a"
             ],
             [
              0.8888888888888888,
              "#fdca26"
             ],
             [
              1,
              "#f0f921"
             ]
            ],
            "type": "histogram2d"
           }
          ],
          "histogram2dcontour": [
           {
            "colorbar": {
             "outlinewidth": 0,
             "ticks": ""
            },
            "colorscale": [
             [
              0,
              "#0d0887"
             ],
             [
              0.1111111111111111,
              "#46039f"
             ],
             [
              0.2222222222222222,
              "#7201a8"
             ],
             [
              0.3333333333333333,
              "#9c179e"
             ],
             [
              0.4444444444444444,
              "#bd3786"
             ],
             [
              0.5555555555555556,
              "#d8576b"
             ],
             [
              0.6666666666666666,
              "#ed7953"
             ],
             [
              0.7777777777777778,
              "#fb9f3a"
             ],
             [
              0.8888888888888888,
              "#fdca26"
             ],
             [
              1,
              "#f0f921"
             ]
            ],
            "type": "histogram2dcontour"
           }
          ],
          "mesh3d": [
           {
            "colorbar": {
             "outlinewidth": 0,
             "ticks": ""
            },
            "type": "mesh3d"
           }
          ],
          "parcoords": [
           {
            "line": {
             "colorbar": {
              "outlinewidth": 0,
              "ticks": ""
             }
            },
            "type": "parcoords"
           }
          ],
          "pie": [
           {
            "automargin": true,
            "type": "pie"
           }
          ],
          "scatter": [
           {
            "fillpattern": {
             "fillmode": "overlay",
             "size": 10,
             "solidity": 0.2
            },
            "type": "scatter"
           }
          ],
          "scatter3d": [
           {
            "line": {
             "colorbar": {
              "outlinewidth": 0,
              "ticks": ""
             }
            },
            "marker": {
             "colorbar": {
              "outlinewidth": 0,
              "ticks": ""
             }
            },
            "type": "scatter3d"
           }
          ],
          "scattercarpet": [
           {
            "marker": {
             "colorbar": {
              "outlinewidth": 0,
              "ticks": ""
             }
            },
            "type": "scattercarpet"
           }
          ],
          "scattergeo": [
           {
            "marker": {
             "colorbar": {
              "outlinewidth": 0,
              "ticks": ""
             }
            },
            "type": "scattergeo"
           }
          ],
          "scattergl": [
           {
            "marker": {
             "colorbar": {
              "outlinewidth": 0,
              "ticks": ""
             }
            },
            "type": "scattergl"
           }
          ],
          "scattermap": [
           {
            "marker": {
             "colorbar": {
              "outlinewidth": 0,
              "ticks": ""
             }
            },
            "type": "scattermap"
           }
          ],
          "scattermapbox": [
           {
            "marker": {
             "colorbar": {
              "outlinewidth": 0,
              "ticks": ""
             }
            },
            "type": "scattermapbox"
           }
          ],
          "scatterpolar": [
           {
            "marker": {
             "colorbar": {
              "outlinewidth": 0,
              "ticks": ""
             }
            },
            "type": "scatterpolar"
           }
          ],
          "scatterpolargl": [
           {
            "marker": {
             "colorbar": {
              "outlinewidth": 0,
              "ticks": ""
             }
            },
            "type": "scatterpolargl"
           }
          ],
          "scatterternary": [
           {
            "marker": {
             "colorbar": {
              "outlinewidth": 0,
              "ticks": ""
             }
            },
            "type": "scatterternary"
           }
          ],
          "surface": [
           {
            "colorbar": {
             "outlinewidth": 0,
             "ticks": ""
            },
            "colorscale": [
             [
              0,
              "#0d0887"
             ],
             [
              0.1111111111111111,
              "#46039f"
             ],
             [
              0.2222222222222222,
              "#7201a8"
             ],
             [
              0.3333333333333333,
              "#9c179e"
             ],
             [
              0.4444444444444444,
              "#bd3786"
             ],
             [
              0.5555555555555556,
              "#d8576b"
             ],
             [
              0.6666666666666666,
              "#ed7953"
             ],
             [
              0.7777777777777778,
              "#fb9f3a"
             ],
             [
              0.8888888888888888,
              "#fdca26"
             ],
             [
              1,
              "#f0f921"
             ]
            ],
            "type": "surface"
           }
          ],
          "table": [
           {
            "cells": {
             "fill": {
              "color": "#EBF0F8"
             },
             "line": {
              "color": "white"
             }
            },
            "header": {
             "fill": {
              "color": "#C8D4E3"
             },
             "line": {
              "color": "white"
             }
            },
            "type": "table"
           }
          ]
         },
         "layout": {
          "annotationdefaults": {
           "arrowcolor": "#2a3f5f",
           "arrowhead": 0,
           "arrowwidth": 1
          },
          "autotypenumbers": "strict",
          "coloraxis": {
           "colorbar": {
            "outlinewidth": 0,
            "ticks": ""
           }
          },
          "colorscale": {
           "diverging": [
            [
             0,
             "#8e0152"
            ],
            [
             0.1,
             "#c51b7d"
            ],
            [
             0.2,
             "#de77ae"
            ],
            [
             0.3,
             "#f1b6da"
            ],
            [
             0.4,
             "#fde0ef"
            ],
            [
             0.5,
             "#f7f7f7"
            ],
            [
             0.6,
             "#e6f5d0"
            ],
            [
             0.7,
             "#b8e186"
            ],
            [
             0.8,
             "#7fbc41"
            ],
            [
             0.9,
             "#4d9221"
            ],
            [
             1,
             "#276419"
            ]
           ],
           "sequential": [
            [
             0,
             "#0d0887"
            ],
            [
             0.1111111111111111,
             "#46039f"
            ],
            [
             0.2222222222222222,
             "#7201a8"
            ],
            [
             0.3333333333333333,
             "#9c179e"
            ],
            [
             0.4444444444444444,
             "#bd3786"
            ],
            [
             0.5555555555555556,
             "#d8576b"
            ],
            [
             0.6666666666666666,
             "#ed7953"
            ],
            [
             0.7777777777777778,
             "#fb9f3a"
            ],
            [
             0.8888888888888888,
             "#fdca26"
            ],
            [
             1,
             "#f0f921"
            ]
           ],
           "sequentialminus": [
            [
             0,
             "#0d0887"
            ],
            [
             0.1111111111111111,
             "#46039f"
            ],
            [
             0.2222222222222222,
             "#7201a8"
            ],
            [
             0.3333333333333333,
             "#9c179e"
            ],
            [
             0.4444444444444444,
             "#bd3786"
            ],
            [
             0.5555555555555556,
             "#d8576b"
            ],
            [
             0.6666666666666666,
             "#ed7953"
            ],
            [
             0.7777777777777778,
             "#fb9f3a"
            ],
            [
             0.8888888888888888,
             "#fdca26"
            ],
            [
             1,
             "#f0f921"
            ]
           ]
          },
          "colorway": [
           "#636efa",
           "#EF553B",
           "#00cc96",
           "#ab63fa",
           "#FFA15A",
           "#19d3f3",
           "#FF6692",
           "#B6E880",
           "#FF97FF",
           "#FECB52"
          ],
          "font": {
           "color": "#2a3f5f"
          },
          "geo": {
           "bgcolor": "white",
           "lakecolor": "white",
           "landcolor": "#E5ECF6",
           "showlakes": true,
           "showland": true,
           "subunitcolor": "white"
          },
          "hoverlabel": {
           "align": "left"
          },
          "hovermode": "closest",
          "mapbox": {
           "style": "light"
          },
          "paper_bgcolor": "white",
          "plot_bgcolor": "#E5ECF6",
          "polar": {
           "angularaxis": {
            "gridcolor": "white",
            "linecolor": "white",
            "ticks": ""
           },
           "bgcolor": "#E5ECF6",
           "radialaxis": {
            "gridcolor": "white",
            "linecolor": "white",
            "ticks": ""
           }
          },
          "scene": {
           "xaxis": {
            "backgroundcolor": "#E5ECF6",
            "gridcolor": "white",
            "gridwidth": 2,
            "linecolor": "white",
            "showbackground": true,
            "ticks": "",
            "zerolinecolor": "white"
           },
           "yaxis": {
            "backgroundcolor": "#E5ECF6",
            "gridcolor": "white",
            "gridwidth": 2,
            "linecolor": "white",
            "showbackground": true,
            "ticks": "",
            "zerolinecolor": "white"
           },
           "zaxis": {
            "backgroundcolor": "#E5ECF6",
            "gridcolor": "white",
            "gridwidth": 2,
            "linecolor": "white",
            "showbackground": true,
            "ticks": "",
            "zerolinecolor": "white"
           }
          },
          "shapedefaults": {
           "line": {
            "color": "#2a3f5f"
           }
          },
          "ternary": {
           "aaxis": {
            "gridcolor": "white",
            "linecolor": "white",
            "ticks": ""
           },
           "baxis": {
            "gridcolor": "white",
            "linecolor": "white",
            "ticks": ""
           },
           "bgcolor": "#E5ECF6",
           "caxis": {
            "gridcolor": "white",
            "linecolor": "white",
            "ticks": ""
           }
          },
          "title": {
           "x": 0.05
          },
          "xaxis": {
           "automargin": true,
           "gridcolor": "white",
           "linecolor": "white",
           "ticks": "",
           "title": {
            "standoff": 15
           },
           "zerolinecolor": "white",
           "zerolinewidth": 2
          },
          "yaxis": {
           "automargin": true,
           "gridcolor": "white",
           "linecolor": "white",
           "ticks": "",
           "title": {
            "standoff": 15
           },
           "zerolinecolor": "white",
           "zerolinewidth": 2
          }
         }
        },
        "title": {
         "text": "Euclidean Distance Visualization Between Series 1 and Series 2"
        },
        "xaxis": {
         "title": {
          "text": "t"
         }
        },
        "yaxis": {
         "title": {
          "text": "Value"
         }
        }
       }
      }
     },
     "metadata": {},
     "output_type": "display_data"
    }
   ],
   "source": [
    "plot_euclidean_distance(series1, series2, t)"
   ]
  },
  {
   "cell_type": "code",
   "execution_count": 72,
   "id": "24cadbf2",
   "metadata": {},
   "outputs": [
    {
     "name": "stdout",
     "output_type": "stream",
     "text": [
      "Euclidean Distance: 6.58\n"
     ]
    }
   ],
   "source": [
    "def euclidean_distance(series1, series2):\n",
    "    return np.sqrt(np.sum((series1 - series2) ** 2))\n",
    "\n",
    "d_euclidean = euclidean_distance(series1, series2)\n",
    "print(f'Euclidean Distance: {d_euclidean:.2f}')"
   ]
  },
  {
   "cell_type": "markdown",
   "id": "37af38bd",
   "metadata": {},
   "source": [
    "### Dynamic Time Warping\n",
    "**Dynamic Time Warping (DTW)** is a more advanced similarity measure that accounts for shifts and distortions in the time axis.\n",
    "It finds the optimal alignment between two time series by warping the time dimension, allowing for comparisons even when the series are out of phase or have different lengths."
   ]
  },
  {
   "cell_type": "code",
   "execution_count": 58,
   "id": "c92baf92",
   "metadata": {},
   "outputs": [
    {
     "name": "stdout",
     "output_type": "stream",
     "text": [
      "Dynamic Time Warping Distance: 21.10\n"
     ]
    }
   ],
   "source": [
    "from scipy.spatial.distance import cdist\n",
    "\n",
    "def dtw_distance(s1, s2):\n",
    "    n, m = len(s1), len(s2)\n",
    "\n",
    "    # initializing cost matrix\n",
    "    cost = np.full((n + 1, m + 1), np.inf)\n",
    "    cost[0, 0] = 0\n",
    "\n",
    "    for i in range(1, n + 1):\n",
    "        for j in range(1, m + 1):\n",
    "            dist = abs(s1[i - 1] - s2[j - 1])\n",
    "            cost[i, j] = dist + min(cost[i - 1, j],     # insertion\n",
    "                                    cost[i, j - 1],     # deletion\n",
    "                                    cost[i - 1, j - 1]) # match\n",
    "            \n",
    "    # backtracking path (just for visualization)\n",
    "    path = []\n",
    "\n",
    "    i, j = n, m\n",
    "    \n",
    "    while i > 0 and j > 0:\n",
    "        path.append((i - 1, j - 1))\n",
    "        steps = [(i - 1, j), (i, j - 1), (i - 1, j - 1)]\n",
    "        costs = [cost[s] if s[0] >= 0 and s[1] >= 0 else np.inf for s in steps]\n",
    "        min_step = steps[np.argmin(costs)]\n",
    "        i, j = min_step\n",
    "\n",
    "    path = path[::-1]\n",
    "\n",
    "    return cost[n, m], path\n",
    "\n",
    "d_dtw, path = dtw_distance(series1, series2)\n",
    "\n",
    "print(f'Dynamic Time Warping Distance: {d_dtw:.2f}')"
   ]
  },
  {
   "cell_type": "markdown",
   "id": "baaa0776",
   "metadata": {},
   "source": [
    "Note that this DTW implementation is using a very naive approach computing the full cost matrix.\n",
    "Many different variants exist that are more efficient and/or add constraints to the warping path.\n",
    "@lahreche2021 provides a good overview."
   ]
  },
  {
   "cell_type": "code",
   "execution_count": null,
   "id": "8b80bf30",
   "metadata": {},
   "outputs": [
    {
     "data": {
      "application/vnd.plotly.v1+json": {
       "config": {
        "plotlyServerURL": "https://plot.ly"
       },
       "data": [
        {
         "mode": "lines+markers",
         "name": "Series 1",
         "type": "scatter",
         "x": {
          "bdata": "AAAAAAAAAACIxvrQWB/aP4jG+tBYH+o/5hS8nIKX8z+IxvrQWB/6PxW8nIKXUwBA5hS8nIKXA0C3bdu2bdsGQIjG+tBYHwpAWR8a60NjDUAVvJyCl1MQQH5orA+N9RFA5hS8nIKXE0BOwcspeDkVQLdt27Zt2xZAIBrrQ2N9GECIxvrQWB8aQPByCl5OwRtAWR8a60NjHUDCyyl4OQUfQBW8nIKXUyBASZIkSZIkIUB+aKwPjfUhQLI+NNaHxiJA5hS8nIKXI0Aa60NjfWgkQE7Byyl4OSVAg5dT8HIKJkC3bdu2bdsmQOtDY31orCdAIBrrQ2N9KEBU8HIKXk4pQIjG+tBYHypAvJyCl1PwKkDwcgpeTsErQCVJkiRJkixAWR8a60NjLUCN9aGxPjQuQMLLKXg5BS9A9qGxPjTWL0AVvJyCl1MwQC+n4OUUvDBASZIkSZIkMUBjfWisD40xQH5orA+N9TFAmFPwcgpeMkCyPjTWh8YyQMwpeDkFLzNA5hS8nIKXM0AAAAAAAAA0QA==",
          "dtype": "f8"
         },
         "y": {
          "bdata": "BNJ8VMuS+D/isNTQSqT6P4QUXV/Knvo/gxTgLobH+T+hLb78lh/2PypTz5TfhPI/SkbtxvOz6j+gI0hZPHbfP3/W+CZYecU/TM3VgBfCh7/gJSBmP0Ouv5sOJbDId8G/nL84PUtlrz9Ugt9yhdrQP/xClh+g1eA/pmE/ApyI6z/8soGFBnPzP1cuO/zHavY/sK0v7DgY+T/nTPzYS6/5P2yVrVxK/Pg/bOlQDlyu9T8uxl91BdzxP2xmL5uQ5+g/AZpgYwwd3j9ULeRz903DPyh26XvJGJG/UmAh+J6fyL9Up7+jA/TLv+K2n/ej47m/5+pAnbvAvD8KsaGtt7LXP1iZ8pT6fuY/kNc597hV8T9ybmPG5Ab0P7o0wURpzfc/MimZ+lwB+D/qSjfAhTr3P2MSUOy7OPU/igZva8OA8T8urE6vC47oPyTEeIHaCtc/xAoclYxWuz+aKL5KIILDv5eHWgCl8M6/hEAYmkjh0L+azyhQf+vEv7yHIdHK26s/cgjpnGkg1T8G794BRUbjPw==",
          "dtype": "f8"
         }
        },
        {
         "mode": "lines+markers",
         "name": "Series 2",
         "type": "scatter",
         "x": {
          "bdata": "AAAAAAAAAACIxvrQWB/aP4jG+tBYH+o/5hS8nIKX8z+IxvrQWB/6PxW8nIKXUwBA5hS8nIKXA0C3bdu2bdsGQIjG+tBYHwpAWR8a60NjDUAVvJyCl1MQQH5orA+N9RFA5hS8nIKXE0BOwcspeDkVQLdt27Zt2xZAIBrrQ2N9GECIxvrQWB8aQPByCl5OwRtAWR8a60NjHUDCyyl4OQUfQBW8nIKXUyBASZIkSZIkIUB+aKwPjfUhQLI+NNaHxiJA5hS8nIKXI0Aa60NjfWgkQE7Byyl4OSVAg5dT8HIKJkC3bdu2bdsmQOtDY31orCdAIBrrQ2N9KEBU8HIKXk4pQIjG+tBYHypAvJyCl1PwKkDwcgpeTsErQCVJkiRJkixAWR8a60NjLUCN9aGxPjQuQMLLKXg5BS9A9qGxPjTWL0AVvJyCl1MwQC+n4OUUvDBASZIkSZIkMUBjfWisD40xQH5orA+N9TFAmFPwcgpeMkCyPjTWh8YyQMwpeDkFLzNA5hS8nIKXM0AAAAAAAAA0QA==",
          "dtype": "f8"
         },
         "y": {
          "bdata": "AdN2BVYE0D/O8uaYuwrPP+VP25YSvO0/cICA6saF7j+JMoB0W03wP7sKB4r3o+Q/TwMyXizj4z82tzvWaHzDP/rhPqm1FtC/utZOLhlR4L9RSPCUoBzxv/EMnS7sQuy/zzOH349Y7b8lR8D0Or7Xv464Wv8XdMS/yJHenJ0kuz8gidSSwBbaP5M8hNOSePA/HthCjIUI9D8PzCAK0a3uP0zNFFKkJec/UoBWFq2Y6D+zyemeP/CyvxiUnbCMb+W/GZrxovJb5r+Kc3qGOqLpv5TW27iiDuu/2FqIEwxn8r/SbI2MMlrcv8xLisHSpNW/mK8wF8jtrb8tJAevbHDcP4jEKU2Peu4/skXH6/sx8T/yjnw8BXTwP27wdH0gx+I/6tY2oQAp1D+yQwjoYnqov0K16MlXque/QVWZY+Gm6b/RopopEPvvv8GTBbthnvC/Ueah97hT4L8N9c+kkP7Yv96P3s8pIKs/1hUvp2pe3D+KOSG6rxPlP12D8yAgBvE/lu7waZ5K6j9L3Rt5BFXoPw==",
          "dtype": "f8"
         }
        },
        {
         "line": {
          "color": "gray",
          "dash": "dot",
          "width": 1
         },
         "mode": "lines",
         "showlegend": false,
         "type": "scatter",
         "x": [
          0,
          0
         ],
         "y": [
          1.535838441876991,
          0.25026464971169565
         ]
        },
        {
         "line": {
          "color": "gray",
          "dash": "dot",
          "width": 1
         },
         "mode": "lines",
         "showlegend": false,
         "type": "scatter",
         "x": [
          0.40816326530612246,
          0.40816326530612246
         ],
         "y": [
          1.6651104123548568,
          0.24251503911900446
         ]
        },
        {
         "line": {
          "color": "gray",
          "dash": "dot",
          "width": 1
         },
         "mode": "lines",
         "showlegend": false,
         "type": "scatter",
         "x": [
          0.8163265306122449,
          0.8163265306122449
         ],
         "y": [
          1.6637672162189867,
          0.9292080828113255
         ]
        },
        {
         "line": {
          "color": "gray",
          "dash": "dot",
          "width": 1
         },
         "mode": "lines",
         "showlegend": false,
         "type": "scatter",
         "x": [
          1.2244897959183674,
          1.2244897959183674
         ],
         "y": [
          1.6112119513575471,
          0.9538302021137621
         ]
        },
        {
         "line": {
          "color": "gray",
          "dash": "dot",
          "width": 1
         },
         "mode": "lines",
         "showlegend": false,
         "type": "scatter",
         "x": [
          1.6326530612244898,
          1.6326530612244898
         ],
         "y": [
          1.3827123520630737,
          1.0188860464869853
         ]
        },
        {
         "line": {
          "color": "gray",
          "dash": "dot",
          "width": 1
         },
         "mode": "lines",
         "showlegend": false,
         "type": "scatter",
         "x": [
          2.0408163265306123,
          1.6326530612244898
         ],
         "y": [
          1.1574397862324965,
          1.0188860464869853
         ]
        },
        {
         "line": {
          "color": "gray",
          "dash": "dot",
          "width": 1
         },
         "mode": "lines",
         "showlegend": false,
         "type": "scatter",
         "x": [
          2.4489795918367347,
          2.0408163265306123
         ],
         "y": [
          0.8344668278970826,
          0.6450154968118434
         ]
        },
        {
         "line": {
          "color": "gray",
          "dash": "dot",
          "width": 1
         },
         "mode": "lines",
         "showlegend": false,
         "type": "scatter",
         "x": [
          2.857142857142857,
          2.4489795918367347
         ],
         "y": [
          0.49159153670239597,
          0.6214811172249969
         ]
        },
        {
         "line": {
          "color": "gray",
          "dash": "dot",
          "width": 1
         },
         "mode": "lines",
         "showlegend": false,
         "type": "scatter",
         "x": [
          3.2653061224489797,
          2.857142857142857
         ],
         "y": [
          0.16776563551836784,
          0.15223417721375093
         ]
        },
        {
         "line": {
          "color": "gray",
          "dash": "dot",
          "width": 1
         },
         "mode": "lines",
         "showlegend": false,
         "type": "scatter",
         "x": [
          3.673469387755102,
          3.2653061224489797
         ],
         "y": [
          -0.01160066949771612,
          -0.2513860848225985
         ]
        },
        {
         "line": {
          "color": "gray",
          "dash": "dot",
          "width": 1
         },
         "mode": "lines",
         "showlegend": false,
         "type": "scatter",
         "x": [
          4.081632653061225,
          3.673469387755102
         ],
         "y": [
          -0.059106808868886196,
          -0.5098997024967595
         ]
        },
        {
         "line": {
          "color": "gray",
          "dash": "dot",
          "width": 1
         },
         "mode": "lines",
         "showlegend": false,
         "type": "scatter",
         "x": [
          4.4897959183673475,
          4.081632653061225
         ],
         "y": [
          -0.1364680156785781,
          -1.0694890802301595
         ]
        },
        {
         "line": {
          "color": "gray",
          "dash": "dot",
          "width": 1
         },
         "mode": "lines",
         "showlegend": false,
         "type": "scatter",
         "x": [
          4.4897959183673475,
          4.4897959183673475
         ],
         "y": [
          -0.1364680156785781,
          -0.883169261018706
         ]
        },
        {
         "line": {
          "color": "gray",
          "dash": "dot",
          "width": 1
         },
         "mode": "lines",
         "showlegend": false,
         "type": "scatter",
         "x": [
          4.4897959183673475,
          4.8979591836734695
         ],
         "y": [
          -0.1364680156785781,
          -0.9170607915672181
         ]
        },
        {
         "line": {
          "color": "gray",
          "dash": "dot",
          "width": 1
         },
         "mode": "lines",
         "showlegend": false,
         "type": "scatter",
         "x": [
          4.4897959183673475,
          5.3061224489795915
         ],
         "y": [
          -0.1364680156785781,
          -0.37098573590729905
         ]
        },
        {
         "line": {
          "color": "gray",
          "dash": "dot",
          "width": 1
         },
         "mode": "lines",
         "showlegend": false,
         "type": "scatter",
         "x": [
          4.4897959183673475,
          5.714285714285714
         ],
         "y": [
          -0.1364680156785781,
          -0.15979289978480832
         ]
        },
        {
         "line": {
          "color": "gray",
          "dash": "dot",
          "width": 1
         },
         "mode": "lines",
         "showlegend": false,
         "type": "scatter",
         "x": [
          4.8979591836734695,
          6.122448979591837
         ],
         "y": [
          0.06131968614897618,
          0.10602746085948589
         ]
        },
        {
         "line": {
          "color": "gray",
          "dash": "dot",
          "width": 1
         },
         "mode": "lines",
         "showlegend": false,
         "type": "scatter",
         "x": [
          5.3061224489795915,
          6.530612244897959
         ],
         "y": [
          0.26333748071741536,
          0.40763868655098356
         ]
        },
        {
         "line": {
          "color": "gray",
          "dash": "dot",
          "width": 1
         },
         "mode": "lines",
         "showlegend": false,
         "type": "scatter",
         "x": [
          5.714285714285714,
          6.530612244897959
         ],
         "y": [
          0.5260773293431096,
          0.40763868655098356
         ]
        },
        {
         "line": {
          "color": "gray",
          "dash": "dot",
          "width": 1
         },
         "mode": "lines",
         "showlegend": false,
         "type": "scatter",
         "x": [
          6.122448979591837,
          6.938775510204081
         ],
         "y": [
          0.8604259532831307,
          1.0294368994107443
         ]
        },
        {
         "line": {
          "color": "gray",
          "dash": "dot",
          "width": 1
         },
         "mode": "lines",
         "showlegend": false,
         "type": "scatter",
         "x": [
          6.530612244897959,
          7.346938775510204
         ],
         "y": [
          1.2155823912718793,
          1.252080486197435
         ]
        },
        {
         "line": {
          "color": "gray",
          "dash": "dot",
          "width": 1
         },
         "mode": "lines",
         "showlegend": false,
         "type": "scatter",
         "x": [
          6.938775510204081,
          7.346938775510204
         ],
         "y": [
          1.4010696270733172,
          1.252080486197435
         ]
        },
        {
         "line": {
          "color": "gray",
          "dash": "dot",
          "width": 1
         },
         "mode": "lines",
         "showlegend": false,
         "type": "scatter",
         "x": [
          7.346938775510204,
          7.346938775510204
         ],
         "y": [
          1.5684136606240422,
          1.252080486197435
         ]
        },
        {
         "line": {
          "color": "gray",
          "dash": "dot",
          "width": 1
         },
         "mode": "lines",
         "showlegend": false,
         "type": "scatter",
         "x": [
          7.755102040816327,
          7.346938775510204
         ],
         "y": [
          1.605296943282889,
          1.252080486197435
         ]
        },
        {
         "line": {
          "color": "gray",
          "dash": "dot",
          "width": 1
         },
         "mode": "lines",
         "showlegend": false,
         "type": "scatter",
         "x": [
          8.16326530612245,
          7.346938775510204
         ],
         "y": [
          1.5615943546520965,
          1.252080486197435
         ]
        },
        {
         "line": {
          "color": "gray",
          "dash": "dot",
          "width": 1
         },
         "mode": "lines",
         "showlegend": false,
         "type": "scatter",
         "x": [
          8.571428571428571,
          7.346938775510204
         ],
         "y": [
          1.3550682601185953,
          1.252080486197435
         ]
        },
        {
         "line": {
          "color": "gray",
          "dash": "dot",
          "width": 1
         },
         "mode": "lines",
         "showlegend": false,
         "type": "scatter",
         "x": [
          8.979591836734695,
          7.755102040816327
         ],
         "y": [
          1.116216143124244,
          0.9587178418936463
         ]
        },
        {
         "line": {
          "color": "gray",
          "dash": "dot",
          "width": 1
         },
         "mode": "lines",
         "showlegend": false,
         "type": "scatter",
         "x": [
          9.387755102040817,
          8.16326530612245
         ],
         "y": [
          0.7782671957931604,
          0.7233449557447016
         ]
        },
        {
         "line": {
          "color": "gray",
          "dash": "dot",
          "width": 1
         },
         "mode": "lines",
         "showlegend": false,
         "type": "scatter",
         "x": [
          9.795918367346939,
          8.571428571428571
         ],
         "y": [
          0.4705229731065686,
          0.7686372219359419
         ]
        },
        {
         "line": {
          "color": "gray",
          "dash": "dot",
          "width": 1
         },
         "mode": "lines",
         "showlegend": false,
         "type": "scatter",
         "x": [
          10.204081632653061,
          8.979591836734695
         ],
         "y": [
          0.15081685217624374,
          -0.07397840146749139
         ]
        },
        {
         "line": {
          "color": "gray",
          "dash": "dot",
          "width": 1
         },
         "mode": "lines",
         "showlegend": false,
         "type": "scatter",
         "x": [
          10.612244897959183,
          8.979591836734695
         ],
         "y": [
          -0.016696117580400266,
          -0.07397840146749139
         ]
        },
        {
         "line": {
          "color": "gray",
          "dash": "dot",
          "width": 1
         },
         "mode": "lines",
         "showlegend": false,
         "type": "scatter",
         "x": [
          11.020408163265307,
          9.387755102040817
         ],
         "y": [
          -0.19237124553433432,
          -0.6698668908617291
         ]
        },
        {
         "line": {
          "color": "gray",
          "dash": "dot",
          "width": 1
         },
         "mode": "lines",
         "showlegend": false,
         "type": "scatter",
         "x": [
          11.428571428571429,
          9.795918367346939
         ],
         "y": [
          -0.2183842229417744,
          -0.6987240965361848
         ]
        },
        {
         "line": {
          "color": "gray",
          "dash": "dot",
          "width": 1
         },
         "mode": "lines",
         "showlegend": false,
         "type": "scatter",
         "x": [
          11.428571428571429,
          10.204081632653061
         ],
         "y": [
          -0.2183842229417744,
          -0.8010532976655764
         ]
        },
        {
         "line": {
          "color": "gray",
          "dash": "dot",
          "width": 1
         },
         "mode": "lines",
         "showlegend": false,
         "type": "scatter",
         "x": [
          11.428571428571429,
          10.612244897959183
         ],
         "y": [
          -0.2183842229417744,
          -0.8455365763208698
         ]
        },
        {
         "line": {
          "color": "gray",
          "dash": "dot",
          "width": 1
         },
         "mode": "lines",
         "showlegend": false,
         "type": "scatter",
         "x": [
          11.428571428571429,
          11.020408163265307
         ],
         "y": [
          -0.2183842229417744,
          -1.1501580012315369
         ]
        },
        {
         "line": {
          "color": "gray",
          "dash": "dot",
          "width": 1
         },
         "mode": "lines",
         "showlegend": false,
         "type": "scatter",
         "x": [
          11.428571428571429,
          11.428571428571429
         ],
         "y": [
          -0.2183842229417744,
          -0.44300521589111697
         ]
        },
        {
         "line": {
          "color": "gray",
          "dash": "dot",
          "width": 1
         },
         "mode": "lines",
         "showlegend": false,
         "type": "scatter",
         "x": [
          11.428571428571429,
          11.83673469387755
         ],
         "y": [
          -0.2183842229417744,
          -0.33818501377498644
         ]
        },
        {
         "line": {
          "color": "gray",
          "dash": "dot",
          "width": 1
         },
         "mode": "lines",
         "showlegend": false,
         "type": "scatter",
         "x": [
          11.83673469387755,
          12.244897959183675
         ],
         "y": [
          -0.10112976832871426,
          -0.05845475466807598
         ]
        },
        {
         "line": {
          "color": "gray",
          "dash": "dot",
          "width": 1
         },
         "mode": "lines",
         "showlegend": false,
         "type": "scatter",
         "x": [
          12.244897959183675,
          12.244897959183675
         ],
         "y": [
          0.11231587018202625,
          -0.05845475466807598
         ]
        },
        {
         "line": {
          "color": "gray",
          "dash": "dot",
          "width": 1
         },
         "mode": "lines",
         "showlegend": false,
         "type": "scatter",
         "x": [
          12.653061224489797,
          12.653061224489797
         ],
         "y": [
          0.37028305011951146,
          0.44436184971397347
         ]
        },
        {
         "line": {
          "color": "gray",
          "dash": "dot",
          "width": 1
         },
         "mode": "lines",
         "showlegend": false,
         "type": "scatter",
         "x": [
          13.061224489795919,
          13.061224489795919
         ],
         "y": [
          0.7030003461011729,
          0.9524609095661996
         ]
        },
        {
         "line": {
          "color": "gray",
          "dash": "dot",
          "width": 1
         },
         "mode": "lines",
         "showlegend": false,
         "type": "scatter",
         "x": [
          13.46938775510204,
          13.46938775510204
         ],
         "y": [
          1.083428350187635,
          1.074703141221431
         ]
        },
        {
         "line": {
          "color": "gray",
          "dash": "dot",
          "width": 1
         },
         "mode": "lines",
         "showlegend": false,
         "type": "scatter",
         "x": [
          13.877551020408163,
          13.46938775510204
         ],
         "y": [
          1.2516830205485374,
          1.074703141221431
         ]
        },
        {
         "line": {
          "color": "gray",
          "dash": "dot",
          "width": 1
         },
         "mode": "lines",
         "showlegend": false,
         "type": "scatter",
         "x": [
          14.285714285714286,
          13.46938775510204
         ],
         "y": [
          1.4876492200594797,
          1.074703141221431
         ]
        },
        {
         "line": {
          "color": "gray",
          "dash": "dot",
          "width": 1
         },
         "mode": "lines",
         "showlegend": false,
         "type": "scatter",
         "x": [
          14.693877551020408,
          13.46938775510204
         ],
         "y": [
          1.5003328122134687,
          1.074703141221431
         ]
        },
        {
         "line": {
          "color": "gray",
          "dash": "dot",
          "width": 1
         },
         "mode": "lines",
         "showlegend": false,
         "type": "scatter",
         "x": [
          15.10204081632653,
          13.46938775510204
         ],
         "y": [
          1.451787710994433,
          1.074703141221431
         ]
        },
        {
         "line": {
          "color": "gray",
          "dash": "dot",
          "width": 1
         },
         "mode": "lines",
         "showlegend": false,
         "type": "scatter",
         "x": [
          15.510204081632654,
          13.46938775510204
         ],
         "y": [
          1.3263510924308768,
          1.074703141221431
         ]
        },
        {
         "line": {
          "color": "gray",
          "dash": "dot",
          "width": 1
         },
         "mode": "lines",
         "showlegend": false,
         "type": "scatter",
         "x": [
          15.918367346938776,
          13.877551020408163
         ],
         "y": [
          1.0939363667133954,
          1.028325306201563
         ]
        },
        {
         "line": {
          "color": "gray",
          "dash": "dot",
          "width": 1
         },
         "mode": "lines",
         "showlegend": false,
         "type": "scatter",
         "x": [
          16.3265306122449,
          14.285714285714286
         ],
         "y": [
          0.7673395561190597,
          0.5868074846580507
         ]
        },
        {
         "line": {
          "color": "gray",
          "dash": "dot",
          "width": 1
         },
         "mode": "lines",
         "showlegend": false,
         "type": "scatter",
         "x": [
          16.73469387755102,
          14.693877551020408
         ],
         "y": [
          0.36003744739270105,
          0.3150025915486895
         ]
        },
        {
         "line": {
          "color": "gray",
          "dash": "dot",
          "width": 1
         },
         "mode": "lines",
         "showlegend": false,
         "type": "scatter",
         "x": [
          17.142857142857142,
          15.10204081632653
         ],
         "y": [
          0.10678938522691356,
          -0.04780873377251939
         ]
        },
        {
         "line": {
          "color": "gray",
          "dash": "dot",
          "width": 1
         },
         "mode": "lines",
         "showlegend": false,
         "type": "scatter",
         "x": [
          17.551020408163264,
          15.10204081632653
         ],
         "y": [
          -0.15240863465834736,
          -0.04780873377251939
         ]
        },
        {
         "line": {
          "color": "gray",
          "dash": "dot",
          "width": 1
         },
         "mode": "lines",
         "showlegend": false,
         "type": "scatter",
         "x": [
          17.95918367346939,
          15.510204081632654
         ],
         "y": [
          -0.24171888844744835,
          -0.7395438140426125
         ]
        },
        {
         "line": {
          "color": "gray",
          "dash": "dot",
          "width": 1
         },
         "mode": "lines",
         "showlegend": false,
         "type": "scatter",
         "x": [
          18.367346938775512,
          15.918367346938776
         ],
         "y": [
          -0.2637502198058501,
          -0.80162114575311
         ]
        },
        {
         "line": {
          "color": "gray",
          "dash": "dot",
          "width": 1
         },
         "mode": "lines",
         "showlegend": false,
         "type": "scatter",
         "x": [
          18.367346938775512,
          16.3265306122449
         ],
         "y": [
          -0.2637502198058501,
          -0.9993973553256074
         ]
        },
        {
         "line": {
          "color": "gray",
          "dash": "dot",
          "width": 1
         },
         "mode": "lines",
         "showlegend": false,
         "type": "scatter",
         "x": [
          18.367346938775512,
          16.73469387755102
         ],
         "y": [
          -0.2637502198058501,
          -1.0386674218691356
         ]
        },
        {
         "line": {
          "color": "gray",
          "dash": "dot",
          "width": 1
         },
         "mode": "lines",
         "showlegend": false,
         "type": "scatter",
         "x": [
          18.367346938775512,
          17.142857142857142
         ],
         "y": [
          -0.2637502198058501,
          -0.5102200352259364
         ]
        },
        {
         "line": {
          "color": "gray",
          "dash": "dot",
          "width": 1
         },
         "mode": "lines",
         "showlegend": false,
         "type": "scatter",
         "x": [
          18.775510204081634,
          17.551020408163264
         ],
         "y": [
          -0.1634368077662856,
          -0.39053741545633686
         ]
        },
        {
         "line": {
          "color": "gray",
          "dash": "dot",
          "width": 1
         },
         "mode": "lines",
         "showlegend": false,
         "type": "scatter",
         "x": [
          19.183673469387756,
          17.95918367346939
         ],
         "y": [
          0.0544112568175161,
          0.052979761719398985
         ]
        },
        {
         "line": {
          "color": "gray",
          "dash": "dot",
          "width": 1
         },
         "mode": "lines",
         "showlegend": false,
         "type": "scatter",
         "x": [
          19.591836734693878,
          18.367346938775512
         ],
         "y": [
          0.3301033050848964,
          0.44326273275905004
         ]
        },
        {
         "line": {
          "color": "gray",
          "dash": "dot",
          "width": 1
         },
         "mode": "lines",
         "showlegend": false,
         "type": "scatter",
         "x": [
          20,
          18.775510204081634
         ],
         "y": [
          0.6023278271236172,
          0.6586531291339253
         ]
        },
        {
         "line": {
          "color": "gray",
          "dash": "dot",
          "width": 1
         },
         "mode": "lines",
         "showlegend": false,
         "type": "scatter",
         "x": [
          20,
          19.183673469387756
         ],
         "y": [
          0.6023278271236172,
          1.063995484080997
         ]
        },
        {
         "line": {
          "color": "gray",
          "dash": "dot",
          "width": 1
         },
         "mode": "lines",
         "showlegend": false,
         "type": "scatter",
         "x": [
          20,
          19.591836734693878
         ],
         "y": [
          0.6023278271236172,
          0.8216087407267476
         ]
        },
        {
         "line": {
          "color": "gray",
          "dash": "dot",
          "width": 1
         },
         "mode": "lines",
         "showlegend": false,
         "type": "scatter",
         "x": [
          20,
          20
         ],
         "y": [
          0.6023278271236172,
          0.7603781094939362
         ]
        }
       ],
       "layout": {
        "template": {
         "data": {
          "bar": [
           {
            "error_x": {
             "color": "#2a3f5f"
            },
            "error_y": {
             "color": "#2a3f5f"
            },
            "marker": {
             "line": {
              "color": "#E5ECF6",
              "width": 0.5
             },
             "pattern": {
              "fillmode": "overlay",
              "size": 10,
              "solidity": 0.2
             }
            },
            "type": "bar"
           }
          ],
          "barpolar": [
           {
            "marker": {
             "line": {
              "color": "#E5ECF6",
              "width": 0.5
             },
             "pattern": {
              "fillmode": "overlay",
              "size": 10,
              "solidity": 0.2
             }
            },
            "type": "barpolar"
           }
          ],
          "carpet": [
           {
            "aaxis": {
             "endlinecolor": "#2a3f5f",
             "gridcolor": "white",
             "linecolor": "white",
             "minorgridcolor": "white",
             "startlinecolor": "#2a3f5f"
            },
            "baxis": {
             "endlinecolor": "#2a3f5f",
             "gridcolor": "white",
             "linecolor": "white",
             "minorgridcolor": "white",
             "startlinecolor": "#2a3f5f"
            },
            "type": "carpet"
           }
          ],
          "choropleth": [
           {
            "colorbar": {
             "outlinewidth": 0,
             "ticks": ""
            },
            "type": "choropleth"
           }
          ],
          "contour": [
           {
            "colorbar": {
             "outlinewidth": 0,
             "ticks": ""
            },
            "colorscale": [
             [
              0,
              "#0d0887"
             ],
             [
              0.1111111111111111,
              "#46039f"
             ],
             [
              0.2222222222222222,
              "#7201a8"
             ],
             [
              0.3333333333333333,
              "#9c179e"
             ],
             [
              0.4444444444444444,
              "#bd3786"
             ],
             [
              0.5555555555555556,
              "#d8576b"
             ],
             [
              0.6666666666666666,
              "#ed7953"
             ],
             [
              0.7777777777777778,
              "#fb9f3a"
             ],
             [
              0.8888888888888888,
              "#fdca26"
             ],
             [
              1,
              "#f0f921"
             ]
            ],
            "type": "contour"
           }
          ],
          "contourcarpet": [
           {
            "colorbar": {
             "outlinewidth": 0,
             "ticks": ""
            },
            "type": "contourcarpet"
           }
          ],
          "heatmap": [
           {
            "colorbar": {
             "outlinewidth": 0,
             "ticks": ""
            },
            "colorscale": [
             [
              0,
              "#0d0887"
             ],
             [
              0.1111111111111111,
              "#46039f"
             ],
             [
              0.2222222222222222,
              "#7201a8"
             ],
             [
              0.3333333333333333,
              "#9c179e"
             ],
             [
              0.4444444444444444,
              "#bd3786"
             ],
             [
              0.5555555555555556,
              "#d8576b"
             ],
             [
              0.6666666666666666,
              "#ed7953"
             ],
             [
              0.7777777777777778,
              "#fb9f3a"
             ],
             [
              0.8888888888888888,
              "#fdca26"
             ],
             [
              1,
              "#f0f921"
             ]
            ],
            "type": "heatmap"
           }
          ],
          "histogram": [
           {
            "marker": {
             "pattern": {
              "fillmode": "overlay",
              "size": 10,
              "solidity": 0.2
             }
            },
            "type": "histogram"
           }
          ],
          "histogram2d": [
           {
            "colorbar": {
             "outlinewidth": 0,
             "ticks": ""
            },
            "colorscale": [
             [
              0,
              "#0d0887"
             ],
             [
              0.1111111111111111,
              "#46039f"
             ],
             [
              0.2222222222222222,
              "#7201a8"
             ],
             [
              0.3333333333333333,
              "#9c179e"
             ],
             [
              0.4444444444444444,
              "#bd3786"
             ],
             [
              0.5555555555555556,
              "#d8576b"
             ],
             [
              0.6666666666666666,
              "#ed7953"
             ],
             [
              0.7777777777777778,
              "#fb9f3a"
             ],
             [
              0.8888888888888888,
              "#fdca26"
             ],
             [
              1,
              "#f0f921"
             ]
            ],
            "type": "histogram2d"
           }
          ],
          "histogram2dcontour": [
           {
            "colorbar": {
             "outlinewidth": 0,
             "ticks": ""
            },
            "colorscale": [
             [
              0,
              "#0d0887"
             ],
             [
              0.1111111111111111,
              "#46039f"
             ],
             [
              0.2222222222222222,
              "#7201a8"
             ],
             [
              0.3333333333333333,
              "#9c179e"
             ],
             [
              0.4444444444444444,
              "#bd3786"
             ],
             [
              0.5555555555555556,
              "#d8576b"
             ],
             [
              0.6666666666666666,
              "#ed7953"
             ],
             [
              0.7777777777777778,
              "#fb9f3a"
             ],
             [
              0.8888888888888888,
              "#fdca26"
             ],
             [
              1,
              "#f0f921"
             ]
            ],
            "type": "histogram2dcontour"
           }
          ],
          "mesh3d": [
           {
            "colorbar": {
             "outlinewidth": 0,
             "ticks": ""
            },
            "type": "mesh3d"
           }
          ],
          "parcoords": [
           {
            "line": {
             "colorbar": {
              "outlinewidth": 0,
              "ticks": ""
             }
            },
            "type": "parcoords"
           }
          ],
          "pie": [
           {
            "automargin": true,
            "type": "pie"
           }
          ],
          "scatter": [
           {
            "fillpattern": {
             "fillmode": "overlay",
             "size": 10,
             "solidity": 0.2
            },
            "type": "scatter"
           }
          ],
          "scatter3d": [
           {
            "line": {
             "colorbar": {
              "outlinewidth": 0,
              "ticks": ""
             }
            },
            "marker": {
             "colorbar": {
              "outlinewidth": 0,
              "ticks": ""
             }
            },
            "type": "scatter3d"
           }
          ],
          "scattercarpet": [
           {
            "marker": {
             "colorbar": {
              "outlinewidth": 0,
              "ticks": ""
             }
            },
            "type": "scattercarpet"
           }
          ],
          "scattergeo": [
           {
            "marker": {
             "colorbar": {
              "outlinewidth": 0,
              "ticks": ""
             }
            },
            "type": "scattergeo"
           }
          ],
          "scattergl": [
           {
            "marker": {
             "colorbar": {
              "outlinewidth": 0,
              "ticks": ""
             }
            },
            "type": "scattergl"
           }
          ],
          "scattermap": [
           {
            "marker": {
             "colorbar": {
              "outlinewidth": 0,
              "ticks": ""
             }
            },
            "type": "scattermap"
           }
          ],
          "scattermapbox": [
           {
            "marker": {
             "colorbar": {
              "outlinewidth": 0,
              "ticks": ""
             }
            },
            "type": "scattermapbox"
           }
          ],
          "scatterpolar": [
           {
            "marker": {
             "colorbar": {
              "outlinewidth": 0,
              "ticks": ""
             }
            },
            "type": "scatterpolar"
           }
          ],
          "scatterpolargl": [
           {
            "marker": {
             "colorbar": {
              "outlinewidth": 0,
              "ticks": ""
             }
            },
            "type": "scatterpolargl"
           }
          ],
          "scatterternary": [
           {
            "marker": {
             "colorbar": {
              "outlinewidth": 0,
              "ticks": ""
             }
            },
            "type": "scatterternary"
           }
          ],
          "surface": [
           {
            "colorbar": {
             "outlinewidth": 0,
             "ticks": ""
            },
            "colorscale": [
             [
              0,
              "#0d0887"
             ],
             [
              0.1111111111111111,
              "#46039f"
             ],
             [
              0.2222222222222222,
              "#7201a8"
             ],
             [
              0.3333333333333333,
              "#9c179e"
             ],
             [
              0.4444444444444444,
              "#bd3786"
             ],
             [
              0.5555555555555556,
              "#d8576b"
             ],
             [
              0.6666666666666666,
              "#ed7953"
             ],
             [
              0.7777777777777778,
              "#fb9f3a"
             ],
             [
              0.8888888888888888,
              "#fdca26"
             ],
             [
              1,
              "#f0f921"
             ]
            ],
            "type": "surface"
           }
          ],
          "table": [
           {
            "cells": {
             "fill": {
              "color": "#EBF0F8"
             },
             "line": {
              "color": "white"
             }
            },
            "header": {
             "fill": {
              "color": "#C8D4E3"
             },
             "line": {
              "color": "white"
             }
            },
            "type": "table"
           }
          ]
         },
         "layout": {
          "annotationdefaults": {
           "arrowcolor": "#2a3f5f",
           "arrowhead": 0,
           "arrowwidth": 1
          },
          "autotypenumbers": "strict",
          "coloraxis": {
           "colorbar": {
            "outlinewidth": 0,
            "ticks": ""
           }
          },
          "colorscale": {
           "diverging": [
            [
             0,
             "#8e0152"
            ],
            [
             0.1,
             "#c51b7d"
            ],
            [
             0.2,
             "#de77ae"
            ],
            [
             0.3,
             "#f1b6da"
            ],
            [
             0.4,
             "#fde0ef"
            ],
            [
             0.5,
             "#f7f7f7"
            ],
            [
             0.6,
             "#e6f5d0"
            ],
            [
             0.7,
             "#b8e186"
            ],
            [
             0.8,
             "#7fbc41"
            ],
            [
             0.9,
             "#4d9221"
            ],
            [
             1,
             "#276419"
            ]
           ],
           "sequential": [
            [
             0,
             "#0d0887"
            ],
            [
             0.1111111111111111,
             "#46039f"
            ],
            [
             0.2222222222222222,
             "#7201a8"
            ],
            [
             0.3333333333333333,
             "#9c179e"
            ],
            [
             0.4444444444444444,
             "#bd3786"
            ],
            [
             0.5555555555555556,
             "#d8576b"
            ],
            [
             0.6666666666666666,
             "#ed7953"
            ],
            [
             0.7777777777777778,
             "#fb9f3a"
            ],
            [
             0.8888888888888888,
             "#fdca26"
            ],
            [
             1,
             "#f0f921"
            ]
           ],
           "sequentialminus": [
            [
             0,
             "#0d0887"
            ],
            [
             0.1111111111111111,
             "#46039f"
            ],
            [
             0.2222222222222222,
             "#7201a8"
            ],
            [
             0.3333333333333333,
             "#9c179e"
            ],
            [
             0.4444444444444444,
             "#bd3786"
            ],
            [
             0.5555555555555556,
             "#d8576b"
            ],
            [
             0.6666666666666666,
             "#ed7953"
            ],
            [
             0.7777777777777778,
             "#fb9f3a"
            ],
            [
             0.8888888888888888,
             "#fdca26"
            ],
            [
             1,
             "#f0f921"
            ]
           ]
          },
          "colorway": [
           "#636efa",
           "#EF553B",
           "#00cc96",
           "#ab63fa",
           "#FFA15A",
           "#19d3f3",
           "#FF6692",
           "#B6E880",
           "#FF97FF",
           "#FECB52"
          ],
          "font": {
           "color": "#2a3f5f"
          },
          "geo": {
           "bgcolor": "white",
           "lakecolor": "white",
           "landcolor": "#E5ECF6",
           "showlakes": true,
           "showland": true,
           "subunitcolor": "white"
          },
          "hoverlabel": {
           "align": "left"
          },
          "hovermode": "closest",
          "mapbox": {
           "style": "light"
          },
          "paper_bgcolor": "white",
          "plot_bgcolor": "#E5ECF6",
          "polar": {
           "angularaxis": {
            "gridcolor": "white",
            "linecolor": "white",
            "ticks": ""
           },
           "bgcolor": "#E5ECF6",
           "radialaxis": {
            "gridcolor": "white",
            "linecolor": "white",
            "ticks": ""
           }
          },
          "scene": {
           "xaxis": {
            "backgroundcolor": "#E5ECF6",
            "gridcolor": "white",
            "gridwidth": 2,
            "linecolor": "white",
            "showbackground": true,
            "ticks": "",
            "zerolinecolor": "white"
           },
           "yaxis": {
            "backgroundcolor": "#E5ECF6",
            "gridcolor": "white",
            "gridwidth": 2,
            "linecolor": "white",
            "showbackground": true,
            "ticks": "",
            "zerolinecolor": "white"
           },
           "zaxis": {
            "backgroundcolor": "#E5ECF6",
            "gridcolor": "white",
            "gridwidth": 2,
            "linecolor": "white",
            "showbackground": true,
            "ticks": "",
            "zerolinecolor": "white"
           }
          },
          "shapedefaults": {
           "line": {
            "color": "#2a3f5f"
           }
          },
          "ternary": {
           "aaxis": {
            "gridcolor": "white",
            "linecolor": "white",
            "ticks": ""
           },
           "baxis": {
            "gridcolor": "white",
            "linecolor": "white",
            "ticks": ""
           },
           "bgcolor": "#E5ECF6",
           "caxis": {
            "gridcolor": "white",
            "linecolor": "white",
            "ticks": ""
           }
          },
          "title": {
           "x": 0.05
          },
          "xaxis": {
           "automargin": true,
           "gridcolor": "white",
           "linecolor": "white",
           "ticks": "",
           "title": {
            "standoff": 15
           },
           "zerolinecolor": "white",
           "zerolinewidth": 2
          },
          "yaxis": {
           "automargin": true,
           "gridcolor": "white",
           "linecolor": "white",
           "ticks": "",
           "title": {
            "standoff": 15
           },
           "zerolinecolor": "white",
           "zerolinewidth": 2
          }
         }
        },
        "title": {
         "text": "Dynamic Time Warping Alignment Between Series 1 and Series 2"
        },
        "xaxis": {
         "title": {
          "text": "t"
         }
        },
        "yaxis": {
         "title": {
          "text": "Value"
         }
        }
       }
      }
     },
     "metadata": {},
     "output_type": "display_data"
    }
   ],
   "source": [
    "def plot_dtw_alignment(s1, s2, t, path):\n",
    "    fig = go.Figure()\n",
    "    fig.add_trace(go.Scatter(x=t, y=s1, mode='lines+markers', name='Series 1'))\n",
    "    fig.add_trace(go.Scatter(x=t, y=s2, mode='lines+markers', name='Series 2'))\n",
    "\n",
    "    # Draw alignment lines\n",
    "    for (i, j) in path:\n",
    "        fig.add_trace(go.Scatter(\n",
    "            x=[t[i], t[j]],\n",
    "            y=[s1[i], s2[j]],\n",
    "            mode='lines',\n",
    "            line=dict(color='gray', width=1, dash='dot'),\n",
    "            showlegend=False\n",
    "        ))\n",
    "\n",
    "    fig.update_layout(\n",
    "        title='Dynamic Time Warping Alignment Between Series 1 and Series 2',\n",
    "        xaxis_title='t',\n",
    "        yaxis_title='Value'\n",
    "    )\n",
    "    return fig\n",
    "\n",
    "\n",
    "plot_dtw_alignment(series1, series2, t, path)"
   ]
  },
  {
   "cell_type": "markdown",
   "id": "448b2f4c",
   "metadata": {},
   "source": [
    "### Preprocessing\n",
    "In the previous plots we observe that noise, outliers and positioning of the time series can have a significant impact on the similarity measures.\n",
    "To mitigate these effects, we can apply various preprocessing techniques such as:\n",
    "- **Smoothing**: Applying filters (e.g., moving average, Gaussian) to reducce noise.\n",
    "- **Normalization**: Scaling the time series to a common range to ensure that differences in amplitude do not dominate the similarity measure.\n",
    "- **Detrending**: Removing trends to focus on the fluctuations around a mean level.\n",
    "\n",
    "Note that the applied preprocessing techniques should be chosen based on the specific characteristics of the data and the analysis goals.\n",
    "\n",
    "Here, we first smooth the time series using a simple moving average filter.\n",
    "This can easily be realized by convolution with a specific kernel (a vector consisting of equal weights summing to 1, where the length of the vector is equal to the desired window size)."
   ]
  },
  {
   "cell_type": "code",
   "execution_count": 60,
   "id": "f4746829",
   "metadata": {},
   "outputs": [],
   "source": [
    "def moving_average(series, window_size=3):\n",
    "    kernel = np.ones(window_size) / window_size\n",
    "    return np.convolve(series, kernel, mode='same')\n",
    "\n",
    "series1_smooth = moving_average(series1)\n",
    "series2_smooth = moving_average(series2)"
   ]
  },
  {
   "cell_type": "code",
   "execution_count": 67,
   "id": "0ee0dfac",
   "metadata": {},
   "outputs": [
    {
     "data": {
      "application/vnd.plotly.v1+json": {
       "config": {
        "plotlyServerURL": "https://plot.ly"
       },
       "data": [
        {
         "mode": "lines+markers",
         "name": "Series 1",
         "type": "scatter",
         "x": {
          "bdata": "AAAAAAAAAACIxvrQWB/aP4jG+tBYH+o/5hS8nIKX8z+IxvrQWB/6PxW8nIKXUwBA5hS8nIKXA0C3bdu2bdsGQIjG+tBYHwpAWR8a60NjDUAVvJyCl1MQQH5orA+N9RFA5hS8nIKXE0BOwcspeDkVQLdt27Zt2xZAIBrrQ2N9GECIxvrQWB8aQPByCl5OwRtAWR8a60NjHUDCyyl4OQUfQBW8nIKXUyBASZIkSZIkIUB+aKwPjfUhQLI+NNaHxiJA5hS8nIKXI0Aa60NjfWgkQE7Byyl4OSVAg5dT8HIKJkC3bdu2bdsmQOtDY31orCdAIBrrQ2N9KEBU8HIKXk4pQIjG+tBYHypAvJyCl1PwKkDwcgpeTsErQCVJkiRJkixAWR8a60NjLUCN9aGxPjQuQMLLKXg5BS9A9qGxPjTWL0AVvJyCl1MwQC+n4OUUvDBASZIkSZIkMUBjfWisD40xQH5orA+N9TFAmFPwcgpeMkCyPjTWh8YyQMwpeDkFLzNA5hS8nIKXM0AAAAAAAAA0QA==",
          "dtype": "f8"
         },
         "y": {
          "bdata": "oisbt1wS8T/Oh4+B9fH5P07zBXXeWPo/jsdTLk3X+D/EMc/q/iP2P/oLrNF6//E/JKq6CZt96j97XopTRd7fP/jq03U6o8s/mJWEHImQoD/wTXxW0a2xvzrg002y6aa/o25FAw4PsD/ACpEIJSbSP+4hF0kqmeE/M66duW3B6z8MhknWXovyPwCF+XkCUvY/pA3NlRlm+D9WhUgLRUH5P+pD/mv7Hfg/AhfKSjmC9T/wIBibuFTxP0IVNT0LOuk/1Sk7cbjb3T8vZg1ZUszJPwhaRt8B4pO/JBLKQ+k8wr9c9jrdJtfFvzZen+BPrrG/sv5bD6lGwD/RtEfq80rZP/4KvchCAec/5DCyAgk08D+U03SrV2P0Px9EP1eOnPY/Rzjb/8Ot9z8qgrU3itH2P0ghUl2spvQ/ASUiZSwA8T8cCaOXqrHnP7tfdKwxVNo/YEPWAZLUuj80x7FV/4S4v2gQw3/HEcy/EkiRgTyKzL8hn2A1ac+/vybCS2mE3bI/J13uqHkN1T9/94w1UeTTPw==",
          "dtype": "f8"
         }
        },
        {
         "mode": "lines+markers",
         "name": "Series 2",
         "type": "scatter",
         "x": {
          "bdata": "AAAAAAAAAACIxvrQWB/aP4jG+tBYH+o/5hS8nIKX8z+IxvrQWB/6PxW8nIKXUwBA5hS8nIKXA0C3bdu2bdsGQIjG+tBYHwpAWR8a60NjDUAVvJyCl1MQQH5orA+N9RFA5hS8nIKXE0BOwcspeDkVQLdt27Zt2xZAIBrrQ2N9GECIxvrQWB8aQPByCl5OwRtAWR8a60NjHUDCyyl4OQUfQBW8nIKXUyBASZIkSZIkIUB+aKwPjfUhQLI+NNaHxiJA5hS8nIKXI0Aa60NjfWgkQE7Byyl4OSVAg5dT8HIKJkC3bdu2bdsmQOtDY31orCdAIBrrQ2N9KEBU8HIKXk4pQIjG+tBYHypAvJyCl1PwKkDwcgpeTsErQCVJkiRJkixAWR8a60NjLUCN9aGxPjQuQMLLKXg5BS9A9qGxPjTWL0AVvJyCl1MwQC+n4OUUvDBASZIkSZIkMUBjfWisD40xQH5orA+N9TFAmFPwcgpeMkCyPjTWh8YyQMwpeDkFLzNA5hS8nIKXM0AAAAAAAAA0QA==",
          "dtype": "f8"
         },
         "y": {
          "bdata": "mt1G4XcGxT+7TuD/8lXeP1iE3HctrOY/zRF0IzD07j8UUC0fJ+zrPwnRvUWeYOg/Ov0vaSlE3j/WqixUOknGP4wif7x3/Mm/yPJEZDyH478ZfJnXbETqv8tFrBI/nO6/cSEs2N0o57+uA9Q7IuPev1L/I15qH8K/Dhcpo3oyvj9Qha82s3XgP1DPUlgwr+w/ktNHTABI8T8xw5PRKkzvP44IhHsLJOo/RLhe+DBA3j9AQKQntOyAP0SanS9axt6/k+CtSJMk578STG1LRQTpv5qqd3f81O2/jmtmt0YD6r+qMLRE3pnkv4XvqcWU6dG/8Awk4wRKkD9tMnwXRo3cPwD2E9TpXOo/TZKd78JL8D/n3f6ZC7HsP5goA22OluQ/GuVfavw30j8LaBI1UifEv+qEqx718uC/xzm0x20Z67/bX2pWPEruv+E6bTKELuu/yAIHQOyv5L+R+gce/xXSvw4ynUtTCqI/98h5HEWj2D+6QzXFYRrnP/NkqMyEI+s/3vD7tks57D9KmVn24N/gPw==",
          "dtype": "f8"
         }
        }
       ],
       "layout": {
        "legend": {
         "title": {
          "text": "Series"
         }
        },
        "template": {
         "data": {
          "bar": [
           {
            "error_x": {
             "color": "#2a3f5f"
            },
            "error_y": {
             "color": "#2a3f5f"
            },
            "marker": {
             "line": {
              "color": "#E5ECF6",
              "width": 0.5
             },
             "pattern": {
              "fillmode": "overlay",
              "size": 10,
              "solidity": 0.2
             }
            },
            "type": "bar"
           }
          ],
          "barpolar": [
           {
            "marker": {
             "line": {
              "color": "#E5ECF6",
              "width": 0.5
             },
             "pattern": {
              "fillmode": "overlay",
              "size": 10,
              "solidity": 0.2
             }
            },
            "type": "barpolar"
           }
          ],
          "carpet": [
           {
            "aaxis": {
             "endlinecolor": "#2a3f5f",
             "gridcolor": "white",
             "linecolor": "white",
             "minorgridcolor": "white",
             "startlinecolor": "#2a3f5f"
            },
            "baxis": {
             "endlinecolor": "#2a3f5f",
             "gridcolor": "white",
             "linecolor": "white",
             "minorgridcolor": "white",
             "startlinecolor": "#2a3f5f"
            },
            "type": "carpet"
           }
          ],
          "choropleth": [
           {
            "colorbar": {
             "outlinewidth": 0,
             "ticks": ""
            },
            "type": "choropleth"
           }
          ],
          "contour": [
           {
            "colorbar": {
             "outlinewidth": 0,
             "ticks": ""
            },
            "colorscale": [
             [
              0,
              "#0d0887"
             ],
             [
              0.1111111111111111,
              "#46039f"
             ],
             [
              0.2222222222222222,
              "#7201a8"
             ],
             [
              0.3333333333333333,
              "#9c179e"
             ],
             [
              0.4444444444444444,
              "#bd3786"
             ],
             [
              0.5555555555555556,
              "#d8576b"
             ],
             [
              0.6666666666666666,
              "#ed7953"
             ],
             [
              0.7777777777777778,
              "#fb9f3a"
             ],
             [
              0.8888888888888888,
              "#fdca26"
             ],
             [
              1,
              "#f0f921"
             ]
            ],
            "type": "contour"
           }
          ],
          "contourcarpet": [
           {
            "colorbar": {
             "outlinewidth": 0,
             "ticks": ""
            },
            "type": "contourcarpet"
           }
          ],
          "heatmap": [
           {
            "colorbar": {
             "outlinewidth": 0,
             "ticks": ""
            },
            "colorscale": [
             [
              0,
              "#0d0887"
             ],
             [
              0.1111111111111111,
              "#46039f"
             ],
             [
              0.2222222222222222,
              "#7201a8"
             ],
             [
              0.3333333333333333,
              "#9c179e"
             ],
             [
              0.4444444444444444,
              "#bd3786"
             ],
             [
              0.5555555555555556,
              "#d8576b"
             ],
             [
              0.6666666666666666,
              "#ed7953"
             ],
             [
              0.7777777777777778,
              "#fb9f3a"
             ],
             [
              0.8888888888888888,
              "#fdca26"
             ],
             [
              1,
              "#f0f921"
             ]
            ],
            "type": "heatmap"
           }
          ],
          "histogram": [
           {
            "marker": {
             "pattern": {
              "fillmode": "overlay",
              "size": 10,
              "solidity": 0.2
             }
            },
            "type": "histogram"
           }
          ],
          "histogram2d": [
           {
            "colorbar": {
             "outlinewidth": 0,
             "ticks": ""
            },
            "colorscale": [
             [
              0,
              "#0d0887"
             ],
             [
              0.1111111111111111,
              "#46039f"
             ],
             [
              0.2222222222222222,
              "#7201a8"
             ],
             [
              0.3333333333333333,
              "#9c179e"
             ],
             [
              0.4444444444444444,
              "#bd3786"
             ],
             [
              0.5555555555555556,
              "#d8576b"
             ],
             [
              0.6666666666666666,
              "#ed7953"
             ],
             [
              0.7777777777777778,
              "#fb9f3a"
             ],
             [
              0.8888888888888888,
              "#fdca26"
             ],
             [
              1,
              "#f0f921"
             ]
            ],
            "type": "histogram2d"
           }
          ],
          "histogram2dcontour": [
           {
            "colorbar": {
             "outlinewidth": 0,
             "ticks": ""
            },
            "colorscale": [
             [
              0,
              "#0d0887"
             ],
             [
              0.1111111111111111,
              "#46039f"
             ],
             [
              0.2222222222222222,
              "#7201a8"
             ],
             [
              0.3333333333333333,
              "#9c179e"
             ],
             [
              0.4444444444444444,
              "#bd3786"
             ],
             [
              0.5555555555555556,
              "#d8576b"
             ],
             [
              0.6666666666666666,
              "#ed7953"
             ],
             [
              0.7777777777777778,
              "#fb9f3a"
             ],
             [
              0.8888888888888888,
              "#fdca26"
             ],
             [
              1,
              "#f0f921"
             ]
            ],
            "type": "histogram2dcontour"
           }
          ],
          "mesh3d": [
           {
            "colorbar": {
             "outlinewidth": 0,
             "ticks": ""
            },
            "type": "mesh3d"
           }
          ],
          "parcoords": [
           {
            "line": {
             "colorbar": {
              "outlinewidth": 0,
              "ticks": ""
             }
            },
            "type": "parcoords"
           }
          ],
          "pie": [
           {
            "automargin": true,
            "type": "pie"
           }
          ],
          "scatter": [
           {
            "fillpattern": {
             "fillmode": "overlay",
             "size": 10,
             "solidity": 0.2
            },
            "type": "scatter"
           }
          ],
          "scatter3d": [
           {
            "line": {
             "colorbar": {
              "outlinewidth": 0,
              "ticks": ""
             }
            },
            "marker": {
             "colorbar": {
              "outlinewidth": 0,
              "ticks": ""
             }
            },
            "type": "scatter3d"
           }
          ],
          "scattercarpet": [
           {
            "marker": {
             "colorbar": {
              "outlinewidth": 0,
              "ticks": ""
             }
            },
            "type": "scattercarpet"
           }
          ],
          "scattergeo": [
           {
            "marker": {
             "colorbar": {
              "outlinewidth": 0,
              "ticks": ""
             }
            },
            "type": "scattergeo"
           }
          ],
          "scattergl": [
           {
            "marker": {
             "colorbar": {
              "outlinewidth": 0,
              "ticks": ""
             }
            },
            "type": "scattergl"
           }
          ],
          "scattermap": [
           {
            "marker": {
             "colorbar": {
              "outlinewidth": 0,
              "ticks": ""
             }
            },
            "type": "scattermap"
           }
          ],
          "scattermapbox": [
           {
            "marker": {
             "colorbar": {
              "outlinewidth": 0,
              "ticks": ""
             }
            },
            "type": "scattermapbox"
           }
          ],
          "scatterpolar": [
           {
            "marker": {
             "colorbar": {
              "outlinewidth": 0,
              "ticks": ""
             }
            },
            "type": "scatterpolar"
           }
          ],
          "scatterpolargl": [
           {
            "marker": {
             "colorbar": {
              "outlinewidth": 0,
              "ticks": ""
             }
            },
            "type": "scatterpolargl"
           }
          ],
          "scatterternary": [
           {
            "marker": {
             "colorbar": {
              "outlinewidth": 0,
              "ticks": ""
             }
            },
            "type": "scatterternary"
           }
          ],
          "surface": [
           {
            "colorbar": {
             "outlinewidth": 0,
             "ticks": ""
            },
            "colorscale": [
             [
              0,
              "#0d0887"
             ],
             [
              0.1111111111111111,
              "#46039f"
             ],
             [
              0.2222222222222222,
              "#7201a8"
             ],
             [
              0.3333333333333333,
              "#9c179e"
             ],
             [
              0.4444444444444444,
              "#bd3786"
             ],
             [
              0.5555555555555556,
              "#d8576b"
             ],
             [
              0.6666666666666666,
              "#ed7953"
             ],
             [
              0.7777777777777778,
              "#fb9f3a"
             ],
             [
              0.8888888888888888,
              "#fdca26"
             ],
             [
              1,
              "#f0f921"
             ]
            ],
            "type": "surface"
           }
          ],
          "table": [
           {
            "cells": {
             "fill": {
              "color": "#EBF0F8"
             },
             "line": {
              "color": "white"
             }
            },
            "header": {
             "fill": {
              "color": "#C8D4E3"
             },
             "line": {
              "color": "white"
             }
            },
            "type": "table"
           }
          ]
         },
         "layout": {
          "annotationdefaults": {
           "arrowcolor": "#2a3f5f",
           "arrowhead": 0,
           "arrowwidth": 1
          },
          "autotypenumbers": "strict",
          "coloraxis": {
           "colorbar": {
            "outlinewidth": 0,
            "ticks": ""
           }
          },
          "colorscale": {
           "diverging": [
            [
             0,
             "#8e0152"
            ],
            [
             0.1,
             "#c51b7d"
            ],
            [
             0.2,
             "#de77ae"
            ],
            [
             0.3,
             "#f1b6da"
            ],
            [
             0.4,
             "#fde0ef"
            ],
            [
             0.5,
             "#f7f7f7"
            ],
            [
             0.6,
             "#e6f5d0"
            ],
            [
             0.7,
             "#b8e186"
            ],
            [
             0.8,
             "#7fbc41"
            ],
            [
             0.9,
             "#4d9221"
            ],
            [
             1,
             "#276419"
            ]
           ],
           "sequential": [
            [
             0,
             "#0d0887"
            ],
            [
             0.1111111111111111,
             "#46039f"
            ],
            [
             0.2222222222222222,
             "#7201a8"
            ],
            [
             0.3333333333333333,
             "#9c179e"
            ],
            [
             0.4444444444444444,
             "#bd3786"
            ],
            [
             0.5555555555555556,
             "#d8576b"
            ],
            [
             0.6666666666666666,
             "#ed7953"
            ],
            [
             0.7777777777777778,
             "#fb9f3a"
            ],
            [
             0.8888888888888888,
             "#fdca26"
            ],
            [
             1,
             "#f0f921"
            ]
           ],
           "sequentialminus": [
            [
             0,
             "#0d0887"
            ],
            [
             0.1111111111111111,
             "#46039f"
            ],
            [
             0.2222222222222222,
             "#7201a8"
            ],
            [
             0.3333333333333333,
             "#9c179e"
            ],
            [
             0.4444444444444444,
             "#bd3786"
            ],
            [
             0.5555555555555556,
             "#d8576b"
            ],
            [
             0.6666666666666666,
             "#ed7953"
            ],
            [
             0.7777777777777778,
             "#fb9f3a"
            ],
            [
             0.8888888888888888,
             "#fdca26"
            ],
            [
             1,
             "#f0f921"
            ]
           ]
          },
          "colorway": [
           "#636efa",
           "#EF553B",
           "#00cc96",
           "#ab63fa",
           "#FFA15A",
           "#19d3f3",
           "#FF6692",
           "#B6E880",
           "#FF97FF",
           "#FECB52"
          ],
          "font": {
           "color": "#2a3f5f"
          },
          "geo": {
           "bgcolor": "white",
           "lakecolor": "white",
           "landcolor": "#E5ECF6",
           "showlakes": true,
           "showland": true,
           "subunitcolor": "white"
          },
          "hoverlabel": {
           "align": "left"
          },
          "hovermode": "closest",
          "mapbox": {
           "style": "light"
          },
          "paper_bgcolor": "white",
          "plot_bgcolor": "#E5ECF6",
          "polar": {
           "angularaxis": {
            "gridcolor": "white",
            "linecolor": "white",
            "ticks": ""
           },
           "bgcolor": "#E5ECF6",
           "radialaxis": {
            "gridcolor": "white",
            "linecolor": "white",
            "ticks": ""
           }
          },
          "scene": {
           "xaxis": {
            "backgroundcolor": "#E5ECF6",
            "gridcolor": "white",
            "gridwidth": 2,
            "linecolor": "white",
            "showbackground": true,
            "ticks": "",
            "zerolinecolor": "white"
           },
           "yaxis": {
            "backgroundcolor": "#E5ECF6",
            "gridcolor": "white",
            "gridwidth": 2,
            "linecolor": "white",
            "showbackground": true,
            "ticks": "",
            "zerolinecolor": "white"
           },
           "zaxis": {
            "backgroundcolor": "#E5ECF6",
            "gridcolor": "white",
            "gridwidth": 2,
            "linecolor": "white",
            "showbackground": true,
            "ticks": "",
            "zerolinecolor": "white"
           }
          },
          "shapedefaults": {
           "line": {
            "color": "#2a3f5f"
           }
          },
          "ternary": {
           "aaxis": {
            "gridcolor": "white",
            "linecolor": "white",
            "ticks": ""
           },
           "baxis": {
            "gridcolor": "white",
            "linecolor": "white",
            "ticks": ""
           },
           "bgcolor": "#E5ECF6",
           "caxis": {
            "gridcolor": "white",
            "linecolor": "white",
            "ticks": ""
           }
          },
          "title": {
           "x": 0.05
          },
          "xaxis": {
           "automargin": true,
           "gridcolor": "white",
           "linecolor": "white",
           "ticks": "",
           "title": {
            "standoff": 15
           },
           "zerolinecolor": "white",
           "zerolinewidth": 2
          },
          "yaxis": {
           "automargin": true,
           "gridcolor": "white",
           "linecolor": "white",
           "ticks": "",
           "title": {
            "standoff": 15
           },
           "zerolinecolor": "white",
           "zerolinewidth": 2
          }
         }
        },
        "title": {
         "text": "Two Similar Time Series Smoothed"
        },
        "xaxis": {
         "title": {
          "text": "t"
         }
        },
        "yaxis": {
         "title": {
          "text": "Value"
         }
        }
       }
      }
     },
     "metadata": {},
     "output_type": "display_data"
    }
   ],
   "source": [
    "plot_time_series_plotly(t, series1_smooth, series2_smooth, 'Two Similar Time Series Smoothed')"
   ]
  },
  {
   "cell_type": "code",
   "execution_count": 68,
   "id": "500dea57",
   "metadata": {},
   "outputs": [],
   "source": [
    "def normalize(series):\n",
    "    return (series - np.min(series)) / (np.max(series) - np.min(series))\n",
    "\n",
    "series1_smooth_norm = normalize(series1_smooth)\n",
    "series2_smooth_norm = normalize(series2_smooth)"
   ]
  },
  {
   "cell_type": "code",
   "execution_count": 69,
   "id": "52a7b49e",
   "metadata": {},
   "outputs": [
    {
     "data": {
      "application/vnd.plotly.v1+json": {
       "config": {
        "plotlyServerURL": "https://plot.ly"
       },
       "data": [
        {
         "mode": "lines+markers",
         "name": "Series 1",
         "type": "scatter",
         "x": {
          "bdata": "AAAAAAAAAACIxvrQWB/aP4jG+tBYH+o/5hS8nIKX8z+IxvrQWB/6PxW8nIKXUwBA5hS8nIKXA0C3bdu2bdsGQIjG+tBYHwpAWR8a60NjDUAVvJyCl1MQQH5orA+N9RFA5hS8nIKXE0BOwcspeDkVQLdt27Zt2xZAIBrrQ2N9GECIxvrQWB8aQPByCl5OwRtAWR8a60NjHUDCyyl4OQUfQBW8nIKXUyBASZIkSZIkIUB+aKwPjfUhQLI+NNaHxiJA5hS8nIKXI0Aa60NjfWgkQE7Byyl4OSVAg5dT8HIKJkC3bdu2bdsmQOtDY31orCdAIBrrQ2N9KEBU8HIKXk4pQIjG+tBYHypAvJyCl1PwKkDwcgpeTsErQCVJkiRJkixAWR8a60NjLUCN9aGxPjQuQMLLKXg5BS9A9qGxPjTWL0AVvJyCl1MwQC+n4OUUvDBASZIkSZIkMUBjfWisD40xQH5orA+N9TFAmFPwcgpeMkCyPjTWh8YyQMwpeDkFLzNA5hS8nIKXM0AAAAAAAAA0QA==",
          "dtype": "f8"
         },
         "y": {
          "bdata": "SWOOOfcT5j+TqiWJ6pHvPwAAAAAAAPA/HKUz9I1j7j/Cj+nEDoDrPxEAQeOcEec/ri/F+x784T/jAfjHYa3YP0uRJAkADM4/EtRLyMt6wT8Gz4kt5hK1PyFdvDLoZrg/i72i9C+Pwz+3BXg951bRPw1ZoEEcddo/wbJzxVGp4j9tyuFeQafnP8VTCHxHses/3QHgLnbq7T/xnULo6NTuP89GhwRRne0/80+UMALT6j9/PnhY81rmPymum/gPT+E/9jEwDSya1z9jNsseIhDNP8A/iarz3rs/kRJd+FgKpj+CYJD2kqqcP3A5Xn+iErU/3JAVcFb4xz/m9975DCnVP9ek24rYHuA/oAVu6SMm5T/5cOTuIKDpP3adnLAFAew/ylvV/0Yl7T/r16UbsznsP85szDMn6Ok/SwO1T4IA5j/+BlR/Mn3gP5zxaZTqttU/GztTfZ9wxj/I/WaORWqxP+JJjjRVG2A/AAAAAAAAAADW2WmMBQirP4XzuvFST8Q/23QfOnrk0j9LyZp8ikXSPw==",
          "dtype": "f8"
         }
        },
        {
         "mode": "lines+markers",
         "name": "Series 2",
         "type": "scatter",
         "x": {
          "bdata": "AAAAAAAAAACIxvrQWB/aP4jG+tBYH+o/5hS8nIKX8z+IxvrQWB/6PxW8nIKXUwBA5hS8nIKXA0C3bdu2bdsGQIjG+tBYHwpAWR8a60NjDUAVvJyCl1MQQH5orA+N9RFA5hS8nIKXE0BOwcspeDkVQLdt27Zt2xZAIBrrQ2N9GECIxvrQWB8aQPByCl5OwRtAWR8a60NjHUDCyyl4OQUfQBW8nIKXUyBASZIkSZIkIUB+aKwPjfUhQLI+NNaHxiJA5hS8nIKXI0Aa60NjfWgkQE7Byyl4OSVAg5dT8HIKJkC3bdu2bdsmQOtDY31orCdAIBrrQ2N9KEBU8HIKXk4pQIjG+tBYHypAvJyCl1PwKkDwcgpeTsErQCVJkiRJkixAWR8a60NjLUCN9aGxPjQuQMLLKXg5BS9A9qGxPjTWL0AVvJyCl1MwQC+n4OUUvDBASZIkSZIkMUBjfWisD40xQH5orA+N9TFAmFPwcgpeMkCyPjTWh8YyQMwpeDkFLzNA5hS8nIKXM0AAAAAAAAA0QA==",
          "dtype": "f8"
         },
         "y": {
          "bdata": "R3UvSFCc4T9m7VhLKXrmP6NLYtN5Keo/d8lSwmc67j/KrxfVXr3sPyT0P+XE/+o/u7s5Yst15j/f9nO47sPhP/OsCscJrtc/+hzIX+nDxT81Q3x1QA+xPwAAAAAAAAAACurvBThEvT92F2w2ncnNP00GWJs+nNk/hG04sBLi4D+Es+9UjBznP6vosS4iHe0/AAAAAAAA8D80HtdwmmXuP9V2+qVr3es/OFSy2NF05j+JqJO6tFHeP5snVarg5c0/c83PLxNVvT8Q4bLk0vi1PzNwAuyTdYg/QKlwaCgPsj8GI6gPiKjDP57T9jSyQ9U/UfqImjGP3j97W+sJDArmPxZSZtNX+es/G3o9skwI7z9rfMmICx7tPy07j313I+k/9xq2TaCA4z+fD2txmxzZP5NeUCq01Mo/2ClJzyOVqz8LC0mWOiJ0P10F1qt576o/wqqiTjd9wz+74CRY4y3VP/17ADqtKt8/mMdv1w0U5T8B3ZQfll/qP+hB69PbWuw/23GBbj/j7D8r7CagrlDnPw==",
          "dtype": "f8"
         }
        }
       ],
       "layout": {
        "legend": {
         "title": {
          "text": "Series"
         }
        },
        "template": {
         "data": {
          "bar": [
           {
            "error_x": {
             "color": "#2a3f5f"
            },
            "error_y": {
             "color": "#2a3f5f"
            },
            "marker": {
             "line": {
              "color": "#E5ECF6",
              "width": 0.5
             },
             "pattern": {
              "fillmode": "overlay",
              "size": 10,
              "solidity": 0.2
             }
            },
            "type": "bar"
           }
          ],
          "barpolar": [
           {
            "marker": {
             "line": {
              "color": "#E5ECF6",
              "width": 0.5
             },
             "pattern": {
              "fillmode": "overlay",
              "size": 10,
              "solidity": 0.2
             }
            },
            "type": "barpolar"
           }
          ],
          "carpet": [
           {
            "aaxis": {
             "endlinecolor": "#2a3f5f",
             "gridcolor": "white",
             "linecolor": "white",
             "minorgridcolor": "white",
             "startlinecolor": "#2a3f5f"
            },
            "baxis": {
             "endlinecolor": "#2a3f5f",
             "gridcolor": "white",
             "linecolor": "white",
             "minorgridcolor": "white",
             "startlinecolor": "#2a3f5f"
            },
            "type": "carpet"
           }
          ],
          "choropleth": [
           {
            "colorbar": {
             "outlinewidth": 0,
             "ticks": ""
            },
            "type": "choropleth"
           }
          ],
          "contour": [
           {
            "colorbar": {
             "outlinewidth": 0,
             "ticks": ""
            },
            "colorscale": [
             [
              0,
              "#0d0887"
             ],
             [
              0.1111111111111111,
              "#46039f"
             ],
             [
              0.2222222222222222,
              "#7201a8"
             ],
             [
              0.3333333333333333,
              "#9c179e"
             ],
             [
              0.4444444444444444,
              "#bd3786"
             ],
             [
              0.5555555555555556,
              "#d8576b"
             ],
             [
              0.6666666666666666,
              "#ed7953"
             ],
             [
              0.7777777777777778,
              "#fb9f3a"
             ],
             [
              0.8888888888888888,
              "#fdca26"
             ],
             [
              1,
              "#f0f921"
             ]
            ],
            "type": "contour"
           }
          ],
          "contourcarpet": [
           {
            "colorbar": {
             "outlinewidth": 0,
             "ticks": ""
            },
            "type": "contourcarpet"
           }
          ],
          "heatmap": [
           {
            "colorbar": {
             "outlinewidth": 0,
             "ticks": ""
            },
            "colorscale": [
             [
              0,
              "#0d0887"
             ],
             [
              0.1111111111111111,
              "#46039f"
             ],
             [
              0.2222222222222222,
              "#7201a8"
             ],
             [
              0.3333333333333333,
              "#9c179e"
             ],
             [
              0.4444444444444444,
              "#bd3786"
             ],
             [
              0.5555555555555556,
              "#d8576b"
             ],
             [
              0.6666666666666666,
              "#ed7953"
             ],
             [
              0.7777777777777778,
              "#fb9f3a"
             ],
             [
              0.8888888888888888,
              "#fdca26"
             ],
             [
              1,
              "#f0f921"
             ]
            ],
            "type": "heatmap"
           }
          ],
          "histogram": [
           {
            "marker": {
             "pattern": {
              "fillmode": "overlay",
              "size": 10,
              "solidity": 0.2
             }
            },
            "type": "histogram"
           }
          ],
          "histogram2d": [
           {
            "colorbar": {
             "outlinewidth": 0,
             "ticks": ""
            },
            "colorscale": [
             [
              0,
              "#0d0887"
             ],
             [
              0.1111111111111111,
              "#46039f"
             ],
             [
              0.2222222222222222,
              "#7201a8"
             ],
             [
              0.3333333333333333,
              "#9c179e"
             ],
             [
              0.4444444444444444,
              "#bd3786"
             ],
             [
              0.5555555555555556,
              "#d8576b"
             ],
             [
              0.6666666666666666,
              "#ed7953"
             ],
             [
              0.7777777777777778,
              "#fb9f3a"
             ],
             [
              0.8888888888888888,
              "#fdca26"
             ],
             [
              1,
              "#f0f921"
             ]
            ],
            "type": "histogram2d"
           }
          ],
          "histogram2dcontour": [
           {
            "colorbar": {
             "outlinewidth": 0,
             "ticks": ""
            },
            "colorscale": [
             [
              0,
              "#0d0887"
             ],
             [
              0.1111111111111111,
              "#46039f"
             ],
             [
              0.2222222222222222,
              "#7201a8"
             ],
             [
              0.3333333333333333,
              "#9c179e"
             ],
             [
              0.4444444444444444,
              "#bd3786"
             ],
             [
              0.5555555555555556,
              "#d8576b"
             ],
             [
              0.6666666666666666,
              "#ed7953"
             ],
             [
              0.7777777777777778,
              "#fb9f3a"
             ],
             [
              0.8888888888888888,
              "#fdca26"
             ],
             [
              1,
              "#f0f921"
             ]
            ],
            "type": "histogram2dcontour"
           }
          ],
          "mesh3d": [
           {
            "colorbar": {
             "outlinewidth": 0,
             "ticks": ""
            },
            "type": "mesh3d"
           }
          ],
          "parcoords": [
           {
            "line": {
             "colorbar": {
              "outlinewidth": 0,
              "ticks": ""
             }
            },
            "type": "parcoords"
           }
          ],
          "pie": [
           {
            "automargin": true,
            "type": "pie"
           }
          ],
          "scatter": [
           {
            "fillpattern": {
             "fillmode": "overlay",
             "size": 10,
             "solidity": 0.2
            },
            "type": "scatter"
           }
          ],
          "scatter3d": [
           {
            "line": {
             "colorbar": {
              "outlinewidth": 0,
              "ticks": ""
             }
            },
            "marker": {
             "colorbar": {
              "outlinewidth": 0,
              "ticks": ""
             }
            },
            "type": "scatter3d"
           }
          ],
          "scattercarpet": [
           {
            "marker": {
             "colorbar": {
              "outlinewidth": 0,
              "ticks": ""
             }
            },
            "type": "scattercarpet"
           }
          ],
          "scattergeo": [
           {
            "marker": {
             "colorbar": {
              "outlinewidth": 0,
              "ticks": ""
             }
            },
            "type": "scattergeo"
           }
          ],
          "scattergl": [
           {
            "marker": {
             "colorbar": {
              "outlinewidth": 0,
              "ticks": ""
             }
            },
            "type": "scattergl"
           }
          ],
          "scattermap": [
           {
            "marker": {
             "colorbar": {
              "outlinewidth": 0,
              "ticks": ""
             }
            },
            "type": "scattermap"
           }
          ],
          "scattermapbox": [
           {
            "marker": {
             "colorbar": {
              "outlinewidth": 0,
              "ticks": ""
             }
            },
            "type": "scattermapbox"
           }
          ],
          "scatterpolar": [
           {
            "marker": {
             "colorbar": {
              "outlinewidth": 0,
              "ticks": ""
             }
            },
            "type": "scatterpolar"
           }
          ],
          "scatterpolargl": [
           {
            "marker": {
             "colorbar": {
              "outlinewidth": 0,
              "ticks": ""
             }
            },
            "type": "scatterpolargl"
           }
          ],
          "scatterternary": [
           {
            "marker": {
             "colorbar": {
              "outlinewidth": 0,
              "ticks": ""
             }
            },
            "type": "scatterternary"
           }
          ],
          "surface": [
           {
            "colorbar": {
             "outlinewidth": 0,
             "ticks": ""
            },
            "colorscale": [
             [
              0,
              "#0d0887"
             ],
             [
              0.1111111111111111,
              "#46039f"
             ],
             [
              0.2222222222222222,
              "#7201a8"
             ],
             [
              0.3333333333333333,
              "#9c179e"
             ],
             [
              0.4444444444444444,
              "#bd3786"
             ],
             [
              0.5555555555555556,
              "#d8576b"
             ],
             [
              0.6666666666666666,
              "#ed7953"
             ],
             [
              0.7777777777777778,
              "#fb9f3a"
             ],
             [
              0.8888888888888888,
              "#fdca26"
             ],
             [
              1,
              "#f0f921"
             ]
            ],
            "type": "surface"
           }
          ],
          "table": [
           {
            "cells": {
             "fill": {
              "color": "#EBF0F8"
             },
             "line": {
              "color": "white"
             }
            },
            "header": {
             "fill": {
              "color": "#C8D4E3"
             },
             "line": {
              "color": "white"
             }
            },
            "type": "table"
           }
          ]
         },
         "layout": {
          "annotationdefaults": {
           "arrowcolor": "#2a3f5f",
           "arrowhead": 0,
           "arrowwidth": 1
          },
          "autotypenumbers": "strict",
          "coloraxis": {
           "colorbar": {
            "outlinewidth": 0,
            "ticks": ""
           }
          },
          "colorscale": {
           "diverging": [
            [
             0,
             "#8e0152"
            ],
            [
             0.1,
             "#c51b7d"
            ],
            [
             0.2,
             "#de77ae"
            ],
            [
             0.3,
             "#f1b6da"
            ],
            [
             0.4,
             "#fde0ef"
            ],
            [
             0.5,
             "#f7f7f7"
            ],
            [
             0.6,
             "#e6f5d0"
            ],
            [
             0.7,
             "#b8e186"
            ],
            [
             0.8,
             "#7fbc41"
            ],
            [
             0.9,
             "#4d9221"
            ],
            [
             1,
             "#276419"
            ]
           ],
           "sequential": [
            [
             0,
             "#0d0887"
            ],
            [
             0.1111111111111111,
             "#46039f"
            ],
            [
             0.2222222222222222,
             "#7201a8"
            ],
            [
             0.3333333333333333,
             "#9c179e"
            ],
            [
             0.4444444444444444,
             "#bd3786"
            ],
            [
             0.5555555555555556,
             "#d8576b"
            ],
            [
             0.6666666666666666,
             "#ed7953"
            ],
            [
             0.7777777777777778,
             "#fb9f3a"
            ],
            [
             0.8888888888888888,
             "#fdca26"
            ],
            [
             1,
             "#f0f921"
            ]
           ],
           "sequentialminus": [
            [
             0,
             "#0d0887"
            ],
            [
             0.1111111111111111,
             "#46039f"
            ],
            [
             0.2222222222222222,
             "#7201a8"
            ],
            [
             0.3333333333333333,
             "#9c179e"
            ],
            [
             0.4444444444444444,
             "#bd3786"
            ],
            [
             0.5555555555555556,
             "#d8576b"
            ],
            [
             0.6666666666666666,
             "#ed7953"
            ],
            [
             0.7777777777777778,
             "#fb9f3a"
            ],
            [
             0.8888888888888888,
             "#fdca26"
            ],
            [
             1,
             "#f0f921"
            ]
           ]
          },
          "colorway": [
           "#636efa",
           "#EF553B",
           "#00cc96",
           "#ab63fa",
           "#FFA15A",
           "#19d3f3",
           "#FF6692",
           "#B6E880",
           "#FF97FF",
           "#FECB52"
          ],
          "font": {
           "color": "#2a3f5f"
          },
          "geo": {
           "bgcolor": "white",
           "lakecolor": "white",
           "landcolor": "#E5ECF6",
           "showlakes": true,
           "showland": true,
           "subunitcolor": "white"
          },
          "hoverlabel": {
           "align": "left"
          },
          "hovermode": "closest",
          "mapbox": {
           "style": "light"
          },
          "paper_bgcolor": "white",
          "plot_bgcolor": "#E5ECF6",
          "polar": {
           "angularaxis": {
            "gridcolor": "white",
            "linecolor": "white",
            "ticks": ""
           },
           "bgcolor": "#E5ECF6",
           "radialaxis": {
            "gridcolor": "white",
            "linecolor": "white",
            "ticks": ""
           }
          },
          "scene": {
           "xaxis": {
            "backgroundcolor": "#E5ECF6",
            "gridcolor": "white",
            "gridwidth": 2,
            "linecolor": "white",
            "showbackground": true,
            "ticks": "",
            "zerolinecolor": "white"
           },
           "yaxis": {
            "backgroundcolor": "#E5ECF6",
            "gridcolor": "white",
            "gridwidth": 2,
            "linecolor": "white",
            "showbackground": true,
            "ticks": "",
            "zerolinecolor": "white"
           },
           "zaxis": {
            "backgroundcolor": "#E5ECF6",
            "gridcolor": "white",
            "gridwidth": 2,
            "linecolor": "white",
            "showbackground": true,
            "ticks": "",
            "zerolinecolor": "white"
           }
          },
          "shapedefaults": {
           "line": {
            "color": "#2a3f5f"
           }
          },
          "ternary": {
           "aaxis": {
            "gridcolor": "white",
            "linecolor": "white",
            "ticks": ""
           },
           "baxis": {
            "gridcolor": "white",
            "linecolor": "white",
            "ticks": ""
           },
           "bgcolor": "#E5ECF6",
           "caxis": {
            "gridcolor": "white",
            "linecolor": "white",
            "ticks": ""
           }
          },
          "title": {
           "x": 0.05
          },
          "xaxis": {
           "automargin": true,
           "gridcolor": "white",
           "linecolor": "white",
           "ticks": "",
           "title": {
            "standoff": 15
           },
           "zerolinecolor": "white",
           "zerolinewidth": 2
          },
          "yaxis": {
           "automargin": true,
           "gridcolor": "white",
           "linecolor": "white",
           "ticks": "",
           "title": {
            "standoff": 15
           },
           "zerolinecolor": "white",
           "zerolinewidth": 2
          }
         }
        },
        "title": {
         "text": "Two Similar Time Series Smoothed and Normalized"
        },
        "xaxis": {
         "title": {
          "text": "t"
         }
        },
        "yaxis": {
         "title": {
          "text": "Value"
         }
        }
       }
      }
     },
     "metadata": {},
     "output_type": "display_data"
    }
   ],
   "source": [
    "plot_time_series_plotly(t, series1_smooth_norm, series2_smooth_norm, 'Two Similar Time Series Smoothed and Normalized')"
   ]
  },
  {
   "cell_type": "code",
   "execution_count": 73,
   "id": "9cfd0028",
   "metadata": {},
   "outputs": [
    {
     "name": "stdout",
     "output_type": "stream",
     "text": [
      "Euclidean Distance: 2.22\n"
     ]
    },
    {
     "data": {
      "application/vnd.plotly.v1+json": {
       "config": {
        "plotlyServerURL": "https://plot.ly"
       },
       "data": [
        {
         "mode": "lines+markers",
         "name": "Series 1",
         "type": "scatter",
         "x": {
          "bdata": "AAAAAAAAAACIxvrQWB/aP4jG+tBYH+o/5hS8nIKX8z+IxvrQWB/6PxW8nIKXUwBA5hS8nIKXA0C3bdu2bdsGQIjG+tBYHwpAWR8a60NjDUAVvJyCl1MQQH5orA+N9RFA5hS8nIKXE0BOwcspeDkVQLdt27Zt2xZAIBrrQ2N9GECIxvrQWB8aQPByCl5OwRtAWR8a60NjHUDCyyl4OQUfQBW8nIKXUyBASZIkSZIkIUB+aKwPjfUhQLI+NNaHxiJA5hS8nIKXI0Aa60NjfWgkQE7Byyl4OSVAg5dT8HIKJkC3bdu2bdsmQOtDY31orCdAIBrrQ2N9KEBU8HIKXk4pQIjG+tBYHypAvJyCl1PwKkDwcgpeTsErQCVJkiRJkixAWR8a60NjLUCN9aGxPjQuQMLLKXg5BS9A9qGxPjTWL0AVvJyCl1MwQC+n4OUUvDBASZIkSZIkMUBjfWisD40xQH5orA+N9TFAmFPwcgpeMkCyPjTWh8YyQMwpeDkFLzNA5hS8nIKXM0AAAAAAAAA0QA==",
          "dtype": "f8"
         },
         "y": {
          "bdata": "SWOOOfcT5j+TqiWJ6pHvPwAAAAAAAPA/HKUz9I1j7j/Cj+nEDoDrPxEAQeOcEec/ri/F+x784T/jAfjHYa3YP0uRJAkADM4/EtRLyMt6wT8Gz4kt5hK1PyFdvDLoZrg/i72i9C+Pwz+3BXg951bRPw1ZoEEcddo/wbJzxVGp4j9tyuFeQafnP8VTCHxHses/3QHgLnbq7T/xnULo6NTuP89GhwRRne0/80+UMALT6j9/PnhY81rmPymum/gPT+E/9jEwDSya1z9jNsseIhDNP8A/iarz3rs/kRJd+FgKpj+CYJD2kqqcP3A5Xn+iErU/3JAVcFb4xz/m9975DCnVP9ek24rYHuA/oAVu6SMm5T/5cOTuIKDpP3adnLAFAew/ylvV/0Yl7T/r16UbsznsP85szDMn6Ok/SwO1T4IA5j/+BlR/Mn3gP5zxaZTqttU/GztTfZ9wxj/I/WaORWqxP+JJjjRVG2A/AAAAAAAAAADW2WmMBQirP4XzuvFST8Q/23QfOnrk0j9LyZp8ikXSPw==",
          "dtype": "f8"
         }
        },
        {
         "mode": "lines+markers",
         "name": "Series 2",
         "type": "scatter",
         "x": {
          "bdata": "AAAAAAAAAACIxvrQWB/aP4jG+tBYH+o/5hS8nIKX8z+IxvrQWB/6PxW8nIKXUwBA5hS8nIKXA0C3bdu2bdsGQIjG+tBYHwpAWR8a60NjDUAVvJyCl1MQQH5orA+N9RFA5hS8nIKXE0BOwcspeDkVQLdt27Zt2xZAIBrrQ2N9GECIxvrQWB8aQPByCl5OwRtAWR8a60NjHUDCyyl4OQUfQBW8nIKXUyBASZIkSZIkIUB+aKwPjfUhQLI+NNaHxiJA5hS8nIKXI0Aa60NjfWgkQE7Byyl4OSVAg5dT8HIKJkC3bdu2bdsmQOtDY31orCdAIBrrQ2N9KEBU8HIKXk4pQIjG+tBYHypAvJyCl1PwKkDwcgpeTsErQCVJkiRJkixAWR8a60NjLUCN9aGxPjQuQMLLKXg5BS9A9qGxPjTWL0AVvJyCl1MwQC+n4OUUvDBASZIkSZIkMUBjfWisD40xQH5orA+N9TFAmFPwcgpeMkCyPjTWh8YyQMwpeDkFLzNA5hS8nIKXM0AAAAAAAAA0QA==",
          "dtype": "f8"
         },
         "y": {
          "bdata": "R3UvSFCc4T9m7VhLKXrmP6NLYtN5Keo/d8lSwmc67j/KrxfVXr3sPyT0P+XE/+o/u7s5Yst15j/f9nO47sPhP/OsCscJrtc/+hzIX+nDxT81Q3x1QA+xPwAAAAAAAAAACurvBThEvT92F2w2ncnNP00GWJs+nNk/hG04sBLi4D+Es+9UjBznP6vosS4iHe0/AAAAAAAA8D80HtdwmmXuP9V2+qVr3es/OFSy2NF05j+JqJO6tFHeP5snVarg5c0/c83PLxNVvT8Q4bLk0vi1PzNwAuyTdYg/QKlwaCgPsj8GI6gPiKjDP57T9jSyQ9U/UfqImjGP3j97W+sJDArmPxZSZtNX+es/G3o9skwI7z9rfMmICx7tPy07j313I+k/9xq2TaCA4z+fD2txmxzZP5NeUCq01Mo/2ClJzyOVqz8LC0mWOiJ0P10F1qt576o/wqqiTjd9wz+74CRY4y3VP/17ADqtKt8/mMdv1w0U5T8B3ZQfll/qP+hB69PbWuw/23GBbj/j7D8r7CagrlDnPw==",
          "dtype": "f8"
         }
        },
        {
         "line": {
          "color": "gray",
          "dash": "dash",
          "width": 1
         },
         "mode": "lines",
         "showlegend": false,
         "type": "scatter",
         "x": [
          0,
          0
         ],
         "y": [
          0.6899372219223575,
          0.5503312501784102
         ]
        },
        {
         "line": {
          "color": "gray",
          "dash": "dash",
          "width": 1
         },
         "mode": "lines",
         "showlegend": false,
         "type": "scatter",
         "x": [
          0.40816326530612246,
          0.40816326530612246
         ],
         "y": [
          0.9865620306639634,
          0.7024122687939041
         ]
        },
        {
         "line": {
          "color": "gray",
          "dash": "dash",
          "width": 1
         },
         "mode": "lines",
         "showlegend": false,
         "type": "scatter",
         "x": [
          0.8163265306122449,
          0.8163265306122449
         ],
         "y": [
          1,
          0.8175629738419626
         ]
        },
        {
         "line": {
          "color": "gray",
          "dash": "dash",
          "width": 1
         },
         "mode": "lines",
         "showlegend": false,
         "type": "scatter",
         "x": [
          1.2244897959183674,
          1.2244897959183674
         ],
         "y": [
          0.9496526498379896,
          0.9446295543078084
         ]
        },
        {
         "line": {
          "color": "gray",
          "dash": "dash",
          "width": 1
         },
         "mode": "lines",
         "showlegend": false,
         "type": "scatter",
         "x": [
          1.6326530612244898,
          1.6326530612244898
         ],
         "y": [
          0.8593820424980481,
          0.8981165086711311
         ]
        },
        {
         "line": {
          "color": "gray",
          "dash": "dash",
          "width": 1
         },
         "mode": "lines",
         "showlegend": false,
         "type": "scatter",
         "x": [
          2.0408163265306123,
          2.0408163265306123
         ],
         "y": [
          0.7209000052025677,
          0.8437218167815712
         ]
        },
        {
         "line": {
          "color": "gray",
          "dash": "dash",
          "width": 1
         },
         "mode": "lines",
         "showlegend": false,
         "type": "scatter",
         "x": [
          2.4489795918367347,
          2.4489795918367347
         ],
         "y": [
          0.5620264928233973,
          0.7018792074649051
         ]
        },
        {
         "line": {
          "color": "gray",
          "dash": "dash",
          "width": 1
         },
         "mode": "lines",
         "showlegend": false,
         "type": "scatter",
         "x": [
          2.857142857142857,
          2.857142857142857
         ],
         "y": [
          0.38558239486886076,
          0.5551675417516114
         ]
        },
        {
         "line": {
          "color": "gray",
          "dash": "dash",
          "width": 1
         },
         "mode": "lines",
         "showlegend": false,
         "type": "scatter",
         "x": [
          3.2653061224489797,
          3.2653061224489797
         ],
         "y": [
          0.23474121519496757,
          0.3699974483267418
         ]
        },
        {
         "line": {
          "color": "gray",
          "dash": "dash",
          "width": 1
         },
         "mode": "lines",
         "showlegend": false,
         "type": "scatter",
         "x": [
          3.673469387755102,
          3.673469387755102
         ],
         "y": [
          0.13655993728721733,
          0.1700412481006664
         ]
        },
        {
         "line": {
          "color": "gray",
          "dash": "dash",
          "width": 1
         },
         "mode": "lines",
         "showlegend": false,
         "type": "scatter",
         "x": [
          4.081632653061225,
          4.081632653061225
         ],
         "y": [
          0.08231962787413857,
          0.06663897388740454
         ]
        },
        {
         "line": {
          "color": "gray",
          "dash": "dash",
          "width": 1
         },
         "mode": "lines",
         "showlegend": false,
         "type": "scatter",
         "x": [
          4.4897959183673475,
          4.4897959183673475
         ],
         "y": [
          0.09532023657481094,
          0
         ]
        },
        {
         "line": {
          "color": "gray",
          "dash": "dash",
          "width": 1
         },
         "mode": "lines",
         "showlegend": false,
         "type": "scatter",
         "x": [
          4.8979591836734695,
          4.8979591836734695
         ],
         "y": [
          0.15280723042586106,
          0.11432218689871135
         ]
        },
        {
         "line": {
          "color": "gray",
          "dash": "dash",
          "width": 1
         },
         "mode": "lines",
         "showlegend": false,
         "type": "scatter",
         "x": [
          5.3061224489795915,
          5.3061224489795915
         ],
         "y": [
          0.2709291553765882,
          0.23271527440391154
         ]
        },
        {
         "line": {
          "color": "gray",
          "dash": "dash",
          "width": 1
         },
         "mode": "lines",
         "showlegend": false,
         "type": "scatter",
         "x": [
          5.714285714285714,
          5.714285714285714
         ],
         "y": [
          0.4133978501207743,
          0.40016141100213504
         ]
        },
        {
         "line": {
          "color": "gray",
          "dash": "dash",
          "width": 1
         },
         "mode": "lines",
         "showlegend": false,
         "type": "scatter",
         "x": [
          6.122448979591837,
          6.122448979591837
         ],
         "y": [
          0.5831688744052245,
          0.5275968019299602
         ]
        },
        {
         "line": {
          "color": "gray",
          "dash": "dash",
          "width": 1
         },
         "mode": "lines",
         "showlegend": false,
         "type": "scatter",
         "x": [
          6.530612244897959,
          6.530612244897959
         ],
         "y": [
          0.739166913334271,
          0.722234884158397
         ]
        },
        {
         "line": {
          "color": "gray",
          "dash": "dash",
          "width": 1
         },
         "mode": "lines",
         "showlegend": false,
         "type": "scatter",
         "x": [
          6.938775510204081,
          6.938775510204081
         ],
         "y": [
          0.8653905317793195,
          0.9098063385020131
         ]
        },
        {
         "line": {
          "color": "gray",
          "dash": "dash",
          "width": 1
         },
         "mode": "lines",
         "showlegend": false,
         "type": "scatter",
         "x": [
          7.346938775510204,
          7.346938775510204
         ],
         "y": [
          0.9348708072212123,
          1
         ]
        },
        {
         "line": {
          "color": "gray",
          "dash": "dash",
          "width": 1
         },
         "mode": "lines",
         "showlegend": false,
         "type": "scatter",
         "x": [
          7.755102040816327,
          7.755102040816327
         ],
         "y": [
          0.9634899650890799,
          0.9499027446663093
         ]
        },
        {
         "line": {
          "color": "gray",
          "dash": "dash",
          "width": 1
         },
         "mode": "lines",
         "showlegend": false,
         "type": "scatter",
         "x": [
          8.16326530612245,
          8.16326530612245
         ],
         "y": [
          0.9254536713071618,
          0.8707788697972442
         ]
        },
        {
         "line": {
          "color": "gray",
          "dash": "dash",
          "width": 1
         },
         "mode": "lines",
         "showlegend": false,
         "type": "scatter",
         "x": [
          8.571428571428571,
          8.571428571428571
         ],
         "y": [
          0.8382578800978976,
          0.7017602188449308
         ]
        },
        {
         "line": {
          "color": "gray",
          "dash": "dash",
          "width": 1
         },
         "mode": "lines",
         "showlegend": false,
         "type": "scatter",
         "x": [
          8.979591836734695,
          8.979591836734695
         ],
         "y": [
          0.6986023643421077,
          0.4737369367636651
         ]
        },
        {
         "line": {
          "color": "gray",
          "dash": "dash",
          "width": 1
         },
         "mode": "lines",
         "showlegend": false,
         "type": "scatter",
         "x": [
          9.387755102040817,
          9.387755102040817
         ],
         "y": [
          0.5409011703135934,
          0.23357780758879873
         ]
        },
        {
         "line": {
          "color": "gray",
          "dash": "dash",
          "width": 1
         },
         "mode": "lines",
         "showlegend": false,
         "type": "scatter",
         "x": [
          9.795918367346939,
          9.795918367346939
         ],
         "y": [
          0.3687849167625069,
          0.11457939069059879
         ]
        },
        {
         "line": {
          "color": "gray",
          "dash": "dash",
          "width": 1
         },
         "mode": "lines",
         "showlegend": false,
         "type": "scatter",
         "x": [
          10.204081632653061,
          10.204081632653061
         ],
         "y": [
          0.22705484870532464,
          0.08582799991097922
         ]
        },
        {
         "line": {
          "color": "gray",
          "dash": "dash",
          "width": 1
         },
         "mode": "lines",
         "showlegend": false,
         "type": "scatter",
         "x": [
          10.612244897959183,
          10.612244897959183
         ],
         "y": [
          0.1088707248065921,
          0.011943011894167998
         ]
        },
        {
         "line": {
          "color": "gray",
          "dash": "dash",
          "width": 1
         },
         "mode": "lines",
         "showlegend": false,
         "type": "scatter",
         "x": [
          11.020408163265307,
          11.020408163265307
         ],
         "y": [
          0.043047695463006914,
          0.07054379033858016
         ]
        },
        {
         "line": {
          "color": "gray",
          "dash": "dash",
          "width": 1
         },
         "mode": "lines",
         "showlegend": false,
         "type": "scatter",
         "x": [
          11.428571428571429,
          11.428571428571429
         ],
         "y": [
          0.027994438456602662,
          0.1535806728791373
         ]
        },
        {
         "line": {
          "color": "gray",
          "dash": "dash",
          "width": 1
         },
         "mode": "lines",
         "showlegend": false,
         "type": "scatter",
         "x": [
          11.83673469387755,
          11.83673469387755
         ],
         "y": [
          0.08231559381076692,
          0.332256843302554
         ]
        },
        {
         "line": {
          "color": "gray",
          "dash": "dash",
          "width": 1
         },
         "mode": "lines",
         "showlegend": false,
         "type": "scatter",
         "x": [
          12.244897959183675,
          12.244897959183675
         ],
         "y": [
          0.1872661635671936,
          0.4774898537761248
         ]
        },
        {
         "line": {
          "color": "gray",
          "dash": "dash",
          "width": 1
         },
         "mode": "lines",
         "showlegend": false,
         "type": "scatter",
         "x": [
          12.653061224489797,
          12.653061224489797
         ],
         "y": [
          0.33063053513967444,
          0.6887264436471549
         ]
        },
        {
         "line": {
          "color": "gray",
          "dash": "dash",
          "width": 1
         },
         "mode": "lines",
         "showlegend": false,
         "type": "scatter",
         "x": [
          13.061224489795919,
          13.061224489795919
         ],
         "y": [
          0.5037653648443222,
          0.8741873864078709
         ]
        },
        {
         "line": {
          "color": "gray",
          "dash": "dash",
          "width": 1
         },
         "mode": "lines",
         "showlegend": false,
         "type": "scatter",
         "x": [
          13.46938775510204,
          13.46938775510204
         ],
         "y": [
          0.6609057959723721,
          0.9697631341221639
         ]
        },
        {
         "line": {
          "color": "gray",
          "dash": "dash",
          "width": 1
         },
         "mode": "lines",
         "showlegend": false,
         "type": "scatter",
         "x": [
          13.877551020408163,
          13.877551020408163
         ],
         "y": [
          0.8007969537607372,
          0.9099176093694842
         ]
        },
        {
         "line": {
          "color": "gray",
          "dash": "dash",
          "width": 1
         },
         "mode": "lines",
         "showlegend": false,
         "type": "scatter",
         "x": [
          14.285714285714286,
          14.285714285714286
         ],
         "y": [
          0.875124783463362,
          0.7855794384321136
         ]
        },
        {
         "line": {
          "color": "gray",
          "dash": "dash",
          "width": 1
         },
         "mode": "lines",
         "showlegend": false,
         "type": "scatter",
         "x": [
          14.693877551020408,
          14.693877551020408
         ],
         "y": [
          0.910800456690475,
          0.6094514386939797
         ]
        },
        {
         "line": {
          "color": "gray",
          "dash": "dash",
          "width": 1
         },
         "mode": "lines",
         "showlegend": false,
         "type": "scatter",
         "x": [
          15.10204081632653,
          15.10204081632653
         ],
         "y": [
          0.8820434131619072,
          0.3923710448836974
         ]
        },
        {
         "line": {
          "color": "gray",
          "dash": "dash",
          "width": 1
         },
         "mode": "lines",
         "showlegend": false,
         "type": "scatter",
         "x": [
          15.510204081632654,
          15.510204081632654
         ],
         "y": [
          0.8095890056314603,
          0.20961620393858435
         ]
        },
        {
         "line": {
          "color": "gray",
          "dash": "dash",
          "width": 1
         },
         "mode": "lines",
         "showlegend": false,
         "type": "scatter",
         "x": [
          15.918367346938776,
          15.918367346938776
         ],
         "y": [
          0.6875621372965751,
          0.053872221997682324
         ]
        },
        {
         "line": {
          "color": "gray",
          "dash": "dash",
          "width": 1
         },
         "mode": "lines",
         "showlegend": false,
         "type": "scatter",
         "x": [
          16.3265306122449,
          16.3265306122449
         ],
         "y": [
          0.5152828680877233,
          0.004915455680534429
         ]
        },
        {
         "line": {
          "color": "gray",
          "dash": "dash",
          "width": 1
         },
         "mode": "lines",
         "showlegend": false,
         "type": "scatter",
         "x": [
          16.73469387755102,
          16.73469387755102
         ],
         "y": [
          0.33928932660617206,
          0.052608301378323154
         ]
        },
        {
         "line": {
          "color": "gray",
          "dash": "dash",
          "width": 1
         },
         "mode": "lines",
         "showlegend": false,
         "type": "scatter",
         "x": [
          17.142857142857142,
          17.142857142857142
         ],
         "y": [
          0.17531198138609558,
          0.1522587903940203
         ]
        },
        {
         "line": {
          "color": "gray",
          "dash": "dash",
          "width": 1
         },
         "mode": "lines",
         "showlegend": false,
         "type": "scatter",
         "x": [
          17.551020408163264,
          17.551020408163264
         ],
         "y": [
          0.06802782751673597,
          0.33092578513925347
         ]
        },
        {
         "line": {
          "color": "gray",
          "dash": "dash",
          "width": 1
         },
         "mode": "lines",
         "showlegend": false,
         "type": "scatter",
         "x": [
          17.95918367346939,
          17.95918367346939
         ],
         "y": [
          0.0019661583105030503,
          0.4869797769951559
         ]
        },
        {
         "line": {
          "color": "gray",
          "dash": "dash",
          "width": 1
         },
         "mode": "lines",
         "showlegend": false,
         "type": "scatter",
         "x": [
          18.367346938775512,
          18.367346938775512
         ],
         "y": [
          0,
          0.6586980064150678
         ]
        },
        {
         "line": {
          "color": "gray",
          "dash": "dash",
          "width": 1
         },
         "mode": "lines",
         "showlegend": false,
         "type": "scatter",
         "x": [
          18.775510204081634,
          18.775510204081634
         ],
         "y": [
          0.05279557551414242,
          0.8241682640863531
         ]
        },
        {
         "line": {
          "color": "gray",
          "dash": "dash",
          "width": 1
         },
         "mode": "lines",
         "showlegend": false,
         "type": "scatter",
         "x": [
          19.183673469387756,
          19.183673469387756
         ],
         "y": [
          0.15867077639805074,
          0.8860911501924962
         ]
        },
        {
         "line": {
          "color": "gray",
          "dash": "dash",
          "width": 1
         },
         "mode": "lines",
         "showlegend": false,
         "type": "scatter",
         "x": [
          19.591836734693878,
          19.591836734693878
         ],
         "y": [
          0.2951951568227977,
          0.9027402075112677
         ]
        },
        {
         "line": {
          "color": "gray",
          "dash": "dash",
          "width": 1
         },
         "mode": "lines",
         "showlegend": false,
         "type": "scatter",
         "x": [
          20,
          20
         ],
         "y": [
          0.28549444359227455,
          0.7285988929719499
         ]
        }
       ],
       "layout": {
        "template": {
         "data": {
          "bar": [
           {
            "error_x": {
             "color": "#2a3f5f"
            },
            "error_y": {
             "color": "#2a3f5f"
            },
            "marker": {
             "line": {
              "color": "#E5ECF6",
              "width": 0.5
             },
             "pattern": {
              "fillmode": "overlay",
              "size": 10,
              "solidity": 0.2
             }
            },
            "type": "bar"
           }
          ],
          "barpolar": [
           {
            "marker": {
             "line": {
              "color": "#E5ECF6",
              "width": 0.5
             },
             "pattern": {
              "fillmode": "overlay",
              "size": 10,
              "solidity": 0.2
             }
            },
            "type": "barpolar"
           }
          ],
          "carpet": [
           {
            "aaxis": {
             "endlinecolor": "#2a3f5f",
             "gridcolor": "white",
             "linecolor": "white",
             "minorgridcolor": "white",
             "startlinecolor": "#2a3f5f"
            },
            "baxis": {
             "endlinecolor": "#2a3f5f",
             "gridcolor": "white",
             "linecolor": "white",
             "minorgridcolor": "white",
             "startlinecolor": "#2a3f5f"
            },
            "type": "carpet"
           }
          ],
          "choropleth": [
           {
            "colorbar": {
             "outlinewidth": 0,
             "ticks": ""
            },
            "type": "choropleth"
           }
          ],
          "contour": [
           {
            "colorbar": {
             "outlinewidth": 0,
             "ticks": ""
            },
            "colorscale": [
             [
              0,
              "#0d0887"
             ],
             [
              0.1111111111111111,
              "#46039f"
             ],
             [
              0.2222222222222222,
              "#7201a8"
             ],
             [
              0.3333333333333333,
              "#9c179e"
             ],
             [
              0.4444444444444444,
              "#bd3786"
             ],
             [
              0.5555555555555556,
              "#d8576b"
             ],
             [
              0.6666666666666666,
              "#ed7953"
             ],
             [
              0.7777777777777778,
              "#fb9f3a"
             ],
             [
              0.8888888888888888,
              "#fdca26"
             ],
             [
              1,
              "#f0f921"
             ]
            ],
            "type": "contour"
           }
          ],
          "contourcarpet": [
           {
            "colorbar": {
             "outlinewidth": 0,
             "ticks": ""
            },
            "type": "contourcarpet"
           }
          ],
          "heatmap": [
           {
            "colorbar": {
             "outlinewidth": 0,
             "ticks": ""
            },
            "colorscale": [
             [
              0,
              "#0d0887"
             ],
             [
              0.1111111111111111,
              "#46039f"
             ],
             [
              0.2222222222222222,
              "#7201a8"
             ],
             [
              0.3333333333333333,
              "#9c179e"
             ],
             [
              0.4444444444444444,
              "#bd3786"
             ],
             [
              0.5555555555555556,
              "#d8576b"
             ],
             [
              0.6666666666666666,
              "#ed7953"
             ],
             [
              0.7777777777777778,
              "#fb9f3a"
             ],
             [
              0.8888888888888888,
              "#fdca26"
             ],
             [
              1,
              "#f0f921"
             ]
            ],
            "type": "heatmap"
           }
          ],
          "histogram": [
           {
            "marker": {
             "pattern": {
              "fillmode": "overlay",
              "size": 10,
              "solidity": 0.2
             }
            },
            "type": "histogram"
           }
          ],
          "histogram2d": [
           {
            "colorbar": {
             "outlinewidth": 0,
             "ticks": ""
            },
            "colorscale": [
             [
              0,
              "#0d0887"
             ],
             [
              0.1111111111111111,
              "#46039f"
             ],
             [
              0.2222222222222222,
              "#7201a8"
             ],
             [
              0.3333333333333333,
              "#9c179e"
             ],
             [
              0.4444444444444444,
              "#bd3786"
             ],
             [
              0.5555555555555556,
              "#d8576b"
             ],
             [
              0.6666666666666666,
              "#ed7953"
             ],
             [
              0.7777777777777778,
              "#fb9f3a"
             ],
             [
              0.8888888888888888,
              "#fdca26"
             ],
             [
              1,
              "#f0f921"
             ]
            ],
            "type": "histogram2d"
           }
          ],
          "histogram2dcontour": [
           {
            "colorbar": {
             "outlinewidth": 0,
             "ticks": ""
            },
            "colorscale": [
             [
              0,
              "#0d0887"
             ],
             [
              0.1111111111111111,
              "#46039f"
             ],
             [
              0.2222222222222222,
              "#7201a8"
             ],
             [
              0.3333333333333333,
              "#9c179e"
             ],
             [
              0.4444444444444444,
              "#bd3786"
             ],
             [
              0.5555555555555556,
              "#d8576b"
             ],
             [
              0.6666666666666666,
              "#ed7953"
             ],
             [
              0.7777777777777778,
              "#fb9f3a"
             ],
             [
              0.8888888888888888,
              "#fdca26"
             ],
             [
              1,
              "#f0f921"
             ]
            ],
            "type": "histogram2dcontour"
           }
          ],
          "mesh3d": [
           {
            "colorbar": {
             "outlinewidth": 0,
             "ticks": ""
            },
            "type": "mesh3d"
           }
          ],
          "parcoords": [
           {
            "line": {
             "colorbar": {
              "outlinewidth": 0,
              "ticks": ""
             }
            },
            "type": "parcoords"
           }
          ],
          "pie": [
           {
            "automargin": true,
            "type": "pie"
           }
          ],
          "scatter": [
           {
            "fillpattern": {
             "fillmode": "overlay",
             "size": 10,
             "solidity": 0.2
            },
            "type": "scatter"
           }
          ],
          "scatter3d": [
           {
            "line": {
             "colorbar": {
              "outlinewidth": 0,
              "ticks": ""
             }
            },
            "marker": {
             "colorbar": {
              "outlinewidth": 0,
              "ticks": ""
             }
            },
            "type": "scatter3d"
           }
          ],
          "scattercarpet": [
           {
            "marker": {
             "colorbar": {
              "outlinewidth": 0,
              "ticks": ""
             }
            },
            "type": "scattercarpet"
           }
          ],
          "scattergeo": [
           {
            "marker": {
             "colorbar": {
              "outlinewidth": 0,
              "ticks": ""
             }
            },
            "type": "scattergeo"
           }
          ],
          "scattergl": [
           {
            "marker": {
             "colorbar": {
              "outlinewidth": 0,
              "ticks": ""
             }
            },
            "type": "scattergl"
           }
          ],
          "scattermap": [
           {
            "marker": {
             "colorbar": {
              "outlinewidth": 0,
              "ticks": ""
             }
            },
            "type": "scattermap"
           }
          ],
          "scattermapbox": [
           {
            "marker": {
             "colorbar": {
              "outlinewidth": 0,
              "ticks": ""
             }
            },
            "type": "scattermapbox"
           }
          ],
          "scatterpolar": [
           {
            "marker": {
             "colorbar": {
              "outlinewidth": 0,
              "ticks": ""
             }
            },
            "type": "scatterpolar"
           }
          ],
          "scatterpolargl": [
           {
            "marker": {
             "colorbar": {
              "outlinewidth": 0,
              "ticks": ""
             }
            },
            "type": "scatterpolargl"
           }
          ],
          "scatterternary": [
           {
            "marker": {
             "colorbar": {
              "outlinewidth": 0,
              "ticks": ""
             }
            },
            "type": "scatterternary"
           }
          ],
          "surface": [
           {
            "colorbar": {
             "outlinewidth": 0,
             "ticks": ""
            },
            "colorscale": [
             [
              0,
              "#0d0887"
             ],
             [
              0.1111111111111111,
              "#46039f"
             ],
             [
              0.2222222222222222,
              "#7201a8"
             ],
             [
              0.3333333333333333,
              "#9c179e"
             ],
             [
              0.4444444444444444,
              "#bd3786"
             ],
             [
              0.5555555555555556,
              "#d8576b"
             ],
             [
              0.6666666666666666,
              "#ed7953"
             ],
             [
              0.7777777777777778,
              "#fb9f3a"
             ],
             [
              0.8888888888888888,
              "#fdca26"
             ],
             [
              1,
              "#f0f921"
             ]
            ],
            "type": "surface"
           }
          ],
          "table": [
           {
            "cells": {
             "fill": {
              "color": "#EBF0F8"
             },
             "line": {
              "color": "white"
             }
            },
            "header": {
             "fill": {
              "color": "#C8D4E3"
             },
             "line": {
              "color": "white"
             }
            },
            "type": "table"
           }
          ]
         },
         "layout": {
          "annotationdefaults": {
           "arrowcolor": "#2a3f5f",
           "arrowhead": 0,
           "arrowwidth": 1
          },
          "autotypenumbers": "strict",
          "coloraxis": {
           "colorbar": {
            "outlinewidth": 0,
            "ticks": ""
           }
          },
          "colorscale": {
           "diverging": [
            [
             0,
             "#8e0152"
            ],
            [
             0.1,
             "#c51b7d"
            ],
            [
             0.2,
             "#de77ae"
            ],
            [
             0.3,
             "#f1b6da"
            ],
            [
             0.4,
             "#fde0ef"
            ],
            [
             0.5,
             "#f7f7f7"
            ],
            [
             0.6,
             "#e6f5d0"
            ],
            [
             0.7,
             "#b8e186"
            ],
            [
             0.8,
             "#7fbc41"
            ],
            [
             0.9,
             "#4d9221"
            ],
            [
             1,
             "#276419"
            ]
           ],
           "sequential": [
            [
             0,
             "#0d0887"
            ],
            [
             0.1111111111111111,
             "#46039f"
            ],
            [
             0.2222222222222222,
             "#7201a8"
            ],
            [
             0.3333333333333333,
             "#9c179e"
            ],
            [
             0.4444444444444444,
             "#bd3786"
            ],
            [
             0.5555555555555556,
             "#d8576b"
            ],
            [
             0.6666666666666666,
             "#ed7953"
            ],
            [
             0.7777777777777778,
             "#fb9f3a"
            ],
            [
             0.8888888888888888,
             "#fdca26"
            ],
            [
             1,
             "#f0f921"
            ]
           ],
           "sequentialminus": [
            [
             0,
             "#0d0887"
            ],
            [
             0.1111111111111111,
             "#46039f"
            ],
            [
             0.2222222222222222,
             "#7201a8"
            ],
            [
             0.3333333333333333,
             "#9c179e"
            ],
            [
             0.4444444444444444,
             "#bd3786"
            ],
            [
             0.5555555555555556,
             "#d8576b"
            ],
            [
             0.6666666666666666,
             "#ed7953"
            ],
            [
             0.7777777777777778,
             "#fb9f3a"
            ],
            [
             0.8888888888888888,
             "#fdca26"
            ],
            [
             1,
             "#f0f921"
            ]
           ]
          },
          "colorway": [
           "#636efa",
           "#EF553B",
           "#00cc96",
           "#ab63fa",
           "#FFA15A",
           "#19d3f3",
           "#FF6692",
           "#B6E880",
           "#FF97FF",
           "#FECB52"
          ],
          "font": {
           "color": "#2a3f5f"
          },
          "geo": {
           "bgcolor": "white",
           "lakecolor": "white",
           "landcolor": "#E5ECF6",
           "showlakes": true,
           "showland": true,
           "subunitcolor": "white"
          },
          "hoverlabel": {
           "align": "left"
          },
          "hovermode": "closest",
          "mapbox": {
           "style": "light"
          },
          "paper_bgcolor": "white",
          "plot_bgcolor": "#E5ECF6",
          "polar": {
           "angularaxis": {
            "gridcolor": "white",
            "linecolor": "white",
            "ticks": ""
           },
           "bgcolor": "#E5ECF6",
           "radialaxis": {
            "gridcolor": "white",
            "linecolor": "white",
            "ticks": ""
           }
          },
          "scene": {
           "xaxis": {
            "backgroundcolor": "#E5ECF6",
            "gridcolor": "white",
            "gridwidth": 2,
            "linecolor": "white",
            "showbackground": true,
            "ticks": "",
            "zerolinecolor": "white"
           },
           "yaxis": {
            "backgroundcolor": "#E5ECF6",
            "gridcolor": "white",
            "gridwidth": 2,
            "linecolor": "white",
            "showbackground": true,
            "ticks": "",
            "zerolinecolor": "white"
           },
           "zaxis": {
            "backgroundcolor": "#E5ECF6",
            "gridcolor": "white",
            "gridwidth": 2,
            "linecolor": "white",
            "showbackground": true,
            "ticks": "",
            "zerolinecolor": "white"
           }
          },
          "shapedefaults": {
           "line": {
            "color": "#2a3f5f"
           }
          },
          "ternary": {
           "aaxis": {
            "gridcolor": "white",
            "linecolor": "white",
            "ticks": ""
           },
           "baxis": {
            "gridcolor": "white",
            "linecolor": "white",
            "ticks": ""
           },
           "bgcolor": "#E5ECF6",
           "caxis": {
            "gridcolor": "white",
            "linecolor": "white",
            "ticks": ""
           }
          },
          "title": {
           "x": 0.05
          },
          "xaxis": {
           "automargin": true,
           "gridcolor": "white",
           "linecolor": "white",
           "ticks": "",
           "title": {
            "standoff": 15
           },
           "zerolinecolor": "white",
           "zerolinewidth": 2
          },
          "yaxis": {
           "automargin": true,
           "gridcolor": "white",
           "linecolor": "white",
           "ticks": "",
           "title": {
            "standoff": 15
           },
           "zerolinecolor": "white",
           "zerolinewidth": 2
          }
         }
        },
        "title": {
         "text": "Euclidean Distance Visualization Between Series 1 and Series 2"
        },
        "xaxis": {
         "title": {
          "text": "t"
         }
        },
        "yaxis": {
         "title": {
          "text": "Value"
         }
        }
       }
      }
     },
     "metadata": {},
     "output_type": "display_data"
    }
   ],
   "source": [
    "d_euclidean_sn = euclidean_distance(series1_smooth_norm, series2_smooth_norm)\n",
    "print(f'Euclidean Distance: {d_euclidean_sn:.2f}')\n",
    "\n",
    "plot_euclidean_distance(series1_smooth_norm, series2_smooth_norm, t)"
   ]
  },
  {
   "cell_type": "code",
   "execution_count": 70,
   "id": "60ef48f7",
   "metadata": {},
   "outputs": [
    {
     "name": "stdout",
     "output_type": "stream",
     "text": [
      "Dynamic Time Warping Distance: 4.59\n"
     ]
    },
    {
     "data": {
      "application/vnd.plotly.v1+json": {
       "config": {
        "plotlyServerURL": "https://plot.ly"
       },
       "data": [
        {
         "mode": "lines+markers",
         "name": "Series 1",
         "type": "scatter",
         "x": {
          "bdata": "AAAAAAAAAACIxvrQWB/aP4jG+tBYH+o/5hS8nIKX8z+IxvrQWB/6PxW8nIKXUwBA5hS8nIKXA0C3bdu2bdsGQIjG+tBYHwpAWR8a60NjDUAVvJyCl1MQQH5orA+N9RFA5hS8nIKXE0BOwcspeDkVQLdt27Zt2xZAIBrrQ2N9GECIxvrQWB8aQPByCl5OwRtAWR8a60NjHUDCyyl4OQUfQBW8nIKXUyBASZIkSZIkIUB+aKwPjfUhQLI+NNaHxiJA5hS8nIKXI0Aa60NjfWgkQE7Byyl4OSVAg5dT8HIKJkC3bdu2bdsmQOtDY31orCdAIBrrQ2N9KEBU8HIKXk4pQIjG+tBYHypAvJyCl1PwKkDwcgpeTsErQCVJkiRJkixAWR8a60NjLUCN9aGxPjQuQMLLKXg5BS9A9qGxPjTWL0AVvJyCl1MwQC+n4OUUvDBASZIkSZIkMUBjfWisD40xQH5orA+N9TFAmFPwcgpeMkCyPjTWh8YyQMwpeDkFLzNA5hS8nIKXM0AAAAAAAAA0QA==",
          "dtype": "f8"
         },
         "y": {
          "bdata": "SWOOOfcT5j+TqiWJ6pHvPwAAAAAAAPA/HKUz9I1j7j/Cj+nEDoDrPxEAQeOcEec/ri/F+x784T/jAfjHYa3YP0uRJAkADM4/EtRLyMt6wT8Gz4kt5hK1PyFdvDLoZrg/i72i9C+Pwz+3BXg951bRPw1ZoEEcddo/wbJzxVGp4j9tyuFeQafnP8VTCHxHses/3QHgLnbq7T/xnULo6NTuP89GhwRRne0/80+UMALT6j9/PnhY81rmPymum/gPT+E/9jEwDSya1z9jNsseIhDNP8A/iarz3rs/kRJd+FgKpj+CYJD2kqqcP3A5Xn+iErU/3JAVcFb4xz/m9975DCnVP9ek24rYHuA/oAVu6SMm5T/5cOTuIKDpP3adnLAFAew/ylvV/0Yl7T/r16UbsznsP85szDMn6Ok/SwO1T4IA5j/+BlR/Mn3gP5zxaZTqttU/GztTfZ9wxj/I/WaORWqxP+JJjjRVG2A/AAAAAAAAAADW2WmMBQirP4XzuvFST8Q/23QfOnrk0j9LyZp8ikXSPw==",
          "dtype": "f8"
         }
        },
        {
         "mode": "lines+markers",
         "name": "Series 2",
         "type": "scatter",
         "x": {
          "bdata": "AAAAAAAAAACIxvrQWB/aP4jG+tBYH+o/5hS8nIKX8z+IxvrQWB/6PxW8nIKXUwBA5hS8nIKXA0C3bdu2bdsGQIjG+tBYHwpAWR8a60NjDUAVvJyCl1MQQH5orA+N9RFA5hS8nIKXE0BOwcspeDkVQLdt27Zt2xZAIBrrQ2N9GECIxvrQWB8aQPByCl5OwRtAWR8a60NjHUDCyyl4OQUfQBW8nIKXUyBASZIkSZIkIUB+aKwPjfUhQLI+NNaHxiJA5hS8nIKXI0Aa60NjfWgkQE7Byyl4OSVAg5dT8HIKJkC3bdu2bdsmQOtDY31orCdAIBrrQ2N9KEBU8HIKXk4pQIjG+tBYHypAvJyCl1PwKkDwcgpeTsErQCVJkiRJkixAWR8a60NjLUCN9aGxPjQuQMLLKXg5BS9A9qGxPjTWL0AVvJyCl1MwQC+n4OUUvDBASZIkSZIkMUBjfWisD40xQH5orA+N9TFAmFPwcgpeMkCyPjTWh8YyQMwpeDkFLzNA5hS8nIKXM0AAAAAAAAA0QA==",
          "dtype": "f8"
         },
         "y": {
          "bdata": "R3UvSFCc4T9m7VhLKXrmP6NLYtN5Keo/d8lSwmc67j/KrxfVXr3sPyT0P+XE/+o/u7s5Yst15j/f9nO47sPhP/OsCscJrtc/+hzIX+nDxT81Q3x1QA+xPwAAAAAAAAAACurvBThEvT92F2w2ncnNP00GWJs+nNk/hG04sBLi4D+Es+9UjBznP6vosS4iHe0/AAAAAAAA8D80HtdwmmXuP9V2+qVr3es/OFSy2NF05j+JqJO6tFHeP5snVarg5c0/c83PLxNVvT8Q4bLk0vi1PzNwAuyTdYg/QKlwaCgPsj8GI6gPiKjDP57T9jSyQ9U/UfqImjGP3j97W+sJDArmPxZSZtNX+es/G3o9skwI7z9rfMmICx7tPy07j313I+k/9xq2TaCA4z+fD2txmxzZP5NeUCq01Mo/2ClJzyOVqz8LC0mWOiJ0P10F1qt576o/wqqiTjd9wz+74CRY4y3VP/17ADqtKt8/mMdv1w0U5T8B3ZQfll/qP+hB69PbWuw/23GBbj/j7D8r7CagrlDnPw==",
          "dtype": "f8"
         }
        },
        {
         "line": {
          "color": "gray",
          "dash": "dot",
          "width": 1
         },
         "mode": "lines",
         "showlegend": false,
         "type": "scatter",
         "x": [
          0,
          0
         ],
         "y": [
          0.6899372219223575,
          0.5503312501784102
         ]
        },
        {
         "line": {
          "color": "gray",
          "dash": "dot",
          "width": 1
         },
         "mode": "lines",
         "showlegend": false,
         "type": "scatter",
         "x": [
          0,
          0.40816326530612246
         ],
         "y": [
          0.6899372219223575,
          0.7024122687939041
         ]
        },
        {
         "line": {
          "color": "gray",
          "dash": "dot",
          "width": 1
         },
         "mode": "lines",
         "showlegend": false,
         "type": "scatter",
         "x": [
          0.40816326530612246,
          0.8163265306122449
         ],
         "y": [
          0.9865620306639634,
          0.8175629738419626
         ]
        },
        {
         "line": {
          "color": "gray",
          "dash": "dot",
          "width": 1
         },
         "mode": "lines",
         "showlegend": false,
         "type": "scatter",
         "x": [
          0.8163265306122449,
          1.2244897959183674
         ],
         "y": [
          1,
          0.9446295543078084
         ]
        },
        {
         "line": {
          "color": "gray",
          "dash": "dot",
          "width": 1
         },
         "mode": "lines",
         "showlegend": false,
         "type": "scatter",
         "x": [
          1.2244897959183674,
          1.2244897959183674
         ],
         "y": [
          0.9496526498379896,
          0.9446295543078084
         ]
        },
        {
         "line": {
          "color": "gray",
          "dash": "dot",
          "width": 1
         },
         "mode": "lines",
         "showlegend": false,
         "type": "scatter",
         "x": [
          1.6326530612244898,
          1.6326530612244898
         ],
         "y": [
          0.8593820424980481,
          0.8981165086711311
         ]
        },
        {
         "line": {
          "color": "gray",
          "dash": "dot",
          "width": 1
         },
         "mode": "lines",
         "showlegend": false,
         "type": "scatter",
         "x": [
          1.6326530612244898,
          2.0408163265306123
         ],
         "y": [
          0.8593820424980481,
          0.8437218167815712
         ]
        },
        {
         "line": {
          "color": "gray",
          "dash": "dot",
          "width": 1
         },
         "mode": "lines",
         "showlegend": false,
         "type": "scatter",
         "x": [
          2.0408163265306123,
          2.4489795918367347
         ],
         "y": [
          0.7209000052025677,
          0.7018792074649051
         ]
        },
        {
         "line": {
          "color": "gray",
          "dash": "dot",
          "width": 1
         },
         "mode": "lines",
         "showlegend": false,
         "type": "scatter",
         "x": [
          2.4489795918367347,
          2.857142857142857
         ],
         "y": [
          0.5620264928233973,
          0.5551675417516114
         ]
        },
        {
         "line": {
          "color": "gray",
          "dash": "dot",
          "width": 1
         },
         "mode": "lines",
         "showlegend": false,
         "type": "scatter",
         "x": [
          2.857142857142857,
          3.2653061224489797
         ],
         "y": [
          0.38558239486886076,
          0.3699974483267418
         ]
        },
        {
         "line": {
          "color": "gray",
          "dash": "dot",
          "width": 1
         },
         "mode": "lines",
         "showlegend": false,
         "type": "scatter",
         "x": [
          3.2653061224489797,
          3.673469387755102
         ],
         "y": [
          0.23474121519496757,
          0.1700412481006664
         ]
        },
        {
         "line": {
          "color": "gray",
          "dash": "dot",
          "width": 1
         },
         "mode": "lines",
         "showlegend": false,
         "type": "scatter",
         "x": [
          3.673469387755102,
          3.673469387755102
         ],
         "y": [
          0.13655993728721733,
          0.1700412481006664
         ]
        },
        {
         "line": {
          "color": "gray",
          "dash": "dot",
          "width": 1
         },
         "mode": "lines",
         "showlegend": false,
         "type": "scatter",
         "x": [
          4.081632653061225,
          4.081632653061225
         ],
         "y": [
          0.08231962787413857,
          0.06663897388740454
         ]
        },
        {
         "line": {
          "color": "gray",
          "dash": "dot",
          "width": 1
         },
         "mode": "lines",
         "showlegend": false,
         "type": "scatter",
         "x": [
          4.4897959183673475,
          4.4897959183673475
         ],
         "y": [
          0.09532023657481094,
          0
         ]
        },
        {
         "line": {
          "color": "gray",
          "dash": "dot",
          "width": 1
         },
         "mode": "lines",
         "showlegend": false,
         "type": "scatter",
         "x": [
          4.8979591836734695,
          4.8979591836734695
         ],
         "y": [
          0.15280723042586106,
          0.11432218689871135
         ]
        },
        {
         "line": {
          "color": "gray",
          "dash": "dot",
          "width": 1
         },
         "mode": "lines",
         "showlegend": false,
         "type": "scatter",
         "x": [
          5.3061224489795915,
          5.3061224489795915
         ],
         "y": [
          0.2709291553765882,
          0.23271527440391154
         ]
        },
        {
         "line": {
          "color": "gray",
          "dash": "dot",
          "width": 1
         },
         "mode": "lines",
         "showlegend": false,
         "type": "scatter",
         "x": [
          5.714285714285714,
          5.714285714285714
         ],
         "y": [
          0.4133978501207743,
          0.40016141100213504
         ]
        },
        {
         "line": {
          "color": "gray",
          "dash": "dot",
          "width": 1
         },
         "mode": "lines",
         "showlegend": false,
         "type": "scatter",
         "x": [
          6.122448979591837,
          6.122448979591837
         ],
         "y": [
          0.5831688744052245,
          0.5275968019299602
         ]
        },
        {
         "line": {
          "color": "gray",
          "dash": "dot",
          "width": 1
         },
         "mode": "lines",
         "showlegend": false,
         "type": "scatter",
         "x": [
          6.530612244897959,
          6.530612244897959
         ],
         "y": [
          0.739166913334271,
          0.722234884158397
         ]
        },
        {
         "line": {
          "color": "gray",
          "dash": "dot",
          "width": 1
         },
         "mode": "lines",
         "showlegend": false,
         "type": "scatter",
         "x": [
          6.938775510204081,
          6.938775510204081
         ],
         "y": [
          0.8653905317793195,
          0.9098063385020131
         ]
        },
        {
         "line": {
          "color": "gray",
          "dash": "dot",
          "width": 1
         },
         "mode": "lines",
         "showlegend": false,
         "type": "scatter",
         "x": [
          7.346938775510204,
          6.938775510204081
         ],
         "y": [
          0.9348708072212123,
          0.9098063385020131
         ]
        },
        {
         "line": {
          "color": "gray",
          "dash": "dot",
          "width": 1
         },
         "mode": "lines",
         "showlegend": false,
         "type": "scatter",
         "x": [
          7.755102040816327,
          7.346938775510204
         ],
         "y": [
          0.9634899650890799,
          1
         ]
        },
        {
         "line": {
          "color": "gray",
          "dash": "dot",
          "width": 1
         },
         "mode": "lines",
         "showlegend": false,
         "type": "scatter",
         "x": [
          8.16326530612245,
          7.755102040816327
         ],
         "y": [
          0.9254536713071618,
          0.9499027446663093
         ]
        },
        {
         "line": {
          "color": "gray",
          "dash": "dot",
          "width": 1
         },
         "mode": "lines",
         "showlegend": false,
         "type": "scatter",
         "x": [
          8.571428571428571,
          8.16326530612245
         ],
         "y": [
          0.8382578800978976,
          0.8707788697972442
         ]
        },
        {
         "line": {
          "color": "gray",
          "dash": "dot",
          "width": 1
         },
         "mode": "lines",
         "showlegend": false,
         "type": "scatter",
         "x": [
          8.979591836734695,
          8.571428571428571
         ],
         "y": [
          0.6986023643421077,
          0.7017602188449308
         ]
        },
        {
         "line": {
          "color": "gray",
          "dash": "dot",
          "width": 1
         },
         "mode": "lines",
         "showlegend": false,
         "type": "scatter",
         "x": [
          9.387755102040817,
          8.979591836734695
         ],
         "y": [
          0.5409011703135934,
          0.4737369367636651
         ]
        },
        {
         "line": {
          "color": "gray",
          "dash": "dot",
          "width": 1
         },
         "mode": "lines",
         "showlegend": false,
         "type": "scatter",
         "x": [
          9.795918367346939,
          8.979591836734695
         ],
         "y": [
          0.3687849167625069,
          0.4737369367636651
         ]
        },
        {
         "line": {
          "color": "gray",
          "dash": "dot",
          "width": 1
         },
         "mode": "lines",
         "showlegend": false,
         "type": "scatter",
         "x": [
          10.204081632653061,
          9.387755102040817
         ],
         "y": [
          0.22705484870532464,
          0.23357780758879873
         ]
        },
        {
         "line": {
          "color": "gray",
          "dash": "dot",
          "width": 1
         },
         "mode": "lines",
         "showlegend": false,
         "type": "scatter",
         "x": [
          10.612244897959183,
          9.795918367346939
         ],
         "y": [
          0.1088707248065921,
          0.11457939069059879
         ]
        },
        {
         "line": {
          "color": "gray",
          "dash": "dot",
          "width": 1
         },
         "mode": "lines",
         "showlegend": false,
         "type": "scatter",
         "x": [
          11.020408163265307,
          10.204081632653061
         ],
         "y": [
          0.043047695463006914,
          0.08582799991097922
         ]
        },
        {
         "line": {
          "color": "gray",
          "dash": "dot",
          "width": 1
         },
         "mode": "lines",
         "showlegend": false,
         "type": "scatter",
         "x": [
          11.428571428571429,
          10.612244897959183
         ],
         "y": [
          0.027994438456602662,
          0.011943011894167998
         ]
        },
        {
         "line": {
          "color": "gray",
          "dash": "dot",
          "width": 1
         },
         "mode": "lines",
         "showlegend": false,
         "type": "scatter",
         "x": [
          11.83673469387755,
          11.020408163265307
         ],
         "y": [
          0.08231559381076692,
          0.07054379033858016
         ]
        },
        {
         "line": {
          "color": "gray",
          "dash": "dot",
          "width": 1
         },
         "mode": "lines",
         "showlegend": false,
         "type": "scatter",
         "x": [
          12.244897959183675,
          11.428571428571429
         ],
         "y": [
          0.1872661635671936,
          0.1535806728791373
         ]
        },
        {
         "line": {
          "color": "gray",
          "dash": "dot",
          "width": 1
         },
         "mode": "lines",
         "showlegend": false,
         "type": "scatter",
         "x": [
          12.653061224489797,
          11.83673469387755
         ],
         "y": [
          0.33063053513967444,
          0.332256843302554
         ]
        },
        {
         "line": {
          "color": "gray",
          "dash": "dot",
          "width": 1
         },
         "mode": "lines",
         "showlegend": false,
         "type": "scatter",
         "x": [
          13.061224489795919,
          12.244897959183675
         ],
         "y": [
          0.5037653648443222,
          0.4774898537761248
         ]
        },
        {
         "line": {
          "color": "gray",
          "dash": "dot",
          "width": 1
         },
         "mode": "lines",
         "showlegend": false,
         "type": "scatter",
         "x": [
          13.46938775510204,
          12.653061224489797
         ],
         "y": [
          0.6609057959723721,
          0.6887264436471549
         ]
        },
        {
         "line": {
          "color": "gray",
          "dash": "dot",
          "width": 1
         },
         "mode": "lines",
         "showlegend": false,
         "type": "scatter",
         "x": [
          13.877551020408163,
          13.061224489795919
         ],
         "y": [
          0.8007969537607372,
          0.8741873864078709
         ]
        },
        {
         "line": {
          "color": "gray",
          "dash": "dot",
          "width": 1
         },
         "mode": "lines",
         "showlegend": false,
         "type": "scatter",
         "x": [
          14.285714285714286,
          13.061224489795919
         ],
         "y": [
          0.875124783463362,
          0.8741873864078709
         ]
        },
        {
         "line": {
          "color": "gray",
          "dash": "dot",
          "width": 1
         },
         "mode": "lines",
         "showlegend": false,
         "type": "scatter",
         "x": [
          14.693877551020408,
          13.46938775510204
         ],
         "y": [
          0.910800456690475,
          0.9697631341221639
         ]
        },
        {
         "line": {
          "color": "gray",
          "dash": "dot",
          "width": 1
         },
         "mode": "lines",
         "showlegend": false,
         "type": "scatter",
         "x": [
          15.10204081632653,
          13.877551020408163
         ],
         "y": [
          0.8820434131619072,
          0.9099176093694842
         ]
        },
        {
         "line": {
          "color": "gray",
          "dash": "dot",
          "width": 1
         },
         "mode": "lines",
         "showlegend": false,
         "type": "scatter",
         "x": [
          15.510204081632654,
          14.285714285714286
         ],
         "y": [
          0.8095890056314603,
          0.7855794384321136
         ]
        },
        {
         "line": {
          "color": "gray",
          "dash": "dot",
          "width": 1
         },
         "mode": "lines",
         "showlegend": false,
         "type": "scatter",
         "x": [
          15.918367346938776,
          14.693877551020408
         ],
         "y": [
          0.6875621372965751,
          0.6094514386939797
         ]
        },
        {
         "line": {
          "color": "gray",
          "dash": "dot",
          "width": 1
         },
         "mode": "lines",
         "showlegend": false,
         "type": "scatter",
         "x": [
          16.3265306122449,
          14.693877551020408
         ],
         "y": [
          0.5152828680877233,
          0.6094514386939797
         ]
        },
        {
         "line": {
          "color": "gray",
          "dash": "dot",
          "width": 1
         },
         "mode": "lines",
         "showlegend": false,
         "type": "scatter",
         "x": [
          16.73469387755102,
          15.10204081632653
         ],
         "y": [
          0.33928932660617206,
          0.3923710448836974
         ]
        },
        {
         "line": {
          "color": "gray",
          "dash": "dot",
          "width": 1
         },
         "mode": "lines",
         "showlegend": false,
         "type": "scatter",
         "x": [
          17.142857142857142,
          15.510204081632654
         ],
         "y": [
          0.17531198138609558,
          0.20961620393858435
         ]
        },
        {
         "line": {
          "color": "gray",
          "dash": "dot",
          "width": 1
         },
         "mode": "lines",
         "showlegend": false,
         "type": "scatter",
         "x": [
          17.551020408163264,
          15.918367346938776
         ],
         "y": [
          0.06802782751673597,
          0.053872221997682324
         ]
        },
        {
         "line": {
          "color": "gray",
          "dash": "dot",
          "width": 1
         },
         "mode": "lines",
         "showlegend": false,
         "type": "scatter",
         "x": [
          17.95918367346939,
          16.3265306122449
         ],
         "y": [
          0.0019661583105030503,
          0.004915455680534429
         ]
        },
        {
         "line": {
          "color": "gray",
          "dash": "dot",
          "width": 1
         },
         "mode": "lines",
         "showlegend": false,
         "type": "scatter",
         "x": [
          18.367346938775512,
          16.3265306122449
         ],
         "y": [
          0,
          0.004915455680534429
         ]
        },
        {
         "line": {
          "color": "gray",
          "dash": "dot",
          "width": 1
         },
         "mode": "lines",
         "showlegend": false,
         "type": "scatter",
         "x": [
          18.775510204081634,
          16.73469387755102
         ],
         "y": [
          0.05279557551414242,
          0.052608301378323154
         ]
        },
        {
         "line": {
          "color": "gray",
          "dash": "dot",
          "width": 1
         },
         "mode": "lines",
         "showlegend": false,
         "type": "scatter",
         "x": [
          19.183673469387756,
          17.142857142857142
         ],
         "y": [
          0.15867077639805074,
          0.1522587903940203
         ]
        },
        {
         "line": {
          "color": "gray",
          "dash": "dot",
          "width": 1
         },
         "mode": "lines",
         "showlegend": false,
         "type": "scatter",
         "x": [
          19.591836734693878,
          17.551020408163264
         ],
         "y": [
          0.2951951568227977,
          0.33092578513925347
         ]
        },
        {
         "line": {
          "color": "gray",
          "dash": "dot",
          "width": 1
         },
         "mode": "lines",
         "showlegend": false,
         "type": "scatter",
         "x": [
          19.591836734693878,
          17.95918367346939
         ],
         "y": [
          0.2951951568227977,
          0.4869797769951559
         ]
        },
        {
         "line": {
          "color": "gray",
          "dash": "dot",
          "width": 1
         },
         "mode": "lines",
         "showlegend": false,
         "type": "scatter",
         "x": [
          19.591836734693878,
          18.367346938775512
         ],
         "y": [
          0.2951951568227977,
          0.6586980064150678
         ]
        },
        {
         "line": {
          "color": "gray",
          "dash": "dot",
          "width": 1
         },
         "mode": "lines",
         "showlegend": false,
         "type": "scatter",
         "x": [
          19.591836734693878,
          18.775510204081634
         ],
         "y": [
          0.2951951568227977,
          0.8241682640863531
         ]
        },
        {
         "line": {
          "color": "gray",
          "dash": "dot",
          "width": 1
         },
         "mode": "lines",
         "showlegend": false,
         "type": "scatter",
         "x": [
          19.591836734693878,
          19.183673469387756
         ],
         "y": [
          0.2951951568227977,
          0.8860911501924962
         ]
        },
        {
         "line": {
          "color": "gray",
          "dash": "dot",
          "width": 1
         },
         "mode": "lines",
         "showlegend": false,
         "type": "scatter",
         "x": [
          19.591836734693878,
          19.591836734693878
         ],
         "y": [
          0.2951951568227977,
          0.9027402075112677
         ]
        },
        {
         "line": {
          "color": "gray",
          "dash": "dot",
          "width": 1
         },
         "mode": "lines",
         "showlegend": false,
         "type": "scatter",
         "x": [
          20,
          20
         ],
         "y": [
          0.28549444359227455,
          0.7285988929719499
         ]
        }
       ],
       "layout": {
        "template": {
         "data": {
          "bar": [
           {
            "error_x": {
             "color": "#2a3f5f"
            },
            "error_y": {
             "color": "#2a3f5f"
            },
            "marker": {
             "line": {
              "color": "#E5ECF6",
              "width": 0.5
             },
             "pattern": {
              "fillmode": "overlay",
              "size": 10,
              "solidity": 0.2
             }
            },
            "type": "bar"
           }
          ],
          "barpolar": [
           {
            "marker": {
             "line": {
              "color": "#E5ECF6",
              "width": 0.5
             },
             "pattern": {
              "fillmode": "overlay",
              "size": 10,
              "solidity": 0.2
             }
            },
            "type": "barpolar"
           }
          ],
          "carpet": [
           {
            "aaxis": {
             "endlinecolor": "#2a3f5f",
             "gridcolor": "white",
             "linecolor": "white",
             "minorgridcolor": "white",
             "startlinecolor": "#2a3f5f"
            },
            "baxis": {
             "endlinecolor": "#2a3f5f",
             "gridcolor": "white",
             "linecolor": "white",
             "minorgridcolor": "white",
             "startlinecolor": "#2a3f5f"
            },
            "type": "carpet"
           }
          ],
          "choropleth": [
           {
            "colorbar": {
             "outlinewidth": 0,
             "ticks": ""
            },
            "type": "choropleth"
           }
          ],
          "contour": [
           {
            "colorbar": {
             "outlinewidth": 0,
             "ticks": ""
            },
            "colorscale": [
             [
              0,
              "#0d0887"
             ],
             [
              0.1111111111111111,
              "#46039f"
             ],
             [
              0.2222222222222222,
              "#7201a8"
             ],
             [
              0.3333333333333333,
              "#9c179e"
             ],
             [
              0.4444444444444444,
              "#bd3786"
             ],
             [
              0.5555555555555556,
              "#d8576b"
             ],
             [
              0.6666666666666666,
              "#ed7953"
             ],
             [
              0.7777777777777778,
              "#fb9f3a"
             ],
             [
              0.8888888888888888,
              "#fdca26"
             ],
             [
              1,
              "#f0f921"
             ]
            ],
            "type": "contour"
           }
          ],
          "contourcarpet": [
           {
            "colorbar": {
             "outlinewidth": 0,
             "ticks": ""
            },
            "type": "contourcarpet"
           }
          ],
          "heatmap": [
           {
            "colorbar": {
             "outlinewidth": 0,
             "ticks": ""
            },
            "colorscale": [
             [
              0,
              "#0d0887"
             ],
             [
              0.1111111111111111,
              "#46039f"
             ],
             [
              0.2222222222222222,
              "#7201a8"
             ],
             [
              0.3333333333333333,
              "#9c179e"
             ],
             [
              0.4444444444444444,
              "#bd3786"
             ],
             [
              0.5555555555555556,
              "#d8576b"
             ],
             [
              0.6666666666666666,
              "#ed7953"
             ],
             [
              0.7777777777777778,
              "#fb9f3a"
             ],
             [
              0.8888888888888888,
              "#fdca26"
             ],
             [
              1,
              "#f0f921"
             ]
            ],
            "type": "heatmap"
           }
          ],
          "histogram": [
           {
            "marker": {
             "pattern": {
              "fillmode": "overlay",
              "size": 10,
              "solidity": 0.2
             }
            },
            "type": "histogram"
           }
          ],
          "histogram2d": [
           {
            "colorbar": {
             "outlinewidth": 0,
             "ticks": ""
            },
            "colorscale": [
             [
              0,
              "#0d0887"
             ],
             [
              0.1111111111111111,
              "#46039f"
             ],
             [
              0.2222222222222222,
              "#7201a8"
             ],
             [
              0.3333333333333333,
              "#9c179e"
             ],
             [
              0.4444444444444444,
              "#bd3786"
             ],
             [
              0.5555555555555556,
              "#d8576b"
             ],
             [
              0.6666666666666666,
              "#ed7953"
             ],
             [
              0.7777777777777778,
              "#fb9f3a"
             ],
             [
              0.8888888888888888,
              "#fdca26"
             ],
             [
              1,
              "#f0f921"
             ]
            ],
            "type": "histogram2d"
           }
          ],
          "histogram2dcontour": [
           {
            "colorbar": {
             "outlinewidth": 0,
             "ticks": ""
            },
            "colorscale": [
             [
              0,
              "#0d0887"
             ],
             [
              0.1111111111111111,
              "#46039f"
             ],
             [
              0.2222222222222222,
              "#7201a8"
             ],
             [
              0.3333333333333333,
              "#9c179e"
             ],
             [
              0.4444444444444444,
              "#bd3786"
             ],
             [
              0.5555555555555556,
              "#d8576b"
             ],
             [
              0.6666666666666666,
              "#ed7953"
             ],
             [
              0.7777777777777778,
              "#fb9f3a"
             ],
             [
              0.8888888888888888,
              "#fdca26"
             ],
             [
              1,
              "#f0f921"
             ]
            ],
            "type": "histogram2dcontour"
           }
          ],
          "mesh3d": [
           {
            "colorbar": {
             "outlinewidth": 0,
             "ticks": ""
            },
            "type": "mesh3d"
           }
          ],
          "parcoords": [
           {
            "line": {
             "colorbar": {
              "outlinewidth": 0,
              "ticks": ""
             }
            },
            "type": "parcoords"
           }
          ],
          "pie": [
           {
            "automargin": true,
            "type": "pie"
           }
          ],
          "scatter": [
           {
            "fillpattern": {
             "fillmode": "overlay",
             "size": 10,
             "solidity": 0.2
            },
            "type": "scatter"
           }
          ],
          "scatter3d": [
           {
            "line": {
             "colorbar": {
              "outlinewidth": 0,
              "ticks": ""
             }
            },
            "marker": {
             "colorbar": {
              "outlinewidth": 0,
              "ticks": ""
             }
            },
            "type": "scatter3d"
           }
          ],
          "scattercarpet": [
           {
            "marker": {
             "colorbar": {
              "outlinewidth": 0,
              "ticks": ""
             }
            },
            "type": "scattercarpet"
           }
          ],
          "scattergeo": [
           {
            "marker": {
             "colorbar": {
              "outlinewidth": 0,
              "ticks": ""
             }
            },
            "type": "scattergeo"
           }
          ],
          "scattergl": [
           {
            "marker": {
             "colorbar": {
              "outlinewidth": 0,
              "ticks": ""
             }
            },
            "type": "scattergl"
           }
          ],
          "scattermap": [
           {
            "marker": {
             "colorbar": {
              "outlinewidth": 0,
              "ticks": ""
             }
            },
            "type": "scattermap"
           }
          ],
          "scattermapbox": [
           {
            "marker": {
             "colorbar": {
              "outlinewidth": 0,
              "ticks": ""
             }
            },
            "type": "scattermapbox"
           }
          ],
          "scatterpolar": [
           {
            "marker": {
             "colorbar": {
              "outlinewidth": 0,
              "ticks": ""
             }
            },
            "type": "scatterpolar"
           }
          ],
          "scatterpolargl": [
           {
            "marker": {
             "colorbar": {
              "outlinewidth": 0,
              "ticks": ""
             }
            },
            "type": "scatterpolargl"
           }
          ],
          "scatterternary": [
           {
            "marker": {
             "colorbar": {
              "outlinewidth": 0,
              "ticks": ""
             }
            },
            "type": "scatterternary"
           }
          ],
          "surface": [
           {
            "colorbar": {
             "outlinewidth": 0,
             "ticks": ""
            },
            "colorscale": [
             [
              0,
              "#0d0887"
             ],
             [
              0.1111111111111111,
              "#46039f"
             ],
             [
              0.2222222222222222,
              "#7201a8"
             ],
             [
              0.3333333333333333,
              "#9c179e"
             ],
             [
              0.4444444444444444,
              "#bd3786"
             ],
             [
              0.5555555555555556,
              "#d8576b"
             ],
             [
              0.6666666666666666,
              "#ed7953"
             ],
             [
              0.7777777777777778,
              "#fb9f3a"
             ],
             [
              0.8888888888888888,
              "#fdca26"
             ],
             [
              1,
              "#f0f921"
             ]
            ],
            "type": "surface"
           }
          ],
          "table": [
           {
            "cells": {
             "fill": {
              "color": "#EBF0F8"
             },
             "line": {
              "color": "white"
             }
            },
            "header": {
             "fill": {
              "color": "#C8D4E3"
             },
             "line": {
              "color": "white"
             }
            },
            "type": "table"
           }
          ]
         },
         "layout": {
          "annotationdefaults": {
           "arrowcolor": "#2a3f5f",
           "arrowhead": 0,
           "arrowwidth": 1
          },
          "autotypenumbers": "strict",
          "coloraxis": {
           "colorbar": {
            "outlinewidth": 0,
            "ticks": ""
           }
          },
          "colorscale": {
           "diverging": [
            [
             0,
             "#8e0152"
            ],
            [
             0.1,
             "#c51b7d"
            ],
            [
             0.2,
             "#de77ae"
            ],
            [
             0.3,
             "#f1b6da"
            ],
            [
             0.4,
             "#fde0ef"
            ],
            [
             0.5,
             "#f7f7f7"
            ],
            [
             0.6,
             "#e6f5d0"
            ],
            [
             0.7,
             "#b8e186"
            ],
            [
             0.8,
             "#7fbc41"
            ],
            [
             0.9,
             "#4d9221"
            ],
            [
             1,
             "#276419"
            ]
           ],
           "sequential": [
            [
             0,
             "#0d0887"
            ],
            [
             0.1111111111111111,
             "#46039f"
            ],
            [
             0.2222222222222222,
             "#7201a8"
            ],
            [
             0.3333333333333333,
             "#9c179e"
            ],
            [
             0.4444444444444444,
             "#bd3786"
            ],
            [
             0.5555555555555556,
             "#d8576b"
            ],
            [
             0.6666666666666666,
             "#ed7953"
            ],
            [
             0.7777777777777778,
             "#fb9f3a"
            ],
            [
             0.8888888888888888,
             "#fdca26"
            ],
            [
             1,
             "#f0f921"
            ]
           ],
           "sequentialminus": [
            [
             0,
             "#0d0887"
            ],
            [
             0.1111111111111111,
             "#46039f"
            ],
            [
             0.2222222222222222,
             "#7201a8"
            ],
            [
             0.3333333333333333,
             "#9c179e"
            ],
            [
             0.4444444444444444,
             "#bd3786"
            ],
            [
             0.5555555555555556,
             "#d8576b"
            ],
            [
             0.6666666666666666,
             "#ed7953"
            ],
            [
             0.7777777777777778,
             "#fb9f3a"
            ],
            [
             0.8888888888888888,
             "#fdca26"
            ],
            [
             1,
             "#f0f921"
            ]
           ]
          },
          "colorway": [
           "#636efa",
           "#EF553B",
           "#00cc96",
           "#ab63fa",
           "#FFA15A",
           "#19d3f3",
           "#FF6692",
           "#B6E880",
           "#FF97FF",
           "#FECB52"
          ],
          "font": {
           "color": "#2a3f5f"
          },
          "geo": {
           "bgcolor": "white",
           "lakecolor": "white",
           "landcolor": "#E5ECF6",
           "showlakes": true,
           "showland": true,
           "subunitcolor": "white"
          },
          "hoverlabel": {
           "align": "left"
          },
          "hovermode": "closest",
          "mapbox": {
           "style": "light"
          },
          "paper_bgcolor": "white",
          "plot_bgcolor": "#E5ECF6",
          "polar": {
           "angularaxis": {
            "gridcolor": "white",
            "linecolor": "white",
            "ticks": ""
           },
           "bgcolor": "#E5ECF6",
           "radialaxis": {
            "gridcolor": "white",
            "linecolor": "white",
            "ticks": ""
           }
          },
          "scene": {
           "xaxis": {
            "backgroundcolor": "#E5ECF6",
            "gridcolor": "white",
            "gridwidth": 2,
            "linecolor": "white",
            "showbackground": true,
            "ticks": "",
            "zerolinecolor": "white"
           },
           "yaxis": {
            "backgroundcolor": "#E5ECF6",
            "gridcolor": "white",
            "gridwidth": 2,
            "linecolor": "white",
            "showbackground": true,
            "ticks": "",
            "zerolinecolor": "white"
           },
           "zaxis": {
            "backgroundcolor": "#E5ECF6",
            "gridcolor": "white",
            "gridwidth": 2,
            "linecolor": "white",
            "showbackground": true,
            "ticks": "",
            "zerolinecolor": "white"
           }
          },
          "shapedefaults": {
           "line": {
            "color": "#2a3f5f"
           }
          },
          "ternary": {
           "aaxis": {
            "gridcolor": "white",
            "linecolor": "white",
            "ticks": ""
           },
           "baxis": {
            "gridcolor": "white",
            "linecolor": "white",
            "ticks": ""
           },
           "bgcolor": "#E5ECF6",
           "caxis": {
            "gridcolor": "white",
            "linecolor": "white",
            "ticks": ""
           }
          },
          "title": {
           "x": 0.05
          },
          "xaxis": {
           "automargin": true,
           "gridcolor": "white",
           "linecolor": "white",
           "ticks": "",
           "title": {
            "standoff": 15
           },
           "zerolinecolor": "white",
           "zerolinewidth": 2
          },
          "yaxis": {
           "automargin": true,
           "gridcolor": "white",
           "linecolor": "white",
           "ticks": "",
           "title": {
            "standoff": 15
           },
           "zerolinecolor": "white",
           "zerolinewidth": 2
          }
         }
        },
        "title": {
         "text": "Dynamic Time Warping Alignment Between Series 1 and Series 2"
        },
        "xaxis": {
         "title": {
          "text": "t"
         }
        },
        "yaxis": {
         "title": {
          "text": "Value"
         }
        }
       }
      }
     },
     "metadata": {},
     "output_type": "display_data"
    }
   ],
   "source": [
    "d_dtw_sn, path_sn = dtw_distance(series1_smooth_norm, series2_smooth_norm)\n",
    "\n",
    "print(f'Dynamic Time Warping Distance: {d_dtw_sn:.2f}')\n",
    "\n",
    "plot_dtw_alignment(series1_smooth_norm, series2_smooth_norm, t, path_sn)"
   ]
  },
  {
   "cell_type": "code",
   "execution_count": null,
   "id": "0963a5ed",
   "metadata": {},
   "outputs": [],
   "source": []
  }
 ],
 "metadata": {
  "kernelspec": {
   "display_name": ".venv",
   "language": "python",
   "name": "python3"
  },
  "language_info": {
   "codemirror_mode": {
    "name": "ipython",
    "version": 3
   },
   "file_extension": ".py",
   "mimetype": "text/x-python",
   "name": "python",
   "nbconvert_exporter": "python",
   "pygments_lexer": "ipython3",
   "version": "3.13.5"
  }
 },
 "nbformat": 4,
 "nbformat_minor": 5
}

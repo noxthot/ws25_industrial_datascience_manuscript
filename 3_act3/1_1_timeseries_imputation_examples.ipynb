{
 "cells": [
  {
   "cell_type": "markdown",
   "id": "b788ad65",
   "metadata": {},
   "source": [
    "# Examples for time series imputation\n",
    "\n",
    "The collapsed code cells include the imports, helper functions, and data loading.\n",
    "\n",
    "*Imports*"
   ]
  },
  {
   "cell_type": "code",
   "execution_count": 1,
   "id": "0b28cd40",
   "metadata": {},
   "outputs": [],
   "source": [
    "#| code-fold: true\n",
    "\n",
    "import numpy as np\n",
    "import pandas as pd\n",
    "import plotly.graph_objects as go\n",
    "\n",
    "from plotly.subplots import make_subplots"
   ]
  },
  {
   "cell_type": "markdown",
   "id": "b4b186a4",
   "metadata": {},
   "source": [
    "*Data loading*"
   ]
  },
  {
   "cell_type": "code",
   "execution_count": 2,
   "id": "c64c9878",
   "metadata": {},
   "outputs": [
    {
     "data": {
      "text/html": [
       "<div>\n",
       "<style scoped>\n",
       "    .dataframe tbody tr th:only-of-type {\n",
       "        vertical-align: middle;\n",
       "    }\n",
       "\n",
       "    .dataframe tbody tr th {\n",
       "        vertical-align: top;\n",
       "    }\n",
       "\n",
       "    .dataframe thead th {\n",
       "        text-align: right;\n",
       "    }\n",
       "</style>\n",
       "<table border=\"1\" class=\"dataframe\">\n",
       "  <thead>\n",
       "    <tr style=\"text-align: right;\">\n",
       "      <th></th>\n",
       "      <th>UDI</th>\n",
       "      <th>Product ID</th>\n",
       "      <th>Type</th>\n",
       "      <th>Air temperature [K]</th>\n",
       "      <th>Process temperature [K]</th>\n",
       "      <th>Rotational speed [rpm]</th>\n",
       "      <th>Torque [Nm]</th>\n",
       "      <th>Tool wear [min]</th>\n",
       "      <th>Machine failure</th>\n",
       "      <th>TWF</th>\n",
       "      <th>HDF</th>\n",
       "      <th>PWF</th>\n",
       "      <th>OSF</th>\n",
       "      <th>RNF</th>\n",
       "    </tr>\n",
       "  </thead>\n",
       "  <tbody>\n",
       "    <tr>\n",
       "      <th>0</th>\n",
       "      <td>1</td>\n",
       "      <td>M14860</td>\n",
       "      <td>M</td>\n",
       "      <td>298.1</td>\n",
       "      <td>308.6</td>\n",
       "      <td>1551</td>\n",
       "      <td>42.8</td>\n",
       "      <td>0</td>\n",
       "      <td>0</td>\n",
       "      <td>0</td>\n",
       "      <td>0</td>\n",
       "      <td>0</td>\n",
       "      <td>0</td>\n",
       "      <td>0</td>\n",
       "    </tr>\n",
       "    <tr>\n",
       "      <th>1</th>\n",
       "      <td>2</td>\n",
       "      <td>L47181</td>\n",
       "      <td>L</td>\n",
       "      <td>298.2</td>\n",
       "      <td>308.7</td>\n",
       "      <td>1408</td>\n",
       "      <td>46.3</td>\n",
       "      <td>3</td>\n",
       "      <td>0</td>\n",
       "      <td>0</td>\n",
       "      <td>0</td>\n",
       "      <td>0</td>\n",
       "      <td>0</td>\n",
       "      <td>0</td>\n",
       "    </tr>\n",
       "    <tr>\n",
       "      <th>2</th>\n",
       "      <td>3</td>\n",
       "      <td>L47182</td>\n",
       "      <td>L</td>\n",
       "      <td>298.1</td>\n",
       "      <td>308.5</td>\n",
       "      <td>1498</td>\n",
       "      <td>49.4</td>\n",
       "      <td>5</td>\n",
       "      <td>0</td>\n",
       "      <td>0</td>\n",
       "      <td>0</td>\n",
       "      <td>0</td>\n",
       "      <td>0</td>\n",
       "      <td>0</td>\n",
       "    </tr>\n",
       "    <tr>\n",
       "      <th>3</th>\n",
       "      <td>4</td>\n",
       "      <td>L47183</td>\n",
       "      <td>L</td>\n",
       "      <td>298.2</td>\n",
       "      <td>308.6</td>\n",
       "      <td>1433</td>\n",
       "      <td>39.5</td>\n",
       "      <td>7</td>\n",
       "      <td>0</td>\n",
       "      <td>0</td>\n",
       "      <td>0</td>\n",
       "      <td>0</td>\n",
       "      <td>0</td>\n",
       "      <td>0</td>\n",
       "    </tr>\n",
       "    <tr>\n",
       "      <th>4</th>\n",
       "      <td>5</td>\n",
       "      <td>L47184</td>\n",
       "      <td>L</td>\n",
       "      <td>298.2</td>\n",
       "      <td>308.7</td>\n",
       "      <td>1408</td>\n",
       "      <td>40.0</td>\n",
       "      <td>9</td>\n",
       "      <td>0</td>\n",
       "      <td>0</td>\n",
       "      <td>0</td>\n",
       "      <td>0</td>\n",
       "      <td>0</td>\n",
       "      <td>0</td>\n",
       "    </tr>\n",
       "  </tbody>\n",
       "</table>\n",
       "</div>"
      ],
      "text/plain": [
       "   UDI Product ID Type  Air temperature [K]  Process temperature [K]  \\\n",
       "0    1     M14860    M                298.1                    308.6   \n",
       "1    2     L47181    L                298.2                    308.7   \n",
       "2    3     L47182    L                298.1                    308.5   \n",
       "3    4     L47183    L                298.2                    308.6   \n",
       "4    5     L47184    L                298.2                    308.7   \n",
       "\n",
       "   Rotational speed [rpm]  Torque [Nm]  Tool wear [min]  Machine failure  TWF  \\\n",
       "0                    1551         42.8                0                0    0   \n",
       "1                    1408         46.3                3                0    0   \n",
       "2                    1498         49.4                5                0    0   \n",
       "3                    1433         39.5                7                0    0   \n",
       "4                    1408         40.0                9                0    0   \n",
       "\n",
       "   HDF  PWF  OSF  RNF  \n",
       "0    0    0    0    0  \n",
       "1    0    0    0    0  \n",
       "2    0    0    0    0  \n",
       "3    0    0    0    0  \n",
       "4    0    0    0    0  "
      ]
     },
     "execution_count": 2,
     "metadata": {},
     "output_type": "execute_result"
    }
   ],
   "source": [
    "#| code-fold: true\n",
    "\n",
    "df = pd.read_csv(\"https://archive.ics.uci.edu/static/public/601/ai4i+2020+predictive+maintenance+dataset.zip\")\n",
    "\n",
    "df.head()"
   ]
  },
  {
   "cell_type": "markdown",
   "id": "246fa88d",
   "metadata": {},
   "source": [
    "*Extract process temperature and add gaps of random lenghts at random positions.*"
   ]
  },
  {
   "cell_type": "code",
   "execution_count": 3,
   "id": "456af17b",
   "metadata": {},
   "outputs": [],
   "source": [
    "dftemp = df[[\"UDI\", \"Process temperature [K]\"]].rename(columns={\"Process temperature [K]\": \"process_temperature_K\"})[:1000] \n",
    "\n",
    "dftemp[\"process_temperature_K\"] += np.random.normal(loc=0, scale=0.1, size=len(dftemp))  # Add a little bit of noise to the process temperature (mean 0, std 0.5)\n",
    "dftemp.loc[:, \"process_temperature_K_gaps\"] = dftemp[\"process_temperature_K\"]\n",
    "\n",
    "# Randomly select start indices and gap lengths\n",
    "num_gaps = 50  # Number of gaps to introduce\n",
    "gap_min = 3     # Minimum gap length\n",
    "gap_max = 20    # Maximum gap length\n",
    "\n",
    "n = len(dftemp)\n",
    "rng = np.random.default_rng(seed=42)\n",
    "starts = rng.choice(n - gap_max, size=num_gaps, replace=False)\n",
    "lengths = rng.integers(gap_min, gap_max + 1, size=num_gaps)\n",
    "\n",
    "for start, length in zip(starts, lengths):\n",
    "    dftemp.loc[start:(start + length), \"process_temperature_K_gaps\"] = None"
   ]
  },
  {
   "cell_type": "markdown",
   "id": "cf00c372",
   "metadata": {},
   "source": [
    "*Helper function plot_temperature_data, which visualizes the original temperature data with and without gaps. If imputated column **int_column** is provided, it will be plotted as well alongside a difference plot.*"
   ]
  },
  {
   "cell_type": "code",
   "execution_count": 4,
   "id": "6e50d693",
   "metadata": {},
   "outputs": [],
   "source": [
    "def plot_temperature_data(dftemp, orig_data_column=\"process_temperature_K\", gap_column=\"process_temperature_K_gaps\", int_column=None):\n",
    "    if int_column is not None:\n",
    "        dff = dftemp[[\"UDI\", gap_column, int_column]].copy()\n",
    "        dff.loc[~dftemp[gap_column].isna(), int_column] = None\n",
    "\n",
    "        # Plot the difference between original and imputed as a separate subplot\n",
    "        diff = dftemp[orig_data_column] - dff[int_column]\n",
    "\n",
    "        # Create subplots: first for temperature, second for difference\n",
    "        fig = make_subplots(\n",
    "            rows=2, cols=1,\n",
    "            shared_xaxes=True,\n",
    "            vertical_spacing=0.1,\n",
    "            subplot_titles=(\"Process Temperature With and Without Gaps\", \"Original - Imputed Difference\")\n",
    "        )\n",
    "\n",
    "        # Top plot: original, gaps, imputed\n",
    "        fig.add_trace(\n",
    "            go.Scatter(\n",
    "            x=dftemp[\"UDI\"],\n",
    "            y=dftemp[orig_data_column],\n",
    "            mode='lines',\n",
    "            name='Original',\n",
    "            line=dict(color='lightgrey')\n",
    "            ),\n",
    "            row=1, col=1\n",
    "        )\n",
    "        fig.add_trace(\n",
    "            go.Scatter(\n",
    "            x=dftemp[\"UDI\"],\n",
    "            y=dftemp[gap_column],\n",
    "            mode='lines',\n",
    "            name='With Gaps',\n",
    "            ),\n",
    "            row=1, col=1\n",
    "        )\n",
    "        dff = dftemp[[\"UDI\", gap_column, int_column]].copy()\n",
    "        dff.loc[~dftemp[gap_column].isna(), int_column] = None\n",
    "        fig.add_trace(\n",
    "            go.Scatter(\n",
    "            x=dff[\"UDI\"],\n",
    "            y=dff[int_column],\n",
    "            mode='lines',\n",
    "            name='Imputed',\n",
    "            line=dict(color='blue')\n",
    "            ),\n",
    "            row=1, col=1\n",
    "        )\n",
    "\n",
    "        # Bottom plot: difference\n",
    "        fig.add_trace(\n",
    "            go.Scatter(\n",
    "            x=dftemp[\"UDI\"],\n",
    "            y=diff,\n",
    "            mode='lines',\n",
    "            name='Original - Imputed',\n",
    "            line=dict(color='green')\n",
    "            ),\n",
    "            row=2, col=1\n",
    "        )\n",
    "\n",
    "        fig.update_layout(\n",
    "            height=700,\n",
    "            title_text=\"Process Temperature With and Without Gaps and Imputation Difference\",\n",
    "            xaxis_title=\"UDI\",\n",
    "            yaxis_title=\"Process Temperature [K]\",\n",
    "        )\n",
    "        fig.update_yaxes(title_text=\"Process Temperature [K]\", row=1, col=1)\n",
    "        fig.update_yaxes(title_text=\"Difference\", row=2, col=1)\n",
    "    else:\n",
    "        fig = go.Figure()\n",
    "        fig.add_trace(\n",
    "            go.Scatter(\n",
    "                x=dftemp[\"UDI\"],\n",
    "                y=dftemp[orig_data_column],\n",
    "                mode='lines',\n",
    "                name='Original',\n",
    "                line=dict(color='lightgrey')\n",
    "            )\n",
    "        )\n",
    "        fig.add_trace(\n",
    "            go.Scatter(\n",
    "                x=dftemp[\"UDI\"],\n",
    "                y=dftemp[gap_column],\n",
    "                mode='lines',\n",
    "                name='With Gaps',\n",
    "            )\n",
    "        )\n",
    "\n",
    "        fig.update_layout(\n",
    "            title=\"Process Temperature With and Without Gaps\",\n",
    "            xaxis_title=\"UDI\",\n",
    "            yaxis_title=\"Process Temperature [K]\"\n",
    "        )\n",
    "\n",
    "    fig.show()\n",
    "\n",
    "\n",
    "def plot_smoothed_temperature_data(dftemp, smoothed_column):\n",
    "    # Calculate difference\n",
    "    diff = dftemp[\"process_temperature_K\"] - dftemp[smoothed_column]\n",
    "\n",
    "    # Create subplots: first for temperature, second for difference\n",
    "    fig = make_subplots(\n",
    "        rows=2, cols=1,\n",
    "        shared_xaxes=True,\n",
    "        vertical_spacing=0.1,\n",
    "        subplot_titles=(\"Process Temperature: Original vs Smoothed\", \"Original - Smoothed Difference\")\n",
    "    )\n",
    "\n",
    "    # Top plot: original and smoothed\n",
    "    fig.add_trace(\n",
    "        go.Scatter(\n",
    "            x=dftemp[\"UDI\"],\n",
    "            y=dftemp[\"process_temperature_K\"],\n",
    "            mode='lines',\n",
    "            name='Original',\n",
    "            line=dict(color='lightgrey')\n",
    "        ),\n",
    "        row=1, col=1\n",
    "    )\n",
    "    fig.add_trace(\n",
    "        go.Scatter(\n",
    "            x=dftemp[\"UDI\"],\n",
    "            y=dftemp[smoothed_column],\n",
    "            mode='lines',\n",
    "            name='Smoothed',\n",
    "            line=dict(color='blue')\n",
    "        ),\n",
    "        row=1, col=1\n",
    "    )\n",
    "\n",
    "    # Bottom plot: difference\n",
    "    fig.add_trace(\n",
    "        go.Scatter(\n",
    "            x=dftemp[\"UDI\"],\n",
    "            y=diff,\n",
    "            mode='lines',\n",
    "            name='Original - Smoothed',\n",
    "            line=dict(color='green')\n",
    "        ),\n",
    "        row=2, col=1\n",
    "    )\n",
    "\n",
    "    fig.update_layout(\n",
    "        height=700,\n",
    "        title_text=\"Process Temperature: Original, Smoothed, and Difference\",\n",
    "        xaxis_title=\"UDI\"\n",
    "    )\n",
    "    fig.update_yaxes(title_text=\"Process Temperature [K]\", row=1, col=1)\n",
    "    fig.update_yaxes(title_text=\"Difference\", row=2, col=1)\n",
    "\n",
    "    fig.show()"
   ]
  },
  {
   "cell_type": "markdown",
   "id": "3babe576",
   "metadata": {},
   "source": [
    "## Visualization of the temperature data with and without gaps"
   ]
  },
  {
   "cell_type": "code",
   "execution_count": 5,
   "id": "cb728343",
   "metadata": {},
   "outputs": [
    {
     "data": {
      "application/vnd.plotly.v1+json": {
       "config": {
        "plotlyServerURL": "https://plot.ly"
       },
       "data": [
        {
         "line": {
          "color": "lightgrey"
         },
         "mode": "lines",
         "name": "Original",
         "type": "scatter",
         "x": {
          "bdata": "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",
          "dtype": "i2"
         },
         "y": {
          "bdata": "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",
          "dtype": "f8"
         }
        },
        {
         "mode": "lines",
         "name": "With Gaps",
         "type": "scatter",
         "x": {
          "bdata": "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",
          "dtype": "i2"
         },
         "y": {
          "bdata": "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",
          "dtype": "f8"
         }
        }
       ],
       "layout": {
        "template": {
         "data": {
          "bar": [
           {
            "error_x": {
             "color": "#2a3f5f"
            },
            "error_y": {
             "color": "#2a3f5f"
            },
            "marker": {
             "line": {
              "color": "#E5ECF6",
              "width": 0.5
             },
             "pattern": {
              "fillmode": "overlay",
              "size": 10,
              "solidity": 0.2
             }
            },
            "type": "bar"
           }
          ],
          "barpolar": [
           {
            "marker": {
             "line": {
              "color": "#E5ECF6",
              "width": 0.5
             },
             "pattern": {
              "fillmode": "overlay",
              "size": 10,
              "solidity": 0.2
             }
            },
            "type": "barpolar"
           }
          ],
          "carpet": [
           {
            "aaxis": {
             "endlinecolor": "#2a3f5f",
             "gridcolor": "white",
             "linecolor": "white",
             "minorgridcolor": "white",
             "startlinecolor": "#2a3f5f"
            },
            "baxis": {
             "endlinecolor": "#2a3f5f",
             "gridcolor": "white",
             "linecolor": "white",
             "minorgridcolor": "white",
             "startlinecolor": "#2a3f5f"
            },
            "type": "carpet"
           }
          ],
          "choropleth": [
           {
            "colorbar": {
             "outlinewidth": 0,
             "ticks": ""
            },
            "type": "choropleth"
           }
          ],
          "contour": [
           {
            "colorbar": {
             "outlinewidth": 0,
             "ticks": ""
            },
            "colorscale": [
             [
              0,
              "#0d0887"
             ],
             [
              0.1111111111111111,
              "#46039f"
             ],
             [
              0.2222222222222222,
              "#7201a8"
             ],
             [
              0.3333333333333333,
              "#9c179e"
             ],
             [
              0.4444444444444444,
              "#bd3786"
             ],
             [
              0.5555555555555556,
              "#d8576b"
             ],
             [
              0.6666666666666666,
              "#ed7953"
             ],
             [
              0.7777777777777778,
              "#fb9f3a"
             ],
             [
              0.8888888888888888,
              "#fdca26"
             ],
             [
              1,
              "#f0f921"
             ]
            ],
            "type": "contour"
           }
          ],
          "contourcarpet": [
           {
            "colorbar": {
             "outlinewidth": 0,
             "ticks": ""
            },
            "type": "contourcarpet"
           }
          ],
          "heatmap": [
           {
            "colorbar": {
             "outlinewidth": 0,
             "ticks": ""
            },
            "colorscale": [
             [
              0,
              "#0d0887"
             ],
             [
              0.1111111111111111,
              "#46039f"
             ],
             [
              0.2222222222222222,
              "#7201a8"
             ],
             [
              0.3333333333333333,
              "#9c179e"
             ],
             [
              0.4444444444444444,
              "#bd3786"
             ],
             [
              0.5555555555555556,
              "#d8576b"
             ],
             [
              0.6666666666666666,
              "#ed7953"
             ],
             [
              0.7777777777777778,
              "#fb9f3a"
             ],
             [
              0.8888888888888888,
              "#fdca26"
             ],
             [
              1,
              "#f0f921"
             ]
            ],
            "type": "heatmap"
           }
          ],
          "histogram": [
           {
            "marker": {
             "pattern": {
              "fillmode": "overlay",
              "size": 10,
              "solidity": 0.2
             }
            },
            "type": "histogram"
           }
          ],
          "histogram2d": [
           {
            "colorbar": {
             "outlinewidth": 0,
             "ticks": ""
            },
            "colorscale": [
             [
              0,
              "#0d0887"
             ],
             [
              0.1111111111111111,
              "#46039f"
             ],
             [
              0.2222222222222222,
              "#7201a8"
             ],
             [
              0.3333333333333333,
              "#9c179e"
             ],
             [
              0.4444444444444444,
              "#bd3786"
             ],
             [
              0.5555555555555556,
              "#d8576b"
             ],
             [
              0.6666666666666666,
              "#ed7953"
             ],
             [
              0.7777777777777778,
              "#fb9f3a"
             ],
             [
              0.8888888888888888,
              "#fdca26"
             ],
             [
              1,
              "#f0f921"
             ]
            ],
            "type": "histogram2d"
           }
          ],
          "histogram2dcontour": [
           {
            "colorbar": {
             "outlinewidth": 0,
             "ticks": ""
            },
            "colorscale": [
             [
              0,
              "#0d0887"
             ],
             [
              0.1111111111111111,
              "#46039f"
             ],
             [
              0.2222222222222222,
              "#7201a8"
             ],
             [
              0.3333333333333333,
              "#9c179e"
             ],
             [
              0.4444444444444444,
              "#bd3786"
             ],
             [
              0.5555555555555556,
              "#d8576b"
             ],
             [
              0.6666666666666666,
              "#ed7953"
             ],
             [
              0.7777777777777778,
              "#fb9f3a"
             ],
             [
              0.8888888888888888,
              "#fdca26"
             ],
             [
              1,
              "#f0f921"
             ]
            ],
            "type": "histogram2dcontour"
           }
          ],
          "mesh3d": [
           {
            "colorbar": {
             "outlinewidth": 0,
             "ticks": ""
            },
            "type": "mesh3d"
           }
          ],
          "parcoords": [
           {
            "line": {
             "colorbar": {
              "outlinewidth": 0,
              "ticks": ""
             }
            },
            "type": "parcoords"
           }
          ],
          "pie": [
           {
            "automargin": true,
            "type": "pie"
           }
          ],
          "scatter": [
           {
            "fillpattern": {
             "fillmode": "overlay",
             "size": 10,
             "solidity": 0.2
            },
            "type": "scatter"
           }
          ],
          "scatter3d": [
           {
            "line": {
             "colorbar": {
              "outlinewidth": 0,
              "ticks": ""
             }
            },
            "marker": {
             "colorbar": {
              "outlinewidth": 0,
              "ticks": ""
             }
            },
            "type": "scatter3d"
           }
          ],
          "scattercarpet": [
           {
            "marker": {
             "colorbar": {
              "outlinewidth": 0,
              "ticks": ""
             }
            },
            "type": "scattercarpet"
           }
          ],
          "scattergeo": [
           {
            "marker": {
             "colorbar": {
              "outlinewidth": 0,
              "ticks": ""
             }
            },
            "type": "scattergeo"
           }
          ],
          "scattergl": [
           {
            "marker": {
             "colorbar": {
              "outlinewidth": 0,
              "ticks": ""
             }
            },
            "type": "scattergl"
           }
          ],
          "scattermap": [
           {
            "marker": {
             "colorbar": {
              "outlinewidth": 0,
              "ticks": ""
             }
            },
            "type": "scattermap"
           }
          ],
          "scattermapbox": [
           {
            "marker": {
             "colorbar": {
              "outlinewidth": 0,
              "ticks": ""
             }
            },
            "type": "scattermapbox"
           }
          ],
          "scatterpolar": [
           {
            "marker": {
             "colorbar": {
              "outlinewidth": 0,
              "ticks": ""
             }
            },
            "type": "scatterpolar"
           }
          ],
          "scatterpolargl": [
           {
            "marker": {
             "colorbar": {
              "outlinewidth": 0,
              "ticks": ""
             }
            },
            "type": "scatterpolargl"
           }
          ],
          "scatterternary": [
           {
            "marker": {
             "colorbar": {
              "outlinewidth": 0,
              "ticks": ""
             }
            },
            "type": "scatterternary"
           }
          ],
          "surface": [
           {
            "colorbar": {
             "outlinewidth": 0,
             "ticks": ""
            },
            "colorscale": [
             [
              0,
              "#0d0887"
             ],
             [
              0.1111111111111111,
              "#46039f"
             ],
             [
              0.2222222222222222,
              "#7201a8"
             ],
             [
              0.3333333333333333,
              "#9c179e"
             ],
             [
              0.4444444444444444,
              "#bd3786"
             ],
             [
              0.5555555555555556,
              "#d8576b"
             ],
             [
              0.6666666666666666,
              "#ed7953"
             ],
             [
              0.7777777777777778,
              "#fb9f3a"
             ],
             [
              0.8888888888888888,
              "#fdca26"
             ],
             [
              1,
              "#f0f921"
             ]
            ],
            "type": "surface"
           }
          ],
          "table": [
           {
            "cells": {
             "fill": {
              "color": "#EBF0F8"
             },
             "line": {
              "color": "white"
             }
            },
            "header": {
             "fill": {
              "color": "#C8D4E3"
             },
             "line": {
              "color": "white"
             }
            },
            "type": "table"
           }
          ]
         },
         "layout": {
          "annotationdefaults": {
           "arrowcolor": "#2a3f5f",
           "arrowhead": 0,
           "arrowwidth": 1
          },
          "autotypenumbers": "strict",
          "coloraxis": {
           "colorbar": {
            "outlinewidth": 0,
            "ticks": ""
           }
          },
          "colorscale": {
           "diverging": [
            [
             0,
             "#8e0152"
            ],
            [
             0.1,
             "#c51b7d"
            ],
            [
             0.2,
             "#de77ae"
            ],
            [
             0.3,
             "#f1b6da"
            ],
            [
             0.4,
             "#fde0ef"
            ],
            [
             0.5,
             "#f7f7f7"
            ],
            [
             0.6,
             "#e6f5d0"
            ],
            [
             0.7,
             "#b8e186"
            ],
            [
             0.8,
             "#7fbc41"
            ],
            [
             0.9,
             "#4d9221"
            ],
            [
             1,
             "#276419"
            ]
           ],
           "sequential": [
            [
             0,
             "#0d0887"
            ],
            [
             0.1111111111111111,
             "#46039f"
            ],
            [
             0.2222222222222222,
             "#7201a8"
            ],
            [
             0.3333333333333333,
             "#9c179e"
            ],
            [
             0.4444444444444444,
             "#bd3786"
            ],
            [
             0.5555555555555556,
             "#d8576b"
            ],
            [
             0.6666666666666666,
             "#ed7953"
            ],
            [
             0.7777777777777778,
             "#fb9f3a"
            ],
            [
             0.8888888888888888,
             "#fdca26"
            ],
            [
             1,
             "#f0f921"
            ]
           ],
           "sequentialminus": [
            [
             0,
             "#0d0887"
            ],
            [
             0.1111111111111111,
             "#46039f"
            ],
            [
             0.2222222222222222,
             "#7201a8"
            ],
            [
             0.3333333333333333,
             "#9c179e"
            ],
            [
             0.4444444444444444,
             "#bd3786"
            ],
            [
             0.5555555555555556,
             "#d8576b"
            ],
            [
             0.6666666666666666,
             "#ed7953"
            ],
            [
             0.7777777777777778,
             "#fb9f3a"
            ],
            [
             0.8888888888888888,
             "#fdca26"
            ],
            [
             1,
             "#f0f921"
            ]
           ]
          },
          "colorway": [
           "#636efa",
           "#EF553B",
           "#00cc96",
           "#ab63fa",
           "#FFA15A",
           "#19d3f3",
           "#FF6692",
           "#B6E880",
           "#FF97FF",
           "#FECB52"
          ],
          "font": {
           "color": "#2a3f5f"
          },
          "geo": {
           "bgcolor": "white",
           "lakecolor": "white",
           "landcolor": "#E5ECF6",
           "showlakes": true,
           "showland": true,
           "subunitcolor": "white"
          },
          "hoverlabel": {
           "align": "left"
          },
          "hovermode": "closest",
          "mapbox": {
           "style": "light"
          },
          "paper_bgcolor": "white",
          "plot_bgcolor": "#E5ECF6",
          "polar": {
           "angularaxis": {
            "gridcolor": "white",
            "linecolor": "white",
            "ticks": ""
           },
           "bgcolor": "#E5ECF6",
           "radialaxis": {
            "gridcolor": "white",
            "linecolor": "white",
            "ticks": ""
           }
          },
          "scene": {
           "xaxis": {
            "backgroundcolor": "#E5ECF6",
            "gridcolor": "white",
            "gridwidth": 2,
            "linecolor": "white",
            "showbackground": true,
            "ticks": "",
            "zerolinecolor": "white"
           },
           "yaxis": {
            "backgroundcolor": "#E5ECF6",
            "gridcolor": "white",
            "gridwidth": 2,
            "linecolor": "white",
            "showbackground": true,
            "ticks": "",
            "zerolinecolor": "white"
           },
           "zaxis": {
            "backgroundcolor": "#E5ECF6",
            "gridcolor": "white",
            "gridwidth": 2,
            "linecolor": "white",
            "showbackground": true,
            "ticks": "",
            "zerolinecolor": "white"
           }
          },
          "shapedefaults": {
           "line": {
            "color": "#2a3f5f"
           }
          },
          "ternary": {
           "aaxis": {
            "gridcolor": "white",
            "linecolor": "white",
            "ticks": ""
           },
           "baxis": {
            "gridcolor": "white",
            "linecolor": "white",
            "ticks": ""
           },
           "bgcolor": "#E5ECF6",
           "caxis": {
            "gridcolor": "white",
            "linecolor": "white",
            "ticks": ""
           }
          },
          "title": {
           "x": 0.05
          },
          "xaxis": {
           "automargin": true,
           "gridcolor": "white",
           "linecolor": "white",
           "ticks": "",
           "title": {
            "standoff": 15
           },
           "zerolinecolor": "white",
           "zerolinewidth": 2
          },
          "yaxis": {
           "automargin": true,
           "gridcolor": "white",
           "linecolor": "white",
           "ticks": "",
           "title": {
            "standoff": 15
           },
           "zerolinecolor": "white",
           "zerolinewidth": 2
          }
         }
        },
        "title": {
         "text": "Process Temperature With and Without Gaps"
        },
        "xaxis": {
         "title": {
          "text": "UDI"
         }
        },
        "yaxis": {
         "title": {
          "text": "Process Temperature [K]"
         }
        }
       }
      }
     },
     "metadata": {},
     "output_type": "display_data"
    }
   ],
   "source": [
    "plot_temperature_data(dftemp)"
   ]
  },
  {
   "cell_type": "markdown",
   "id": "6ff2c5a8",
   "metadata": {},
   "source": [
    "## Forward fill imputation\n",
    "\n",
    "Forward fill imputation (also known as last observation carried forward) is a simple and commonly used method for handling missing data in time series.\n",
    "It involves replacing missing values with the most recent non-missing value prior to the gap.\n",
    "\n",
    "Advantages:\n",
    "\n",
    "- Simple to implement and computationally efficient.\n",
    "- Preserves the last known state, which can be useful in certain contexts.\n",
    "- Works well for short gaps where the last observation is a reasonable estimate for the missing values.\n",
    "\n",
    "Disadvantages:\n",
    "- Can introduce bias if the last observation is not representative of the missing values.\n",
    "- May not capture trends or patterns in the data, especially for long gaps.\n",
    "- Can lead to unrealistic flat segments in the time series.\n",
    "- Does not account for seasonality or cyclic patterns in the data."
   ]
  },
  {
   "cell_type": "code",
   "execution_count": 6,
   "id": "15580ae9",
   "metadata": {},
   "outputs": [
    {
     "data": {
      "application/vnd.plotly.v1+json": {
       "config": {
        "plotlyServerURL": "https://plot.ly"
       },
       "data": [
        {
         "line": {
          "color": "lightgrey"
         },
         "mode": "lines",
         "name": "Original",
         "type": "scatter",
         "x": {
          "bdata": "AQACAAMABAAFAAYABwAIAAkACgALAAwADQAOAA8AEAARABIAEwAUABUAFgAXABgAGQAaABsAHAAdAB4AHwAgACEAIgAjACQAJQAmACcAKAApACoAKwAsAC0ALgAvADAAMQAyADMANAA1ADYANwA4ADkAOgA7ADwAPQA+AD8AQABBAEIAQwBEAEUARgBHAEgASQBKAEsATABNAE4ATwBQAFEAUgBTAFQAVQBWAFcAWABZAFoAWwBcAF0AXgBfAGAAYQBiAGMAZABlAGYAZwBoAGkAagBrAGwAbQBuAG8AcABxAHIAcwB0AHUAdgB3AHgAeQB6AHsAfAB9AH4AfwCAAIEAggCDAIQAhQCGAIcAiACJAIoAiwCMAI0AjgCPAJAAkQCSAJMAlACVAJYAlwCYAJkAmgCbAJwAnQCeAJ8AoAChAKIAowCkAKUApgCnAKgAqQCqAKsArACtAK4ArwCwALEAsgCzALQAtQC2ALcAuAC5ALoAuwC8AL0AvgC/AMAAwQDCAMMAxADFAMYAxwDIAMkAygDLAMwAzQDOAM8A0ADRANIA0wDUANUA1gDXANgA2QDaANsA3ADdAN4A3wDgAOEA4gDjAOQA5QDmAOcA6ADpAOoA6wDsAO0A7gDvAPAA8QDyAPMA9AD1APYA9wD4APkA+gD7APwA/QD+AP8AAAEBAQIBAwEEAQUBBgEHAQgBCQEKAQsBDAENAQ4BDwEQAREBEgETARQBFQEWARcBGAEZARoBGwEcAR0BHgEfASABIQEiASMBJAElASYBJwEoASkBKgErASwBLQEuAS8BMAExATIBMwE0ATUBNgE3ATgBOQE6ATsBPAE9AT4BPwFAAUEBQgFDAUQBRQFGAUcBSAFJAUoBSwFMAU0BTgFPAVABUQFSAVMBVAFVAVYBVwFYAVkBWgFbAVwBXQFeAV8BYAFhAWIBYwFkAWUBZgFnAWgBaQFqAWsBbAFtAW4BbwFwAXEBcgFzAXQBdQF2AXcBeAF5AXoBewF8AX0BfgF/AYABgQGCAYMBhAGFAYYBhwGIAYkBigGLAYwBjQGOAY8BkAGRAZIBkwGUAZUBlgGXAZgBmQGaAZsBnAGdAZ4BnwGgAaEBogGjAaQBpQGmAacBqAGpAaoBqwGsAa0BrgGvAbABsQGyAbMBtAG1AbYBtwG4AbkBugG7AbwBvQG+Ab8BwAHBAcIBwwHEAcUBxgHHAcgByQHKAcsBzAHNAc4BzwHQAdEB0gHTAdQB1QHWAdcB2AHZAdoB2wHcAd0B3gHfAeAB4QHiAeMB5AHlAeYB5wHoAekB6gHrAewB7QHuAe8B8AHxAfIB8wH0AfUB9gH3AfgB+QH6AfsB/AH9Af4B/wEAAgECAgIDAgQCBQIGAgcCCAIJAgoCCwIMAg0CDgIPAhACEQISAhMCFAIVAhYCFwIYAhkCGgIbAhwCHQIeAh8CIAIhAiICIwIkAiUCJgInAigCKQIqAisCLAItAi4CLwIwAjECMgIzAjQCNQI2AjcCOAI5AjoCOwI8Aj0CPgI/AkACQQJCAkMCRAJFAkYCRwJIAkkCSgJLAkwCTQJOAk8CUAJRAlICUwJUAlUCVgJXAlgCWQJaAlsCXAJdAl4CXwJgAmECYgJjAmQCZQJmAmcCaAJpAmoCawJsAm0CbgJvAnACcQJyAnMCdAJ1AnYCdwJ4AnkCegJ7AnwCfQJ+An8CgAKBAoICgwKEAoUChgKHAogCiQKKAosCjAKNAo4CjwKQApECkgKTApQClQKWApcCmAKZApoCmwKcAp0CngKfAqACoQKiAqMCpAKlAqYCpwKoAqkCqgKrAqwCrQKuAq8CsAKxArICswK0ArUCtgK3ArgCuQK6ArsCvAK9Ar4CvwLAAsECwgLDAsQCxQLGAscCyALJAsoCywLMAs0CzgLPAtAC0QLSAtMC1ALVAtYC1wLYAtkC2gLbAtwC3QLeAt8C4ALhAuIC4wLkAuUC5gLnAugC6QLqAusC7ALtAu4C7wLwAvEC8gLzAvQC9QL2AvcC+AL5AvoC+wL8Av0C/gL/AgADAQMCAwMDBAMFAwYDBwMIAwkDCgMLAwwDDQMOAw8DEAMRAxIDEwMUAxUDFgMXAxgDGQMaAxsDHAMdAx4DHwMgAyEDIgMjAyQDJQMmAycDKAMpAyoDKwMsAy0DLgMvAzADMQMyAzMDNAM1AzYDNwM4AzkDOgM7AzwDPQM+Az8DQANBA0IDQwNEA0UDRgNHA0gDSQNKA0sDTANNA04DTwNQA1EDUgNTA1QDVQNWA1cDWANZA1oDWwNcA10DXgNfA2ADYQNiA2MDZANlA2YDZwNoA2kDagNrA2wDbQNuA28DcANxA3IDcwN0A3UDdgN3A3gDeQN6A3sDfAN9A34DfwOAA4EDggODA4QDhQOGA4cDiAOJA4oDiwOMA40DjgOPA5ADkQOSA5MDlAOVA5YDlwOYA5kDmgObA5wDnQOeA58DoAOhA6IDowOkA6UDpgOnA6gDqQOqA6sDrAOtA64DrwOwA7EDsgOzA7QDtQO2A7cDuAO5A7oDuwO8A70DvgO/A8ADwQPCA8MDxAPFA8YDxwPIA8kDygPLA8wDzQPOA88D0APRA9ID0wPUA9UD1gPXA9gD2QPaA9sD3APdA94D3wPgA+ED4gPjA+QD5QPmA+cD6AM=",
          "dtype": "i2"
         },
         "xaxis": "x",
         "y": {
          "bdata": "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",
          "dtype": "f8"
         },
         "yaxis": "y"
        },
        {
         "mode": "lines",
         "name": "With Gaps",
         "type": "scatter",
         "x": {
          "bdata": "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",
          "dtype": "i2"
         },
         "xaxis": "x",
         "y": {
          "bdata": "+h0s3fdHc0CWbKKGgk5zQMfO2HDdRXNAAVS9asxJc0BIbUJRsEpzQALV3XMLR3NAhyHoMVlLc0DS2gZOjkpzQG6IKfz6R3NA5i1PcZRPc0BPathyZk9zQIg2aa6NUHNA8XbCmvNRc0CJYzJWc1FzQDyXtrK9UXNA77vocOhSc0CbtnNURlJzQCbxrCKZUHNAxKv8hrJTc0CzHGQ31VRzQMMTGTC+VnNAfyfL+R1Wc0DajhLBkFFzQAKm+K7cVnNAckEnU4ZWc0Ax2RV0HFlzQHCPG/MPWXNAzbrwqKJXc0AxdgrYrVRzQF1xM0jqVnNAJTkvV01Wc0CxiByLHlZzQMly2kOjVnNAUO7S11lSc0AelB6bXlJzQKmeijXiU3NARAYU12lSc0BN0o8JwE9zQCOGo9VtUnNAsJTYEiJRc0CfCC3+l09zQLFSXafOUnNAju8hRrpSc0DX3Ij/e1NzQPSa9YHwUXNAfw4qLKhQc0BYZbZbLktzQB26uCH+UnNA34WQjqVUc0BtHek/MFFzQAg+CTF3UXNAGoVcDIlSc0BQQIyg91BzQEbXxeF3TnNAeKgU9ndNc0Ac1ctXdVVzQLxMoPxvT3NAsiLP74FRc0CYxQ9PCFFzQND22WVFU3NAyILUxuBPc0AAAAAAAAD4fwAAAAAAAPh/AAAAAAAA+H8AAAAAAAD4fwAAAAAAAPh/AAAAAAAA+H8AAAAAAAD4fwAAAAAAAPh/AAAAAAAA+H8AAAAAAAD4fwAAAAAAAPh/AAAAAAAA+H8AAAAAAAD4fwAAAAAAAPh/AAAAAAAA+H8AAAAAAAD4fwAAAAAAAPh/AAAAAAAA+H8AAAAAAAD4fwAAAAAAAPh/AAAAAAAA+H8AAAAAAAD4fwAAAAAAAPh/AAAAAAAA+H8AAAAAAAD4fwAAAAAAAPh/AAAAAAAA+H8AAAAAAAD4fwAAAAAAAPh/AAAAAAAA+H8AAAAAAAD4fwAAAAAAAPh/AAAAAAAA+H8AAAAAAAD4fwAAAAAAAPh/AAAAAAAA+H8AAAAAAAD4fwAAAAAAAPh/AAAAAAAA+H8AAAAAAAD4f/iI9G9RTXNA4512fPxOc0CTOazgP0tzQFOT10RsS3NAFvtmtkxNc0CHiPrBXElzQHAn9w7sS3NAjWGb9dpNc0DBgFvYoExzQGTlhzR0SnNA60E0T1dJc0Drs/TzcExzQBUsJt/TS3NA7y1H8GhHc0D9jCIXYkdzQLweQfi+SnNAwgH+vYVHc0BB1mjMsEhzQOHyk48ASHNAS7KWWUZMc0AAAAAAAAD4fwAAAAAAAPh/AAAAAAAA+H8AAAAAAAD4fyLovszzSnNABwMhuZBKc0DVj1MGy0lzQDoPgHiGR3NAoVsnbG1Gc0DkFju4LEdzQJMHJ0SKRnNA7Yb1531Cc0BXPLr11UdzQKHe8vPXSHNAWfvxfB1Hc0BiAU0XjUZzQJmyCpWRR3NAHDGsLb5Ic0B7Z45m/UdzQMHa6If5R3NAr47fRhZHc0AKmgBs2UhzQAuPa9YRSHNAVeGx195Fc0CP6tWjOkVzQDg3qeYtSHNAwZiVTENGc0DJlYft30JzQGPprTRsR3NAosLydkhGc0CkKxdX30FzQKnj8Hw/Q3NA1IQxL8ZCc0B0zGML1kRzQAE9LGWFQ3NAplFVWBZDc0BdVaSM+kNzQGIYXlf1RHNAv8OLJw1Bc0AAAAAAAAD4fwAAAAAAAPh/AAAAAAAA+H8AAAAAAAD4fwAAAAAAAPh/AAAAAAAA+H8AAAAAAAD4fwAAAAAAAPh/AAAAAAAA+H8AAAAAAAD4fwAAAAAAAPh/AAAAAAAA+H8AAAAAAAD4fwAAAAAAAPh/AAAAAAAA+H8AAAAAAAD4fwAAAAAAAPh/AAAAAAAA+H8AAAAAAAD4fwAAAAAAAPh/AAAAAAAA+H8AAAAAAAD4fwAAAAAAAPh/AAAAAAAA+H8AAAAAAAD4fwAAAAAAAPh/AAAAAAAA+H8AAAAAAAD4fwAAAAAAAPh/AAAAAAAA+H8AAAAAAAD4fwAAAAAAAPh/AAAAAAAA+H8AAAAAAAD4fwAAAAAAAPh/4vIBSENFc0CrkGBItUlzQCLJjpZ3TXNAj6HJYZlLc0CnkEnvwUpzQKfiWvs9SnNALDea9GBKc0D0OwBkcUhzQPH2rIMuR3NA5MI+YgFHc0BlNXsHNUpzQNokx2ZNTHNA2TJQLztKc0BQDN3QkkpzQHjdVQAvSHNAs21t6qtIc0D1p1yKvkxzQLzSZwrOSnNAroHRj25Jc0DfDpjlwElzQIYPrv3rSHNAKhTlIyRIc0A6Zi8NbEpzQAAAAAAAAPh/AAAAAAAA+H8AAAAAAAD4fwAAAAAAAPh/AAAAAAAA+H8AAAAAAAD4fwAAAAAAAPh/AAAAAAAA+H8AAAAAAAD4fwAAAAAAAPh/AAAAAAAA+H8AAAAAAAD4fwAAAAAAAPh/AAAAAAAA+H8AAAAAAAD4fwAAAAAAAPh/AAAAAAAA+H8AAAAAAAD4fwAAAAAAAPh/AAAAAAAA+H8AAAAAAAD4f07QCk10RXNAZku27+5Ac0C5LtjaQz9zQHf8aHzsQ3NASBxq/sBDc0A+B3InHkJzQJUyrkm4QHNA1QcW3e4/c0A/5kAl1kNzQNwHvKtNRHNATXe4uXREc0DKaVlPBUZzQItqaiglR3NADEIm8j5Ec0CwC/HqqEBzQG82wtcBQ3NA5B4T/79Cc0A+MZRbVENzQCeyHApQQHNA7mYUn3tBc0B8nKV9nURzQPhN0tbyQHNANQlOridFc0CwWmSwDkJzQARI5bDqQHNAjUlnGQRDc0BTj2FBdENzQMo2lN7+RXNAWuXdVIBAc0AAAAAAAAD4fwAAAAAAAPh/AAAAAAAA+H8AAAAAAAD4fwAAAAAAAPh/AAAAAAAA+H8AAAAAAAD4fwAAAAAAAPh/AAAAAAAA+H8AAAAAAAD4fwAAAAAAAPh/AAAAAAAA+H8AAAAAAAD4fwAAAAAAAPh/AAAAAAAA+H8RHxzCYkJzQKPnwaC7RHNAYmZ77vxDc0DmRrmf6kZzQLr9njzrQ3NA9Qg2YdlEc0Bl3MvO8EhzQNW8bMOERXNAjk3N3edFc0AWE+4Ha0VzQIQ/XkMLTHNAxBuCcARFc0ADOMWEvUhzQJAZQ1vTSnNAFMJM+JlHc0CY3C3hmUlzQPDFFVpvQnNAy4gqRsBDc0DKNY72Z0ZzQMpolI9LRXNAqjL3RrlFc0DZqixjY0lzQAVz86KeRnNASXNA79dFc0BhkK/qI0hzQJw8IceYRnNAzuHosdlGc0B7wCgGKEhzQELez7YNTHNAaRLbIZRIc0DBTA0osklzQP8pCz6tSHNALPwQfN1Fc0Cc62PD4UVzQEINHI2KRnNAKszuMftGc0DB+I/RO0dzQLhu48oxR3NAmDMO2kZHc0AiYZZnt0tzQJh47kcLRnNA9rIv6w1Hc0D41qe7gkhzQNuKk4D3RHNAWQM/QOBJc0AAQvSki0dzQODy4+Z/RnNACFNato9Ic0AvtFHoEEhzQDrbgXINQ3NASKD0jExCc0CBfIiJrEFzQPdIgxkDQXNAhIwaZw9Bc0D4qHWsjkRzQFCCAMi6Q3NApTvVzz9Ec0C0ivsHxT1zQCFs7UIwR3NAk2gQN61Ac0BsKJ4ixkRzQAJ9r/H0Q3NAAAAAAAAA+H8AAAAAAAD4fwAAAAAAAPh/AAAAAAAA+H8AAAAAAAD4fwAAAAAAAPh/AAAAAAAA+H8AAAAAAAD4fwAAAAAAAPh/AAAAAAAA+H8AAAAAAAD4fwAAAAAAAPh/AAAAAAAA+H8AAAAAAAD4fwAAAAAAAPh/AAAAAAAA+H8AAAAAAAD4fwAAAAAAAPh/AAAAAAAA+H8AAAAAAAD4fwAAAAAAAPh/AAAAAAAA+H8AAAAAAAD4fwAAAAAAAPh/AAAAAAAA+H8AAAAAAAD4f1b4Q20yR3NAObZjiuFCc0A0DsnLGkRzQOq/QYLERHNAD1EWDBRCc0BqcLX280FzQDbrpev/QXNAAbCqVmtBc0Drg2LwtEVzQHPboPHvQXNAf0LCY8FHc0BHh7crV0ZzQA5fCcPxSnNAzch1N7BFc0AAAAAAAAD4fwAAAAAAAPh/AAAAAAAA+H8AAAAAAAD4fwAAAAAAAPh/AAAAAAAA+H9Etk8HHEpzQHXj5BcaR3NAM918iBxEc0D+kBZtv0VzQKVT8bNCRHNAENfPxXxFc0AXJ7rgOkRzQGqOz02pRnNAaN+4kzVGc0CUlLgNTkhzQJVwTpmoSHNA9YVfRb5Kc0ASk518IkhzQAAAAAAAAPh/AAAAAAAA+H8AAAAAAAD4fwAAAAAAAPh/AAAAAAAA+H8AAAAAAAD4fwAAAAAAAPh/AAAAAAAA+H8AAAAAAAD4fwAAAAAAAPh/AAAAAAAA+H8AAAAAAAD4fwAAAAAAAPh/AAAAAAAA+H8AAAAAAAD4fwAAAAAAAPh/AAAAAAAA+H8AAAAAAAD4fwAAAAAAAPh/8X9yxCxFc0Bk1MXLuUhzQAAAAAAAAPh/AAAAAAAA+H8AAAAAAAD4fwAAAAAAAPh/AAAAAAAA+H8AAAAAAAD4fwAAAAAAAPh/AAAAAAAA+H8AAAAAAAD4fwAAAAAAAPh/AAAAAAAA+H8AAAAAAAD4fwAAAAAAAPh/AAAAAAAA+H8AAAAAAAD4fwAAAAAAAPh/AAAAAAAA+H8AAAAAAAD4fwAAAAAAAPh/AAAAAAAA+H8AAAAAAAD4fwAAAAAAAPh/zehW5SFLc0CUw6EroUtzQGrrvk1FS3NAi86o7CpNc0AZ0SJyCElzQGZq7v7iSHNASU3AXXtLc0Alk6LuXUxzQHefwH9FSXNApK2cWuJMc0CmkpybGUtzQINAYFk3SnNA7WVMjpVJc0CTYxpEGUtzQHOlB9ogSnNAJWDMichLc0B89+QiQEtzQG16735KSHNAAb4toRpLc0A6imScjElzQFOF1zcgTHNATPObm7VKc0D1FuFmkktzQN9Gh07fTXNADXzWqexLc0BDC1P9yVFzQA6zd9LaT3NALD2PfS9Rc0AAAAAAAAD4fwAAAAAAAPh/AAAAAAAA+H8AAAAAAAD4fwAAAAAAAPh/AAAAAAAA+H8AAAAAAAD4fwAAAAAAAPh/AAAAAAAA+H8AAAAAAAD4fwAAAAAAAPh/AAAAAAAA+H8AAAAAAAD4fwAAAAAAAPh/AAAAAAAA+H8AAAAAAAD4fwAAAAAAAPh/AAAAAAAA+H8AAAAAAAD4fwAAAAAAAPh/AAAAAAAA+H8AAAAAAAD4fwAAAAAAAPh/AAAAAAAA+H8AAAAAAAD4fwAAAAAAAPh/AAAAAAAA+H8AAAAAAAD4fwAAAAAAAPh/AAAAAAAA+H8AAAAAAAD4fwAAAAAAAPh/AAAAAAAA+H9GNNevFVRzQME0ypW6VXNARX1DEwZTc0AQtBVP21ZzQMHBvuncVXNAsElz2DhUc0B6O+4/KlNzQM8tAWOAUXNAH2BNi6ZUc0Bli+hKdVZzQDiTMyY6WHNAoEZOwDNZc0CbJbRLRllzQK8LliQvVnNAm/EOebFXc0AAAAAAAAD4fwAAAAAAAPh/AAAAAAAA+H8AAAAAAAD4fwAAAAAAAPh/AAAAAAAA+H8AAAAAAAD4fwAAAAAAAPh/AAAAAAAA+H8AAAAAAAD4fwAAAAAAAPh/AAAAAAAA+H8AAAAAAAD4fwAAAAAAAPh/AAAAAAAA+H8AAAAAAAD4fwAAAAAAAPh/9DRZFItZc0C21kuVg1RzQAfUh4oAWHNAgm5TajtWc0Cb3B3KZVVzQK6leuEJVHNAalYniTxWc0DQwXr7tFZzQBnrKa2WVXNAFR0FEwNVc0BHzqKghFNzQF7mZJGXUnNASXw+KO9Wc0Di1OlFKFdzQCu57S3eVXNA0v9QvPZUc0D6rWIqhlRzQLoca7WDV3NA2RVDb8hWc0CDEWRwQ1hzQNpdyi5EV3NAQbkywtlWc0BxtQiWMldzQJ1nmA5HWnNAp/fumi1Yc0C43rQw01pzQDaW7ij1WnNA+y89+TRcc0CWgmJUd1tzQEKQiIdrW3NAVlagrqRbc0CUNRg9M15zQLuvS1G8X3NAm4iCHQtdc0COWYgUQ2BzQIkeGF1sXnNA1zDkn+lbc0CXgsnDalxzQEFTGA6NXXNAPLNwL7Nac0BqU6SpA1hzQNbtjr/ZWHNAXfFy6Xhbc0DmU+ZYjVdzQLgh7bFQWnNARU7Le39Vc0AQ+/jr9lpzQL9SEBGAVnNAxqHkCUpXc0B8ePagmVNzQIXW8Fc4WXNAZzt2lUtUc0AJEoe1EFZzQFkLgaXeWXNASCWotuVac0Bu32wt/VdzQHfs/GFPWXNAQMG1N4VYc0ADTEhzC1lzQO8gIY4CWnNA3eay56Jcc0CTC0ealltzQBtXnGwfXHNAQLh7qr5dc0Ddk0PRHF5zQMKGSzTNXHNAEGa88ntdc0DphSP2tVxzQGAelc8HXXNAz6WTK+hfc0AAAAAAAAD4fwAAAAAAAPh/AAAAAAAA+H8AAAAAAAD4fwAAAAAAAPh/AAAAAAAA+H8AAAAAAAD4fwAAAAAAAPh/AAAAAAAA+H8AAAAAAAD4fwAAAAAAAPh/AAAAAAAA+H8AAAAAAAD4fwAAAAAAAPh/AAAAAAAA+H8AAAAAAAD4fwAAAAAAAPh/AAAAAAAA+H8AAAAAAAD4fwAAAAAAAPh/AAAAAAAA+H8AAAAAAAD4fwAAAAAAAPh/Jz+Pn3tec0CmxxfxtlxzQId8RxwrX3NA2HrfoYNec0C9/LK6p1lzQGR5lb92W3NAH31n3IJac0DDy+24ZVZzQHBZ81chVnNAKB1nsEVVc0BPrLUpS1VzQJJkYgMIU3NARDMctx5Yc0AJEuQlv1dzQD6iuC25VnNARlHODz9Uc0DrwiwA/VFzQM1qVVe/U3NA/lD1kXtRc0C8jzACaFNzQBHgXgamVHNAAAAAAAAA+H8AAAAAAAD4fwAAAAAAAPh/AAAAAAAA+H8AAAAAAAD4fwAAAAAAAPh/AAAAAAAA+H8AAAAAAAD4fwAAAAAAAPh/AAAAAAAA+H8AAAAAAAD4fwAAAAAAAPh/AAAAAAAA+H8AAAAAAAD4fwAAAAAAAPh/AAAAAAAA+H8AAAAAAAD4f6oSgqArTnNAu0LTk0RQc0ATtfMMOUtzQAHeq+pvT3NA7ryvArlQc0DymABoK1NzQGl1q3fEU3NAAAAAAAAA+H8AAAAAAAD4fwAAAAAAAPh/AAAAAAAA+H8AAAAAAAD4fwAAAAAAAPh/AAAAAAAA+H8AAAAAAAD4fwAAAAAAAPh/AAAAAAAA+H8AAAAAAAD4fwAAAAAAAPh/AAAAAAAA+H8AAAAAAAD4fwAAAAAAAPh/AAAAAAAA+H8AAAAAAAD4fwAAAAAAAPh/AAAAAAAA+H8AAAAAAAD4fwAAAAAAAPh/AAAAAAAA+H8AAAAAAAD4fwAAAAAAAPh/AAAAAAAA+H8AAAAAAAD4fwAAAAAAAPh/AAAAAAAA+H+Sb/zZgU1zQH1G39zoTnNAdA+3E3xMc0Afxp+xkExzQLnYbCJLSnNAfJRteCpLc0Bv38KlmEtzQFTO7nz9R3NAjnqs399Jc0APUJS+o0lzQG89k2qvSXNAqnwMcldMc0AAAAAAAAD4fwAAAAAAAPh/AAAAAAAA+H8AAAAAAAD4fwAAAAAAAPh/AAAAAAAA+H8AAAAAAAD4fwAAAAAAAPh/AAAAAAAA+H8AAAAAAAD4fwAAAAAAAPh/AAAAAAAA+H8AAAAAAAD4fwAAAAAAAPh/onjh/SVKc0B6p6YiRENzQOO+u5MVRnNAfdicRcxHc0AAAAAAAAD4fwAAAAAAAPh/AAAAAAAA+H8AAAAAAAD4f3h/LIM7RHNA5jsMvz9Fc0DOcErdQkZzQAAAAAAAAPh/AAAAAAAA+H8AAAAAAAD4fwAAAAAAAPh/AAAAAAAA+H8AAAAAAAD4fwAAAAAAAPh/AAAAAAAA+H8AAAAAAAD4fwAAAAAAAPh/AAAAAAAA+H8AAAAAAAD4f2GMNReLPnNA324qvWlAc0AbhCuxpkBzQAkp04rbPnNAFQj57IA7c0BffFLty0BzQPYP1BELPHNAAAAAAAAA+H8AAAAAAAD4fwAAAAAAAPh/AAAAAAAA+H8IOEjRKkJzQAwOTmqAQXNAQZj/Ysk+c0CJFS/GFD1zQAJ6ecYIQHNAPr2VwkBAc0BOicTqaz5zQMbE2TUTQ3NAr7VIY7c+c0Bl3WVlgTxzQFNUj5IwPXNATw4kzEQ7c0A9OoX7K0FzQMZw75VdPnNA66yvihFAc0DxyhTg1z5zQJMZ6XQoP3NAUoLa7rY6c0BEdaHNIz9zQNGzC9Y8PnNA6AEQ89FDc0CIPeqhdj9zQAAAAAAAAPh/AAAAAAAA+H8AAAAAAAD4fwAAAAAAAPh/AAAAAAAA+H8AAAAAAAD4fwAAAAAAAPh/AAAAAAAA+H8AAAAAAAD4fwAAAAAAAPh/AAAAAAAA+H8AAAAAAAD4fwAAAAAAAPh/AAAAAAAA+H8AAAAAAAD4fwAAAAAAAPh/AAAAAAAA+H8AAAAAAAD4fwAAAAAAAPh/AAAAAAAA+H8AAAAAAAD4fwAAAAAAAPh/AAAAAAAA+H8AAAAAAAD4fwAAAAAAAPh/AAAAAAAA+H8AAAAAAAD4fwAAAAAAAPh/AAAAAAAA+H8AAAAAAAD4fwAAAAAAAPh/AAAAAAAA+H/5LmqM4jZzQNXVSRV4OXNAB/5GL7Q5c0AdJgk4mzZzQH5Be1IeOHNAC1mfAlk0c0B0+HR6szFzQBeQnarcNXNASq6cQE43c0AAAAAAAAD4fwAAAAAAAPh/AAAAAAAA+H8AAAAAAAD4fwAAAAAAAPh/AAAAAAAA+H8AAAAAAAD4fwAAAAAAAPh/AAAAAAAA+H8AAAAAAAD4fzKRbWiJOXNA51XgJaY3c0A0mFYVYjdzQCBWAxJMN3NA7njHs4o7c0B3WAVBDjtzQDWWiSMWM3NAGzGXqeU3c0ATn6vjFTZzQILDEr4rNnNA/67N/7M3c0AIUY/LvDNzQFvDcUxdNnNA+09qTEs3c0ADbEFqhDVzQHVi44zDMHNAw4ka8jAzc0AAAAAAAAD4fwAAAAAAAPh/AAAAAAAA+H8AAAAAAAD4fwAAAAAAAPh/AAAAAAAA+H8AAAAAAAD4fwAAAAAAAPh/AAAAAAAA+H8AAAAAAAD4fwAAAAAAAPh/AAAAAAAA+H/3Z5E4MCdzQBOMXqJCJ3NAzFkaFAUlc0BKLf4XXCVzQDc9I9jmI3NAAAAAAAAA+H8AAAAAAAD4fwAAAAAAAPh/AAAAAAAA+H8AAAAAAAD4fwAAAAAAAPh/AAAAAAAA+H8AAAAAAAD4fwAAAAAAAPh/AAAAAAAA+H8AAAAAAAD4fwAAAAAAAPh/AAAAAAAA+H8AAAAAAAD4fwAAAAAAAPh/AAAAAAAA+H8AAAAAAAD4fwAAAAAAAPh/AAAAAAAA+H8AAAAAAAD4fwAAAAAAAPh/AAAAAAAA+H8AAAAAAAD4fwAAAAAAAPh/AAAAAAAA+H97uxxEgCVzQHdIHhJiInNAxQK+m/sic0CK31dESyBzQNUiq8oOIXNAXxSFK6cic0DEMCJL5iJzQHFmXpaDIHNA+XFDc94ec0C+MAWQPSJzQEiLeJH4IXNAt3MrGqcic0A2A1UwsCFzQN+7bsM7H3NAeUn38Mwdc0DQbrBM0h5zQFikvrOzHHNAZnMEApwec0A808z36RxzQEMHMoEGHXNAi6dpf6Ebc0AAAAAAAAD4fwAAAAAAAPh/AAAAAAAA+H8AAAAAAAD4fwAAAAAAAPh/AAAAAAAA+H8AAAAAAAD4fwAAAAAAAPh/AAAAAAAA+H8AAAAAAAD4fwAAAAAAAPh/AAAAAAAA+H8AAAAAAAD4fwAAAAAAAPh/OF5Jq3Ylc0A2FUO+vR9zQG6+MHQpInNASiEmAOsfc0ChVLHwviJzQCdfx8gYJHNAYYL1hmIec0CZtshViyNzQE7zx9TZI3NAm3LqfsAnc0Byy03iCiNzQGal3aC5JnNAVHvjFZAjc0AqTdBxNSJzQAAAAAAAAPh/AAAAAAAA+H8AAAAAAAD4fwAAAAAAAPh/AAAAAAAA+H8AAAAAAAD4fwAAAAAAAPh/AAAAAAAA+H8AAAAAAAD4fwAAAAAAAPh/AAAAAAAA+H8AAAAAAAD4fwAAAAAAAPh/AAAAAAAA+H8AAAAAAAD4fwAAAAAAAPh/AAAAAAAA+H8AAAAAAAD4fwAAAAAAAPh/AAAAAAAA+H8b87V61SlzQO+CObUoKXNAGnCwuCwpc0DfM/9fSyZzQLj5V6V2K3NAa/RgoiUqc0D25uaXMipzQLuZUSA3LHNAayD6UQ8oc0AOEDXCDCZzQLNGzXY8KnNANCSCNYsrc0DwpEIo5CxzQJsGSCPqLXNA0rU6s1Mrc0ChPlKlzi1zQEsP/49ULnNAxQnLzocyc0DwZn02izJzQNQ1q+N/M3NAwLK2skgzc0BJswgeBDJzQOx/vQi+LnNAMEoxCNIxc0AFbBnn7S5zQMQ2NvHnMXNA0unMbt0wc0CuhO7cZjJzQIfNsfU1M3NABKKTW5k1c0CaaGMD8C9zQN0lJOwOM3NAj9MDv/Qyc0A=",
          "dtype": "f8"
         },
         "yaxis": "y"
        },
        {
         "line": {
          "color": "blue"
         },
         "mode": "lines",
         "name": "Imputed",
         "type": "scatter",
         "x": {
          "bdata": "AQACAAMABAAFAAYABwAIAAkACgALAAwADQAOAA8AEAARABIAEwAUABUAFgAXABgAGQAaABsAHAAdAB4AHwAgACEAIgAjACQAJQAmACcAKAApACoAKwAsAC0ALgAvADAAMQAyADMANAA1ADYANwA4ADkAOgA7ADwAPQA+AD8AQABBAEIAQwBEAEUARgBHAEgASQBKAEsATABNAE4ATwBQAFEAUgBTAFQAVQBWAFcAWABZAFoAWwBcAF0AXgBfAGAAYQBiAGMAZABlAGYAZwBoAGkAagBrAGwAbQBuAG8AcABxAHIAcwB0AHUAdgB3AHgAeQB6AHsAfAB9AH4AfwCAAIEAggCDAIQAhQCGAIcAiACJAIoAiwCMAI0AjgCPAJAAkQCSAJMAlACVAJYAlwCYAJkAmgCbAJwAnQCeAJ8AoAChAKIAowCkAKUApgCnAKgAqQCqAKsArACtAK4ArwCwALEAsgCzALQAtQC2ALcAuAC5ALoAuwC8AL0AvgC/AMAAwQDCAMMAxADFAMYAxwDIAMkAygDLAMwAzQDOAM8A0ADRANIA0wDUANUA1gDXANgA2QDaANsA3ADdAN4A3wDgAOEA4gDjAOQA5QDmAOcA6ADpAOoA6wDsAO0A7gDvAPAA8QDyAPMA9AD1APYA9wD4APkA+gD7APwA/QD+AP8AAAEBAQIBAwEEAQUBBgEHAQgBCQEKAQsBDAENAQ4BDwEQAREBEgETARQBFQEWARcBGAEZARoBGwEcAR0BHgEfASABIQEiASMBJAElASYBJwEoASkBKgErASwBLQEuAS8BMAExATIBMwE0ATUBNgE3ATgBOQE6ATsBPAE9AT4BPwFAAUEBQgFDAUQBRQFGAUcBSAFJAUoBSwFMAU0BTgFPAVABUQFSAVMBVAFVAVYBVwFYAVkBWgFbAVwBXQFeAV8BYAFhAWIBYwFkAWUBZgFnAWgBaQFqAWsBbAFtAW4BbwFwAXEBcgFzAXQBdQF2AXcBeAF5AXoBewF8AX0BfgF/AYABgQGCAYMBhAGFAYYBhwGIAYkBigGLAYwBjQGOAY8BkAGRAZIBkwGUAZUBlgGXAZgBmQGaAZsBnAGdAZ4BnwGgAaEBogGjAaQBpQGmAacBqAGpAaoBqwGsAa0BrgGvAbABsQGyAbMBtAG1AbYBtwG4AbkBugG7AbwBvQG+Ab8BwAHBAcIBwwHEAcUBxgHHAcgByQHKAcsBzAHNAc4BzwHQAdEB0gHTAdQB1QHWAdcB2AHZAdoB2wHcAd0B3gHfAeAB4QHiAeMB5AHlAeYB5wHoAekB6gHrAewB7QHuAe8B8AHxAfIB8wH0AfUB9gH3AfgB+QH6AfsB/AH9Af4B/wEAAgECAgIDAgQCBQIGAgcCCAIJAgoCCwIMAg0CDgIPAhACEQISAhMCFAIVAhYCFwIYAhkCGgIbAhwCHQIeAh8CIAIhAiICIwIkAiUCJgInAigCKQIqAisCLAItAi4CLwIwAjECMgIzAjQCNQI2AjcCOAI5AjoCOwI8Aj0CPgI/AkACQQJCAkMCRAJFAkYCRwJIAkkCSgJLAkwCTQJOAk8CUAJRAlICUwJUAlUCVgJXAlgCWQJaAlsCXAJdAl4CXwJgAmECYgJjAmQCZQJmAmcCaAJpAmoCawJsAm0CbgJvAnACcQJyAnMCdAJ1AnYCdwJ4AnkCegJ7AnwCfQJ+An8CgAKBAoICgwKEAoUChgKHAogCiQKKAosCjAKNAo4CjwKQApECkgKTApQClQKWApcCmAKZApoCmwKcAp0CngKfAqACoQKiAqMCpAKlAqYCpwKoAqkCqgKrAqwCrQKuAq8CsAKxArICswK0ArUCtgK3ArgCuQK6ArsCvAK9Ar4CvwLAAsECwgLDAsQCxQLGAscCyALJAsoCywLMAs0CzgLPAtAC0QLSAtMC1ALVAtYC1wLYAtkC2gLbAtwC3QLeAt8C4ALhAuIC4wLkAuUC5gLnAugC6QLqAusC7ALtAu4C7wLwAvEC8gLzAvQC9QL2AvcC+AL5AvoC+wL8Av0C/gL/AgADAQMCAwMDBAMFAwYDBwMIAwkDCgMLAwwDDQMOAw8DEAMRAxIDEwMUAxUDFgMXAxgDGQMaAxsDHAMdAx4DHwMgAyEDIgMjAyQDJQMmAycDKAMpAyoDKwMsAy0DLgMvAzADMQMyAzMDNAM1AzYDNwM4AzkDOgM7AzwDPQM+Az8DQANBA0IDQwNEA0UDRgNHA0gDSQNKA0sDTANNA04DTwNQA1EDUgNTA1QDVQNWA1cDWANZA1oDWwNcA10DXgNfA2ADYQNiA2MDZANlA2YDZwNoA2kDagNrA2wDbQNuA28DcANxA3IDcwN0A3UDdgN3A3gDeQN6A3sDfAN9A34DfwOAA4EDggODA4QDhQOGA4cDiAOJA4oDiwOMA40DjgOPA5ADkQOSA5MDlAOVA5YDlwOYA5kDmgObA5wDnQOeA58DoAOhA6IDowOkA6UDpgOnA6gDqQOqA6sDrAOtA64DrwOwA7EDsgOzA7QDtQO2A7cDuAO5A7oDuwO8A70DvgO/A8ADwQPCA8MDxAPFA8YDxwPIA8kDygPLA8wDzQPOA88D0APRA9ID0wPUA9UD1gPXA9gD2QPaA9sD3APdA94D3wPgA+ED4gPjA+QD5QPmA+cD6AM=",
          "dtype": "i2"
         },
         "xaxis": "x",
         "y": {
          "bdata": "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",
          "dtype": "f8"
         },
         "yaxis": "y"
        },
        {
         "line": {
          "color": "green"
         },
         "mode": "lines",
         "name": "Original - Imputed",
         "type": "scatter",
         "x": {
          "bdata": "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",
          "dtype": "i2"
         },
         "xaxis": "x2",
         "y": {
          "bdata": "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",
          "dtype": "f8"
         },
         "yaxis": "y2"
        }
       ],
       "layout": {
        "annotations": [
         {
          "font": {
           "size": 16
          },
          "showarrow": false,
          "text": "Process Temperature With and Without Gaps",
          "x": 0.5,
          "xanchor": "center",
          "xref": "paper",
          "y": 1,
          "yanchor": "bottom",
          "yref": "paper"
         },
         {
          "font": {
           "size": 16
          },
          "showarrow": false,
          "text": "Original - Imputed Difference",
          "x": 0.5,
          "xanchor": "center",
          "xref": "paper",
          "y": 0.45,
          "yanchor": "bottom",
          "yref": "paper"
         }
        ],
        "height": 700,
        "template": {
         "data": {
          "bar": [
           {
            "error_x": {
             "color": "#2a3f5f"
            },
            "error_y": {
             "color": "#2a3f5f"
            },
            "marker": {
             "line": {
              "color": "#E5ECF6",
              "width": 0.5
             },
             "pattern": {
              "fillmode": "overlay",
              "size": 10,
              "solidity": 0.2
             }
            },
            "type": "bar"
           }
          ],
          "barpolar": [
           {
            "marker": {
             "line": {
              "color": "#E5ECF6",
              "width": 0.5
             },
             "pattern": {
              "fillmode": "overlay",
              "size": 10,
              "solidity": 0.2
             }
            },
            "type": "barpolar"
           }
          ],
          "carpet": [
           {
            "aaxis": {
             "endlinecolor": "#2a3f5f",
             "gridcolor": "white",
             "linecolor": "white",
             "minorgridcolor": "white",
             "startlinecolor": "#2a3f5f"
            },
            "baxis": {
             "endlinecolor": "#2a3f5f",
             "gridcolor": "white",
             "linecolor": "white",
             "minorgridcolor": "white",
             "startlinecolor": "#2a3f5f"
            },
            "type": "carpet"
           }
          ],
          "choropleth": [
           {
            "colorbar": {
             "outlinewidth": 0,
             "ticks": ""
            },
            "type": "choropleth"
           }
          ],
          "contour": [
           {
            "colorbar": {
             "outlinewidth": 0,
             "ticks": ""
            },
            "colorscale": [
             [
              0,
              "#0d0887"
             ],
             [
              0.1111111111111111,
              "#46039f"
             ],
             [
              0.2222222222222222,
              "#7201a8"
             ],
             [
              0.3333333333333333,
              "#9c179e"
             ],
             [
              0.4444444444444444,
              "#bd3786"
             ],
             [
              0.5555555555555556,
              "#d8576b"
             ],
             [
              0.6666666666666666,
              "#ed7953"
             ],
             [
              0.7777777777777778,
              "#fb9f3a"
             ],
             [
              0.8888888888888888,
              "#fdca26"
             ],
             [
              1,
              "#f0f921"
             ]
            ],
            "type": "contour"
           }
          ],
          "contourcarpet": [
           {
            "colorbar": {
             "outlinewidth": 0,
             "ticks": ""
            },
            "type": "contourcarpet"
           }
          ],
          "heatmap": [
           {
            "colorbar": {
             "outlinewidth": 0,
             "ticks": ""
            },
            "colorscale": [
             [
              0,
              "#0d0887"
             ],
             [
              0.1111111111111111,
              "#46039f"
             ],
             [
              0.2222222222222222,
              "#7201a8"
             ],
             [
              0.3333333333333333,
              "#9c179e"
             ],
             [
              0.4444444444444444,
              "#bd3786"
             ],
             [
              0.5555555555555556,
              "#d8576b"
             ],
             [
              0.6666666666666666,
              "#ed7953"
             ],
             [
              0.7777777777777778,
              "#fb9f3a"
             ],
             [
              0.8888888888888888,
              "#fdca26"
             ],
             [
              1,
              "#f0f921"
             ]
            ],
            "type": "heatmap"
           }
          ],
          "histogram": [
           {
            "marker": {
             "pattern": {
              "fillmode": "overlay",
              "size": 10,
              "solidity": 0.2
             }
            },
            "type": "histogram"
           }
          ],
          "histogram2d": [
           {
            "colorbar": {
             "outlinewidth": 0,
             "ticks": ""
            },
            "colorscale": [
             [
              0,
              "#0d0887"
             ],
             [
              0.1111111111111111,
              "#46039f"
             ],
             [
              0.2222222222222222,
              "#7201a8"
             ],
             [
              0.3333333333333333,
              "#9c179e"
             ],
             [
              0.4444444444444444,
              "#bd3786"
             ],
             [
              0.5555555555555556,
              "#d8576b"
             ],
             [
              0.6666666666666666,
              "#ed7953"
             ],
             [
              0.7777777777777778,
              "#fb9f3a"
             ],
             [
              0.8888888888888888,
              "#fdca26"
             ],
             [
              1,
              "#f0f921"
             ]
            ],
            "type": "histogram2d"
           }
          ],
          "histogram2dcontour": [
           {
            "colorbar": {
             "outlinewidth": 0,
             "ticks": ""
            },
            "colorscale": [
             [
              0,
              "#0d0887"
             ],
             [
              0.1111111111111111,
              "#46039f"
             ],
             [
              0.2222222222222222,
              "#7201a8"
             ],
             [
              0.3333333333333333,
              "#9c179e"
             ],
             [
              0.4444444444444444,
              "#bd3786"
             ],
             [
              0.5555555555555556,
              "#d8576b"
             ],
             [
              0.6666666666666666,
              "#ed7953"
             ],
             [
              0.7777777777777778,
              "#fb9f3a"
             ],
             [
              0.8888888888888888,
              "#fdca26"
             ],
             [
              1,
              "#f0f921"
             ]
            ],
            "type": "histogram2dcontour"
           }
          ],
          "mesh3d": [
           {
            "colorbar": {
             "outlinewidth": 0,
             "ticks": ""
            },
            "type": "mesh3d"
           }
          ],
          "parcoords": [
           {
            "line": {
             "colorbar": {
              "outlinewidth": 0,
              "ticks": ""
             }
            },
            "type": "parcoords"
           }
          ],
          "pie": [
           {
            "automargin": true,
            "type": "pie"
           }
          ],
          "scatter": [
           {
            "fillpattern": {
             "fillmode": "overlay",
             "size": 10,
             "solidity": 0.2
            },
            "type": "scatter"
           }
          ],
          "scatter3d": [
           {
            "line": {
             "colorbar": {
              "outlinewidth": 0,
              "ticks": ""
             }
            },
            "marker": {
             "colorbar": {
              "outlinewidth": 0,
              "ticks": ""
             }
            },
            "type": "scatter3d"
           }
          ],
          "scattercarpet": [
           {
            "marker": {
             "colorbar": {
              "outlinewidth": 0,
              "ticks": ""
             }
            },
            "type": "scattercarpet"
           }
          ],
          "scattergeo": [
           {
            "marker": {
             "colorbar": {
              "outlinewidth": 0,
              "ticks": ""
             }
            },
            "type": "scattergeo"
           }
          ],
          "scattergl": [
           {
            "marker": {
             "colorbar": {
              "outlinewidth": 0,
              "ticks": ""
             }
            },
            "type": "scattergl"
           }
          ],
          "scattermap": [
           {
            "marker": {
             "colorbar": {
              "outlinewidth": 0,
              "ticks": ""
             }
            },
            "type": "scattermap"
           }
          ],
          "scattermapbox": [
           {
            "marker": {
             "colorbar": {
              "outlinewidth": 0,
              "ticks": ""
             }
            },
            "type": "scattermapbox"
           }
          ],
          "scatterpolar": [
           {
            "marker": {
             "colorbar": {
              "outlinewidth": 0,
              "ticks": ""
             }
            },
            "type": "scatterpolar"
           }
          ],
          "scatterpolargl": [
           {
            "marker": {
             "colorbar": {
              "outlinewidth": 0,
              "ticks": ""
             }
            },
            "type": "scatterpolargl"
           }
          ],
          "scatterternary": [
           {
            "marker": {
             "colorbar": {
              "outlinewidth": 0,
              "ticks": ""
             }
            },
            "type": "scatterternary"
           }
          ],
          "surface": [
           {
            "colorbar": {
             "outlinewidth": 0,
             "ticks": ""
            },
            "colorscale": [
             [
              0,
              "#0d0887"
             ],
             [
              0.1111111111111111,
              "#46039f"
             ],
             [
              0.2222222222222222,
              "#7201a8"
             ],
             [
              0.3333333333333333,
              "#9c179e"
             ],
             [
              0.4444444444444444,
              "#bd3786"
             ],
             [
              0.5555555555555556,
              "#d8576b"
             ],
             [
              0.6666666666666666,
              "#ed7953"
             ],
             [
              0.7777777777777778,
              "#fb9f3a"
             ],
             [
              0.8888888888888888,
              "#fdca26"
             ],
             [
              1,
              "#f0f921"
             ]
            ],
            "type": "surface"
           }
          ],
          "table": [
           {
            "cells": {
             "fill": {
              "color": "#EBF0F8"
             },
             "line": {
              "color": "white"
             }
            },
            "header": {
             "fill": {
              "color": "#C8D4E3"
             },
             "line": {
              "color": "white"
             }
            },
            "type": "table"
           }
          ]
         },
         "layout": {
          "annotationdefaults": {
           "arrowcolor": "#2a3f5f",
           "arrowhead": 0,
           "arrowwidth": 1
          },
          "autotypenumbers": "strict",
          "coloraxis": {
           "colorbar": {
            "outlinewidth": 0,
            "ticks": ""
           }
          },
          "colorscale": {
           "diverging": [
            [
             0,
             "#8e0152"
            ],
            [
             0.1,
             "#c51b7d"
            ],
            [
             0.2,
             "#de77ae"
            ],
            [
             0.3,
             "#f1b6da"
            ],
            [
             0.4,
             "#fde0ef"
            ],
            [
             0.5,
             "#f7f7f7"
            ],
            [
             0.6,
             "#e6f5d0"
            ],
            [
             0.7,
             "#b8e186"
            ],
            [
             0.8,
             "#7fbc41"
            ],
            [
             0.9,
             "#4d9221"
            ],
            [
             1,
             "#276419"
            ]
           ],
           "sequential": [
            [
             0,
             "#0d0887"
            ],
            [
             0.1111111111111111,
             "#46039f"
            ],
            [
             0.2222222222222222,
             "#7201a8"
            ],
            [
             0.3333333333333333,
             "#9c179e"
            ],
            [
             0.4444444444444444,
             "#bd3786"
            ],
            [
             0.5555555555555556,
             "#d8576b"
            ],
            [
             0.6666666666666666,
             "#ed7953"
            ],
            [
             0.7777777777777778,
             "#fb9f3a"
            ],
            [
             0.8888888888888888,
             "#fdca26"
            ],
            [
             1,
             "#f0f921"
            ]
           ],
           "sequentialminus": [
            [
             0,
             "#0d0887"
            ],
            [
             0.1111111111111111,
             "#46039f"
            ],
            [
             0.2222222222222222,
             "#7201a8"
            ],
            [
             0.3333333333333333,
             "#9c179e"
            ],
            [
             0.4444444444444444,
             "#bd3786"
            ],
            [
             0.5555555555555556,
             "#d8576b"
            ],
            [
             0.6666666666666666,
             "#ed7953"
            ],
            [
             0.7777777777777778,
             "#fb9f3a"
            ],
            [
             0.8888888888888888,
             "#fdca26"
            ],
            [
             1,
             "#f0f921"
            ]
           ]
          },
          "colorway": [
           "#636efa",
           "#EF553B",
           "#00cc96",
           "#ab63fa",
           "#FFA15A",
           "#19d3f3",
           "#FF6692",
           "#B6E880",
           "#FF97FF",
           "#FECB52"
          ],
          "font": {
           "color": "#2a3f5f"
          },
          "geo": {
           "bgcolor": "white",
           "lakecolor": "white",
           "landcolor": "#E5ECF6",
           "showlakes": true,
           "showland": true,
           "subunitcolor": "white"
          },
          "hoverlabel": {
           "align": "left"
          },
          "hovermode": "closest",
          "mapbox": {
           "style": "light"
          },
          "paper_bgcolor": "white",
          "plot_bgcolor": "#E5ECF6",
          "polar": {
           "angularaxis": {
            "gridcolor": "white",
            "linecolor": "white",
            "ticks": ""
           },
           "bgcolor": "#E5ECF6",
           "radialaxis": {
            "gridcolor": "white",
            "linecolor": "white",
            "ticks": ""
           }
          },
          "scene": {
           "xaxis": {
            "backgroundcolor": "#E5ECF6",
            "gridcolor": "white",
            "gridwidth": 2,
            "linecolor": "white",
            "showbackground": true,
            "ticks": "",
            "zerolinecolor": "white"
           },
           "yaxis": {
            "backgroundcolor": "#E5ECF6",
            "gridcolor": "white",
            "gridwidth": 2,
            "linecolor": "white",
            "showbackground": true,
            "ticks": "",
            "zerolinecolor": "white"
           },
           "zaxis": {
            "backgroundcolor": "#E5ECF6",
            "gridcolor": "white",
            "gridwidth": 2,
            "linecolor": "white",
            "showbackground": true,
            "ticks": "",
            "zerolinecolor": "white"
           }
          },
          "shapedefaults": {
           "line": {
            "color": "#2a3f5f"
           }
          },
          "ternary": {
           "aaxis": {
            "gridcolor": "white",
            "linecolor": "white",
            "ticks": ""
           },
           "baxis": {
            "gridcolor": "white",
            "linecolor": "white",
            "ticks": ""
           },
           "bgcolor": "#E5ECF6",
           "caxis": {
            "gridcolor": "white",
            "linecolor": "white",
            "ticks": ""
           }
          },
          "title": {
           "x": 0.05
          },
          "xaxis": {
           "automargin": true,
           "gridcolor": "white",
           "linecolor": "white",
           "ticks": "",
           "title": {
            "standoff": 15
           },
           "zerolinecolor": "white",
           "zerolinewidth": 2
          },
          "yaxis": {
           "automargin": true,
           "gridcolor": "white",
           "linecolor": "white",
           "ticks": "",
           "title": {
            "standoff": 15
           },
           "zerolinecolor": "white",
           "zerolinewidth": 2
          }
         }
        },
        "title": {
         "text": "Process Temperature With and Without Gaps and Imputation Difference"
        },
        "xaxis": {
         "anchor": "y",
         "domain": [
          0,
          1
         ],
         "matches": "x2",
         "showticklabels": false,
         "title": {
          "text": "UDI"
         }
        },
        "xaxis2": {
         "anchor": "y2",
         "domain": [
          0,
          1
         ]
        },
        "yaxis": {
         "anchor": "x",
         "domain": [
          0.55,
          1
         ],
         "title": {
          "text": "Process Temperature [K]"
         }
        },
        "yaxis2": {
         "anchor": "x2",
         "domain": [
          0,
          0.45
         ],
         "title": {
          "text": "Difference"
         }
        }
       }
      }
     },
     "metadata": {},
     "output_type": "display_data"
    }
   ],
   "source": [
    "dftemp.loc[:, \"temp_ff\"] = dftemp[\"process_temperature_K_gaps\"].ffill()  # Pandas provides forward fill imputation out of the box.\n",
    "\n",
    "plot_temperature_data(dftemp, int_column=\"temp_ff\")"
   ]
  },
  {
   "cell_type": "markdown",
   "id": "937484ca",
   "metadata": {},
   "source": [
    "## Backward fill imputation\n",
    "Backward fill imputation (also known as next observation carried backward) is another simple method for handling missing data in time series.\n",
    "It involves replacing missing values with the next non-missing value that follows the gap.\n",
    "\n",
    "Advantages:\n",
    "- Simple to implement and computationally efficient.\n",
    "- Preserves the next known state, which can be useful in certain contexts.\n",
    "- Works well for short gaps where the next observation is a reasonable estimate for the missing values.\n",
    "\n",
    "Disadvantages:\n",
    "- Can introduce bias if the next observation is not representative of the missing values.\n",
    "- May not capture trends or patterns in the data, especially for long gaps.\n",
    "- Can lead to unrealistic flat segments in the time series.\n",
    "- Does not account for seasonality or cyclic patterns in the data."
   ]
  },
  {
   "cell_type": "code",
   "execution_count": 7,
   "id": "db63cca7",
   "metadata": {},
   "outputs": [
    {
     "data": {
      "application/vnd.plotly.v1+json": {
       "config": {
        "plotlyServerURL": "https://plot.ly"
       },
       "data": [
        {
         "line": {
          "color": "lightgrey"
         },
         "mode": "lines",
         "name": "Original",
         "type": "scatter",
         "x": {
          "bdata": "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",
          "dtype": "i2"
         },
         "xaxis": "x",
         "y": {
          "bdata": "+h0s3fdHc0CWbKKGgk5zQMfO2HDdRXNAAVS9asxJc0BIbUJRsEpzQALV3XMLR3NAhyHoMVlLc0DS2gZOjkpzQG6IKfz6R3NA5i1PcZRPc0BPathyZk9zQIg2aa6NUHNA8XbCmvNRc0CJYzJWc1FzQDyXtrK9UXNA77vocOhSc0CbtnNURlJzQCbxrCKZUHNAxKv8hrJTc0CzHGQ31VRzQMMTGTC+VnNAfyfL+R1Wc0DajhLBkFFzQAKm+K7cVnNAckEnU4ZWc0Ax2RV0HFlzQHCPG/MPWXNAzbrwqKJXc0AxdgrYrVRzQF1xM0jqVnNAJTkvV01Wc0CxiByLHlZzQMly2kOjVnNAUO7S11lSc0AelB6bXlJzQKmeijXiU3NARAYU12lSc0BN0o8JwE9zQCOGo9VtUnNAsJTYEiJRc0CfCC3+l09zQLFSXafOUnNAju8hRrpSc0DX3Ij/e1NzQPSa9YHwUXNAfw4qLKhQc0BYZbZbLktzQB26uCH+UnNA34WQjqVUc0BtHek/MFFzQAg+CTF3UXNAGoVcDIlSc0BQQIyg91BzQEbXxeF3TnNAeKgU9ndNc0Ac1ctXdVVzQLxMoPxvT3NAsiLP74FRc0CYxQ9PCFFzQND22WVFU3NAyILUxuBPc0BaVTF2ClFzQNIUEk43T3NA6IlCBIZOc0DsaDrCxVFzQOKFqdMjUnNASTVTyDxPc0AF4H+wyVBzQKj1S+xaTXNA36tJr9JPc0DBY20nF09zQAnYCDd7UXNA5uB+60tSc0A1+uahfU9zQO2z6KptUXNABFQMqalPc0DCZBW+o05zQJDM3mGwTXNArxEY9XxPc0AY+YTmMk5zQIuG8q5nSnNAx7SlUXNOc0D/C07N4ktzQJ4k+7FhTnNAFleZdVZOc0BD6B5ncU5zQDZYpQEyT3NAPp3NPHNOc0AqxipoBE1zQIs8gOrcT3NAsLZCSrFNc0BJuvOQvkxzQDK/7nIbTHNAVgHG9txNc0A7uO57/E9zQFX1/45zUXNAXRTMg7VNc0D/G8fn8k1zQI2gqtVoTXNAH6zh6iNMc0ArJOoF4FFzQPiI9G9RTXNA4512fPxOc0CTOazgP0tzQFOT10RsS3NAFvtmtkxNc0CHiPrBXElzQHAn9w7sS3NAjWGb9dpNc0DBgFvYoExzQGTlhzR0SnNA60E0T1dJc0Drs/TzcExzQBUsJt/TS3NA7y1H8GhHc0D9jCIXYkdzQLweQfi+SnNAwgH+vYVHc0BB1mjMsEhzQOHyk48ASHNAS7KWWUZMc0C7HvoAdkhzQJmn+yyxS3NAe9djPUVMc0Dkdc5jOUpzQCLovszzSnNABwMhuZBKc0DVj1MGy0lzQDoPgHiGR3NAoVsnbG1Gc0DkFju4LEdzQJMHJ0SKRnNA7Yb1531Cc0BXPLr11UdzQKHe8vPXSHNAWfvxfB1Hc0BiAU0XjUZzQJmyCpWRR3NAHDGsLb5Ic0B7Z45m/UdzQMHa6If5R3NAr47fRhZHc0AKmgBs2UhzQAuPa9YRSHNAVeGx195Fc0CP6tWjOkVzQDg3qeYtSHNAwZiVTENGc0DJlYft30JzQGPprTRsR3NAosLydkhGc0CkKxdX30FzQKnj8Hw/Q3NA1IQxL8ZCc0B0zGML1kRzQAE9LGWFQ3NAplFVWBZDc0BdVaSM+kNzQGIYXlf1RHNAv8OLJw1Bc0AL6X4ZQUZzQJCjFQ5QPnNABVJxCNc/c0BsySQ0yURzQKMMj4qJRXNA6S9TxNNEc0AeHN5+tz9zQFnEyCDHRXNAdGZMoNxDc0Bw1td6CEZzQGfiGskHRHNAfSW0/SVAc0BUGtiGiEBzQLfVJw7BPnNAYnoWqmpAc0Dovy19sEBzQHwIS5aaQXNAPAK+rAtDc0CKIb9ln0NzQDy8+c6ZRXNA4Og9CH5Fc0DBRXhxIENzQJ7Sx6qqQ3NA7nHF88NFc0DXvQ9bAEBzQJ7ZPBJnQXNA7y1+13ZDc0CTVuelgEVzQMkphoszSXNAloZyXpNDc0CIdoh3h0NzQMs5lUWjSXNAlX+x0MNDc0AFTEqlIUhzQN1Gf/6lSXNA4vIBSENFc0CrkGBItUlzQCLJjpZ3TXNAj6HJYZlLc0CnkEnvwUpzQKfiWvs9SnNALDea9GBKc0D0OwBkcUhzQPH2rIMuR3NA5MI+YgFHc0BlNXsHNUpzQNokx2ZNTHNA2TJQLztKc0BQDN3QkkpzQHjdVQAvSHNAs21t6qtIc0D1p1yKvkxzQLzSZwrOSnNAroHRj25Jc0DfDpjlwElzQIYPrv3rSHNAKhTlIyRIc0A6Zi8NbEpzQDzhzHPySHNA2IOCXBJKc0B/HD2usEdzQAw3O6jVSnNAZymfBzVKc0D8obxydUdzQJjpQ3fvSHNAUwEmbN9Hc0Bc5VQ6QEJzQP3cOTmPR3NAOlJy1dBGc0AtMMDFbkZzQE4PqKbdSXNAP9u7lJ1Hc0DOTKtYJ0VzQCVyEBOlRnNAlrXfXYpGc0APLMjZsURzQCKE6O8YQ3NAKI/506tAc0DiXbYCvUBzQE7QCk10RXNAZku27+5Ac0C5LtjaQz9zQHf8aHzsQ3NASBxq/sBDc0A+B3InHkJzQJUyrkm4QHNA1QcW3e4/c0A/5kAl1kNzQNwHvKtNRHNATXe4uXREc0DKaVlPBUZzQItqaiglR3NADEIm8j5Ec0CwC/HqqEBzQG82wtcBQ3NA5B4T/79Cc0A+MZRbVENzQCeyHApQQHNA7mYUn3tBc0B8nKV9nURzQPhN0tbyQHNANQlOridFc0CwWmSwDkJzQARI5bDqQHNAjUlnGQRDc0BTj2FBdENzQMo2lN7+RXNAWuXdVIBAc0BSrbO4o0FzQIDYhWmsQHNAs/NQyexAc0C3xO36zERzQNcKR56KQXNAlWBfOAQ+c0DzrkbyzUFzQMeoxMy0PnNAQchl0bI+c0DsAxyrdj1zQGX7hW26Q3NALfohGeU/c0A+/nOmnkJzQArSuMlpPnNAlb+PtmU/c0ARHxzCYkJzQKPnwaC7RHNAYmZ77vxDc0DmRrmf6kZzQLr9njzrQ3NA9Qg2YdlEc0Bl3MvO8EhzQNW8bMOERXNAjk3N3edFc0AWE+4Ha0VzQIQ/XkMLTHNAxBuCcARFc0ADOMWEvUhzQJAZQ1vTSnNAFMJM+JlHc0CY3C3hmUlzQPDFFVpvQnNAy4gqRsBDc0DKNY72Z0ZzQMpolI9LRXNAqjL3RrlFc0DZqixjY0lzQAVz86KeRnNASXNA79dFc0BhkK/qI0hzQJw8IceYRnNAzuHosdlGc0B7wCgGKEhzQELez7YNTHNAaRLbIZRIc0DBTA0osklzQP8pCz6tSHNALPwQfN1Fc0Cc62PD4UVzQEINHI2KRnNAKszuMftGc0DB+I/RO0dzQLhu48oxR3NAmDMO2kZHc0AiYZZnt0tzQJh47kcLRnNA9rIv6w1Hc0D41qe7gkhzQNuKk4D3RHNAWQM/QOBJc0AAQvSki0dzQODy4+Z/RnNACFNato9Ic0AvtFHoEEhzQDrbgXINQ3NASKD0jExCc0CBfIiJrEFzQPdIgxkDQXNAhIwaZw9Bc0D4qHWsjkRzQFCCAMi6Q3NApTvVzz9Ec0C0ivsHxT1zQCFs7UIwR3NAk2gQN61Ac0BsKJ4ixkRzQAJ9r/H0Q3NAfXR5y9lEc0AY5QiiPEJzQB7FVSP2RXNArgSm5MxGc0BM2wfHtUNzQNpp5YZsRXNAur/N7SJHc0Dlm+dV+UdzQPnuU54GRHNA7o9poQpFc0A06tL/0ERzQOfSegk7R3NAhHnSVktFc0BL53977ENzQJK76/A3RHNASuGChC1Ec0DaYvuZY0VzQPRcyV0ERnNA6JSA4vhDc0AmSrpoEEZzQMsvQIyGRHNAd/mFPMtIc0Ai5tInO0dzQGpfqoEyR3NA6Lx8uMtIc0BEKLUGkkVzQFb4Q20yR3NAObZjiuFCc0A0DsnLGkRzQOq/QYLERHNAD1EWDBRCc0BqcLX280FzQDbrpev/QXNAAbCqVmtBc0Drg2LwtEVzQHPboPHvQXNAf0LCY8FHc0BHh7crV0ZzQA5fCcPxSnNAzch1N7BFc0BDjUQpUktzQGzsR22MS3NACCIPqlBNc0Do9s5hhUxzQC/8OC6vSnNAyd0B+uRMc0BEtk8HHEpzQHXj5BcaR3NAM918iBxEc0D+kBZtv0VzQKVT8bNCRHNAENfPxXxFc0AXJ7rgOkRzQGqOz02pRnNAaN+4kzVGc0CUlLgNTkhzQJVwTpmoSHNA9YVfRb5Kc0ASk518IkhzQGsbX4v2SHNAQgk0WnVJc0D1c32SXUpzQNXsVEjuSXNAU9bk1s5Hc0Bg3nmmeUlzQAgZRCwRSXNAzKTafUBMc0DEilulEUhzQHNC/rTwR3NAd7xfw41Gc0DSwyyTw0hzQOf2bPYERHNA6u3pk21Fc0BN3SRKrEhzQPBpWa+xQXNAZMtt36RGc0CIH6TNqUJzQM3/65dES3NA8X9yxCxFc0Bk1MXLuUhzQET5B03pRnNA2DtbAZdGc0BaL86je0hzQDi/dfDdSnNAyAcwdhNGc0ANKe9LVkhzQAZFbNRzSHNALll2lvlGc0B1At+aPklzQH2Pz1hpSXNATjCRobVFc0Dv0QBWXEZzQA9hJZxQRXNAojlIgmdGc0BG+2uFpURzQNHjrm9KSXNA3oto6PZIc0C1w1/8GEpzQGwiM8IARnNA0WUv6b5Gc0DSmu69/ElzQNeQ6pBOSnNAzehW5SFLc0CUw6EroUtzQGrrvk1FS3NAi86o7CpNc0AZ0SJyCElzQGZq7v7iSHNASU3AXXtLc0Alk6LuXUxzQHefwH9FSXNApK2cWuJMc0CmkpybGUtzQINAYFk3SnNA7WVMjpVJc0CTYxpEGUtzQHOlB9ogSnNAJWDMichLc0B89+QiQEtzQG16735KSHNAAb4toRpLc0A6imScjElzQFOF1zcgTHNATPObm7VKc0D1FuFmkktzQN9Gh07fTXNADXzWqexLc0BDC1P9yVFzQA6zd9LaT3NALD2PfS9Rc0CU7h+V8VFzQMCQCv0uT3NA8vw2ugZPc0DBuw10cFBzQCOcFayCTnNAVExSSDNMc0DlT1tqLFNzQH8h9Wy4UHNAtH9k1sVSc0C0YKd0ZVBzQPSoNYquTnNARYCgilNSc0BY4iQkUlBzQEySpAVgVnNAv0YrHe9Tc0ByuLhcXlZzQMFiKhHCUnNATzW1q2ZYc0Dq51Zo0FFzQIpAaJ3NVHNAcH/n0dxVc0AsZr4SiVRzQHQqoQymTnNASmNXLb9Sc0AvMdNDAVFzQNFDOKLDU3NAeV5Wtu5Vc0BEYmTFsVNzQMuG5KtnUXNAe+XdowVWc0BVtAQIolNzQNehHqKsUnNAtkyeRmhYc0BGNNevFVRzQME0ypW6VXNARX1DEwZTc0AQtBVP21ZzQMHBvuncVXNAsElz2DhUc0B6O+4/KlNzQM8tAWOAUXNAH2BNi6ZUc0Bli+hKdVZzQDiTMyY6WHNAoEZOwDNZc0CbJbRLRllzQK8LliQvVnNAm/EOebFXc0CzrIr0tFdzQKVKaY7gWXNAz4f6qcpYc0DV1rzNH1lzQK56K2oRWXNAUIMDpRdYc0DBmzsw3VhzQJMmziK6V3NAEa5iYapYc0DlBrL2GllzQI6Gh/v/VHNAqBeuI/FUc0CIXxfsYFZzQCsKAZZgVXNAd+sMz9pVc0BNu+CQb1VzQMCqEO/hVXNA9DRZFItZc0C21kuVg1RzQAfUh4oAWHNAgm5TajtWc0Cb3B3KZVVzQK6leuEJVHNAalYniTxWc0DQwXr7tFZzQBnrKa2WVXNAFR0FEwNVc0BHzqKghFNzQF7mZJGXUnNASXw+KO9Wc0Di1OlFKFdzQCu57S3eVXNA0v9QvPZUc0D6rWIqhlRzQLoca7WDV3NA2RVDb8hWc0CDEWRwQ1hzQNpdyi5EV3NAQbkywtlWc0BxtQiWMldzQJ1nmA5HWnNAp/fumi1Yc0C43rQw01pzQDaW7ij1WnNA+y89+TRcc0CWgmJUd1tzQEKQiIdrW3NAVlagrqRbc0CUNRg9M15zQLuvS1G8X3NAm4iCHQtdc0COWYgUQ2BzQIkeGF1sXnNA1zDkn+lbc0CXgsnDalxzQEFTGA6NXXNAPLNwL7Nac0BqU6SpA1hzQNbtjr/ZWHNAXfFy6Xhbc0DmU+ZYjVdzQLgh7bFQWnNARU7Le39Vc0AQ+/jr9lpzQL9SEBGAVnNAxqHkCUpXc0B8ePagmVNzQIXW8Fc4WXNAZzt2lUtUc0AJEoe1EFZzQFkLgaXeWXNASCWotuVac0Bu32wt/VdzQHfs/GFPWXNAQMG1N4VYc0ADTEhzC1lzQO8gIY4CWnNA3eay56Jcc0CTC0ealltzQBtXnGwfXHNAQLh7qr5dc0Ddk0PRHF5zQMKGSzTNXHNAEGa88ntdc0DphSP2tVxzQGAelc8HXXNAz6WTK+hfc0BYJkOF6WBzQG0/LbNQX3NAACZb6URdc0AZoW8/4l5zQC1HJSL6X3NAU1NHMTZbc0Cs5XsahV1zQDY6y0tJXnNAoeKoW8Zic0AHoRNtBGBzQImw+5IfY3NAoy55bvlic0BJM3n00mNzQAyI8K0qXnNAJNOkiYVlc0B5mX98emJzQN5WJ4QGYXNAqaB7TkBhc0CK1eiLGmRzQCwuhugBYnNA31W9vQFgc0CN43EAol5zQCvvYlDsX3NAJz+Pn3tec0CmxxfxtlxzQId8RxwrX3NA2HrfoYNec0C9/LK6p1lzQGR5lb92W3NAH31n3IJac0DDy+24ZVZzQHBZ81chVnNAKB1nsEVVc0BPrLUpS1VzQJJkYgMIU3NARDMctx5Yc0AJEuQlv1dzQD6iuC25VnNARlHODz9Uc0DrwiwA/VFzQM1qVVe/U3NA/lD1kXtRc0C8jzACaFNzQBHgXgamVHNATL7t78VTc0BjceTgjlJzQD/1MvdhT3NAyWfXZt9Wc0DIZ3oyq1RzQLPNKd5WUHNAVHUCarJTc0CFizCSxlBzQEEUjZTMUHNAxbAZ2t1Pc0CS2tJxL01zQP+X+LFbS3NAXPN545dSc0BJf35wnE9zQKRMddRcT3NAr3RN61lOc0DPVldzrlJzQKoSgqArTnNAu0LTk0RQc0ATtfMMOUtzQAHeq+pvT3NA7ryvArlQc0DymABoK1NzQGl1q3fEU3NAYiNkjaxRc0DwrV19X1FzQOp9ZastU3NApNkUhX1Pc0DhofD1y1BzQI21jh7OUHNArp8mqHVQc0Ccis270VNzQGDhhNimT3NAYY5MoCtOc0DFlGZBAk9zQH4FSLlSUXNAbYSTVidQc0CwdcHGLFFzQJ/8l+5sT3NASlCAoKVUc0BFG0P96VJzQEp+td7KUHNAoFoHAHNPc0AIKvOK8k1zQLVUOT30THNALtiC5GtNc0AqMoTl20lzQE7COQbtSXNASV6A2QhMc0BFr+7GA1FzQOQ7zQNlUHNAeQj4AKNPc0CSb/zZgU1zQH1G39zoTnNAdA+3E3xMc0Afxp+xkExzQLnYbCJLSnNAfJRteCpLc0Bv38KlmEtzQFTO7nz9R3NAjnqs399Jc0APUJS+o0lzQG89k2qvSXNAqnwMcldMc0DR+IRHbU1zQA4o3C6vTHNA35liKWROc0AkCscVIVBzQJ1VHz/fTXNADHFBV0BPc0AQahWx509zQDBFuekXSnNA2E2cXMdLc0B1MF5hXElzQLppmGJZSnNAy6zIXv1Kc0AKybHF+0hzQDp68fsqSHNAonjh/SVKc0B6p6YiRENzQOO+u5MVRnNAfdicRcxHc0BeBBmKakRzQGm16Lz5Q3NA2tiha/FDc0D/nTS7YUZzQHh/LIM7RHNA5jsMvz9Fc0DOcErdQkZzQE3JjGbiRXNAF3os6fpBc0ADACAZ2j9zQHXROJNkQHNATG9yz309c0DZcoqcrkBzQLjMQImdPnNAYvfFQrFBc0Cdg76KUkJzQOCPO306QnNAMxD+sSpBc0Cl9z5OUUJzQGGMNReLPnNA324qvWlAc0AbhCuxpkBzQAkp04rbPnNAFQj57IA7c0BffFLty0BzQPYP1BELPHNAbtb5ssw8c0CM2VTeeD9zQDLS3gWgPnNABdQfd8hBc0AIOEjRKkJzQAwOTmqAQXNAQZj/Ysk+c0CJFS/GFD1zQAJ6ecYIQHNAPr2VwkBAc0BOicTqaz5zQMbE2TUTQ3NAr7VIY7c+c0Bl3WVlgTxzQFNUj5IwPXNATw4kzEQ7c0A9OoX7K0FzQMZw75VdPnNA66yvihFAc0DxyhTg1z5zQJMZ6XQoP3NAUoLa7rY6c0BEdaHNIz9zQNGzC9Y8PnNA6AEQ89FDc0CIPeqhdj9zQHGmiqS4P3NAwd/glBw/c0CT00huOUFzQJ0lQvIuPnNADqMsfHY8c0CCc13sEj1zQAKQIUtbQHNAQMULfyw9c0C3db1m8j5zQPLhxJlgP3NAnnTh4lY+c0AFDqKKQzxzQJo+O6V6QXNAN048ni46c0DBN4vvWj5zQHAXoKXuO3NAqThg8Ac8c0BYx3J7vj5zQEXRsQ00QHNANvQLAEs5c0DBEd7qHztzQC2fOyP3OHNA+5EvGQ08c0D/M9/0cjpzQKkDA15SOXNA3r/70cA3c0APzBCj7DZzQB/0jwM1OHNAlgAMHNs4c0DL5AJvNDdzQMRQBTA6O3NAkvBQXO45c0D5LmqM4jZzQNXVSRV4OXNAB/5GL7Q5c0AdJgk4mzZzQH5Be1IeOHNAC1mfAlk0c0B0+HR6szFzQBeQnarcNXNASq6cQE43c0BZ6Be1aTZzQB/XTx0SM3NANsvlf2Y2c0AYYF0S0zhzQGtzQgDZNHNAELOjcoc1c0C388jEfzRzQI93oI5QOnNAOD1kBjA2c0CutGPjbThzQDKRbWiJOXNA51XgJaY3c0A0mFYVYjdzQCBWAxJMN3NA7njHs4o7c0B3WAVBDjtzQDWWiSMWM3NAGzGXqeU3c0ATn6vjFTZzQILDEr4rNnNA/67N/7M3c0AIUY/LvDNzQFvDcUxdNnNA+09qTEs3c0ADbEFqhDVzQHVi44zDMHNAw4ka8jAzc0AO1qupMzJzQJbPt9X0MXNAeAHRlLUuc0D+q/PqEzFzQMDUjKRyL3NA78Hh520sc0Au9LUVAC5zQK2nd42cK3NA0O4UJxwrc0DX/ZoymCpzQCuA/fHbJnNA4G1wn+snc0D3Z5E4MCdzQBOMXqJCJ3NAzFkaFAUlc0BKLf4XXCVzQDc9I9jmI3NAFe39WjMlc0CcZhuTDCVzQI0qYxQ7JXNAVecF398kc0AbW+DXJCRzQEYGEocGI3NAYjws1X4jc0DcccOAAyZzQAphszSQJHNAkbK+lV8lc0C/Nas5yCZzQFYsUnTKJnNA0xX/uJUjc0C7GIIUSiNzQDF65br9InNABJaAysgic0DV17CxwyRzQBDY27uLG3NAyWuTBpAfc0BBXiEI5SFzQH+cFqBgI3NAGeAEKeMjc0AQkUJ42iRzQJFv0jDfH3NAfebul/cjc0B7uxxEgCVzQHdIHhJiInNAxQK+m/sic0CK31dESyBzQNUiq8oOIXNAXxSFK6cic0DEMCJL5iJzQHFmXpaDIHNA+XFDc94ec0C+MAWQPSJzQEiLeJH4IXNAt3MrGqcic0A2A1UwsCFzQN+7bsM7H3NAeUn38Mwdc0DQbrBM0h5zQFikvrOzHHNAZnMEApwec0A808z36RxzQEMHMoEGHXNAi6dpf6Ebc0ARJb/rlRtzQEdw5estHXNAi1j0jR0fc0DqBTxi4h5zQLv911HNH3NA/U2XDW8dc0B+u7XVSiJzQB6KDe1gInNA3VWop8ggc0AnJTHKjyBzQBG50Z3MIHNA6GdykWEdc0BEYg5j6SBzQGbIS6gaHnNAOF5Jq3Ylc0A2FUO+vR9zQG6+MHQpInNASiEmAOsfc0ChVLHwviJzQCdfx8gYJHNAYYL1hmIec0CZtshViyNzQE7zx9TZI3NAm3LqfsAnc0Byy03iCiNzQGal3aC5JnNAVHvjFZAjc0AqTdBxNSJzQCl4yPVRInNAA4MKvEQmc0CUX/S1KSZzQOCjxfXlJHNAxK5APEQjc0BKNUkJOiFzQK6m//R2IXNAat5BrqMjc0DsjPycGiZzQM/96X9VJHNAFt9qj+Qmc0BJPVfSRSZzQED0EtM9J3NA0HGwXJ8oc0DiBreWJipzQIXDurMkK3NA4h3JNSArc0C39LAOfChzQMPZ0d9pKHNAeAlm8Oknc0Ab87V61SlzQO+CObUoKXNAGnCwuCwpc0DfM/9fSyZzQLj5V6V2K3NAa/RgoiUqc0D25uaXMipzQLuZUSA3LHNAayD6UQ8oc0AOEDXCDCZzQLNGzXY8KnNANCSCNYsrc0DwpEIo5CxzQJsGSCPqLXNA0rU6s1Mrc0ChPlKlzi1zQEsP/49ULnNAxQnLzocyc0DwZn02izJzQNQ1q+N/M3NAwLK2skgzc0BJswgeBDJzQOx/vQi+LnNAMEoxCNIxc0AFbBnn7S5zQMQ2NvHnMXNA0unMbt0wc0CuhO7cZjJzQIfNsfU1M3NABKKTW5k1c0CaaGMD8C9zQN0lJOwOM3NAj9MDv/Qyc0A=",
          "dtype": "f8"
         },
         "yaxis": "y"
        },
        {
         "mode": "lines",
         "name": "With Gaps",
         "type": "scatter",
         "x": {
          "bdata": "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",
          "dtype": "i2"
         },
         "xaxis": "x",
         "y": {
          "bdata": "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",
          "dtype": "f8"
         },
         "yaxis": "y"
        },
        {
         "line": {
          "color": "blue"
         },
         "mode": "lines",
         "name": "Imputed",
         "type": "scatter",
         "x": {
          "bdata": "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",
          "dtype": "i2"
         },
         "xaxis": "x",
         "y": {
          "bdata": "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",
          "dtype": "f8"
         },
         "yaxis": "y"
        },
        {
         "line": {
          "color": "green"
         },
         "mode": "lines",
         "name": "Original - Imputed",
         "type": "scatter",
         "x": {
          "bdata": "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",
          "dtype": "i2"
         },
         "xaxis": "x2",
         "y": {
          "bdata": "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",
          "dtype": "f8"
         },
         "yaxis": "y2"
        }
       ],
       "layout": {
        "annotations": [
         {
          "font": {
           "size": 16
          },
          "showarrow": false,
          "text": "Process Temperature With and Without Gaps",
          "x": 0.5,
          "xanchor": "center",
          "xref": "paper",
          "y": 1,
          "yanchor": "bottom",
          "yref": "paper"
         },
         {
          "font": {
           "size": 16
          },
          "showarrow": false,
          "text": "Original - Imputed Difference",
          "x": 0.5,
          "xanchor": "center",
          "xref": "paper",
          "y": 0.45,
          "yanchor": "bottom",
          "yref": "paper"
         }
        ],
        "height": 700,
        "template": {
         "data": {
          "bar": [
           {
            "error_x": {
             "color": "#2a3f5f"
            },
            "error_y": {
             "color": "#2a3f5f"
            },
            "marker": {
             "line": {
              "color": "#E5ECF6",
              "width": 0.5
             },
             "pattern": {
              "fillmode": "overlay",
              "size": 10,
              "solidity": 0.2
             }
            },
            "type": "bar"
           }
          ],
          "barpolar": [
           {
            "marker": {
             "line": {
              "color": "#E5ECF6",
              "width": 0.5
             },
             "pattern": {
              "fillmode": "overlay",
              "size": 10,
              "solidity": 0.2
             }
            },
            "type": "barpolar"
           }
          ],
          "carpet": [
           {
            "aaxis": {
             "endlinecolor": "#2a3f5f",
             "gridcolor": "white",
             "linecolor": "white",
             "minorgridcolor": "white",
             "startlinecolor": "#2a3f5f"
            },
            "baxis": {
             "endlinecolor": "#2a3f5f",
             "gridcolor": "white",
             "linecolor": "white",
             "minorgridcolor": "white",
             "startlinecolor": "#2a3f5f"
            },
            "type": "carpet"
           }
          ],
          "choropleth": [
           {
            "colorbar": {
             "outlinewidth": 0,
             "ticks": ""
            },
            "type": "choropleth"
           }
          ],
          "contour": [
           {
            "colorbar": {
             "outlinewidth": 0,
             "ticks": ""
            },
            "colorscale": [
             [
              0,
              "#0d0887"
             ],
             [
              0.1111111111111111,
              "#46039f"
             ],
             [
              0.2222222222222222,
              "#7201a8"
             ],
             [
              0.3333333333333333,
              "#9c179e"
             ],
             [
              0.4444444444444444,
              "#bd3786"
             ],
             [
              0.5555555555555556,
              "#d8576b"
             ],
             [
              0.6666666666666666,
              "#ed7953"
             ],
             [
              0.7777777777777778,
              "#fb9f3a"
             ],
             [
              0.8888888888888888,
              "#fdca26"
             ],
             [
              1,
              "#f0f921"
             ]
            ],
            "type": "contour"
           }
          ],
          "contourcarpet": [
           {
            "colorbar": {
             "outlinewidth": 0,
             "ticks": ""
            },
            "type": "contourcarpet"
           }
          ],
          "heatmap": [
           {
            "colorbar": {
             "outlinewidth": 0,
             "ticks": ""
            },
            "colorscale": [
             [
              0,
              "#0d0887"
             ],
             [
              0.1111111111111111,
              "#46039f"
             ],
             [
              0.2222222222222222,
              "#7201a8"
             ],
             [
              0.3333333333333333,
              "#9c179e"
             ],
             [
              0.4444444444444444,
              "#bd3786"
             ],
             [
              0.5555555555555556,
              "#d8576b"
             ],
             [
              0.6666666666666666,
              "#ed7953"
             ],
             [
              0.7777777777777778,
              "#fb9f3a"
             ],
             [
              0.8888888888888888,
              "#fdca26"
             ],
             [
              1,
              "#f0f921"
             ]
            ],
            "type": "heatmap"
           }
          ],
          "histogram": [
           {
            "marker": {
             "pattern": {
              "fillmode": "overlay",
              "size": 10,
              "solidity": 0.2
             }
            },
            "type": "histogram"
           }
          ],
          "histogram2d": [
           {
            "colorbar": {
             "outlinewidth": 0,
             "ticks": ""
            },
            "colorscale": [
             [
              0,
              "#0d0887"
             ],
             [
              0.1111111111111111,
              "#46039f"
             ],
             [
              0.2222222222222222,
              "#7201a8"
             ],
             [
              0.3333333333333333,
              "#9c179e"
             ],
             [
              0.4444444444444444,
              "#bd3786"
             ],
             [
              0.5555555555555556,
              "#d8576b"
             ],
             [
              0.6666666666666666,
              "#ed7953"
             ],
             [
              0.7777777777777778,
              "#fb9f3a"
             ],
             [
              0.8888888888888888,
              "#fdca26"
             ],
             [
              1,
              "#f0f921"
             ]
            ],
            "type": "histogram2d"
           }
          ],
          "histogram2dcontour": [
           {
            "colorbar": {
             "outlinewidth": 0,
             "ticks": ""
            },
            "colorscale": [
             [
              0,
              "#0d0887"
             ],
             [
              0.1111111111111111,
              "#46039f"
             ],
             [
              0.2222222222222222,
              "#7201a8"
             ],
             [
              0.3333333333333333,
              "#9c179e"
             ],
             [
              0.4444444444444444,
              "#bd3786"
             ],
             [
              0.5555555555555556,
              "#d8576b"
             ],
             [
              0.6666666666666666,
              "#ed7953"
             ],
             [
              0.7777777777777778,
              "#fb9f3a"
             ],
             [
              0.8888888888888888,
              "#fdca26"
             ],
             [
              1,
              "#f0f921"
             ]
            ],
            "type": "histogram2dcontour"
           }
          ],
          "mesh3d": [
           {
            "colorbar": {
             "outlinewidth": 0,
             "ticks": ""
            },
            "type": "mesh3d"
           }
          ],
          "parcoords": [
           {
            "line": {
             "colorbar": {
              "outlinewidth": 0,
              "ticks": ""
             }
            },
            "type": "parcoords"
           }
          ],
          "pie": [
           {
            "automargin": true,
            "type": "pie"
           }
          ],
          "scatter": [
           {
            "fillpattern": {
             "fillmode": "overlay",
             "size": 10,
             "solidity": 0.2
            },
            "type": "scatter"
           }
          ],
          "scatter3d": [
           {
            "line": {
             "colorbar": {
              "outlinewidth": 0,
              "ticks": ""
             }
            },
            "marker": {
             "colorbar": {
              "outlinewidth": 0,
              "ticks": ""
             }
            },
            "type": "scatter3d"
           }
          ],
          "scattercarpet": [
           {
            "marker": {
             "colorbar": {
              "outlinewidth": 0,
              "ticks": ""
             }
            },
            "type": "scattercarpet"
           }
          ],
          "scattergeo": [
           {
            "marker": {
             "colorbar": {
              "outlinewidth": 0,
              "ticks": ""
             }
            },
            "type": "scattergeo"
           }
          ],
          "scattergl": [
           {
            "marker": {
             "colorbar": {
              "outlinewidth": 0,
              "ticks": ""
             }
            },
            "type": "scattergl"
           }
          ],
          "scattermap": [
           {
            "marker": {
             "colorbar": {
              "outlinewidth": 0,
              "ticks": ""
             }
            },
            "type": "scattermap"
           }
          ],
          "scattermapbox": [
           {
            "marker": {
             "colorbar": {
              "outlinewidth": 0,
              "ticks": ""
             }
            },
            "type": "scattermapbox"
           }
          ],
          "scatterpolar": [
           {
            "marker": {
             "colorbar": {
              "outlinewidth": 0,
              "ticks": ""
             }
            },
            "type": "scatterpolar"
           }
          ],
          "scatterpolargl": [
           {
            "marker": {
             "colorbar": {
              "outlinewidth": 0,
              "ticks": ""
             }
            },
            "type": "scatterpolargl"
           }
          ],
          "scatterternary": [
           {
            "marker": {
             "colorbar": {
              "outlinewidth": 0,
              "ticks": ""
             }
            },
            "type": "scatterternary"
           }
          ],
          "surface": [
           {
            "colorbar": {
             "outlinewidth": 0,
             "ticks": ""
            },
            "colorscale": [
             [
              0,
              "#0d0887"
             ],
             [
              0.1111111111111111,
              "#46039f"
             ],
             [
              0.2222222222222222,
              "#7201a8"
             ],
             [
              0.3333333333333333,
              "#9c179e"
             ],
             [
              0.4444444444444444,
              "#bd3786"
             ],
             [
              0.5555555555555556,
              "#d8576b"
             ],
             [
              0.6666666666666666,
              "#ed7953"
             ],
             [
              0.7777777777777778,
              "#fb9f3a"
             ],
             [
              0.8888888888888888,
              "#fdca26"
             ],
             [
              1,
              "#f0f921"
             ]
            ],
            "type": "surface"
           }
          ],
          "table": [
           {
            "cells": {
             "fill": {
              "color": "#EBF0F8"
             },
             "line": {
              "color": "white"
             }
            },
            "header": {
             "fill": {
              "color": "#C8D4E3"
             },
             "line": {
              "color": "white"
             }
            },
            "type": "table"
           }
          ]
         },
         "layout": {
          "annotationdefaults": {
           "arrowcolor": "#2a3f5f",
           "arrowhead": 0,
           "arrowwidth": 1
          },
          "autotypenumbers": "strict",
          "coloraxis": {
           "colorbar": {
            "outlinewidth": 0,
            "ticks": ""
           }
          },
          "colorscale": {
           "diverging": [
            [
             0,
             "#8e0152"
            ],
            [
             0.1,
             "#c51b7d"
            ],
            [
             0.2,
             "#de77ae"
            ],
            [
             0.3,
             "#f1b6da"
            ],
            [
             0.4,
             "#fde0ef"
            ],
            [
             0.5,
             "#f7f7f7"
            ],
            [
             0.6,
             "#e6f5d0"
            ],
            [
             0.7,
             "#b8e186"
            ],
            [
             0.8,
             "#7fbc41"
            ],
            [
             0.9,
             "#4d9221"
            ],
            [
             1,
             "#276419"
            ]
           ],
           "sequential": [
            [
             0,
             "#0d0887"
            ],
            [
             0.1111111111111111,
             "#46039f"
            ],
            [
             0.2222222222222222,
             "#7201a8"
            ],
            [
             0.3333333333333333,
             "#9c179e"
            ],
            [
             0.4444444444444444,
             "#bd3786"
            ],
            [
             0.5555555555555556,
             "#d8576b"
            ],
            [
             0.6666666666666666,
             "#ed7953"
            ],
            [
             0.7777777777777778,
             "#fb9f3a"
            ],
            [
             0.8888888888888888,
             "#fdca26"
            ],
            [
             1,
             "#f0f921"
            ]
           ],
           "sequentialminus": [
            [
             0,
             "#0d0887"
            ],
            [
             0.1111111111111111,
             "#46039f"
            ],
            [
             0.2222222222222222,
             "#7201a8"
            ],
            [
             0.3333333333333333,
             "#9c179e"
            ],
            [
             0.4444444444444444,
             "#bd3786"
            ],
            [
             0.5555555555555556,
             "#d8576b"
            ],
            [
             0.6666666666666666,
             "#ed7953"
            ],
            [
             0.7777777777777778,
             "#fb9f3a"
            ],
            [
             0.8888888888888888,
             "#fdca26"
            ],
            [
             1,
             "#f0f921"
            ]
           ]
          },
          "colorway": [
           "#636efa",
           "#EF553B",
           "#00cc96",
           "#ab63fa",
           "#FFA15A",
           "#19d3f3",
           "#FF6692",
           "#B6E880",
           "#FF97FF",
           "#FECB52"
          ],
          "font": {
           "color": "#2a3f5f"
          },
          "geo": {
           "bgcolor": "white",
           "lakecolor": "white",
           "landcolor": "#E5ECF6",
           "showlakes": true,
           "showland": true,
           "subunitcolor": "white"
          },
          "hoverlabel": {
           "align": "left"
          },
          "hovermode": "closest",
          "mapbox": {
           "style": "light"
          },
          "paper_bgcolor": "white",
          "plot_bgcolor": "#E5ECF6",
          "polar": {
           "angularaxis": {
            "gridcolor": "white",
            "linecolor": "white",
            "ticks": ""
           },
           "bgcolor": "#E5ECF6",
           "radialaxis": {
            "gridcolor": "white",
            "linecolor": "white",
            "ticks": ""
           }
          },
          "scene": {
           "xaxis": {
            "backgroundcolor": "#E5ECF6",
            "gridcolor": "white",
            "gridwidth": 2,
            "linecolor": "white",
            "showbackground": true,
            "ticks": "",
            "zerolinecolor": "white"
           },
           "yaxis": {
            "backgroundcolor": "#E5ECF6",
            "gridcolor": "white",
            "gridwidth": 2,
            "linecolor": "white",
            "showbackground": true,
            "ticks": "",
            "zerolinecolor": "white"
           },
           "zaxis": {
            "backgroundcolor": "#E5ECF6",
            "gridcolor": "white",
            "gridwidth": 2,
            "linecolor": "white",
            "showbackground": true,
            "ticks": "",
            "zerolinecolor": "white"
           }
          },
          "shapedefaults": {
           "line": {
            "color": "#2a3f5f"
           }
          },
          "ternary": {
           "aaxis": {
            "gridcolor": "white",
            "linecolor": "white",
            "ticks": ""
           },
           "baxis": {
            "gridcolor": "white",
            "linecolor": "white",
            "ticks": ""
           },
           "bgcolor": "#E5ECF6",
           "caxis": {
            "gridcolor": "white",
            "linecolor": "white",
            "ticks": ""
           }
          },
          "title": {
           "x": 0.05
          },
          "xaxis": {
           "automargin": true,
           "gridcolor": "white",
           "linecolor": "white",
           "ticks": "",
           "title": {
            "standoff": 15
           },
           "zerolinecolor": "white",
           "zerolinewidth": 2
          },
          "yaxis": {
           "automargin": true,
           "gridcolor": "white",
           "linecolor": "white",
           "ticks": "",
           "title": {
            "standoff": 15
           },
           "zerolinecolor": "white",
           "zerolinewidth": 2
          }
         }
        },
        "title": {
         "text": "Process Temperature With and Without Gaps and Imputation Difference"
        },
        "xaxis": {
         "anchor": "y",
         "domain": [
          0,
          1
         ],
         "matches": "x2",
         "showticklabels": false,
         "title": {
          "text": "UDI"
         }
        },
        "xaxis2": {
         "anchor": "y2",
         "domain": [
          0,
          1
         ]
        },
        "yaxis": {
         "anchor": "x",
         "domain": [
          0.55,
          1
         ],
         "title": {
          "text": "Process Temperature [K]"
         }
        },
        "yaxis2": {
         "anchor": "x2",
         "domain": [
          0,
          0.45
         ],
         "title": {
          "text": "Difference"
         }
        }
       }
      }
     },
     "metadata": {},
     "output_type": "display_data"
    }
   ],
   "source": [
    "dftemp.loc[:, \"temp_bf\"] = dftemp[\"process_temperature_K_gaps\"].bfill()  # Pandas provides backward fill imputation out of the box.\n",
    "\n",
    "plot_temperature_data(dftemp, int_column=\"temp_bf\")"
   ]
  },
  {
   "cell_type": "markdown",
   "id": "9bc17e5f",
   "metadata": {},
   "source": [
    "## Linear Interpolation\n",
    "\n",
    "Linear interpolation is a method used to estimate missing values in a time series by connecting two known data points with a straight line and using that line to fill in the gaps.\n",
    "\n",
    "Advantages:\n",
    "- Can provide more accurate estimates than forward or backward fill, especially for short gaps.\n",
    "- Preserves trends and patterns in the data better than simple imputation methods.\n",
    "\n",
    "Disadvantages:\n",
    "- Assumes a linear relationship between data points, which may not always be valid.\n",
    "- Can introduce bias if the underlying data has non-linear trends.\n",
    "- May not perform well for long gaps or highly volatile data."
   ]
  },
  {
   "cell_type": "code",
   "execution_count": 8,
   "id": "f207b0dc",
   "metadata": {},
   "outputs": [
    {
     "data": {
      "application/vnd.plotly.v1+json": {
       "config": {
        "plotlyServerURL": "https://plot.ly"
       },
       "data": [
        {
         "line": {
          "color": "lightgrey"
         },
         "mode": "lines",
         "name": "Original",
         "type": "scatter",
         "x": {
          "bdata": "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",
          "dtype": "i2"
         },
         "xaxis": "x",
         "y": {
          "bdata": "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",
          "dtype": "f8"
         },
         "yaxis": "y"
        },
        {
         "mode": "lines",
         "name": "With Gaps",
         "type": "scatter",
         "x": {
          "bdata": "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",
          "dtype": "i2"
         },
         "xaxis": "x",
         "y": {
          "bdata": "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",
          "dtype": "f8"
         },
         "yaxis": "y"
        },
        {
         "line": {
          "color": "blue"
         },
         "mode": "lines",
         "name": "Imputed",
         "type": "scatter",
         "x": {
          "bdata": "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",
          "dtype": "i2"
         },
         "xaxis": "x",
         "y": {
          "bdata": "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",
          "dtype": "f8"
         },
         "yaxis": "y"
        },
        {
         "line": {
          "color": "green"
         },
         "mode": "lines",
         "name": "Original - Imputed",
         "type": "scatter",
         "x": {
          "bdata": "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",
          "dtype": "i2"
         },
         "xaxis": "x2",
         "y": {
          "bdata": "AAAAAAAA+H8AAAAAAAD4fwAAAAAAAPh/AAAAAAAA+H8AAAAAAAD4fwAAAAAAAPh/AAAAAAAA+H8AAAAAAAD4fwAAAAAAAPh/AAAAAAAA+H8AAAAAAAD4fwAAAAAAAPh/AAAAAAAA+H8AAAAAAAD4fwAAAAAAAPh/AAAAAAAA+H8AAAAAAAD4fwAAAAAAAPh/AAAAAAAA+H8AAAAAAAD4fwAAAAAAAPh/AAAAAAAA+H8AAAAAAAD4fwAAAAAAAPh/AAAAAAAA+H8AAAAAAAD4fwAAAAAAAPh/AAAAAAAA+H8AAAAAAAD4fwAAAAAAAPh/AAAAAAAA+H8AAAAAAAD4fwAAAAAAAPh/AAAAAAAA+H8AAAAAAAD4fwAAAAAAAPh/AAAAAAAA+H8AAAAAAAD4fwAAAAAAAPh/AAAAAAAA+H8AAAAAAAD4fwAAAAAAAPh/AAAAAAAA+H8AAAAAAAD4fwAAAAAAAPh/AAAAAAAA+H8AAAAAAAD4fwAAAAAAAPh/AAAAAAAA+H8AAAAAAAD4fwAAAAAAAPh/AAAAAAAA+H8AAAAAAAD4fwAAAAAAAPh/AAAAAAAA+H8AAAAAAAD4fwAAAAAAAPh/AAAAAAAA+H8AAAAAAAD4fwAAAAAAAPh/AAAAAAAA+H8AsCbNs5qzPwBgyE0gMKG/AECVH++ssr8ASCwvVyfBPwDIEqjBl8Q/AMCZU9AFkb8A8MK1zIy1PwCockTcL8C/AGD3pGo4oD8AgESQU+SEvwDAnKIWUsI/AHDiUplXyT8AwF2dXCmbPwBAeKFSZcM/AADf+YoUpz8AADiQX6WOvwCQjFuxCrK/AACGcYB8pz8AgCPjq4ufvwAI/Yep5dC/AAAs0c7Lfb8A2NAzovLEvwAARsNy526/AACiXnZoZb8AgNowlRyAPwBAMBryGa4/AMCYRaaBkD8AgA2cIs2xvwAwVrvAurw/AMAndBT+k78A0NIMXCuzvwCghlx+Xby/AAAm86JPZz8AiILRRtnBPwAoalu+Ec4/AAAmjHcodD8AgOikFGKYPwAA9+fpjXi/AMDILc3XtL8AaG1WaPrRPwAAAAAAAPh/AAAAAAAA+H8AAAAAAAD4fwAAAAAAAPh/AAAAAAAA+H8AAAAAAAD4fwAAAAAAAPh/AAAAAAAA+H8AAAAAAAD4fwAAAAAAAPh/AAAAAAAA+H8AAAAAAAD4fwAAAAAAAPh/AAAAAAAA+H8AAAAAAAD4fwAAAAAAAPh/AAAAAAAA+H8AAAAAAAD4fwAAAAAAAPh/AAAAAAAA+H8AQIy+FmXMvwAARA0jgmu/ACBpbaNAqT8AwIim1sOvvwAAAAAAAPh/AAAAAAAA+H8AAAAAAAD4fwAAAAAAAPh/AAAAAAAA+H8AAAAAAAD4fwAAAAAAAPh/AAAAAAAA+H8AAAAAAAD4fwAAAAAAAPh/AAAAAAAA+H8AAAAAAAD4fwAAAAAAAPh/AAAAAAAA+H8AAAAAAAD4fwAAAAAAAPh/AAAAAAAA+H8AAAAAAAD4fwAAAAAAAPh/AAAAAAAA+H8AAAAAAAD4fwAAAAAAAPh/AAAAAAAA+H8AAAAAAAD4fwAAAAAAAPh/AAAAAAAA+H8AAAAAAAD4fwAAAAAAAPh/AAAAAAAA+H8AAAAAAAD4fwAAAAAAAPh/AAAAAAAA+H8AAAAAAAD4fwAAAAAAAPh/AAAAAAAA+H8A2MgU/VfUPwDgMpD2x8e/ANCvRHL/uL8AoMoJDyLKPwCgS+wsNc8/ACDNnWWXyD8A6Gl6WzrBvwBAP2seU84/AMBuMQofvD8AkJ4ExH7OPwAwy1pBE7s/AHAa+E90wr8AaAxInE/AvwAAyjn3es+/AGA9NK0dw78A4Knpqd7BvwDg+93s+ra/AAAU2QiLfL8AwMiU0k6WPwD41beOrcE/ANBE04a/vz8AQHqYQeSfvwAAIshkSnO/AIBBrr6Avj8AsBjG+8vPvwAo08zXhcW/AEAlxwzdp78AMMZPNc+yPwAMcheZB9M/AMA4dy+Hr78AoM47MWGyvwAITSwhX9M/AKCgafRZsr8AgPohFdLIPwBEHK2kAtI/AAAAAAAA+H8AAAAAAAD4fwAAAAAAAPh/AAAAAAAA+H8AAAAAAAD4fwAAAAAAAPh/AAAAAAAA+H8AAAAAAAD4fwAAAAAAAPh/AAAAAAAA+H8AAAAAAAD4fwAAAAAAAPh/AAAAAAAA+H8AAAAAAAD4fwAAAAAAAPh/AAAAAAAA+H8AAAAAAAD4fwAAAAAAAPh/AAAAAAAA+H8AAAAAAAD4fwAAAAAAAPh/AAAAAAAA+H8AAAAAAAD4fwDAhVOt/LO/AADitm3seT8AqB5Tmm/AvwCgNRBUDbU/AOBKSGZArT8AIIcvMry5vwAAzJvxD3g/AOD635PFp78AsDyLP47YvwAgXRFOWKO/AKCQrHr1sb8AUOf5jHm0vwBwaiy1CMM/AEB4qdG0lj8A4L7Joxm+vwCA+hSlCIW/AADEM9vvZb8AcGx915q6vwCQkFFGRsi/AKhpr1jw1L8AOPyGY8TTvwAAAAAAAPh/AAAAAAAA+H8AAAAAAAD4fwAAAAAAAPh/AAAAAAAA+H8AAAAAAAD4fwAAAAAAAPh/AAAAAAAA+H8AAAAAAAD4fwAAAAAAAPh/AAAAAAAA+H8AAAAAAAD4fwAAAAAAAPh/AAAAAAAA+H8AAAAAAAD4fwAAAAAAAPh/AAAAAAAA+H8AAAAAAAD4fwAAAAAAAPh/AAAAAAAA+H8AAAAAAAD4fwAAAAAAAPh/AAAAAAAA+H8AAAAAAAD4fwAAAAAAAPh/AAAAAAAA+H8AAAAAAAD4fwAAAAAAAPh/AAAAAAAA+H8A0EUe0FOwPwAAEdT/OHC/AACHY/f/cT8AeIcCVqDOPwAA3WzR4Zw/AFDTriuIyb8AQBZkZ6OePwB4y8L15cW/AIDsWAfnxr8AABYjuNzQvwDQ5dTY5r4/ALCzVG0owL8A4D9xGsuiPwCALtxV5c2/AAjfwyX3xr8AAAAAAAD4fwAAAAAAAPh/AAAAAAAA+H8AAAAAAAD4fwAAAAAAAPh/AAAAAAAA+H8AAAAAAAD4fwAAAAAAAPh/AAAAAAAA+H8AAAAAAAD4fwAAAAAAAPh/AAAAAAAA+H8AAAAAAAD4fwAAAAAAAPh/AAAAAAAA+H8AAAAAAAD4fwAAAAAAAPh/AAAAAAAA+H8AAAAAAAD4fwAAAAAAAPh/AAAAAAAA+H8AAAAAAAD4fwAAAAAAAPh/AAAAAAAA+H8AAAAAAAD4fwAAAAAAAPh/AAAAAAAA+H8AAAAAAAD4fwAAAAAAAPh/AAAAAAAA+H8AAAAAAAD4fwAAAAAAAPh/AAAAAAAA+H8AAAAAAAD4fwAAAAAAAPh/AAAAAAAA+H8AAAAAAAD4fwAAAAAAAPh/AAAAAAAA+H8AAAAAAAD4fwAAAAAAAPh/AAAAAAAA+H8AAAAAAAD4fwAAAAAAAPh/AAAAAAAA+H8AAAAAAAD4fwAAAAAAAPh/AAAAAAAA+H8AAAAAAAD4fwAAAAAAAPh/AAAAAAAA+H8AAAAAAAD4fwAAAAAAAPh/AAAAAAAA+H8AAAAAAAD4fwAAAAAAAPh/AAAAAAAA+H8AAAAAAAD4fwAAAAAAAPh/AAAAAAAA+H8AAAAAAAD4fwAAAAAAAPh/AEA3CiLEqD8AsDaeEVy/vwCgbZV3ULo/AEiFf4Dowj8AQM/7yBirvwCASoEb6Kc/AJjTVXi3wj8A6IZX83TIPwAAHSYeLbC/AACbZoaHfb8AgIWsdXidvwDADXnxVr0/AAAkNyV+jL8AEGRqBWm7vwCwe0c6nbi/AEB8b4wvu78AoH4DgXOjvwAAm8fzkHm/AECrsScewr8AwHqJ3b2SvwBwYJ7KOL+/ACjvEVeTwT8A4JmwrnOgPwCAFdakD5c/ADABwcprvT8AEKVS3Rq4vwAAAAAAAPh/AAAAAAAA+H8AAAAAAAD4fwAAAAAAAPh/AAAAAAAA+H8AAAAAAAD4fwAAAAAAAPh/AAAAAAAA+H8AAAAAAAD4fwAAAAAAAPh/AAAAAAAA+H8AAAAAAAD4fwAAAAAAAPh/AAAAAAAA+H8ATNNQBwHUPwBgEXRXY9I/AESpport1j8AOL67qTnRPwAgU+ZtaL0/AEC5ZRVVyz8AAAAAAAD4fwAAAAAAAPh/AAAAAAAA+H8AAAAAAAD4fwAAAAAAAPh/AAAAAAAA+H8AAAAAAAD4fwAAAAAAAPh/AAAAAAAA+H8AAAAAAAD4fwAAAAAAAPh/AAAAAAAA+H8AAAAAAAD4fwAgkA8yPq8/AADoRTPquT8A2Opl8mXFPwAYU5m3GsM/AEACghRymj8A8CGw1dPBPwDgMPM0fr8/AOjL0l401T8AoNFIIEK0PwAQj2NHkbQ/AAA8Tk0LaD8ACBUVwj3DPwAQsXENiMG/AOBeSSxQpL8AoMQ8vRDGPwCEmlOBStC/ALDv5ihnsD8AyEVi43XGvwDQLqrCx9c/AAAAAAAA+H8AAAAAAAD4fwBwfTeDtL6/AMiPrurCwr8AwGUPi9ChvwCQf5ftj7s/AGjhDidiyb8A8HmFiUOwvwDQhQ2ZF7C/AFgH4we0xL8AwBZVghGbvwCAApljFJe/ALx/CUmr0L8AKNhCOvfMvwBsomWqFdO/APhlYW9Kzr8ASB/4UJjWvwDQvws3v7G/AHAKy0KkuL8A4LBiNV+gvwAYTjX119K/AGCzGn9K0L8AwJGij/KtvwDgZ9deEae/AAAAAAAA+H8AAAAAAAD4fwAAAAAAAPh/AAAAAAAA+H8AAAAAAAD4fwAAAAAAAPh/AAAAAAAA+H8AAAAAAAD4fwAAAAAAAPh/AAAAAAAA+H8AAAAAAAD4fwAAAAAAAPh/AAAAAAAA+H8AAAAAAAD4fwAAAAAAAPh/AAAAAAAA+H8AAAAAAAD4fwAAAAAAAPh/AAAAAAAA+H8AAAAAAAD4fwAAAAAAAPh/AAAAAAAA+H8AAAAAAAD4fwAAAAAAAPh/AAAAAAAA+H8AAAAAAAD4fwAAAAAAAPh/AAAAAAAA+H8AQAhpaIilPwDI9ftIYcG/AGjdAwJSw78AUGByq2WxvwBIduW3z8i/APieNbz81b8AwCrj6kG2PwAATlYwW7K/AMAFkkM8qj8AgH/fPkW6vwD4xmiViMu/AABMVXAZfj8AcByLFZK/vwAwqMxe988/ADAFLvGCtz8A+EaX0ozOPwAACCp3en8/AMBN0gK51j8AgGPk3rqvvwDgxcycmL4/AOgQ9U8Xxz8AMPuBaJW3PwCsFIoP/tG/AABfbd4Nn78A6IVaqn/CvwCALxYzJZc/AABS6KSOwz8AAOSkXQ9/PwDY/XzzBsK/AHiu4ik6wj8AAD8idRWJvwAgAtxR1rO/AFgGUqyh0T8AAAAAAAD4fwAAAAAAAPh/AAAAAAAA+H8AAAAAAAD4fwAAAAAAAPh/AAAAAAAA+H8AAAAAAAD4fwAAAAAAAPh/AAAAAAAA+H8AAAAAAAD4fwAAAAAAAPh/AAAAAAAA+H8AAAAAAAD4fwAAAAAAAPh/AAAAAAAA+H8AAKZIQdR2vwDgGAVep78/AGBfkTZIqT8AMGSdW1GwPwDAy25NjKs/AABfwjzZi78AQP1jQOKcPwDgHh2FOqm/AACSNV01aD8AAPg7EJiYPwCooTRVl86/AMg26JHgz78AuBWGzDTFvwCQ3iD7Cc6/ABjyqbAKy78AWJHzHzfPvwCwM1ysdsy/AAAAAAAA+H8AAAAAAAD4fwAAAAAAAPh/AAAAAAAA+H8AAAAAAAD4fwAAAAAAAPh/AAAAAAAA+H8AAAAAAAD4fwAAAAAAAPh/AAAAAAAA+H8AAAAAAAD4fwAAAAAAAPh/AAAAAAAA+H8AAAAAAAD4fwAAAAAAAPh/AAAAAAAA+H8AAAAAAAD4fwAAAAAAAPh/AAAAAAAA+H8AAAAAAAD4fwAAAAAAAPh/AAAAAAAA+H8AAAAAAAD4fwAAAAAAAPh/AAAAAAAA+H8AAAAAAAD4fwAAAAAAAPh/AAAAAAAA+H8AAAAAAAD4fwAAAAAAAPh/AAAAAAAA+H8AAAAAAAD4fwAAAAAAAPh/AAAAAAAA+H8AAAAAAAD4fwAAAAAAAPh/AAAAAAAA+H8AAAAAAAD4fwAAAAAAAPh/AAAAAAAA+H8AAAAAAAD4fwAAAAAAAPh/AAAAAAAA+H8AAAAAAAD4fwAAAAAAAPh/AAAAAAAA+H8AAAAAAAD4fwAAAAAAAPh/AAAAAAAA+H8AAAAAAAD4fwAAAAAAAPh/AAAAAAAA+H8AAAAAAAD4fwAAAAAAAPh/AAAAAAAA+H8AAAAAAAD4fwAAAAAAAPh/AAAAAAAA+H8AAAAAAAD4fwAAAAAAAPh/AAAAAAAA+H8AAAAAAAD4fwAAAAAAAPh/AAAAAAAA+H8AAAAAAAD4fwAAAAAAAPh/AAAAAAAA+H8AAAAAAAD4fwAAAAAAAPh/AAAAAAAA+H8AsPf6ogixPwDAH4LZRZ6/ANCXv4Wtw78A4B1pRCWpvwCABaNEepc/AEjjLF1b0b8AcHhn2Yu/vwDAQG+8VbK/AIgatyQ3yz8AIBU60ISmPwDgeFDn884/AEDhPUc8zj8AAL+f/cDSPwCAkRHUGq2/APi1T9YE2j8AKBZ3xyrMPwDYeLaIBME/AMA+Wl9Mwz8ArK5i50vVPwDwmbE3TMo/ADCe2MqItT8AAAwaif9fPwAgETgFGLY/AAAAAAAA+H8AAAAAAAD4fwAAAAAAAPh/AAAAAAAA+H8AAAAAAAD4fwAAAAAAAPh/AAAAAAAA+H8AAAAAAAD4fwAAAAAAAPh/AAAAAAAA+H8AAAAAAAD4fwAAAAAAAPh/AAAAAAAA+H8AAAAAAAD4fwAAAAAAAPh/AAAAAAAA+H8AAAAAAAD4fwAAAAAAAPh/AAAAAAAA+H8AAAAAAAD4fwAAAAAAAPh/AKCS1Ip+oL8A0ERXFO61vwAEzXGjvtC/ANDjE0dPzT8AkJr/aR29PwDgGbHcMsG/AGAZ0CUVuT8AIGFNa8yvvwCgo2zch6O/AIC2xHPtsr8AWCNF6wjMvwA0p6Hs4tO/AAB2m8P8xD8AAED3neQRPwAAacKjzXw/AIALMy0/ob8A1BvrwprQPwAAAAAAAPh/AAAAAAAA+H8AAAAAAAD4fwAAAAAAAPh/AAAAAAAA+H8AAAAAAAD4fwAAAAAAAPh/ADAdxXAKvr8AIHF8PWe/vwAAOBLW+m0/ALjXVC1Py78AYCg9GUO+vwBw6qtbrLq/ACBFfY6/vL8A8Gyh33W8PwDIkZwQYsG/ACAoh7iBy78AaPPelRLDvwAAQEkwtII/AMDLHePWqb8AQMYAFH+bPwBQXOeJqbG/AGh4E3JV0T8AQEoV5IfGPwAgkAEmJK0/AAB7iyG9i78AoHXEwQq4vwDI49i0PcK/ANCMacGMub8AdPpoH8bTvwAYuaaPpNK/ALiQQGuwwr8AwPgJGuHGPwBYX9YapcM/ADCLCTyevj8AAAAAAAD4fwAAAAAAAPh/AAAAAAAA+H8AAAAAAAD4fwAAAAAAAPh/AAAAAAAA+H8AAAAAAAD4fwAAAAAAAPh/AAAAAAAA+H8AAAAAAAD4fwAAAAAAAPh/AAAAAAAA+H8AwMbXObSzPwDAfTUjU6Q/ABjwKA7owz8ANDo6cX3RPwBY0l6eF8I/APivl9BLzj8AIL0vCFnSPwBAVbNyQbG/ACBzmjsZqD8AUJjEM0y4vwDA/kP3lJi/AMDWDJ7FmT8AIAKbR1G3vwBo9aeAA8G/AAAAAAAA+H8AAAAAAAD4fwAAAAAAAPh/AAAAAAAA+H8AwEXRcVnFvwAoYgZxK8O/ANDW3yFzu78AADLnq/q2PwAAAAAAAPh/AAAAAAAA+H8AAAAAAAD4fwCAQ+Zmwos/ADB1OOi/yL8AyFIgRoPSvwC4eR7f8su/AGD1epA0178AGC7a2yLAvwDYvsuZ68u/AIBrk+sghz8AoHGyVXi2PwBgdjo2d74/ABC8GTv6tj8A4Lnv23HJPwAAAAAAAPh/AAAAAAAA+H8AAAAAAAD4fwAAAAAAAPh/AAAAAAAA+H8AAAAAAAD4fwAAAAAAAPh/AACWw+L6nb8AoP7jY1avPwBQw3sge7G/AKAZDlHmqj8AAAAAAAD4fwAAAAAAAPh/AAAAAAAA+H8AAAAAAAD4fwAAAAAAAPh/AAAAAAAA+H8AAAAAAAD4fwAAAAAAAPh/AAAAAAAA+H8AAAAAAAD4fwAAAAAAAPh/AAAAAAAA+H8AAAAAAAD4fwAAAAAAAPh/AAAAAAAA+H8AAAAAAAD4fwAAAAAAAPh/AAAAAAAA+H8AAAAAAAD4fwAAAAAAAPh/AAAAAAAA+H8AAAAAAAD4fwDgeEPdkaA/AAD6A8WFhT8AIHXdiVPEPwCAOqZAv46/AGDC0YQ2u78AoBpTeo2qvwBItNn5s8U/AACucEjgir8AkB+oNiu9PwCICN2VG8Q/ALBpHoLEuz8AACDN04N0vwBIWTyMlNU/ADBzYnpFur8AoKmTL1TGPwAg+CAKGaQ/AOB6W+uTrz8AIOu4ta3PPwC4aP9Ut9Y/AGAAioMVr78AUAb4r+yxPwAg6icL7qi/ANgyI4+IxD8AwLPbnZezPwAAcc/S25Y/AEBlSg5yrr8AsEE5MVO4vwAASBvV5lY/AODEYM/LrT8AwLEYkXCdvwCA4D1YlM4/ANh16BxKxj8AAAAAAAD4fwAAAAAAAPh/AAAAAAAA+H8AAAAAAAD4fwAAAAAAAPh/AAAAAAAA+H8AAAAAAAD4fwAAAAAAAPh/AAAAAAAA+H8AAEzZfYexvwAo0/nvj9K/ACD4FFw4uL8AINKuC6SmPwBYJ7Lwxsu/ALCgbsDyx78A+IgFyefQvwCwLNWzLrY/ANiyvUqMx78AoLYhFvOsvwAAAAAAAPh/AAAAAAAA+H8AAAAAAAD4fwAAAAAAAPh/AAAAAAAA+H8AAAAAAAD4fwAAAAAAAPh/AAAAAAAA+H8AAAAAAAD4fwAAAAAAAPh/AAAAAAAA+H8AAAAAAAD4fwAAAAAAAPh/AAAAAAAA+H8AAAAAAAD4fwAAAAAAAPh/AAAAAAAA+H8AAEMnZOtwvwDg1ku2k6M/AFAvnmJku78AQEA10Ea5PwAAJ+F08Ks/AHDSl7+Ns78AoBhU7lq0PwCAQj8nvoi/AACIqiw9jT8AQBE+XVykPwCABUgFaMG/AIBEwxV7iL8AAAAAAAD4fwAAAAAAAPh/AAAAAAAA+H8AAAAAAAD4fwAAAAAAAPh/AODD/TnMsz8AUCIoyGOwPwBgJ/foT7I/AKBz6z5Bpz8AAD0EabxwvwAgyyLH7LO/AMBGWbLHqr8AQHqZ7Oq5PwAAMrN+o3s/AAAj5qloqz8AMAUHUKHBPwDoHGgrNcE/AGBoDlLdsb8A4HOLjZO3vwCAlgIbVb2/AKgJfwrQwL8AgII5rWyHvwDUjNQc7eK/AEQZtgsI1r8AyDvTBObJvwCwzf99Dr2/ABDOyOLhtb8AwOJriqOdvwCoklJTBta/AOAVMM+Ot78AAAAAAAD4fwAAAAAAAPh/AAAAAAAA+H8AAAAAAAD4fwAAAAAAAPh/AAAAAAAA+H8AAAAAAAD4fwAAAAAAAPh/AAAAAAAA+H8AAAAAAAD4fwAAAAAAAPh/AAAAAAAA+H8AAAAAAAD4fwAAAAAAAPh/AAAAAAAA+H8AAAAAAAD4fwAAAAAAAPh/AAAAAAAA+H8AAAAAAAD4fwAAAAAAAPh/AAAAAAAA+H8AAOaCbGymvwAAqE+EZo4/ANAt3/VJuD8AwHCBfTSkPwAg1M15mKw/AJiuXoEKwb8AwBfIQZXAPwAQznP9Drg/AMCC8ajkp78AIBiFJ/25vwBwkop0VsC/ALTgqKp22L8AQJQ+Ru3JvwBwBBDN0Nq/AAAAAAAA+H8AAAAAAAD4fwAAAAAAAPh/AAAAAAAA+H8AAAAAAAD4fwAAAAAAAPh/AAAAAAAA+H8AAAAAAAD4fwAAAAAAAPh/AAAAAAAA+H8AAAAAAAD4fwAAAAAAAPh/AAAAAAAA+H8AAAAAAAD4fwDA5OEQHJC/ALCFFg6ryj8AqNWHO+vGPwAAx2gwy7M/AMBnQ1c/qL8ASDpqD0nJvwC4Q5RTScq/ANA0wFaWt78AgBRfohKkPwCwkLTDF7i/AGC1POETpj8AAK1bkcSSvwCAbKWO/pM/AAALxvlItT8AgBk6q/bDPwAQanrx/8g/AGioD2D0xT8AwKt51KOQvwCghpZNNqa/ABBxQ2HpuL8AAAAAAAD4fwAAAAAAAPh/AAAAAAAA+H8AAAAAAAD4fwAAAAAAAPh/AAAAAAAA+H8AAAAAAAD4fwAAAAAAAPh/AAAAAAAA+H8AAAAAAAD4fwAAAAAAAPh/AAAAAAAA+H8AAAAAAAD4fwAAAAAAAPh/AAAAAAAA+H8AAAAAAAD4fwAAAAAAAPh/AAAAAAAA+H8AAAAAAAD4fwAAAAAAAPh/AAAAAAAA+H8AAAAAAAD4fwAAAAAAAPh/AAAAAAAA+H8AAAAAAAD4fwAAAAAAAPh/AAAAAAAA+H8AAAAAAAD4fwAAAAAAAPh/AAAAAAAA+H8AAAAAAAD4fwAAAAAAAPh/AAAAAAAA+H8=",
          "dtype": "f8"
         },
         "yaxis": "y2"
        }
       ],
       "layout": {
        "annotations": [
         {
          "font": {
           "size": 16
          },
          "showarrow": false,
          "text": "Process Temperature With and Without Gaps",
          "x": 0.5,
          "xanchor": "center",
          "xref": "paper",
          "y": 1,
          "yanchor": "bottom",
          "yref": "paper"
         },
         {
          "font": {
           "size": 16
          },
          "showarrow": false,
          "text": "Original - Imputed Difference",
          "x": 0.5,
          "xanchor": "center",
          "xref": "paper",
          "y": 0.45,
          "yanchor": "bottom",
          "yref": "paper"
         }
        ],
        "height": 700,
        "template": {
         "data": {
          "bar": [
           {
            "error_x": {
             "color": "#2a3f5f"
            },
            "error_y": {
             "color": "#2a3f5f"
            },
            "marker": {
             "line": {
              "color": "#E5ECF6",
              "width": 0.5
             },
             "pattern": {
              "fillmode": "overlay",
              "size": 10,
              "solidity": 0.2
             }
            },
            "type": "bar"
           }
          ],
          "barpolar": [
           {
            "marker": {
             "line": {
              "color": "#E5ECF6",
              "width": 0.5
             },
             "pattern": {
              "fillmode": "overlay",
              "size": 10,
              "solidity": 0.2
             }
            },
            "type": "barpolar"
           }
          ],
          "carpet": [
           {
            "aaxis": {
             "endlinecolor": "#2a3f5f",
             "gridcolor": "white",
             "linecolor": "white",
             "minorgridcolor": "white",
             "startlinecolor": "#2a3f5f"
            },
            "baxis": {
             "endlinecolor": "#2a3f5f",
             "gridcolor": "white",
             "linecolor": "white",
             "minorgridcolor": "white",
             "startlinecolor": "#2a3f5f"
            },
            "type": "carpet"
           }
          ],
          "choropleth": [
           {
            "colorbar": {
             "outlinewidth": 0,
             "ticks": ""
            },
            "type": "choropleth"
           }
          ],
          "contour": [
           {
            "colorbar": {
             "outlinewidth": 0,
             "ticks": ""
            },
            "colorscale": [
             [
              0,
              "#0d0887"
             ],
             [
              0.1111111111111111,
              "#46039f"
             ],
             [
              0.2222222222222222,
              "#7201a8"
             ],
             [
              0.3333333333333333,
              "#9c179e"
             ],
             [
              0.4444444444444444,
              "#bd3786"
             ],
             [
              0.5555555555555556,
              "#d8576b"
             ],
             [
              0.6666666666666666,
              "#ed7953"
             ],
             [
              0.7777777777777778,
              "#fb9f3a"
             ],
             [
              0.8888888888888888,
              "#fdca26"
             ],
             [
              1,
              "#f0f921"
             ]
            ],
            "type": "contour"
           }
          ],
          "contourcarpet": [
           {
            "colorbar": {
             "outlinewidth": 0,
             "ticks": ""
            },
            "type": "contourcarpet"
           }
          ],
          "heatmap": [
           {
            "colorbar": {
             "outlinewidth": 0,
             "ticks": ""
            },
            "colorscale": [
             [
              0,
              "#0d0887"
             ],
             [
              0.1111111111111111,
              "#46039f"
             ],
             [
              0.2222222222222222,
              "#7201a8"
             ],
             [
              0.3333333333333333,
              "#9c179e"
             ],
             [
              0.4444444444444444,
              "#bd3786"
             ],
             [
              0.5555555555555556,
              "#d8576b"
             ],
             [
              0.6666666666666666,
              "#ed7953"
             ],
             [
              0.7777777777777778,
              "#fb9f3a"
             ],
             [
              0.8888888888888888,
              "#fdca26"
             ],
             [
              1,
              "#f0f921"
             ]
            ],
            "type": "heatmap"
           }
          ],
          "histogram": [
           {
            "marker": {
             "pattern": {
              "fillmode": "overlay",
              "size": 10,
              "solidity": 0.2
             }
            },
            "type": "histogram"
           }
          ],
          "histogram2d": [
           {
            "colorbar": {
             "outlinewidth": 0,
             "ticks": ""
            },
            "colorscale": [
             [
              0,
              "#0d0887"
             ],
             [
              0.1111111111111111,
              "#46039f"
             ],
             [
              0.2222222222222222,
              "#7201a8"
             ],
             [
              0.3333333333333333,
              "#9c179e"
             ],
             [
              0.4444444444444444,
              "#bd3786"
             ],
             [
              0.5555555555555556,
              "#d8576b"
             ],
             [
              0.6666666666666666,
              "#ed7953"
             ],
             [
              0.7777777777777778,
              "#fb9f3a"
             ],
             [
              0.8888888888888888,
              "#fdca26"
             ],
             [
              1,
              "#f0f921"
             ]
            ],
            "type": "histogram2d"
           }
          ],
          "histogram2dcontour": [
           {
            "colorbar": {
             "outlinewidth": 0,
             "ticks": ""
            },
            "colorscale": [
             [
              0,
              "#0d0887"
             ],
             [
              0.1111111111111111,
              "#46039f"
             ],
             [
              0.2222222222222222,
              "#7201a8"
             ],
             [
              0.3333333333333333,
              "#9c179e"
             ],
             [
              0.4444444444444444,
              "#bd3786"
             ],
             [
              0.5555555555555556,
              "#d8576b"
             ],
             [
              0.6666666666666666,
              "#ed7953"
             ],
             [
              0.7777777777777778,
              "#fb9f3a"
             ],
             [
              0.8888888888888888,
              "#fdca26"
             ],
             [
              1,
              "#f0f921"
             ]
            ],
            "type": "histogram2dcontour"
           }
          ],
          "mesh3d": [
           {
            "colorbar": {
             "outlinewidth": 0,
             "ticks": ""
            },
            "type": "mesh3d"
           }
          ],
          "parcoords": [
           {
            "line": {
             "colorbar": {
              "outlinewidth": 0,
              "ticks": ""
             }
            },
            "type": "parcoords"
           }
          ],
          "pie": [
           {
            "automargin": true,
            "type": "pie"
           }
          ],
          "scatter": [
           {
            "fillpattern": {
             "fillmode": "overlay",
             "size": 10,
             "solidity": 0.2
            },
            "type": "scatter"
           }
          ],
          "scatter3d": [
           {
            "line": {
             "colorbar": {
              "outlinewidth": 0,
              "ticks": ""
             }
            },
            "marker": {
             "colorbar": {
              "outlinewidth": 0,
              "ticks": ""
             }
            },
            "type": "scatter3d"
           }
          ],
          "scattercarpet": [
           {
            "marker": {
             "colorbar": {
              "outlinewidth": 0,
              "ticks": ""
             }
            },
            "type": "scattercarpet"
           }
          ],
          "scattergeo": [
           {
            "marker": {
             "colorbar": {
              "outlinewidth": 0,
              "ticks": ""
             }
            },
            "type": "scattergeo"
           }
          ],
          "scattergl": [
           {
            "marker": {
             "colorbar": {
              "outlinewidth": 0,
              "ticks": ""
             }
            },
            "type": "scattergl"
           }
          ],
          "scattermap": [
           {
            "marker": {
             "colorbar": {
              "outlinewidth": 0,
              "ticks": ""
             }
            },
            "type": "scattermap"
           }
          ],
          "scattermapbox": [
           {
            "marker": {
             "colorbar": {
              "outlinewidth": 0,
              "ticks": ""
             }
            },
            "type": "scattermapbox"
           }
          ],
          "scatterpolar": [
           {
            "marker": {
             "colorbar": {
              "outlinewidth": 0,
              "ticks": ""
             }
            },
            "type": "scatterpolar"
           }
          ],
          "scatterpolargl": [
           {
            "marker": {
             "colorbar": {
              "outlinewidth": 0,
              "ticks": ""
             }
            },
            "type": "scatterpolargl"
           }
          ],
          "scatterternary": [
           {
            "marker": {
             "colorbar": {
              "outlinewidth": 0,
              "ticks": ""
             }
            },
            "type": "scatterternary"
           }
          ],
          "surface": [
           {
            "colorbar": {
             "outlinewidth": 0,
             "ticks": ""
            },
            "colorscale": [
             [
              0,
              "#0d0887"
             ],
             [
              0.1111111111111111,
              "#46039f"
             ],
             [
              0.2222222222222222,
              "#7201a8"
             ],
             [
              0.3333333333333333,
              "#9c179e"
             ],
             [
              0.4444444444444444,
              "#bd3786"
             ],
             [
              0.5555555555555556,
              "#d8576b"
             ],
             [
              0.6666666666666666,
              "#ed7953"
             ],
             [
              0.7777777777777778,
              "#fb9f3a"
             ],
             [
              0.8888888888888888,
              "#fdca26"
             ],
             [
              1,
              "#f0f921"
             ]
            ],
            "type": "surface"
           }
          ],
          "table": [
           {
            "cells": {
             "fill": {
              "color": "#EBF0F8"
             },
             "line": {
              "color": "white"
             }
            },
            "header": {
             "fill": {
              "color": "#C8D4E3"
             },
             "line": {
              "color": "white"
             }
            },
            "type": "table"
           }
          ]
         },
         "layout": {
          "annotationdefaults": {
           "arrowcolor": "#2a3f5f",
           "arrowhead": 0,
           "arrowwidth": 1
          },
          "autotypenumbers": "strict",
          "coloraxis": {
           "colorbar": {
            "outlinewidth": 0,
            "ticks": ""
           }
          },
          "colorscale": {
           "diverging": [
            [
             0,
             "#8e0152"
            ],
            [
             0.1,
             "#c51b7d"
            ],
            [
             0.2,
             "#de77ae"
            ],
            [
             0.3,
             "#f1b6da"
            ],
            [
             0.4,
             "#fde0ef"
            ],
            [
             0.5,
             "#f7f7f7"
            ],
            [
             0.6,
             "#e6f5d0"
            ],
            [
             0.7,
             "#b8e186"
            ],
            [
             0.8,
             "#7fbc41"
            ],
            [
             0.9,
             "#4d9221"
            ],
            [
             1,
             "#276419"
            ]
           ],
           "sequential": [
            [
             0,
             "#0d0887"
            ],
            [
             0.1111111111111111,
             "#46039f"
            ],
            [
             0.2222222222222222,
             "#7201a8"
            ],
            [
             0.3333333333333333,
             "#9c179e"
            ],
            [
             0.4444444444444444,
             "#bd3786"
            ],
            [
             0.5555555555555556,
             "#d8576b"
            ],
            [
             0.6666666666666666,
             "#ed7953"
            ],
            [
             0.7777777777777778,
             "#fb9f3a"
            ],
            [
             0.8888888888888888,
             "#fdca26"
            ],
            [
             1,
             "#f0f921"
            ]
           ],
           "sequentialminus": [
            [
             0,
             "#0d0887"
            ],
            [
             0.1111111111111111,
             "#46039f"
            ],
            [
             0.2222222222222222,
             "#7201a8"
            ],
            [
             0.3333333333333333,
             "#9c179e"
            ],
            [
             0.4444444444444444,
             "#bd3786"
            ],
            [
             0.5555555555555556,
             "#d8576b"
            ],
            [
             0.6666666666666666,
             "#ed7953"
            ],
            [
             0.7777777777777778,
             "#fb9f3a"
            ],
            [
             0.8888888888888888,
             "#fdca26"
            ],
            [
             1,
             "#f0f921"
            ]
           ]
          },
          "colorway": [
           "#636efa",
           "#EF553B",
           "#00cc96",
           "#ab63fa",
           "#FFA15A",
           "#19d3f3",
           "#FF6692",
           "#B6E880",
           "#FF97FF",
           "#FECB52"
          ],
          "font": {
           "color": "#2a3f5f"
          },
          "geo": {
           "bgcolor": "white",
           "lakecolor": "white",
           "landcolor": "#E5ECF6",
           "showlakes": true,
           "showland": true,
           "subunitcolor": "white"
          },
          "hoverlabel": {
           "align": "left"
          },
          "hovermode": "closest",
          "mapbox": {
           "style": "light"
          },
          "paper_bgcolor": "white",
          "plot_bgcolor": "#E5ECF6",
          "polar": {
           "angularaxis": {
            "gridcolor": "white",
            "linecolor": "white",
            "ticks": ""
           },
           "bgcolor": "#E5ECF6",
           "radialaxis": {
            "gridcolor": "white",
            "linecolor": "white",
            "ticks": ""
           }
          },
          "scene": {
           "xaxis": {
            "backgroundcolor": "#E5ECF6",
            "gridcolor": "white",
            "gridwidth": 2,
            "linecolor": "white",
            "showbackground": true,
            "ticks": "",
            "zerolinecolor": "white"
           },
           "yaxis": {
            "backgroundcolor": "#E5ECF6",
            "gridcolor": "white",
            "gridwidth": 2,
            "linecolor": "white",
            "showbackground": true,
            "ticks": "",
            "zerolinecolor": "white"
           },
           "zaxis": {
            "backgroundcolor": "#E5ECF6",
            "gridcolor": "white",
            "gridwidth": 2,
            "linecolor": "white",
            "showbackground": true,
            "ticks": "",
            "zerolinecolor": "white"
           }
          },
          "shapedefaults": {
           "line": {
            "color": "#2a3f5f"
           }
          },
          "ternary": {
           "aaxis": {
            "gridcolor": "white",
            "linecolor": "white",
            "ticks": ""
           },
           "baxis": {
            "gridcolor": "white",
            "linecolor": "white",
            "ticks": ""
           },
           "bgcolor": "#E5ECF6",
           "caxis": {
            "gridcolor": "white",
            "linecolor": "white",
            "ticks": ""
           }
          },
          "title": {
           "x": 0.05
          },
          "xaxis": {
           "automargin": true,
           "gridcolor": "white",
           "linecolor": "white",
           "ticks": "",
           "title": {
            "standoff": 15
           },
           "zerolinecolor": "white",
           "zerolinewidth": 2
          },
          "yaxis": {
           "automargin": true,
           "gridcolor": "white",
           "linecolor": "white",
           "ticks": "",
           "title": {
            "standoff": 15
           },
           "zerolinecolor": "white",
           "zerolinewidth": 2
          }
         }
        },
        "title": {
         "text": "Process Temperature With and Without Gaps and Imputation Difference"
        },
        "xaxis": {
         "anchor": "y",
         "domain": [
          0,
          1
         ],
         "matches": "x2",
         "showticklabels": false,
         "title": {
          "text": "UDI"
         }
        },
        "xaxis2": {
         "anchor": "y2",
         "domain": [
          0,
          1
         ]
        },
        "yaxis": {
         "anchor": "x",
         "domain": [
          0.55,
          1
         ],
         "title": {
          "text": "Process Temperature [K]"
         }
        },
        "yaxis2": {
         "anchor": "x2",
         "domain": [
          0,
          0.45
         ],
         "title": {
          "text": "Difference"
         }
        }
       }
      }
     },
     "metadata": {},
     "output_type": "display_data"
    }
   ],
   "source": [
    "dftemp.loc[:, \"temp_linear\"] = dftemp[\"process_temperature_K_gaps\"].interpolate(\"linear\")\n",
    "\n",
    "plot_temperature_data(dftemp, int_column=\"temp_linear\")"
   ]
  },
  {
   "cell_type": "markdown",
   "id": "0042c11d",
   "metadata": {},
   "source": [
    "## Polynomial interpolation\n",
    "\n",
    "Polynomial interpolation is a method used to estimate missing values in a time series by fitting a polynomial function of a given order to the known data points and using that function to fill in the gaps.\n",
    "\n",
    "Advantages:\n",
    "- Can provide more accurate estimates than linear interpolation, especially for non-linear trends.\n",
    "\n",
    "Disadvantages:\n",
    "- More computationally expensive than other methods.\n",
    "- Tends to overshoot or oscillate between known data points, leading to unrealistic estimates.\n",
    "- May not perform well for short gaps or sparse data.\n"
   ]
  },
  {
   "cell_type": "code",
   "execution_count": 9,
   "id": "90991870",
   "metadata": {},
   "outputs": [
    {
     "data": {
      "application/vnd.plotly.v1+json": {
       "config": {
        "plotlyServerURL": "https://plot.ly"
       },
       "data": [
        {
         "line": {
          "color": "lightgrey"
         },
         "mode": "lines",
         "name": "Original",
         "type": "scatter",
         "x": {
          "bdata": "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",
          "dtype": "i2"
         },
         "xaxis": "x",
         "y": {
          "bdata": "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",
          "dtype": "f8"
         },
         "yaxis": "y"
        },
        {
         "mode": "lines",
         "name": "With Gaps",
         "type": "scatter",
         "x": {
          "bdata": "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",
          "dtype": "i2"
         },
         "xaxis": "x",
         "y": {
          "bdata": "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",
          "dtype": "f8"
         },
         "yaxis": "y"
        },
        {
         "line": {
          "color": "blue"
         },
         "mode": "lines",
         "name": "Imputed",
         "type": "scatter",
         "x": {
          "bdata": "AQACAAMABAAFAAYABwAIAAkACgALAAwADQAOAA8AEAARABIAEwAUABUAFgAXABgAGQAaABsAHAAdAB4AHwAgACEAIgAjACQAJQAmACcAKAApACoAKwAsAC0ALgAvADAAMQAyADMANAA1ADYANwA4ADkAOgA7ADwAPQA+AD8AQABBAEIAQwBEAEUARgBHAEgASQBKAEsATABNAE4ATwBQAFEAUgBTAFQAVQBWAFcAWABZAFoAWwBcAF0AXgBfAGAAYQBiAGMAZABlAGYAZwBoAGkAagBrAGwAbQBuAG8AcABxAHIAcwB0AHUAdgB3AHgAeQB6AHsAfAB9AH4AfwCAAIEAggCDAIQAhQCGAIcAiACJAIoAiwCMAI0AjgCPAJAAkQCSAJMAlACVAJYAlwCYAJkAmgCbAJwAnQCeAJ8AoAChAKIAowCkAKUApgCnAKgAqQCqAKsArACtAK4ArwCwALEAsgCzALQAtQC2ALcAuAC5ALoAuwC8AL0AvgC/AMAAwQDCAMMAxADFAMYAxwDIAMkAygDLAMwAzQDOAM8A0ADRANIA0wDUANUA1gDXANgA2QDaANsA3ADdAN4A3wDgAOEA4gDjAOQA5QDmAOcA6ADpAOoA6wDsAO0A7gDvAPAA8QDyAPMA9AD1APYA9wD4APkA+gD7APwA/QD+AP8AAAEBAQIBAwEEAQUBBgEHAQgBCQEKAQsBDAENAQ4BDwEQAREBEgETARQBFQEWARcBGAEZARoBGwEcAR0BHgEfASABIQEiASMBJAElASYBJwEoASkBKgErASwBLQEuAS8BMAExATIBMwE0ATUBNgE3ATgBOQE6ATsBPAE9AT4BPwFAAUEBQgFDAUQBRQFGAUcBSAFJAUoBSwFMAU0BTgFPAVABUQFSAVMBVAFVAVYBVwFYAVkBWgFbAVwBXQFeAV8BYAFhAWIBYwFkAWUBZgFnAWgBaQFqAWsBbAFtAW4BbwFwAXEBcgFzAXQBdQF2AXcBeAF5AXoBewF8AX0BfgF/AYABgQGCAYMBhAGFAYYBhwGIAYkBigGLAYwBjQGOAY8BkAGRAZIBkwGUAZUBlgGXAZgBmQGaAZsBnAGdAZ4BnwGgAaEBogGjAaQBpQGmAacBqAGpAaoBqwGsAa0BrgGvAbABsQGyAbMBtAG1AbYBtwG4AbkBugG7AbwBvQG+Ab8BwAHBAcIBwwHEAcUBxgHHAcgByQHKAcsBzAHNAc4BzwHQAdEB0gHTAdQB1QHWAdcB2AHZAdoB2wHcAd0B3gHfAeAB4QHiAeMB5AHlAeYB5wHoAekB6gHrAewB7QHuAe8B8AHxAfIB8wH0AfUB9gH3AfgB+QH6AfsB/AH9Af4B/wEAAgECAgIDAgQCBQIGAgcCCAIJAgoCCwIMAg0CDgIPAhACEQISAhMCFAIVAhYCFwIYAhkCGgIbAhwCHQIeAh8CIAIhAiICIwIkAiUCJgInAigCKQIqAisCLAItAi4CLwIwAjECMgIzAjQCNQI2AjcCOAI5AjoCOwI8Aj0CPgI/AkACQQJCAkMCRAJFAkYCRwJIAkkCSgJLAkwCTQJOAk8CUAJRAlICUwJUAlUCVgJXAlgCWQJaAlsCXAJdAl4CXwJgAmECYgJjAmQCZQJmAmcCaAJpAmoCawJsAm0CbgJvAnACcQJyAnMCdAJ1AnYCdwJ4AnkCegJ7AnwCfQJ+An8CgAKBAoICgwKEAoUChgKHAogCiQKKAosCjAKNAo4CjwKQApECkgKTApQClQKWApcCmAKZApoCmwKcAp0CngKfAqACoQKiAqMCpAKlAqYCpwKoAqkCqgKrAqwCrQKuAq8CsAKxArICswK0ArUCtgK3ArgCuQK6ArsCvAK9Ar4CvwLAAsECwgLDAsQCxQLGAscCyALJAsoCywLMAs0CzgLPAtAC0QLSAtMC1ALVAtYC1wLYAtkC2gLbAtwC3QLeAt8C4ALhAuIC4wLkAuUC5gLnAugC6QLqAusC7ALtAu4C7wLwAvEC8gLzAvQC9QL2AvcC+AL5AvoC+wL8Av0C/gL/AgADAQMCAwMDBAMFAwYDBwMIAwkDCgMLAwwDDQMOAw8DEAMRAxIDEwMUAxUDFgMXAxgDGQMaAxsDHAMdAx4DHwMgAyEDIgMjAyQDJQMmAycDKAMpAyoDKwMsAy0DLgMvAzADMQMyAzMDNAM1AzYDNwM4AzkDOgM7AzwDPQM+Az8DQANBA0IDQwNEA0UDRgNHA0gDSQNKA0sDTANNA04DTwNQA1EDUgNTA1QDVQNWA1cDWANZA1oDWwNcA10DXgNfA2ADYQNiA2MDZANlA2YDZwNoA2kDagNrA2wDbQNuA28DcANxA3IDcwN0A3UDdgN3A3gDeQN6A3sDfAN9A34DfwOAA4EDggODA4QDhQOGA4cDiAOJA4oDiwOMA40DjgOPA5ADkQOSA5MDlAOVA5YDlwOYA5kDmgObA5wDnQOeA58DoAOhA6IDowOkA6UDpgOnA6gDqQOqA6sDrAOtA64DrwOwA7EDsgOzA7QDtQO2A7cDuAO5A7oDuwO8A70DvgO/A8ADwQPCA8MDxAPFA8YDxwPIA8kDygPLA8wDzQPOA88D0APRA9ID0wPUA9UD1gPXA9gD2QPaA9sD3APdA94D3wPgA+ED4gPjA+QD5QPmA+cD6AM=",
          "dtype": "i2"
         },
         "xaxis": "x",
         "y": {
          "bdata": "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",
          "dtype": "f8"
         },
         "yaxis": "y"
        },
        {
         "line": {
          "color": "green"
         },
         "mode": "lines",
         "name": "Original - Imputed",
         "type": "scatter",
         "x": {
          "bdata": "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",
          "dtype": "i2"
         },
         "xaxis": "x2",
         "y": {
          "bdata": "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",
          "dtype": "f8"
         },
         "yaxis": "y2"
        }
       ],
       "layout": {
        "annotations": [
         {
          "font": {
           "size": 16
          },
          "showarrow": false,
          "text": "Process Temperature With and Without Gaps",
          "x": 0.5,
          "xanchor": "center",
          "xref": "paper",
          "y": 1,
          "yanchor": "bottom",
          "yref": "paper"
         },
         {
          "font": {
           "size": 16
          },
          "showarrow": false,
          "text": "Original - Imputed Difference",
          "x": 0.5,
          "xanchor": "center",
          "xref": "paper",
          "y": 0.45,
          "yanchor": "bottom",
          "yref": "paper"
         }
        ],
        "height": 700,
        "template": {
         "data": {
          "bar": [
           {
            "error_x": {
             "color": "#2a3f5f"
            },
            "error_y": {
             "color": "#2a3f5f"
            },
            "marker": {
             "line": {
              "color": "#E5ECF6",
              "width": 0.5
             },
             "pattern": {
              "fillmode": "overlay",
              "size": 10,
              "solidity": 0.2
             }
            },
            "type": "bar"
           }
          ],
          "barpolar": [
           {
            "marker": {
             "line": {
              "color": "#E5ECF6",
              "width": 0.5
             },
             "pattern": {
              "fillmode": "overlay",
              "size": 10,
              "solidity": 0.2
             }
            },
            "type": "barpolar"
           }
          ],
          "carpet": [
           {
            "aaxis": {
             "endlinecolor": "#2a3f5f",
             "gridcolor": "white",
             "linecolor": "white",
             "minorgridcolor": "white",
             "startlinecolor": "#2a3f5f"
            },
            "baxis": {
             "endlinecolor": "#2a3f5f",
             "gridcolor": "white",
             "linecolor": "white",
             "minorgridcolor": "white",
             "startlinecolor": "#2a3f5f"
            },
            "type": "carpet"
           }
          ],
          "choropleth": [
           {
            "colorbar": {
             "outlinewidth": 0,
             "ticks": ""
            },
            "type": "choropleth"
           }
          ],
          "contour": [
           {
            "colorbar": {
             "outlinewidth": 0,
             "ticks": ""
            },
            "colorscale": [
             [
              0,
              "#0d0887"
             ],
             [
              0.1111111111111111,
              "#46039f"
             ],
             [
              0.2222222222222222,
              "#7201a8"
             ],
             [
              0.3333333333333333,
              "#9c179e"
             ],
             [
              0.4444444444444444,
              "#bd3786"
             ],
             [
              0.5555555555555556,
              "#d8576b"
             ],
             [
              0.6666666666666666,
              "#ed7953"
             ],
             [
              0.7777777777777778,
              "#fb9f3a"
             ],
             [
              0.8888888888888888,
              "#fdca26"
             ],
             [
              1,
              "#f0f921"
             ]
            ],
            "type": "contour"
           }
          ],
          "contourcarpet": [
           {
            "colorbar": {
             "outlinewidth": 0,
             "ticks": ""
            },
            "type": "contourcarpet"
           }
          ],
          "heatmap": [
           {
            "colorbar": {
             "outlinewidth": 0,
             "ticks": ""
            },
            "colorscale": [
             [
              0,
              "#0d0887"
             ],
             [
              0.1111111111111111,
              "#46039f"
             ],
             [
              0.2222222222222222,
              "#7201a8"
             ],
             [
              0.3333333333333333,
              "#9c179e"
             ],
             [
              0.4444444444444444,
              "#bd3786"
             ],
             [
              0.5555555555555556,
              "#d8576b"
             ],
             [
              0.6666666666666666,
              "#ed7953"
             ],
             [
              0.7777777777777778,
              "#fb9f3a"
             ],
             [
              0.8888888888888888,
              "#fdca26"
             ],
             [
              1,
              "#f0f921"
             ]
            ],
            "type": "heatmap"
           }
          ],
          "histogram": [
           {
            "marker": {
             "pattern": {
              "fillmode": "overlay",
              "size": 10,
              "solidity": 0.2
             }
            },
            "type": "histogram"
           }
          ],
          "histogram2d": [
           {
            "colorbar": {
             "outlinewidth": 0,
             "ticks": ""
            },
            "colorscale": [
             [
              0,
              "#0d0887"
             ],
             [
              0.1111111111111111,
              "#46039f"
             ],
             [
              0.2222222222222222,
              "#7201a8"
             ],
             [
              0.3333333333333333,
              "#9c179e"
             ],
             [
              0.4444444444444444,
              "#bd3786"
             ],
             [
              0.5555555555555556,
              "#d8576b"
             ],
             [
              0.6666666666666666,
              "#ed7953"
             ],
             [
              0.7777777777777778,
              "#fb9f3a"
             ],
             [
              0.8888888888888888,
              "#fdca26"
             ],
             [
              1,
              "#f0f921"
             ]
            ],
            "type": "histogram2d"
           }
          ],
          "histogram2dcontour": [
           {
            "colorbar": {
             "outlinewidth": 0,
             "ticks": ""
            },
            "colorscale": [
             [
              0,
              "#0d0887"
             ],
             [
              0.1111111111111111,
              "#46039f"
             ],
             [
              0.2222222222222222,
              "#7201a8"
             ],
             [
              0.3333333333333333,
              "#9c179e"
             ],
             [
              0.4444444444444444,
              "#bd3786"
             ],
             [
              0.5555555555555556,
              "#d8576b"
             ],
             [
              0.6666666666666666,
              "#ed7953"
             ],
             [
              0.7777777777777778,
              "#fb9f3a"
             ],
             [
              0.8888888888888888,
              "#fdca26"
             ],
             [
              1,
              "#f0f921"
             ]
            ],
            "type": "histogram2dcontour"
           }
          ],
          "mesh3d": [
           {
            "colorbar": {
             "outlinewidth": 0,
             "ticks": ""
            },
            "type": "mesh3d"
           }
          ],
          "parcoords": [
           {
            "line": {
             "colorbar": {
              "outlinewidth": 0,
              "ticks": ""
             }
            },
            "type": "parcoords"
           }
          ],
          "pie": [
           {
            "automargin": true,
            "type": "pie"
           }
          ],
          "scatter": [
           {
            "fillpattern": {
             "fillmode": "overlay",
             "size": 10,
             "solidity": 0.2
            },
            "type": "scatter"
           }
          ],
          "scatter3d": [
           {
            "line": {
             "colorbar": {
              "outlinewidth": 0,
              "ticks": ""
             }
            },
            "marker": {
             "colorbar": {
              "outlinewidth": 0,
              "ticks": ""
             }
            },
            "type": "scatter3d"
           }
          ],
          "scattercarpet": [
           {
            "marker": {
             "colorbar": {
              "outlinewidth": 0,
              "ticks": ""
             }
            },
            "type": "scattercarpet"
           }
          ],
          "scattergeo": [
           {
            "marker": {
             "colorbar": {
              "outlinewidth": 0,
              "ticks": ""
             }
            },
            "type": "scattergeo"
           }
          ],
          "scattergl": [
           {
            "marker": {
             "colorbar": {
              "outlinewidth": 0,
              "ticks": ""
             }
            },
            "type": "scattergl"
           }
          ],
          "scattermap": [
           {
            "marker": {
             "colorbar": {
              "outlinewidth": 0,
              "ticks": ""
             }
            },
            "type": "scattermap"
           }
          ],
          "scattermapbox": [
           {
            "marker": {
             "colorbar": {
              "outlinewidth": 0,
              "ticks": ""
             }
            },
            "type": "scattermapbox"
           }
          ],
          "scatterpolar": [
           {
            "marker": {
             "colorbar": {
              "outlinewidth": 0,
              "ticks": ""
             }
            },
            "type": "scatterpolar"
           }
          ],
          "scatterpolargl": [
           {
            "marker": {
             "colorbar": {
              "outlinewidth": 0,
              "ticks": ""
             }
            },
            "type": "scatterpolargl"
           }
          ],
          "scatterternary": [
           {
            "marker": {
             "colorbar": {
              "outlinewidth": 0,
              "ticks": ""
             }
            },
            "type": "scatterternary"
           }
          ],
          "surface": [
           {
            "colorbar": {
             "outlinewidth": 0,
             "ticks": ""
            },
            "colorscale": [
             [
              0,
              "#0d0887"
             ],
             [
              0.1111111111111111,
              "#46039f"
             ],
             [
              0.2222222222222222,
              "#7201a8"
             ],
             [
              0.3333333333333333,
              "#9c179e"
             ],
             [
              0.4444444444444444,
              "#bd3786"
             ],
             [
              0.5555555555555556,
              "#d8576b"
             ],
             [
              0.6666666666666666,
              "#ed7953"
             ],
             [
              0.7777777777777778,
              "#fb9f3a"
             ],
             [
              0.8888888888888888,
              "#fdca26"
             ],
             [
              1,
              "#f0f921"
             ]
            ],
            "type": "surface"
           }
          ],
          "table": [
           {
            "cells": {
             "fill": {
              "color": "#EBF0F8"
             },
             "line": {
              "color": "white"
             }
            },
            "header": {
             "fill": {
              "color": "#C8D4E3"
             },
             "line": {
              "color": "white"
             }
            },
            "type": "table"
           }
          ]
         },
         "layout": {
          "annotationdefaults": {
           "arrowcolor": "#2a3f5f",
           "arrowhead": 0,
           "arrowwidth": 1
          },
          "autotypenumbers": "strict",
          "coloraxis": {
           "colorbar": {
            "outlinewidth": 0,
            "ticks": ""
           }
          },
          "colorscale": {
           "diverging": [
            [
             0,
             "#8e0152"
            ],
            [
             0.1,
             "#c51b7d"
            ],
            [
             0.2,
             "#de77ae"
            ],
            [
             0.3,
             "#f1b6da"
            ],
            [
             0.4,
             "#fde0ef"
            ],
            [
             0.5,
             "#f7f7f7"
            ],
            [
             0.6,
             "#e6f5d0"
            ],
            [
             0.7,
             "#b8e186"
            ],
            [
             0.8,
             "#7fbc41"
            ],
            [
             0.9,
             "#4d9221"
            ],
            [
             1,
             "#276419"
            ]
           ],
           "sequential": [
            [
             0,
             "#0d0887"
            ],
            [
             0.1111111111111111,
             "#46039f"
            ],
            [
             0.2222222222222222,
             "#7201a8"
            ],
            [
             0.3333333333333333,
             "#9c179e"
            ],
            [
             0.4444444444444444,
             "#bd3786"
            ],
            [
             0.5555555555555556,
             "#d8576b"
            ],
            [
             0.6666666666666666,
             "#ed7953"
            ],
            [
             0.7777777777777778,
             "#fb9f3a"
            ],
            [
             0.8888888888888888,
             "#fdca26"
            ],
            [
             1,
             "#f0f921"
            ]
           ],
           "sequentialminus": [
            [
             0,
             "#0d0887"
            ],
            [
             0.1111111111111111,
             "#46039f"
            ],
            [
             0.2222222222222222,
             "#7201a8"
            ],
            [
             0.3333333333333333,
             "#9c179e"
            ],
            [
             0.4444444444444444,
             "#bd3786"
            ],
            [
             0.5555555555555556,
             "#d8576b"
            ],
            [
             0.6666666666666666,
             "#ed7953"
            ],
            [
             0.7777777777777778,
             "#fb9f3a"
            ],
            [
             0.8888888888888888,
             "#fdca26"
            ],
            [
             1,
             "#f0f921"
            ]
           ]
          },
          "colorway": [
           "#636efa",
           "#EF553B",
           "#00cc96",
           "#ab63fa",
           "#FFA15A",
           "#19d3f3",
           "#FF6692",
           "#B6E880",
           "#FF97FF",
           "#FECB52"
          ],
          "font": {
           "color": "#2a3f5f"
          },
          "geo": {
           "bgcolor": "white",
           "lakecolor": "white",
           "landcolor": "#E5ECF6",
           "showlakes": true,
           "showland": true,
           "subunitcolor": "white"
          },
          "hoverlabel": {
           "align": "left"
          },
          "hovermode": "closest",
          "mapbox": {
           "style": "light"
          },
          "paper_bgcolor": "white",
          "plot_bgcolor": "#E5ECF6",
          "polar": {
           "angularaxis": {
            "gridcolor": "white",
            "linecolor": "white",
            "ticks": ""
           },
           "bgcolor": "#E5ECF6",
           "radialaxis": {
            "gridcolor": "white",
            "linecolor": "white",
            "ticks": ""
           }
          },
          "scene": {
           "xaxis": {
            "backgroundcolor": "#E5ECF6",
            "gridcolor": "white",
            "gridwidth": 2,
            "linecolor": "white",
            "showbackground": true,
            "ticks": "",
            "zerolinecolor": "white"
           },
           "yaxis": {
            "backgroundcolor": "#E5ECF6",
            "gridcolor": "white",
            "gridwidth": 2,
            "linecolor": "white",
            "showbackground": true,
            "ticks": "",
            "zerolinecolor": "white"
           },
           "zaxis": {
            "backgroundcolor": "#E5ECF6",
            "gridcolor": "white",
            "gridwidth": 2,
            "linecolor": "white",
            "showbackground": true,
            "ticks": "",
            "zerolinecolor": "white"
           }
          },
          "shapedefaults": {
           "line": {
            "color": "#2a3f5f"
           }
          },
          "ternary": {
           "aaxis": {
            "gridcolor": "white",
            "linecolor": "white",
            "ticks": ""
           },
           "baxis": {
            "gridcolor": "white",
            "linecolor": "white",
            "ticks": ""
           },
           "bgcolor": "#E5ECF6",
           "caxis": {
            "gridcolor": "white",
            "linecolor": "white",
            "ticks": ""
           }
          },
          "title": {
           "x": 0.05
          },
          "xaxis": {
           "automargin": true,
           "gridcolor": "white",
           "linecolor": "white",
           "ticks": "",
           "title": {
            "standoff": 15
           },
           "zerolinecolor": "white",
           "zerolinewidth": 2
          },
          "yaxis": {
           "automargin": true,
           "gridcolor": "white",
           "linecolor": "white",
           "ticks": "",
           "title": {
            "standoff": 15
           },
           "zerolinecolor": "white",
           "zerolinewidth": 2
          }
         }
        },
        "title": {
         "text": "Process Temperature With and Without Gaps and Imputation Difference"
        },
        "xaxis": {
         "anchor": "y",
         "domain": [
          0,
          1
         ],
         "matches": "x2",
         "showticklabels": false,
         "title": {
          "text": "UDI"
         }
        },
        "xaxis2": {
         "anchor": "y2",
         "domain": [
          0,
          1
         ]
        },
        "yaxis": {
         "anchor": "x",
         "domain": [
          0.55,
          1
         ],
         "title": {
          "text": "Process Temperature [K]"
         }
        },
        "yaxis2": {
         "anchor": "x2",
         "domain": [
          0,
          0.45
         ],
         "title": {
          "text": "Difference"
         }
        }
       }
      }
     },
     "metadata": {},
     "output_type": "display_data"
    }
   ],
   "source": [
    "dftemp.loc[:, \"temp_poly2\"] = dftemp[\"process_temperature_K_gaps\"].interpolate(\"polynomial\", order=2)\n",
    "\n",
    "plot_temperature_data(dftemp, int_column=\"temp_poly2\")"
   ]
  },
  {
   "cell_type": "code",
   "execution_count": 10,
   "id": "a283937e",
   "metadata": {},
   "outputs": [
    {
     "data": {
      "application/vnd.plotly.v1+json": {
       "config": {
        "plotlyServerURL": "https://plot.ly"
       },
       "data": [
        {
         "line": {
          "color": "lightgrey"
         },
         "mode": "lines",
         "name": "Original",
         "type": "scatter",
         "x": {
          "bdata": "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",
          "dtype": "i2"
         },
         "xaxis": "x",
         "y": {
          "bdata": "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",
          "dtype": "f8"
         },
         "yaxis": "y"
        },
        {
         "mode": "lines",
         "name": "With Gaps",
         "type": "scatter",
         "x": {
          "bdata": "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",
          "dtype": "i2"
         },
         "xaxis": "x",
         "y": {
          "bdata": "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",
          "dtype": "f8"
         },
         "yaxis": "y"
        },
        {
         "line": {
          "color": "blue"
         },
         "mode": "lines",
         "name": "Imputed",
         "type": "scatter",
         "x": {
          "bdata": "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",
          "dtype": "i2"
         },
         "xaxis": "x",
         "y": {
          "bdata": "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",
          "dtype": "f8"
         },
         "yaxis": "y"
        },
        {
         "line": {
          "color": "green"
         },
         "mode": "lines",
         "name": "Original - Imputed",
         "type": "scatter",
         "x": {
          "bdata": "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",
          "dtype": "i2"
         },
         "xaxis": "x2",
         "y": {
          "bdata": "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",
          "dtype": "f8"
         },
         "yaxis": "y2"
        }
       ],
       "layout": {
        "annotations": [
         {
          "font": {
           "size": 16
          },
          "showarrow": false,
          "text": "Process Temperature With and Without Gaps",
          "x": 0.5,
          "xanchor": "center",
          "xref": "paper",
          "y": 1,
          "yanchor": "bottom",
          "yref": "paper"
         },
         {
          "font": {
           "size": 16
          },
          "showarrow": false,
          "text": "Original - Imputed Difference",
          "x": 0.5,
          "xanchor": "center",
          "xref": "paper",
          "y": 0.45,
          "yanchor": "bottom",
          "yref": "paper"
         }
        ],
        "height": 700,
        "template": {
         "data": {
          "bar": [
           {
            "error_x": {
             "color": "#2a3f5f"
            },
            "error_y": {
             "color": "#2a3f5f"
            },
            "marker": {
             "line": {
              "color": "#E5ECF6",
              "width": 0.5
             },
             "pattern": {
              "fillmode": "overlay",
              "size": 10,
              "solidity": 0.2
             }
            },
            "type": "bar"
           }
          ],
          "barpolar": [
           {
            "marker": {
             "line": {
              "color": "#E5ECF6",
              "width": 0.5
             },
             "pattern": {
              "fillmode": "overlay",
              "size": 10,
              "solidity": 0.2
             }
            },
            "type": "barpolar"
           }
          ],
          "carpet": [
           {
            "aaxis": {
             "endlinecolor": "#2a3f5f",
             "gridcolor": "white",
             "linecolor": "white",
             "minorgridcolor": "white",
             "startlinecolor": "#2a3f5f"
            },
            "baxis": {
             "endlinecolor": "#2a3f5f",
             "gridcolor": "white",
             "linecolor": "white",
             "minorgridcolor": "white",
             "startlinecolor": "#2a3f5f"
            },
            "type": "carpet"
           }
          ],
          "choropleth": [
           {
            "colorbar": {
             "outlinewidth": 0,
             "ticks": ""
            },
            "type": "choropleth"
           }
          ],
          "contour": [
           {
            "colorbar": {
             "outlinewidth": 0,
             "ticks": ""
            },
            "colorscale": [
             [
              0,
              "#0d0887"
             ],
             [
              0.1111111111111111,
              "#46039f"
             ],
             [
              0.2222222222222222,
              "#7201a8"
             ],
             [
              0.3333333333333333,
              "#9c179e"
             ],
             [
              0.4444444444444444,
              "#bd3786"
             ],
             [
              0.5555555555555556,
              "#d8576b"
             ],
             [
              0.6666666666666666,
              "#ed7953"
             ],
             [
              0.7777777777777778,
              "#fb9f3a"
             ],
             [
              0.8888888888888888,
              "#fdca26"
             ],
             [
              1,
              "#f0f921"
             ]
            ],
            "type": "contour"
           }
          ],
          "contourcarpet": [
           {
            "colorbar": {
             "outlinewidth": 0,
             "ticks": ""
            },
            "type": "contourcarpet"
           }
          ],
          "heatmap": [
           {
            "colorbar": {
             "outlinewidth": 0,
             "ticks": ""
            },
            "colorscale": [
             [
              0,
              "#0d0887"
             ],
             [
              0.1111111111111111,
              "#46039f"
             ],
             [
              0.2222222222222222,
              "#7201a8"
             ],
             [
              0.3333333333333333,
              "#9c179e"
             ],
             [
              0.4444444444444444,
              "#bd3786"
             ],
             [
              0.5555555555555556,
              "#d8576b"
             ],
             [
              0.6666666666666666,
              "#ed7953"
             ],
             [
              0.7777777777777778,
              "#fb9f3a"
             ],
             [
              0.8888888888888888,
              "#fdca26"
             ],
             [
              1,
              "#f0f921"
             ]
            ],
            "type": "heatmap"
           }
          ],
          "histogram": [
           {
            "marker": {
             "pattern": {
              "fillmode": "overlay",
              "size": 10,
              "solidity": 0.2
             }
            },
            "type": "histogram"
           }
          ],
          "histogram2d": [
           {
            "colorbar": {
             "outlinewidth": 0,
             "ticks": ""
            },
            "colorscale": [
             [
              0,
              "#0d0887"
             ],
             [
              0.1111111111111111,
              "#46039f"
             ],
             [
              0.2222222222222222,
              "#7201a8"
             ],
             [
              0.3333333333333333,
              "#9c179e"
             ],
             [
              0.4444444444444444,
              "#bd3786"
             ],
             [
              0.5555555555555556,
              "#d8576b"
             ],
             [
              0.6666666666666666,
              "#ed7953"
             ],
             [
              0.7777777777777778,
              "#fb9f3a"
             ],
             [
              0.8888888888888888,
              "#fdca26"
             ],
             [
              1,
              "#f0f921"
             ]
            ],
            "type": "histogram2d"
           }
          ],
          "histogram2dcontour": [
           {
            "colorbar": {
             "outlinewidth": 0,
             "ticks": ""
            },
            "colorscale": [
             [
              0,
              "#0d0887"
             ],
             [
              0.1111111111111111,
              "#46039f"
             ],
             [
              0.2222222222222222,
              "#7201a8"
             ],
             [
              0.3333333333333333,
              "#9c179e"
             ],
             [
              0.4444444444444444,
              "#bd3786"
             ],
             [
              0.5555555555555556,
              "#d8576b"
             ],
             [
              0.6666666666666666,
              "#ed7953"
             ],
             [
              0.7777777777777778,
              "#fb9f3a"
             ],
             [
              0.8888888888888888,
              "#fdca26"
             ],
             [
              1,
              "#f0f921"
             ]
            ],
            "type": "histogram2dcontour"
           }
          ],
          "mesh3d": [
           {
            "colorbar": {
             "outlinewidth": 0,
             "ticks": ""
            },
            "type": "mesh3d"
           }
          ],
          "parcoords": [
           {
            "line": {
             "colorbar": {
              "outlinewidth": 0,
              "ticks": ""
             }
            },
            "type": "parcoords"
           }
          ],
          "pie": [
           {
            "automargin": true,
            "type": "pie"
           }
          ],
          "scatter": [
           {
            "fillpattern": {
             "fillmode": "overlay",
             "size": 10,
             "solidity": 0.2
            },
            "type": "scatter"
           }
          ],
          "scatter3d": [
           {
            "line": {
             "colorbar": {
              "outlinewidth": 0,
              "ticks": ""
             }
            },
            "marker": {
             "colorbar": {
              "outlinewidth": 0,
              "ticks": ""
             }
            },
            "type": "scatter3d"
           }
          ],
          "scattercarpet": [
           {
            "marker": {
             "colorbar": {
              "outlinewidth": 0,
              "ticks": ""
             }
            },
            "type": "scattercarpet"
           }
          ],
          "scattergeo": [
           {
            "marker": {
             "colorbar": {
              "outlinewidth": 0,
              "ticks": ""
             }
            },
            "type": "scattergeo"
           }
          ],
          "scattergl": [
           {
            "marker": {
             "colorbar": {
              "outlinewidth": 0,
              "ticks": ""
             }
            },
            "type": "scattergl"
           }
          ],
          "scattermap": [
           {
            "marker": {
             "colorbar": {
              "outlinewidth": 0,
              "ticks": ""
             }
            },
            "type": "scattermap"
           }
          ],
          "scattermapbox": [
           {
            "marker": {
             "colorbar": {
              "outlinewidth": 0,
              "ticks": ""
             }
            },
            "type": "scattermapbox"
           }
          ],
          "scatterpolar": [
           {
            "marker": {
             "colorbar": {
              "outlinewidth": 0,
              "ticks": ""
             }
            },
            "type": "scatterpolar"
           }
          ],
          "scatterpolargl": [
           {
            "marker": {
             "colorbar": {
              "outlinewidth": 0,
              "ticks": ""
             }
            },
            "type": "scatterpolargl"
           }
          ],
          "scatterternary": [
           {
            "marker": {
             "colorbar": {
              "outlinewidth": 0,
              "ticks": ""
             }
            },
            "type": "scatterternary"
           }
          ],
          "surface": [
           {
            "colorbar": {
             "outlinewidth": 0,
             "ticks": ""
            },
            "colorscale": [
             [
              0,
              "#0d0887"
             ],
             [
              0.1111111111111111,
              "#46039f"
             ],
             [
              0.2222222222222222,
              "#7201a8"
             ],
             [
              0.3333333333333333,
              "#9c179e"
             ],
             [
              0.4444444444444444,
              "#bd3786"
             ],
             [
              0.5555555555555556,
              "#d8576b"
             ],
             [
              0.6666666666666666,
              "#ed7953"
             ],
             [
              0.7777777777777778,
              "#fb9f3a"
             ],
             [
              0.8888888888888888,
              "#fdca26"
             ],
             [
              1,
              "#f0f921"
             ]
            ],
            "type": "surface"
           }
          ],
          "table": [
           {
            "cells": {
             "fill": {
              "color": "#EBF0F8"
             },
             "line": {
              "color": "white"
             }
            },
            "header": {
             "fill": {
              "color": "#C8D4E3"
             },
             "line": {
              "color": "white"
             }
            },
            "type": "table"
           }
          ]
         },
         "layout": {
          "annotationdefaults": {
           "arrowcolor": "#2a3f5f",
           "arrowhead": 0,
           "arrowwidth": 1
          },
          "autotypenumbers": "strict",
          "coloraxis": {
           "colorbar": {
            "outlinewidth": 0,
            "ticks": ""
           }
          },
          "colorscale": {
           "diverging": [
            [
             0,
             "#8e0152"
            ],
            [
             0.1,
             "#c51b7d"
            ],
            [
             0.2,
             "#de77ae"
            ],
            [
             0.3,
             "#f1b6da"
            ],
            [
             0.4,
             "#fde0ef"
            ],
            [
             0.5,
             "#f7f7f7"
            ],
            [
             0.6,
             "#e6f5d0"
            ],
            [
             0.7,
             "#b8e186"
            ],
            [
             0.8,
             "#7fbc41"
            ],
            [
             0.9,
             "#4d9221"
            ],
            [
             1,
             "#276419"
            ]
           ],
           "sequential": [
            [
             0,
             "#0d0887"
            ],
            [
             0.1111111111111111,
             "#46039f"
            ],
            [
             0.2222222222222222,
             "#7201a8"
            ],
            [
             0.3333333333333333,
             "#9c179e"
            ],
            [
             0.4444444444444444,
             "#bd3786"
            ],
            [
             0.5555555555555556,
             "#d8576b"
            ],
            [
             0.6666666666666666,
             "#ed7953"
            ],
            [
             0.7777777777777778,
             "#fb9f3a"
            ],
            [
             0.8888888888888888,
             "#fdca26"
            ],
            [
             1,
             "#f0f921"
            ]
           ],
           "sequentialminus": [
            [
             0,
             "#0d0887"
            ],
            [
             0.1111111111111111,
             "#46039f"
            ],
            [
             0.2222222222222222,
             "#7201a8"
            ],
            [
             0.3333333333333333,
             "#9c179e"
            ],
            [
             0.4444444444444444,
             "#bd3786"
            ],
            [
             0.5555555555555556,
             "#d8576b"
            ],
            [
             0.6666666666666666,
             "#ed7953"
            ],
            [
             0.7777777777777778,
             "#fb9f3a"
            ],
            [
             0.8888888888888888,
             "#fdca26"
            ],
            [
             1,
             "#f0f921"
            ]
           ]
          },
          "colorway": [
           "#636efa",
           "#EF553B",
           "#00cc96",
           "#ab63fa",
           "#FFA15A",
           "#19d3f3",
           "#FF6692",
           "#B6E880",
           "#FF97FF",
           "#FECB52"
          ],
          "font": {
           "color": "#2a3f5f"
          },
          "geo": {
           "bgcolor": "white",
           "lakecolor": "white",
           "landcolor": "#E5ECF6",
           "showlakes": true,
           "showland": true,
           "subunitcolor": "white"
          },
          "hoverlabel": {
           "align": "left"
          },
          "hovermode": "closest",
          "mapbox": {
           "style": "light"
          },
          "paper_bgcolor": "white",
          "plot_bgcolor": "#E5ECF6",
          "polar": {
           "angularaxis": {
            "gridcolor": "white",
            "linecolor": "white",
            "ticks": ""
           },
           "bgcolor": "#E5ECF6",
           "radialaxis": {
            "gridcolor": "white",
            "linecolor": "white",
            "ticks": ""
           }
          },
          "scene": {
           "xaxis": {
            "backgroundcolor": "#E5ECF6",
            "gridcolor": "white",
            "gridwidth": 2,
            "linecolor": "white",
            "showbackground": true,
            "ticks": "",
            "zerolinecolor": "white"
           },
           "yaxis": {
            "backgroundcolor": "#E5ECF6",
            "gridcolor": "white",
            "gridwidth": 2,
            "linecolor": "white",
            "showbackground": true,
            "ticks": "",
            "zerolinecolor": "white"
           },
           "zaxis": {
            "backgroundcolor": "#E5ECF6",
            "gridcolor": "white",
            "gridwidth": 2,
            "linecolor": "white",
            "showbackground": true,
            "ticks": "",
            "zerolinecolor": "white"
           }
          },
          "shapedefaults": {
           "line": {
            "color": "#2a3f5f"
           }
          },
          "ternary": {
           "aaxis": {
            "gridcolor": "white",
            "linecolor": "white",
            "ticks": ""
           },
           "baxis": {
            "gridcolor": "white",
            "linecolor": "white",
            "ticks": ""
           },
           "bgcolor": "#E5ECF6",
           "caxis": {
            "gridcolor": "white",
            "linecolor": "white",
            "ticks": ""
           }
          },
          "title": {
           "x": 0.05
          },
          "xaxis": {
           "automargin": true,
           "gridcolor": "white",
           "linecolor": "white",
           "ticks": "",
           "title": {
            "standoff": 15
           },
           "zerolinecolor": "white",
           "zerolinewidth": 2
          },
          "yaxis": {
           "automargin": true,
           "gridcolor": "white",
           "linecolor": "white",
           "ticks": "",
           "title": {
            "standoff": 15
           },
           "zerolinecolor": "white",
           "zerolinewidth": 2
          }
         }
        },
        "title": {
         "text": "Process Temperature With and Without Gaps and Imputation Difference"
        },
        "xaxis": {
         "anchor": "y",
         "domain": [
          0,
          1
         ],
         "matches": "x2",
         "showticklabels": false,
         "title": {
          "text": "UDI"
         }
        },
        "xaxis2": {
         "anchor": "y2",
         "domain": [
          0,
          1
         ]
        },
        "yaxis": {
         "anchor": "x",
         "domain": [
          0.55,
          1
         ],
         "title": {
          "text": "Process Temperature [K]"
         }
        },
        "yaxis2": {
         "anchor": "x2",
         "domain": [
          0,
          0.45
         ],
         "title": {
          "text": "Difference"
         }
        }
       }
      }
     },
     "metadata": {},
     "output_type": "display_data"
    }
   ],
   "source": [
    "dftemp.loc[:, \"temp_poly5\"] = dftemp[\"process_temperature_K_gaps\"].interpolate(\"polynomial\", order=5)\n",
    "\n",
    "plot_temperature_data(dftemp, int_column=\"temp_poly5\")"
   ]
  },
  {
   "cell_type": "markdown",
   "id": "e9e2ca25",
   "metadata": {},
   "source": [
    "## Spline interpolation\n",
    "\n",
    "Spline interpolation is a method used to estimate missing values in a time series by fitting piecewise polynomial functions (splines) to the known data points and using those functions to fill in the gaps.\n",
    "\n",
    "The specific type PCHIP (Piecewise Cubic Hermite Interpolating Polynomial) in particular preserves the monotonicity of the data and avoids overshooting, making it suitable for many real-world applications.\n",
    "\n",
    "Advantages:\n",
    "- Can provide smooth and accurate estimates, especially for non-linear trends.\n",
    "- Can capture complex patterns in the data better than simpler methods.\n",
    "- Less prone to overfitting compared to high-degree polynomial interpolation.\n",
    "\n",
    "Disadvantages:\n",
    "- More computationally intensive than simpler methods.\n",
    "- Requires careful selection of spline parameters (e.g., degree, knots).\n",
    "- May not perform well for very short gaps or sparse data."
   ]
  },
  {
   "cell_type": "code",
   "execution_count": 11,
   "id": "4bffa488",
   "metadata": {},
   "outputs": [
    {
     "data": {
      "application/vnd.plotly.v1+json": {
       "config": {
        "plotlyServerURL": "https://plot.ly"
       },
       "data": [
        {
         "line": {
          "color": "lightgrey"
         },
         "mode": "lines",
         "name": "Original",
         "type": "scatter",
         "x": {
          "bdata": "AQACAAMABAAFAAYABwAIAAkACgALAAwADQAOAA8AEAARABIAEwAUABUAFgAXABgAGQAaABsAHAAdAB4AHwAgACEAIgAjACQAJQAmACcAKAApACoAKwAsAC0ALgAvADAAMQAyADMANAA1ADYANwA4ADkAOgA7ADwAPQA+AD8AQABBAEIAQwBEAEUARgBHAEgASQBKAEsATABNAE4ATwBQAFEAUgBTAFQAVQBWAFcAWABZAFoAWwBcAF0AXgBfAGAAYQBiAGMAZABlAGYAZwBoAGkAagBrAGwAbQBuAG8AcABxAHIAcwB0AHUAdgB3AHgAeQB6AHsAfAB9AH4AfwCAAIEAggCDAIQAhQCGAIcAiACJAIoAiwCMAI0AjgCPAJAAkQCSAJMAlACVAJYAlwCYAJkAmgCbAJwAnQCeAJ8AoAChAKIAowCkAKUApgCnAKgAqQCqAKsArACtAK4ArwCwALEAsgCzALQAtQC2ALcAuAC5ALoAuwC8AL0AvgC/AMAAwQDCAMMAxADFAMYAxwDIAMkAygDLAMwAzQDOAM8A0ADRANIA0wDUANUA1gDXANgA2QDaANsA3ADdAN4A3wDgAOEA4gDjAOQA5QDmAOcA6ADpAOoA6wDsAO0A7gDvAPAA8QDyAPMA9AD1APYA9wD4APkA+gD7APwA/QD+AP8AAAEBAQIBAwEEAQUBBgEHAQgBCQEKAQsBDAENAQ4BDwEQAREBEgETARQBFQEWARcBGAEZARoBGwEcAR0BHgEfASABIQEiASMBJAElASYBJwEoASkBKgErASwBLQEuAS8BMAExATIBMwE0ATUBNgE3ATgBOQE6ATsBPAE9AT4BPwFAAUEBQgFDAUQBRQFGAUcBSAFJAUoBSwFMAU0BTgFPAVABUQFSAVMBVAFVAVYBVwFYAVkBWgFbAVwBXQFeAV8BYAFhAWIBYwFkAWUBZgFnAWgBaQFqAWsBbAFtAW4BbwFwAXEBcgFzAXQBdQF2AXcBeAF5AXoBewF8AX0BfgF/AYABgQGCAYMBhAGFAYYBhwGIAYkBigGLAYwBjQGOAY8BkAGRAZIBkwGUAZUBlgGXAZgBmQGaAZsBnAGdAZ4BnwGgAaEBogGjAaQBpQGmAacBqAGpAaoBqwGsAa0BrgGvAbABsQGyAbMBtAG1AbYBtwG4AbkBugG7AbwBvQG+Ab8BwAHBAcIBwwHEAcUBxgHHAcgByQHKAcsBzAHNAc4BzwHQAdEB0gHTAdQB1QHWAdcB2AHZAdoB2wHcAd0B3gHfAeAB4QHiAeMB5AHlAeYB5wHoAekB6gHrAewB7QHuAe8B8AHxAfIB8wH0AfUB9gH3AfgB+QH6AfsB/AH9Af4B/wEAAgECAgIDAgQCBQIGAgcCCAIJAgoCCwIMAg0CDgIPAhACEQISAhMCFAIVAhYCFwIYAhkCGgIbAhwCHQIeAh8CIAIhAiICIwIkAiUCJgInAigCKQIqAisCLAItAi4CLwIwAjECMgIzAjQCNQI2AjcCOAI5AjoCOwI8Aj0CPgI/AkACQQJCAkMCRAJFAkYCRwJIAkkCSgJLAkwCTQJOAk8CUAJRAlICUwJUAlUCVgJXAlgCWQJaAlsCXAJdAl4CXwJgAmECYgJjAmQCZQJmAmcCaAJpAmoCawJsAm0CbgJvAnACcQJyAnMCdAJ1AnYCdwJ4AnkCegJ7AnwCfQJ+An8CgAKBAoICgwKEAoUChgKHAogCiQKKAosCjAKNAo4CjwKQApECkgKTApQClQKWApcCmAKZApoCmwKcAp0CngKfAqACoQKiAqMCpAKlAqYCpwKoAqkCqgKrAqwCrQKuAq8CsAKxArICswK0ArUCtgK3ArgCuQK6ArsCvAK9Ar4CvwLAAsECwgLDAsQCxQLGAscCyALJAsoCywLMAs0CzgLPAtAC0QLSAtMC1ALVAtYC1wLYAtkC2gLbAtwC3QLeAt8C4ALhAuIC4wLkAuUC5gLnAugC6QLqAusC7ALtAu4C7wLwAvEC8gLzAvQC9QL2AvcC+AL5AvoC+wL8Av0C/gL/AgADAQMCAwMDBAMFAwYDBwMIAwkDCgMLAwwDDQMOAw8DEAMRAxIDEwMUAxUDFgMXAxgDGQMaAxsDHAMdAx4DHwMgAyEDIgMjAyQDJQMmAycDKAMpAyoDKwMsAy0DLgMvAzADMQMyAzMDNAM1AzYDNwM4AzkDOgM7AzwDPQM+Az8DQANBA0IDQwNEA0UDRgNHA0gDSQNKA0sDTANNA04DTwNQA1EDUgNTA1QDVQNWA1cDWANZA1oDWwNcA10DXgNfA2ADYQNiA2MDZANlA2YDZwNoA2kDagNrA2wDbQNuA28DcANxA3IDcwN0A3UDdgN3A3gDeQN6A3sDfAN9A34DfwOAA4EDggODA4QDhQOGA4cDiAOJA4oDiwOMA40DjgOPA5ADkQOSA5MDlAOVA5YDlwOYA5kDmgObA5wDnQOeA58DoAOhA6IDowOkA6UDpgOnA6gDqQOqA6sDrAOtA64DrwOwA7EDsgOzA7QDtQO2A7cDuAO5A7oDuwO8A70DvgO/A8ADwQPCA8MDxAPFA8YDxwPIA8kDygPLA8wDzQPOA88D0APRA9ID0wPUA9UD1gPXA9gD2QPaA9sD3APdA94D3wPgA+ED4gPjA+QD5QPmA+cD6AM=",
          "dtype": "i2"
         },
         "xaxis": "x",
         "y": {
          "bdata": "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",
          "dtype": "f8"
         },
         "yaxis": "y"
        },
        {
         "mode": "lines",
         "name": "With Gaps",
         "type": "scatter",
         "x": {
          "bdata": "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",
          "dtype": "i2"
         },
         "xaxis": "x",
         "y": {
          "bdata": "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",
          "dtype": "f8"
         },
         "yaxis": "y"
        },
        {
         "line": {
          "color": "blue"
         },
         "mode": "lines",
         "name": "Imputed",
         "type": "scatter",
         "x": {
          "bdata": "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",
          "dtype": "i2"
         },
         "xaxis": "x",
         "y": {
          "bdata": "AAAAAAAA+H8AAAAAAAD4fwAAAAAAAPh/AAAAAAAA+H8AAAAAAAD4fwAAAAAAAPh/AAAAAAAA+H8AAAAAAAD4fwAAAAAAAPh/AAAAAAAA+H8AAAAAAAD4fwAAAAAAAPh/AAAAAAAA+H8AAAAAAAD4fwAAAAAAAPh/AAAAAAAA+H8AAAAAAAD4fwAAAAAAAPh/AAAAAAAA+H8AAAAAAAD4fwAAAAAAAPh/AAAAAAAA+H8AAAAAAAD4fwAAAAAAAPh/AAAAAAAA+H8AAAAAAAD4fwAAAAAAAPh/AAAAAAAA+H8AAAAAAAD4fwAAAAAAAPh/AAAAAAAA+H8AAAAAAAD4fwAAAAAAAPh/AAAAAAAA+H8AAAAAAAD4fwAAAAAAAPh/AAAAAAAA+H8AAAAAAAD4fwAAAAAAAPh/AAAAAAAA+H8AAAAAAAD4fwAAAAAAAPh/AAAAAAAA+H8AAAAAAAD4fwAAAAAAAPh/AAAAAAAA+H8AAAAAAAD4fwAAAAAAAPh/AAAAAAAA+H8AAAAAAAD4fwAAAAAAAPh/AAAAAAAA+H8AAAAAAAD4fwAAAAAAAPh/AAAAAAAA+H8AAAAAAAD4fwAAAAAAAPh/AAAAAAAA+H8AAAAAAAD4fwAAAAAAAPh/AAAAAAAA+H9ChlqTtE9zQHMcmGaKT3NA8ABvNGJPc0BR78DwO09zQDGjb48XT3NAJthcBPVOc0DISWpD1E5zQLGzeUC1TnNAeNFs75dOc0C1XiVEfE5zQAAXhTJiTnNA8rVtrklOc0Ai98CrMk5zQCmWYB4dTnNAoE4u+ghOc0Ad3Asz9k1zQDn62rzkTXNAjmR9i9RNc0Cw1tSSxU1zQD0Mw8a3TXNAyMApG6tNc0Drr+qDn01zQECV5/SUTXNAXCwCYotNc0DZMBy/gk1zQE9eFwB7TXNAVnDVGHRNc0CFIjj9bU1zQHUwIaFoTXNAwFVy+GNNc0D8TQ33X01zQMLU05BcTXNAqaWnuVlNc0BKfGplV01zQD0U/odVTXNAGylEFVRNc0B7dh4BU01zQPa3bj9STXNAJKkWxFFNc0CdBfiCUU1zQAAAAAAAAPh/AAAAAAAA+H8AAAAAAAD4fwAAAAAAAPh/AAAAAAAA+H8AAAAAAAD4fwAAAAAAAPh/AAAAAAAA+H8AAAAAAAD4fwAAAAAAAPh/AAAAAAAA+H8AAAAAAAD4fwAAAAAAAPh/AAAAAAAA+H8AAAAAAAD4fwAAAAAAAPh/AAAAAAAA+H8AAAAAAAD4fwAAAAAAAPh/AAAAAAAA+H+5NbiSMExzQPhIOnr3S3NAfTlJaqdLc0C7VBG9TEtzQAAAAAAAAPh/AAAAAAAA+H8AAAAAAAD4fwAAAAAAAPh/AAAAAAAA+H8AAAAAAAD4fwAAAAAAAPh/AAAAAAAA+H8AAAAAAAD4fwAAAAAAAPh/AAAAAAAA+H8AAAAAAAD4fwAAAAAAAPh/AAAAAAAA+H8AAAAAAAD4fwAAAAAAAPh/AAAAAAAA+H8AAAAAAAD4fwAAAAAAAPh/AAAAAAAA+H8AAAAAAAD4fwAAAAAAAPh/AAAAAAAA+H8AAAAAAAD4fwAAAAAAAPh/AAAAAAAA+H8AAAAAAAD4fwAAAAAAAPh/AAAAAAAA+H8AAAAAAAD4fwAAAAAAAPh/AAAAAAAA+H8AAAAAAAD4fwAAAAAAAPh/AAAAAAAA+H9PX+laDUFzQM0UegcOQXNAbbjxSA9Bc0BjHgQ7EUFzQOUaZfkTQXNAJILInxdBc0BVKOJJHEFzQK/hZRMiQXNAY4IHGClBc0Cm3npzMUFzQK3Kc0E7QXNArBqmnUZBc0DWosWjU0FzQGE3hm9iQXNAgKybHHNBc0Bo1rnGhUFzQEyJlImaQXNAYZnfgLFBc0Db2k7IykFzQO4hlnvmQXNAz0JptgRCc0CxEXyUJUJzQMligjFJQnNASwowqW9Cc0Bs3DgXmUJzQF6tUJfFQnNAV1ErRfVCc0CLnHw8KENzQC5j+JheQ3NAc3lSdphDc0CQsz7w1UNzQLnlcCIXRHNAIeScKFxEc0D9gnYepURzQIKWsR/yRHNAAAAAAAAA+H8AAAAAAAD4fwAAAAAAAPh/AAAAAAAA+H8AAAAAAAD4fwAAAAAAAPh/AAAAAAAA+H8AAAAAAAD4fwAAAAAAAPh/AAAAAAAA+H8AAAAAAAD4fwAAAAAAAPh/AAAAAAAA+H8AAAAAAAD4fwAAAAAAAPh/AAAAAAAA+H8AAAAAAAD4fwAAAAAAAPh/AAAAAAAA+H8AAAAAAAD4fwAAAAAAAPh/AAAAAAAA+H8AAAAAAAD4f8InRgBrSnNAmMmijGdKc0Ca1+k+YUpzQKXdv6NXSnNAmGfJR0pKc0BQAau3OEpzQKs2CYAiSnNAhpOILQdKc0C/o81M5klzQDXzfGq/SXNAxQ07E5JJc0BLf6zTXUlzQKfTdTgiSXNAt5Y7zt5Ic0BWVKIhk0hzQGaYTr8+SHNAwO7kM+FHc0BF4wkMekdzQNEBYtQIR3NAQ9aRGY1Gc0B47D1oBkZzQAAAAAAAAPh/AAAAAAAA+H8AAAAAAAD4fwAAAAAAAPh/AAAAAAAA+H8AAAAAAAD4fwAAAAAAAPh/AAAAAAAA+H8AAAAAAAD4fwAAAAAAAPh/AAAAAAAA+H8AAAAAAAD4fwAAAAAAAPh/AAAAAAAA+H8AAAAAAAD4fwAAAAAAAPh/AAAAAAAA+H8AAAAAAAD4fwAAAAAAAPh/AAAAAAAA+H8AAAAAAAD4fwAAAAAAAPh/AAAAAAAA+H8AAAAAAAD4fwAAAAAAAPh/AAAAAAAA+H8AAAAAAAD4fwAAAAAAAPh/AAAAAAAA+H+X01oqgUBzQBwrifKDQHNAGD/8GIlAc0C/YkcJkUBzQEHp/S6cQHNA0SWz9apAc0Cha/rIvUBzQOANZxTVQHNAw1+MQ/FAc0B6tP3BEkFzQDdfTvs5QXNALbMRW2dBc0CLA9tMm0FzQIWjPTzWQXNATObMlBhCc0AAAAAAAAD4fwAAAAAAAPh/AAAAAAAA+H8AAAAAAAD4fwAAAAAAAPh/AAAAAAAA+H8AAAAAAAD4fwAAAAAAAPh/AAAAAAAA+H8AAAAAAAD4fwAAAAAAAPh/AAAAAAAA+H8AAAAAAAD4fwAAAAAAAPh/AAAAAAAA+H8AAAAAAAD4fwAAAAAAAPh/AAAAAAAA+H8AAAAAAAD4fwAAAAAAAPh/AAAAAAAA+H8AAAAAAAD4fwAAAAAAAPh/AAAAAAAA+H8AAAAAAAD4fwAAAAAAAPh/AAAAAAAA+H8AAAAAAAD4fwAAAAAAAPh/AAAAAAAA+H8AAAAAAAD4fwAAAAAAAPh/AAAAAAAA+H8AAAAAAAD4fwAAAAAAAPh/AAAAAAAA+H8AAAAAAAD4fwAAAAAAAPh/AAAAAAAA+H8AAAAAAAD4fwAAAAAAAPh/AAAAAAAA+H8AAAAAAAD4fwAAAAAAAPh/AAAAAAAA+H8AAAAAAAD4fwAAAAAAAPh/AAAAAAAA+H8AAAAAAAD4fwAAAAAAAPh/AAAAAAAA+H8AAAAAAAD4fwAAAAAAAPh/AAAAAAAA+H8AAAAAAAD4fwAAAAAAAPh/AAAAAAAA+H8AAAAAAAD4fwAAAAAAAPh/AAAAAAAA+H8AAAAAAAD4fwAAAAAAAPh/PJT3RfhDc0CDQoHsAURzQLWk1mMRRHNAsteBKiZEc0Bc+Ay/P0RzQJMjAqBdRHNANnbrS39Ec0AoDVNBpERzQEgFw/7LRHNAdXvFAvZEc0CRjOTLIUVzQHxVqthORXNAF/Ogp3xFc0BBglK3qkVzQNwfSYbYRXNAx+gOkwVGc0Dj+S1cMUZzQBFwMGBbRnNAMGigHYNGc0Ah/wcTqEZzQMVR8b7JRnNA/Hzmn+dGc0CmnXE0AUdzQKPQHPsVR3NA1TJyciVHc0Ab4fsYL0dzQAAAAAAAAPh/AAAAAAAA+H8AAAAAAAD4fwAAAAAAAPh/AAAAAAAA+H8AAAAAAAD4fwAAAAAAAPh/AAAAAAAA+H8AAAAAAAD4fwAAAAAAAPh/AAAAAAAA+H8AAAAAAAD4fwAAAAAAAPh/AAAAAAAA+H/3OWnp7kVzQJvJY5mQRnNA7dGVrm1Hc0AlrS+QXkhzQHa1YaU7SXNAGkVcVd1Jc0AAAAAAAAD4fwAAAAAAAPh/AAAAAAAA+H8AAAAAAAD4fwAAAAAAAPh/AAAAAAAA+H8AAAAAAAD4fwAAAAAAAPh/AAAAAAAA+H8AAAAAAAD4fwAAAAAAAPh/AAAAAAAA+H8AAAAAAAD4f8WuNXHER3NAVQX5UW5Hc0Az9hjJH0dzQNjgxoDYRnNAtyQ0I5hGc0BDIZJaXkZzQPM1EtEqRnNAO8LlMP1Fc0CPJT4k1UVzQGa/TFWyRXNAM+9CbpRFc0BsFFIZe0VzQIOOqwBmRXNA77yAzlRFc0Ak/wItR0VzQJe0Y8Y8RXNAvjzURDVFc0AM94VSMEVzQPZCqpktRXNAAAAAAAAA+H8AAAAAAAD4f2ZlysT9SHNAcUMEDzhJc0DzeqKDaUlzQFUY1PuSSXNABCjIULVJc0Bptq1b0UlzQPLPs/XnSXNACIEJ+PlJc0AZ1t07CEpzQIzbX5oTSnNA0Z2+7BxKc0BPKSkMJUpzQHSKztEsSnNAq83dFjVKc0Bf/4W0PkpzQPor9oNKSnNA6F9dXllKc0CWp+ocbEpzQG0PzZiDSnNA2aMzq6BKc0BFcU0txEpzQB6ESfjuSnNAAAAAAAAA+H8AAAAAAAD4fwAAAAAAAPh/AAAAAAAA+H8AAAAAAAD4fwAAAAAAAPh/AAAAAAAA+H8AAAAAAAD4fwAAAAAAAPh/AAAAAAAA+H8AAAAAAAD4fwAAAAAAAPh/AAAAAAAA+H8AAAAAAAD4fwAAAAAAAPh/AAAAAAAA+H8AAAAAAAD4fwAAAAAAAPh/AAAAAAAA+H8AAAAAAAD4fwAAAAAAAPh/AAAAAAAA+H8AAAAAAAD4fwAAAAAAAPh/AAAAAAAA+H8AAAAAAAD4fwAAAAAAAPh/AAAAAAAA+H/LvMgkZVFzQDMxkfCUUXNA3SExP79Rc0BAFvFu5FFzQNaVGd4EUnNAFijz6iBSc0B3VMbzOFJzQHOi21ZNUnNAf5l7cl5Sc0AWwe6kbFJzQLCgfUx4UnNAw79wx4FSc0DIpRB0iVJzQDjapbCPUnNAiuR425RSc0A2TNJSmVJzQLaY+nSdUnNAflE6oKFSc0AK/tkyplJzQNAlIourUnNASVBbB7JSc0DsBM4FulJzQDPLwuTDUnNAkyqCAtBSc0CGqlS93lJzQIbSgnPwUnNABipVgwVTc0CDOBRLHlNzQHKFCCk7U3NATJh6e1xTc0CK+LKgglNzQKMt+vatU3NADr+Y3N5Tc0AAAAAAAAD4fwAAAAAAAPh/AAAAAAAA+H8AAAAAAAD4fwAAAAAAAPh/AAAAAAAA+H8AAAAAAAD4fwAAAAAAAPh/AAAAAAAA+H8AAAAAAAD4fwAAAAAAAPh/AAAAAAAA+H8AAAAAAAD4fwAAAAAAAPh/AAAAAAAA+H/u9y4Z8VdzQL+BL/QqWHNAlJJPTF9Yc0D0Lc5jjlhzQGJX6ny4WHNAaBLj2d1Yc0CKYve8/lhzQE1LZmgbWXNAOdBuHjRZc0DT9E8hSVlzQKG8SLNaWXNAKSuYFmlZc0DzQ32NdFlzQIEKN1p9WXNAXIIEv4NZc0ALryT+h1lzQBCU1lmKWXNAAAAAAAAA+H8AAAAAAAD4fwAAAAAAAPh/AAAAAAAA+H8AAAAAAAD4fwAAAAAAAPh/AAAAAAAA+H8AAAAAAAD4fwAAAAAAAPh/AAAAAAAA+H8AAAAAAAD4fwAAAAAAAPh/AAAAAAAA+H8AAAAAAAD4fwAAAAAAAPh/AAAAAAAA+H8AAAAAAAD4fwAAAAAAAPh/AAAAAAAA+H8AAAAAAAD4fwAAAAAAAPh/AAAAAAAA+H8AAAAAAAD4fwAAAAAAAPh/AAAAAAAA+H8AAAAAAAD4fwAAAAAAAPh/AAAAAAAA+H8AAAAAAAD4fwAAAAAAAPh/AAAAAAAA+H8AAAAAAAD4fwAAAAAAAPh/AAAAAAAA+H8AAAAAAAD4fwAAAAAAAPh/AAAAAAAA+H8AAAAAAAD4fwAAAAAAAPh/AAAAAAAA+H8AAAAAAAD4fwAAAAAAAPh/AAAAAAAA+H8AAAAAAAD4fwAAAAAAAPh/AAAAAAAA+H8AAAAAAAD4fwAAAAAAAPh/AAAAAAAA+H8AAAAAAAD4fwAAAAAAAPh/AAAAAAAA+H8AAAAAAAD4fwAAAAAAAPh/AAAAAAAA+H8AAAAAAAD4fwAAAAAAAPh/AAAAAAAA+H8AAAAAAAD4fwAAAAAAAPh/AAAAAAAA+H8AAAAAAAD4fwAAAAAAAPh/AAAAAAAA+H8AAAAAAAD4fwAAAAAAAPh/AAAAAAAA+H8AAAAAAAD4fwAAAAAAAPh/AAAAAAAA+H8taUX4519zQP12GUvnX3NA0PQtB+Zfc0A5CKEP5F9zQMjWkEfhX3NADoYbkt1fc0CdO1/S2F9zQAgdeuvSX3NA3U+KwMtfc0Cw+a00w19zQBJAAyu5X3NAk0iohq1fc0DHOLsqoF9zQD02WvqQX3NAh2aj2H9fc0A377SobF9zQN71rE1XX3NADaCpqj9fc0BWE8miJV9zQEp1KRkJX3NAe+vo8Olec0B6myUNyF5zQNiq/VCjXnNAAAAAAAAA+H8AAAAAAAD4fwAAAAAAAPh/AAAAAAAA+H8AAAAAAAD4fwAAAAAAAPh/AAAAAAAA+H8AAAAAAAD4fwAAAAAAAPh/AAAAAAAA+H8AAAAAAAD4fwAAAAAAAPh/AAAAAAAA+H8AAAAAAAD4fwAAAAAAAPh/AAAAAAAA+H8AAAAAAAD4fwAAAAAAAPh/AAAAAAAA+H8AAAAAAAD4fwAAAAAAAPh/4FPyPJdUc0BVJwwnbVRzQHuOOy4rVHNAXb0PvNRTc0AI6Bc6bVNzQIVC4xH4UnNA3wABrXhSc0AkVwB18lFzQF55cNNoUXNAl5vgMd9Qc0Db8d/5WFBzQDew/ZTZT3NAswrJbGRPc0BeNdHq/E5zQD9kpXimTnNAZsvUf2ROc0Dbnu5pOk5zQAAAAAAAAPh/AAAAAAAA+H8AAAAAAAD4fwAAAAAAAPh/AAAAAAAA+H8AAAAAAAD4fwAAAAAAAPh/35bO4b5Tc0BpQ8umrlNzQDxnfpCUU3NAkO7EaHFTc0CexXv5RVNzQJvYfwwTU3NAwROua9lSc0BGY+PgmVJzQGOz/DVVUnNAT/DWNAxSc0BABk+nv1FzQG7hQVdwUXNAEm6MDh9Rc0BjmAuXzFBzQJhMnLp5UHNA6XYbQydQc0CNA2b61U9zQLzeWKqGT3NArfTQHDpPc0CYMasb8U5zQLWBxHCsTnNAOtH55WxOc0BfDChFM05zQF0fLFgATnNAa/bi6NRNc0DAfSnBsU1zQJKh3KqXTXNAHE7Zb4dNc0AAAAAAAAD4fwAAAAAAAPh/AAAAAAAA+H8AAAAAAAD4fwAAAAAAAPh/AAAAAAAA+H8AAAAAAAD4fwAAAAAAAPh/AAAAAAAA+H8AAAAAAAD4fwAAAAAAAPh/AAAAAAAA+H/I23WfVkxzQN2lWK1TTHNACt4u5E1Mc0Bqh3KMRExzQBulne42THNAOjoqUyRMc0DkSZICDExzQDnXT0XtS3NAUuXcY8dLc0BQd7OmmUtzQFCQTVZjS3NAbTMluyNLc0DHY7Qd2kpzQHkkdcaFSnNAAAAAAAAA+H8AAAAAAAD4fwAAAAAAAPh/AAAAAAAA+H/Xk01YbUdzQA+1BvuKRnNA5qLCzXxFc0AexHtwmkRzQAAAAAAAAPh/AAAAAAAA+H8AAAAAAAD4f3EoEpchRnNAPkow9sRFc0CLTk/FN0VzQK6tGc+ERHNA+t853rZDc0DGXVq92EJzQGifJTf1QXNANR1GFhdBc0CBT2YlSUBzQKOuMC+WP3NA8LJP/gg/c0C+1G1drD5zQAAAAAAAAPh/AAAAAAAA+H8AAAAAAAD4fwAAAAAAAPh/AAAAAAAA+H8AAAAAAAD4fwAAAAAAAPh/tSyMHa48c0COXbnqMj5zQHDqYvgCQHNASRuQxYdBc0AAAAAAAAD4fwAAAAAAAPh/AAAAAAAA+H8AAAAAAAD4fwAAAAAAAPh/AAAAAAAA+H8AAAAAAAD4fwAAAAAAAPh/AAAAAAAA+H8AAAAAAAD4fwAAAAAAAPh/AAAAAAAA+H8AAAAAAAD4fwAAAAAAAPh/AAAAAAAA+H8AAAAAAAD4fwAAAAAAAPh/AAAAAAAA+H8AAAAAAAD4fwAAAAAAAPh/AAAAAAAA+H8AAAAAAAD4f/2LBQnNPnNAA1vxNSw+c0A20Obukz1zQDURH/oDPXNAnEPTHXw8c0AHjTwg/DtzQBcTlMeDO3NAZ/sS2hI7c0CVa/IdqTpzQD6Ja1lGOnNAAHq3Uuo5c0B5Yw/QlDlzQEZrrJdFOXNAA7fHb/w4c0BPbJoeuThzQMewXWp7OHNACapKGUM4c0CxfZrxDzhzQF9RhrnhN3NArkpHN7g3c0A7jxYxkzdzQKZELW1yN3NAipDEsVU3c0CGmBXFPDdzQDeCWW0nN3NAOnPJcBU3c0AskZ6VBjdzQK0BEqL6NnNAWOpcXPE2c0DLcLiK6jZzQKK6XfPlNnNAfu2FXOM2c0AAAAAAAAD4fwAAAAAAAPh/AAAAAAAA+H8AAAAAAAD4fwAAAAAAAPh/AAAAAAAA+H8AAAAAAAD4fwAAAAAAAPh/AAAAAAAA+H8lqhK7ujdzQKk39jYaOHNAzavtQ204c0CQW59xtDhzQOibsU/wOHNA08HKbSE5c0BJIpFbSDlzQEYSq6hlOXNAx+a+5Hk5c0DB9HKfhTlzQAAAAAAAAPh/AAAAAAAA+H8AAAAAAAD4fwAAAAAAAPh/AAAAAAAA+H8AAAAAAAD4fwAAAAAAAPh/AAAAAAAA+H8AAAAAAAD4fwAAAAAAAPh/AAAAAAAA+H8AAAAAAAD4fwAAAAAAAPh/AAAAAAAA+H8AAAAAAAD4fwAAAAAAAPh/AAAAAAAA+H+25Y8y/TJzQHZNRSRtMnNA3766j5Exc0DLN3A9ezBzQBO25fU6L3NAlDebgeEtc0AmuhCpfyxzQKc7xjQmK3NA77k77eUpc0DbMvGazyhzQEOkZgb0J3NABAwc+GMnc0AAAAAAAAD4fwAAAAAAAPh/AAAAAAAA+H8AAAAAAAD4fwAAAAAAAPh/flNanegjc0B0oUq97SNzQMq3ZPD1I3NAMycZ7wAkc0BfgNhxDiRzQP5TEzEeJHNAxTI65S8kc0Birb1GQyRzQIlUDg5YJHNA6ric820kc0A2a9mvhCRzQCD8NPubJHNAWfwfjrMkc0CR/AohyyRzQHuNZmziJHNAyD+jKPkkc0AppDEODyVzQFBLgtUjJXNA7cUFNzclc0C0pCzrSCVzQFR4Z6pYJXNAf9EmLWYlc0DnQNsrcSVzQD5X9V55JXNANKXlfn4lc0AAAAAAAAD4fwAAAAAAAPh/AAAAAAAA+H8AAAAAAAD4fwAAAAAAAPh/AAAAAAAA+H8AAAAAAAD4fwAAAAAAAPh/AAAAAAAA+H8AAAAAAAD4fwAAAAAAAPh/AAAAAAAA+H8AAAAAAAD4fwAAAAAAAPh/AAAAAAAA+H8AAAAAAAD4fwAAAAAAAPh/AAAAAAAA+H8AAAAAAAD4fwAAAAAAAPh/AAAAAAAA+H92VH6RwRtzQLhkR9AbHHNAk2aVSKccc0BH6DgHWx1zQBd4AhkuHnNAQ6TCihcfc0AN+0lpDiBzQLYKacEJIXNAgGHwnwAic0CsjbAR6iJzQHwdeiO9I3NAMJ8d4nAkc0ALoWta/CRzQE2xNJlWJXNAAAAAAAAA+H8AAAAAAAD4fwAAAAAAAPh/AAAAAAAA+H8AAAAAAAD4fwAAAAAAAPh/AAAAAAAA+H8AAAAAAAD4fwAAAAAAAPh/AAAAAAAA+H8AAAAAAAD4fwAAAAAAAPh/AAAAAAAA+H8AAAAAAAD4f9ErW01CInNACkpOMGcic0BBayWToSJzQN9SXO7uInNATcRuukwjc0D2gthvuCNzQENSFYcvJHNAnfWgeK8kc0BvMPe8NSVzQCTGk8y/JXNAInryH0smc0DWD48v1SZzQKhK5XNbJ3NAAu5wZdsnc0BPva18UihzQPh7FzK+KHNAZu0p/hspc0AE1WBZaSlzQDr2N7yjKXNAdBQrn8gpc0AAAAAAAAD4fwAAAAAAAPh/AAAAAAAA+H8AAAAAAAD4fwAAAAAAAPh/AAAAAAAA+H8AAAAAAAD4fwAAAAAAAPh/AAAAAAAA+H8AAAAAAAD4fwAAAAAAAPh/AAAAAAAA+H8AAAAAAAD4fwAAAAAAAPh/AAAAAAAA+H8AAAAAAAD4fwAAAAAAAPh/AAAAAAAA+H8AAAAAAAD4fwAAAAAAAPh/AAAAAAAA+H8AAAAAAAD4fwAAAAAAAPh/AAAAAAAA+H8AAAAAAAD4fwAAAAAAAPh/AAAAAAAA+H8AAAAAAAD4fwAAAAAAAPh/AAAAAAAA+H8AAAAAAAD4fwAAAAAAAPh/AAAAAAAA+H8=",
          "dtype": "f8"
         },
         "yaxis": "y"
        },
        {
         "line": {
          "color": "green"
         },
         "mode": "lines",
         "name": "Original - Imputed",
         "type": "scatter",
         "x": {
          "bdata": "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",
          "dtype": "i2"
         },
         "xaxis": "x2",
         "y": {
          "bdata": "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",
          "dtype": "f8"
         },
         "yaxis": "y2"
        }
       ],
       "layout": {
        "annotations": [
         {
          "font": {
           "size": 16
          },
          "showarrow": false,
          "text": "Process Temperature With and Without Gaps",
          "x": 0.5,
          "xanchor": "center",
          "xref": "paper",
          "y": 1,
          "yanchor": "bottom",
          "yref": "paper"
         },
         {
          "font": {
           "size": 16
          },
          "showarrow": false,
          "text": "Original - Imputed Difference",
          "x": 0.5,
          "xanchor": "center",
          "xref": "paper",
          "y": 0.45,
          "yanchor": "bottom",
          "yref": "paper"
         }
        ],
        "height": 700,
        "template": {
         "data": {
          "bar": [
           {
            "error_x": {
             "color": "#2a3f5f"
            },
            "error_y": {
             "color": "#2a3f5f"
            },
            "marker": {
             "line": {
              "color": "#E5ECF6",
              "width": 0.5
             },
             "pattern": {
              "fillmode": "overlay",
              "size": 10,
              "solidity": 0.2
             }
            },
            "type": "bar"
           }
          ],
          "barpolar": [
           {
            "marker": {
             "line": {
              "color": "#E5ECF6",
              "width": 0.5
             },
             "pattern": {
              "fillmode": "overlay",
              "size": 10,
              "solidity": 0.2
             }
            },
            "type": "barpolar"
           }
          ],
          "carpet": [
           {
            "aaxis": {
             "endlinecolor": "#2a3f5f",
             "gridcolor": "white",
             "linecolor": "white",
             "minorgridcolor": "white",
             "startlinecolor": "#2a3f5f"
            },
            "baxis": {
             "endlinecolor": "#2a3f5f",
             "gridcolor": "white",
             "linecolor": "white",
             "minorgridcolor": "white",
             "startlinecolor": "#2a3f5f"
            },
            "type": "carpet"
           }
          ],
          "choropleth": [
           {
            "colorbar": {
             "outlinewidth": 0,
             "ticks": ""
            },
            "type": "choropleth"
           }
          ],
          "contour": [
           {
            "colorbar": {
             "outlinewidth": 0,
             "ticks": ""
            },
            "colorscale": [
             [
              0,
              "#0d0887"
             ],
             [
              0.1111111111111111,
              "#46039f"
             ],
             [
              0.2222222222222222,
              "#7201a8"
             ],
             [
              0.3333333333333333,
              "#9c179e"
             ],
             [
              0.4444444444444444,
              "#bd3786"
             ],
             [
              0.5555555555555556,
              "#d8576b"
             ],
             [
              0.6666666666666666,
              "#ed7953"
             ],
             [
              0.7777777777777778,
              "#fb9f3a"
             ],
             [
              0.8888888888888888,
              "#fdca26"
             ],
             [
              1,
              "#f0f921"
             ]
            ],
            "type": "contour"
           }
          ],
          "contourcarpet": [
           {
            "colorbar": {
             "outlinewidth": 0,
             "ticks": ""
            },
            "type": "contourcarpet"
           }
          ],
          "heatmap": [
           {
            "colorbar": {
             "outlinewidth": 0,
             "ticks": ""
            },
            "colorscale": [
             [
              0,
              "#0d0887"
             ],
             [
              0.1111111111111111,
              "#46039f"
             ],
             [
              0.2222222222222222,
              "#7201a8"
             ],
             [
              0.3333333333333333,
              "#9c179e"
             ],
             [
              0.4444444444444444,
              "#bd3786"
             ],
             [
              0.5555555555555556,
              "#d8576b"
             ],
             [
              0.6666666666666666,
              "#ed7953"
             ],
             [
              0.7777777777777778,
              "#fb9f3a"
             ],
             [
              0.8888888888888888,
              "#fdca26"
             ],
             [
              1,
              "#f0f921"
             ]
            ],
            "type": "heatmap"
           }
          ],
          "histogram": [
           {
            "marker": {
             "pattern": {
              "fillmode": "overlay",
              "size": 10,
              "solidity": 0.2
             }
            },
            "type": "histogram"
           }
          ],
          "histogram2d": [
           {
            "colorbar": {
             "outlinewidth": 0,
             "ticks": ""
            },
            "colorscale": [
             [
              0,
              "#0d0887"
             ],
             [
              0.1111111111111111,
              "#46039f"
             ],
             [
              0.2222222222222222,
              "#7201a8"
             ],
             [
              0.3333333333333333,
              "#9c179e"
             ],
             [
              0.4444444444444444,
              "#bd3786"
             ],
             [
              0.5555555555555556,
              "#d8576b"
             ],
             [
              0.6666666666666666,
              "#ed7953"
             ],
             [
              0.7777777777777778,
              "#fb9f3a"
             ],
             [
              0.8888888888888888,
              "#fdca26"
             ],
             [
              1,
              "#f0f921"
             ]
            ],
            "type": "histogram2d"
           }
          ],
          "histogram2dcontour": [
           {
            "colorbar": {
             "outlinewidth": 0,
             "ticks": ""
            },
            "colorscale": [
             [
              0,
              "#0d0887"
             ],
             [
              0.1111111111111111,
              "#46039f"
             ],
             [
              0.2222222222222222,
              "#7201a8"
             ],
             [
              0.3333333333333333,
              "#9c179e"
             ],
             [
              0.4444444444444444,
              "#bd3786"
             ],
             [
              0.5555555555555556,
              "#d8576b"
             ],
             [
              0.6666666666666666,
              "#ed7953"
             ],
             [
              0.7777777777777778,
              "#fb9f3a"
             ],
             [
              0.8888888888888888,
              "#fdca26"
             ],
             [
              1,
              "#f0f921"
             ]
            ],
            "type": "histogram2dcontour"
           }
          ],
          "mesh3d": [
           {
            "colorbar": {
             "outlinewidth": 0,
             "ticks": ""
            },
            "type": "mesh3d"
           }
          ],
          "parcoords": [
           {
            "line": {
             "colorbar": {
              "outlinewidth": 0,
              "ticks": ""
             }
            },
            "type": "parcoords"
           }
          ],
          "pie": [
           {
            "automargin": true,
            "type": "pie"
           }
          ],
          "scatter": [
           {
            "fillpattern": {
             "fillmode": "overlay",
             "size": 10,
             "solidity": 0.2
            },
            "type": "scatter"
           }
          ],
          "scatter3d": [
           {
            "line": {
             "colorbar": {
              "outlinewidth": 0,
              "ticks": ""
             }
            },
            "marker": {
             "colorbar": {
              "outlinewidth": 0,
              "ticks": ""
             }
            },
            "type": "scatter3d"
           }
          ],
          "scattercarpet": [
           {
            "marker": {
             "colorbar": {
              "outlinewidth": 0,
              "ticks": ""
             }
            },
            "type": "scattercarpet"
           }
          ],
          "scattergeo": [
           {
            "marker": {
             "colorbar": {
              "outlinewidth": 0,
              "ticks": ""
             }
            },
            "type": "scattergeo"
           }
          ],
          "scattergl": [
           {
            "marker": {
             "colorbar": {
              "outlinewidth": 0,
              "ticks": ""
             }
            },
            "type": "scattergl"
           }
          ],
          "scattermap": [
           {
            "marker": {
             "colorbar": {
              "outlinewidth": 0,
              "ticks": ""
             }
            },
            "type": "scattermap"
           }
          ],
          "scattermapbox": [
           {
            "marker": {
             "colorbar": {
              "outlinewidth": 0,
              "ticks": ""
             }
            },
            "type": "scattermapbox"
           }
          ],
          "scatterpolar": [
           {
            "marker": {
             "colorbar": {
              "outlinewidth": 0,
              "ticks": ""
             }
            },
            "type": "scatterpolar"
           }
          ],
          "scatterpolargl": [
           {
            "marker": {
             "colorbar": {
              "outlinewidth": 0,
              "ticks": ""
             }
            },
            "type": "scatterpolargl"
           }
          ],
          "scatterternary": [
           {
            "marker": {
             "colorbar": {
              "outlinewidth": 0,
              "ticks": ""
             }
            },
            "type": "scatterternary"
           }
          ],
          "surface": [
           {
            "colorbar": {
             "outlinewidth": 0,
             "ticks": ""
            },
            "colorscale": [
             [
              0,
              "#0d0887"
             ],
             [
              0.1111111111111111,
              "#46039f"
             ],
             [
              0.2222222222222222,
              "#7201a8"
             ],
             [
              0.3333333333333333,
              "#9c179e"
             ],
             [
              0.4444444444444444,
              "#bd3786"
             ],
             [
              0.5555555555555556,
              "#d8576b"
             ],
             [
              0.6666666666666666,
              "#ed7953"
             ],
             [
              0.7777777777777778,
              "#fb9f3a"
             ],
             [
              0.8888888888888888,
              "#fdca26"
             ],
             [
              1,
              "#f0f921"
             ]
            ],
            "type": "surface"
           }
          ],
          "table": [
           {
            "cells": {
             "fill": {
              "color": "#EBF0F8"
             },
             "line": {
              "color": "white"
             }
            },
            "header": {
             "fill": {
              "color": "#C8D4E3"
             },
             "line": {
              "color": "white"
             }
            },
            "type": "table"
           }
          ]
         },
         "layout": {
          "annotationdefaults": {
           "arrowcolor": "#2a3f5f",
           "arrowhead": 0,
           "arrowwidth": 1
          },
          "autotypenumbers": "strict",
          "coloraxis": {
           "colorbar": {
            "outlinewidth": 0,
            "ticks": ""
           }
          },
          "colorscale": {
           "diverging": [
            [
             0,
             "#8e0152"
            ],
            [
             0.1,
             "#c51b7d"
            ],
            [
             0.2,
             "#de77ae"
            ],
            [
             0.3,
             "#f1b6da"
            ],
            [
             0.4,
             "#fde0ef"
            ],
            [
             0.5,
             "#f7f7f7"
            ],
            [
             0.6,
             "#e6f5d0"
            ],
            [
             0.7,
             "#b8e186"
            ],
            [
             0.8,
             "#7fbc41"
            ],
            [
             0.9,
             "#4d9221"
            ],
            [
             1,
             "#276419"
            ]
           ],
           "sequential": [
            [
             0,
             "#0d0887"
            ],
            [
             0.1111111111111111,
             "#46039f"
            ],
            [
             0.2222222222222222,
             "#7201a8"
            ],
            [
             0.3333333333333333,
             "#9c179e"
            ],
            [
             0.4444444444444444,
             "#bd3786"
            ],
            [
             0.5555555555555556,
             "#d8576b"
            ],
            [
             0.6666666666666666,
             "#ed7953"
            ],
            [
             0.7777777777777778,
             "#fb9f3a"
            ],
            [
             0.8888888888888888,
             "#fdca26"
            ],
            [
             1,
             "#f0f921"
            ]
           ],
           "sequentialminus": [
            [
             0,
             "#0d0887"
            ],
            [
             0.1111111111111111,
             "#46039f"
            ],
            [
             0.2222222222222222,
             "#7201a8"
            ],
            [
             0.3333333333333333,
             "#9c179e"
            ],
            [
             0.4444444444444444,
             "#bd3786"
            ],
            [
             0.5555555555555556,
             "#d8576b"
            ],
            [
             0.6666666666666666,
             "#ed7953"
            ],
            [
             0.7777777777777778,
             "#fb9f3a"
            ],
            [
             0.8888888888888888,
             "#fdca26"
            ],
            [
             1,
             "#f0f921"
            ]
           ]
          },
          "colorway": [
           "#636efa",
           "#EF553B",
           "#00cc96",
           "#ab63fa",
           "#FFA15A",
           "#19d3f3",
           "#FF6692",
           "#B6E880",
           "#FF97FF",
           "#FECB52"
          ],
          "font": {
           "color": "#2a3f5f"
          },
          "geo": {
           "bgcolor": "white",
           "lakecolor": "white",
           "landcolor": "#E5ECF6",
           "showlakes": true,
           "showland": true,
           "subunitcolor": "white"
          },
          "hoverlabel": {
           "align": "left"
          },
          "hovermode": "closest",
          "mapbox": {
           "style": "light"
          },
          "paper_bgcolor": "white",
          "plot_bgcolor": "#E5ECF6",
          "polar": {
           "angularaxis": {
            "gridcolor": "white",
            "linecolor": "white",
            "ticks": ""
           },
           "bgcolor": "#E5ECF6",
           "radialaxis": {
            "gridcolor": "white",
            "linecolor": "white",
            "ticks": ""
           }
          },
          "scene": {
           "xaxis": {
            "backgroundcolor": "#E5ECF6",
            "gridcolor": "white",
            "gridwidth": 2,
            "linecolor": "white",
            "showbackground": true,
            "ticks": "",
            "zerolinecolor": "white"
           },
           "yaxis": {
            "backgroundcolor": "#E5ECF6",
            "gridcolor": "white",
            "gridwidth": 2,
            "linecolor": "white",
            "showbackground": true,
            "ticks": "",
            "zerolinecolor": "white"
           },
           "zaxis": {
            "backgroundcolor": "#E5ECF6",
            "gridcolor": "white",
            "gridwidth": 2,
            "linecolor": "white",
            "showbackground": true,
            "ticks": "",
            "zerolinecolor": "white"
           }
          },
          "shapedefaults": {
           "line": {
            "color": "#2a3f5f"
           }
          },
          "ternary": {
           "aaxis": {
            "gridcolor": "white",
            "linecolor": "white",
            "ticks": ""
           },
           "baxis": {
            "gridcolor": "white",
            "linecolor": "white",
            "ticks": ""
           },
           "bgcolor": "#E5ECF6",
           "caxis": {
            "gridcolor": "white",
            "linecolor": "white",
            "ticks": ""
           }
          },
          "title": {
           "x": 0.05
          },
          "xaxis": {
           "automargin": true,
           "gridcolor": "white",
           "linecolor": "white",
           "ticks": "",
           "title": {
            "standoff": 15
           },
           "zerolinecolor": "white",
           "zerolinewidth": 2
          },
          "yaxis": {
           "automargin": true,
           "gridcolor": "white",
           "linecolor": "white",
           "ticks": "",
           "title": {
            "standoff": 15
           },
           "zerolinecolor": "white",
           "zerolinewidth": 2
          }
         }
        },
        "title": {
         "text": "Process Temperature With and Without Gaps and Imputation Difference"
        },
        "xaxis": {
         "anchor": "y",
         "domain": [
          0,
          1
         ],
         "matches": "x2",
         "showticklabels": false,
         "title": {
          "text": "UDI"
         }
        },
        "xaxis2": {
         "anchor": "y2",
         "domain": [
          0,
          1
         ]
        },
        "yaxis": {
         "anchor": "x",
         "domain": [
          0.55,
          1
         ],
         "title": {
          "text": "Process Temperature [K]"
         }
        },
        "yaxis2": {
         "anchor": "x2",
         "domain": [
          0,
          0.45
         ],
         "title": {
          "text": "Difference"
         }
        }
       }
      }
     },
     "metadata": {},
     "output_type": "display_data"
    }
   ],
   "source": [
    "dftemp.loc[:, \"temp_spline\"] = dftemp[\"process_temperature_K_gaps\"].interpolate(\"pchip\")\n",
    "\n",
    "plot_temperature_data(dftemp, int_column=\"temp_spline\")"
   ]
  },
  {
   "cell_type": "markdown",
   "id": "22f7f0ed",
   "metadata": {},
   "source": [
    "# Data smoothing\n",
    "\n",
    "Especially for noisy data and higher-order methods like splines or polynomials, interpolation methods can produce unrealistic results, such as overshooting or oscillations between known data points.\n",
    "Smoothing the time series prior to interpolation can help to mitigate this issue by reducing noise and capturing the underlying trend of the data.\n",
    "\n",
    "Smoothing techniques, such as moving averages or rolling medians, can be applied to the time series before performing interpolation.\n",
    "Rolling median, by design, is more robust to outliers and preserves edges better than rolling mean.\n",
    "Rolling mean tends to smooth out the data more uniformly but is more sensitive to outliers.\n",
    "\n",
    "When applying smoothing, it is important to choose an appropriate window size.\n",
    "The window-size determines the number of consecutive data points used to calculate the smoothed value at each point in the time series.\n",
    "The larger the window size, the smoother the resulting time series will be, but it may also lead to a loss of detail and important features in the data.\n",
    "\n",
    "## Rolling mean smoothing"
   ]
  },
  {
   "cell_type": "code",
   "execution_count": 12,
   "id": "0aeb25bb",
   "metadata": {},
   "outputs": [
    {
     "data": {
      "application/vnd.plotly.v1+json": {
       "config": {
        "plotlyServerURL": "https://plot.ly"
       },
       "data": [
        {
         "line": {
          "color": "lightgrey"
         },
         "mode": "lines",
         "name": "Original",
         "type": "scatter",
         "x": {
          "bdata": "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",
          "dtype": "i2"
         },
         "xaxis": "x",
         "y": {
          "bdata": "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",
          "dtype": "f8"
         },
         "yaxis": "y"
        },
        {
         "line": {
          "color": "blue"
         },
         "mode": "lines",
         "name": "Smoothed",
         "type": "scatter",
         "x": {
          "bdata": "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",
          "dtype": "i2"
         },
         "xaxis": "x",
         "y": {
          "bdata": "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",
          "dtype": "f8"
         },
         "yaxis": "y"
        },
        {
         "line": {
          "color": "green"
         },
         "mode": "lines",
         "name": "Original - Smoothed",
         "type": "scatter",
         "x": {
          "bdata": "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",
          "dtype": "i2"
         },
         "xaxis": "x2",
         "y": {
          "bdata": "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",
          "dtype": "f8"
         },
         "yaxis": "y2"
        }
       ],
       "layout": {
        "annotations": [
         {
          "font": {
           "size": 16
          },
          "showarrow": false,
          "text": "Process Temperature: Original vs Smoothed",
          "x": 0.5,
          "xanchor": "center",
          "xref": "paper",
          "y": 1,
          "yanchor": "bottom",
          "yref": "paper"
         },
         {
          "font": {
           "size": 16
          },
          "showarrow": false,
          "text": "Original - Smoothed Difference",
          "x": 0.5,
          "xanchor": "center",
          "xref": "paper",
          "y": 0.45,
          "yanchor": "bottom",
          "yref": "paper"
         }
        ],
        "height": 700,
        "template": {
         "data": {
          "bar": [
           {
            "error_x": {
             "color": "#2a3f5f"
            },
            "error_y": {
             "color": "#2a3f5f"
            },
            "marker": {
             "line": {
              "color": "#E5ECF6",
              "width": 0.5
             },
             "pattern": {
              "fillmode": "overlay",
              "size": 10,
              "solidity": 0.2
             }
            },
            "type": "bar"
           }
          ],
          "barpolar": [
           {
            "marker": {
             "line": {
              "color": "#E5ECF6",
              "width": 0.5
             },
             "pattern": {
              "fillmode": "overlay",
              "size": 10,
              "solidity": 0.2
             }
            },
            "type": "barpolar"
           }
          ],
          "carpet": [
           {
            "aaxis": {
             "endlinecolor": "#2a3f5f",
             "gridcolor": "white",
             "linecolor": "white",
             "minorgridcolor": "white",
             "startlinecolor": "#2a3f5f"
            },
            "baxis": {
             "endlinecolor": "#2a3f5f",
             "gridcolor": "white",
             "linecolor": "white",
             "minorgridcolor": "white",
             "startlinecolor": "#2a3f5f"
            },
            "type": "carpet"
           }
          ],
          "choropleth": [
           {
            "colorbar": {
             "outlinewidth": 0,
             "ticks": ""
            },
            "type": "choropleth"
           }
          ],
          "contour": [
           {
            "colorbar": {
             "outlinewidth": 0,
             "ticks": ""
            },
            "colorscale": [
             [
              0,
              "#0d0887"
             ],
             [
              0.1111111111111111,
              "#46039f"
             ],
             [
              0.2222222222222222,
              "#7201a8"
             ],
             [
              0.3333333333333333,
              "#9c179e"
             ],
             [
              0.4444444444444444,
              "#bd3786"
             ],
             [
              0.5555555555555556,
              "#d8576b"
             ],
             [
              0.6666666666666666,
              "#ed7953"
             ],
             [
              0.7777777777777778,
              "#fb9f3a"
             ],
             [
              0.8888888888888888,
              "#fdca26"
             ],
             [
              1,
              "#f0f921"
             ]
            ],
            "type": "contour"
           }
          ],
          "contourcarpet": [
           {
            "colorbar": {
             "outlinewidth": 0,
             "ticks": ""
            },
            "type": "contourcarpet"
           }
          ],
          "heatmap": [
           {
            "colorbar": {
             "outlinewidth": 0,
             "ticks": ""
            },
            "colorscale": [
             [
              0,
              "#0d0887"
             ],
             [
              0.1111111111111111,
              "#46039f"
             ],
             [
              0.2222222222222222,
              "#7201a8"
             ],
             [
              0.3333333333333333,
              "#9c179e"
             ],
             [
              0.4444444444444444,
              "#bd3786"
             ],
             [
              0.5555555555555556,
              "#d8576b"
             ],
             [
              0.6666666666666666,
              "#ed7953"
             ],
             [
              0.7777777777777778,
              "#fb9f3a"
             ],
             [
              0.8888888888888888,
              "#fdca26"
             ],
             [
              1,
              "#f0f921"
             ]
            ],
            "type": "heatmap"
           }
          ],
          "histogram": [
           {
            "marker": {
             "pattern": {
              "fillmode": "overlay",
              "size": 10,
              "solidity": 0.2
             }
            },
            "type": "histogram"
           }
          ],
          "histogram2d": [
           {
            "colorbar": {
             "outlinewidth": 0,
             "ticks": ""
            },
            "colorscale": [
             [
              0,
              "#0d0887"
             ],
             [
              0.1111111111111111,
              "#46039f"
             ],
             [
              0.2222222222222222,
              "#7201a8"
             ],
             [
              0.3333333333333333,
              "#9c179e"
             ],
             [
              0.4444444444444444,
              "#bd3786"
             ],
             [
              0.5555555555555556,
              "#d8576b"
             ],
             [
              0.6666666666666666,
              "#ed7953"
             ],
             [
              0.7777777777777778,
              "#fb9f3a"
             ],
             [
              0.8888888888888888,
              "#fdca26"
             ],
             [
              1,
              "#f0f921"
             ]
            ],
            "type": "histogram2d"
           }
          ],
          "histogram2dcontour": [
           {
            "colorbar": {
             "outlinewidth": 0,
             "ticks": ""
            },
            "colorscale": [
             [
              0,
              "#0d0887"
             ],
             [
              0.1111111111111111,
              "#46039f"
             ],
             [
              0.2222222222222222,
              "#7201a8"
             ],
             [
              0.3333333333333333,
              "#9c179e"
             ],
             [
              0.4444444444444444,
              "#bd3786"
             ],
             [
              0.5555555555555556,
              "#d8576b"
             ],
             [
              0.6666666666666666,
              "#ed7953"
             ],
             [
              0.7777777777777778,
              "#fb9f3a"
             ],
             [
              0.8888888888888888,
              "#fdca26"
             ],
             [
              1,
              "#f0f921"
             ]
            ],
            "type": "histogram2dcontour"
           }
          ],
          "mesh3d": [
           {
            "colorbar": {
             "outlinewidth": 0,
             "ticks": ""
            },
            "type": "mesh3d"
           }
          ],
          "parcoords": [
           {
            "line": {
             "colorbar": {
              "outlinewidth": 0,
              "ticks": ""
             }
            },
            "type": "parcoords"
           }
          ],
          "pie": [
           {
            "automargin": true,
            "type": "pie"
           }
          ],
          "scatter": [
           {
            "fillpattern": {
             "fillmode": "overlay",
             "size": 10,
             "solidity": 0.2
            },
            "type": "scatter"
           }
          ],
          "scatter3d": [
           {
            "line": {
             "colorbar": {
              "outlinewidth": 0,
              "ticks": ""
             }
            },
            "marker": {
             "colorbar": {
              "outlinewidth": 0,
              "ticks": ""
             }
            },
            "type": "scatter3d"
           }
          ],
          "scattercarpet": [
           {
            "marker": {
             "colorbar": {
              "outlinewidth": 0,
              "ticks": ""
             }
            },
            "type": "scattercarpet"
           }
          ],
          "scattergeo": [
           {
            "marker": {
             "colorbar": {
              "outlinewidth": 0,
              "ticks": ""
             }
            },
            "type": "scattergeo"
           }
          ],
          "scattergl": [
           {
            "marker": {
             "colorbar": {
              "outlinewidth": 0,
              "ticks": ""
             }
            },
            "type": "scattergl"
           }
          ],
          "scattermap": [
           {
            "marker": {
             "colorbar": {
              "outlinewidth": 0,
              "ticks": ""
             }
            },
            "type": "scattermap"
           }
          ],
          "scattermapbox": [
           {
            "marker": {
             "colorbar": {
              "outlinewidth": 0,
              "ticks": ""
             }
            },
            "type": "scattermapbox"
           }
          ],
          "scatterpolar": [
           {
            "marker": {
             "colorbar": {
              "outlinewidth": 0,
              "ticks": ""
             }
            },
            "type": "scatterpolar"
           }
          ],
          "scatterpolargl": [
           {
            "marker": {
             "colorbar": {
              "outlinewidth": 0,
              "ticks": ""
             }
            },
            "type": "scatterpolargl"
           }
          ],
          "scatterternary": [
           {
            "marker": {
             "colorbar": {
              "outlinewidth": 0,
              "ticks": ""
             }
            },
            "type": "scatterternary"
           }
          ],
          "surface": [
           {
            "colorbar": {
             "outlinewidth": 0,
             "ticks": ""
            },
            "colorscale": [
             [
              0,
              "#0d0887"
             ],
             [
              0.1111111111111111,
              "#46039f"
             ],
             [
              0.2222222222222222,
              "#7201a8"
             ],
             [
              0.3333333333333333,
              "#9c179e"
             ],
             [
              0.4444444444444444,
              "#bd3786"
             ],
             [
              0.5555555555555556,
              "#d8576b"
             ],
             [
              0.6666666666666666,
              "#ed7953"
             ],
             [
              0.7777777777777778,
              "#fb9f3a"
             ],
             [
              0.8888888888888888,
              "#fdca26"
             ],
             [
              1,
              "#f0f921"
             ]
            ],
            "type": "surface"
           }
          ],
          "table": [
           {
            "cells": {
             "fill": {
              "color": "#EBF0F8"
             },
             "line": {
              "color": "white"
             }
            },
            "header": {
             "fill": {
              "color": "#C8D4E3"
             },
             "line": {
              "color": "white"
             }
            },
            "type": "table"
           }
          ]
         },
         "layout": {
          "annotationdefaults": {
           "arrowcolor": "#2a3f5f",
           "arrowhead": 0,
           "arrowwidth": 1
          },
          "autotypenumbers": "strict",
          "coloraxis": {
           "colorbar": {
            "outlinewidth": 0,
            "ticks": ""
           }
          },
          "colorscale": {
           "diverging": [
            [
             0,
             "#8e0152"
            ],
            [
             0.1,
             "#c51b7d"
            ],
            [
             0.2,
             "#de77ae"
            ],
            [
             0.3,
             "#f1b6da"
            ],
            [
             0.4,
             "#fde0ef"
            ],
            [
             0.5,
             "#f7f7f7"
            ],
            [
             0.6,
             "#e6f5d0"
            ],
            [
             0.7,
             "#b8e186"
            ],
            [
             0.8,
             "#7fbc41"
            ],
            [
             0.9,
             "#4d9221"
            ],
            [
             1,
             "#276419"
            ]
           ],
           "sequential": [
            [
             0,
             "#0d0887"
            ],
            [
             0.1111111111111111,
             "#46039f"
            ],
            [
             0.2222222222222222,
             "#7201a8"
            ],
            [
             0.3333333333333333,
             "#9c179e"
            ],
            [
             0.4444444444444444,
             "#bd3786"
            ],
            [
             0.5555555555555556,
             "#d8576b"
            ],
            [
             0.6666666666666666,
             "#ed7953"
            ],
            [
             0.7777777777777778,
             "#fb9f3a"
            ],
            [
             0.8888888888888888,
             "#fdca26"
            ],
            [
             1,
             "#f0f921"
            ]
           ],
           "sequentialminus": [
            [
             0,
             "#0d0887"
            ],
            [
             0.1111111111111111,
             "#46039f"
            ],
            [
             0.2222222222222222,
             "#7201a8"
            ],
            [
             0.3333333333333333,
             "#9c179e"
            ],
            [
             0.4444444444444444,
             "#bd3786"
            ],
            [
             0.5555555555555556,
             "#d8576b"
            ],
            [
             0.6666666666666666,
             "#ed7953"
            ],
            [
             0.7777777777777778,
             "#fb9f3a"
            ],
            [
             0.8888888888888888,
             "#fdca26"
            ],
            [
             1,
             "#f0f921"
            ]
           ]
          },
          "colorway": [
           "#636efa",
           "#EF553B",
           "#00cc96",
           "#ab63fa",
           "#FFA15A",
           "#19d3f3",
           "#FF6692",
           "#B6E880",
           "#FF97FF",
           "#FECB52"
          ],
          "font": {
           "color": "#2a3f5f"
          },
          "geo": {
           "bgcolor": "white",
           "lakecolor": "white",
           "landcolor": "#E5ECF6",
           "showlakes": true,
           "showland": true,
           "subunitcolor": "white"
          },
          "hoverlabel": {
           "align": "left"
          },
          "hovermode": "closest",
          "mapbox": {
           "style": "light"
          },
          "paper_bgcolor": "white",
          "plot_bgcolor": "#E5ECF6",
          "polar": {
           "angularaxis": {
            "gridcolor": "white",
            "linecolor": "white",
            "ticks": ""
           },
           "bgcolor": "#E5ECF6",
           "radialaxis": {
            "gridcolor": "white",
            "linecolor": "white",
            "ticks": ""
           }
          },
          "scene": {
           "xaxis": {
            "backgroundcolor": "#E5ECF6",
            "gridcolor": "white",
            "gridwidth": 2,
            "linecolor": "white",
            "showbackground": true,
            "ticks": "",
            "zerolinecolor": "white"
           },
           "yaxis": {
            "backgroundcolor": "#E5ECF6",
            "gridcolor": "white",
            "gridwidth": 2,
            "linecolor": "white",
            "showbackground": true,
            "ticks": "",
            "zerolinecolor": "white"
           },
           "zaxis": {
            "backgroundcolor": "#E5ECF6",
            "gridcolor": "white",
            "gridwidth": 2,
            "linecolor": "white",
            "showbackground": true,
            "ticks": "",
            "zerolinecolor": "white"
           }
          },
          "shapedefaults": {
           "line": {
            "color": "#2a3f5f"
           }
          },
          "ternary": {
           "aaxis": {
            "gridcolor": "white",
            "linecolor": "white",
            "ticks": ""
           },
           "baxis": {
            "gridcolor": "white",
            "linecolor": "white",
            "ticks": ""
           },
           "bgcolor": "#E5ECF6",
           "caxis": {
            "gridcolor": "white",
            "linecolor": "white",
            "ticks": ""
           }
          },
          "title": {
           "x": 0.05
          },
          "xaxis": {
           "automargin": true,
           "gridcolor": "white",
           "linecolor": "white",
           "ticks": "",
           "title": {
            "standoff": 15
           },
           "zerolinecolor": "white",
           "zerolinewidth": 2
          },
          "yaxis": {
           "automargin": true,
           "gridcolor": "white",
           "linecolor": "white",
           "ticks": "",
           "title": {
            "standoff": 15
           },
           "zerolinecolor": "white",
           "zerolinewidth": 2
          }
         }
        },
        "title": {
         "text": "Process Temperature: Original, Smoothed, and Difference"
        },
        "xaxis": {
         "anchor": "y",
         "domain": [
          0,
          1
         ],
         "matches": "x2",
         "showticklabels": false,
         "title": {
          "text": "UDI"
         }
        },
        "xaxis2": {
         "anchor": "y2",
         "domain": [
          0,
          1
         ]
        },
        "yaxis": {
         "anchor": "x",
         "domain": [
          0.55,
          1
         ],
         "title": {
          "text": "Process Temperature [K]"
         }
        },
        "yaxis2": {
         "anchor": "x2",
         "domain": [
          0,
          0.45
         ],
         "title": {
          "text": "Difference"
         }
        }
       }
      }
     },
     "metadata": {},
     "output_type": "display_data"
    }
   ],
   "source": [
    "dftemp[\"temp_mean_rolling3\"] = dftemp[\"process_temperature_K\"].rolling(window=3, center=True).mean()\n",
    "plot_smoothed_temperature_data(dftemp, smoothed_column=\"temp_mean_rolling3\")"
   ]
  },
  {
   "cell_type": "code",
   "execution_count": 13,
   "id": "b4ed1d09",
   "metadata": {},
   "outputs": [
    {
     "data": {
      "application/vnd.plotly.v1+json": {
       "config": {
        "plotlyServerURL": "https://plot.ly"
       },
       "data": [
        {
         "line": {
          "color": "lightgrey"
         },
         "mode": "lines",
         "name": "Original",
         "type": "scatter",
         "x": {
          "bdata": "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",
          "dtype": "i2"
         },
         "xaxis": "x",
         "y": {
          "bdata": "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",
          "dtype": "f8"
         },
         "yaxis": "y"
        },
        {
         "line": {
          "color": "blue"
         },
         "mode": "lines",
         "name": "Smoothed",
         "type": "scatter",
         "x": {
          "bdata": "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",
          "dtype": "i2"
         },
         "xaxis": "x",
         "y": {
          "bdata": "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",
          "dtype": "f8"
         },
         "yaxis": "y"
        },
        {
         "line": {
          "color": "green"
         },
         "mode": "lines",
         "name": "Original - Smoothed",
         "type": "scatter",
         "x": {
          "bdata": "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",
          "dtype": "i2"
         },
         "xaxis": "x2",
         "y": {
          "bdata": "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",
          "dtype": "f8"
         },
         "yaxis": "y2"
        }
       ],
       "layout": {
        "annotations": [
         {
          "font": {
           "size": 16
          },
          "showarrow": false,
          "text": "Process Temperature: Original vs Smoothed",
          "x": 0.5,
          "xanchor": "center",
          "xref": "paper",
          "y": 1,
          "yanchor": "bottom",
          "yref": "paper"
         },
         {
          "font": {
           "size": 16
          },
          "showarrow": false,
          "text": "Original - Smoothed Difference",
          "x": 0.5,
          "xanchor": "center",
          "xref": "paper",
          "y": 0.45,
          "yanchor": "bottom",
          "yref": "paper"
         }
        ],
        "height": 700,
        "template": {
         "data": {
          "bar": [
           {
            "error_x": {
             "color": "#2a3f5f"
            },
            "error_y": {
             "color": "#2a3f5f"
            },
            "marker": {
             "line": {
              "color": "#E5ECF6",
              "width": 0.5
             },
             "pattern": {
              "fillmode": "overlay",
              "size": 10,
              "solidity": 0.2
             }
            },
            "type": "bar"
           }
          ],
          "barpolar": [
           {
            "marker": {
             "line": {
              "color": "#E5ECF6",
              "width": 0.5
             },
             "pattern": {
              "fillmode": "overlay",
              "size": 10,
              "solidity": 0.2
             }
            },
            "type": "barpolar"
           }
          ],
          "carpet": [
           {
            "aaxis": {
             "endlinecolor": "#2a3f5f",
             "gridcolor": "white",
             "linecolor": "white",
             "minorgridcolor": "white",
             "startlinecolor": "#2a3f5f"
            },
            "baxis": {
             "endlinecolor": "#2a3f5f",
             "gridcolor": "white",
             "linecolor": "white",
             "minorgridcolor": "white",
             "startlinecolor": "#2a3f5f"
            },
            "type": "carpet"
           }
          ],
          "choropleth": [
           {
            "colorbar": {
             "outlinewidth": 0,
             "ticks": ""
            },
            "type": "choropleth"
           }
          ],
          "contour": [
           {
            "colorbar": {
             "outlinewidth": 0,
             "ticks": ""
            },
            "colorscale": [
             [
              0,
              "#0d0887"
             ],
             [
              0.1111111111111111,
              "#46039f"
             ],
             [
              0.2222222222222222,
              "#7201a8"
             ],
             [
              0.3333333333333333,
              "#9c179e"
             ],
             [
              0.4444444444444444,
              "#bd3786"
             ],
             [
              0.5555555555555556,
              "#d8576b"
             ],
             [
              0.6666666666666666,
              "#ed7953"
             ],
             [
              0.7777777777777778,
              "#fb9f3a"
             ],
             [
              0.8888888888888888,
              "#fdca26"
             ],
             [
              1,
              "#f0f921"
             ]
            ],
            "type": "contour"
           }
          ],
          "contourcarpet": [
           {
            "colorbar": {
             "outlinewidth": 0,
             "ticks": ""
            },
            "type": "contourcarpet"
           }
          ],
          "heatmap": [
           {
            "colorbar": {
             "outlinewidth": 0,
             "ticks": ""
            },
            "colorscale": [
             [
              0,
              "#0d0887"
             ],
             [
              0.1111111111111111,
              "#46039f"
             ],
             [
              0.2222222222222222,
              "#7201a8"
             ],
             [
              0.3333333333333333,
              "#9c179e"
             ],
             [
              0.4444444444444444,
              "#bd3786"
             ],
             [
              0.5555555555555556,
              "#d8576b"
             ],
             [
              0.6666666666666666,
              "#ed7953"
             ],
             [
              0.7777777777777778,
              "#fb9f3a"
             ],
             [
              0.8888888888888888,
              "#fdca26"
             ],
             [
              1,
              "#f0f921"
             ]
            ],
            "type": "heatmap"
           }
          ],
          "histogram": [
           {
            "marker": {
             "pattern": {
              "fillmode": "overlay",
              "size": 10,
              "solidity": 0.2
             }
            },
            "type": "histogram"
           }
          ],
          "histogram2d": [
           {
            "colorbar": {
             "outlinewidth": 0,
             "ticks": ""
            },
            "colorscale": [
             [
              0,
              "#0d0887"
             ],
             [
              0.1111111111111111,
              "#46039f"
             ],
             [
              0.2222222222222222,
              "#7201a8"
             ],
             [
              0.3333333333333333,
              "#9c179e"
             ],
             [
              0.4444444444444444,
              "#bd3786"
             ],
             [
              0.5555555555555556,
              "#d8576b"
             ],
             [
              0.6666666666666666,
              "#ed7953"
             ],
             [
              0.7777777777777778,
              "#fb9f3a"
             ],
             [
              0.8888888888888888,
              "#fdca26"
             ],
             [
              1,
              "#f0f921"
             ]
            ],
            "type": "histogram2d"
           }
          ],
          "histogram2dcontour": [
           {
            "colorbar": {
             "outlinewidth": 0,
             "ticks": ""
            },
            "colorscale": [
             [
              0,
              "#0d0887"
             ],
             [
              0.1111111111111111,
              "#46039f"
             ],
             [
              0.2222222222222222,
              "#7201a8"
             ],
             [
              0.3333333333333333,
              "#9c179e"
             ],
             [
              0.4444444444444444,
              "#bd3786"
             ],
             [
              0.5555555555555556,
              "#d8576b"
             ],
             [
              0.6666666666666666,
              "#ed7953"
             ],
             [
              0.7777777777777778,
              "#fb9f3a"
             ],
             [
              0.8888888888888888,
              "#fdca26"
             ],
             [
              1,
              "#f0f921"
             ]
            ],
            "type": "histogram2dcontour"
           }
          ],
          "mesh3d": [
           {
            "colorbar": {
             "outlinewidth": 0,
             "ticks": ""
            },
            "type": "mesh3d"
           }
          ],
          "parcoords": [
           {
            "line": {
             "colorbar": {
              "outlinewidth": 0,
              "ticks": ""
             }
            },
            "type": "parcoords"
           }
          ],
          "pie": [
           {
            "automargin": true,
            "type": "pie"
           }
          ],
          "scatter": [
           {
            "fillpattern": {
             "fillmode": "overlay",
             "size": 10,
             "solidity": 0.2
            },
            "type": "scatter"
           }
          ],
          "scatter3d": [
           {
            "line": {
             "colorbar": {
              "outlinewidth": 0,
              "ticks": ""
             }
            },
            "marker": {
             "colorbar": {
              "outlinewidth": 0,
              "ticks": ""
             }
            },
            "type": "scatter3d"
           }
          ],
          "scattercarpet": [
           {
            "marker": {
             "colorbar": {
              "outlinewidth": 0,
              "ticks": ""
             }
            },
            "type": "scattercarpet"
           }
          ],
          "scattergeo": [
           {
            "marker": {
             "colorbar": {
              "outlinewidth": 0,
              "ticks": ""
             }
            },
            "type": "scattergeo"
           }
          ],
          "scattergl": [
           {
            "marker": {
             "colorbar": {
              "outlinewidth": 0,
              "ticks": ""
             }
            },
            "type": "scattergl"
           }
          ],
          "scattermap": [
           {
            "marker": {
             "colorbar": {
              "outlinewidth": 0,
              "ticks": ""
             }
            },
            "type": "scattermap"
           }
          ],
          "scattermapbox": [
           {
            "marker": {
             "colorbar": {
              "outlinewidth": 0,
              "ticks": ""
             }
            },
            "type": "scattermapbox"
           }
          ],
          "scatterpolar": [
           {
            "marker": {
             "colorbar": {
              "outlinewidth": 0,
              "ticks": ""
             }
            },
            "type": "scatterpolar"
           }
          ],
          "scatterpolargl": [
           {
            "marker": {
             "colorbar": {
              "outlinewidth": 0,
              "ticks": ""
             }
            },
            "type": "scatterpolargl"
           }
          ],
          "scatterternary": [
           {
            "marker": {
             "colorbar": {
              "outlinewidth": 0,
              "ticks": ""
             }
            },
            "type": "scatterternary"
           }
          ],
          "surface": [
           {
            "colorbar": {
             "outlinewidth": 0,
             "ticks": ""
            },
            "colorscale": [
             [
              0,
              "#0d0887"
             ],
             [
              0.1111111111111111,
              "#46039f"
             ],
             [
              0.2222222222222222,
              "#7201a8"
             ],
             [
              0.3333333333333333,
              "#9c179e"
             ],
             [
              0.4444444444444444,
              "#bd3786"
             ],
             [
              0.5555555555555556,
              "#d8576b"
             ],
             [
              0.6666666666666666,
              "#ed7953"
             ],
             [
              0.7777777777777778,
              "#fb9f3a"
             ],
             [
              0.8888888888888888,
              "#fdca26"
             ],
             [
              1,
              "#f0f921"
             ]
            ],
            "type": "surface"
           }
          ],
          "table": [
           {
            "cells": {
             "fill": {
              "color": "#EBF0F8"
             },
             "line": {
              "color": "white"
             }
            },
            "header": {
             "fill": {
              "color": "#C8D4E3"
             },
             "line": {
              "color": "white"
             }
            },
            "type": "table"
           }
          ]
         },
         "layout": {
          "annotationdefaults": {
           "arrowcolor": "#2a3f5f",
           "arrowhead": 0,
           "arrowwidth": 1
          },
          "autotypenumbers": "strict",
          "coloraxis": {
           "colorbar": {
            "outlinewidth": 0,
            "ticks": ""
           }
          },
          "colorscale": {
           "diverging": [
            [
             0,
             "#8e0152"
            ],
            [
             0.1,
             "#c51b7d"
            ],
            [
             0.2,
             "#de77ae"
            ],
            [
             0.3,
             "#f1b6da"
            ],
            [
             0.4,
             "#fde0ef"
            ],
            [
             0.5,
             "#f7f7f7"
            ],
            [
             0.6,
             "#e6f5d0"
            ],
            [
             0.7,
             "#b8e186"
            ],
            [
             0.8,
             "#7fbc41"
            ],
            [
             0.9,
             "#4d9221"
            ],
            [
             1,
             "#276419"
            ]
           ],
           "sequential": [
            [
             0,
             "#0d0887"
            ],
            [
             0.1111111111111111,
             "#46039f"
            ],
            [
             0.2222222222222222,
             "#7201a8"
            ],
            [
             0.3333333333333333,
             "#9c179e"
            ],
            [
             0.4444444444444444,
             "#bd3786"
            ],
            [
             0.5555555555555556,
             "#d8576b"
            ],
            [
             0.6666666666666666,
             "#ed7953"
            ],
            [
             0.7777777777777778,
             "#fb9f3a"
            ],
            [
             0.8888888888888888,
             "#fdca26"
            ],
            [
             1,
             "#f0f921"
            ]
           ],
           "sequentialminus": [
            [
             0,
             "#0d0887"
            ],
            [
             0.1111111111111111,
             "#46039f"
            ],
            [
             0.2222222222222222,
             "#7201a8"
            ],
            [
             0.3333333333333333,
             "#9c179e"
            ],
            [
             0.4444444444444444,
             "#bd3786"
            ],
            [
             0.5555555555555556,
             "#d8576b"
            ],
            [
             0.6666666666666666,
             "#ed7953"
            ],
            [
             0.7777777777777778,
             "#fb9f3a"
            ],
            [
             0.8888888888888888,
             "#fdca26"
            ],
            [
             1,
             "#f0f921"
            ]
           ]
          },
          "colorway": [
           "#636efa",
           "#EF553B",
           "#00cc96",
           "#ab63fa",
           "#FFA15A",
           "#19d3f3",
           "#FF6692",
           "#B6E880",
           "#FF97FF",
           "#FECB52"
          ],
          "font": {
           "color": "#2a3f5f"
          },
          "geo": {
           "bgcolor": "white",
           "lakecolor": "white",
           "landcolor": "#E5ECF6",
           "showlakes": true,
           "showland": true,
           "subunitcolor": "white"
          },
          "hoverlabel": {
           "align": "left"
          },
          "hovermode": "closest",
          "mapbox": {
           "style": "light"
          },
          "paper_bgcolor": "white",
          "plot_bgcolor": "#E5ECF6",
          "polar": {
           "angularaxis": {
            "gridcolor": "white",
            "linecolor": "white",
            "ticks": ""
           },
           "bgcolor": "#E5ECF6",
           "radialaxis": {
            "gridcolor": "white",
            "linecolor": "white",
            "ticks": ""
           }
          },
          "scene": {
           "xaxis": {
            "backgroundcolor": "#E5ECF6",
            "gridcolor": "white",
            "gridwidth": 2,
            "linecolor": "white",
            "showbackground": true,
            "ticks": "",
            "zerolinecolor": "white"
           },
           "yaxis": {
            "backgroundcolor": "#E5ECF6",
            "gridcolor": "white",
            "gridwidth": 2,
            "linecolor": "white",
            "showbackground": true,
            "ticks": "",
            "zerolinecolor": "white"
           },
           "zaxis": {
            "backgroundcolor": "#E5ECF6",
            "gridcolor": "white",
            "gridwidth": 2,
            "linecolor": "white",
            "showbackground": true,
            "ticks": "",
            "zerolinecolor": "white"
           }
          },
          "shapedefaults": {
           "line": {
            "color": "#2a3f5f"
           }
          },
          "ternary": {
           "aaxis": {
            "gridcolor": "white",
            "linecolor": "white",
            "ticks": ""
           },
           "baxis": {
            "gridcolor": "white",
            "linecolor": "white",
            "ticks": ""
           },
           "bgcolor": "#E5ECF6",
           "caxis": {
            "gridcolor": "white",
            "linecolor": "white",
            "ticks": ""
           }
          },
          "title": {
           "x": 0.05
          },
          "xaxis": {
           "automargin": true,
           "gridcolor": "white",
           "linecolor": "white",
           "ticks": "",
           "title": {
            "standoff": 15
           },
           "zerolinecolor": "white",
           "zerolinewidth": 2
          },
          "yaxis": {
           "automargin": true,
           "gridcolor": "white",
           "linecolor": "white",
           "ticks": "",
           "title": {
            "standoff": 15
           },
           "zerolinecolor": "white",
           "zerolinewidth": 2
          }
         }
        },
        "title": {
         "text": "Process Temperature: Original, Smoothed, and Difference"
        },
        "xaxis": {
         "anchor": "y",
         "domain": [
          0,
          1
         ],
         "matches": "x2",
         "showticklabels": false,
         "title": {
          "text": "UDI"
         }
        },
        "xaxis2": {
         "anchor": "y2",
         "domain": [
          0,
          1
         ]
        },
        "yaxis": {
         "anchor": "x",
         "domain": [
          0.55,
          1
         ],
         "title": {
          "text": "Process Temperature [K]"
         }
        },
        "yaxis2": {
         "anchor": "x2",
         "domain": [
          0,
          0.45
         ],
         "title": {
          "text": "Difference"
         }
        }
       }
      }
     },
     "metadata": {},
     "output_type": "display_data"
    }
   ],
   "source": [
    "dftemp[\"temp_mean_rolling5\"] = dftemp[\"process_temperature_K\"].rolling(window=5, center=True).mean()\n",
    "plot_smoothed_temperature_data(dftemp, smoothed_column=\"temp_mean_rolling5\")"
   ]
  },
  {
   "cell_type": "code",
   "execution_count": 14,
   "id": "7ca7c626",
   "metadata": {},
   "outputs": [
    {
     "data": {
      "application/vnd.plotly.v1+json": {
       "config": {
        "plotlyServerURL": "https://plot.ly"
       },
       "data": [
        {
         "line": {
          "color": "lightgrey"
         },
         "mode": "lines",
         "name": "Original",
         "type": "scatter",
         "x": {
          "bdata": "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",
          "dtype": "i2"
         },
         "xaxis": "x",
         "y": {
          "bdata": "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",
          "dtype": "f8"
         },
         "yaxis": "y"
        },
        {
         "line": {
          "color": "blue"
         },
         "mode": "lines",
         "name": "Smoothed",
         "type": "scatter",
         "x": {
          "bdata": "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",
          "dtype": "i2"
         },
         "xaxis": "x",
         "y": {
          "bdata": "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",
          "dtype": "f8"
         },
         "yaxis": "y"
        },
        {
         "line": {
          "color": "green"
         },
         "mode": "lines",
         "name": "Original - Smoothed",
         "type": "scatter",
         "x": {
          "bdata": "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",
          "dtype": "i2"
         },
         "xaxis": "x2",
         "y": {
          "bdata": "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",
          "dtype": "f8"
         },
         "yaxis": "y2"
        }
       ],
       "layout": {
        "annotations": [
         {
          "font": {
           "size": 16
          },
          "showarrow": false,
          "text": "Process Temperature: Original vs Smoothed",
          "x": 0.5,
          "xanchor": "center",
          "xref": "paper",
          "y": 1,
          "yanchor": "bottom",
          "yref": "paper"
         },
         {
          "font": {
           "size": 16
          },
          "showarrow": false,
          "text": "Original - Smoothed Difference",
          "x": 0.5,
          "xanchor": "center",
          "xref": "paper",
          "y": 0.45,
          "yanchor": "bottom",
          "yref": "paper"
         }
        ],
        "height": 700,
        "template": {
         "data": {
          "bar": [
           {
            "error_x": {
             "color": "#2a3f5f"
            },
            "error_y": {
             "color": "#2a3f5f"
            },
            "marker": {
             "line": {
              "color": "#E5ECF6",
              "width": 0.5
             },
             "pattern": {
              "fillmode": "overlay",
              "size": 10,
              "solidity": 0.2
             }
            },
            "type": "bar"
           }
          ],
          "barpolar": [
           {
            "marker": {
             "line": {
              "color": "#E5ECF6",
              "width": 0.5
             },
             "pattern": {
              "fillmode": "overlay",
              "size": 10,
              "solidity": 0.2
             }
            },
            "type": "barpolar"
           }
          ],
          "carpet": [
           {
            "aaxis": {
             "endlinecolor": "#2a3f5f",
             "gridcolor": "white",
             "linecolor": "white",
             "minorgridcolor": "white",
             "startlinecolor": "#2a3f5f"
            },
            "baxis": {
             "endlinecolor": "#2a3f5f",
             "gridcolor": "white",
             "linecolor": "white",
             "minorgridcolor": "white",
             "startlinecolor": "#2a3f5f"
            },
            "type": "carpet"
           }
          ],
          "choropleth": [
           {
            "colorbar": {
             "outlinewidth": 0,
             "ticks": ""
            },
            "type": "choropleth"
           }
          ],
          "contour": [
           {
            "colorbar": {
             "outlinewidth": 0,
             "ticks": ""
            },
            "colorscale": [
             [
              0,
              "#0d0887"
             ],
             [
              0.1111111111111111,
              "#46039f"
             ],
             [
              0.2222222222222222,
              "#7201a8"
             ],
             [
              0.3333333333333333,
              "#9c179e"
             ],
             [
              0.4444444444444444,
              "#bd3786"
             ],
             [
              0.5555555555555556,
              "#d8576b"
             ],
             [
              0.6666666666666666,
              "#ed7953"
             ],
             [
              0.7777777777777778,
              "#fb9f3a"
             ],
             [
              0.8888888888888888,
              "#fdca26"
             ],
             [
              1,
              "#f0f921"
             ]
            ],
            "type": "contour"
           }
          ],
          "contourcarpet": [
           {
            "colorbar": {
             "outlinewidth": 0,
             "ticks": ""
            },
            "type": "contourcarpet"
           }
          ],
          "heatmap": [
           {
            "colorbar": {
             "outlinewidth": 0,
             "ticks": ""
            },
            "colorscale": [
             [
              0,
              "#0d0887"
             ],
             [
              0.1111111111111111,
              "#46039f"
             ],
             [
              0.2222222222222222,
              "#7201a8"
             ],
             [
              0.3333333333333333,
              "#9c179e"
             ],
             [
              0.4444444444444444,
              "#bd3786"
             ],
             [
              0.5555555555555556,
              "#d8576b"
             ],
             [
              0.6666666666666666,
              "#ed7953"
             ],
             [
              0.7777777777777778,
              "#fb9f3a"
             ],
             [
              0.8888888888888888,
              "#fdca26"
             ],
             [
              1,
              "#f0f921"
             ]
            ],
            "type": "heatmap"
           }
          ],
          "histogram": [
           {
            "marker": {
             "pattern": {
              "fillmode": "overlay",
              "size": 10,
              "solidity": 0.2
             }
            },
            "type": "histogram"
           }
          ],
          "histogram2d": [
           {
            "colorbar": {
             "outlinewidth": 0,
             "ticks": ""
            },
            "colorscale": [
             [
              0,
              "#0d0887"
             ],
             [
              0.1111111111111111,
              "#46039f"
             ],
             [
              0.2222222222222222,
              "#7201a8"
             ],
             [
              0.3333333333333333,
              "#9c179e"
             ],
             [
              0.4444444444444444,
              "#bd3786"
             ],
             [
              0.5555555555555556,
              "#d8576b"
             ],
             [
              0.6666666666666666,
              "#ed7953"
             ],
             [
              0.7777777777777778,
              "#fb9f3a"
             ],
             [
              0.8888888888888888,
              "#fdca26"
             ],
             [
              1,
              "#f0f921"
             ]
            ],
            "type": "histogram2d"
           }
          ],
          "histogram2dcontour": [
           {
            "colorbar": {
             "outlinewidth": 0,
             "ticks": ""
            },
            "colorscale": [
             [
              0,
              "#0d0887"
             ],
             [
              0.1111111111111111,
              "#46039f"
             ],
             [
              0.2222222222222222,
              "#7201a8"
             ],
             [
              0.3333333333333333,
              "#9c179e"
             ],
             [
              0.4444444444444444,
              "#bd3786"
             ],
             [
              0.5555555555555556,
              "#d8576b"
             ],
             [
              0.6666666666666666,
              "#ed7953"
             ],
             [
              0.7777777777777778,
              "#fb9f3a"
             ],
             [
              0.8888888888888888,
              "#fdca26"
             ],
             [
              1,
              "#f0f921"
             ]
            ],
            "type": "histogram2dcontour"
           }
          ],
          "mesh3d": [
           {
            "colorbar": {
             "outlinewidth": 0,
             "ticks": ""
            },
            "type": "mesh3d"
           }
          ],
          "parcoords": [
           {
            "line": {
             "colorbar": {
              "outlinewidth": 0,
              "ticks": ""
             }
            },
            "type": "parcoords"
           }
          ],
          "pie": [
           {
            "automargin": true,
            "type": "pie"
           }
          ],
          "scatter": [
           {
            "fillpattern": {
             "fillmode": "overlay",
             "size": 10,
             "solidity": 0.2
            },
            "type": "scatter"
           }
          ],
          "scatter3d": [
           {
            "line": {
             "colorbar": {
              "outlinewidth": 0,
              "ticks": ""
             }
            },
            "marker": {
             "colorbar": {
              "outlinewidth": 0,
              "ticks": ""
             }
            },
            "type": "scatter3d"
           }
          ],
          "scattercarpet": [
           {
            "marker": {
             "colorbar": {
              "outlinewidth": 0,
              "ticks": ""
             }
            },
            "type": "scattercarpet"
           }
          ],
          "scattergeo": [
           {
            "marker": {
             "colorbar": {
              "outlinewidth": 0,
              "ticks": ""
             }
            },
            "type": "scattergeo"
           }
          ],
          "scattergl": [
           {
            "marker": {
             "colorbar": {
              "outlinewidth": 0,
              "ticks": ""
             }
            },
            "type": "scattergl"
           }
          ],
          "scattermap": [
           {
            "marker": {
             "colorbar": {
              "outlinewidth": 0,
              "ticks": ""
             }
            },
            "type": "scattermap"
           }
          ],
          "scattermapbox": [
           {
            "marker": {
             "colorbar": {
              "outlinewidth": 0,
              "ticks": ""
             }
            },
            "type": "scattermapbox"
           }
          ],
          "scatterpolar": [
           {
            "marker": {
             "colorbar": {
              "outlinewidth": 0,
              "ticks": ""
             }
            },
            "type": "scatterpolar"
           }
          ],
          "scatterpolargl": [
           {
            "marker": {
             "colorbar": {
              "outlinewidth": 0,
              "ticks": ""
             }
            },
            "type": "scatterpolargl"
           }
          ],
          "scatterternary": [
           {
            "marker": {
             "colorbar": {
              "outlinewidth": 0,
              "ticks": ""
             }
            },
            "type": "scatterternary"
           }
          ],
          "surface": [
           {
            "colorbar": {
             "outlinewidth": 0,
             "ticks": ""
            },
            "colorscale": [
             [
              0,
              "#0d0887"
             ],
             [
              0.1111111111111111,
              "#46039f"
             ],
             [
              0.2222222222222222,
              "#7201a8"
             ],
             [
              0.3333333333333333,
              "#9c179e"
             ],
             [
              0.4444444444444444,
              "#bd3786"
             ],
             [
              0.5555555555555556,
              "#d8576b"
             ],
             [
              0.6666666666666666,
              "#ed7953"
             ],
             [
              0.7777777777777778,
              "#fb9f3a"
             ],
             [
              0.8888888888888888,
              "#fdca26"
             ],
             [
              1,
              "#f0f921"
             ]
            ],
            "type": "surface"
           }
          ],
          "table": [
           {
            "cells": {
             "fill": {
              "color": "#EBF0F8"
             },
             "line": {
              "color": "white"
             }
            },
            "header": {
             "fill": {
              "color": "#C8D4E3"
             },
             "line": {
              "color": "white"
             }
            },
            "type": "table"
           }
          ]
         },
         "layout": {
          "annotationdefaults": {
           "arrowcolor": "#2a3f5f",
           "arrowhead": 0,
           "arrowwidth": 1
          },
          "autotypenumbers": "strict",
          "coloraxis": {
           "colorbar": {
            "outlinewidth": 0,
            "ticks": ""
           }
          },
          "colorscale": {
           "diverging": [
            [
             0,
             "#8e0152"
            ],
            [
             0.1,
             "#c51b7d"
            ],
            [
             0.2,
             "#de77ae"
            ],
            [
             0.3,
             "#f1b6da"
            ],
            [
             0.4,
             "#fde0ef"
            ],
            [
             0.5,
             "#f7f7f7"
            ],
            [
             0.6,
             "#e6f5d0"
            ],
            [
             0.7,
             "#b8e186"
            ],
            [
             0.8,
             "#7fbc41"
            ],
            [
             0.9,
             "#4d9221"
            ],
            [
             1,
             "#276419"
            ]
           ],
           "sequential": [
            [
             0,
             "#0d0887"
            ],
            [
             0.1111111111111111,
             "#46039f"
            ],
            [
             0.2222222222222222,
             "#7201a8"
            ],
            [
             0.3333333333333333,
             "#9c179e"
            ],
            [
             0.4444444444444444,
             "#bd3786"
            ],
            [
             0.5555555555555556,
             "#d8576b"
            ],
            [
             0.6666666666666666,
             "#ed7953"
            ],
            [
             0.7777777777777778,
             "#fb9f3a"
            ],
            [
             0.8888888888888888,
             "#fdca26"
            ],
            [
             1,
             "#f0f921"
            ]
           ],
           "sequentialminus": [
            [
             0,
             "#0d0887"
            ],
            [
             0.1111111111111111,
             "#46039f"
            ],
            [
             0.2222222222222222,
             "#7201a8"
            ],
            [
             0.3333333333333333,
             "#9c179e"
            ],
            [
             0.4444444444444444,
             "#bd3786"
            ],
            [
             0.5555555555555556,
             "#d8576b"
            ],
            [
             0.6666666666666666,
             "#ed7953"
            ],
            [
             0.7777777777777778,
             "#fb9f3a"
            ],
            [
             0.8888888888888888,
             "#fdca26"
            ],
            [
             1,
             "#f0f921"
            ]
           ]
          },
          "colorway": [
           "#636efa",
           "#EF553B",
           "#00cc96",
           "#ab63fa",
           "#FFA15A",
           "#19d3f3",
           "#FF6692",
           "#B6E880",
           "#FF97FF",
           "#FECB52"
          ],
          "font": {
           "color": "#2a3f5f"
          },
          "geo": {
           "bgcolor": "white",
           "lakecolor": "white",
           "landcolor": "#E5ECF6",
           "showlakes": true,
           "showland": true,
           "subunitcolor": "white"
          },
          "hoverlabel": {
           "align": "left"
          },
          "hovermode": "closest",
          "mapbox": {
           "style": "light"
          },
          "paper_bgcolor": "white",
          "plot_bgcolor": "#E5ECF6",
          "polar": {
           "angularaxis": {
            "gridcolor": "white",
            "linecolor": "white",
            "ticks": ""
           },
           "bgcolor": "#E5ECF6",
           "radialaxis": {
            "gridcolor": "white",
            "linecolor": "white",
            "ticks": ""
           }
          },
          "scene": {
           "xaxis": {
            "backgroundcolor": "#E5ECF6",
            "gridcolor": "white",
            "gridwidth": 2,
            "linecolor": "white",
            "showbackground": true,
            "ticks": "",
            "zerolinecolor": "white"
           },
           "yaxis": {
            "backgroundcolor": "#E5ECF6",
            "gridcolor": "white",
            "gridwidth": 2,
            "linecolor": "white",
            "showbackground": true,
            "ticks": "",
            "zerolinecolor": "white"
           },
           "zaxis": {
            "backgroundcolor": "#E5ECF6",
            "gridcolor": "white",
            "gridwidth": 2,
            "linecolor": "white",
            "showbackground": true,
            "ticks": "",
            "zerolinecolor": "white"
           }
          },
          "shapedefaults": {
           "line": {
            "color": "#2a3f5f"
           }
          },
          "ternary": {
           "aaxis": {
            "gridcolor": "white",
            "linecolor": "white",
            "ticks": ""
           },
           "baxis": {
            "gridcolor": "white",
            "linecolor": "white",
            "ticks": ""
           },
           "bgcolor": "#E5ECF6",
           "caxis": {
            "gridcolor": "white",
            "linecolor": "white",
            "ticks": ""
           }
          },
          "title": {
           "x": 0.05
          },
          "xaxis": {
           "automargin": true,
           "gridcolor": "white",
           "linecolor": "white",
           "ticks": "",
           "title": {
            "standoff": 15
           },
           "zerolinecolor": "white",
           "zerolinewidth": 2
          },
          "yaxis": {
           "automargin": true,
           "gridcolor": "white",
           "linecolor": "white",
           "ticks": "",
           "title": {
            "standoff": 15
           },
           "zerolinecolor": "white",
           "zerolinewidth": 2
          }
         }
        },
        "title": {
         "text": "Process Temperature: Original, Smoothed, and Difference"
        },
        "xaxis": {
         "anchor": "y",
         "domain": [
          0,
          1
         ],
         "matches": "x2",
         "showticklabels": false,
         "title": {
          "text": "UDI"
         }
        },
        "xaxis2": {
         "anchor": "y2",
         "domain": [
          0,
          1
         ]
        },
        "yaxis": {
         "anchor": "x",
         "domain": [
          0.55,
          1
         ],
         "title": {
          "text": "Process Temperature [K]"
         }
        },
        "yaxis2": {
         "anchor": "x2",
         "domain": [
          0,
          0.45
         ],
         "title": {
          "text": "Difference"
         }
        }
       }
      }
     },
     "metadata": {},
     "output_type": "display_data"
    }
   ],
   "source": [
    "dftemp[\"temp_mean_rolling10\"] = dftemp[\"process_temperature_K\"].rolling(window=10, center=True).mean()\n",
    "plot_smoothed_temperature_data(dftemp, smoothed_column=\"temp_mean_rolling10\")"
   ]
  },
  {
   "cell_type": "markdown",
   "id": "2b1bd9d0",
   "metadata": {},
   "source": [
    "## Rolling median smoothing"
   ]
  },
  {
   "cell_type": "code",
   "execution_count": 15,
   "id": "4e4b4309",
   "metadata": {},
   "outputs": [
    {
     "data": {
      "application/vnd.plotly.v1+json": {
       "config": {
        "plotlyServerURL": "https://plot.ly"
       },
       "data": [
        {
         "line": {
          "color": "lightgrey"
         },
         "mode": "lines",
         "name": "Original",
         "type": "scatter",
         "x": {
          "bdata": "AQACAAMABAAFAAYABwAIAAkACgALAAwADQAOAA8AEAARABIAEwAUABUAFgAXABgAGQAaABsAHAAdAB4AHwAgACEAIgAjACQAJQAmACcAKAApACoAKwAsAC0ALgAvADAAMQAyADMANAA1ADYANwA4ADkAOgA7ADwAPQA+AD8AQABBAEIAQwBEAEUARgBHAEgASQBKAEsATABNAE4ATwBQAFEAUgBTAFQAVQBWAFcAWABZAFoAWwBcAF0AXgBfAGAAYQBiAGMAZABlAGYAZwBoAGkAagBrAGwAbQBuAG8AcABxAHIAcwB0AHUAdgB3AHgAeQB6AHsAfAB9AH4AfwCAAIEAggCDAIQAhQCGAIcAiACJAIoAiwCMAI0AjgCPAJAAkQCSAJMAlACVAJYAlwCYAJkAmgCbAJwAnQCeAJ8AoAChAKIAowCkAKUApgCnAKgAqQCqAKsArACtAK4ArwCwALEAsgCzALQAtQC2ALcAuAC5ALoAuwC8AL0AvgC/AMAAwQDCAMMAxADFAMYAxwDIAMkAygDLAMwAzQDOAM8A0ADRANIA0wDUANUA1gDXANgA2QDaANsA3ADdAN4A3wDgAOEA4gDjAOQA5QDmAOcA6ADpAOoA6wDsAO0A7gDvAPAA8QDyAPMA9AD1APYA9wD4APkA+gD7APwA/QD+AP8AAAEBAQIBAwEEAQUBBgEHAQgBCQEKAQsBDAENAQ4BDwEQAREBEgETARQBFQEWARcBGAEZARoBGwEcAR0BHgEfASABIQEiASMBJAElASYBJwEoASkBKgErASwBLQEuAS8BMAExATIBMwE0ATUBNgE3ATgBOQE6ATsBPAE9AT4BPwFAAUEBQgFDAUQBRQFGAUcBSAFJAUoBSwFMAU0BTgFPAVABUQFSAVMBVAFVAVYBVwFYAVkBWgFbAVwBXQFeAV8BYAFhAWIBYwFkAWUBZgFnAWgBaQFqAWsBbAFtAW4BbwFwAXEBcgFzAXQBdQF2AXcBeAF5AXoBewF8AX0BfgF/AYABgQGCAYMBhAGFAYYBhwGIAYkBigGLAYwBjQGOAY8BkAGRAZIBkwGUAZUBlgGXAZgBmQGaAZsBnAGdAZ4BnwGgAaEBogGjAaQBpQGmAacBqAGpAaoBqwGsAa0BrgGvAbABsQGyAbMBtAG1AbYBtwG4AbkBugG7AbwBvQG+Ab8BwAHBAcIBwwHEAcUBxgHHAcgByQHKAcsBzAHNAc4BzwHQAdEB0gHTAdQB1QHWAdcB2AHZAdoB2wHcAd0B3gHfAeAB4QHiAeMB5AHlAeYB5wHoAekB6gHrAewB7QHuAe8B8AHxAfIB8wH0AfUB9gH3AfgB+QH6AfsB/AH9Af4B/wEAAgECAgIDAgQCBQIGAgcCCAIJAgoCCwIMAg0CDgIPAhACEQISAhMCFAIVAhYCFwIYAhkCGgIbAhwCHQIeAh8CIAIhAiICIwIkAiUCJgInAigCKQIqAisCLAItAi4CLwIwAjECMgIzAjQCNQI2AjcCOAI5AjoCOwI8Aj0CPgI/AkACQQJCAkMCRAJFAkYCRwJIAkkCSgJLAkwCTQJOAk8CUAJRAlICUwJUAlUCVgJXAlgCWQJaAlsCXAJdAl4CXwJgAmECYgJjAmQCZQJmAmcCaAJpAmoCawJsAm0CbgJvAnACcQJyAnMCdAJ1AnYCdwJ4AnkCegJ7AnwCfQJ+An8CgAKBAoICgwKEAoUChgKHAogCiQKKAosCjAKNAo4CjwKQApECkgKTApQClQKWApcCmAKZApoCmwKcAp0CngKfAqACoQKiAqMCpAKlAqYCpwKoAqkCqgKrAqwCrQKuAq8CsAKxArICswK0ArUCtgK3ArgCuQK6ArsCvAK9Ar4CvwLAAsECwgLDAsQCxQLGAscCyALJAsoCywLMAs0CzgLPAtAC0QLSAtMC1ALVAtYC1wLYAtkC2gLbAtwC3QLeAt8C4ALhAuIC4wLkAuUC5gLnAugC6QLqAusC7ALtAu4C7wLwAvEC8gLzAvQC9QL2AvcC+AL5AvoC+wL8Av0C/gL/AgADAQMCAwMDBAMFAwYDBwMIAwkDCgMLAwwDDQMOAw8DEAMRAxIDEwMUAxUDFgMXAxgDGQMaAxsDHAMdAx4DHwMgAyEDIgMjAyQDJQMmAycDKAMpAyoDKwMsAy0DLgMvAzADMQMyAzMDNAM1AzYDNwM4AzkDOgM7AzwDPQM+Az8DQANBA0IDQwNEA0UDRgNHA0gDSQNKA0sDTANNA04DTwNQA1EDUgNTA1QDVQNWA1cDWANZA1oDWwNcA10DXgNfA2ADYQNiA2MDZANlA2YDZwNoA2kDagNrA2wDbQNuA28DcANxA3IDcwN0A3UDdgN3A3gDeQN6A3sDfAN9A34DfwOAA4EDggODA4QDhQOGA4cDiAOJA4oDiwOMA40DjgOPA5ADkQOSA5MDlAOVA5YDlwOYA5kDmgObA5wDnQOeA58DoAOhA6IDowOkA6UDpgOnA6gDqQOqA6sDrAOtA64DrwOwA7EDsgOzA7QDtQO2A7cDuAO5A7oDuwO8A70DvgO/A8ADwQPCA8MDxAPFA8YDxwPIA8kDygPLA8wDzQPOA88D0APRA9ID0wPUA9UD1gPXA9gD2QPaA9sD3APdA94D3wPgA+ED4gPjA+QD5QPmA+cD6AM=",
          "dtype": "i2"
         },
         "xaxis": "x",
         "y": {
          "bdata": "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",
          "dtype": "f8"
         },
         "yaxis": "y"
        },
        {
         "line": {
          "color": "blue"
         },
         "mode": "lines",
         "name": "Smoothed",
         "type": "scatter",
         "x": {
          "bdata": "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",
          "dtype": "i2"
         },
         "xaxis": "x",
         "y": {
          "bdata": "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",
          "dtype": "f8"
         },
         "yaxis": "y"
        },
        {
         "line": {
          "color": "green"
         },
         "mode": "lines",
         "name": "Original - Smoothed",
         "type": "scatter",
         "x": {
          "bdata": "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",
          "dtype": "i2"
         },
         "xaxis": "x2",
         "y": {
          "bdata": "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",
          "dtype": "f8"
         },
         "yaxis": "y2"
        }
       ],
       "layout": {
        "annotations": [
         {
          "font": {
           "size": 16
          },
          "showarrow": false,
          "text": "Process Temperature: Original vs Smoothed",
          "x": 0.5,
          "xanchor": "center",
          "xref": "paper",
          "y": 1,
          "yanchor": "bottom",
          "yref": "paper"
         },
         {
          "font": {
           "size": 16
          },
          "showarrow": false,
          "text": "Original - Smoothed Difference",
          "x": 0.5,
          "xanchor": "center",
          "xref": "paper",
          "y": 0.45,
          "yanchor": "bottom",
          "yref": "paper"
         }
        ],
        "height": 700,
        "template": {
         "data": {
          "bar": [
           {
            "error_x": {
             "color": "#2a3f5f"
            },
            "error_y": {
             "color": "#2a3f5f"
            },
            "marker": {
             "line": {
              "color": "#E5ECF6",
              "width": 0.5
             },
             "pattern": {
              "fillmode": "overlay",
              "size": 10,
              "solidity": 0.2
             }
            },
            "type": "bar"
           }
          ],
          "barpolar": [
           {
            "marker": {
             "line": {
              "color": "#E5ECF6",
              "width": 0.5
             },
             "pattern": {
              "fillmode": "overlay",
              "size": 10,
              "solidity": 0.2
             }
            },
            "type": "barpolar"
           }
          ],
          "carpet": [
           {
            "aaxis": {
             "endlinecolor": "#2a3f5f",
             "gridcolor": "white",
             "linecolor": "white",
             "minorgridcolor": "white",
             "startlinecolor": "#2a3f5f"
            },
            "baxis": {
             "endlinecolor": "#2a3f5f",
             "gridcolor": "white",
             "linecolor": "white",
             "minorgridcolor": "white",
             "startlinecolor": "#2a3f5f"
            },
            "type": "carpet"
           }
          ],
          "choropleth": [
           {
            "colorbar": {
             "outlinewidth": 0,
             "ticks": ""
            },
            "type": "choropleth"
           }
          ],
          "contour": [
           {
            "colorbar": {
             "outlinewidth": 0,
             "ticks": ""
            },
            "colorscale": [
             [
              0,
              "#0d0887"
             ],
             [
              0.1111111111111111,
              "#46039f"
             ],
             [
              0.2222222222222222,
              "#7201a8"
             ],
             [
              0.3333333333333333,
              "#9c179e"
             ],
             [
              0.4444444444444444,
              "#bd3786"
             ],
             [
              0.5555555555555556,
              "#d8576b"
             ],
             [
              0.6666666666666666,
              "#ed7953"
             ],
             [
              0.7777777777777778,
              "#fb9f3a"
             ],
             [
              0.8888888888888888,
              "#fdca26"
             ],
             [
              1,
              "#f0f921"
             ]
            ],
            "type": "contour"
           }
          ],
          "contourcarpet": [
           {
            "colorbar": {
             "outlinewidth": 0,
             "ticks": ""
            },
            "type": "contourcarpet"
           }
          ],
          "heatmap": [
           {
            "colorbar": {
             "outlinewidth": 0,
             "ticks": ""
            },
            "colorscale": [
             [
              0,
              "#0d0887"
             ],
             [
              0.1111111111111111,
              "#46039f"
             ],
             [
              0.2222222222222222,
              "#7201a8"
             ],
             [
              0.3333333333333333,
              "#9c179e"
             ],
             [
              0.4444444444444444,
              "#bd3786"
             ],
             [
              0.5555555555555556,
              "#d8576b"
             ],
             [
              0.6666666666666666,
              "#ed7953"
             ],
             [
              0.7777777777777778,
              "#fb9f3a"
             ],
             [
              0.8888888888888888,
              "#fdca26"
             ],
             [
              1,
              "#f0f921"
             ]
            ],
            "type": "heatmap"
           }
          ],
          "histogram": [
           {
            "marker": {
             "pattern": {
              "fillmode": "overlay",
              "size": 10,
              "solidity": 0.2
             }
            },
            "type": "histogram"
           }
          ],
          "histogram2d": [
           {
            "colorbar": {
             "outlinewidth": 0,
             "ticks": ""
            },
            "colorscale": [
             [
              0,
              "#0d0887"
             ],
             [
              0.1111111111111111,
              "#46039f"
             ],
             [
              0.2222222222222222,
              "#7201a8"
             ],
             [
              0.3333333333333333,
              "#9c179e"
             ],
             [
              0.4444444444444444,
              "#bd3786"
             ],
             [
              0.5555555555555556,
              "#d8576b"
             ],
             [
              0.6666666666666666,
              "#ed7953"
             ],
             [
              0.7777777777777778,
              "#fb9f3a"
             ],
             [
              0.8888888888888888,
              "#fdca26"
             ],
             [
              1,
              "#f0f921"
             ]
            ],
            "type": "histogram2d"
           }
          ],
          "histogram2dcontour": [
           {
            "colorbar": {
             "outlinewidth": 0,
             "ticks": ""
            },
            "colorscale": [
             [
              0,
              "#0d0887"
             ],
             [
              0.1111111111111111,
              "#46039f"
             ],
             [
              0.2222222222222222,
              "#7201a8"
             ],
             [
              0.3333333333333333,
              "#9c179e"
             ],
             [
              0.4444444444444444,
              "#bd3786"
             ],
             [
              0.5555555555555556,
              "#d8576b"
             ],
             [
              0.6666666666666666,
              "#ed7953"
             ],
             [
              0.7777777777777778,
              "#fb9f3a"
             ],
             [
              0.8888888888888888,
              "#fdca26"
             ],
             [
              1,
              "#f0f921"
             ]
            ],
            "type": "histogram2dcontour"
           }
          ],
          "mesh3d": [
           {
            "colorbar": {
             "outlinewidth": 0,
             "ticks": ""
            },
            "type": "mesh3d"
           }
          ],
          "parcoords": [
           {
            "line": {
             "colorbar": {
              "outlinewidth": 0,
              "ticks": ""
             }
            },
            "type": "parcoords"
           }
          ],
          "pie": [
           {
            "automargin": true,
            "type": "pie"
           }
          ],
          "scatter": [
           {
            "fillpattern": {
             "fillmode": "overlay",
             "size": 10,
             "solidity": 0.2
            },
            "type": "scatter"
           }
          ],
          "scatter3d": [
           {
            "line": {
             "colorbar": {
              "outlinewidth": 0,
              "ticks": ""
             }
            },
            "marker": {
             "colorbar": {
              "outlinewidth": 0,
              "ticks": ""
             }
            },
            "type": "scatter3d"
           }
          ],
          "scattercarpet": [
           {
            "marker": {
             "colorbar": {
              "outlinewidth": 0,
              "ticks": ""
             }
            },
            "type": "scattercarpet"
           }
          ],
          "scattergeo": [
           {
            "marker": {
             "colorbar": {
              "outlinewidth": 0,
              "ticks": ""
             }
            },
            "type": "scattergeo"
           }
          ],
          "scattergl": [
           {
            "marker": {
             "colorbar": {
              "outlinewidth": 0,
              "ticks": ""
             }
            },
            "type": "scattergl"
           }
          ],
          "scattermap": [
           {
            "marker": {
             "colorbar": {
              "outlinewidth": 0,
              "ticks": ""
             }
            },
            "type": "scattermap"
           }
          ],
          "scattermapbox": [
           {
            "marker": {
             "colorbar": {
              "outlinewidth": 0,
              "ticks": ""
             }
            },
            "type": "scattermapbox"
           }
          ],
          "scatterpolar": [
           {
            "marker": {
             "colorbar": {
              "outlinewidth": 0,
              "ticks": ""
             }
            },
            "type": "scatterpolar"
           }
          ],
          "scatterpolargl": [
           {
            "marker": {
             "colorbar": {
              "outlinewidth": 0,
              "ticks": ""
             }
            },
            "type": "scatterpolargl"
           }
          ],
          "scatterternary": [
           {
            "marker": {
             "colorbar": {
              "outlinewidth": 0,
              "ticks": ""
             }
            },
            "type": "scatterternary"
           }
          ],
          "surface": [
           {
            "colorbar": {
             "outlinewidth": 0,
             "ticks": ""
            },
            "colorscale": [
             [
              0,
              "#0d0887"
             ],
             [
              0.1111111111111111,
              "#46039f"
             ],
             [
              0.2222222222222222,
              "#7201a8"
             ],
             [
              0.3333333333333333,
              "#9c179e"
             ],
             [
              0.4444444444444444,
              "#bd3786"
             ],
             [
              0.5555555555555556,
              "#d8576b"
             ],
             [
              0.6666666666666666,
              "#ed7953"
             ],
             [
              0.7777777777777778,
              "#fb9f3a"
             ],
             [
              0.8888888888888888,
              "#fdca26"
             ],
             [
              1,
              "#f0f921"
             ]
            ],
            "type": "surface"
           }
          ],
          "table": [
           {
            "cells": {
             "fill": {
              "color": "#EBF0F8"
             },
             "line": {
              "color": "white"
             }
            },
            "header": {
             "fill": {
              "color": "#C8D4E3"
             },
             "line": {
              "color": "white"
             }
            },
            "type": "table"
           }
          ]
         },
         "layout": {
          "annotationdefaults": {
           "arrowcolor": "#2a3f5f",
           "arrowhead": 0,
           "arrowwidth": 1
          },
          "autotypenumbers": "strict",
          "coloraxis": {
           "colorbar": {
            "outlinewidth": 0,
            "ticks": ""
           }
          },
          "colorscale": {
           "diverging": [
            [
             0,
             "#8e0152"
            ],
            [
             0.1,
             "#c51b7d"
            ],
            [
             0.2,
             "#de77ae"
            ],
            [
             0.3,
             "#f1b6da"
            ],
            [
             0.4,
             "#fde0ef"
            ],
            [
             0.5,
             "#f7f7f7"
            ],
            [
             0.6,
             "#e6f5d0"
            ],
            [
             0.7,
             "#b8e186"
            ],
            [
             0.8,
             "#7fbc41"
            ],
            [
             0.9,
             "#4d9221"
            ],
            [
             1,
             "#276419"
            ]
           ],
           "sequential": [
            [
             0,
             "#0d0887"
            ],
            [
             0.1111111111111111,
             "#46039f"
            ],
            [
             0.2222222222222222,
             "#7201a8"
            ],
            [
             0.3333333333333333,
             "#9c179e"
            ],
            [
             0.4444444444444444,
             "#bd3786"
            ],
            [
             0.5555555555555556,
             "#d8576b"
            ],
            [
             0.6666666666666666,
             "#ed7953"
            ],
            [
             0.7777777777777778,
             "#fb9f3a"
            ],
            [
             0.8888888888888888,
             "#fdca26"
            ],
            [
             1,
             "#f0f921"
            ]
           ],
           "sequentialminus": [
            [
             0,
             "#0d0887"
            ],
            [
             0.1111111111111111,
             "#46039f"
            ],
            [
             0.2222222222222222,
             "#7201a8"
            ],
            [
             0.3333333333333333,
             "#9c179e"
            ],
            [
             0.4444444444444444,
             "#bd3786"
            ],
            [
             0.5555555555555556,
             "#d8576b"
            ],
            [
             0.6666666666666666,
             "#ed7953"
            ],
            [
             0.7777777777777778,
             "#fb9f3a"
            ],
            [
             0.8888888888888888,
             "#fdca26"
            ],
            [
             1,
             "#f0f921"
            ]
           ]
          },
          "colorway": [
           "#636efa",
           "#EF553B",
           "#00cc96",
           "#ab63fa",
           "#FFA15A",
           "#19d3f3",
           "#FF6692",
           "#B6E880",
           "#FF97FF",
           "#FECB52"
          ],
          "font": {
           "color": "#2a3f5f"
          },
          "geo": {
           "bgcolor": "white",
           "lakecolor": "white",
           "landcolor": "#E5ECF6",
           "showlakes": true,
           "showland": true,
           "subunitcolor": "white"
          },
          "hoverlabel": {
           "align": "left"
          },
          "hovermode": "closest",
          "mapbox": {
           "style": "light"
          },
          "paper_bgcolor": "white",
          "plot_bgcolor": "#E5ECF6",
          "polar": {
           "angularaxis": {
            "gridcolor": "white",
            "linecolor": "white",
            "ticks": ""
           },
           "bgcolor": "#E5ECF6",
           "radialaxis": {
            "gridcolor": "white",
            "linecolor": "white",
            "ticks": ""
           }
          },
          "scene": {
           "xaxis": {
            "backgroundcolor": "#E5ECF6",
            "gridcolor": "white",
            "gridwidth": 2,
            "linecolor": "white",
            "showbackground": true,
            "ticks": "",
            "zerolinecolor": "white"
           },
           "yaxis": {
            "backgroundcolor": "#E5ECF6",
            "gridcolor": "white",
            "gridwidth": 2,
            "linecolor": "white",
            "showbackground": true,
            "ticks": "",
            "zerolinecolor": "white"
           },
           "zaxis": {
            "backgroundcolor": "#E5ECF6",
            "gridcolor": "white",
            "gridwidth": 2,
            "linecolor": "white",
            "showbackground": true,
            "ticks": "",
            "zerolinecolor": "white"
           }
          },
          "shapedefaults": {
           "line": {
            "color": "#2a3f5f"
           }
          },
          "ternary": {
           "aaxis": {
            "gridcolor": "white",
            "linecolor": "white",
            "ticks": ""
           },
           "baxis": {
            "gridcolor": "white",
            "linecolor": "white",
            "ticks": ""
           },
           "bgcolor": "#E5ECF6",
           "caxis": {
            "gridcolor": "white",
            "linecolor": "white",
            "ticks": ""
           }
          },
          "title": {
           "x": 0.05
          },
          "xaxis": {
           "automargin": true,
           "gridcolor": "white",
           "linecolor": "white",
           "ticks": "",
           "title": {
            "standoff": 15
           },
           "zerolinecolor": "white",
           "zerolinewidth": 2
          },
          "yaxis": {
           "automargin": true,
           "gridcolor": "white",
           "linecolor": "white",
           "ticks": "",
           "title": {
            "standoff": 15
           },
           "zerolinecolor": "white",
           "zerolinewidth": 2
          }
         }
        },
        "title": {
         "text": "Process Temperature: Original, Smoothed, and Difference"
        },
        "xaxis": {
         "anchor": "y",
         "domain": [
          0,
          1
         ],
         "matches": "x2",
         "showticklabels": false,
         "title": {
          "text": "UDI"
         }
        },
        "xaxis2": {
         "anchor": "y2",
         "domain": [
          0,
          1
         ]
        },
        "yaxis": {
         "anchor": "x",
         "domain": [
          0.55,
          1
         ],
         "title": {
          "text": "Process Temperature [K]"
         }
        },
        "yaxis2": {
         "anchor": "x2",
         "domain": [
          0,
          0.45
         ],
         "title": {
          "text": "Difference"
         }
        }
       }
      }
     },
     "metadata": {},
     "output_type": "display_data"
    }
   ],
   "source": [
    "dftemp[\"temp_median_rolling3\"] = dftemp[\"process_temperature_K\"].rolling(window=3, center=True).median()\n",
    "plot_smoothed_temperature_data(dftemp, smoothed_column=\"temp_median_rolling3\")"
   ]
  },
  {
   "cell_type": "code",
   "execution_count": 16,
   "id": "9c1a20ac",
   "metadata": {},
   "outputs": [
    {
     "data": {
      "application/vnd.plotly.v1+json": {
       "config": {
        "plotlyServerURL": "https://plot.ly"
       },
       "data": [
        {
         "line": {
          "color": "lightgrey"
         },
         "mode": "lines",
         "name": "Original",
         "type": "scatter",
         "x": {
          "bdata": "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",
          "dtype": "i2"
         },
         "xaxis": "x",
         "y": {
          "bdata": "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",
          "dtype": "f8"
         },
         "yaxis": "y"
        },
        {
         "line": {
          "color": "blue"
         },
         "mode": "lines",
         "name": "Smoothed",
         "type": "scatter",
         "x": {
          "bdata": "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",
          "dtype": "i2"
         },
         "xaxis": "x",
         "y": {
          "bdata": "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",
          "dtype": "f8"
         },
         "yaxis": "y"
        },
        {
         "line": {
          "color": "green"
         },
         "mode": "lines",
         "name": "Original - Smoothed",
         "type": "scatter",
         "x": {
          "bdata": "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",
          "dtype": "i2"
         },
         "xaxis": "x2",
         "y": {
          "bdata": "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",
          "dtype": "f8"
         },
         "yaxis": "y2"
        }
       ],
       "layout": {
        "annotations": [
         {
          "font": {
           "size": 16
          },
          "showarrow": false,
          "text": "Process Temperature: Original vs Smoothed",
          "x": 0.5,
          "xanchor": "center",
          "xref": "paper",
          "y": 1,
          "yanchor": "bottom",
          "yref": "paper"
         },
         {
          "font": {
           "size": 16
          },
          "showarrow": false,
          "text": "Original - Smoothed Difference",
          "x": 0.5,
          "xanchor": "center",
          "xref": "paper",
          "y": 0.45,
          "yanchor": "bottom",
          "yref": "paper"
         }
        ],
        "height": 700,
        "template": {
         "data": {
          "bar": [
           {
            "error_x": {
             "color": "#2a3f5f"
            },
            "error_y": {
             "color": "#2a3f5f"
            },
            "marker": {
             "line": {
              "color": "#E5ECF6",
              "width": 0.5
             },
             "pattern": {
              "fillmode": "overlay",
              "size": 10,
              "solidity": 0.2
             }
            },
            "type": "bar"
           }
          ],
          "barpolar": [
           {
            "marker": {
             "line": {
              "color": "#E5ECF6",
              "width": 0.5
             },
             "pattern": {
              "fillmode": "overlay",
              "size": 10,
              "solidity": 0.2
             }
            },
            "type": "barpolar"
           }
          ],
          "carpet": [
           {
            "aaxis": {
             "endlinecolor": "#2a3f5f",
             "gridcolor": "white",
             "linecolor": "white",
             "minorgridcolor": "white",
             "startlinecolor": "#2a3f5f"
            },
            "baxis": {
             "endlinecolor": "#2a3f5f",
             "gridcolor": "white",
             "linecolor": "white",
             "minorgridcolor": "white",
             "startlinecolor": "#2a3f5f"
            },
            "type": "carpet"
           }
          ],
          "choropleth": [
           {
            "colorbar": {
             "outlinewidth": 0,
             "ticks": ""
            },
            "type": "choropleth"
           }
          ],
          "contour": [
           {
            "colorbar": {
             "outlinewidth": 0,
             "ticks": ""
            },
            "colorscale": [
             [
              0,
              "#0d0887"
             ],
             [
              0.1111111111111111,
              "#46039f"
             ],
             [
              0.2222222222222222,
              "#7201a8"
             ],
             [
              0.3333333333333333,
              "#9c179e"
             ],
             [
              0.4444444444444444,
              "#bd3786"
             ],
             [
              0.5555555555555556,
              "#d8576b"
             ],
             [
              0.6666666666666666,
              "#ed7953"
             ],
             [
              0.7777777777777778,
              "#fb9f3a"
             ],
             [
              0.8888888888888888,
              "#fdca26"
             ],
             [
              1,
              "#f0f921"
             ]
            ],
            "type": "contour"
           }
          ],
          "contourcarpet": [
           {
            "colorbar": {
             "outlinewidth": 0,
             "ticks": ""
            },
            "type": "contourcarpet"
           }
          ],
          "heatmap": [
           {
            "colorbar": {
             "outlinewidth": 0,
             "ticks": ""
            },
            "colorscale": [
             [
              0,
              "#0d0887"
             ],
             [
              0.1111111111111111,
              "#46039f"
             ],
             [
              0.2222222222222222,
              "#7201a8"
             ],
             [
              0.3333333333333333,
              "#9c179e"
             ],
             [
              0.4444444444444444,
              "#bd3786"
             ],
             [
              0.5555555555555556,
              "#d8576b"
             ],
             [
              0.6666666666666666,
              "#ed7953"
             ],
             [
              0.7777777777777778,
              "#fb9f3a"
             ],
             [
              0.8888888888888888,
              "#fdca26"
             ],
             [
              1,
              "#f0f921"
             ]
            ],
            "type": "heatmap"
           }
          ],
          "histogram": [
           {
            "marker": {
             "pattern": {
              "fillmode": "overlay",
              "size": 10,
              "solidity": 0.2
             }
            },
            "type": "histogram"
           }
          ],
          "histogram2d": [
           {
            "colorbar": {
             "outlinewidth": 0,
             "ticks": ""
            },
            "colorscale": [
             [
              0,
              "#0d0887"
             ],
             [
              0.1111111111111111,
              "#46039f"
             ],
             [
              0.2222222222222222,
              "#7201a8"
             ],
             [
              0.3333333333333333,
              "#9c179e"
             ],
             [
              0.4444444444444444,
              "#bd3786"
             ],
             [
              0.5555555555555556,
              "#d8576b"
             ],
             [
              0.6666666666666666,
              "#ed7953"
             ],
             [
              0.7777777777777778,
              "#fb9f3a"
             ],
             [
              0.8888888888888888,
              "#fdca26"
             ],
             [
              1,
              "#f0f921"
             ]
            ],
            "type": "histogram2d"
           }
          ],
          "histogram2dcontour": [
           {
            "colorbar": {
             "outlinewidth": 0,
             "ticks": ""
            },
            "colorscale": [
             [
              0,
              "#0d0887"
             ],
             [
              0.1111111111111111,
              "#46039f"
             ],
             [
              0.2222222222222222,
              "#7201a8"
             ],
             [
              0.3333333333333333,
              "#9c179e"
             ],
             [
              0.4444444444444444,
              "#bd3786"
             ],
             [
              0.5555555555555556,
              "#d8576b"
             ],
             [
              0.6666666666666666,
              "#ed7953"
             ],
             [
              0.7777777777777778,
              "#fb9f3a"
             ],
             [
              0.8888888888888888,
              "#fdca26"
             ],
             [
              1,
              "#f0f921"
             ]
            ],
            "type": "histogram2dcontour"
           }
          ],
          "mesh3d": [
           {
            "colorbar": {
             "outlinewidth": 0,
             "ticks": ""
            },
            "type": "mesh3d"
           }
          ],
          "parcoords": [
           {
            "line": {
             "colorbar": {
              "outlinewidth": 0,
              "ticks": ""
             }
            },
            "type": "parcoords"
           }
          ],
          "pie": [
           {
            "automargin": true,
            "type": "pie"
           }
          ],
          "scatter": [
           {
            "fillpattern": {
             "fillmode": "overlay",
             "size": 10,
             "solidity": 0.2
            },
            "type": "scatter"
           }
          ],
          "scatter3d": [
           {
            "line": {
             "colorbar": {
              "outlinewidth": 0,
              "ticks": ""
             }
            },
            "marker": {
             "colorbar": {
              "outlinewidth": 0,
              "ticks": ""
             }
            },
            "type": "scatter3d"
           }
          ],
          "scattercarpet": [
           {
            "marker": {
             "colorbar": {
              "outlinewidth": 0,
              "ticks": ""
             }
            },
            "type": "scattercarpet"
           }
          ],
          "scattergeo": [
           {
            "marker": {
             "colorbar": {
              "outlinewidth": 0,
              "ticks": ""
             }
            },
            "type": "scattergeo"
           }
          ],
          "scattergl": [
           {
            "marker": {
             "colorbar": {
              "outlinewidth": 0,
              "ticks": ""
             }
            },
            "type": "scattergl"
           }
          ],
          "scattermap": [
           {
            "marker": {
             "colorbar": {
              "outlinewidth": 0,
              "ticks": ""
             }
            },
            "type": "scattermap"
           }
          ],
          "scattermapbox": [
           {
            "marker": {
             "colorbar": {
              "outlinewidth": 0,
              "ticks": ""
             }
            },
            "type": "scattermapbox"
           }
          ],
          "scatterpolar": [
           {
            "marker": {
             "colorbar": {
              "outlinewidth": 0,
              "ticks": ""
             }
            },
            "type": "scatterpolar"
           }
          ],
          "scatterpolargl": [
           {
            "marker": {
             "colorbar": {
              "outlinewidth": 0,
              "ticks": ""
             }
            },
            "type": "scatterpolargl"
           }
          ],
          "scatterternary": [
           {
            "marker": {
             "colorbar": {
              "outlinewidth": 0,
              "ticks": ""
             }
            },
            "type": "scatterternary"
           }
          ],
          "surface": [
           {
            "colorbar": {
             "outlinewidth": 0,
             "ticks": ""
            },
            "colorscale": [
             [
              0,
              "#0d0887"
             ],
             [
              0.1111111111111111,
              "#46039f"
             ],
             [
              0.2222222222222222,
              "#7201a8"
             ],
             [
              0.3333333333333333,
              "#9c179e"
             ],
             [
              0.4444444444444444,
              "#bd3786"
             ],
             [
              0.5555555555555556,
              "#d8576b"
             ],
             [
              0.6666666666666666,
              "#ed7953"
             ],
             [
              0.7777777777777778,
              "#fb9f3a"
             ],
             [
              0.8888888888888888,
              "#fdca26"
             ],
             [
              1,
              "#f0f921"
             ]
            ],
            "type": "surface"
           }
          ],
          "table": [
           {
            "cells": {
             "fill": {
              "color": "#EBF0F8"
             },
             "line": {
              "color": "white"
             }
            },
            "header": {
             "fill": {
              "color": "#C8D4E3"
             },
             "line": {
              "color": "white"
             }
            },
            "type": "table"
           }
          ]
         },
         "layout": {
          "annotationdefaults": {
           "arrowcolor": "#2a3f5f",
           "arrowhead": 0,
           "arrowwidth": 1
          },
          "autotypenumbers": "strict",
          "coloraxis": {
           "colorbar": {
            "outlinewidth": 0,
            "ticks": ""
           }
          },
          "colorscale": {
           "diverging": [
            [
             0,
             "#8e0152"
            ],
            [
             0.1,
             "#c51b7d"
            ],
            [
             0.2,
             "#de77ae"
            ],
            [
             0.3,
             "#f1b6da"
            ],
            [
             0.4,
             "#fde0ef"
            ],
            [
             0.5,
             "#f7f7f7"
            ],
            [
             0.6,
             "#e6f5d0"
            ],
            [
             0.7,
             "#b8e186"
            ],
            [
             0.8,
             "#7fbc41"
            ],
            [
             0.9,
             "#4d9221"
            ],
            [
             1,
             "#276419"
            ]
           ],
           "sequential": [
            [
             0,
             "#0d0887"
            ],
            [
             0.1111111111111111,
             "#46039f"
            ],
            [
             0.2222222222222222,
             "#7201a8"
            ],
            [
             0.3333333333333333,
             "#9c179e"
            ],
            [
             0.4444444444444444,
             "#bd3786"
            ],
            [
             0.5555555555555556,
             "#d8576b"
            ],
            [
             0.6666666666666666,
             "#ed7953"
            ],
            [
             0.7777777777777778,
             "#fb9f3a"
            ],
            [
             0.8888888888888888,
             "#fdca26"
            ],
            [
             1,
             "#f0f921"
            ]
           ],
           "sequentialminus": [
            [
             0,
             "#0d0887"
            ],
            [
             0.1111111111111111,
             "#46039f"
            ],
            [
             0.2222222222222222,
             "#7201a8"
            ],
            [
             0.3333333333333333,
             "#9c179e"
            ],
            [
             0.4444444444444444,
             "#bd3786"
            ],
            [
             0.5555555555555556,
             "#d8576b"
            ],
            [
             0.6666666666666666,
             "#ed7953"
            ],
            [
             0.7777777777777778,
             "#fb9f3a"
            ],
            [
             0.8888888888888888,
             "#fdca26"
            ],
            [
             1,
             "#f0f921"
            ]
           ]
          },
          "colorway": [
           "#636efa",
           "#EF553B",
           "#00cc96",
           "#ab63fa",
           "#FFA15A",
           "#19d3f3",
           "#FF6692",
           "#B6E880",
           "#FF97FF",
           "#FECB52"
          ],
          "font": {
           "color": "#2a3f5f"
          },
          "geo": {
           "bgcolor": "white",
           "lakecolor": "white",
           "landcolor": "#E5ECF6",
           "showlakes": true,
           "showland": true,
           "subunitcolor": "white"
          },
          "hoverlabel": {
           "align": "left"
          },
          "hovermode": "closest",
          "mapbox": {
           "style": "light"
          },
          "paper_bgcolor": "white",
          "plot_bgcolor": "#E5ECF6",
          "polar": {
           "angularaxis": {
            "gridcolor": "white",
            "linecolor": "white",
            "ticks": ""
           },
           "bgcolor": "#E5ECF6",
           "radialaxis": {
            "gridcolor": "white",
            "linecolor": "white",
            "ticks": ""
           }
          },
          "scene": {
           "xaxis": {
            "backgroundcolor": "#E5ECF6",
            "gridcolor": "white",
            "gridwidth": 2,
            "linecolor": "white",
            "showbackground": true,
            "ticks": "",
            "zerolinecolor": "white"
           },
           "yaxis": {
            "backgroundcolor": "#E5ECF6",
            "gridcolor": "white",
            "gridwidth": 2,
            "linecolor": "white",
            "showbackground": true,
            "ticks": "",
            "zerolinecolor": "white"
           },
           "zaxis": {
            "backgroundcolor": "#E5ECF6",
            "gridcolor": "white",
            "gridwidth": 2,
            "linecolor": "white",
            "showbackground": true,
            "ticks": "",
            "zerolinecolor": "white"
           }
          },
          "shapedefaults": {
           "line": {
            "color": "#2a3f5f"
           }
          },
          "ternary": {
           "aaxis": {
            "gridcolor": "white",
            "linecolor": "white",
            "ticks": ""
           },
           "baxis": {
            "gridcolor": "white",
            "linecolor": "white",
            "ticks": ""
           },
           "bgcolor": "#E5ECF6",
           "caxis": {
            "gridcolor": "white",
            "linecolor": "white",
            "ticks": ""
           }
          },
          "title": {
           "x": 0.05
          },
          "xaxis": {
           "automargin": true,
           "gridcolor": "white",
           "linecolor": "white",
           "ticks": "",
           "title": {
            "standoff": 15
           },
           "zerolinecolor": "white",
           "zerolinewidth": 2
          },
          "yaxis": {
           "automargin": true,
           "gridcolor": "white",
           "linecolor": "white",
           "ticks": "",
           "title": {
            "standoff": 15
           },
           "zerolinecolor": "white",
           "zerolinewidth": 2
          }
         }
        },
        "title": {
         "text": "Process Temperature: Original, Smoothed, and Difference"
        },
        "xaxis": {
         "anchor": "y",
         "domain": [
          0,
          1
         ],
         "matches": "x2",
         "showticklabels": false,
         "title": {
          "text": "UDI"
         }
        },
        "xaxis2": {
         "anchor": "y2",
         "domain": [
          0,
          1
         ]
        },
        "yaxis": {
         "anchor": "x",
         "domain": [
          0.55,
          1
         ],
         "title": {
          "text": "Process Temperature [K]"
         }
        },
        "yaxis2": {
         "anchor": "x2",
         "domain": [
          0,
          0.45
         ],
         "title": {
          "text": "Difference"
         }
        }
       }
      }
     },
     "metadata": {},
     "output_type": "display_data"
    }
   ],
   "source": [
    "dftemp[\"temp_median_rolling5\"] = dftemp[\"process_temperature_K\"].rolling(window=5, center=True).median()\n",
    "plot_smoothed_temperature_data(dftemp, smoothed_column=\"temp_median_rolling5\")"
   ]
  },
  {
   "cell_type": "code",
   "execution_count": 17,
   "id": "a3d62c9e",
   "metadata": {},
   "outputs": [
    {
     "data": {
      "application/vnd.plotly.v1+json": {
       "config": {
        "plotlyServerURL": "https://plot.ly"
       },
       "data": [
        {
         "line": {
          "color": "lightgrey"
         },
         "mode": "lines",
         "name": "Original",
         "type": "scatter",
         "x": {
          "bdata": "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",
          "dtype": "i2"
         },
         "xaxis": "x",
         "y": {
          "bdata": "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",
          "dtype": "f8"
         },
         "yaxis": "y"
        },
        {
         "line": {
          "color": "blue"
         },
         "mode": "lines",
         "name": "Smoothed",
         "type": "scatter",
         "x": {
          "bdata": "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",
          "dtype": "i2"
         },
         "xaxis": "x",
         "y": {
          "bdata": "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",
          "dtype": "f8"
         },
         "yaxis": "y"
        },
        {
         "line": {
          "color": "green"
         },
         "mode": "lines",
         "name": "Original - Smoothed",
         "type": "scatter",
         "x": {
          "bdata": "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",
          "dtype": "i2"
         },
         "xaxis": "x2",
         "y": {
          "bdata": "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",
          "dtype": "f8"
         },
         "yaxis": "y2"
        }
       ],
       "layout": {
        "annotations": [
         {
          "font": {
           "size": 16
          },
          "showarrow": false,
          "text": "Process Temperature: Original vs Smoothed",
          "x": 0.5,
          "xanchor": "center",
          "xref": "paper",
          "y": 1,
          "yanchor": "bottom",
          "yref": "paper"
         },
         {
          "font": {
           "size": 16
          },
          "showarrow": false,
          "text": "Original - Smoothed Difference",
          "x": 0.5,
          "xanchor": "center",
          "xref": "paper",
          "y": 0.45,
          "yanchor": "bottom",
          "yref": "paper"
         }
        ],
        "height": 700,
        "template": {
         "data": {
          "bar": [
           {
            "error_x": {
             "color": "#2a3f5f"
            },
            "error_y": {
             "color": "#2a3f5f"
            },
            "marker": {
             "line": {
              "color": "#E5ECF6",
              "width": 0.5
             },
             "pattern": {
              "fillmode": "overlay",
              "size": 10,
              "solidity": 0.2
             }
            },
            "type": "bar"
           }
          ],
          "barpolar": [
           {
            "marker": {
             "line": {
              "color": "#E5ECF6",
              "width": 0.5
             },
             "pattern": {
              "fillmode": "overlay",
              "size": 10,
              "solidity": 0.2
             }
            },
            "type": "barpolar"
           }
          ],
          "carpet": [
           {
            "aaxis": {
             "endlinecolor": "#2a3f5f",
             "gridcolor": "white",
             "linecolor": "white",
             "minorgridcolor": "white",
             "startlinecolor": "#2a3f5f"
            },
            "baxis": {
             "endlinecolor": "#2a3f5f",
             "gridcolor": "white",
             "linecolor": "white",
             "minorgridcolor": "white",
             "startlinecolor": "#2a3f5f"
            },
            "type": "carpet"
           }
          ],
          "choropleth": [
           {
            "colorbar": {
             "outlinewidth": 0,
             "ticks": ""
            },
            "type": "choropleth"
           }
          ],
          "contour": [
           {
            "colorbar": {
             "outlinewidth": 0,
             "ticks": ""
            },
            "colorscale": [
             [
              0,
              "#0d0887"
             ],
             [
              0.1111111111111111,
              "#46039f"
             ],
             [
              0.2222222222222222,
              "#7201a8"
             ],
             [
              0.3333333333333333,
              "#9c179e"
             ],
             [
              0.4444444444444444,
              "#bd3786"
             ],
             [
              0.5555555555555556,
              "#d8576b"
             ],
             [
              0.6666666666666666,
              "#ed7953"
             ],
             [
              0.7777777777777778,
              "#fb9f3a"
             ],
             [
              0.8888888888888888,
              "#fdca26"
             ],
             [
              1,
              "#f0f921"
             ]
            ],
            "type": "contour"
           }
          ],
          "contourcarpet": [
           {
            "colorbar": {
             "outlinewidth": 0,
             "ticks": ""
            },
            "type": "contourcarpet"
           }
          ],
          "heatmap": [
           {
            "colorbar": {
             "outlinewidth": 0,
             "ticks": ""
            },
            "colorscale": [
             [
              0,
              "#0d0887"
             ],
             [
              0.1111111111111111,
              "#46039f"
             ],
             [
              0.2222222222222222,
              "#7201a8"
             ],
             [
              0.3333333333333333,
              "#9c179e"
             ],
             [
              0.4444444444444444,
              "#bd3786"
             ],
             [
              0.5555555555555556,
              "#d8576b"
             ],
             [
              0.6666666666666666,
              "#ed7953"
             ],
             [
              0.7777777777777778,
              "#fb9f3a"
             ],
             [
              0.8888888888888888,
              "#fdca26"
             ],
             [
              1,
              "#f0f921"
             ]
            ],
            "type": "heatmap"
           }
          ],
          "histogram": [
           {
            "marker": {
             "pattern": {
              "fillmode": "overlay",
              "size": 10,
              "solidity": 0.2
             }
            },
            "type": "histogram"
           }
          ],
          "histogram2d": [
           {
            "colorbar": {
             "outlinewidth": 0,
             "ticks": ""
            },
            "colorscale": [
             [
              0,
              "#0d0887"
             ],
             [
              0.1111111111111111,
              "#46039f"
             ],
             [
              0.2222222222222222,
              "#7201a8"
             ],
             [
              0.3333333333333333,
              "#9c179e"
             ],
             [
              0.4444444444444444,
              "#bd3786"
             ],
             [
              0.5555555555555556,
              "#d8576b"
             ],
             [
              0.6666666666666666,
              "#ed7953"
             ],
             [
              0.7777777777777778,
              "#fb9f3a"
             ],
             [
              0.8888888888888888,
              "#fdca26"
             ],
             [
              1,
              "#f0f921"
             ]
            ],
            "type": "histogram2d"
           }
          ],
          "histogram2dcontour": [
           {
            "colorbar": {
             "outlinewidth": 0,
             "ticks": ""
            },
            "colorscale": [
             [
              0,
              "#0d0887"
             ],
             [
              0.1111111111111111,
              "#46039f"
             ],
             [
              0.2222222222222222,
              "#7201a8"
             ],
             [
              0.3333333333333333,
              "#9c179e"
             ],
             [
              0.4444444444444444,
              "#bd3786"
             ],
             [
              0.5555555555555556,
              "#d8576b"
             ],
             [
              0.6666666666666666,
              "#ed7953"
             ],
             [
              0.7777777777777778,
              "#fb9f3a"
             ],
             [
              0.8888888888888888,
              "#fdca26"
             ],
             [
              1,
              "#f0f921"
             ]
            ],
            "type": "histogram2dcontour"
           }
          ],
          "mesh3d": [
           {
            "colorbar": {
             "outlinewidth": 0,
             "ticks": ""
            },
            "type": "mesh3d"
           }
          ],
          "parcoords": [
           {
            "line": {
             "colorbar": {
              "outlinewidth": 0,
              "ticks": ""
             }
            },
            "type": "parcoords"
           }
          ],
          "pie": [
           {
            "automargin": true,
            "type": "pie"
           }
          ],
          "scatter": [
           {
            "fillpattern": {
             "fillmode": "overlay",
             "size": 10,
             "solidity": 0.2
            },
            "type": "scatter"
           }
          ],
          "scatter3d": [
           {
            "line": {
             "colorbar": {
              "outlinewidth": 0,
              "ticks": ""
             }
            },
            "marker": {
             "colorbar": {
              "outlinewidth": 0,
              "ticks": ""
             }
            },
            "type": "scatter3d"
           }
          ],
          "scattercarpet": [
           {
            "marker": {
             "colorbar": {
              "outlinewidth": 0,
              "ticks": ""
             }
            },
            "type": "scattercarpet"
           }
          ],
          "scattergeo": [
           {
            "marker": {
             "colorbar": {
              "outlinewidth": 0,
              "ticks": ""
             }
            },
            "type": "scattergeo"
           }
          ],
          "scattergl": [
           {
            "marker": {
             "colorbar": {
              "outlinewidth": 0,
              "ticks": ""
             }
            },
            "type": "scattergl"
           }
          ],
          "scattermap": [
           {
            "marker": {
             "colorbar": {
              "outlinewidth": 0,
              "ticks": ""
             }
            },
            "type": "scattermap"
           }
          ],
          "scattermapbox": [
           {
            "marker": {
             "colorbar": {
              "outlinewidth": 0,
              "ticks": ""
             }
            },
            "type": "scattermapbox"
           }
          ],
          "scatterpolar": [
           {
            "marker": {
             "colorbar": {
              "outlinewidth": 0,
              "ticks": ""
             }
            },
            "type": "scatterpolar"
           }
          ],
          "scatterpolargl": [
           {
            "marker": {
             "colorbar": {
              "outlinewidth": 0,
              "ticks": ""
             }
            },
            "type": "scatterpolargl"
           }
          ],
          "scatterternary": [
           {
            "marker": {
             "colorbar": {
              "outlinewidth": 0,
              "ticks": ""
             }
            },
            "type": "scatterternary"
           }
          ],
          "surface": [
           {
            "colorbar": {
             "outlinewidth": 0,
             "ticks": ""
            },
            "colorscale": [
             [
              0,
              "#0d0887"
             ],
             [
              0.1111111111111111,
              "#46039f"
             ],
             [
              0.2222222222222222,
              "#7201a8"
             ],
             [
              0.3333333333333333,
              "#9c179e"
             ],
             [
              0.4444444444444444,
              "#bd3786"
             ],
             [
              0.5555555555555556,
              "#d8576b"
             ],
             [
              0.6666666666666666,
              "#ed7953"
             ],
             [
              0.7777777777777778,
              "#fb9f3a"
             ],
             [
              0.8888888888888888,
              "#fdca26"
             ],
             [
              1,
              "#f0f921"
             ]
            ],
            "type": "surface"
           }
          ],
          "table": [
           {
            "cells": {
             "fill": {
              "color": "#EBF0F8"
             },
             "line": {
              "color": "white"
             }
            },
            "header": {
             "fill": {
              "color": "#C8D4E3"
             },
             "line": {
              "color": "white"
             }
            },
            "type": "table"
           }
          ]
         },
         "layout": {
          "annotationdefaults": {
           "arrowcolor": "#2a3f5f",
           "arrowhead": 0,
           "arrowwidth": 1
          },
          "autotypenumbers": "strict",
          "coloraxis": {
           "colorbar": {
            "outlinewidth": 0,
            "ticks": ""
           }
          },
          "colorscale": {
           "diverging": [
            [
             0,
             "#8e0152"
            ],
            [
             0.1,
             "#c51b7d"
            ],
            [
             0.2,
             "#de77ae"
            ],
            [
             0.3,
             "#f1b6da"
            ],
            [
             0.4,
             "#fde0ef"
            ],
            [
             0.5,
             "#f7f7f7"
            ],
            [
             0.6,
             "#e6f5d0"
            ],
            [
             0.7,
             "#b8e186"
            ],
            [
             0.8,
             "#7fbc41"
            ],
            [
             0.9,
             "#4d9221"
            ],
            [
             1,
             "#276419"
            ]
           ],
           "sequential": [
            [
             0,
             "#0d0887"
            ],
            [
             0.1111111111111111,
             "#46039f"
            ],
            [
             0.2222222222222222,
             "#7201a8"
            ],
            [
             0.3333333333333333,
             "#9c179e"
            ],
            [
             0.4444444444444444,
             "#bd3786"
            ],
            [
             0.5555555555555556,
             "#d8576b"
            ],
            [
             0.6666666666666666,
             "#ed7953"
            ],
            [
             0.7777777777777778,
             "#fb9f3a"
            ],
            [
             0.8888888888888888,
             "#fdca26"
            ],
            [
             1,
             "#f0f921"
            ]
           ],
           "sequentialminus": [
            [
             0,
             "#0d0887"
            ],
            [
             0.1111111111111111,
             "#46039f"
            ],
            [
             0.2222222222222222,
             "#7201a8"
            ],
            [
             0.3333333333333333,
             "#9c179e"
            ],
            [
             0.4444444444444444,
             "#bd3786"
            ],
            [
             0.5555555555555556,
             "#d8576b"
            ],
            [
             0.6666666666666666,
             "#ed7953"
            ],
            [
             0.7777777777777778,
             "#fb9f3a"
            ],
            [
             0.8888888888888888,
             "#fdca26"
            ],
            [
             1,
             "#f0f921"
            ]
           ]
          },
          "colorway": [
           "#636efa",
           "#EF553B",
           "#00cc96",
           "#ab63fa",
           "#FFA15A",
           "#19d3f3",
           "#FF6692",
           "#B6E880",
           "#FF97FF",
           "#FECB52"
          ],
          "font": {
           "color": "#2a3f5f"
          },
          "geo": {
           "bgcolor": "white",
           "lakecolor": "white",
           "landcolor": "#E5ECF6",
           "showlakes": true,
           "showland": true,
           "subunitcolor": "white"
          },
          "hoverlabel": {
           "align": "left"
          },
          "hovermode": "closest",
          "mapbox": {
           "style": "light"
          },
          "paper_bgcolor": "white",
          "plot_bgcolor": "#E5ECF6",
          "polar": {
           "angularaxis": {
            "gridcolor": "white",
            "linecolor": "white",
            "ticks": ""
           },
           "bgcolor": "#E5ECF6",
           "radialaxis": {
            "gridcolor": "white",
            "linecolor": "white",
            "ticks": ""
           }
          },
          "scene": {
           "xaxis": {
            "backgroundcolor": "#E5ECF6",
            "gridcolor": "white",
            "gridwidth": 2,
            "linecolor": "white",
            "showbackground": true,
            "ticks": "",
            "zerolinecolor": "white"
           },
           "yaxis": {
            "backgroundcolor": "#E5ECF6",
            "gridcolor": "white",
            "gridwidth": 2,
            "linecolor": "white",
            "showbackground": true,
            "ticks": "",
            "zerolinecolor": "white"
           },
           "zaxis": {
            "backgroundcolor": "#E5ECF6",
            "gridcolor": "white",
            "gridwidth": 2,
            "linecolor": "white",
            "showbackground": true,
            "ticks": "",
            "zerolinecolor": "white"
           }
          },
          "shapedefaults": {
           "line": {
            "color": "#2a3f5f"
           }
          },
          "ternary": {
           "aaxis": {
            "gridcolor": "white",
            "linecolor": "white",
            "ticks": ""
           },
           "baxis": {
            "gridcolor": "white",
            "linecolor": "white",
            "ticks": ""
           },
           "bgcolor": "#E5ECF6",
           "caxis": {
            "gridcolor": "white",
            "linecolor": "white",
            "ticks": ""
           }
          },
          "title": {
           "x": 0.05
          },
          "xaxis": {
           "automargin": true,
           "gridcolor": "white",
           "linecolor": "white",
           "ticks": "",
           "title": {
            "standoff": 15
           },
           "zerolinecolor": "white",
           "zerolinewidth": 2
          },
          "yaxis": {
           "automargin": true,
           "gridcolor": "white",
           "linecolor": "white",
           "ticks": "",
           "title": {
            "standoff": 15
           },
           "zerolinecolor": "white",
           "zerolinewidth": 2
          }
         }
        },
        "title": {
         "text": "Process Temperature: Original, Smoothed, and Difference"
        },
        "xaxis": {
         "anchor": "y",
         "domain": [
          0,
          1
         ],
         "matches": "x2",
         "showticklabels": false,
         "title": {
          "text": "UDI"
         }
        },
        "xaxis2": {
         "anchor": "y2",
         "domain": [
          0,
          1
         ]
        },
        "yaxis": {
         "anchor": "x",
         "domain": [
          0.55,
          1
         ],
         "title": {
          "text": "Process Temperature [K]"
         }
        },
        "yaxis2": {
         "anchor": "x2",
         "domain": [
          0,
          0.45
         ],
         "title": {
          "text": "Difference"
         }
        }
       }
      }
     },
     "metadata": {},
     "output_type": "display_data"
    }
   ],
   "source": [
    "dftemp[\"temp_median_rolling10\"] = dftemp[\"process_temperature_K\"].rolling(window=10, center=True).median()\n",
    "plot_smoothed_temperature_data(dftemp, smoothed_column=\"temp_median_rolling10\")"
   ]
  },
  {
   "cell_type": "markdown",
   "id": "f13c08b9",
   "metadata": {},
   "source": [
    "## Applying smoothing prior to interpolation\n",
    "\n",
    "Applying smoothing prior to interpolation can help to reduce noise and improve the accuracy of the imputed values, especially for noisy data.\n",
    "\n",
    "Note that smoothing is applied on the gapped data, not on the original data.\n",
    "The argument **min_periods=2** in the rolling mean function ensures that at least two non-NaN values are required to compute the mean, which helps to not further erode the gapped series."
   ]
  },
  {
   "cell_type": "code",
   "execution_count": 18,
   "id": "8f343329",
   "metadata": {},
   "outputs": [
    {
     "data": {
      "application/vnd.plotly.v1+json": {
       "config": {
        "plotlyServerURL": "https://plot.ly"
       },
       "data": [
        {
         "line": {
          "color": "lightgrey"
         },
         "mode": "lines",
         "name": "Original",
         "type": "scatter",
         "x": {
          "bdata": "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",
          "dtype": "i2"
         },
         "xaxis": "x",
         "y": {
          "bdata": "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",
          "dtype": "f8"
         },
         "yaxis": "y"
        },
        {
         "mode": "lines",
         "name": "With Gaps",
         "type": "scatter",
         "x": {
          "bdata": "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",
          "dtype": "i2"
         },
         "xaxis": "x",
         "y": {
          "bdata": "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",
          "dtype": "f8"
         },
         "yaxis": "y"
        },
        {
         "line": {
          "color": "blue"
         },
         "mode": "lines",
         "name": "Imputed",
         "type": "scatter",
         "x": {
          "bdata": "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",
          "dtype": "i2"
         },
         "xaxis": "x",
         "y": {
          "bdata": "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",
          "dtype": "f8"
         },
         "yaxis": "y"
        },
        {
         "line": {
          "color": "green"
         },
         "mode": "lines",
         "name": "Original - Imputed",
         "type": "scatter",
         "x": {
          "bdata": "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",
          "dtype": "i2"
         },
         "xaxis": "x2",
         "y": {
          "bdata": "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",
          "dtype": "f8"
         },
         "yaxis": "y2"
        }
       ],
       "layout": {
        "annotations": [
         {
          "font": {
           "size": 16
          },
          "showarrow": false,
          "text": "Process Temperature With and Without Gaps",
          "x": 0.5,
          "xanchor": "center",
          "xref": "paper",
          "y": 1,
          "yanchor": "bottom",
          "yref": "paper"
         },
         {
          "font": {
           "size": 16
          },
          "showarrow": false,
          "text": "Original - Imputed Difference",
          "x": 0.5,
          "xanchor": "center",
          "xref": "paper",
          "y": 0.45,
          "yanchor": "bottom",
          "yref": "paper"
         }
        ],
        "height": 700,
        "template": {
         "data": {
          "bar": [
           {
            "error_x": {
             "color": "#2a3f5f"
            },
            "error_y": {
             "color": "#2a3f5f"
            },
            "marker": {
             "line": {
              "color": "#E5ECF6",
              "width": 0.5
             },
             "pattern": {
              "fillmode": "overlay",
              "size": 10,
              "solidity": 0.2
             }
            },
            "type": "bar"
           }
          ],
          "barpolar": [
           {
            "marker": {
             "line": {
              "color": "#E5ECF6",
              "width": 0.5
             },
             "pattern": {
              "fillmode": "overlay",
              "size": 10,
              "solidity": 0.2
             }
            },
            "type": "barpolar"
           }
          ],
          "carpet": [
           {
            "aaxis": {
             "endlinecolor": "#2a3f5f",
             "gridcolor": "white",
             "linecolor": "white",
             "minorgridcolor": "white",
             "startlinecolor": "#2a3f5f"
            },
            "baxis": {
             "endlinecolor": "#2a3f5f",
             "gridcolor": "white",
             "linecolor": "white",
             "minorgridcolor": "white",
             "startlinecolor": "#2a3f5f"
            },
            "type": "carpet"
           }
          ],
          "choropleth": [
           {
            "colorbar": {
             "outlinewidth": 0,
             "ticks": ""
            },
            "type": "choropleth"
           }
          ],
          "contour": [
           {
            "colorbar": {
             "outlinewidth": 0,
             "ticks": ""
            },
            "colorscale": [
             [
              0,
              "#0d0887"
             ],
             [
              0.1111111111111111,
              "#46039f"
             ],
             [
              0.2222222222222222,
              "#7201a8"
             ],
             [
              0.3333333333333333,
              "#9c179e"
             ],
             [
              0.4444444444444444,
              "#bd3786"
             ],
             [
              0.5555555555555556,
              "#d8576b"
             ],
             [
              0.6666666666666666,
              "#ed7953"
             ],
             [
              0.7777777777777778,
              "#fb9f3a"
             ],
             [
              0.8888888888888888,
              "#fdca26"
             ],
             [
              1,
              "#f0f921"
             ]
            ],
            "type": "contour"
           }
          ],
          "contourcarpet": [
           {
            "colorbar": {
             "outlinewidth": 0,
             "ticks": ""
            },
            "type": "contourcarpet"
           }
          ],
          "heatmap": [
           {
            "colorbar": {
             "outlinewidth": 0,
             "ticks": ""
            },
            "colorscale": [
             [
              0,
              "#0d0887"
             ],
             [
              0.1111111111111111,
              "#46039f"
             ],
             [
              0.2222222222222222,
              "#7201a8"
             ],
             [
              0.3333333333333333,
              "#9c179e"
             ],
             [
              0.4444444444444444,
              "#bd3786"
             ],
             [
              0.5555555555555556,
              "#d8576b"
             ],
             [
              0.6666666666666666,
              "#ed7953"
             ],
             [
              0.7777777777777778,
              "#fb9f3a"
             ],
             [
              0.8888888888888888,
              "#fdca26"
             ],
             [
              1,
              "#f0f921"
             ]
            ],
            "type": "heatmap"
           }
          ],
          "histogram": [
           {
            "marker": {
             "pattern": {
              "fillmode": "overlay",
              "size": 10,
              "solidity": 0.2
             }
            },
            "type": "histogram"
           }
          ],
          "histogram2d": [
           {
            "colorbar": {
             "outlinewidth": 0,
             "ticks": ""
            },
            "colorscale": [
             [
              0,
              "#0d0887"
             ],
             [
              0.1111111111111111,
              "#46039f"
             ],
             [
              0.2222222222222222,
              "#7201a8"
             ],
             [
              0.3333333333333333,
              "#9c179e"
             ],
             [
              0.4444444444444444,
              "#bd3786"
             ],
             [
              0.5555555555555556,
              "#d8576b"
             ],
             [
              0.6666666666666666,
              "#ed7953"
             ],
             [
              0.7777777777777778,
              "#fb9f3a"
             ],
             [
              0.8888888888888888,
              "#fdca26"
             ],
             [
              1,
              "#f0f921"
             ]
            ],
            "type": "histogram2d"
           }
          ],
          "histogram2dcontour": [
           {
            "colorbar": {
             "outlinewidth": 0,
             "ticks": ""
            },
            "colorscale": [
             [
              0,
              "#0d0887"
             ],
             [
              0.1111111111111111,
              "#46039f"
             ],
             [
              0.2222222222222222,
              "#7201a8"
             ],
             [
              0.3333333333333333,
              "#9c179e"
             ],
             [
              0.4444444444444444,
              "#bd3786"
             ],
             [
              0.5555555555555556,
              "#d8576b"
             ],
             [
              0.6666666666666666,
              "#ed7953"
             ],
             [
              0.7777777777777778,
              "#fb9f3a"
             ],
             [
              0.8888888888888888,
              "#fdca26"
             ],
             [
              1,
              "#f0f921"
             ]
            ],
            "type": "histogram2dcontour"
           }
          ],
          "mesh3d": [
           {
            "colorbar": {
             "outlinewidth": 0,
             "ticks": ""
            },
            "type": "mesh3d"
           }
          ],
          "parcoords": [
           {
            "line": {
             "colorbar": {
              "outlinewidth": 0,
              "ticks": ""
             }
            },
            "type": "parcoords"
           }
          ],
          "pie": [
           {
            "automargin": true,
            "type": "pie"
           }
          ],
          "scatter": [
           {
            "fillpattern": {
             "fillmode": "overlay",
             "size": 10,
             "solidity": 0.2
            },
            "type": "scatter"
           }
          ],
          "scatter3d": [
           {
            "line": {
             "colorbar": {
              "outlinewidth": 0,
              "ticks": ""
             }
            },
            "marker": {
             "colorbar": {
              "outlinewidth": 0,
              "ticks": ""
             }
            },
            "type": "scatter3d"
           }
          ],
          "scattercarpet": [
           {
            "marker": {
             "colorbar": {
              "outlinewidth": 0,
              "ticks": ""
             }
            },
            "type": "scattercarpet"
           }
          ],
          "scattergeo": [
           {
            "marker": {
             "colorbar": {
              "outlinewidth": 0,
              "ticks": ""
             }
            },
            "type": "scattergeo"
           }
          ],
          "scattergl": [
           {
            "marker": {
             "colorbar": {
              "outlinewidth": 0,
              "ticks": ""
             }
            },
            "type": "scattergl"
           }
          ],
          "scattermap": [
           {
            "marker": {
             "colorbar": {
              "outlinewidth": 0,
              "ticks": ""
             }
            },
            "type": "scattermap"
           }
          ],
          "scattermapbox": [
           {
            "marker": {
             "colorbar": {
              "outlinewidth": 0,
              "ticks": ""
             }
            },
            "type": "scattermapbox"
           }
          ],
          "scatterpolar": [
           {
            "marker": {
             "colorbar": {
              "outlinewidth": 0,
              "ticks": ""
             }
            },
            "type": "scatterpolar"
           }
          ],
          "scatterpolargl": [
           {
            "marker": {
             "colorbar": {
              "outlinewidth": 0,
              "ticks": ""
             }
            },
            "type": "scatterpolargl"
           }
          ],
          "scatterternary": [
           {
            "marker": {
             "colorbar": {
              "outlinewidth": 0,
              "ticks": ""
             }
            },
            "type": "scatterternary"
           }
          ],
          "surface": [
           {
            "colorbar": {
             "outlinewidth": 0,
             "ticks": ""
            },
            "colorscale": [
             [
              0,
              "#0d0887"
             ],
             [
              0.1111111111111111,
              "#46039f"
             ],
             [
              0.2222222222222222,
              "#7201a8"
             ],
             [
              0.3333333333333333,
              "#9c179e"
             ],
             [
              0.4444444444444444,
              "#bd3786"
             ],
             [
              0.5555555555555556,
              "#d8576b"
             ],
             [
              0.6666666666666666,
              "#ed7953"
             ],
             [
              0.7777777777777778,
              "#fb9f3a"
             ],
             [
              0.8888888888888888,
              "#fdca26"
             ],
             [
              1,
              "#f0f921"
             ]
            ],
            "type": "surface"
           }
          ],
          "table": [
           {
            "cells": {
             "fill": {
              "color": "#EBF0F8"
             },
             "line": {
              "color": "white"
             }
            },
            "header": {
             "fill": {
              "color": "#C8D4E3"
             },
             "line": {
              "color": "white"
             }
            },
            "type": "table"
           }
          ]
         },
         "layout": {
          "annotationdefaults": {
           "arrowcolor": "#2a3f5f",
           "arrowhead": 0,
           "arrowwidth": 1
          },
          "autotypenumbers": "strict",
          "coloraxis": {
           "colorbar": {
            "outlinewidth": 0,
            "ticks": ""
           }
          },
          "colorscale": {
           "diverging": [
            [
             0,
             "#8e0152"
            ],
            [
             0.1,
             "#c51b7d"
            ],
            [
             0.2,
             "#de77ae"
            ],
            [
             0.3,
             "#f1b6da"
            ],
            [
             0.4,
             "#fde0ef"
            ],
            [
             0.5,
             "#f7f7f7"
            ],
            [
             0.6,
             "#e6f5d0"
            ],
            [
             0.7,
             "#b8e186"
            ],
            [
             0.8,
             "#7fbc41"
            ],
            [
             0.9,
             "#4d9221"
            ],
            [
             1,
             "#276419"
            ]
           ],
           "sequential": [
            [
             0,
             "#0d0887"
            ],
            [
             0.1111111111111111,
             "#46039f"
            ],
            [
             0.2222222222222222,
             "#7201a8"
            ],
            [
             0.3333333333333333,
             "#9c179e"
            ],
            [
             0.4444444444444444,
             "#bd3786"
            ],
            [
             0.5555555555555556,
             "#d8576b"
            ],
            [
             0.6666666666666666,
             "#ed7953"
            ],
            [
             0.7777777777777778,
             "#fb9f3a"
            ],
            [
             0.8888888888888888,
             "#fdca26"
            ],
            [
             1,
             "#f0f921"
            ]
           ],
           "sequentialminus": [
            [
             0,
             "#0d0887"
            ],
            [
             0.1111111111111111,
             "#46039f"
            ],
            [
             0.2222222222222222,
             "#7201a8"
            ],
            [
             0.3333333333333333,
             "#9c179e"
            ],
            [
             0.4444444444444444,
             "#bd3786"
            ],
            [
             0.5555555555555556,
             "#d8576b"
            ],
            [
             0.6666666666666666,
             "#ed7953"
            ],
            [
             0.7777777777777778,
             "#fb9f3a"
            ],
            [
             0.8888888888888888,
             "#fdca26"
            ],
            [
             1,
             "#f0f921"
            ]
           ]
          },
          "colorway": [
           "#636efa",
           "#EF553B",
           "#00cc96",
           "#ab63fa",
           "#FFA15A",
           "#19d3f3",
           "#FF6692",
           "#B6E880",
           "#FF97FF",
           "#FECB52"
          ],
          "font": {
           "color": "#2a3f5f"
          },
          "geo": {
           "bgcolor": "white",
           "lakecolor": "white",
           "landcolor": "#E5ECF6",
           "showlakes": true,
           "showland": true,
           "subunitcolor": "white"
          },
          "hoverlabel": {
           "align": "left"
          },
          "hovermode": "closest",
          "mapbox": {
           "style": "light"
          },
          "paper_bgcolor": "white",
          "plot_bgcolor": "#E5ECF6",
          "polar": {
           "angularaxis": {
            "gridcolor": "white",
            "linecolor": "white",
            "ticks": ""
           },
           "bgcolor": "#E5ECF6",
           "radialaxis": {
            "gridcolor": "white",
            "linecolor": "white",
            "ticks": ""
           }
          },
          "scene": {
           "xaxis": {
            "backgroundcolor": "#E5ECF6",
            "gridcolor": "white",
            "gridwidth": 2,
            "linecolor": "white",
            "showbackground": true,
            "ticks": "",
            "zerolinecolor": "white"
           },
           "yaxis": {
            "backgroundcolor": "#E5ECF6",
            "gridcolor": "white",
            "gridwidth": 2,
            "linecolor": "white",
            "showbackground": true,
            "ticks": "",
            "zerolinecolor": "white"
           },
           "zaxis": {
            "backgroundcolor": "#E5ECF6",
            "gridcolor": "white",
            "gridwidth": 2,
            "linecolor": "white",
            "showbackground": true,
            "ticks": "",
            "zerolinecolor": "white"
           }
          },
          "shapedefaults": {
           "line": {
            "color": "#2a3f5f"
           }
          },
          "ternary": {
           "aaxis": {
            "gridcolor": "white",
            "linecolor": "white",
            "ticks": ""
           },
           "baxis": {
            "gridcolor": "white",
            "linecolor": "white",
            "ticks": ""
           },
           "bgcolor": "#E5ECF6",
           "caxis": {
            "gridcolor": "white",
            "linecolor": "white",
            "ticks": ""
           }
          },
          "title": {
           "x": 0.05
          },
          "xaxis": {
           "automargin": true,
           "gridcolor": "white",
           "linecolor": "white",
           "ticks": "",
           "title": {
            "standoff": 15
           },
           "zerolinecolor": "white",
           "zerolinewidth": 2
          },
          "yaxis": {
           "automargin": true,
           "gridcolor": "white",
           "linecolor": "white",
           "ticks": "",
           "title": {
            "standoff": 15
           },
           "zerolinecolor": "white",
           "zerolinewidth": 2
          }
         }
        },
        "title": {
         "text": "Process Temperature With and Without Gaps and Imputation Difference"
        },
        "xaxis": {
         "anchor": "y",
         "domain": [
          0,
          1
         ],
         "matches": "x2",
         "showticklabels": false,
         "title": {
          "text": "UDI"
         }
        },
        "xaxis2": {
         "anchor": "y2",
         "domain": [
          0,
          1
         ]
        },
        "yaxis": {
         "anchor": "x",
         "domain": [
          0.55,
          1
         ],
         "title": {
          "text": "Process Temperature [K]"
         }
        },
        "yaxis2": {
         "anchor": "x2",
         "domain": [
          0,
          0.45
         ],
         "title": {
          "text": "Difference"
         }
        }
       }
      }
     },
     "metadata": {},
     "output_type": "display_data"
    }
   ],
   "source": [
    "dftemp.loc[:, \"process_temperature_K_gaps_smoothed\"] = dftemp[\"process_temperature_K_gaps\"].rolling(window=10, center=True, min_periods=2).mean()\n",
    "dftemp.loc[:, \"temp_smoothed_pchip\"] = dftemp[\"process_temperature_K_gaps_smoothed\"].interpolate(\"pchip\")\n",
    "\n",
    "dftemp.loc[:, \"process_temperature_K_gaps_smoothed_plot\"] = dftemp.loc[:, \"process_temperature_K_gaps_smoothed\"]\n",
    "dftemp.loc[dftemp[\"process_temperature_K_gaps\"].isna(), \"process_temperature_K_gaps_smoothed_plot\"] = None  # Keep NaN of originally gapped column for plotting\n",
    "\n",
    "plot_temperature_data(dftemp, gap_column=\"process_temperature_K_gaps_smoothed_plot\", int_column=\"temp_smoothed_pchip\")"
   ]
  }
 ],
 "metadata": {
  "kernelspec": {
   "display_name": ".venv",
   "language": "python",
   "name": "python3"
  },
  "language_info": {
   "codemirror_mode": {
    "name": "ipython",
    "version": 3
   },
   "file_extension": ".py",
   "mimetype": "text/x-python",
   "name": "python",
   "nbconvert_exporter": "python",
   "pygments_lexer": "ipython3",
   "version": "3.13.5"
  }
 },
 "nbformat": 4,
 "nbformat_minor": 5
}

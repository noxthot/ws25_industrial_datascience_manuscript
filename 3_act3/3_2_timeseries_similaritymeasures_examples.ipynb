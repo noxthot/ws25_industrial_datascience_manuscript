{
 "cells": [
  {
   "cell_type": "code",
   "execution_count": 1,
   "id": "50f10e38",
   "metadata": {},
   "outputs": [],
   "source": [
    "import numpy as np\n",
    "\n",
    "import plotly.graph_objs as go"
   ]
  },
  {
   "cell_type": "code",
   "execution_count": 2,
   "id": "6077e281",
   "metadata": {},
   "outputs": [],
   "source": [
    "nr_points = 50\n",
    "interval_start = 0\n",
    "interval_end = 20\n",
    "\n",
    "t = np.linspace(interval_start, interval_end, nr_points)\n",
    "\n",
    "# Generate two similar shaped time series\n",
    "series1 = 0.8 + 0.9 * np.sin(0.9 + 0.9 * t) + 0.03 * np.random.randn(nr_points) - 0.2 * (t / (interval_end - interval_start))\n",
    "series2 = np.sin(1.05 * t) + 0.15 * np.random.randn(nr_points)"
   ]
  },
  {
   "cell_type": "code",
   "execution_count": 3,
   "id": "b4481615",
   "metadata": {},
   "outputs": [],
   "source": [
    "def plot_time_series_plotly(t, series1, series2, title):\n",
    "    fig = go.Figure()\n",
    "    fig.add_trace(go.Scatter(x=t, y=series1, mode='lines+markers', name='Series 1'))\n",
    "    fig.add_trace(go.Scatter(x=t, y=series2, mode='lines+markers', name='Series 2'))\n",
    "    fig.update_layout(\n",
    "        title=title,\n",
    "        xaxis_title='t',\n",
    "        yaxis_title='Value',\n",
    "        legend_title='Series'\n",
    "    )\n",
    "    return fig"
   ]
  },
  {
   "cell_type": "code",
   "execution_count": 4,
   "id": "af69acba",
   "metadata": {},
   "outputs": [
    {
     "data": {
      "application/vnd.plotly.v1+json": {
       "config": {
        "plotlyServerURL": "https://plot.ly"
       },
       "data": [
        {
         "mode": "lines+markers",
         "name": "Series 1",
         "type": "scatter",
         "x": {
          "bdata": "AAAAAAAAAACIxvrQWB/aP4jG+tBYH+o/5hS8nIKX8z+IxvrQWB/6PxW8nIKXUwBA5hS8nIKXA0C3bdu2bdsGQIjG+tBYHwpAWR8a60NjDUAVvJyCl1MQQH5orA+N9RFA5hS8nIKXE0BOwcspeDkVQLdt27Zt2xZAIBrrQ2N9GECIxvrQWB8aQPByCl5OwRtAWR8a60NjHUDCyyl4OQUfQBW8nIKXUyBASZIkSZIkIUB+aKwPjfUhQLI+NNaHxiJA5hS8nIKXI0Aa60NjfWgkQE7Byyl4OSVAg5dT8HIKJkC3bdu2bdsmQOtDY31orCdAIBrrQ2N9KEBU8HIKXk4pQIjG+tBYHypAvJyCl1PwKkDwcgpeTsErQCVJkiRJkixAWR8a60NjLUCN9aGxPjQuQMLLKXg5BS9A9qGxPjTWL0AVvJyCl1MwQC+n4OUUvDBASZIkSZIkMUBjfWisD40xQH5orA+N9TFAmFPwcgpeMkCyPjTWh8YyQMwpeDkFLzNA5hS8nIKXM0AAAAAAAAA0QA==",
          "dtype": "f8"
         },
         "y": {
          "bdata": "N74Zmsk59z+nsedNLln6Pz6q6JrEDvs/u3/B9N32+T8uq2P5+N71P03Ldh4/1/E/G9gCbOhQ6z8YVU6C5WTcP3qw9Ax2LMU/l6myPANpoT/2ZcbaiVK4vxaQf7rxpr+/mNEHF+bUjb9uOYxGKmzHP2v5jgNWc+A/XuSRXSq26j8QtTqoltvyP1NBGbAo9/c/C92ZkRde+T823HN06OH5P3I9AT1uX/g/sLIWh7RW9T+5YYtUe1zxPw8Pg/N39+c/u1vjAJCc3D/WZjVUnAXOP1UrBjDFWLK/EjDYH2J4yL8gJBR8Y7TJv8gCicV7dLy/nB/qkTaXwz/ZG0d6fkHYP00ypJgzKek/8lQQjHoQ8T/uVtBoa7r1P+pCU1pQJ/g/tzs7hTND+T9tFQto+QL4PzV5qaI7KPU/HlodFuUx8T/o9IUJ06roP140AhfFztk/9DaMV/RDwD/y1iBRPka9v2AhrqiDftO/DTAumYl80b+AMu9q6u3EvwAqcE6Lp0E/TpnnRa5m0j+0sDaObfPjPw==",
          "dtype": "f8"
         }
        },
        {
         "mode": "lines+markers",
         "name": "Series 2",
         "type": "scatter",
         "x": {
          "bdata": "AAAAAAAAAACIxvrQWB/aP4jG+tBYH+o/5hS8nIKX8z+IxvrQWB/6PxW8nIKXUwBA5hS8nIKXA0C3bdu2bdsGQIjG+tBYHwpAWR8a60NjDUAVvJyCl1MQQH5orA+N9RFA5hS8nIKXE0BOwcspeDkVQLdt27Zt2xZAIBrrQ2N9GECIxvrQWB8aQPByCl5OwRtAWR8a60NjHUDCyyl4OQUfQBW8nIKXUyBASZIkSZIkIUB+aKwPjfUhQLI+NNaHxiJA5hS8nIKXI0Aa60NjfWgkQE7Byyl4OSVAg5dT8HIKJkC3bdu2bdsmQOtDY31orCdAIBrrQ2N9KEBU8HIKXk4pQIjG+tBYHypAvJyCl1PwKkDwcgpeTsErQCVJkiRJkixAWR8a60NjLUCN9aGxPjQuQMLLKXg5BS9A9qGxPjTWL0AVvJyCl1MwQC+n4OUUvDBASZIkSZIkMUBjfWisD40xQH5orA+N9TFAmFPwcgpeMkCyPjTWh8YyQMwpeDkFLzNA5hS8nIKXM0AAAAAAAAA0QA==",
          "dtype": "f8"
         },
         "y": {
          "bdata": "g9WNnweDpj/kEloYJcngP9668Nr2B+Y/SSencuXD8D8YXvF6067uP+iZZ7eL1OU/E0PPCOTO3T8AGqFeNIJYvyI+BmBAftu/w3/TWoml3794gIL3xR3mv+RP4NOvH/K/6JhfzglT77+mGX7VPsDnvx/v0vrngse/NgubFsIryj+cJoEJs9DiP8xMRyNL5+s/H0A/jLSJ8z8kRS+YelLtPzbI7jgGku8/PYiuyhtAzD+RgnSRKpOxPxCLa2tZGN+/I+PNdOsl6r8jK4RW1Sf1v3PusDVhNPC/ptEcBcxh5L+FlFhZafLqvwrm7NXHKrq/Fv/9zbIZ1z8BSPcKadnjP2866aWz8/A/sKyDmM9S5z+gKK6VT0/0P17REOdX394/UKwX9BPz2T/Wyd1xW3vGP7Je4lsCg+K/vGC9Gofi4b+KiTo/85jwv5ItY6LCiu+/U8G+mzdK678vA7NPmnTKv99Wi2aut7M/wnNW85gb4D/o84Ye9tvpP+aP1lEev/A/LbUdDQcR8T/DqZhE+tvsPw==",
          "dtype": "f8"
         }
        }
       ],
       "layout": {
        "legend": {
         "title": {
          "text": "Series"
         }
        },
        "template": {
         "data": {
          "bar": [
           {
            "error_x": {
             "color": "#2a3f5f"
            },
            "error_y": {
             "color": "#2a3f5f"
            },
            "marker": {
             "line": {
              "color": "#E5ECF6",
              "width": 0.5
             },
             "pattern": {
              "fillmode": "overlay",
              "size": 10,
              "solidity": 0.2
             }
            },
            "type": "bar"
           }
          ],
          "barpolar": [
           {
            "marker": {
             "line": {
              "color": "#E5ECF6",
              "width": 0.5
             },
             "pattern": {
              "fillmode": "overlay",
              "size": 10,
              "solidity": 0.2
             }
            },
            "type": "barpolar"
           }
          ],
          "carpet": [
           {
            "aaxis": {
             "endlinecolor": "#2a3f5f",
             "gridcolor": "white",
             "linecolor": "white",
             "minorgridcolor": "white",
             "startlinecolor": "#2a3f5f"
            },
            "baxis": {
             "endlinecolor": "#2a3f5f",
             "gridcolor": "white",
             "linecolor": "white",
             "minorgridcolor": "white",
             "startlinecolor": "#2a3f5f"
            },
            "type": "carpet"
           }
          ],
          "choropleth": [
           {
            "colorbar": {
             "outlinewidth": 0,
             "ticks": ""
            },
            "type": "choropleth"
           }
          ],
          "contour": [
           {
            "colorbar": {
             "outlinewidth": 0,
             "ticks": ""
            },
            "colorscale": [
             [
              0,
              "#0d0887"
             ],
             [
              0.1111111111111111,
              "#46039f"
             ],
             [
              0.2222222222222222,
              "#7201a8"
             ],
             [
              0.3333333333333333,
              "#9c179e"
             ],
             [
              0.4444444444444444,
              "#bd3786"
             ],
             [
              0.5555555555555556,
              "#d8576b"
             ],
             [
              0.6666666666666666,
              "#ed7953"
             ],
             [
              0.7777777777777778,
              "#fb9f3a"
             ],
             [
              0.8888888888888888,
              "#fdca26"
             ],
             [
              1,
              "#f0f921"
             ]
            ],
            "type": "contour"
           }
          ],
          "contourcarpet": [
           {
            "colorbar": {
             "outlinewidth": 0,
             "ticks": ""
            },
            "type": "contourcarpet"
           }
          ],
          "heatmap": [
           {
            "colorbar": {
             "outlinewidth": 0,
             "ticks": ""
            },
            "colorscale": [
             [
              0,
              "#0d0887"
             ],
             [
              0.1111111111111111,
              "#46039f"
             ],
             [
              0.2222222222222222,
              "#7201a8"
             ],
             [
              0.3333333333333333,
              "#9c179e"
             ],
             [
              0.4444444444444444,
              "#bd3786"
             ],
             [
              0.5555555555555556,
              "#d8576b"
             ],
             [
              0.6666666666666666,
              "#ed7953"
             ],
             [
              0.7777777777777778,
              "#fb9f3a"
             ],
             [
              0.8888888888888888,
              "#fdca26"
             ],
             [
              1,
              "#f0f921"
             ]
            ],
            "type": "heatmap"
           }
          ],
          "histogram": [
           {
            "marker": {
             "pattern": {
              "fillmode": "overlay",
              "size": 10,
              "solidity": 0.2
             }
            },
            "type": "histogram"
           }
          ],
          "histogram2d": [
           {
            "colorbar": {
             "outlinewidth": 0,
             "ticks": ""
            },
            "colorscale": [
             [
              0,
              "#0d0887"
             ],
             [
              0.1111111111111111,
              "#46039f"
             ],
             [
              0.2222222222222222,
              "#7201a8"
             ],
             [
              0.3333333333333333,
              "#9c179e"
             ],
             [
              0.4444444444444444,
              "#bd3786"
             ],
             [
              0.5555555555555556,
              "#d8576b"
             ],
             [
              0.6666666666666666,
              "#ed7953"
             ],
             [
              0.7777777777777778,
              "#fb9f3a"
             ],
             [
              0.8888888888888888,
              "#fdca26"
             ],
             [
              1,
              "#f0f921"
             ]
            ],
            "type": "histogram2d"
           }
          ],
          "histogram2dcontour": [
           {
            "colorbar": {
             "outlinewidth": 0,
             "ticks": ""
            },
            "colorscale": [
             [
              0,
              "#0d0887"
             ],
             [
              0.1111111111111111,
              "#46039f"
             ],
             [
              0.2222222222222222,
              "#7201a8"
             ],
             [
              0.3333333333333333,
              "#9c179e"
             ],
             [
              0.4444444444444444,
              "#bd3786"
             ],
             [
              0.5555555555555556,
              "#d8576b"
             ],
             [
              0.6666666666666666,
              "#ed7953"
             ],
             [
              0.7777777777777778,
              "#fb9f3a"
             ],
             [
              0.8888888888888888,
              "#fdca26"
             ],
             [
              1,
              "#f0f921"
             ]
            ],
            "type": "histogram2dcontour"
           }
          ],
          "mesh3d": [
           {
            "colorbar": {
             "outlinewidth": 0,
             "ticks": ""
            },
            "type": "mesh3d"
           }
          ],
          "parcoords": [
           {
            "line": {
             "colorbar": {
              "outlinewidth": 0,
              "ticks": ""
             }
            },
            "type": "parcoords"
           }
          ],
          "pie": [
           {
            "automargin": true,
            "type": "pie"
           }
          ],
          "scatter": [
           {
            "fillpattern": {
             "fillmode": "overlay",
             "size": 10,
             "solidity": 0.2
            },
            "type": "scatter"
           }
          ],
          "scatter3d": [
           {
            "line": {
             "colorbar": {
              "outlinewidth": 0,
              "ticks": ""
             }
            },
            "marker": {
             "colorbar": {
              "outlinewidth": 0,
              "ticks": ""
             }
            },
            "type": "scatter3d"
           }
          ],
          "scattercarpet": [
           {
            "marker": {
             "colorbar": {
              "outlinewidth": 0,
              "ticks": ""
             }
            },
            "type": "scattercarpet"
           }
          ],
          "scattergeo": [
           {
            "marker": {
             "colorbar": {
              "outlinewidth": 0,
              "ticks": ""
             }
            },
            "type": "scattergeo"
           }
          ],
          "scattergl": [
           {
            "marker": {
             "colorbar": {
              "outlinewidth": 0,
              "ticks": ""
             }
            },
            "type": "scattergl"
           }
          ],
          "scattermap": [
           {
            "marker": {
             "colorbar": {
              "outlinewidth": 0,
              "ticks": ""
             }
            },
            "type": "scattermap"
           }
          ],
          "scattermapbox": [
           {
            "marker": {
             "colorbar": {
              "outlinewidth": 0,
              "ticks": ""
             }
            },
            "type": "scattermapbox"
           }
          ],
          "scatterpolar": [
           {
            "marker": {
             "colorbar": {
              "outlinewidth": 0,
              "ticks": ""
             }
            },
            "type": "scatterpolar"
           }
          ],
          "scatterpolargl": [
           {
            "marker": {
             "colorbar": {
              "outlinewidth": 0,
              "ticks": ""
             }
            },
            "type": "scatterpolargl"
           }
          ],
          "scatterternary": [
           {
            "marker": {
             "colorbar": {
              "outlinewidth": 0,
              "ticks": ""
             }
            },
            "type": "scatterternary"
           }
          ],
          "surface": [
           {
            "colorbar": {
             "outlinewidth": 0,
             "ticks": ""
            },
            "colorscale": [
             [
              0,
              "#0d0887"
             ],
             [
              0.1111111111111111,
              "#46039f"
             ],
             [
              0.2222222222222222,
              "#7201a8"
             ],
             [
              0.3333333333333333,
              "#9c179e"
             ],
             [
              0.4444444444444444,
              "#bd3786"
             ],
             [
              0.5555555555555556,
              "#d8576b"
             ],
             [
              0.6666666666666666,
              "#ed7953"
             ],
             [
              0.7777777777777778,
              "#fb9f3a"
             ],
             [
              0.8888888888888888,
              "#fdca26"
             ],
             [
              1,
              "#f0f921"
             ]
            ],
            "type": "surface"
           }
          ],
          "table": [
           {
            "cells": {
             "fill": {
              "color": "#EBF0F8"
             },
             "line": {
              "color": "white"
             }
            },
            "header": {
             "fill": {
              "color": "#C8D4E3"
             },
             "line": {
              "color": "white"
             }
            },
            "type": "table"
           }
          ]
         },
         "layout": {
          "annotationdefaults": {
           "arrowcolor": "#2a3f5f",
           "arrowhead": 0,
           "arrowwidth": 1
          },
          "autotypenumbers": "strict",
          "coloraxis": {
           "colorbar": {
            "outlinewidth": 0,
            "ticks": ""
           }
          },
          "colorscale": {
           "diverging": [
            [
             0,
             "#8e0152"
            ],
            [
             0.1,
             "#c51b7d"
            ],
            [
             0.2,
             "#de77ae"
            ],
            [
             0.3,
             "#f1b6da"
            ],
            [
             0.4,
             "#fde0ef"
            ],
            [
             0.5,
             "#f7f7f7"
            ],
            [
             0.6,
             "#e6f5d0"
            ],
            [
             0.7,
             "#b8e186"
            ],
            [
             0.8,
             "#7fbc41"
            ],
            [
             0.9,
             "#4d9221"
            ],
            [
             1,
             "#276419"
            ]
           ],
           "sequential": [
            [
             0,
             "#0d0887"
            ],
            [
             0.1111111111111111,
             "#46039f"
            ],
            [
             0.2222222222222222,
             "#7201a8"
            ],
            [
             0.3333333333333333,
             "#9c179e"
            ],
            [
             0.4444444444444444,
             "#bd3786"
            ],
            [
             0.5555555555555556,
             "#d8576b"
            ],
            [
             0.6666666666666666,
             "#ed7953"
            ],
            [
             0.7777777777777778,
             "#fb9f3a"
            ],
            [
             0.8888888888888888,
             "#fdca26"
            ],
            [
             1,
             "#f0f921"
            ]
           ],
           "sequentialminus": [
            [
             0,
             "#0d0887"
            ],
            [
             0.1111111111111111,
             "#46039f"
            ],
            [
             0.2222222222222222,
             "#7201a8"
            ],
            [
             0.3333333333333333,
             "#9c179e"
            ],
            [
             0.4444444444444444,
             "#bd3786"
            ],
            [
             0.5555555555555556,
             "#d8576b"
            ],
            [
             0.6666666666666666,
             "#ed7953"
            ],
            [
             0.7777777777777778,
             "#fb9f3a"
            ],
            [
             0.8888888888888888,
             "#fdca26"
            ],
            [
             1,
             "#f0f921"
            ]
           ]
          },
          "colorway": [
           "#636efa",
           "#EF553B",
           "#00cc96",
           "#ab63fa",
           "#FFA15A",
           "#19d3f3",
           "#FF6692",
           "#B6E880",
           "#FF97FF",
           "#FECB52"
          ],
          "font": {
           "color": "#2a3f5f"
          },
          "geo": {
           "bgcolor": "white",
           "lakecolor": "white",
           "landcolor": "#E5ECF6",
           "showlakes": true,
           "showland": true,
           "subunitcolor": "white"
          },
          "hoverlabel": {
           "align": "left"
          },
          "hovermode": "closest",
          "mapbox": {
           "style": "light"
          },
          "paper_bgcolor": "white",
          "plot_bgcolor": "#E5ECF6",
          "polar": {
           "angularaxis": {
            "gridcolor": "white",
            "linecolor": "white",
            "ticks": ""
           },
           "bgcolor": "#E5ECF6",
           "radialaxis": {
            "gridcolor": "white",
            "linecolor": "white",
            "ticks": ""
           }
          },
          "scene": {
           "xaxis": {
            "backgroundcolor": "#E5ECF6",
            "gridcolor": "white",
            "gridwidth": 2,
            "linecolor": "white",
            "showbackground": true,
            "ticks": "",
            "zerolinecolor": "white"
           },
           "yaxis": {
            "backgroundcolor": "#E5ECF6",
            "gridcolor": "white",
            "gridwidth": 2,
            "linecolor": "white",
            "showbackground": true,
            "ticks": "",
            "zerolinecolor": "white"
           },
           "zaxis": {
            "backgroundcolor": "#E5ECF6",
            "gridcolor": "white",
            "gridwidth": 2,
            "linecolor": "white",
            "showbackground": true,
            "ticks": "",
            "zerolinecolor": "white"
           }
          },
          "shapedefaults": {
           "line": {
            "color": "#2a3f5f"
           }
          },
          "ternary": {
           "aaxis": {
            "gridcolor": "white",
            "linecolor": "white",
            "ticks": ""
           },
           "baxis": {
            "gridcolor": "white",
            "linecolor": "white",
            "ticks": ""
           },
           "bgcolor": "#E5ECF6",
           "caxis": {
            "gridcolor": "white",
            "linecolor": "white",
            "ticks": ""
           }
          },
          "title": {
           "x": 0.05
          },
          "xaxis": {
           "automargin": true,
           "gridcolor": "white",
           "linecolor": "white",
           "ticks": "",
           "title": {
            "standoff": 15
           },
           "zerolinecolor": "white",
           "zerolinewidth": 2
          },
          "yaxis": {
           "automargin": true,
           "gridcolor": "white",
           "linecolor": "white",
           "ticks": "",
           "title": {
            "standoff": 15
           },
           "zerolinecolor": "white",
           "zerolinewidth": 2
          }
         }
        },
        "title": {
         "text": "Two Similar Time Series"
        },
        "xaxis": {
         "title": {
          "text": "t"
         }
        },
        "yaxis": {
         "title": {
          "text": "Value"
         }
        }
       }
      }
     },
     "metadata": {},
     "output_type": "display_data"
    }
   ],
   "source": [
    "plot_time_series_plotly(t, series1, series2, 'Two Similar Time Series')"
   ]
  },
  {
   "cell_type": "markdown",
   "id": "9437af0d",
   "metadata": {},
   "source": [
    "### Euclidean Distance\n",
    "The Euclidean distance is the most straightforward similarity measure. It calculates the straight-line distance between two points.\n",
    "For time series data, this means comparing the values at each time point directly.\n",
    "\n",
    "Having two time series $X = (x_1, x_2, \\ldots, x_n)$ and $Y = (y_1, y_2, \\ldots, y_n)$ of equal length $n$, the Euclidean distance $d$ between them is calculated as:\n",
    "$$d(X, Y) = \\sqrt{\\sum_{i=1}^{n} (x_i - y_i)^2}$$"
   ]
  },
  {
   "cell_type": "code",
   "execution_count": 5,
   "id": "a03ab4fc",
   "metadata": {},
   "outputs": [],
   "source": [
    "#| code-fold: true\n",
    "\n",
    "def plot_euclidean_distance(series1, series2, t):\n",
    "    fig = go.Figure()\n",
    "    fig.add_trace(go.Scatter(x=t, y=series1, mode='lines+markers', name='Series 1'))\n",
    "    fig.add_trace(go.Scatter(x=t, y=series2, mode='lines+markers', name='Series 2'))\n",
    "\n",
    "    # Draw lines showing the Euclidean distance at each point (every 5th for clarity)\n",
    "    for i, v in enumerate(t):\n",
    "        fig.add_trace(go.Scatter(\n",
    "            x=[v, v],\n",
    "            y=[series1[i], series2[i]],\n",
    "            mode='lines',\n",
    "            line=dict(color='gray', dash='dash', width=1),\n",
    "            showlegend=False\n",
    "        ))\n",
    "\n",
    "    fig.update_layout(\n",
    "        title='Euclidean Distance Visualization Between Series 1 and Series 2',\n",
    "        xaxis_title='t',\n",
    "        yaxis_title='Value'\n",
    "    )\n",
    "    \n",
    "    return fig"
   ]
  },
  {
   "cell_type": "code",
   "execution_count": 6,
   "id": "59d6afaf",
   "metadata": {},
   "outputs": [
    {
     "data": {
      "application/vnd.plotly.v1+json": {
       "config": {
        "plotlyServerURL": "https://plot.ly"
       },
       "data": [
        {
         "mode": "lines+markers",
         "name": "Series 1",
         "type": "scatter",
         "x": {
          "bdata": "AAAAAAAAAACIxvrQWB/aP4jG+tBYH+o/5hS8nIKX8z+IxvrQWB/6PxW8nIKXUwBA5hS8nIKXA0C3bdu2bdsGQIjG+tBYHwpAWR8a60NjDUAVvJyCl1MQQH5orA+N9RFA5hS8nIKXE0BOwcspeDkVQLdt27Zt2xZAIBrrQ2N9GECIxvrQWB8aQPByCl5OwRtAWR8a60NjHUDCyyl4OQUfQBW8nIKXUyBASZIkSZIkIUB+aKwPjfUhQLI+NNaHxiJA5hS8nIKXI0Aa60NjfWgkQE7Byyl4OSVAg5dT8HIKJkC3bdu2bdsmQOtDY31orCdAIBrrQ2N9KEBU8HIKXk4pQIjG+tBYHypAvJyCl1PwKkDwcgpeTsErQCVJkiRJkixAWR8a60NjLUCN9aGxPjQuQMLLKXg5BS9A9qGxPjTWL0AVvJyCl1MwQC+n4OUUvDBASZIkSZIkMUBjfWisD40xQH5orA+N9TFAmFPwcgpeMkCyPjTWh8YyQMwpeDkFLzNA5hS8nIKXM0AAAAAAAAA0QA==",
          "dtype": "f8"
         },
         "y": {
          "bdata": "N74Zmsk59z+nsedNLln6Pz6q6JrEDvs/u3/B9N32+T8uq2P5+N71P03Ldh4/1/E/G9gCbOhQ6z8YVU6C5WTcP3qw9Ax2LMU/l6myPANpoT/2ZcbaiVK4vxaQf7rxpr+/mNEHF+bUjb9uOYxGKmzHP2v5jgNWc+A/XuSRXSq26j8QtTqoltvyP1NBGbAo9/c/C92ZkRde+T823HN06OH5P3I9AT1uX/g/sLIWh7RW9T+5YYtUe1zxPw8Pg/N39+c/u1vjAJCc3D/WZjVUnAXOP1UrBjDFWLK/EjDYH2J4yL8gJBR8Y7TJv8gCicV7dLy/nB/qkTaXwz/ZG0d6fkHYP00ypJgzKek/8lQQjHoQ8T/uVtBoa7r1P+pCU1pQJ/g/tzs7hTND+T9tFQto+QL4PzV5qaI7KPU/HlodFuUx8T/o9IUJ06roP140AhfFztk/9DaMV/RDwD/y1iBRPka9v2AhrqiDftO/DTAumYl80b+AMu9q6u3EvwAqcE6Lp0E/TpnnRa5m0j+0sDaObfPjPw==",
          "dtype": "f8"
         }
        },
        {
         "mode": "lines+markers",
         "name": "Series 2",
         "type": "scatter",
         "x": {
          "bdata": "AAAAAAAAAACIxvrQWB/aP4jG+tBYH+o/5hS8nIKX8z+IxvrQWB/6PxW8nIKXUwBA5hS8nIKXA0C3bdu2bdsGQIjG+tBYHwpAWR8a60NjDUAVvJyCl1MQQH5orA+N9RFA5hS8nIKXE0BOwcspeDkVQLdt27Zt2xZAIBrrQ2N9GECIxvrQWB8aQPByCl5OwRtAWR8a60NjHUDCyyl4OQUfQBW8nIKXUyBASZIkSZIkIUB+aKwPjfUhQLI+NNaHxiJA5hS8nIKXI0Aa60NjfWgkQE7Byyl4OSVAg5dT8HIKJkC3bdu2bdsmQOtDY31orCdAIBrrQ2N9KEBU8HIKXk4pQIjG+tBYHypAvJyCl1PwKkDwcgpeTsErQCVJkiRJkixAWR8a60NjLUCN9aGxPjQuQMLLKXg5BS9A9qGxPjTWL0AVvJyCl1MwQC+n4OUUvDBASZIkSZIkMUBjfWisD40xQH5orA+N9TFAmFPwcgpeMkCyPjTWh8YyQMwpeDkFLzNA5hS8nIKXM0AAAAAAAAA0QA==",
          "dtype": "f8"
         },
         "y": {
          "bdata": "g9WNnweDpj/kEloYJcngP9668Nr2B+Y/SSencuXD8D8YXvF6067uP+iZZ7eL1OU/E0PPCOTO3T8AGqFeNIJYvyI+BmBAftu/w3/TWoml3794gIL3xR3mv+RP4NOvH/K/6JhfzglT77+mGX7VPsDnvx/v0vrngse/NgubFsIryj+cJoEJs9DiP8xMRyNL5+s/H0A/jLSJ8z8kRS+YelLtPzbI7jgGku8/PYiuyhtAzD+RgnSRKpOxPxCLa2tZGN+/I+PNdOsl6r8jK4RW1Sf1v3PusDVhNPC/ptEcBcxh5L+FlFhZafLqvwrm7NXHKrq/Fv/9zbIZ1z8BSPcKadnjP2866aWz8/A/sKyDmM9S5z+gKK6VT0/0P17REOdX394/UKwX9BPz2T/Wyd1xW3vGP7Je4lsCg+K/vGC9Gofi4b+KiTo/85jwv5ItY6LCiu+/U8G+mzdK678vA7NPmnTKv99Wi2aut7M/wnNW85gb4D/o84Ye9tvpP+aP1lEev/A/LbUdDQcR8T/DqZhE+tvsPw==",
          "dtype": "f8"
         }
        },
        {
         "line": {
          "color": "gray",
          "dash": "dash",
          "width": 1
         },
         "mode": "lines",
         "showlegend": false,
         "type": "scatter",
         "x": [
          0,
          0
         ],
         "y": [
          1.451608278231914,
          0.043968427874385284
         ]
        },
        {
         "line": {
          "color": "gray",
          "dash": "dash",
          "width": 1
         },
         "mode": "lines",
         "showlegend": false,
         "type": "scatter",
         "x": [
          0.40816326530612246,
          0.40816326530612246
         ],
         "y": [
          1.6467726748624985,
          0.5245538211462102
         ]
        },
        {
         "line": {
          "color": "gray",
          "dash": "dash",
          "width": 1
         },
         "mode": "lines",
         "showlegend": false,
         "type": "scatter",
         "x": [
          0.8163265306122449,
          0.8163265306122449
         ],
         "y": [
          1.691105465996443,
          0.6884722019366014
         ]
        },
        {
         "line": {
          "color": "gray",
          "dash": "dash",
          "width": 1
         },
         "mode": "lines",
         "showlegend": false,
         "type": "scatter",
         "x": [
          1.2244897959183674,
          1.2244897959183674
         ],
         "y": [
          1.6227702675605389,
          1.047826240408954
         ]
        },
        {
         "line": {
          "color": "gray",
          "dash": "dash",
          "width": 1
         },
         "mode": "lines",
         "showlegend": false,
         "type": "scatter",
         "x": [
          1.6326530612244898,
          1.6326530612244898
         ],
         "y": [
          1.3669366590281231,
          0.9588410760142692
         ]
        },
        {
         "line": {
          "color": "gray",
          "dash": "dash",
          "width": 1
         },
         "mode": "lines",
         "showlegend": false,
         "type": "scatter",
         "x": [
          2.0408163265306123,
          2.0408163265306123
         ],
         "y": [
          1.1150504293443249,
          0.6821955282328505
         ]
        },
        {
         "line": {
          "color": "gray",
          "dash": "dash",
          "width": 1
         },
         "mode": "lines",
         "showlegend": false,
         "type": "scatter",
         "x": [
          2.4489795918367347,
          2.4489795918367347
         ],
         "y": [
          0.8536264524070732,
          0.46575260982813055
         ]
        },
        {
         "line": {
          "color": "gray",
          "dash": "dash",
          "width": 1
         },
         "mode": "lines",
         "showlegend": false,
         "type": "scatter",
         "x": [
          2.857142857142857,
          2.857142857142857
         ],
         "y": [
          0.44365823483652056,
          -0.001495886938316482
         ]
        },
        {
         "line": {
          "color": "gray",
          "dash": "dash",
          "width": 1
         },
         "mode": "lines",
         "showlegend": false,
         "type": "scatter",
         "x": [
          3.2653061224489797,
          3.2653061224489797
         ],
         "y": [
          0.1654193461666898,
          -0.4295807779062405
         ]
        },
        {
         "line": {
          "color": "gray",
          "dash": "dash",
          "width": 1
         },
         "mode": "lines",
         "showlegend": false,
         "type": "scatter",
         "x": [
          3.673469387755102,
          3.673469387755102
         ],
         "y": [
          0.034004307898914,
          -0.49447854871504776
         ]
        },
        {
         "line": {
          "color": "gray",
          "dash": "dash",
          "width": 1
         },
         "mode": "lines",
         "showlegend": false,
         "type": "scatter",
         "x": [
          4.081632653061225,
          4.081632653061225
         ],
         "y": [
          -0.09500943747698173,
          -0.6911344370055437
         ]
        },
        {
         "line": {
          "color": "gray",
          "dash": "dash",
          "width": 1
         },
         "mode": "lines",
         "showlegend": false,
         "type": "scatter",
         "x": [
          4.4897959183673475,
          4.4897959183673475
         ],
         "y": [
          -0.12364111712628331,
          -1.1327360416807943
         ]
        },
        {
         "line": {
          "color": "gray",
          "dash": "dash",
          "width": 1
         },
         "mode": "lines",
         "showlegend": false,
         "type": "scatter",
         "x": [
          4.8979591836734695,
          4.8979591836734695
         ],
         "y": [
          -0.01456622846397053,
          -0.9788865118723864
         ]
        },
        {
         "line": {
          "color": "gray",
          "dash": "dash",
          "width": 1
         },
         "mode": "lines",
         "showlegend": false,
         "type": "scatter",
         "x": [
          5.3061224489795915,
          5.3061224489795915
         ],
         "y": [
          0.18298843807901782,
          -0.742217461564725
         ]
        },
        {
         "line": {
          "color": "gray",
          "dash": "dash",
          "width": 1
         },
         "mode": "lines",
         "showlegend": false,
         "type": "scatter",
         "x": [
          5.714285714285714,
          5.714285714285714
         ],
         "y": [
          0.5140791005613158,
          -0.1836824393011449
         ]
        },
        {
         "line": {
          "color": "gray",
          "dash": "dash",
          "width": 1
         },
         "mode": "lines",
         "showlegend": false,
         "type": "scatter",
         "x": [
          6.122448979591837,
          6.122448979591837
         ],
         "y": [
          0.8347369983231478,
          0.2044603929881192
         ]
        },
        {
         "line": {
          "color": "gray",
          "dash": "dash",
          "width": 1
         },
         "mode": "lines",
         "showlegend": false,
         "type": "scatter",
         "x": [
          6.530612244897959,
          6.530612244897959
         ],
         "y": [
          1.1786104747255344,
          0.5879759965548206
         ]
        },
        {
         "line": {
          "color": "gray",
          "dash": "dash",
          "width": 1
         },
         "mode": "lines",
         "showlegend": false,
         "type": "scatter",
         "x": [
          6.938775510204081,
          6.938775510204081
         ],
         "y": [
          1.49784153736626,
          0.8719840706857211
         ]
        },
        {
         "line": {
          "color": "gray",
          "dash": "dash",
          "width": 1
         },
         "mode": "lines",
         "showlegend": false,
         "type": "scatter",
         "x": [
          7.346938775510204,
          7.346938775510204
         ],
         "y": [
          1.5854716956653785,
          1.2211194494630104
         ]
        },
        {
         "line": {
          "color": "gray",
          "dash": "dash",
          "width": 1
         },
         "mode": "lines",
         "showlegend": false,
         "type": "scatter",
         "x": [
          7.755102040816327,
          7.755102040816327
         ],
         "y": [
          1.6176533268860687,
          0.9163182232242986
         ]
        },
        {
         "line": {
          "color": "gray",
          "dash": "dash",
          "width": 1
         },
         "mode": "lines",
         "showlegend": false,
         "type": "scatter",
         "x": [
          8.16326530612245,
          8.16326530612245
         ],
         "y": [
          1.5232984908105576,
          0.9865752326934458
         ]
        },
        {
         "line": {
          "color": "gray",
          "dash": "dash",
          "width": 1
         },
         "mode": "lines",
         "showlegend": false,
         "type": "scatter",
         "x": [
          8.571428571428571,
          8.571428571428571
         ],
         "y": [
          1.3336682583714428,
          0.2207064380318701
         ]
        },
        {
         "line": {
          "color": "gray",
          "dash": "dash",
          "width": 1
         },
         "mode": "lines",
         "showlegend": false,
         "type": "scatter",
         "x": [
          8.979591836734695,
          8.979591836734695
         ],
         "y": [
          1.0850785543935741,
          0.06865182925367665
         ]
        },
        {
         "line": {
          "color": "gray",
          "dash": "dash",
          "width": 1
         },
         "mode": "lines",
         "showlegend": false,
         "type": "scatter",
         "x": [
          9.387755102040817,
          9.387755102040817
         ],
         "y": [
          0.7489585643856759,
          -0.48586116304629545
         ]
        },
        {
         "line": {
          "color": "gray",
          "dash": "dash",
          "width": 1
         },
         "mode": "lines",
         "showlegend": false,
         "type": "scatter",
         "x": [
          9.795918367346939,
          9.795918367346939
         ],
         "y": [
          0.4470558174775154,
          -0.817128875859542
         ]
        },
        {
         "line": {
          "color": "gray",
          "dash": "dash",
          "width": 1
         },
         "mode": "lines",
         "showlegend": false,
         "type": "scatter",
         "x": [
          10.204081632653061,
          10.204081632653061
         ],
         "y": [
          0.2345462237524802,
          -1.322224939302665
         ]
        },
        {
         "line": {
          "color": "gray",
          "dash": "dash",
          "width": 1
         },
         "mode": "lines",
         "showlegend": false,
         "type": "scatter",
         "x": [
          10.612244897959183,
          10.612244897959183
         ],
         "y": [
          -0.07166702673400256,
          -1.0127880189237686
         ]
        },
        {
         "line": {
          "color": "gray",
          "dash": "dash",
          "width": 1
         },
         "mode": "lines",
         "showlegend": false,
         "type": "scatter",
         "x": [
          11.020408163265307,
          11.020408163265307
         ],
         "y": [
          -0.19117380671411915,
          -0.6369381046156846
         ]
        },
        {
         "line": {
          "color": "gray",
          "dash": "dash",
          "width": 1
         },
         "mode": "lines",
         "showlegend": false,
         "type": "scatter",
         "x": [
          11.428571428571429,
          11.428571428571429
         ],
         "y": [
          -0.20081752356080163,
          -0.8420912499465351
         ]
        },
        {
         "line": {
          "color": "gray",
          "dash": "dash",
          "width": 1
         },
         "mode": "lines",
         "showlegend": false,
         "type": "scatter",
         "x": [
          11.83673469387755,
          11.83673469387755
         ],
         "y": [
          -0.11115239689480483,
          -0.10221528027332041
         ]
        },
        {
         "line": {
          "color": "gray",
          "dash": "dash",
          "width": 1
         },
         "mode": "lines",
         "showlegend": false,
         "type": "scatter",
         "x": [
          12.244897959183675,
          12.244897959183675
         ],
         "y": [
          0.15305215954526552,
          0.3609435092584915
         ]
        },
        {
         "line": {
          "color": "gray",
          "dash": "dash",
          "width": 1
         },
         "mode": "lines",
         "showlegend": false,
         "type": "scatter",
         "x": [
          12.653061224489797,
          12.653061224489797
         ],
         "y": [
          0.37899743977726313,
          0.6202893461397708
         ]
        },
        {
         "line": {
          "color": "gray",
          "dash": "dash",
          "width": 1
         },
         "mode": "lines",
         "showlegend": false,
         "type": "scatter",
         "x": [
          13.061224489795919,
          13.061224489795919
         ],
         "y": [
          0.7862794858243177,
          1.0594974976444538
         ]
        },
        {
         "line": {
          "color": "gray",
          "dash": "dash",
          "width": 1
         },
         "mode": "lines",
         "showlegend": false,
         "type": "scatter",
         "x": [
          13.46938775510204,
          13.46938775510204
         ],
         "y": [
          1.0665231200449026,
          0.7288587549968693
         ]
        },
        {
         "line": {
          "color": "gray",
          "dash": "dash",
          "width": 1
         },
         "mode": "lines",
         "showlegend": false,
         "type": "scatter",
         "x": [
          13.877551020408163,
          13.877551020408163
         ],
         "y": [
          1.3580125898637863,
          1.269363007248593
         ]
        },
        {
         "line": {
          "color": "gray",
          "dash": "dash",
          "width": 1
         },
         "mode": "lines",
         "showlegend": false,
         "type": "scatter",
         "x": [
          14.285714285714286,
          14.285714285714286
         ],
         "y": [
          1.509598114808052,
          0.4823817974568295
         ]
        },
        {
         "line": {
          "color": "gray",
          "dash": "dash",
          "width": 1
         },
         "mode": "lines",
         "showlegend": false,
         "type": "scatter",
         "x": [
          14.693877551020408,
          14.693877551020408
         ],
         "y": [
          1.5789065555907038,
          0.40546130025058336
         ]
        },
        {
         "line": {
          "color": "gray",
          "dash": "dash",
          "width": 1
         },
         "mode": "lines",
         "showlegend": false,
         "type": "scatter",
         "x": [
          15.10204081632653,
          15.10204081632653
         ],
         "y": [
          1.5007261337462652,
          0.17563956317788038
         ]
        },
        {
         "line": {
          "color": "gray",
          "dash": "dash",
          "width": 1
         },
         "mode": "lines",
         "showlegend": false,
         "type": "scatter",
         "x": [
          15.510204081632654,
          15.510204081632654
         ],
         "y": [
          1.3223224977478598,
          -0.5784923357595828
         ]
        },
        {
         "line": {
          "color": "gray",
          "dash": "dash",
          "width": 1
         },
         "mode": "lines",
         "showlegend": false,
         "type": "scatter",
         "x": [
          15.918367346938776,
          15.918367346938776
         ],
         "y": [
          1.0746813644269717,
          -0.5589023134480366
         ]
        },
        {
         "line": {
          "color": "gray",
          "dash": "dash",
          "width": 1
         },
         "mode": "lines",
         "showlegend": false,
         "type": "scatter",
         "x": [
          16.3265306122449,
          16.3265306122449
         ],
         "y": [
          0.7708525835038502,
          -1.0373413534040048
         ]
        },
        {
         "line": {
          "color": "gray",
          "dash": "dash",
          "width": 1
         },
         "mode": "lines",
         "showlegend": false,
         "type": "scatter",
         "x": [
          16.73469387755102,
          16.73469387755102
         ],
         "y": [
          0.40324523207602236,
          -0.9856885120038206
         ]
        },
        {
         "line": {
          "color": "gray",
          "dash": "dash",
          "width": 1
         },
         "mode": "lines",
         "showlegend": false,
         "type": "scatter",
         "x": [
          17.142857142857142,
          17.142857142857142
         ],
         "y": [
          0.12707380556860637,
          -0.8528097192666259
         ]
        },
        {
         "line": {
          "color": "gray",
          "dash": "dash",
          "width": 1
         },
         "mode": "lines",
         "showlegend": false,
         "type": "scatter",
         "x": [
          17.551020408163264,
          17.551020408163264
         ],
         "y": [
          -0.11435307961150068,
          -0.20668343440595424
         ]
        },
        {
         "line": {
          "color": "gray",
          "dash": "dash",
          "width": 1
         },
         "mode": "lines",
         "showlegend": false,
         "type": "scatter",
         "x": [
          17.95918367346939,
          17.95918367346939
         ],
         "y": [
          -0.30459681961703744,
          0.07702150348208246
         ]
        },
        {
         "line": {
          "color": "gray",
          "dash": "dash",
          "width": 1
         },
         "mode": "lines",
         "showlegend": false,
         "type": "scatter",
         "x": [
          18.367346938775512,
          18.367346938775512
         ],
         "y": [
          -0.2732261653807207,
          0.5033688309373405
         ]
        },
        {
         "line": {
          "color": "gray",
          "dash": "dash",
          "width": 1
         },
         "mode": "lines",
         "showlegend": false,
         "type": "scatter",
         "x": [
          18.775510204081634,
          18.775510204081634
         ],
         "y": [
          -0.16351061078457363,
          0.808100757239683
         ]
        },
        {
         "line": {
          "color": "gray",
          "dash": "dash",
          "width": 1
         },
         "mode": "lines",
         "showlegend": false,
         "type": "scatter",
         "x": [
          19.183673469387756,
          19.183673469387756
         ],
         "y": [
          0.0005387716490770633,
          1.046659774475296
         ]
        },
        {
         "line": {
          "color": "gray",
          "dash": "dash",
          "width": 1
         },
         "mode": "lines",
         "showlegend": false,
         "type": "scatter",
         "x": [
          19.591836734693878,
          19.591836734693878
         ],
         "y": [
          0.287517135874073,
          1.066657115206293
         ]
        },
        {
         "line": {
          "color": "gray",
          "dash": "dash",
          "width": 1
         },
         "mode": "lines",
         "showlegend": false,
         "type": "scatter",
         "x": [
          20,
          20
         ],
         "y": [
          0.6234653260812792,
          0.9018527354976914
         ]
        }
       ],
       "layout": {
        "template": {
         "data": {
          "bar": [
           {
            "error_x": {
             "color": "#2a3f5f"
            },
            "error_y": {
             "color": "#2a3f5f"
            },
            "marker": {
             "line": {
              "color": "#E5ECF6",
              "width": 0.5
             },
             "pattern": {
              "fillmode": "overlay",
              "size": 10,
              "solidity": 0.2
             }
            },
            "type": "bar"
           }
          ],
          "barpolar": [
           {
            "marker": {
             "line": {
              "color": "#E5ECF6",
              "width": 0.5
             },
             "pattern": {
              "fillmode": "overlay",
              "size": 10,
              "solidity": 0.2
             }
            },
            "type": "barpolar"
           }
          ],
          "carpet": [
           {
            "aaxis": {
             "endlinecolor": "#2a3f5f",
             "gridcolor": "white",
             "linecolor": "white",
             "minorgridcolor": "white",
             "startlinecolor": "#2a3f5f"
            },
            "baxis": {
             "endlinecolor": "#2a3f5f",
             "gridcolor": "white",
             "linecolor": "white",
             "minorgridcolor": "white",
             "startlinecolor": "#2a3f5f"
            },
            "type": "carpet"
           }
          ],
          "choropleth": [
           {
            "colorbar": {
             "outlinewidth": 0,
             "ticks": ""
            },
            "type": "choropleth"
           }
          ],
          "contour": [
           {
            "colorbar": {
             "outlinewidth": 0,
             "ticks": ""
            },
            "colorscale": [
             [
              0,
              "#0d0887"
             ],
             [
              0.1111111111111111,
              "#46039f"
             ],
             [
              0.2222222222222222,
              "#7201a8"
             ],
             [
              0.3333333333333333,
              "#9c179e"
             ],
             [
              0.4444444444444444,
              "#bd3786"
             ],
             [
              0.5555555555555556,
              "#d8576b"
             ],
             [
              0.6666666666666666,
              "#ed7953"
             ],
             [
              0.7777777777777778,
              "#fb9f3a"
             ],
             [
              0.8888888888888888,
              "#fdca26"
             ],
             [
              1,
              "#f0f921"
             ]
            ],
            "type": "contour"
           }
          ],
          "contourcarpet": [
           {
            "colorbar": {
             "outlinewidth": 0,
             "ticks": ""
            },
            "type": "contourcarpet"
           }
          ],
          "heatmap": [
           {
            "colorbar": {
             "outlinewidth": 0,
             "ticks": ""
            },
            "colorscale": [
             [
              0,
              "#0d0887"
             ],
             [
              0.1111111111111111,
              "#46039f"
             ],
             [
              0.2222222222222222,
              "#7201a8"
             ],
             [
              0.3333333333333333,
              "#9c179e"
             ],
             [
              0.4444444444444444,
              "#bd3786"
             ],
             [
              0.5555555555555556,
              "#d8576b"
             ],
             [
              0.6666666666666666,
              "#ed7953"
             ],
             [
              0.7777777777777778,
              "#fb9f3a"
             ],
             [
              0.8888888888888888,
              "#fdca26"
             ],
             [
              1,
              "#f0f921"
             ]
            ],
            "type": "heatmap"
           }
          ],
          "histogram": [
           {
            "marker": {
             "pattern": {
              "fillmode": "overlay",
              "size": 10,
              "solidity": 0.2
             }
            },
            "type": "histogram"
           }
          ],
          "histogram2d": [
           {
            "colorbar": {
             "outlinewidth": 0,
             "ticks": ""
            },
            "colorscale": [
             [
              0,
              "#0d0887"
             ],
             [
              0.1111111111111111,
              "#46039f"
             ],
             [
              0.2222222222222222,
              "#7201a8"
             ],
             [
              0.3333333333333333,
              "#9c179e"
             ],
             [
              0.4444444444444444,
              "#bd3786"
             ],
             [
              0.5555555555555556,
              "#d8576b"
             ],
             [
              0.6666666666666666,
              "#ed7953"
             ],
             [
              0.7777777777777778,
              "#fb9f3a"
             ],
             [
              0.8888888888888888,
              "#fdca26"
             ],
             [
              1,
              "#f0f921"
             ]
            ],
            "type": "histogram2d"
           }
          ],
          "histogram2dcontour": [
           {
            "colorbar": {
             "outlinewidth": 0,
             "ticks": ""
            },
            "colorscale": [
             [
              0,
              "#0d0887"
             ],
             [
              0.1111111111111111,
              "#46039f"
             ],
             [
              0.2222222222222222,
              "#7201a8"
             ],
             [
              0.3333333333333333,
              "#9c179e"
             ],
             [
              0.4444444444444444,
              "#bd3786"
             ],
             [
              0.5555555555555556,
              "#d8576b"
             ],
             [
              0.6666666666666666,
              "#ed7953"
             ],
             [
              0.7777777777777778,
              "#fb9f3a"
             ],
             [
              0.8888888888888888,
              "#fdca26"
             ],
             [
              1,
              "#f0f921"
             ]
            ],
            "type": "histogram2dcontour"
           }
          ],
          "mesh3d": [
           {
            "colorbar": {
             "outlinewidth": 0,
             "ticks": ""
            },
            "type": "mesh3d"
           }
          ],
          "parcoords": [
           {
            "line": {
             "colorbar": {
              "outlinewidth": 0,
              "ticks": ""
             }
            },
            "type": "parcoords"
           }
          ],
          "pie": [
           {
            "automargin": true,
            "type": "pie"
           }
          ],
          "scatter": [
           {
            "fillpattern": {
             "fillmode": "overlay",
             "size": 10,
             "solidity": 0.2
            },
            "type": "scatter"
           }
          ],
          "scatter3d": [
           {
            "line": {
             "colorbar": {
              "outlinewidth": 0,
              "ticks": ""
             }
            },
            "marker": {
             "colorbar": {
              "outlinewidth": 0,
              "ticks": ""
             }
            },
            "type": "scatter3d"
           }
          ],
          "scattercarpet": [
           {
            "marker": {
             "colorbar": {
              "outlinewidth": 0,
              "ticks": ""
             }
            },
            "type": "scattercarpet"
           }
          ],
          "scattergeo": [
           {
            "marker": {
             "colorbar": {
              "outlinewidth": 0,
              "ticks": ""
             }
            },
            "type": "scattergeo"
           }
          ],
          "scattergl": [
           {
            "marker": {
             "colorbar": {
              "outlinewidth": 0,
              "ticks": ""
             }
            },
            "type": "scattergl"
           }
          ],
          "scattermap": [
           {
            "marker": {
             "colorbar": {
              "outlinewidth": 0,
              "ticks": ""
             }
            },
            "type": "scattermap"
           }
          ],
          "scattermapbox": [
           {
            "marker": {
             "colorbar": {
              "outlinewidth": 0,
              "ticks": ""
             }
            },
            "type": "scattermapbox"
           }
          ],
          "scatterpolar": [
           {
            "marker": {
             "colorbar": {
              "outlinewidth": 0,
              "ticks": ""
             }
            },
            "type": "scatterpolar"
           }
          ],
          "scatterpolargl": [
           {
            "marker": {
             "colorbar": {
              "outlinewidth": 0,
              "ticks": ""
             }
            },
            "type": "scatterpolargl"
           }
          ],
          "scatterternary": [
           {
            "marker": {
             "colorbar": {
              "outlinewidth": 0,
              "ticks": ""
             }
            },
            "type": "scatterternary"
           }
          ],
          "surface": [
           {
            "colorbar": {
             "outlinewidth": 0,
             "ticks": ""
            },
            "colorscale": [
             [
              0,
              "#0d0887"
             ],
             [
              0.1111111111111111,
              "#46039f"
             ],
             [
              0.2222222222222222,
              "#7201a8"
             ],
             [
              0.3333333333333333,
              "#9c179e"
             ],
             [
              0.4444444444444444,
              "#bd3786"
             ],
             [
              0.5555555555555556,
              "#d8576b"
             ],
             [
              0.6666666666666666,
              "#ed7953"
             ],
             [
              0.7777777777777778,
              "#fb9f3a"
             ],
             [
              0.8888888888888888,
              "#fdca26"
             ],
             [
              1,
              "#f0f921"
             ]
            ],
            "type": "surface"
           }
          ],
          "table": [
           {
            "cells": {
             "fill": {
              "color": "#EBF0F8"
             },
             "line": {
              "color": "white"
             }
            },
            "header": {
             "fill": {
              "color": "#C8D4E3"
             },
             "line": {
              "color": "white"
             }
            },
            "type": "table"
           }
          ]
         },
         "layout": {
          "annotationdefaults": {
           "arrowcolor": "#2a3f5f",
           "arrowhead": 0,
           "arrowwidth": 1
          },
          "autotypenumbers": "strict",
          "coloraxis": {
           "colorbar": {
            "outlinewidth": 0,
            "ticks": ""
           }
          },
          "colorscale": {
           "diverging": [
            [
             0,
             "#8e0152"
            ],
            [
             0.1,
             "#c51b7d"
            ],
            [
             0.2,
             "#de77ae"
            ],
            [
             0.3,
             "#f1b6da"
            ],
            [
             0.4,
             "#fde0ef"
            ],
            [
             0.5,
             "#f7f7f7"
            ],
            [
             0.6,
             "#e6f5d0"
            ],
            [
             0.7,
             "#b8e186"
            ],
            [
             0.8,
             "#7fbc41"
            ],
            [
             0.9,
             "#4d9221"
            ],
            [
             1,
             "#276419"
            ]
           ],
           "sequential": [
            [
             0,
             "#0d0887"
            ],
            [
             0.1111111111111111,
             "#46039f"
            ],
            [
             0.2222222222222222,
             "#7201a8"
            ],
            [
             0.3333333333333333,
             "#9c179e"
            ],
            [
             0.4444444444444444,
             "#bd3786"
            ],
            [
             0.5555555555555556,
             "#d8576b"
            ],
            [
             0.6666666666666666,
             "#ed7953"
            ],
            [
             0.7777777777777778,
             "#fb9f3a"
            ],
            [
             0.8888888888888888,
             "#fdca26"
            ],
            [
             1,
             "#f0f921"
            ]
           ],
           "sequentialminus": [
            [
             0,
             "#0d0887"
            ],
            [
             0.1111111111111111,
             "#46039f"
            ],
            [
             0.2222222222222222,
             "#7201a8"
            ],
            [
             0.3333333333333333,
             "#9c179e"
            ],
            [
             0.4444444444444444,
             "#bd3786"
            ],
            [
             0.5555555555555556,
             "#d8576b"
            ],
            [
             0.6666666666666666,
             "#ed7953"
            ],
            [
             0.7777777777777778,
             "#fb9f3a"
            ],
            [
             0.8888888888888888,
             "#fdca26"
            ],
            [
             1,
             "#f0f921"
            ]
           ]
          },
          "colorway": [
           "#636efa",
           "#EF553B",
           "#00cc96",
           "#ab63fa",
           "#FFA15A",
           "#19d3f3",
           "#FF6692",
           "#B6E880",
           "#FF97FF",
           "#FECB52"
          ],
          "font": {
           "color": "#2a3f5f"
          },
          "geo": {
           "bgcolor": "white",
           "lakecolor": "white",
           "landcolor": "#E5ECF6",
           "showlakes": true,
           "showland": true,
           "subunitcolor": "white"
          },
          "hoverlabel": {
           "align": "left"
          },
          "hovermode": "closest",
          "mapbox": {
           "style": "light"
          },
          "paper_bgcolor": "white",
          "plot_bgcolor": "#E5ECF6",
          "polar": {
           "angularaxis": {
            "gridcolor": "white",
            "linecolor": "white",
            "ticks": ""
           },
           "bgcolor": "#E5ECF6",
           "radialaxis": {
            "gridcolor": "white",
            "linecolor": "white",
            "ticks": ""
           }
          },
          "scene": {
           "xaxis": {
            "backgroundcolor": "#E5ECF6",
            "gridcolor": "white",
            "gridwidth": 2,
            "linecolor": "white",
            "showbackground": true,
            "ticks": "",
            "zerolinecolor": "white"
           },
           "yaxis": {
            "backgroundcolor": "#E5ECF6",
            "gridcolor": "white",
            "gridwidth": 2,
            "linecolor": "white",
            "showbackground": true,
            "ticks": "",
            "zerolinecolor": "white"
           },
           "zaxis": {
            "backgroundcolor": "#E5ECF6",
            "gridcolor": "white",
            "gridwidth": 2,
            "linecolor": "white",
            "showbackground": true,
            "ticks": "",
            "zerolinecolor": "white"
           }
          },
          "shapedefaults": {
           "line": {
            "color": "#2a3f5f"
           }
          },
          "ternary": {
           "aaxis": {
            "gridcolor": "white",
            "linecolor": "white",
            "ticks": ""
           },
           "baxis": {
            "gridcolor": "white",
            "linecolor": "white",
            "ticks": ""
           },
           "bgcolor": "#E5ECF6",
           "caxis": {
            "gridcolor": "white",
            "linecolor": "white",
            "ticks": ""
           }
          },
          "title": {
           "x": 0.05
          },
          "xaxis": {
           "automargin": true,
           "gridcolor": "white",
           "linecolor": "white",
           "ticks": "",
           "title": {
            "standoff": 15
           },
           "zerolinecolor": "white",
           "zerolinewidth": 2
          },
          "yaxis": {
           "automargin": true,
           "gridcolor": "white",
           "linecolor": "white",
           "ticks": "",
           "title": {
            "standoff": 15
           },
           "zerolinecolor": "white",
           "zerolinewidth": 2
          }
         }
        },
        "title": {
         "text": "Euclidean Distance Visualization Between Series 1 and Series 2"
        },
        "xaxis": {
         "title": {
          "text": "t"
         }
        },
        "yaxis": {
         "title": {
          "text": "Value"
         }
        }
       }
      }
     },
     "metadata": {},
     "output_type": "display_data"
    }
   ],
   "source": [
    "plot_euclidean_distance(series1, series2, t)"
   ]
  },
  {
   "cell_type": "code",
   "execution_count": 7,
   "id": "24cadbf2",
   "metadata": {},
   "outputs": [
    {
     "name": "stdout",
     "output_type": "stream",
     "text": [
      "Euclidean Distance: 6.43\n"
     ]
    }
   ],
   "source": [
    "def euclidean_distance(series1, series2):\n",
    "    return np.sqrt(np.sum((series1 - series2) ** 2))\n",
    "\n",
    "d_euclidean = euclidean_distance(series1, series2)\n",
    "print(f'Euclidean Distance: {d_euclidean:.2f}')"
   ]
  },
  {
   "cell_type": "markdown",
   "id": "37af38bd",
   "metadata": {},
   "source": [
    "### Dynamic Time Warping\n",
    "**Dynamic Time Warping (DTW)** is a more advanced similarity measure that accounts for shifts and distortions in the time axis.\n",
    "It finds the optimal alignment between two time series by warping the time dimension, allowing for comparisons even when the series are out of phase or have different lengths."
   ]
  },
  {
   "cell_type": "code",
   "execution_count": 8,
   "id": "c92baf92",
   "metadata": {},
   "outputs": [
    {
     "name": "stdout",
     "output_type": "stream",
     "text": [
      "Dynamic Time Warping Distance: 21.82\n"
     ]
    }
   ],
   "source": [
    "from scipy.spatial.distance import cdist\n",
    "\n",
    "def dtw_distance(s1, s2):\n",
    "    n, m = len(s1), len(s2)\n",
    "\n",
    "    # initializing cost matrix\n",
    "    cost = np.full((n + 1, m + 1), np.inf)\n",
    "    cost[0, 0] = 0\n",
    "\n",
    "    for i in range(1, n + 1):\n",
    "        for j in range(1, m + 1):\n",
    "            dist = abs(s1[i - 1] - s2[j - 1])\n",
    "            cost[i, j] = dist + min(cost[i - 1, j],     # insertion\n",
    "                                    cost[i, j - 1],     # deletion\n",
    "                                    cost[i - 1, j - 1]) # match\n",
    "            \n",
    "    # backtracking path (just for visualization)\n",
    "    path = []\n",
    "\n",
    "    i, j = n, m\n",
    "    \n",
    "    while i > 0 and j > 0:\n",
    "        path.append((i - 1, j - 1))\n",
    "        steps = [(i - 1, j), (i, j - 1), (i - 1, j - 1)]\n",
    "        costs = [cost[s] if s[0] >= 0 and s[1] >= 0 else np.inf for s in steps]\n",
    "        min_step = steps[np.argmin(costs)]\n",
    "        i, j = min_step\n",
    "\n",
    "    path = path[::-1]\n",
    "\n",
    "    return cost[n, m], path\n",
    "\n",
    "d_dtw, path = dtw_distance(series1, series2)\n",
    "\n",
    "print(f'Dynamic Time Warping Distance: {d_dtw:.2f}')"
   ]
  },
  {
   "cell_type": "markdown",
   "id": "baaa0776",
   "metadata": {},
   "source": [
    "Note that this DTW implementation is using a very naive approach computing the full cost matrix.\n",
    "Many different variants exist that are more efficient and/or add constraints to the warping path.\n",
    "@lahreche2021 provides a good overview."
   ]
  },
  {
   "cell_type": "code",
   "execution_count": 9,
   "id": "8b80bf30",
   "metadata": {},
   "outputs": [
    {
     "data": {
      "application/vnd.plotly.v1+json": {
       "config": {
        "plotlyServerURL": "https://plot.ly"
       },
       "data": [
        {
         "mode": "lines+markers",
         "name": "Series 1",
         "type": "scatter",
         "x": {
          "bdata": "AAAAAAAAAACIxvrQWB/aP4jG+tBYH+o/5hS8nIKX8z+IxvrQWB/6PxW8nIKXUwBA5hS8nIKXA0C3bdu2bdsGQIjG+tBYHwpAWR8a60NjDUAVvJyCl1MQQH5orA+N9RFA5hS8nIKXE0BOwcspeDkVQLdt27Zt2xZAIBrrQ2N9GECIxvrQWB8aQPByCl5OwRtAWR8a60NjHUDCyyl4OQUfQBW8nIKXUyBASZIkSZIkIUB+aKwPjfUhQLI+NNaHxiJA5hS8nIKXI0Aa60NjfWgkQE7Byyl4OSVAg5dT8HIKJkC3bdu2bdsmQOtDY31orCdAIBrrQ2N9KEBU8HIKXk4pQIjG+tBYHypAvJyCl1PwKkDwcgpeTsErQCVJkiRJkixAWR8a60NjLUCN9aGxPjQuQMLLKXg5BS9A9qGxPjTWL0AVvJyCl1MwQC+n4OUUvDBASZIkSZIkMUBjfWisD40xQH5orA+N9TFAmFPwcgpeMkCyPjTWh8YyQMwpeDkFLzNA5hS8nIKXM0AAAAAAAAA0QA==",
          "dtype": "f8"
         },
         "y": {
          "bdata": "N74Zmsk59z+nsedNLln6Pz6q6JrEDvs/u3/B9N32+T8uq2P5+N71P03Ldh4/1/E/G9gCbOhQ6z8YVU6C5WTcP3qw9Ax2LMU/l6myPANpoT/2ZcbaiVK4vxaQf7rxpr+/mNEHF+bUjb9uOYxGKmzHP2v5jgNWc+A/XuSRXSq26j8QtTqoltvyP1NBGbAo9/c/C92ZkRde+T823HN06OH5P3I9AT1uX/g/sLIWh7RW9T+5YYtUe1zxPw8Pg/N39+c/u1vjAJCc3D/WZjVUnAXOP1UrBjDFWLK/EjDYH2J4yL8gJBR8Y7TJv8gCicV7dLy/nB/qkTaXwz/ZG0d6fkHYP00ypJgzKek/8lQQjHoQ8T/uVtBoa7r1P+pCU1pQJ/g/tzs7hTND+T9tFQto+QL4PzV5qaI7KPU/HlodFuUx8T/o9IUJ06roP140AhfFztk/9DaMV/RDwD/y1iBRPka9v2AhrqiDftO/DTAumYl80b+AMu9q6u3EvwAqcE6Lp0E/TpnnRa5m0j+0sDaObfPjPw==",
          "dtype": "f8"
         }
        },
        {
         "mode": "lines+markers",
         "name": "Series 2",
         "type": "scatter",
         "x": {
          "bdata": "AAAAAAAAAACIxvrQWB/aP4jG+tBYH+o/5hS8nIKX8z+IxvrQWB/6PxW8nIKXUwBA5hS8nIKXA0C3bdu2bdsGQIjG+tBYHwpAWR8a60NjDUAVvJyCl1MQQH5orA+N9RFA5hS8nIKXE0BOwcspeDkVQLdt27Zt2xZAIBrrQ2N9GECIxvrQWB8aQPByCl5OwRtAWR8a60NjHUDCyyl4OQUfQBW8nIKXUyBASZIkSZIkIUB+aKwPjfUhQLI+NNaHxiJA5hS8nIKXI0Aa60NjfWgkQE7Byyl4OSVAg5dT8HIKJkC3bdu2bdsmQOtDY31orCdAIBrrQ2N9KEBU8HIKXk4pQIjG+tBYHypAvJyCl1PwKkDwcgpeTsErQCVJkiRJkixAWR8a60NjLUCN9aGxPjQuQMLLKXg5BS9A9qGxPjTWL0AVvJyCl1MwQC+n4OUUvDBASZIkSZIkMUBjfWisD40xQH5orA+N9TFAmFPwcgpeMkCyPjTWh8YyQMwpeDkFLzNA5hS8nIKXM0AAAAAAAAA0QA==",
          "dtype": "f8"
         },
         "y": {
          "bdata": "g9WNnweDpj/kEloYJcngP9668Nr2B+Y/SSencuXD8D8YXvF6067uP+iZZ7eL1OU/E0PPCOTO3T8AGqFeNIJYvyI+BmBAftu/w3/TWoml3794gIL3xR3mv+RP4NOvH/K/6JhfzglT77+mGX7VPsDnvx/v0vrngse/NgubFsIryj+cJoEJs9DiP8xMRyNL5+s/H0A/jLSJ8z8kRS+YelLtPzbI7jgGku8/PYiuyhtAzD+RgnSRKpOxPxCLa2tZGN+/I+PNdOsl6r8jK4RW1Sf1v3PusDVhNPC/ptEcBcxh5L+FlFhZafLqvwrm7NXHKrq/Fv/9zbIZ1z8BSPcKadnjP2866aWz8/A/sKyDmM9S5z+gKK6VT0/0P17REOdX394/UKwX9BPz2T/Wyd1xW3vGP7Je4lsCg+K/vGC9Gofi4b+KiTo/85jwv5ItY6LCiu+/U8G+mzdK678vA7NPmnTKv99Wi2aut7M/wnNW85gb4D/o84Ye9tvpP+aP1lEev/A/LbUdDQcR8T/DqZhE+tvsPw==",
          "dtype": "f8"
         }
        },
        {
         "line": {
          "color": "gray",
          "dash": "dot",
          "width": 1
         },
         "mode": "lines",
         "showlegend": false,
         "type": "scatter",
         "x": [
          0,
          0
         ],
         "y": [
          1.451608278231914,
          0.043968427874385284
         ]
        },
        {
         "line": {
          "color": "gray",
          "dash": "dot",
          "width": 1
         },
         "mode": "lines",
         "showlegend": false,
         "type": "scatter",
         "x": [
          0.40816326530612246,
          0.40816326530612246
         ],
         "y": [
          1.6467726748624985,
          0.5245538211462102
         ]
        },
        {
         "line": {
          "color": "gray",
          "dash": "dot",
          "width": 1
         },
         "mode": "lines",
         "showlegend": false,
         "type": "scatter",
         "x": [
          0.8163265306122449,
          0.8163265306122449
         ],
         "y": [
          1.691105465996443,
          0.6884722019366014
         ]
        },
        {
         "line": {
          "color": "gray",
          "dash": "dot",
          "width": 1
         },
         "mode": "lines",
         "showlegend": false,
         "type": "scatter",
         "x": [
          1.2244897959183674,
          1.2244897959183674
         ],
         "y": [
          1.6227702675605389,
          1.047826240408954
         ]
        },
        {
         "line": {
          "color": "gray",
          "dash": "dot",
          "width": 1
         },
         "mode": "lines",
         "showlegend": false,
         "type": "scatter",
         "x": [
          1.6326530612244898,
          1.2244897959183674
         ],
         "y": [
          1.3669366590281231,
          1.047826240408954
         ]
        },
        {
         "line": {
          "color": "gray",
          "dash": "dot",
          "width": 1
         },
         "mode": "lines",
         "showlegend": false,
         "type": "scatter",
         "x": [
          2.0408163265306123,
          1.6326530612244898
         ],
         "y": [
          1.1150504293443249,
          0.9588410760142692
         ]
        },
        {
         "line": {
          "color": "gray",
          "dash": "dot",
          "width": 1
         },
         "mode": "lines",
         "showlegend": false,
         "type": "scatter",
         "x": [
          2.4489795918367347,
          2.0408163265306123
         ],
         "y": [
          0.8536264524070732,
          0.6821955282328505
         ]
        },
        {
         "line": {
          "color": "gray",
          "dash": "dot",
          "width": 1
         },
         "mode": "lines",
         "showlegend": false,
         "type": "scatter",
         "x": [
          2.857142857142857,
          2.4489795918367347
         ],
         "y": [
          0.44365823483652056,
          0.46575260982813055
         ]
        },
        {
         "line": {
          "color": "gray",
          "dash": "dot",
          "width": 1
         },
         "mode": "lines",
         "showlegend": false,
         "type": "scatter",
         "x": [
          3.2653061224489797,
          2.857142857142857
         ],
         "y": [
          0.1654193461666898,
          -0.001495886938316482
         ]
        },
        {
         "line": {
          "color": "gray",
          "dash": "dot",
          "width": 1
         },
         "mode": "lines",
         "showlegend": false,
         "type": "scatter",
         "x": [
          3.673469387755102,
          2.857142857142857
         ],
         "y": [
          0.034004307898914,
          -0.001495886938316482
         ]
        },
        {
         "line": {
          "color": "gray",
          "dash": "dot",
          "width": 1
         },
         "mode": "lines",
         "showlegend": false,
         "type": "scatter",
         "x": [
          4.081632653061225,
          3.2653061224489797
         ],
         "y": [
          -0.09500943747698173,
          -0.4295807779062405
         ]
        },
        {
         "line": {
          "color": "gray",
          "dash": "dot",
          "width": 1
         },
         "mode": "lines",
         "showlegend": false,
         "type": "scatter",
         "x": [
          4.4897959183673475,
          3.673469387755102
         ],
         "y": [
          -0.12364111712628331,
          -0.49447854871504776
         ]
        },
        {
         "line": {
          "color": "gray",
          "dash": "dot",
          "width": 1
         },
         "mode": "lines",
         "showlegend": false,
         "type": "scatter",
         "x": [
          4.4897959183673475,
          4.081632653061225
         ],
         "y": [
          -0.12364111712628331,
          -0.6911344370055437
         ]
        },
        {
         "line": {
          "color": "gray",
          "dash": "dot",
          "width": 1
         },
         "mode": "lines",
         "showlegend": false,
         "type": "scatter",
         "x": [
          4.4897959183673475,
          4.4897959183673475
         ],
         "y": [
          -0.12364111712628331,
          -1.1327360416807943
         ]
        },
        {
         "line": {
          "color": "gray",
          "dash": "dot",
          "width": 1
         },
         "mode": "lines",
         "showlegend": false,
         "type": "scatter",
         "x": [
          4.4897959183673475,
          4.8979591836734695
         ],
         "y": [
          -0.12364111712628331,
          -0.9788865118723864
         ]
        },
        {
         "line": {
          "color": "gray",
          "dash": "dot",
          "width": 1
         },
         "mode": "lines",
         "showlegend": false,
         "type": "scatter",
         "x": [
          4.4897959183673475,
          5.3061224489795915
         ],
         "y": [
          -0.12364111712628331,
          -0.742217461564725
         ]
        },
        {
         "line": {
          "color": "gray",
          "dash": "dot",
          "width": 1
         },
         "mode": "lines",
         "showlegend": false,
         "type": "scatter",
         "x": [
          4.8979591836734695,
          5.714285714285714
         ],
         "y": [
          -0.01456622846397053,
          -0.1836824393011449
         ]
        },
        {
         "line": {
          "color": "gray",
          "dash": "dot",
          "width": 1
         },
         "mode": "lines",
         "showlegend": false,
         "type": "scatter",
         "x": [
          5.3061224489795915,
          6.122448979591837
         ],
         "y": [
          0.18298843807901782,
          0.2044603929881192
         ]
        },
        {
         "line": {
          "color": "gray",
          "dash": "dot",
          "width": 1
         },
         "mode": "lines",
         "showlegend": false,
         "type": "scatter",
         "x": [
          5.714285714285714,
          6.530612244897959
         ],
         "y": [
          0.5140791005613158,
          0.5879759965548206
         ]
        },
        {
         "line": {
          "color": "gray",
          "dash": "dot",
          "width": 1
         },
         "mode": "lines",
         "showlegend": false,
         "type": "scatter",
         "x": [
          6.122448979591837,
          6.938775510204081
         ],
         "y": [
          0.8347369983231478,
          0.8719840706857211
         ]
        },
        {
         "line": {
          "color": "gray",
          "dash": "dot",
          "width": 1
         },
         "mode": "lines",
         "showlegend": false,
         "type": "scatter",
         "x": [
          6.530612244897959,
          7.346938775510204
         ],
         "y": [
          1.1786104747255344,
          1.2211194494630104
         ]
        },
        {
         "line": {
          "color": "gray",
          "dash": "dot",
          "width": 1
         },
         "mode": "lines",
         "showlegend": false,
         "type": "scatter",
         "x": [
          6.938775510204081,
          7.346938775510204
         ],
         "y": [
          1.49784153736626,
          1.2211194494630104
         ]
        },
        {
         "line": {
          "color": "gray",
          "dash": "dot",
          "width": 1
         },
         "mode": "lines",
         "showlegend": false,
         "type": "scatter",
         "x": [
          7.346938775510204,
          7.346938775510204
         ],
         "y": [
          1.5854716956653785,
          1.2211194494630104
         ]
        },
        {
         "line": {
          "color": "gray",
          "dash": "dot",
          "width": 1
         },
         "mode": "lines",
         "showlegend": false,
         "type": "scatter",
         "x": [
          7.755102040816327,
          7.346938775510204
         ],
         "y": [
          1.6176533268860687,
          1.2211194494630104
         ]
        },
        {
         "line": {
          "color": "gray",
          "dash": "dot",
          "width": 1
         },
         "mode": "lines",
         "showlegend": false,
         "type": "scatter",
         "x": [
          8.16326530612245,
          7.346938775510204
         ],
         "y": [
          1.5232984908105576,
          1.2211194494630104
         ]
        },
        {
         "line": {
          "color": "gray",
          "dash": "dot",
          "width": 1
         },
         "mode": "lines",
         "showlegend": false,
         "type": "scatter",
         "x": [
          8.571428571428571,
          7.346938775510204
         ],
         "y": [
          1.3336682583714428,
          1.2211194494630104
         ]
        },
        {
         "line": {
          "color": "gray",
          "dash": "dot",
          "width": 1
         },
         "mode": "lines",
         "showlegend": false,
         "type": "scatter",
         "x": [
          8.979591836734695,
          7.755102040816327
         ],
         "y": [
          1.0850785543935741,
          0.9163182232242986
         ]
        },
        {
         "line": {
          "color": "gray",
          "dash": "dot",
          "width": 1
         },
         "mode": "lines",
         "showlegend": false,
         "type": "scatter",
         "x": [
          9.387755102040817,
          8.16326530612245
         ],
         "y": [
          0.7489585643856759,
          0.9865752326934458
         ]
        },
        {
         "line": {
          "color": "gray",
          "dash": "dot",
          "width": 1
         },
         "mode": "lines",
         "showlegend": false,
         "type": "scatter",
         "x": [
          9.795918367346939,
          8.571428571428571
         ],
         "y": [
          0.4470558174775154,
          0.2207064380318701
         ]
        },
        {
         "line": {
          "color": "gray",
          "dash": "dot",
          "width": 1
         },
         "mode": "lines",
         "showlegend": false,
         "type": "scatter",
         "x": [
          10.204081632653061,
          8.571428571428571
         ],
         "y": [
          0.2345462237524802,
          0.2207064380318701
         ]
        },
        {
         "line": {
          "color": "gray",
          "dash": "dot",
          "width": 1
         },
         "mode": "lines",
         "showlegend": false,
         "type": "scatter",
         "x": [
          10.612244897959183,
          8.979591836734695
         ],
         "y": [
          -0.07166702673400256,
          0.06865182925367665
         ]
        },
        {
         "line": {
          "color": "gray",
          "dash": "dot",
          "width": 1
         },
         "mode": "lines",
         "showlegend": false,
         "type": "scatter",
         "x": [
          11.020408163265307,
          9.387755102040817
         ],
         "y": [
          -0.19117380671411915,
          -0.48586116304629545
         ]
        },
        {
         "line": {
          "color": "gray",
          "dash": "dot",
          "width": 1
         },
         "mode": "lines",
         "showlegend": false,
         "type": "scatter",
         "x": [
          11.428571428571429,
          9.795918367346939
         ],
         "y": [
          -0.20081752356080163,
          -0.817128875859542
         ]
        },
        {
         "line": {
          "color": "gray",
          "dash": "dot",
          "width": 1
         },
         "mode": "lines",
         "showlegend": false,
         "type": "scatter",
         "x": [
          11.428571428571429,
          10.204081632653061
         ],
         "y": [
          -0.20081752356080163,
          -1.322224939302665
         ]
        },
        {
         "line": {
          "color": "gray",
          "dash": "dot",
          "width": 1
         },
         "mode": "lines",
         "showlegend": false,
         "type": "scatter",
         "x": [
          11.428571428571429,
          10.612244897959183
         ],
         "y": [
          -0.20081752356080163,
          -1.0127880189237686
         ]
        },
        {
         "line": {
          "color": "gray",
          "dash": "dot",
          "width": 1
         },
         "mode": "lines",
         "showlegend": false,
         "type": "scatter",
         "x": [
          11.428571428571429,
          11.020408163265307
         ],
         "y": [
          -0.20081752356080163,
          -0.6369381046156846
         ]
        },
        {
         "line": {
          "color": "gray",
          "dash": "dot",
          "width": 1
         },
         "mode": "lines",
         "showlegend": false,
         "type": "scatter",
         "x": [
          11.428571428571429,
          11.428571428571429
         ],
         "y": [
          -0.20081752356080163,
          -0.8420912499465351
         ]
        },
        {
         "line": {
          "color": "gray",
          "dash": "dot",
          "width": 1
         },
         "mode": "lines",
         "showlegend": false,
         "type": "scatter",
         "x": [
          11.83673469387755,
          11.83673469387755
         ],
         "y": [
          -0.11115239689480483,
          -0.10221528027332041
         ]
        },
        {
         "line": {
          "color": "gray",
          "dash": "dot",
          "width": 1
         },
         "mode": "lines",
         "showlegend": false,
         "type": "scatter",
         "x": [
          12.244897959183675,
          12.244897959183675
         ],
         "y": [
          0.15305215954526552,
          0.3609435092584915
         ]
        },
        {
         "line": {
          "color": "gray",
          "dash": "dot",
          "width": 1
         },
         "mode": "lines",
         "showlegend": false,
         "type": "scatter",
         "x": [
          12.653061224489797,
          12.244897959183675
         ],
         "y": [
          0.37899743977726313,
          0.3609435092584915
         ]
        },
        {
         "line": {
          "color": "gray",
          "dash": "dot",
          "width": 1
         },
         "mode": "lines",
         "showlegend": false,
         "type": "scatter",
         "x": [
          13.061224489795919,
          12.653061224489797
         ],
         "y": [
          0.7862794858243177,
          0.6202893461397708
         ]
        },
        {
         "line": {
          "color": "gray",
          "dash": "dot",
          "width": 1
         },
         "mode": "lines",
         "showlegend": false,
         "type": "scatter",
         "x": [
          13.46938775510204,
          13.061224489795919
         ],
         "y": [
          1.0665231200449026,
          1.0594974976444538
         ]
        },
        {
         "line": {
          "color": "gray",
          "dash": "dot",
          "width": 1
         },
         "mode": "lines",
         "showlegend": false,
         "type": "scatter",
         "x": [
          13.46938775510204,
          13.46938775510204
         ],
         "y": [
          1.0665231200449026,
          0.7288587549968693
         ]
        },
        {
         "line": {
          "color": "gray",
          "dash": "dot",
          "width": 1
         },
         "mode": "lines",
         "showlegend": false,
         "type": "scatter",
         "x": [
          13.877551020408163,
          13.877551020408163
         ],
         "y": [
          1.3580125898637863,
          1.269363007248593
         ]
        },
        {
         "line": {
          "color": "gray",
          "dash": "dot",
          "width": 1
         },
         "mode": "lines",
         "showlegend": false,
         "type": "scatter",
         "x": [
          14.285714285714286,
          13.877551020408163
         ],
         "y": [
          1.509598114808052,
          1.269363007248593
         ]
        },
        {
         "line": {
          "color": "gray",
          "dash": "dot",
          "width": 1
         },
         "mode": "lines",
         "showlegend": false,
         "type": "scatter",
         "x": [
          14.693877551020408,
          13.877551020408163
         ],
         "y": [
          1.5789065555907038,
          1.269363007248593
         ]
        },
        {
         "line": {
          "color": "gray",
          "dash": "dot",
          "width": 1
         },
         "mode": "lines",
         "showlegend": false,
         "type": "scatter",
         "x": [
          15.10204081632653,
          13.877551020408163
         ],
         "y": [
          1.5007261337462652,
          1.269363007248593
         ]
        },
        {
         "line": {
          "color": "gray",
          "dash": "dot",
          "width": 1
         },
         "mode": "lines",
         "showlegend": false,
         "type": "scatter",
         "x": [
          15.510204081632654,
          13.877551020408163
         ],
         "y": [
          1.3223224977478598,
          1.269363007248593
         ]
        },
        {
         "line": {
          "color": "gray",
          "dash": "dot",
          "width": 1
         },
         "mode": "lines",
         "showlegend": false,
         "type": "scatter",
         "x": [
          15.918367346938776,
          13.877551020408163
         ],
         "y": [
          1.0746813644269717,
          1.269363007248593
         ]
        },
        {
         "line": {
          "color": "gray",
          "dash": "dot",
          "width": 1
         },
         "mode": "lines",
         "showlegend": false,
         "type": "scatter",
         "x": [
          16.3265306122449,
          14.285714285714286
         ],
         "y": [
          0.7708525835038502,
          0.4823817974568295
         ]
        },
        {
         "line": {
          "color": "gray",
          "dash": "dot",
          "width": 1
         },
         "mode": "lines",
         "showlegend": false,
         "type": "scatter",
         "x": [
          16.73469387755102,
          14.693877551020408
         ],
         "y": [
          0.40324523207602236,
          0.40546130025058336
         ]
        },
        {
         "line": {
          "color": "gray",
          "dash": "dot",
          "width": 1
         },
         "mode": "lines",
         "showlegend": false,
         "type": "scatter",
         "x": [
          17.142857142857142,
          15.10204081632653
         ],
         "y": [
          0.12707380556860637,
          0.17563956317788038
         ]
        },
        {
         "line": {
          "color": "gray",
          "dash": "dot",
          "width": 1
         },
         "mode": "lines",
         "showlegend": false,
         "type": "scatter",
         "x": [
          17.551020408163264,
          15.510204081632654
         ],
         "y": [
          -0.11435307961150068,
          -0.5784923357595828
         ]
        },
        {
         "line": {
          "color": "gray",
          "dash": "dot",
          "width": 1
         },
         "mode": "lines",
         "showlegend": false,
         "type": "scatter",
         "x": [
          17.95918367346939,
          15.918367346938776
         ],
         "y": [
          -0.30459681961703744,
          -0.5589023134480366
         ]
        },
        {
         "line": {
          "color": "gray",
          "dash": "dot",
          "width": 1
         },
         "mode": "lines",
         "showlegend": false,
         "type": "scatter",
         "x": [
          17.95918367346939,
          16.3265306122449
         ],
         "y": [
          -0.30459681961703744,
          -1.0373413534040048
         ]
        },
        {
         "line": {
          "color": "gray",
          "dash": "dot",
          "width": 1
         },
         "mode": "lines",
         "showlegend": false,
         "type": "scatter",
         "x": [
          17.95918367346939,
          16.73469387755102
         ],
         "y": [
          -0.30459681961703744,
          -0.9856885120038206
         ]
        },
        {
         "line": {
          "color": "gray",
          "dash": "dot",
          "width": 1
         },
         "mode": "lines",
         "showlegend": false,
         "type": "scatter",
         "x": [
          18.367346938775512,
          17.142857142857142
         ],
         "y": [
          -0.2732261653807207,
          -0.8528097192666259
         ]
        },
        {
         "line": {
          "color": "gray",
          "dash": "dot",
          "width": 1
         },
         "mode": "lines",
         "showlegend": false,
         "type": "scatter",
         "x": [
          18.775510204081634,
          17.551020408163264
         ],
         "y": [
          -0.16351061078457363,
          -0.20668343440595424
         ]
        },
        {
         "line": {
          "color": "gray",
          "dash": "dot",
          "width": 1
         },
         "mode": "lines",
         "showlegend": false,
         "type": "scatter",
         "x": [
          19.183673469387756,
          17.95918367346939
         ],
         "y": [
          0.0005387716490770633,
          0.07702150348208246
         ]
        },
        {
         "line": {
          "color": "gray",
          "dash": "dot",
          "width": 1
         },
         "mode": "lines",
         "showlegend": false,
         "type": "scatter",
         "x": [
          19.591836734693878,
          18.367346938775512
         ],
         "y": [
          0.287517135874073,
          0.5033688309373405
         ]
        },
        {
         "line": {
          "color": "gray",
          "dash": "dot",
          "width": 1
         },
         "mode": "lines",
         "showlegend": false,
         "type": "scatter",
         "x": [
          20,
          18.775510204081634
         ],
         "y": [
          0.6234653260812792,
          0.808100757239683
         ]
        },
        {
         "line": {
          "color": "gray",
          "dash": "dot",
          "width": 1
         },
         "mode": "lines",
         "showlegend": false,
         "type": "scatter",
         "x": [
          20,
          19.183673469387756
         ],
         "y": [
          0.6234653260812792,
          1.046659774475296
         ]
        },
        {
         "line": {
          "color": "gray",
          "dash": "dot",
          "width": 1
         },
         "mode": "lines",
         "showlegend": false,
         "type": "scatter",
         "x": [
          20,
          19.591836734693878
         ],
         "y": [
          0.6234653260812792,
          1.066657115206293
         ]
        },
        {
         "line": {
          "color": "gray",
          "dash": "dot",
          "width": 1
         },
         "mode": "lines",
         "showlegend": false,
         "type": "scatter",
         "x": [
          20,
          20
         ],
         "y": [
          0.6234653260812792,
          0.9018527354976914
         ]
        }
       ],
       "layout": {
        "template": {
         "data": {
          "bar": [
           {
            "error_x": {
             "color": "#2a3f5f"
            },
            "error_y": {
             "color": "#2a3f5f"
            },
            "marker": {
             "line": {
              "color": "#E5ECF6",
              "width": 0.5
             },
             "pattern": {
              "fillmode": "overlay",
              "size": 10,
              "solidity": 0.2
             }
            },
            "type": "bar"
           }
          ],
          "barpolar": [
           {
            "marker": {
             "line": {
              "color": "#E5ECF6",
              "width": 0.5
             },
             "pattern": {
              "fillmode": "overlay",
              "size": 10,
              "solidity": 0.2
             }
            },
            "type": "barpolar"
           }
          ],
          "carpet": [
           {
            "aaxis": {
             "endlinecolor": "#2a3f5f",
             "gridcolor": "white",
             "linecolor": "white",
             "minorgridcolor": "white",
             "startlinecolor": "#2a3f5f"
            },
            "baxis": {
             "endlinecolor": "#2a3f5f",
             "gridcolor": "white",
             "linecolor": "white",
             "minorgridcolor": "white",
             "startlinecolor": "#2a3f5f"
            },
            "type": "carpet"
           }
          ],
          "choropleth": [
           {
            "colorbar": {
             "outlinewidth": 0,
             "ticks": ""
            },
            "type": "choropleth"
           }
          ],
          "contour": [
           {
            "colorbar": {
             "outlinewidth": 0,
             "ticks": ""
            },
            "colorscale": [
             [
              0,
              "#0d0887"
             ],
             [
              0.1111111111111111,
              "#46039f"
             ],
             [
              0.2222222222222222,
              "#7201a8"
             ],
             [
              0.3333333333333333,
              "#9c179e"
             ],
             [
              0.4444444444444444,
              "#bd3786"
             ],
             [
              0.5555555555555556,
              "#d8576b"
             ],
             [
              0.6666666666666666,
              "#ed7953"
             ],
             [
              0.7777777777777778,
              "#fb9f3a"
             ],
             [
              0.8888888888888888,
              "#fdca26"
             ],
             [
              1,
              "#f0f921"
             ]
            ],
            "type": "contour"
           }
          ],
          "contourcarpet": [
           {
            "colorbar": {
             "outlinewidth": 0,
             "ticks": ""
            },
            "type": "contourcarpet"
           }
          ],
          "heatmap": [
           {
            "colorbar": {
             "outlinewidth": 0,
             "ticks": ""
            },
            "colorscale": [
             [
              0,
              "#0d0887"
             ],
             [
              0.1111111111111111,
              "#46039f"
             ],
             [
              0.2222222222222222,
              "#7201a8"
             ],
             [
              0.3333333333333333,
              "#9c179e"
             ],
             [
              0.4444444444444444,
              "#bd3786"
             ],
             [
              0.5555555555555556,
              "#d8576b"
             ],
             [
              0.6666666666666666,
              "#ed7953"
             ],
             [
              0.7777777777777778,
              "#fb9f3a"
             ],
             [
              0.8888888888888888,
              "#fdca26"
             ],
             [
              1,
              "#f0f921"
             ]
            ],
            "type": "heatmap"
           }
          ],
          "histogram": [
           {
            "marker": {
             "pattern": {
              "fillmode": "overlay",
              "size": 10,
              "solidity": 0.2
             }
            },
            "type": "histogram"
           }
          ],
          "histogram2d": [
           {
            "colorbar": {
             "outlinewidth": 0,
             "ticks": ""
            },
            "colorscale": [
             [
              0,
              "#0d0887"
             ],
             [
              0.1111111111111111,
              "#46039f"
             ],
             [
              0.2222222222222222,
              "#7201a8"
             ],
             [
              0.3333333333333333,
              "#9c179e"
             ],
             [
              0.4444444444444444,
              "#bd3786"
             ],
             [
              0.5555555555555556,
              "#d8576b"
             ],
             [
              0.6666666666666666,
              "#ed7953"
             ],
             [
              0.7777777777777778,
              "#fb9f3a"
             ],
             [
              0.8888888888888888,
              "#fdca26"
             ],
             [
              1,
              "#f0f921"
             ]
            ],
            "type": "histogram2d"
           }
          ],
          "histogram2dcontour": [
           {
            "colorbar": {
             "outlinewidth": 0,
             "ticks": ""
            },
            "colorscale": [
             [
              0,
              "#0d0887"
             ],
             [
              0.1111111111111111,
              "#46039f"
             ],
             [
              0.2222222222222222,
              "#7201a8"
             ],
             [
              0.3333333333333333,
              "#9c179e"
             ],
             [
              0.4444444444444444,
              "#bd3786"
             ],
             [
              0.5555555555555556,
              "#d8576b"
             ],
             [
              0.6666666666666666,
              "#ed7953"
             ],
             [
              0.7777777777777778,
              "#fb9f3a"
             ],
             [
              0.8888888888888888,
              "#fdca26"
             ],
             [
              1,
              "#f0f921"
             ]
            ],
            "type": "histogram2dcontour"
           }
          ],
          "mesh3d": [
           {
            "colorbar": {
             "outlinewidth": 0,
             "ticks": ""
            },
            "type": "mesh3d"
           }
          ],
          "parcoords": [
           {
            "line": {
             "colorbar": {
              "outlinewidth": 0,
              "ticks": ""
             }
            },
            "type": "parcoords"
           }
          ],
          "pie": [
           {
            "automargin": true,
            "type": "pie"
           }
          ],
          "scatter": [
           {
            "fillpattern": {
             "fillmode": "overlay",
             "size": 10,
             "solidity": 0.2
            },
            "type": "scatter"
           }
          ],
          "scatter3d": [
           {
            "line": {
             "colorbar": {
              "outlinewidth": 0,
              "ticks": ""
             }
            },
            "marker": {
             "colorbar": {
              "outlinewidth": 0,
              "ticks": ""
             }
            },
            "type": "scatter3d"
           }
          ],
          "scattercarpet": [
           {
            "marker": {
             "colorbar": {
              "outlinewidth": 0,
              "ticks": ""
             }
            },
            "type": "scattercarpet"
           }
          ],
          "scattergeo": [
           {
            "marker": {
             "colorbar": {
              "outlinewidth": 0,
              "ticks": ""
             }
            },
            "type": "scattergeo"
           }
          ],
          "scattergl": [
           {
            "marker": {
             "colorbar": {
              "outlinewidth": 0,
              "ticks": ""
             }
            },
            "type": "scattergl"
           }
          ],
          "scattermap": [
           {
            "marker": {
             "colorbar": {
              "outlinewidth": 0,
              "ticks": ""
             }
            },
            "type": "scattermap"
           }
          ],
          "scattermapbox": [
           {
            "marker": {
             "colorbar": {
              "outlinewidth": 0,
              "ticks": ""
             }
            },
            "type": "scattermapbox"
           }
          ],
          "scatterpolar": [
           {
            "marker": {
             "colorbar": {
              "outlinewidth": 0,
              "ticks": ""
             }
            },
            "type": "scatterpolar"
           }
          ],
          "scatterpolargl": [
           {
            "marker": {
             "colorbar": {
              "outlinewidth": 0,
              "ticks": ""
             }
            },
            "type": "scatterpolargl"
           }
          ],
          "scatterternary": [
           {
            "marker": {
             "colorbar": {
              "outlinewidth": 0,
              "ticks": ""
             }
            },
            "type": "scatterternary"
           }
          ],
          "surface": [
           {
            "colorbar": {
             "outlinewidth": 0,
             "ticks": ""
            },
            "colorscale": [
             [
              0,
              "#0d0887"
             ],
             [
              0.1111111111111111,
              "#46039f"
             ],
             [
              0.2222222222222222,
              "#7201a8"
             ],
             [
              0.3333333333333333,
              "#9c179e"
             ],
             [
              0.4444444444444444,
              "#bd3786"
             ],
             [
              0.5555555555555556,
              "#d8576b"
             ],
             [
              0.6666666666666666,
              "#ed7953"
             ],
             [
              0.7777777777777778,
              "#fb9f3a"
             ],
             [
              0.8888888888888888,
              "#fdca26"
             ],
             [
              1,
              "#f0f921"
             ]
            ],
            "type": "surface"
           }
          ],
          "table": [
           {
            "cells": {
             "fill": {
              "color": "#EBF0F8"
             },
             "line": {
              "color": "white"
             }
            },
            "header": {
             "fill": {
              "color": "#C8D4E3"
             },
             "line": {
              "color": "white"
             }
            },
            "type": "table"
           }
          ]
         },
         "layout": {
          "annotationdefaults": {
           "arrowcolor": "#2a3f5f",
           "arrowhead": 0,
           "arrowwidth": 1
          },
          "autotypenumbers": "strict",
          "coloraxis": {
           "colorbar": {
            "outlinewidth": 0,
            "ticks": ""
           }
          },
          "colorscale": {
           "diverging": [
            [
             0,
             "#8e0152"
            ],
            [
             0.1,
             "#c51b7d"
            ],
            [
             0.2,
             "#de77ae"
            ],
            [
             0.3,
             "#f1b6da"
            ],
            [
             0.4,
             "#fde0ef"
            ],
            [
             0.5,
             "#f7f7f7"
            ],
            [
             0.6,
             "#e6f5d0"
            ],
            [
             0.7,
             "#b8e186"
            ],
            [
             0.8,
             "#7fbc41"
            ],
            [
             0.9,
             "#4d9221"
            ],
            [
             1,
             "#276419"
            ]
           ],
           "sequential": [
            [
             0,
             "#0d0887"
            ],
            [
             0.1111111111111111,
             "#46039f"
            ],
            [
             0.2222222222222222,
             "#7201a8"
            ],
            [
             0.3333333333333333,
             "#9c179e"
            ],
            [
             0.4444444444444444,
             "#bd3786"
            ],
            [
             0.5555555555555556,
             "#d8576b"
            ],
            [
             0.6666666666666666,
             "#ed7953"
            ],
            [
             0.7777777777777778,
             "#fb9f3a"
            ],
            [
             0.8888888888888888,
             "#fdca26"
            ],
            [
             1,
             "#f0f921"
            ]
           ],
           "sequentialminus": [
            [
             0,
             "#0d0887"
            ],
            [
             0.1111111111111111,
             "#46039f"
            ],
            [
             0.2222222222222222,
             "#7201a8"
            ],
            [
             0.3333333333333333,
             "#9c179e"
            ],
            [
             0.4444444444444444,
             "#bd3786"
            ],
            [
             0.5555555555555556,
             "#d8576b"
            ],
            [
             0.6666666666666666,
             "#ed7953"
            ],
            [
             0.7777777777777778,
             "#fb9f3a"
            ],
            [
             0.8888888888888888,
             "#fdca26"
            ],
            [
             1,
             "#f0f921"
            ]
           ]
          },
          "colorway": [
           "#636efa",
           "#EF553B",
           "#00cc96",
           "#ab63fa",
           "#FFA15A",
           "#19d3f3",
           "#FF6692",
           "#B6E880",
           "#FF97FF",
           "#FECB52"
          ],
          "font": {
           "color": "#2a3f5f"
          },
          "geo": {
           "bgcolor": "white",
           "lakecolor": "white",
           "landcolor": "#E5ECF6",
           "showlakes": true,
           "showland": true,
           "subunitcolor": "white"
          },
          "hoverlabel": {
           "align": "left"
          },
          "hovermode": "closest",
          "mapbox": {
           "style": "light"
          },
          "paper_bgcolor": "white",
          "plot_bgcolor": "#E5ECF6",
          "polar": {
           "angularaxis": {
            "gridcolor": "white",
            "linecolor": "white",
            "ticks": ""
           },
           "bgcolor": "#E5ECF6",
           "radialaxis": {
            "gridcolor": "white",
            "linecolor": "white",
            "ticks": ""
           }
          },
          "scene": {
           "xaxis": {
            "backgroundcolor": "#E5ECF6",
            "gridcolor": "white",
            "gridwidth": 2,
            "linecolor": "white",
            "showbackground": true,
            "ticks": "",
            "zerolinecolor": "white"
           },
           "yaxis": {
            "backgroundcolor": "#E5ECF6",
            "gridcolor": "white",
            "gridwidth": 2,
            "linecolor": "white",
            "showbackground": true,
            "ticks": "",
            "zerolinecolor": "white"
           },
           "zaxis": {
            "backgroundcolor": "#E5ECF6",
            "gridcolor": "white",
            "gridwidth": 2,
            "linecolor": "white",
            "showbackground": true,
            "ticks": "",
            "zerolinecolor": "white"
           }
          },
          "shapedefaults": {
           "line": {
            "color": "#2a3f5f"
           }
          },
          "ternary": {
           "aaxis": {
            "gridcolor": "white",
            "linecolor": "white",
            "ticks": ""
           },
           "baxis": {
            "gridcolor": "white",
            "linecolor": "white",
            "ticks": ""
           },
           "bgcolor": "#E5ECF6",
           "caxis": {
            "gridcolor": "white",
            "linecolor": "white",
            "ticks": ""
           }
          },
          "title": {
           "x": 0.05
          },
          "xaxis": {
           "automargin": true,
           "gridcolor": "white",
           "linecolor": "white",
           "ticks": "",
           "title": {
            "standoff": 15
           },
           "zerolinecolor": "white",
           "zerolinewidth": 2
          },
          "yaxis": {
           "automargin": true,
           "gridcolor": "white",
           "linecolor": "white",
           "ticks": "",
           "title": {
            "standoff": 15
           },
           "zerolinecolor": "white",
           "zerolinewidth": 2
          }
         }
        },
        "title": {
         "text": "Dynamic Time Warping Alignment Between Series 1 and Series 2"
        },
        "xaxis": {
         "title": {
          "text": "t"
         }
        },
        "yaxis": {
         "title": {
          "text": "Value"
         }
        }
       }
      }
     },
     "metadata": {},
     "output_type": "display_data"
    }
   ],
   "source": [
    "def plot_dtw_alignment(s1, s2, t, path):\n",
    "    fig = go.Figure()\n",
    "    fig.add_trace(go.Scatter(x=t, y=s1, mode='lines+markers', name='Series 1'))\n",
    "    fig.add_trace(go.Scatter(x=t, y=s2, mode='lines+markers', name='Series 2'))\n",
    "\n",
    "    # Draw alignment lines\n",
    "    for (i, j) in path:\n",
    "        fig.add_trace(go.Scatter(\n",
    "            x=[t[i], t[j]],\n",
    "            y=[s1[i], s2[j]],\n",
    "            mode='lines',\n",
    "            line=dict(color='gray', width=1, dash='dot'),\n",
    "            showlegend=False\n",
    "        ))\n",
    "\n",
    "    fig.update_layout(\n",
    "        title='Dynamic Time Warping Alignment Between Series 1 and Series 2',\n",
    "        xaxis_title='t',\n",
    "        yaxis_title='Value'\n",
    "    )\n",
    "    return fig\n",
    "\n",
    "\n",
    "plot_dtw_alignment(series1, series2, t, path)"
   ]
  },
  {
   "cell_type": "markdown",
   "id": "448b2f4c",
   "metadata": {},
   "source": [
    "### Preprocessing\n",
    "In the previous plots we observe that noise, outliers and positioning of the time series can have a significant impact on the similarity measures.\n",
    "To mitigate these effects, we can apply various preprocessing techniques such as:\n",
    "- **Smoothing**: Applying filters (e.g., moving average, Gaussian) to reducce noise.\n",
    "- **Normalization**: Scaling the time series to a common range to ensure that differences in amplitude do not dominate the similarity measure.\n",
    "- **Detrending**: Removing trends to focus on the fluctuations around a mean level.\n",
    "\n",
    "Note that the applied preprocessing techniques should be chosen based on the specific characteristics of the data and the analysis goals.\n",
    "\n",
    "Here, we first smooth the time series using a simple moving average filter.\n",
    "This can easily be realized by convolution with a specific kernel (a vector consisting of equal weights summing to 1, where the length of the vector is equal to the desired window size)."
   ]
  },
  {
   "cell_type": "code",
   "execution_count": 10,
   "id": "f4746829",
   "metadata": {},
   "outputs": [],
   "source": [
    "def moving_average(series, window_size=3):\n",
    "    kernel = np.ones(window_size) / window_size\n",
    "    return np.convolve(series, kernel, mode='same')\n",
    "\n",
    "series1_smooth = moving_average(series1)\n",
    "series2_smooth = moving_average(series2)"
   ]
  },
  {
   "cell_type": "code",
   "execution_count": 11,
   "id": "0ee0dfac",
   "metadata": {},
   "outputs": [
    {
     "data": {
      "application/vnd.plotly.v1+json": {
       "config": {
        "plotlyServerURL": "https://plot.ly"
       },
       "data": [
        {
         "mode": "lines+markers",
         "name": "Series 1",
         "type": "scatter",
         "x": {
          "bdata": "AAAAAAAAAACIxvrQWB/aP4jG+tBYH+o/5hS8nIKX8z+IxvrQWB/6PxW8nIKXUwBA5hS8nIKXA0C3bdu2bdsGQIjG+tBYHwpAWR8a60NjDUAVvJyCl1MQQH5orA+N9RFA5hS8nIKXE0BOwcspeDkVQLdt27Zt2xZAIBrrQ2N9GECIxvrQWB8aQPByCl5OwRtAWR8a60NjHUDCyyl4OQUfQBW8nIKXUyBASZIkSZIkIUB+aKwPjfUhQLI+NNaHxiJA5hS8nIKXI0Aa60NjfWgkQE7Byyl4OSVAg5dT8HIKJkC3bdu2bdsmQOtDY31orCdAIBrrQ2N9KEBU8HIKXk4pQIjG+tBYHypAvJyCl1PwKkDwcgpeTsErQCVJkiRJkixAWR8a60NjLUCN9aGxPjQuQMLLKXg5BS9A9qGxPjTWL0AVvJyCl1MwQC+n4OUUvDBASZIkSZIkMUBjfWisD40xQH5orA+N9TFAmFPwcgpeMkCyPjTWh8YyQMwpeDkFLzNA5hS8nIKXM0AAAAAAAAA0QA==",
          "dtype": "f8"
         },
         "y": {
          "bdata": "SiWrolKG8D+0CE7WPov5PzVJ20nwdPo/YpwEg972+D9np96uXOT1P4NLSW85yvE/a4iyeEi76T8uH5p1UDTfP7AB6korcMs/3N9SPu3RoT+Aa0hPUYOvv8D6DMiy5rO/NGzqKRCSjj+q4Mf7ux7NPwyklvvYVuA/+BcyO4/16j8w+F6C8bnyPyTx+U3yuvY/hlNi52IS+T/m/ATBJDX5Px1E2RJZ3fc/SBvhsjQG9T/7MyFH+eTwPx+AronnVOg/Fg+ssMSE3j+Lrf3pHQbKPyT6yWjXUIO/n3j6u2LIw7+HnOXUq3fFv98HPhE5H6u/+PE74VH1wT/A2tam1R/cP7R4TU9Nzuc/rEFmQNUf8T9D+rtvZ/v0P9rxdG36tvc/WTEzbdR5+D9yQ6XaInr3Pz/4RWCzyfQ/mESDFC7l8D9wlsCVqvznP+K9Rschwts/aBEAH3W/wT+DT0BsIei4v8YEw45oiM2/yPE3+lahz796C/8FcpzCvwjrPZB3QaU/7hBUDR9y0z/nqHHLLW/TPw==",
          "dtype": "f8"
         }
        },
        {
         "mode": "lines+markers",
         "name": "Series 2",
         "type": "scatter",
         "x": {
          "bdata": "AAAAAAAAAACIxvrQWB/aP4jG+tBYH+o/5hS8nIKX8z+IxvrQWB/6PxW8nIKXUwBA5hS8nIKXA0C3bdu2bdsGQIjG+tBYHwpAWR8a60NjDUAVvJyCl1MQQH5orA+N9RFA5hS8nIKXE0BOwcspeDkVQLdt27Zt2xZAIBrrQ2N9GECIxvrQWB8aQPByCl5OwRtAWR8a60NjHUDCyyl4OQUfQBW8nIKXUyBASZIkSZIkIUB+aKwPjfUhQLI+NNaHxiJA5hS8nIKXI0Aa60NjfWgkQE7Byyl4OSVAg5dT8HIKJkC3bdu2bdsmQOtDY31orCdAIBrrQ2N9KEBU8HIKXk4pQIjG+tBYHypAvJyCl1PwKkDwcgpeTsErQCVJkiRJkixAWR8a60NjLUCN9aGxPjQuQMLLKXg5BS9A9qGxPjTWL0AVvJyCl1MwQC+n4OUUvDBASZIkSZIkMUBjfWisD40xQH5orA+N9TFAmFPwcgpeMkCyPjTWh8YyQMwpeDkFLzNA5hS8nIKXM0AAAAAAAAA0QA==",
          "dtype": "f8"
         },
         "y": {
          "bdata": "+urDbcdByD+8HC2e3dDaP3EJM0iiHeg/LM26E4e/7D8wwjddY67sP4OIlWfweOY/7fG/ayh12D+g026ED6yHP6ofaPrDvtO/I3X6Ro464b+2SuRuo7rovw2TiyRl5e2/x3Dfw+Jw7r9yzzA2VlHkvytuZRMLyM6/1zxEazf5yT9mZ3o7+sDhP+L7bGwimew/CINTI90M8D/ubO+mUanwPyLl7evXpuY/ulHbU0w42z+93Z7Xq8SwvzsQjuUhVdq/+lTZR5YA7L9irt5suc/wv5sBLV9os++/WxadmFKU6r+kq7sd2t3gv/rsHjzh48i/3HHQpJvA0j8jlO3pjcTlP4V4xE81sek/IhPzV85O8D80IniSs3XqP1yFpV2cAuc/M3ayhgiw1j8AOo3W+H1MP1AzcBF3hNS/1vAGp3oy57924DFpZYrrv/1VMpT1rO6/kDpam7XQ5b/XZJHsmvXUvzD68nXA478/AzcfPwOf3T8mLS7nQyfpPwQqJfRqKe8/pogVK7YU8D+0BpwfWP/kPw==",
          "dtype": "f8"
         }
        }
       ],
       "layout": {
        "legend": {
         "title": {
          "text": "Series"
         }
        },
        "template": {
         "data": {
          "bar": [
           {
            "error_x": {
             "color": "#2a3f5f"
            },
            "error_y": {
             "color": "#2a3f5f"
            },
            "marker": {
             "line": {
              "color": "#E5ECF6",
              "width": 0.5
             },
             "pattern": {
              "fillmode": "overlay",
              "size": 10,
              "solidity": 0.2
             }
            },
            "type": "bar"
           }
          ],
          "barpolar": [
           {
            "marker": {
             "line": {
              "color": "#E5ECF6",
              "width": 0.5
             },
             "pattern": {
              "fillmode": "overlay",
              "size": 10,
              "solidity": 0.2
             }
            },
            "type": "barpolar"
           }
          ],
          "carpet": [
           {
            "aaxis": {
             "endlinecolor": "#2a3f5f",
             "gridcolor": "white",
             "linecolor": "white",
             "minorgridcolor": "white",
             "startlinecolor": "#2a3f5f"
            },
            "baxis": {
             "endlinecolor": "#2a3f5f",
             "gridcolor": "white",
             "linecolor": "white",
             "minorgridcolor": "white",
             "startlinecolor": "#2a3f5f"
            },
            "type": "carpet"
           }
          ],
          "choropleth": [
           {
            "colorbar": {
             "outlinewidth": 0,
             "ticks": ""
            },
            "type": "choropleth"
           }
          ],
          "contour": [
           {
            "colorbar": {
             "outlinewidth": 0,
             "ticks": ""
            },
            "colorscale": [
             [
              0,
              "#0d0887"
             ],
             [
              0.1111111111111111,
              "#46039f"
             ],
             [
              0.2222222222222222,
              "#7201a8"
             ],
             [
              0.3333333333333333,
              "#9c179e"
             ],
             [
              0.4444444444444444,
              "#bd3786"
             ],
             [
              0.5555555555555556,
              "#d8576b"
             ],
             [
              0.6666666666666666,
              "#ed7953"
             ],
             [
              0.7777777777777778,
              "#fb9f3a"
             ],
             [
              0.8888888888888888,
              "#fdca26"
             ],
             [
              1,
              "#f0f921"
             ]
            ],
            "type": "contour"
           }
          ],
          "contourcarpet": [
           {
            "colorbar": {
             "outlinewidth": 0,
             "ticks": ""
            },
            "type": "contourcarpet"
           }
          ],
          "heatmap": [
           {
            "colorbar": {
             "outlinewidth": 0,
             "ticks": ""
            },
            "colorscale": [
             [
              0,
              "#0d0887"
             ],
             [
              0.1111111111111111,
              "#46039f"
             ],
             [
              0.2222222222222222,
              "#7201a8"
             ],
             [
              0.3333333333333333,
              "#9c179e"
             ],
             [
              0.4444444444444444,
              "#bd3786"
             ],
             [
              0.5555555555555556,
              "#d8576b"
             ],
             [
              0.6666666666666666,
              "#ed7953"
             ],
             [
              0.7777777777777778,
              "#fb9f3a"
             ],
             [
              0.8888888888888888,
              "#fdca26"
             ],
             [
              1,
              "#f0f921"
             ]
            ],
            "type": "heatmap"
           }
          ],
          "histogram": [
           {
            "marker": {
             "pattern": {
              "fillmode": "overlay",
              "size": 10,
              "solidity": 0.2
             }
            },
            "type": "histogram"
           }
          ],
          "histogram2d": [
           {
            "colorbar": {
             "outlinewidth": 0,
             "ticks": ""
            },
            "colorscale": [
             [
              0,
              "#0d0887"
             ],
             [
              0.1111111111111111,
              "#46039f"
             ],
             [
              0.2222222222222222,
              "#7201a8"
             ],
             [
              0.3333333333333333,
              "#9c179e"
             ],
             [
              0.4444444444444444,
              "#bd3786"
             ],
             [
              0.5555555555555556,
              "#d8576b"
             ],
             [
              0.6666666666666666,
              "#ed7953"
             ],
             [
              0.7777777777777778,
              "#fb9f3a"
             ],
             [
              0.8888888888888888,
              "#fdca26"
             ],
             [
              1,
              "#f0f921"
             ]
            ],
            "type": "histogram2d"
           }
          ],
          "histogram2dcontour": [
           {
            "colorbar": {
             "outlinewidth": 0,
             "ticks": ""
            },
            "colorscale": [
             [
              0,
              "#0d0887"
             ],
             [
              0.1111111111111111,
              "#46039f"
             ],
             [
              0.2222222222222222,
              "#7201a8"
             ],
             [
              0.3333333333333333,
              "#9c179e"
             ],
             [
              0.4444444444444444,
              "#bd3786"
             ],
             [
              0.5555555555555556,
              "#d8576b"
             ],
             [
              0.6666666666666666,
              "#ed7953"
             ],
             [
              0.7777777777777778,
              "#fb9f3a"
             ],
             [
              0.8888888888888888,
              "#fdca26"
             ],
             [
              1,
              "#f0f921"
             ]
            ],
            "type": "histogram2dcontour"
           }
          ],
          "mesh3d": [
           {
            "colorbar": {
             "outlinewidth": 0,
             "ticks": ""
            },
            "type": "mesh3d"
           }
          ],
          "parcoords": [
           {
            "line": {
             "colorbar": {
              "outlinewidth": 0,
              "ticks": ""
             }
            },
            "type": "parcoords"
           }
          ],
          "pie": [
           {
            "automargin": true,
            "type": "pie"
           }
          ],
          "scatter": [
           {
            "fillpattern": {
             "fillmode": "overlay",
             "size": 10,
             "solidity": 0.2
            },
            "type": "scatter"
           }
          ],
          "scatter3d": [
           {
            "line": {
             "colorbar": {
              "outlinewidth": 0,
              "ticks": ""
             }
            },
            "marker": {
             "colorbar": {
              "outlinewidth": 0,
              "ticks": ""
             }
            },
            "type": "scatter3d"
           }
          ],
          "scattercarpet": [
           {
            "marker": {
             "colorbar": {
              "outlinewidth": 0,
              "ticks": ""
             }
            },
            "type": "scattercarpet"
           }
          ],
          "scattergeo": [
           {
            "marker": {
             "colorbar": {
              "outlinewidth": 0,
              "ticks": ""
             }
            },
            "type": "scattergeo"
           }
          ],
          "scattergl": [
           {
            "marker": {
             "colorbar": {
              "outlinewidth": 0,
              "ticks": ""
             }
            },
            "type": "scattergl"
           }
          ],
          "scattermap": [
           {
            "marker": {
             "colorbar": {
              "outlinewidth": 0,
              "ticks": ""
             }
            },
            "type": "scattermap"
           }
          ],
          "scattermapbox": [
           {
            "marker": {
             "colorbar": {
              "outlinewidth": 0,
              "ticks": ""
             }
            },
            "type": "scattermapbox"
           }
          ],
          "scatterpolar": [
           {
            "marker": {
             "colorbar": {
              "outlinewidth": 0,
              "ticks": ""
             }
            },
            "type": "scatterpolar"
           }
          ],
          "scatterpolargl": [
           {
            "marker": {
             "colorbar": {
              "outlinewidth": 0,
              "ticks": ""
             }
            },
            "type": "scatterpolargl"
           }
          ],
          "scatterternary": [
           {
            "marker": {
             "colorbar": {
              "outlinewidth": 0,
              "ticks": ""
             }
            },
            "type": "scatterternary"
           }
          ],
          "surface": [
           {
            "colorbar": {
             "outlinewidth": 0,
             "ticks": ""
            },
            "colorscale": [
             [
              0,
              "#0d0887"
             ],
             [
              0.1111111111111111,
              "#46039f"
             ],
             [
              0.2222222222222222,
              "#7201a8"
             ],
             [
              0.3333333333333333,
              "#9c179e"
             ],
             [
              0.4444444444444444,
              "#bd3786"
             ],
             [
              0.5555555555555556,
              "#d8576b"
             ],
             [
              0.6666666666666666,
              "#ed7953"
             ],
             [
              0.7777777777777778,
              "#fb9f3a"
             ],
             [
              0.8888888888888888,
              "#fdca26"
             ],
             [
              1,
              "#f0f921"
             ]
            ],
            "type": "surface"
           }
          ],
          "table": [
           {
            "cells": {
             "fill": {
              "color": "#EBF0F8"
             },
             "line": {
              "color": "white"
             }
            },
            "header": {
             "fill": {
              "color": "#C8D4E3"
             },
             "line": {
              "color": "white"
             }
            },
            "type": "table"
           }
          ]
         },
         "layout": {
          "annotationdefaults": {
           "arrowcolor": "#2a3f5f",
           "arrowhead": 0,
           "arrowwidth": 1
          },
          "autotypenumbers": "strict",
          "coloraxis": {
           "colorbar": {
            "outlinewidth": 0,
            "ticks": ""
           }
          },
          "colorscale": {
           "diverging": [
            [
             0,
             "#8e0152"
            ],
            [
             0.1,
             "#c51b7d"
            ],
            [
             0.2,
             "#de77ae"
            ],
            [
             0.3,
             "#f1b6da"
            ],
            [
             0.4,
             "#fde0ef"
            ],
            [
             0.5,
             "#f7f7f7"
            ],
            [
             0.6,
             "#e6f5d0"
            ],
            [
             0.7,
             "#b8e186"
            ],
            [
             0.8,
             "#7fbc41"
            ],
            [
             0.9,
             "#4d9221"
            ],
            [
             1,
             "#276419"
            ]
           ],
           "sequential": [
            [
             0,
             "#0d0887"
            ],
            [
             0.1111111111111111,
             "#46039f"
            ],
            [
             0.2222222222222222,
             "#7201a8"
            ],
            [
             0.3333333333333333,
             "#9c179e"
            ],
            [
             0.4444444444444444,
             "#bd3786"
            ],
            [
             0.5555555555555556,
             "#d8576b"
            ],
            [
             0.6666666666666666,
             "#ed7953"
            ],
            [
             0.7777777777777778,
             "#fb9f3a"
            ],
            [
             0.8888888888888888,
             "#fdca26"
            ],
            [
             1,
             "#f0f921"
            ]
           ],
           "sequentialminus": [
            [
             0,
             "#0d0887"
            ],
            [
             0.1111111111111111,
             "#46039f"
            ],
            [
             0.2222222222222222,
             "#7201a8"
            ],
            [
             0.3333333333333333,
             "#9c179e"
            ],
            [
             0.4444444444444444,
             "#bd3786"
            ],
            [
             0.5555555555555556,
             "#d8576b"
            ],
            [
             0.6666666666666666,
             "#ed7953"
            ],
            [
             0.7777777777777778,
             "#fb9f3a"
            ],
            [
             0.8888888888888888,
             "#fdca26"
            ],
            [
             1,
             "#f0f921"
            ]
           ]
          },
          "colorway": [
           "#636efa",
           "#EF553B",
           "#00cc96",
           "#ab63fa",
           "#FFA15A",
           "#19d3f3",
           "#FF6692",
           "#B6E880",
           "#FF97FF",
           "#FECB52"
          ],
          "font": {
           "color": "#2a3f5f"
          },
          "geo": {
           "bgcolor": "white",
           "lakecolor": "white",
           "landcolor": "#E5ECF6",
           "showlakes": true,
           "showland": true,
           "subunitcolor": "white"
          },
          "hoverlabel": {
           "align": "left"
          },
          "hovermode": "closest",
          "mapbox": {
           "style": "light"
          },
          "paper_bgcolor": "white",
          "plot_bgcolor": "#E5ECF6",
          "polar": {
           "angularaxis": {
            "gridcolor": "white",
            "linecolor": "white",
            "ticks": ""
           },
           "bgcolor": "#E5ECF6",
           "radialaxis": {
            "gridcolor": "white",
            "linecolor": "white",
            "ticks": ""
           }
          },
          "scene": {
           "xaxis": {
            "backgroundcolor": "#E5ECF6",
            "gridcolor": "white",
            "gridwidth": 2,
            "linecolor": "white",
            "showbackground": true,
            "ticks": "",
            "zerolinecolor": "white"
           },
           "yaxis": {
            "backgroundcolor": "#E5ECF6",
            "gridcolor": "white",
            "gridwidth": 2,
            "linecolor": "white",
            "showbackground": true,
            "ticks": "",
            "zerolinecolor": "white"
           },
           "zaxis": {
            "backgroundcolor": "#E5ECF6",
            "gridcolor": "white",
            "gridwidth": 2,
            "linecolor": "white",
            "showbackground": true,
            "ticks": "",
            "zerolinecolor": "white"
           }
          },
          "shapedefaults": {
           "line": {
            "color": "#2a3f5f"
           }
          },
          "ternary": {
           "aaxis": {
            "gridcolor": "white",
            "linecolor": "white",
            "ticks": ""
           },
           "baxis": {
            "gridcolor": "white",
            "linecolor": "white",
            "ticks": ""
           },
           "bgcolor": "#E5ECF6",
           "caxis": {
            "gridcolor": "white",
            "linecolor": "white",
            "ticks": ""
           }
          },
          "title": {
           "x": 0.05
          },
          "xaxis": {
           "automargin": true,
           "gridcolor": "white",
           "linecolor": "white",
           "ticks": "",
           "title": {
            "standoff": 15
           },
           "zerolinecolor": "white",
           "zerolinewidth": 2
          },
          "yaxis": {
           "automargin": true,
           "gridcolor": "white",
           "linecolor": "white",
           "ticks": "",
           "title": {
            "standoff": 15
           },
           "zerolinecolor": "white",
           "zerolinewidth": 2
          }
         }
        },
        "title": {
         "text": "Two Similar Time Series Smoothed"
        },
        "xaxis": {
         "title": {
          "text": "t"
         }
        },
        "yaxis": {
         "title": {
          "text": "Value"
         }
        }
       }
      }
     },
     "metadata": {},
     "output_type": "display_data"
    }
   ],
   "source": [
    "plot_time_series_plotly(t, series1_smooth, series2_smooth, 'Two Similar Time Series Smoothed')"
   ]
  },
  {
   "cell_type": "code",
   "execution_count": 12,
   "id": "500dea57",
   "metadata": {},
   "outputs": [],
   "source": [
    "def normalize(series):\n",
    "    return (series - np.min(series)) / (np.max(series) - np.min(series))\n",
    "\n",
    "series1_smooth_norm = normalize(series1_smooth)\n",
    "series2_smooth_norm = normalize(series2_smooth)"
   ]
  },
  {
   "cell_type": "code",
   "execution_count": 13,
   "id": "52a7b49e",
   "metadata": {},
   "outputs": [
    {
     "data": {
      "application/vnd.plotly.v1+json": {
       "config": {
        "plotlyServerURL": "https://plot.ly"
       },
       "data": [
        {
         "mode": "lines+markers",
         "name": "Series 1",
         "type": "scatter",
         "x": {
          "bdata": "AAAAAAAAAACIxvrQWB/aP4jG+tBYH+o/5hS8nIKX8z+IxvrQWB/6PxW8nIKXUwBA5hS8nIKXA0C3bdu2bdsGQIjG+tBYHwpAWR8a60NjDUAVvJyCl1MQQH5orA+N9RFA5hS8nIKXE0BOwcspeDkVQLdt27Zt2xZAIBrrQ2N9GECIxvrQWB8aQPByCl5OwRtAWR8a60NjHUDCyyl4OQUfQBW8nIKXUyBASZIkSZIkIUB+aKwPjfUhQLI+NNaHxiJA5hS8nIKXI0Aa60NjfWgkQE7Byyl4OSVAg5dT8HIKJkC3bdu2bdsmQOtDY31orCdAIBrrQ2N9KEBU8HIKXk4pQIjG+tBYHypAvJyCl1PwKkDwcgpeTsErQCVJkiRJkixAWR8a60NjLUCN9aGxPjQuQMLLKXg5BS9A9qGxPjTWL0AVvJyCl1MwQC+n4OUUvDBASZIkSZIkMUBjfWisD40xQH5orA+N9TFAmFPwcgpeMkCyPjTWh8YyQMwpeDkFLzNA5hS8nIKXM0AAAAAAAAA0QA==",
          "dtype": "f8"
         },
         "y": {
          "bdata": "yTWkG36M5T+pFf26FwrvPwAAAAAAAPA/cTDYIPZt7j92OmnSWDLrP/mzEbdS4eY/H9gV5tqy4T95xaB9Db3YP2cjSSXsE88/2L+YPVL8wj/Jqtb4T/64P/sEwosQ0LY/LxkViZ+lwT+Esb/5dPbPP3ouweyag9k/HclLyjRY4j/7bO87kt3nP53rN5YlFOw/tNxIs+qK7j/vrkqafa/uP17ne+65Re0/9DdlYpRI6j/FknguF/DlPxUEROBM9uA/NNbCM7Fg2D9wq+1Sb1XOP//DTHWsAcA/p447bvLuqD/74I0FS2OlPwLYOSIGJro/tymJzBMXyj93eMomNR7XPyH7Q0V7r+A/XPN1sQYu5j+Xmf+XNj3qP6jM7+VZHe0/Ef+XA2Pq7T82c7ZBVN3sP0bmaYDpCOo/e25Zvk7w5T91YAgW4MfgP03e81fo7NY/tVSEFL36yT9lhRpv3C20P8auqI30p4E/AAAAAAAAAACTBGxDLmarP3XjP5ACcMM/mSOhkkqN0j8jxGNCvovSPw==",
          "dtype": "f8"
         }
        },
        {
         "mode": "lines+markers",
         "name": "Series 2",
         "type": "scatter",
         "x": {
          "bdata": "AAAAAAAAAACIxvrQWB/aP4jG+tBYH+o/5hS8nIKX8z+IxvrQWB/6PxW8nIKXUwBA5hS8nIKXA0C3bdu2bdsGQIjG+tBYHwpAWR8a60NjDUAVvJyCl1MQQH5orA+N9RFA5hS8nIKXE0BOwcspeDkVQLdt27Zt2xZAIBrrQ2N9GECIxvrQWB8aQPByCl5OwRtAWR8a60NjHUDCyyl4OQUfQBW8nIKXUyBASZIkSZIkIUB+aKwPjfUhQLI+NNaHxiJA5hS8nIKXI0Aa60NjfWgkQE7Byyl4OSVAg5dT8HIKJkC3bdu2bdsmQOtDY31orCdAIBrrQ2N9KEBU8HIKXk4pQIjG+tBYHypAvJyCl1PwKkDwcgpeTsErQCVJkiRJkixAWR8a60NjLUCN9aGxPjQuQMLLKXg5BS9A9qGxPjTWL0AVvJyCl1MwQC+n4OUUvDBASZIkSZIkMUBjfWisD40xQH5orA+N9TFAmFPwcgpeMkCyPjTWh8YyQMwpeDkFLzNA5hS8nIKXM0AAAAAAAAA0QA==",
          "dtype": "f8"
         },
         "y": {
          "bdata": "PlkQBW344j+P1YJAD3vmP/sHClNames/KDpfrDXQ7T/+KhFZBMjtP8Osz8VC0Oo/qWSjBMbq5T+CpK1pnj/gP6D1UQaKtNY/Gn3BMnRYzz/CebcfQgHBP3Nn8cOYgKw/uXCewMVVqD8rnxdMe3DJP7XL8upiydg/5n4kSPAs4z/eqe8F247oP6ARfJTbve0/Ue9U0m1q7z8AAAAAAADwP2+Df/4z5uo/hsTSqMeT5j/NiBvbvSPePygTntF0jtM/bX8nAjR+tT8AAAAAAAAAAM6qGdBAZp0/L+xjNybvuj+FUsEH2gTQP82ATFTWMdo/qv96yrON5D/+HPJ3CXrqP/JBS+BCWuw/YlJZPnip7z+N3EdXL7jsPycPB2AREus/TIC6D3p+5T8ysa02wxXgP5NDhfAJVtY/Rx+w/hDvwz+9lNczKkK3P+fNa6lUiqY/8MSlP3mTxj8D8bY59R/WP89uDkAk+uE/InAWVLIm5z/Ey/ITUxjsP4xT1ZqP9+4/4tkMdO5x7z+ND85GxRvqPw==",
          "dtype": "f8"
         }
        }
       ],
       "layout": {
        "legend": {
         "title": {
          "text": "Series"
         }
        },
        "template": {
         "data": {
          "bar": [
           {
            "error_x": {
             "color": "#2a3f5f"
            },
            "error_y": {
             "color": "#2a3f5f"
            },
            "marker": {
             "line": {
              "color": "#E5ECF6",
              "width": 0.5
             },
             "pattern": {
              "fillmode": "overlay",
              "size": 10,
              "solidity": 0.2
             }
            },
            "type": "bar"
           }
          ],
          "barpolar": [
           {
            "marker": {
             "line": {
              "color": "#E5ECF6",
              "width": 0.5
             },
             "pattern": {
              "fillmode": "overlay",
              "size": 10,
              "solidity": 0.2
             }
            },
            "type": "barpolar"
           }
          ],
          "carpet": [
           {
            "aaxis": {
             "endlinecolor": "#2a3f5f",
             "gridcolor": "white",
             "linecolor": "white",
             "minorgridcolor": "white",
             "startlinecolor": "#2a3f5f"
            },
            "baxis": {
             "endlinecolor": "#2a3f5f",
             "gridcolor": "white",
             "linecolor": "white",
             "minorgridcolor": "white",
             "startlinecolor": "#2a3f5f"
            },
            "type": "carpet"
           }
          ],
          "choropleth": [
           {
            "colorbar": {
             "outlinewidth": 0,
             "ticks": ""
            },
            "type": "choropleth"
           }
          ],
          "contour": [
           {
            "colorbar": {
             "outlinewidth": 0,
             "ticks": ""
            },
            "colorscale": [
             [
              0,
              "#0d0887"
             ],
             [
              0.1111111111111111,
              "#46039f"
             ],
             [
              0.2222222222222222,
              "#7201a8"
             ],
             [
              0.3333333333333333,
              "#9c179e"
             ],
             [
              0.4444444444444444,
              "#bd3786"
             ],
             [
              0.5555555555555556,
              "#d8576b"
             ],
             [
              0.6666666666666666,
              "#ed7953"
             ],
             [
              0.7777777777777778,
              "#fb9f3a"
             ],
             [
              0.8888888888888888,
              "#fdca26"
             ],
             [
              1,
              "#f0f921"
             ]
            ],
            "type": "contour"
           }
          ],
          "contourcarpet": [
           {
            "colorbar": {
             "outlinewidth": 0,
             "ticks": ""
            },
            "type": "contourcarpet"
           }
          ],
          "heatmap": [
           {
            "colorbar": {
             "outlinewidth": 0,
             "ticks": ""
            },
            "colorscale": [
             [
              0,
              "#0d0887"
             ],
             [
              0.1111111111111111,
              "#46039f"
             ],
             [
              0.2222222222222222,
              "#7201a8"
             ],
             [
              0.3333333333333333,
              "#9c179e"
             ],
             [
              0.4444444444444444,
              "#bd3786"
             ],
             [
              0.5555555555555556,
              "#d8576b"
             ],
             [
              0.6666666666666666,
              "#ed7953"
             ],
             [
              0.7777777777777778,
              "#fb9f3a"
             ],
             [
              0.8888888888888888,
              "#fdca26"
             ],
             [
              1,
              "#f0f921"
             ]
            ],
            "type": "heatmap"
           }
          ],
          "histogram": [
           {
            "marker": {
             "pattern": {
              "fillmode": "overlay",
              "size": 10,
              "solidity": 0.2
             }
            },
            "type": "histogram"
           }
          ],
          "histogram2d": [
           {
            "colorbar": {
             "outlinewidth": 0,
             "ticks": ""
            },
            "colorscale": [
             [
              0,
              "#0d0887"
             ],
             [
              0.1111111111111111,
              "#46039f"
             ],
             [
              0.2222222222222222,
              "#7201a8"
             ],
             [
              0.3333333333333333,
              "#9c179e"
             ],
             [
              0.4444444444444444,
              "#bd3786"
             ],
             [
              0.5555555555555556,
              "#d8576b"
             ],
             [
              0.6666666666666666,
              "#ed7953"
             ],
             [
              0.7777777777777778,
              "#fb9f3a"
             ],
             [
              0.8888888888888888,
              "#fdca26"
             ],
             [
              1,
              "#f0f921"
             ]
            ],
            "type": "histogram2d"
           }
          ],
          "histogram2dcontour": [
           {
            "colorbar": {
             "outlinewidth": 0,
             "ticks": ""
            },
            "colorscale": [
             [
              0,
              "#0d0887"
             ],
             [
              0.1111111111111111,
              "#46039f"
             ],
             [
              0.2222222222222222,
              "#7201a8"
             ],
             [
              0.3333333333333333,
              "#9c179e"
             ],
             [
              0.4444444444444444,
              "#bd3786"
             ],
             [
              0.5555555555555556,
              "#d8576b"
             ],
             [
              0.6666666666666666,
              "#ed7953"
             ],
             [
              0.7777777777777778,
              "#fb9f3a"
             ],
             [
              0.8888888888888888,
              "#fdca26"
             ],
             [
              1,
              "#f0f921"
             ]
            ],
            "type": "histogram2dcontour"
           }
          ],
          "mesh3d": [
           {
            "colorbar": {
             "outlinewidth": 0,
             "ticks": ""
            },
            "type": "mesh3d"
           }
          ],
          "parcoords": [
           {
            "line": {
             "colorbar": {
              "outlinewidth": 0,
              "ticks": ""
             }
            },
            "type": "parcoords"
           }
          ],
          "pie": [
           {
            "automargin": true,
            "type": "pie"
           }
          ],
          "scatter": [
           {
            "fillpattern": {
             "fillmode": "overlay",
             "size": 10,
             "solidity": 0.2
            },
            "type": "scatter"
           }
          ],
          "scatter3d": [
           {
            "line": {
             "colorbar": {
              "outlinewidth": 0,
              "ticks": ""
             }
            },
            "marker": {
             "colorbar": {
              "outlinewidth": 0,
              "ticks": ""
             }
            },
            "type": "scatter3d"
           }
          ],
          "scattercarpet": [
           {
            "marker": {
             "colorbar": {
              "outlinewidth": 0,
              "ticks": ""
             }
            },
            "type": "scattercarpet"
           }
          ],
          "scattergeo": [
           {
            "marker": {
             "colorbar": {
              "outlinewidth": 0,
              "ticks": ""
             }
            },
            "type": "scattergeo"
           }
          ],
          "scattergl": [
           {
            "marker": {
             "colorbar": {
              "outlinewidth": 0,
              "ticks": ""
             }
            },
            "type": "scattergl"
           }
          ],
          "scattermap": [
           {
            "marker": {
             "colorbar": {
              "outlinewidth": 0,
              "ticks": ""
             }
            },
            "type": "scattermap"
           }
          ],
          "scattermapbox": [
           {
            "marker": {
             "colorbar": {
              "outlinewidth": 0,
              "ticks": ""
             }
            },
            "type": "scattermapbox"
           }
          ],
          "scatterpolar": [
           {
            "marker": {
             "colorbar": {
              "outlinewidth": 0,
              "ticks": ""
             }
            },
            "type": "scatterpolar"
           }
          ],
          "scatterpolargl": [
           {
            "marker": {
             "colorbar": {
              "outlinewidth": 0,
              "ticks": ""
             }
            },
            "type": "scatterpolargl"
           }
          ],
          "scatterternary": [
           {
            "marker": {
             "colorbar": {
              "outlinewidth": 0,
              "ticks": ""
             }
            },
            "type": "scatterternary"
           }
          ],
          "surface": [
           {
            "colorbar": {
             "outlinewidth": 0,
             "ticks": ""
            },
            "colorscale": [
             [
              0,
              "#0d0887"
             ],
             [
              0.1111111111111111,
              "#46039f"
             ],
             [
              0.2222222222222222,
              "#7201a8"
             ],
             [
              0.3333333333333333,
              "#9c179e"
             ],
             [
              0.4444444444444444,
              "#bd3786"
             ],
             [
              0.5555555555555556,
              "#d8576b"
             ],
             [
              0.6666666666666666,
              "#ed7953"
             ],
             [
              0.7777777777777778,
              "#fb9f3a"
             ],
             [
              0.8888888888888888,
              "#fdca26"
             ],
             [
              1,
              "#f0f921"
             ]
            ],
            "type": "surface"
           }
          ],
          "table": [
           {
            "cells": {
             "fill": {
              "color": "#EBF0F8"
             },
             "line": {
              "color": "white"
             }
            },
            "header": {
             "fill": {
              "color": "#C8D4E3"
             },
             "line": {
              "color": "white"
             }
            },
            "type": "table"
           }
          ]
         },
         "layout": {
          "annotationdefaults": {
           "arrowcolor": "#2a3f5f",
           "arrowhead": 0,
           "arrowwidth": 1
          },
          "autotypenumbers": "strict",
          "coloraxis": {
           "colorbar": {
            "outlinewidth": 0,
            "ticks": ""
           }
          },
          "colorscale": {
           "diverging": [
            [
             0,
             "#8e0152"
            ],
            [
             0.1,
             "#c51b7d"
            ],
            [
             0.2,
             "#de77ae"
            ],
            [
             0.3,
             "#f1b6da"
            ],
            [
             0.4,
             "#fde0ef"
            ],
            [
             0.5,
             "#f7f7f7"
            ],
            [
             0.6,
             "#e6f5d0"
            ],
            [
             0.7,
             "#b8e186"
            ],
            [
             0.8,
             "#7fbc41"
            ],
            [
             0.9,
             "#4d9221"
            ],
            [
             1,
             "#276419"
            ]
           ],
           "sequential": [
            [
             0,
             "#0d0887"
            ],
            [
             0.1111111111111111,
             "#46039f"
            ],
            [
             0.2222222222222222,
             "#7201a8"
            ],
            [
             0.3333333333333333,
             "#9c179e"
            ],
            [
             0.4444444444444444,
             "#bd3786"
            ],
            [
             0.5555555555555556,
             "#d8576b"
            ],
            [
             0.6666666666666666,
             "#ed7953"
            ],
            [
             0.7777777777777778,
             "#fb9f3a"
            ],
            [
             0.8888888888888888,
             "#fdca26"
            ],
            [
             1,
             "#f0f921"
            ]
           ],
           "sequentialminus": [
            [
             0,
             "#0d0887"
            ],
            [
             0.1111111111111111,
             "#46039f"
            ],
            [
             0.2222222222222222,
             "#7201a8"
            ],
            [
             0.3333333333333333,
             "#9c179e"
            ],
            [
             0.4444444444444444,
             "#bd3786"
            ],
            [
             0.5555555555555556,
             "#d8576b"
            ],
            [
             0.6666666666666666,
             "#ed7953"
            ],
            [
             0.7777777777777778,
             "#fb9f3a"
            ],
            [
             0.8888888888888888,
             "#fdca26"
            ],
            [
             1,
             "#f0f921"
            ]
           ]
          },
          "colorway": [
           "#636efa",
           "#EF553B",
           "#00cc96",
           "#ab63fa",
           "#FFA15A",
           "#19d3f3",
           "#FF6692",
           "#B6E880",
           "#FF97FF",
           "#FECB52"
          ],
          "font": {
           "color": "#2a3f5f"
          },
          "geo": {
           "bgcolor": "white",
           "lakecolor": "white",
           "landcolor": "#E5ECF6",
           "showlakes": true,
           "showland": true,
           "subunitcolor": "white"
          },
          "hoverlabel": {
           "align": "left"
          },
          "hovermode": "closest",
          "mapbox": {
           "style": "light"
          },
          "paper_bgcolor": "white",
          "plot_bgcolor": "#E5ECF6",
          "polar": {
           "angularaxis": {
            "gridcolor": "white",
            "linecolor": "white",
            "ticks": ""
           },
           "bgcolor": "#E5ECF6",
           "radialaxis": {
            "gridcolor": "white",
            "linecolor": "white",
            "ticks": ""
           }
          },
          "scene": {
           "xaxis": {
            "backgroundcolor": "#E5ECF6",
            "gridcolor": "white",
            "gridwidth": 2,
            "linecolor": "white",
            "showbackground": true,
            "ticks": "",
            "zerolinecolor": "white"
           },
           "yaxis": {
            "backgroundcolor": "#E5ECF6",
            "gridcolor": "white",
            "gridwidth": 2,
            "linecolor": "white",
            "showbackground": true,
            "ticks": "",
            "zerolinecolor": "white"
           },
           "zaxis": {
            "backgroundcolor": "#E5ECF6",
            "gridcolor": "white",
            "gridwidth": 2,
            "linecolor": "white",
            "showbackground": true,
            "ticks": "",
            "zerolinecolor": "white"
           }
          },
          "shapedefaults": {
           "line": {
            "color": "#2a3f5f"
           }
          },
          "ternary": {
           "aaxis": {
            "gridcolor": "white",
            "linecolor": "white",
            "ticks": ""
           },
           "baxis": {
            "gridcolor": "white",
            "linecolor": "white",
            "ticks": ""
           },
           "bgcolor": "#E5ECF6",
           "caxis": {
            "gridcolor": "white",
            "linecolor": "white",
            "ticks": ""
           }
          },
          "title": {
           "x": 0.05
          },
          "xaxis": {
           "automargin": true,
           "gridcolor": "white",
           "linecolor": "white",
           "ticks": "",
           "title": {
            "standoff": 15
           },
           "zerolinecolor": "white",
           "zerolinewidth": 2
          },
          "yaxis": {
           "automargin": true,
           "gridcolor": "white",
           "linecolor": "white",
           "ticks": "",
           "title": {
            "standoff": 15
           },
           "zerolinecolor": "white",
           "zerolinewidth": 2
          }
         }
        },
        "title": {
         "text": "Two Similar Time Series Smoothed and Normalized"
        },
        "xaxis": {
         "title": {
          "text": "t"
         }
        },
        "yaxis": {
         "title": {
          "text": "Value"
         }
        }
       }
      }
     },
     "metadata": {},
     "output_type": "display_data"
    }
   ],
   "source": [
    "plot_time_series_plotly(t, series1_smooth_norm, series2_smooth_norm, 'Two Similar Time Series Smoothed and Normalized')"
   ]
  },
  {
   "cell_type": "code",
   "execution_count": 14,
   "id": "9cfd0028",
   "metadata": {},
   "outputs": [
    {
     "name": "stdout",
     "output_type": "stream",
     "text": [
      "Euclidean Distance: 2.29\n"
     ]
    },
    {
     "data": {
      "application/vnd.plotly.v1+json": {
       "config": {
        "plotlyServerURL": "https://plot.ly"
       },
       "data": [
        {
         "mode": "lines+markers",
         "name": "Series 1",
         "type": "scatter",
         "x": {
          "bdata": "AAAAAAAAAACIxvrQWB/aP4jG+tBYH+o/5hS8nIKX8z+IxvrQWB/6PxW8nIKXUwBA5hS8nIKXA0C3bdu2bdsGQIjG+tBYHwpAWR8a60NjDUAVvJyCl1MQQH5orA+N9RFA5hS8nIKXE0BOwcspeDkVQLdt27Zt2xZAIBrrQ2N9GECIxvrQWB8aQPByCl5OwRtAWR8a60NjHUDCyyl4OQUfQBW8nIKXUyBASZIkSZIkIUB+aKwPjfUhQLI+NNaHxiJA5hS8nIKXI0Aa60NjfWgkQE7Byyl4OSVAg5dT8HIKJkC3bdu2bdsmQOtDY31orCdAIBrrQ2N9KEBU8HIKXk4pQIjG+tBYHypAvJyCl1PwKkDwcgpeTsErQCVJkiRJkixAWR8a60NjLUCN9aGxPjQuQMLLKXg5BS9A9qGxPjTWL0AVvJyCl1MwQC+n4OUUvDBASZIkSZIkMUBjfWisD40xQH5orA+N9TFAmFPwcgpeMkCyPjTWh8YyQMwpeDkFLzNA5hS8nIKXM0AAAAAAAAA0QA==",
          "dtype": "f8"
         },
         "y": {
          "bdata": "yTWkG36M5T+pFf26FwrvPwAAAAAAAPA/cTDYIPZt7j92OmnSWDLrP/mzEbdS4eY/H9gV5tqy4T95xaB9Db3YP2cjSSXsE88/2L+YPVL8wj/Jqtb4T/64P/sEwosQ0LY/LxkViZ+lwT+Esb/5dPbPP3ouweyag9k/HclLyjRY4j/7bO87kt3nP53rN5YlFOw/tNxIs+qK7j/vrkqafa/uP17ne+65Re0/9DdlYpRI6j/FknguF/DlPxUEROBM9uA/NNbCM7Fg2D9wq+1Sb1XOP//DTHWsAcA/p447bvLuqD/74I0FS2OlPwLYOSIGJro/tymJzBMXyj93eMomNR7XPyH7Q0V7r+A/XPN1sQYu5j+Xmf+XNj3qP6jM7+VZHe0/Ef+XA2Pq7T82c7ZBVN3sP0bmaYDpCOo/e25Zvk7w5T91YAgW4MfgP03e81fo7NY/tVSEFL36yT9lhRpv3C20P8auqI30p4E/AAAAAAAAAACTBGxDLmarP3XjP5ACcMM/mSOhkkqN0j8jxGNCvovSPw==",
          "dtype": "f8"
         }
        },
        {
         "mode": "lines+markers",
         "name": "Series 2",
         "type": "scatter",
         "x": {
          "bdata": "AAAAAAAAAACIxvrQWB/aP4jG+tBYH+o/5hS8nIKX8z+IxvrQWB/6PxW8nIKXUwBA5hS8nIKXA0C3bdu2bdsGQIjG+tBYHwpAWR8a60NjDUAVvJyCl1MQQH5orA+N9RFA5hS8nIKXE0BOwcspeDkVQLdt27Zt2xZAIBrrQ2N9GECIxvrQWB8aQPByCl5OwRtAWR8a60NjHUDCyyl4OQUfQBW8nIKXUyBASZIkSZIkIUB+aKwPjfUhQLI+NNaHxiJA5hS8nIKXI0Aa60NjfWgkQE7Byyl4OSVAg5dT8HIKJkC3bdu2bdsmQOtDY31orCdAIBrrQ2N9KEBU8HIKXk4pQIjG+tBYHypAvJyCl1PwKkDwcgpeTsErQCVJkiRJkixAWR8a60NjLUCN9aGxPjQuQMLLKXg5BS9A9qGxPjTWL0AVvJyCl1MwQC+n4OUUvDBASZIkSZIkMUBjfWisD40xQH5orA+N9TFAmFPwcgpeMkCyPjTWh8YyQMwpeDkFLzNA5hS8nIKXM0AAAAAAAAA0QA==",
          "dtype": "f8"
         },
         "y": {
          "bdata": "PlkQBW344j+P1YJAD3vmP/sHClNames/KDpfrDXQ7T/+KhFZBMjtP8Osz8VC0Oo/qWSjBMbq5T+CpK1pnj/gP6D1UQaKtNY/Gn3BMnRYzz/CebcfQgHBP3Nn8cOYgKw/uXCewMVVqD8rnxdMe3DJP7XL8upiydg/5n4kSPAs4z/eqe8F247oP6ARfJTbve0/Ue9U0m1q7z8AAAAAAADwP2+Df/4z5uo/hsTSqMeT5j/NiBvbvSPePygTntF0jtM/bX8nAjR+tT8AAAAAAAAAAM6qGdBAZp0/L+xjNybvuj+FUsEH2gTQP82ATFTWMdo/qv96yrON5D/+HPJ3CXrqP/JBS+BCWuw/YlJZPnip7z+N3EdXL7jsPycPB2AREus/TIC6D3p+5T8ysa02wxXgP5NDhfAJVtY/Rx+w/hDvwz+9lNczKkK3P+fNa6lUiqY/8MSlP3mTxj8D8bY59R/WP89uDkAk+uE/InAWVLIm5z/Ey/ITUxjsP4xT1ZqP9+4/4tkMdO5x7z+ND85GxRvqPw==",
          "dtype": "f8"
         }
        },
        {
         "line": {
          "color": "gray",
          "dash": "dash",
          "width": 1
         },
         "mode": "lines",
         "showlegend": false,
         "type": "scatter",
         "x": [
          0,
          0
         ],
         "y": [
          0.6733999767181383,
          0.5928254221824216
         ]
        },
        {
         "line": {
          "color": "gray",
          "dash": "dash",
          "width": 1
         },
         "mode": "lines",
         "showlegend": false,
         "type": "scatter",
         "x": [
          0.40816326530612246,
          0.40816326530612246
         ],
         "y": [
          0.9699820186730693,
          0.7025219211561068
         ]
        },
        {
         "line": {
          "color": "gray",
          "dash": "dash",
          "width": 1
         },
         "mode": "lines",
         "showlegend": false,
         "type": "scatter",
         "x": [
          0.8163265306122449,
          0.8163265306122449
         ],
         "y": [
          1,
          0.8624698278292721
         ]
        },
        {
         "line": {
          "color": "gray",
          "dash": "dash",
          "width": 1
         },
         "mode": "lines",
         "showlegend": false,
         "type": "scatter",
         "x": [
          1.2244897959183674,
          1.2244897959183674
         ],
         "y": [
          0.9509230271810464,
          0.9316662184372193
         ]
        },
        {
         "line": {
          "color": "gray",
          "dash": "dash",
          "width": 1
         },
         "mode": "lines",
         "showlegend": false,
         "type": "scatter",
         "x": [
          1.6326530612244898,
          1.6326530612244898
         ],
         "y": [
          0.8498958692160403,
          0.9306661357489643
         ]
        },
        {
         "line": {
          "color": "gray",
          "dash": "dash",
          "width": 1
         },
         "mode": "lines",
         "showlegend": false,
         "type": "scatter",
         "x": [
          2.0408163265306123,
          2.0408163265306123
         ],
         "y": [
          0.7150052619523414,
          0.8379224647045692
         ]
        },
        {
         "line": {
          "color": "gray",
          "dash": "dash",
          "width": 1
         },
         "mode": "lines",
         "showlegend": false,
         "type": "scatter",
         "x": [
          2.4489795918367347,
          2.4489795918367347
         ],
         "y": [
          0.5530828946928102,
          0.6849088755217468
         ]
        },
        {
         "line": {
          "color": "gray",
          "dash": "dash",
          "width": 1
         },
         "mode": "lines",
         "showlegend": false,
         "type": "scatter",
         "x": [
          2.857142857142857,
          2.857142857142857
         ],
         "y": [
          0.386538860972983,
          0.507765966799653
         ]
        },
        {
         "line": {
          "color": "gray",
          "dash": "dash",
          "width": 1
         },
         "mode": "lines",
         "showlegend": false,
         "type": "scatter",
         "x": [
          3.2653061224489797,
          3.2653061224489797
         ],
         "y": [
          0.2427954847392144,
          0.3547692357750183
         ]
        },
        {
         "line": {
          "color": "gray",
          "dash": "dash",
          "width": 1
         },
         "mode": "lines",
         "showlegend": false,
         "type": "scatter",
         "x": [
          3.673469387755102,
          3.673469387755102
         ],
         "y": [
          0.1483252335324312,
          0.2448868987876061
         ]
        },
        {
         "line": {
          "color": "gray",
          "dash": "dash",
          "width": 1
         },
         "mode": "lines",
         "showlegend": false,
         "type": "scatter",
         "x": [
          4.081632653061225,
          4.081632653061225
         ],
         "y": [
          0.0976304991260505,
          0.13285090016047546
         ]
        },
        {
         "line": {
          "color": "gray",
          "dash": "dash",
          "width": 1
         },
         "mode": "lines",
         "showlegend": false,
         "type": "scatter",
         "x": [
          4.4897959183673475,
          4.4897959183673475
         ],
         "y": [
          0.08911231433923554,
          0.05566861526376856
         ]
        },
        {
         "line": {
          "color": "gray",
          "dash": "dash",
          "width": 1
         },
         "mode": "lines",
         "showlegend": false,
         "type": "scatter",
         "x": [
          4.8979591836734695,
          4.8979591836734695
         ],
         "y": [
          0.13786691850163765,
          0.047529392016458734
         ]
        },
        {
         "line": {
          "color": "gray",
          "dash": "dash",
          "width": 1
         },
         "mode": "lines",
         "showlegend": false,
         "type": "scatter",
         "x": [
          5.3061224489795915,
          5.3061224489795915
         ],
         "y": [
          0.24970876879468673,
          0.1987451669258403
         ]
        },
        {
         "line": {
          "color": "gray",
          "dash": "dash",
          "width": 1
         },
         "mode": "lines",
         "showlegend": false,
         "type": "scatter",
         "x": [
          5.714285714285714,
          5.714285714285714
         ],
         "y": [
          0.39865754242484963,
          0.38729165023977014
         ]
        },
        {
         "line": {
          "color": "gray",
          "dash": "dash",
          "width": 1
         },
         "mode": "lines",
         "showlegend": false,
         "type": "scatter",
         "x": [
          6.122448979591837,
          6.122448979591837
         ],
         "y": [
          0.5732673598379595,
          0.5992356690439606
         ]
        },
        {
         "line": {
          "color": "gray",
          "dash": "dash",
          "width": 1
         },
         "mode": "lines",
         "showlegend": false,
         "type": "scatter",
         "x": [
          6.530612244897959,
          6.530612244897959
         ],
         "y": [
          0.7457972689257127,
          0.767438422769654
         ]
        },
        {
         "line": {
          "color": "gray",
          "dash": "dash",
          "width": 1
         },
         "mode": "lines",
         "showlegend": false,
         "type": "scatter",
         "x": [
          6.938775510204081,
          6.938775510204081
         ],
         "y": [
          0.8774593290285001,
          0.9294259929743482
         ]
        },
        {
         "line": {
          "color": "gray",
          "dash": "dash",
          "width": 1
         },
         "mode": "lines",
         "showlegend": false,
         "type": "scatter",
         "x": [
          7.346938775510204,
          7.346938775510204
         ],
         "y": [
          0.954457616963643,
          0.9817418201487077
         ]
        },
        {
         "line": {
          "color": "gray",
          "dash": "dash",
          "width": 1
         },
         "mode": "lines",
         "showlegend": false,
         "type": "scatter",
         "x": [
          7.755102040816327,
          7.755102040816327
         ],
         "y": [
          0.9589221967230211,
          1
         ]
        },
        {
         "line": {
          "color": "gray",
          "dash": "dash",
          "width": 1
         },
         "mode": "lines",
         "showlegend": false,
         "type": "scatter",
         "x": [
          8.16326530612245,
          8.16326530612245
         ],
         "y": [
          0.9147615106478317,
          0.8406009646097184
         ]
        },
        {
         "line": {
          "color": "gray",
          "dash": "dash",
          "width": 1
         },
         "mode": "lines",
         "showlegend": false,
         "type": "scatter",
         "x": [
          8.571428571428571,
          8.571428571428571
         ],
         "y": [
          0.8213598176751007,
          0.7055395409899041
         ]
        },
        {
         "line": {
          "color": "gray",
          "dash": "dash",
          "width": 1
         },
         "mode": "lines",
         "showlegend": false,
         "type": "scatter",
         "x": [
          8.979591836734695,
          8.979591836734695
         ],
         "y": [
          0.6855579288136019,
          0.4709314956400135
         ]
        },
        {
         "line": {
          "color": "gray",
          "dash": "dash",
          "width": 1
         },
         "mode": "lines",
         "showlegend": false,
         "type": "scatter",
         "x": [
          9.387755102040817,
          9.387755102040817
         ],
         "y": [
          0.530065954226418,
          0.30556984396416675
         ]
        },
        {
         "line": {
          "color": "gray",
          "dash": "dash",
          "width": 1
         },
         "mode": "lines",
         "showlegend": false,
         "type": "scatter",
         "x": [
          9.795918367346939,
          9.795918367346939
         ],
         "y": [
          0.3809016232947642,
          0.08395695736498761
         ]
        },
        {
         "line": {
          "color": "gray",
          "dash": "dash",
          "width": 1
         },
         "mode": "lines",
         "showlegend": false,
         "type": "scatter",
         "x": [
          10.204081632653061,
          10.204081632653061
         ],
         "y": [
          0.23698226498830932,
          0
         ]
        },
        {
         "line": {
          "color": "gray",
          "dash": "dash",
          "width": 1
         },
         "mode": "lines",
         "showlegend": false,
         "type": "scatter",
         "x": [
          10.612244897959183,
          10.612244897959183
         ],
         "y": [
          0.12505107619793418,
          0.028710377408439673
         ]
        },
        {
         "line": {
          "color": "gray",
          "dash": "dash",
          "width": 1
         },
         "mode": "lines",
         "showlegend": false,
         "type": "scatter",
         "x": [
          11.020408163265307,
          11.020408163265307
         ],
         "y": [
          0.04869802089322422,
          0.10521162845900343
         ]
        },
        {
         "line": {
          "color": "gray",
          "dash": "dash",
          "width": 1
         },
         "mode": "lines",
         "showlegend": false,
         "type": "scatter",
         "x": [
          11.428571428571429,
          11.428571428571429
         ],
         "y": [
          0.04177317087936846,
          0.25029612309780475
         ]
        },
        {
         "line": {
          "color": "gray",
          "dash": "dash",
          "width": 1
         },
         "mode": "lines",
         "showlegend": false,
         "type": "scatter",
         "x": [
          11.83673469387755,
          11.83673469387755
         ],
         "y": [
          0.10214269958109415,
          0.40929182274159076
         ]
        },
        {
         "line": {
          "color": "gray",
          "dash": "dash",
          "width": 1
         },
         "mode": "lines",
         "showlegend": false,
         "type": "scatter",
         "x": [
          12.244897959183675,
          12.244897959183675
         ],
         "y": [
          0.20382926451777703,
          0.6422976450630717
         ]
        },
        {
         "line": {
          "color": "gray",
          "dash": "dash",
          "width": 1
         },
         "mode": "lines",
         "showlegend": false,
         "type": "scatter",
         "x": [
          12.653061224489797,
          12.653061224489797
         ],
         "y": [
          0.36121872699903385,
          0.8273970930758023
         ]
        },
        {
         "line": {
          "color": "gray",
          "dash": "dash",
          "width": 1
         },
         "mode": "lines",
         "showlegend": false,
         "type": "scatter",
         "x": [
          13.061224489795919,
          13.061224489795919
         ],
         "y": [
          0.521421084675101,
          0.8860182171575259
         ]
        },
        {
         "line": {
          "color": "gray",
          "dash": "dash",
          "width": 1
         },
         "mode": "lines",
         "showlegend": false,
         "type": "scatter",
         "x": [
          13.46938775510204,
          13.46938775510204
         ],
         "y": [
          0.6931184259443444,
          0.9894372194053853
         ]
        },
        {
         "line": {
          "color": "gray",
          "dash": "dash",
          "width": 1
         },
         "mode": "lines",
         "showlegend": false,
         "type": "scatter",
         "x": [
          13.877551020408163,
          13.877551020408163
         ],
         "y": [
          0.819972321388195,
          0.897483511419425
         ]
        },
        {
         "line": {
          "color": "gray",
          "dash": "dash",
          "width": 1
         },
         "mode": "lines",
         "showlegend": false,
         "type": "scatter",
         "x": [
          14.285714285714286,
          14.285714285714286
         ],
         "y": [
          0.9098329058600898,
          0.8459555507219861
         ]
        },
        {
         "line": {
          "color": "gray",
          "dash": "dash",
          "width": 1
         },
         "mode": "lines",
         "showlegend": false,
         "type": "scatter",
         "x": [
          14.693877551020408,
          14.693877551020408
         ],
         "y": [
          0.9348616666975166,
          0.6716890628049526
         ]
        },
        {
         "line": {
          "color": "gray",
          "dash": "dash",
          "width": 1
         },
         "mode": "lines",
         "showlegend": false,
         "type": "scatter",
         "x": [
          15.10204081632653,
          15.10204081632653
         ],
         "y": [
          0.9020177157832225,
          0.5026565616549645
         ]
        },
        {
         "line": {
          "color": "gray",
          "dash": "dash",
          "width": 1
         },
         "mode": "lines",
         "showlegend": false,
         "type": "scatter",
         "x": [
          15.510204081632654,
          15.510204081632654
         ],
         "y": [
          0.8135879047469607,
          0.3490013932069413
         ]
        },
        {
         "line": {
          "color": "gray",
          "dash": "dash",
          "width": 1
         },
         "mode": "lines",
         "showlegend": false,
         "type": "scatter",
         "x": [
          15.918367346938776,
          15.918367346938776
         ],
         "y": [
          0.6855844228516185,
          0.15573322711883916
         ]
        },
        {
         "line": {
          "color": "gray",
          "dash": "dash",
          "width": 1
         },
         "mode": "lines",
         "showlegend": false,
         "type": "scatter",
         "x": [
          16.3265306122449,
          16.3265306122449
         ],
         "y": [
          0.5243988447500799,
          0.09085334554363818
         ]
        },
        {
         "line": {
          "color": "gray",
          "dash": "dash",
          "width": 1
         },
         "mode": "lines",
         "showlegend": false,
         "type": "scatter",
         "x": [
          16.73469387755102,
          16.73469387755102
         ],
         "y": [
          0.3582096918976035,
          0.04402412956360618
         ]
        },
        {
         "line": {
          "color": "gray",
          "dash": "dash",
          "width": 1
         },
         "mode": "lines",
         "showlegend": false,
         "type": "scatter",
         "x": [
          17.142857142857142,
          17.142857142857142
         ],
         "y": [
          0.20296443464090932,
          0.17637553794660432
         ]
        },
        {
         "line": {
          "color": "gray",
          "dash": "dash",
          "width": 1
         },
         "mode": "lines",
         "showlegend": false,
         "type": "scatter",
         "x": [
          17.551020408163264,
          17.551020408163264
         ],
         "y": [
          0.0788247843979853,
          0.34570055614655376
         ]
        },
        {
         "line": {
          "color": "gray",
          "dash": "dash",
          "width": 1
         },
         "mode": "lines",
         "showlegend": false,
         "type": "scatter",
         "x": [
          17.95918367346939,
          17.95918367346939
         ],
         "y": [
          0.008621130536162435,
          0.5617848635769976
         ]
        },
        {
         "line": {
          "color": "gray",
          "dash": "dash",
          "width": 1
         },
         "mode": "lines",
         "showlegend": false,
         "type": "scatter",
         "x": [
          18.367346938775512,
          18.367346938775512
         ],
         "y": [
          0,
          0.7234737055146108
         ]
        },
        {
         "line": {
          "color": "gray",
          "dash": "dash",
          "width": 1
         },
         "mode": "lines",
         "showlegend": false,
         "type": "scatter",
         "x": [
          18.775510204081634,
          18.775510204081634
         ],
         "y": [
          0.053513951997964736,
          0.8779693021409618
         ]
        },
        {
         "line": {
          "color": "gray",
          "dash": "dash",
          "width": 1
         },
         "mode": "lines",
         "showlegend": false,
         "type": "scatter",
         "x": [
          19.183673469387756,
          19.183673469387756
         ],
         "y": [
          0.15185577434001699,
          0.9677198433006295
         ]
        },
        {
         "line": {
          "color": "gray",
          "dash": "dash",
          "width": 1
         },
         "mode": "lines",
         "showlegend": false,
         "type": "scatter",
         "x": [
          19.591836734693878,
          19.591836734693878
         ],
         "y": [
          0.28987373656541987,
          0.9826576487164937
         ]
        },
        {
         "line": {
          "color": "gray",
          "dash": "dash",
          "width": 1
         },
         "mode": "lines",
         "showlegend": false,
         "type": "scatter",
         "x": [
          20,
          20
         ],
         "y": [
          0.2897792480790164,
          0.8158899672421157
         ]
        }
       ],
       "layout": {
        "template": {
         "data": {
          "bar": [
           {
            "error_x": {
             "color": "#2a3f5f"
            },
            "error_y": {
             "color": "#2a3f5f"
            },
            "marker": {
             "line": {
              "color": "#E5ECF6",
              "width": 0.5
             },
             "pattern": {
              "fillmode": "overlay",
              "size": 10,
              "solidity": 0.2
             }
            },
            "type": "bar"
           }
          ],
          "barpolar": [
           {
            "marker": {
             "line": {
              "color": "#E5ECF6",
              "width": 0.5
             },
             "pattern": {
              "fillmode": "overlay",
              "size": 10,
              "solidity": 0.2
             }
            },
            "type": "barpolar"
           }
          ],
          "carpet": [
           {
            "aaxis": {
             "endlinecolor": "#2a3f5f",
             "gridcolor": "white",
             "linecolor": "white",
             "minorgridcolor": "white",
             "startlinecolor": "#2a3f5f"
            },
            "baxis": {
             "endlinecolor": "#2a3f5f",
             "gridcolor": "white",
             "linecolor": "white",
             "minorgridcolor": "white",
             "startlinecolor": "#2a3f5f"
            },
            "type": "carpet"
           }
          ],
          "choropleth": [
           {
            "colorbar": {
             "outlinewidth": 0,
             "ticks": ""
            },
            "type": "choropleth"
           }
          ],
          "contour": [
           {
            "colorbar": {
             "outlinewidth": 0,
             "ticks": ""
            },
            "colorscale": [
             [
              0,
              "#0d0887"
             ],
             [
              0.1111111111111111,
              "#46039f"
             ],
             [
              0.2222222222222222,
              "#7201a8"
             ],
             [
              0.3333333333333333,
              "#9c179e"
             ],
             [
              0.4444444444444444,
              "#bd3786"
             ],
             [
              0.5555555555555556,
              "#d8576b"
             ],
             [
              0.6666666666666666,
              "#ed7953"
             ],
             [
              0.7777777777777778,
              "#fb9f3a"
             ],
             [
              0.8888888888888888,
              "#fdca26"
             ],
             [
              1,
              "#f0f921"
             ]
            ],
            "type": "contour"
           }
          ],
          "contourcarpet": [
           {
            "colorbar": {
             "outlinewidth": 0,
             "ticks": ""
            },
            "type": "contourcarpet"
           }
          ],
          "heatmap": [
           {
            "colorbar": {
             "outlinewidth": 0,
             "ticks": ""
            },
            "colorscale": [
             [
              0,
              "#0d0887"
             ],
             [
              0.1111111111111111,
              "#46039f"
             ],
             [
              0.2222222222222222,
              "#7201a8"
             ],
             [
              0.3333333333333333,
              "#9c179e"
             ],
             [
              0.4444444444444444,
              "#bd3786"
             ],
             [
              0.5555555555555556,
              "#d8576b"
             ],
             [
              0.6666666666666666,
              "#ed7953"
             ],
             [
              0.7777777777777778,
              "#fb9f3a"
             ],
             [
              0.8888888888888888,
              "#fdca26"
             ],
             [
              1,
              "#f0f921"
             ]
            ],
            "type": "heatmap"
           }
          ],
          "histogram": [
           {
            "marker": {
             "pattern": {
              "fillmode": "overlay",
              "size": 10,
              "solidity": 0.2
             }
            },
            "type": "histogram"
           }
          ],
          "histogram2d": [
           {
            "colorbar": {
             "outlinewidth": 0,
             "ticks": ""
            },
            "colorscale": [
             [
              0,
              "#0d0887"
             ],
             [
              0.1111111111111111,
              "#46039f"
             ],
             [
              0.2222222222222222,
              "#7201a8"
             ],
             [
              0.3333333333333333,
              "#9c179e"
             ],
             [
              0.4444444444444444,
              "#bd3786"
             ],
             [
              0.5555555555555556,
              "#d8576b"
             ],
             [
              0.6666666666666666,
              "#ed7953"
             ],
             [
              0.7777777777777778,
              "#fb9f3a"
             ],
             [
              0.8888888888888888,
              "#fdca26"
             ],
             [
              1,
              "#f0f921"
             ]
            ],
            "type": "histogram2d"
           }
          ],
          "histogram2dcontour": [
           {
            "colorbar": {
             "outlinewidth": 0,
             "ticks": ""
            },
            "colorscale": [
             [
              0,
              "#0d0887"
             ],
             [
              0.1111111111111111,
              "#46039f"
             ],
             [
              0.2222222222222222,
              "#7201a8"
             ],
             [
              0.3333333333333333,
              "#9c179e"
             ],
             [
              0.4444444444444444,
              "#bd3786"
             ],
             [
              0.5555555555555556,
              "#d8576b"
             ],
             [
              0.6666666666666666,
              "#ed7953"
             ],
             [
              0.7777777777777778,
              "#fb9f3a"
             ],
             [
              0.8888888888888888,
              "#fdca26"
             ],
             [
              1,
              "#f0f921"
             ]
            ],
            "type": "histogram2dcontour"
           }
          ],
          "mesh3d": [
           {
            "colorbar": {
             "outlinewidth": 0,
             "ticks": ""
            },
            "type": "mesh3d"
           }
          ],
          "parcoords": [
           {
            "line": {
             "colorbar": {
              "outlinewidth": 0,
              "ticks": ""
             }
            },
            "type": "parcoords"
           }
          ],
          "pie": [
           {
            "automargin": true,
            "type": "pie"
           }
          ],
          "scatter": [
           {
            "fillpattern": {
             "fillmode": "overlay",
             "size": 10,
             "solidity": 0.2
            },
            "type": "scatter"
           }
          ],
          "scatter3d": [
           {
            "line": {
             "colorbar": {
              "outlinewidth": 0,
              "ticks": ""
             }
            },
            "marker": {
             "colorbar": {
              "outlinewidth": 0,
              "ticks": ""
             }
            },
            "type": "scatter3d"
           }
          ],
          "scattercarpet": [
           {
            "marker": {
             "colorbar": {
              "outlinewidth": 0,
              "ticks": ""
             }
            },
            "type": "scattercarpet"
           }
          ],
          "scattergeo": [
           {
            "marker": {
             "colorbar": {
              "outlinewidth": 0,
              "ticks": ""
             }
            },
            "type": "scattergeo"
           }
          ],
          "scattergl": [
           {
            "marker": {
             "colorbar": {
              "outlinewidth": 0,
              "ticks": ""
             }
            },
            "type": "scattergl"
           }
          ],
          "scattermap": [
           {
            "marker": {
             "colorbar": {
              "outlinewidth": 0,
              "ticks": ""
             }
            },
            "type": "scattermap"
           }
          ],
          "scattermapbox": [
           {
            "marker": {
             "colorbar": {
              "outlinewidth": 0,
              "ticks": ""
             }
            },
            "type": "scattermapbox"
           }
          ],
          "scatterpolar": [
           {
            "marker": {
             "colorbar": {
              "outlinewidth": 0,
              "ticks": ""
             }
            },
            "type": "scatterpolar"
           }
          ],
          "scatterpolargl": [
           {
            "marker": {
             "colorbar": {
              "outlinewidth": 0,
              "ticks": ""
             }
            },
            "type": "scatterpolargl"
           }
          ],
          "scatterternary": [
           {
            "marker": {
             "colorbar": {
              "outlinewidth": 0,
              "ticks": ""
             }
            },
            "type": "scatterternary"
           }
          ],
          "surface": [
           {
            "colorbar": {
             "outlinewidth": 0,
             "ticks": ""
            },
            "colorscale": [
             [
              0,
              "#0d0887"
             ],
             [
              0.1111111111111111,
              "#46039f"
             ],
             [
              0.2222222222222222,
              "#7201a8"
             ],
             [
              0.3333333333333333,
              "#9c179e"
             ],
             [
              0.4444444444444444,
              "#bd3786"
             ],
             [
              0.5555555555555556,
              "#d8576b"
             ],
             [
              0.6666666666666666,
              "#ed7953"
             ],
             [
              0.7777777777777778,
              "#fb9f3a"
             ],
             [
              0.8888888888888888,
              "#fdca26"
             ],
             [
              1,
              "#f0f921"
             ]
            ],
            "type": "surface"
           }
          ],
          "table": [
           {
            "cells": {
             "fill": {
              "color": "#EBF0F8"
             },
             "line": {
              "color": "white"
             }
            },
            "header": {
             "fill": {
              "color": "#C8D4E3"
             },
             "line": {
              "color": "white"
             }
            },
            "type": "table"
           }
          ]
         },
         "layout": {
          "annotationdefaults": {
           "arrowcolor": "#2a3f5f",
           "arrowhead": 0,
           "arrowwidth": 1
          },
          "autotypenumbers": "strict",
          "coloraxis": {
           "colorbar": {
            "outlinewidth": 0,
            "ticks": ""
           }
          },
          "colorscale": {
           "diverging": [
            [
             0,
             "#8e0152"
            ],
            [
             0.1,
             "#c51b7d"
            ],
            [
             0.2,
             "#de77ae"
            ],
            [
             0.3,
             "#f1b6da"
            ],
            [
             0.4,
             "#fde0ef"
            ],
            [
             0.5,
             "#f7f7f7"
            ],
            [
             0.6,
             "#e6f5d0"
            ],
            [
             0.7,
             "#b8e186"
            ],
            [
             0.8,
             "#7fbc41"
            ],
            [
             0.9,
             "#4d9221"
            ],
            [
             1,
             "#276419"
            ]
           ],
           "sequential": [
            [
             0,
             "#0d0887"
            ],
            [
             0.1111111111111111,
             "#46039f"
            ],
            [
             0.2222222222222222,
             "#7201a8"
            ],
            [
             0.3333333333333333,
             "#9c179e"
            ],
            [
             0.4444444444444444,
             "#bd3786"
            ],
            [
             0.5555555555555556,
             "#d8576b"
            ],
            [
             0.6666666666666666,
             "#ed7953"
            ],
            [
             0.7777777777777778,
             "#fb9f3a"
            ],
            [
             0.8888888888888888,
             "#fdca26"
            ],
            [
             1,
             "#f0f921"
            ]
           ],
           "sequentialminus": [
            [
             0,
             "#0d0887"
            ],
            [
             0.1111111111111111,
             "#46039f"
            ],
            [
             0.2222222222222222,
             "#7201a8"
            ],
            [
             0.3333333333333333,
             "#9c179e"
            ],
            [
             0.4444444444444444,
             "#bd3786"
            ],
            [
             0.5555555555555556,
             "#d8576b"
            ],
            [
             0.6666666666666666,
             "#ed7953"
            ],
            [
             0.7777777777777778,
             "#fb9f3a"
            ],
            [
             0.8888888888888888,
             "#fdca26"
            ],
            [
             1,
             "#f0f921"
            ]
           ]
          },
          "colorway": [
           "#636efa",
           "#EF553B",
           "#00cc96",
           "#ab63fa",
           "#FFA15A",
           "#19d3f3",
           "#FF6692",
           "#B6E880",
           "#FF97FF",
           "#FECB52"
          ],
          "font": {
           "color": "#2a3f5f"
          },
          "geo": {
           "bgcolor": "white",
           "lakecolor": "white",
           "landcolor": "#E5ECF6",
           "showlakes": true,
           "showland": true,
           "subunitcolor": "white"
          },
          "hoverlabel": {
           "align": "left"
          },
          "hovermode": "closest",
          "mapbox": {
           "style": "light"
          },
          "paper_bgcolor": "white",
          "plot_bgcolor": "#E5ECF6",
          "polar": {
           "angularaxis": {
            "gridcolor": "white",
            "linecolor": "white",
            "ticks": ""
           },
           "bgcolor": "#E5ECF6",
           "radialaxis": {
            "gridcolor": "white",
            "linecolor": "white",
            "ticks": ""
           }
          },
          "scene": {
           "xaxis": {
            "backgroundcolor": "#E5ECF6",
            "gridcolor": "white",
            "gridwidth": 2,
            "linecolor": "white",
            "showbackground": true,
            "ticks": "",
            "zerolinecolor": "white"
           },
           "yaxis": {
            "backgroundcolor": "#E5ECF6",
            "gridcolor": "white",
            "gridwidth": 2,
            "linecolor": "white",
            "showbackground": true,
            "ticks": "",
            "zerolinecolor": "white"
           },
           "zaxis": {
            "backgroundcolor": "#E5ECF6",
            "gridcolor": "white",
            "gridwidth": 2,
            "linecolor": "white",
            "showbackground": true,
            "ticks": "",
            "zerolinecolor": "white"
           }
          },
          "shapedefaults": {
           "line": {
            "color": "#2a3f5f"
           }
          },
          "ternary": {
           "aaxis": {
            "gridcolor": "white",
            "linecolor": "white",
            "ticks": ""
           },
           "baxis": {
            "gridcolor": "white",
            "linecolor": "white",
            "ticks": ""
           },
           "bgcolor": "#E5ECF6",
           "caxis": {
            "gridcolor": "white",
            "linecolor": "white",
            "ticks": ""
           }
          },
          "title": {
           "x": 0.05
          },
          "xaxis": {
           "automargin": true,
           "gridcolor": "white",
           "linecolor": "white",
           "ticks": "",
           "title": {
            "standoff": 15
           },
           "zerolinecolor": "white",
           "zerolinewidth": 2
          },
          "yaxis": {
           "automargin": true,
           "gridcolor": "white",
           "linecolor": "white",
           "ticks": "",
           "title": {
            "standoff": 15
           },
           "zerolinecolor": "white",
           "zerolinewidth": 2
          }
         }
        },
        "title": {
         "text": "Euclidean Distance Visualization Between Series 1 and Series 2"
        },
        "xaxis": {
         "title": {
          "text": "t"
         }
        },
        "yaxis": {
         "title": {
          "text": "Value"
         }
        }
       }
      }
     },
     "metadata": {},
     "output_type": "display_data"
    }
   ],
   "source": [
    "d_euclidean_sn = euclidean_distance(series1_smooth_norm, series2_smooth_norm)\n",
    "print(f'Euclidean Distance: {d_euclidean_sn:.2f}')\n",
    "\n",
    "plot_euclidean_distance(series1_smooth_norm, series2_smooth_norm, t)"
   ]
  },
  {
   "cell_type": "code",
   "execution_count": 15,
   "id": "60ef48f7",
   "metadata": {},
   "outputs": [
    {
     "name": "stdout",
     "output_type": "stream",
     "text": [
      "Dynamic Time Warping Distance: 5.07\n"
     ]
    },
    {
     "data": {
      "application/vnd.plotly.v1+json": {
       "config": {
        "plotlyServerURL": "https://plot.ly"
       },
       "data": [
        {
         "mode": "lines+markers",
         "name": "Series 1",
         "type": "scatter",
         "x": {
          "bdata": "AAAAAAAAAACIxvrQWB/aP4jG+tBYH+o/5hS8nIKX8z+IxvrQWB/6PxW8nIKXUwBA5hS8nIKXA0C3bdu2bdsGQIjG+tBYHwpAWR8a60NjDUAVvJyCl1MQQH5orA+N9RFA5hS8nIKXE0BOwcspeDkVQLdt27Zt2xZAIBrrQ2N9GECIxvrQWB8aQPByCl5OwRtAWR8a60NjHUDCyyl4OQUfQBW8nIKXUyBASZIkSZIkIUB+aKwPjfUhQLI+NNaHxiJA5hS8nIKXI0Aa60NjfWgkQE7Byyl4OSVAg5dT8HIKJkC3bdu2bdsmQOtDY31orCdAIBrrQ2N9KEBU8HIKXk4pQIjG+tBYHypAvJyCl1PwKkDwcgpeTsErQCVJkiRJkixAWR8a60NjLUCN9aGxPjQuQMLLKXg5BS9A9qGxPjTWL0AVvJyCl1MwQC+n4OUUvDBASZIkSZIkMUBjfWisD40xQH5orA+N9TFAmFPwcgpeMkCyPjTWh8YyQMwpeDkFLzNA5hS8nIKXM0AAAAAAAAA0QA==",
          "dtype": "f8"
         },
         "y": {
          "bdata": "yTWkG36M5T+pFf26FwrvPwAAAAAAAPA/cTDYIPZt7j92OmnSWDLrP/mzEbdS4eY/H9gV5tqy4T95xaB9Db3YP2cjSSXsE88/2L+YPVL8wj/Jqtb4T/64P/sEwosQ0LY/LxkViZ+lwT+Esb/5dPbPP3ouweyag9k/HclLyjRY4j/7bO87kt3nP53rN5YlFOw/tNxIs+qK7j/vrkqafa/uP17ne+65Re0/9DdlYpRI6j/FknguF/DlPxUEROBM9uA/NNbCM7Fg2D9wq+1Sb1XOP//DTHWsAcA/p447bvLuqD/74I0FS2OlPwLYOSIGJro/tymJzBMXyj93eMomNR7XPyH7Q0V7r+A/XPN1sQYu5j+Xmf+XNj3qP6jM7+VZHe0/Ef+XA2Pq7T82c7ZBVN3sP0bmaYDpCOo/e25Zvk7w5T91YAgW4MfgP03e81fo7NY/tVSEFL36yT9lhRpv3C20P8auqI30p4E/AAAAAAAAAACTBGxDLmarP3XjP5ACcMM/mSOhkkqN0j8jxGNCvovSPw==",
          "dtype": "f8"
         }
        },
        {
         "mode": "lines+markers",
         "name": "Series 2",
         "type": "scatter",
         "x": {
          "bdata": "AAAAAAAAAACIxvrQWB/aP4jG+tBYH+o/5hS8nIKX8z+IxvrQWB/6PxW8nIKXUwBA5hS8nIKXA0C3bdu2bdsGQIjG+tBYHwpAWR8a60NjDUAVvJyCl1MQQH5orA+N9RFA5hS8nIKXE0BOwcspeDkVQLdt27Zt2xZAIBrrQ2N9GECIxvrQWB8aQPByCl5OwRtAWR8a60NjHUDCyyl4OQUfQBW8nIKXUyBASZIkSZIkIUB+aKwPjfUhQLI+NNaHxiJA5hS8nIKXI0Aa60NjfWgkQE7Byyl4OSVAg5dT8HIKJkC3bdu2bdsmQOtDY31orCdAIBrrQ2N9KEBU8HIKXk4pQIjG+tBYHypAvJyCl1PwKkDwcgpeTsErQCVJkiRJkixAWR8a60NjLUCN9aGxPjQuQMLLKXg5BS9A9qGxPjTWL0AVvJyCl1MwQC+n4OUUvDBASZIkSZIkMUBjfWisD40xQH5orA+N9TFAmFPwcgpeMkCyPjTWh8YyQMwpeDkFLzNA5hS8nIKXM0AAAAAAAAA0QA==",
          "dtype": "f8"
         },
         "y": {
          "bdata": "PlkQBW344j+P1YJAD3vmP/sHClNames/KDpfrDXQ7T/+KhFZBMjtP8Osz8VC0Oo/qWSjBMbq5T+CpK1pnj/gP6D1UQaKtNY/Gn3BMnRYzz/CebcfQgHBP3Nn8cOYgKw/uXCewMVVqD8rnxdMe3DJP7XL8upiydg/5n4kSPAs4z/eqe8F247oP6ARfJTbve0/Ue9U0m1q7z8AAAAAAADwP2+Df/4z5uo/hsTSqMeT5j/NiBvbvSPePygTntF0jtM/bX8nAjR+tT8AAAAAAAAAAM6qGdBAZp0/L+xjNybvuj+FUsEH2gTQP82ATFTWMdo/qv96yrON5D/+HPJ3CXrqP/JBS+BCWuw/YlJZPnip7z+N3EdXL7jsPycPB2AREus/TIC6D3p+5T8ysa02wxXgP5NDhfAJVtY/Rx+w/hDvwz+9lNczKkK3P+fNa6lUiqY/8MSlP3mTxj8D8bY59R/WP89uDkAk+uE/InAWVLIm5z/Ey/ITUxjsP4xT1ZqP9+4/4tkMdO5x7z+ND85GxRvqPw==",
          "dtype": "f8"
         }
        },
        {
         "line": {
          "color": "gray",
          "dash": "dot",
          "width": 1
         },
         "mode": "lines",
         "showlegend": false,
         "type": "scatter",
         "x": [
          0,
          0
         ],
         "y": [
          0.6733999767181383,
          0.5928254221824216
         ]
        },
        {
         "line": {
          "color": "gray",
          "dash": "dot",
          "width": 1
         },
         "mode": "lines",
         "showlegend": false,
         "type": "scatter",
         "x": [
          0,
          0.40816326530612246
         ],
         "y": [
          0.6733999767181383,
          0.7025219211561068
         ]
        },
        {
         "line": {
          "color": "gray",
          "dash": "dot",
          "width": 1
         },
         "mode": "lines",
         "showlegend": false,
         "type": "scatter",
         "x": [
          0.40816326530612246,
          0.8163265306122449
         ],
         "y": [
          0.9699820186730693,
          0.8624698278292721
         ]
        },
        {
         "line": {
          "color": "gray",
          "dash": "dot",
          "width": 1
         },
         "mode": "lines",
         "showlegend": false,
         "type": "scatter",
         "x": [
          0.8163265306122449,
          1.2244897959183674
         ],
         "y": [
          1,
          0.9316662184372193
         ]
        },
        {
         "line": {
          "color": "gray",
          "dash": "dot",
          "width": 1
         },
         "mode": "lines",
         "showlegend": false,
         "type": "scatter",
         "x": [
          1.2244897959183674,
          1.6326530612244898
         ],
         "y": [
          0.9509230271810464,
          0.9306661357489643
         ]
        },
        {
         "line": {
          "color": "gray",
          "dash": "dot",
          "width": 1
         },
         "mode": "lines",
         "showlegend": false,
         "type": "scatter",
         "x": [
          1.6326530612244898,
          2.0408163265306123
         ],
         "y": [
          0.8498958692160403,
          0.8379224647045692
         ]
        },
        {
         "line": {
          "color": "gray",
          "dash": "dot",
          "width": 1
         },
         "mode": "lines",
         "showlegend": false,
         "type": "scatter",
         "x": [
          2.0408163265306123,
          2.4489795918367347
         ],
         "y": [
          0.7150052619523414,
          0.6849088755217468
         ]
        },
        {
         "line": {
          "color": "gray",
          "dash": "dot",
          "width": 1
         },
         "mode": "lines",
         "showlegend": false,
         "type": "scatter",
         "x": [
          2.4489795918367347,
          2.857142857142857
         ],
         "y": [
          0.5530828946928102,
          0.507765966799653
         ]
        },
        {
         "line": {
          "color": "gray",
          "dash": "dot",
          "width": 1
         },
         "mode": "lines",
         "showlegend": false,
         "type": "scatter",
         "x": [
          2.857142857142857,
          3.2653061224489797
         ],
         "y": [
          0.386538860972983,
          0.3547692357750183
         ]
        },
        {
         "line": {
          "color": "gray",
          "dash": "dot",
          "width": 1
         },
         "mode": "lines",
         "showlegend": false,
         "type": "scatter",
         "x": [
          3.2653061224489797,
          3.673469387755102
         ],
         "y": [
          0.2427954847392144,
          0.2448868987876061
         ]
        },
        {
         "line": {
          "color": "gray",
          "dash": "dot",
          "width": 1
         },
         "mode": "lines",
         "showlegend": false,
         "type": "scatter",
         "x": [
          3.673469387755102,
          4.081632653061225
         ],
         "y": [
          0.1483252335324312,
          0.13285090016047546
         ]
        },
        {
         "line": {
          "color": "gray",
          "dash": "dot",
          "width": 1
         },
         "mode": "lines",
         "showlegend": false,
         "type": "scatter",
         "x": [
          4.081632653061225,
          4.4897959183673475
         ],
         "y": [
          0.0976304991260505,
          0.05566861526376856
         ]
        },
        {
         "line": {
          "color": "gray",
          "dash": "dot",
          "width": 1
         },
         "mode": "lines",
         "showlegend": false,
         "type": "scatter",
         "x": [
          4.4897959183673475,
          4.8979591836734695
         ],
         "y": [
          0.08911231433923554,
          0.047529392016458734
         ]
        },
        {
         "line": {
          "color": "gray",
          "dash": "dot",
          "width": 1
         },
         "mode": "lines",
         "showlegend": false,
         "type": "scatter",
         "x": [
          4.8979591836734695,
          5.3061224489795915
         ],
         "y": [
          0.13786691850163765,
          0.1987451669258403
         ]
        },
        {
         "line": {
          "color": "gray",
          "dash": "dot",
          "width": 1
         },
         "mode": "lines",
         "showlegend": false,
         "type": "scatter",
         "x": [
          5.3061224489795915,
          5.3061224489795915
         ],
         "y": [
          0.24970876879468673,
          0.1987451669258403
         ]
        },
        {
         "line": {
          "color": "gray",
          "dash": "dot",
          "width": 1
         },
         "mode": "lines",
         "showlegend": false,
         "type": "scatter",
         "x": [
          5.714285714285714,
          5.714285714285714
         ],
         "y": [
          0.39865754242484963,
          0.38729165023977014
         ]
        },
        {
         "line": {
          "color": "gray",
          "dash": "dot",
          "width": 1
         },
         "mode": "lines",
         "showlegend": false,
         "type": "scatter",
         "x": [
          6.122448979591837,
          6.122448979591837
         ],
         "y": [
          0.5732673598379595,
          0.5992356690439606
         ]
        },
        {
         "line": {
          "color": "gray",
          "dash": "dot",
          "width": 1
         },
         "mode": "lines",
         "showlegend": false,
         "type": "scatter",
         "x": [
          6.530612244897959,
          6.530612244897959
         ],
         "y": [
          0.7457972689257127,
          0.767438422769654
         ]
        },
        {
         "line": {
          "color": "gray",
          "dash": "dot",
          "width": 1
         },
         "mode": "lines",
         "showlegend": false,
         "type": "scatter",
         "x": [
          6.938775510204081,
          6.938775510204081
         ],
         "y": [
          0.8774593290285001,
          0.9294259929743482
         ]
        },
        {
         "line": {
          "color": "gray",
          "dash": "dot",
          "width": 1
         },
         "mode": "lines",
         "showlegend": false,
         "type": "scatter",
         "x": [
          7.346938775510204,
          6.938775510204081
         ],
         "y": [
          0.954457616963643,
          0.9294259929743482
         ]
        },
        {
         "line": {
          "color": "gray",
          "dash": "dot",
          "width": 1
         },
         "mode": "lines",
         "showlegend": false,
         "type": "scatter",
         "x": [
          7.755102040816327,
          7.346938775510204
         ],
         "y": [
          0.9589221967230211,
          0.9817418201487077
         ]
        },
        {
         "line": {
          "color": "gray",
          "dash": "dot",
          "width": 1
         },
         "mode": "lines",
         "showlegend": false,
         "type": "scatter",
         "x": [
          8.16326530612245,
          7.755102040816327
         ],
         "y": [
          0.9147615106478317,
          1
         ]
        },
        {
         "line": {
          "color": "gray",
          "dash": "dot",
          "width": 1
         },
         "mode": "lines",
         "showlegend": false,
         "type": "scatter",
         "x": [
          8.571428571428571,
          8.16326530612245
         ],
         "y": [
          0.8213598176751007,
          0.8406009646097184
         ]
        },
        {
         "line": {
          "color": "gray",
          "dash": "dot",
          "width": 1
         },
         "mode": "lines",
         "showlegend": false,
         "type": "scatter",
         "x": [
          8.979591836734695,
          8.571428571428571
         ],
         "y": [
          0.6855579288136019,
          0.7055395409899041
         ]
        },
        {
         "line": {
          "color": "gray",
          "dash": "dot",
          "width": 1
         },
         "mode": "lines",
         "showlegend": false,
         "type": "scatter",
         "x": [
          9.387755102040817,
          8.979591836734695
         ],
         "y": [
          0.530065954226418,
          0.4709314956400135
         ]
        },
        {
         "line": {
          "color": "gray",
          "dash": "dot",
          "width": 1
         },
         "mode": "lines",
         "showlegend": false,
         "type": "scatter",
         "x": [
          9.795918367346939,
          9.387755102040817
         ],
         "y": [
          0.3809016232947642,
          0.30556984396416675
         ]
        },
        {
         "line": {
          "color": "gray",
          "dash": "dot",
          "width": 1
         },
         "mode": "lines",
         "showlegend": false,
         "type": "scatter",
         "x": [
          10.204081632653061,
          9.387755102040817
         ],
         "y": [
          0.23698226498830932,
          0.30556984396416675
         ]
        },
        {
         "line": {
          "color": "gray",
          "dash": "dot",
          "width": 1
         },
         "mode": "lines",
         "showlegend": false,
         "type": "scatter",
         "x": [
          10.612244897959183,
          9.795918367346939
         ],
         "y": [
          0.12505107619793418,
          0.08395695736498761
         ]
        },
        {
         "line": {
          "color": "gray",
          "dash": "dot",
          "width": 1
         },
         "mode": "lines",
         "showlegend": false,
         "type": "scatter",
         "x": [
          11.020408163265307,
          10.204081632653061
         ],
         "y": [
          0.04869802089322422,
          0
         ]
        },
        {
         "line": {
          "color": "gray",
          "dash": "dot",
          "width": 1
         },
         "mode": "lines",
         "showlegend": false,
         "type": "scatter",
         "x": [
          11.428571428571429,
          10.612244897959183
         ],
         "y": [
          0.04177317087936846,
          0.028710377408439673
         ]
        },
        {
         "line": {
          "color": "gray",
          "dash": "dot",
          "width": 1
         },
         "mode": "lines",
         "showlegend": false,
         "type": "scatter",
         "x": [
          11.83673469387755,
          11.020408163265307
         ],
         "y": [
          0.10214269958109415,
          0.10521162845900343
         ]
        },
        {
         "line": {
          "color": "gray",
          "dash": "dot",
          "width": 1
         },
         "mode": "lines",
         "showlegend": false,
         "type": "scatter",
         "x": [
          12.244897959183675,
          11.428571428571429
         ],
         "y": [
          0.20382926451777703,
          0.25029612309780475
         ]
        },
        {
         "line": {
          "color": "gray",
          "dash": "dot",
          "width": 1
         },
         "mode": "lines",
         "showlegend": false,
         "type": "scatter",
         "x": [
          12.653061224489797,
          11.83673469387755
         ],
         "y": [
          0.36121872699903385,
          0.40929182274159076
         ]
        },
        {
         "line": {
          "color": "gray",
          "dash": "dot",
          "width": 1
         },
         "mode": "lines",
         "showlegend": false,
         "type": "scatter",
         "x": [
          13.061224489795919,
          11.83673469387755
         ],
         "y": [
          0.521421084675101,
          0.40929182274159076
         ]
        },
        {
         "line": {
          "color": "gray",
          "dash": "dot",
          "width": 1
         },
         "mode": "lines",
         "showlegend": false,
         "type": "scatter",
         "x": [
          13.46938775510204,
          12.244897959183675
         ],
         "y": [
          0.6931184259443444,
          0.6422976450630717
         ]
        },
        {
         "line": {
          "color": "gray",
          "dash": "dot",
          "width": 1
         },
         "mode": "lines",
         "showlegend": false,
         "type": "scatter",
         "x": [
          13.877551020408163,
          12.653061224489797
         ],
         "y": [
          0.819972321388195,
          0.8273970930758023
         ]
        },
        {
         "line": {
          "color": "gray",
          "dash": "dot",
          "width": 1
         },
         "mode": "lines",
         "showlegend": false,
         "type": "scatter",
         "x": [
          14.285714285714286,
          13.061224489795919
         ],
         "y": [
          0.9098329058600898,
          0.8860182171575259
         ]
        },
        {
         "line": {
          "color": "gray",
          "dash": "dot",
          "width": 1
         },
         "mode": "lines",
         "showlegend": false,
         "type": "scatter",
         "x": [
          14.693877551020408,
          13.46938775510204
         ],
         "y": [
          0.9348616666975166,
          0.9894372194053853
         ]
        },
        {
         "line": {
          "color": "gray",
          "dash": "dot",
          "width": 1
         },
         "mode": "lines",
         "showlegend": false,
         "type": "scatter",
         "x": [
          15.10204081632653,
          13.877551020408163
         ],
         "y": [
          0.9020177157832225,
          0.897483511419425
         ]
        },
        {
         "line": {
          "color": "gray",
          "dash": "dot",
          "width": 1
         },
         "mode": "lines",
         "showlegend": false,
         "type": "scatter",
         "x": [
          15.510204081632654,
          14.285714285714286
         ],
         "y": [
          0.8135879047469607,
          0.8459555507219861
         ]
        },
        {
         "line": {
          "color": "gray",
          "dash": "dot",
          "width": 1
         },
         "mode": "lines",
         "showlegend": false,
         "type": "scatter",
         "x": [
          15.918367346938776,
          14.693877551020408
         ],
         "y": [
          0.6855844228516185,
          0.6716890628049526
         ]
        },
        {
         "line": {
          "color": "gray",
          "dash": "dot",
          "width": 1
         },
         "mode": "lines",
         "showlegend": false,
         "type": "scatter",
         "x": [
          16.3265306122449,
          15.10204081632653
         ],
         "y": [
          0.5243988447500799,
          0.5026565616549645
         ]
        },
        {
         "line": {
          "color": "gray",
          "dash": "dot",
          "width": 1
         },
         "mode": "lines",
         "showlegend": false,
         "type": "scatter",
         "x": [
          16.73469387755102,
          15.510204081632654
         ],
         "y": [
          0.3582096918976035,
          0.3490013932069413
         ]
        },
        {
         "line": {
          "color": "gray",
          "dash": "dot",
          "width": 1
         },
         "mode": "lines",
         "showlegend": false,
         "type": "scatter",
         "x": [
          17.142857142857142,
          15.918367346938776
         ],
         "y": [
          0.20296443464090932,
          0.15573322711883916
         ]
        },
        {
         "line": {
          "color": "gray",
          "dash": "dot",
          "width": 1
         },
         "mode": "lines",
         "showlegend": false,
         "type": "scatter",
         "x": [
          17.551020408163264,
          16.3265306122449
         ],
         "y": [
          0.0788247843979853,
          0.09085334554363818
         ]
        },
        {
         "line": {
          "color": "gray",
          "dash": "dot",
          "width": 1
         },
         "mode": "lines",
         "showlegend": false,
         "type": "scatter",
         "x": [
          17.95918367346939,
          16.73469387755102
         ],
         "y": [
          0.008621130536162435,
          0.04402412956360618
         ]
        },
        {
         "line": {
          "color": "gray",
          "dash": "dot",
          "width": 1
         },
         "mode": "lines",
         "showlegend": false,
         "type": "scatter",
         "x": [
          18.367346938775512,
          16.73469387755102
         ],
         "y": [
          0,
          0.04402412956360618
         ]
        },
        {
         "line": {
          "color": "gray",
          "dash": "dot",
          "width": 1
         },
         "mode": "lines",
         "showlegend": false,
         "type": "scatter",
         "x": [
          18.775510204081634,
          16.73469387755102
         ],
         "y": [
          0.053513951997964736,
          0.04402412956360618
         ]
        },
        {
         "line": {
          "color": "gray",
          "dash": "dot",
          "width": 1
         },
         "mode": "lines",
         "showlegend": false,
         "type": "scatter",
         "x": [
          19.183673469387756,
          17.142857142857142
         ],
         "y": [
          0.15185577434001699,
          0.17637553794660432
         ]
        },
        {
         "line": {
          "color": "gray",
          "dash": "dot",
          "width": 1
         },
         "mode": "lines",
         "showlegend": false,
         "type": "scatter",
         "x": [
          19.591836734693878,
          17.551020408163264
         ],
         "y": [
          0.28987373656541987,
          0.34570055614655376
         ]
        },
        {
         "line": {
          "color": "gray",
          "dash": "dot",
          "width": 1
         },
         "mode": "lines",
         "showlegend": false,
         "type": "scatter",
         "x": [
          19.591836734693878,
          17.95918367346939
         ],
         "y": [
          0.28987373656541987,
          0.5617848635769976
         ]
        },
        {
         "line": {
          "color": "gray",
          "dash": "dot",
          "width": 1
         },
         "mode": "lines",
         "showlegend": false,
         "type": "scatter",
         "x": [
          19.591836734693878,
          18.367346938775512
         ],
         "y": [
          0.28987373656541987,
          0.7234737055146108
         ]
        },
        {
         "line": {
          "color": "gray",
          "dash": "dot",
          "width": 1
         },
         "mode": "lines",
         "showlegend": false,
         "type": "scatter",
         "x": [
          19.591836734693878,
          18.775510204081634
         ],
         "y": [
          0.28987373656541987,
          0.8779693021409618
         ]
        },
        {
         "line": {
          "color": "gray",
          "dash": "dot",
          "width": 1
         },
         "mode": "lines",
         "showlegend": false,
         "type": "scatter",
         "x": [
          19.591836734693878,
          19.183673469387756
         ],
         "y": [
          0.28987373656541987,
          0.9677198433006295
         ]
        },
        {
         "line": {
          "color": "gray",
          "dash": "dot",
          "width": 1
         },
         "mode": "lines",
         "showlegend": false,
         "type": "scatter",
         "x": [
          19.591836734693878,
          19.591836734693878
         ],
         "y": [
          0.28987373656541987,
          0.9826576487164937
         ]
        },
        {
         "line": {
          "color": "gray",
          "dash": "dot",
          "width": 1
         },
         "mode": "lines",
         "showlegend": false,
         "type": "scatter",
         "x": [
          20,
          20
         ],
         "y": [
          0.2897792480790164,
          0.8158899672421157
         ]
        }
       ],
       "layout": {
        "template": {
         "data": {
          "bar": [
           {
            "error_x": {
             "color": "#2a3f5f"
            },
            "error_y": {
             "color": "#2a3f5f"
            },
            "marker": {
             "line": {
              "color": "#E5ECF6",
              "width": 0.5
             },
             "pattern": {
              "fillmode": "overlay",
              "size": 10,
              "solidity": 0.2
             }
            },
            "type": "bar"
           }
          ],
          "barpolar": [
           {
            "marker": {
             "line": {
              "color": "#E5ECF6",
              "width": 0.5
             },
             "pattern": {
              "fillmode": "overlay",
              "size": 10,
              "solidity": 0.2
             }
            },
            "type": "barpolar"
           }
          ],
          "carpet": [
           {
            "aaxis": {
             "endlinecolor": "#2a3f5f",
             "gridcolor": "white",
             "linecolor": "white",
             "minorgridcolor": "white",
             "startlinecolor": "#2a3f5f"
            },
            "baxis": {
             "endlinecolor": "#2a3f5f",
             "gridcolor": "white",
             "linecolor": "white",
             "minorgridcolor": "white",
             "startlinecolor": "#2a3f5f"
            },
            "type": "carpet"
           }
          ],
          "choropleth": [
           {
            "colorbar": {
             "outlinewidth": 0,
             "ticks": ""
            },
            "type": "choropleth"
           }
          ],
          "contour": [
           {
            "colorbar": {
             "outlinewidth": 0,
             "ticks": ""
            },
            "colorscale": [
             [
              0,
              "#0d0887"
             ],
             [
              0.1111111111111111,
              "#46039f"
             ],
             [
              0.2222222222222222,
              "#7201a8"
             ],
             [
              0.3333333333333333,
              "#9c179e"
             ],
             [
              0.4444444444444444,
              "#bd3786"
             ],
             [
              0.5555555555555556,
              "#d8576b"
             ],
             [
              0.6666666666666666,
              "#ed7953"
             ],
             [
              0.7777777777777778,
              "#fb9f3a"
             ],
             [
              0.8888888888888888,
              "#fdca26"
             ],
             [
              1,
              "#f0f921"
             ]
            ],
            "type": "contour"
           }
          ],
          "contourcarpet": [
           {
            "colorbar": {
             "outlinewidth": 0,
             "ticks": ""
            },
            "type": "contourcarpet"
           }
          ],
          "heatmap": [
           {
            "colorbar": {
             "outlinewidth": 0,
             "ticks": ""
            },
            "colorscale": [
             [
              0,
              "#0d0887"
             ],
             [
              0.1111111111111111,
              "#46039f"
             ],
             [
              0.2222222222222222,
              "#7201a8"
             ],
             [
              0.3333333333333333,
              "#9c179e"
             ],
             [
              0.4444444444444444,
              "#bd3786"
             ],
             [
              0.5555555555555556,
              "#d8576b"
             ],
             [
              0.6666666666666666,
              "#ed7953"
             ],
             [
              0.7777777777777778,
              "#fb9f3a"
             ],
             [
              0.8888888888888888,
              "#fdca26"
             ],
             [
              1,
              "#f0f921"
             ]
            ],
            "type": "heatmap"
           }
          ],
          "histogram": [
           {
            "marker": {
             "pattern": {
              "fillmode": "overlay",
              "size": 10,
              "solidity": 0.2
             }
            },
            "type": "histogram"
           }
          ],
          "histogram2d": [
           {
            "colorbar": {
             "outlinewidth": 0,
             "ticks": ""
            },
            "colorscale": [
             [
              0,
              "#0d0887"
             ],
             [
              0.1111111111111111,
              "#46039f"
             ],
             [
              0.2222222222222222,
              "#7201a8"
             ],
             [
              0.3333333333333333,
              "#9c179e"
             ],
             [
              0.4444444444444444,
              "#bd3786"
             ],
             [
              0.5555555555555556,
              "#d8576b"
             ],
             [
              0.6666666666666666,
              "#ed7953"
             ],
             [
              0.7777777777777778,
              "#fb9f3a"
             ],
             [
              0.8888888888888888,
              "#fdca26"
             ],
             [
              1,
              "#f0f921"
             ]
            ],
            "type": "histogram2d"
           }
          ],
          "histogram2dcontour": [
           {
            "colorbar": {
             "outlinewidth": 0,
             "ticks": ""
            },
            "colorscale": [
             [
              0,
              "#0d0887"
             ],
             [
              0.1111111111111111,
              "#46039f"
             ],
             [
              0.2222222222222222,
              "#7201a8"
             ],
             [
              0.3333333333333333,
              "#9c179e"
             ],
             [
              0.4444444444444444,
              "#bd3786"
             ],
             [
              0.5555555555555556,
              "#d8576b"
             ],
             [
              0.6666666666666666,
              "#ed7953"
             ],
             [
              0.7777777777777778,
              "#fb9f3a"
             ],
             [
              0.8888888888888888,
              "#fdca26"
             ],
             [
              1,
              "#f0f921"
             ]
            ],
            "type": "histogram2dcontour"
           }
          ],
          "mesh3d": [
           {
            "colorbar": {
             "outlinewidth": 0,
             "ticks": ""
            },
            "type": "mesh3d"
           }
          ],
          "parcoords": [
           {
            "line": {
             "colorbar": {
              "outlinewidth": 0,
              "ticks": ""
             }
            },
            "type": "parcoords"
           }
          ],
          "pie": [
           {
            "automargin": true,
            "type": "pie"
           }
          ],
          "scatter": [
           {
            "fillpattern": {
             "fillmode": "overlay",
             "size": 10,
             "solidity": 0.2
            },
            "type": "scatter"
           }
          ],
          "scatter3d": [
           {
            "line": {
             "colorbar": {
              "outlinewidth": 0,
              "ticks": ""
             }
            },
            "marker": {
             "colorbar": {
              "outlinewidth": 0,
              "ticks": ""
             }
            },
            "type": "scatter3d"
           }
          ],
          "scattercarpet": [
           {
            "marker": {
             "colorbar": {
              "outlinewidth": 0,
              "ticks": ""
             }
            },
            "type": "scattercarpet"
           }
          ],
          "scattergeo": [
           {
            "marker": {
             "colorbar": {
              "outlinewidth": 0,
              "ticks": ""
             }
            },
            "type": "scattergeo"
           }
          ],
          "scattergl": [
           {
            "marker": {
             "colorbar": {
              "outlinewidth": 0,
              "ticks": ""
             }
            },
            "type": "scattergl"
           }
          ],
          "scattermap": [
           {
            "marker": {
             "colorbar": {
              "outlinewidth": 0,
              "ticks": ""
             }
            },
            "type": "scattermap"
           }
          ],
          "scattermapbox": [
           {
            "marker": {
             "colorbar": {
              "outlinewidth": 0,
              "ticks": ""
             }
            },
            "type": "scattermapbox"
           }
          ],
          "scatterpolar": [
           {
            "marker": {
             "colorbar": {
              "outlinewidth": 0,
              "ticks": ""
             }
            },
            "type": "scatterpolar"
           }
          ],
          "scatterpolargl": [
           {
            "marker": {
             "colorbar": {
              "outlinewidth": 0,
              "ticks": ""
             }
            },
            "type": "scatterpolargl"
           }
          ],
          "scatterternary": [
           {
            "marker": {
             "colorbar": {
              "outlinewidth": 0,
              "ticks": ""
             }
            },
            "type": "scatterternary"
           }
          ],
          "surface": [
           {
            "colorbar": {
             "outlinewidth": 0,
             "ticks": ""
            },
            "colorscale": [
             [
              0,
              "#0d0887"
             ],
             [
              0.1111111111111111,
              "#46039f"
             ],
             [
              0.2222222222222222,
              "#7201a8"
             ],
             [
              0.3333333333333333,
              "#9c179e"
             ],
             [
              0.4444444444444444,
              "#bd3786"
             ],
             [
              0.5555555555555556,
              "#d8576b"
             ],
             [
              0.6666666666666666,
              "#ed7953"
             ],
             [
              0.7777777777777778,
              "#fb9f3a"
             ],
             [
              0.8888888888888888,
              "#fdca26"
             ],
             [
              1,
              "#f0f921"
             ]
            ],
            "type": "surface"
           }
          ],
          "table": [
           {
            "cells": {
             "fill": {
              "color": "#EBF0F8"
             },
             "line": {
              "color": "white"
             }
            },
            "header": {
             "fill": {
              "color": "#C8D4E3"
             },
             "line": {
              "color": "white"
             }
            },
            "type": "table"
           }
          ]
         },
         "layout": {
          "annotationdefaults": {
           "arrowcolor": "#2a3f5f",
           "arrowhead": 0,
           "arrowwidth": 1
          },
          "autotypenumbers": "strict",
          "coloraxis": {
           "colorbar": {
            "outlinewidth": 0,
            "ticks": ""
           }
          },
          "colorscale": {
           "diverging": [
            [
             0,
             "#8e0152"
            ],
            [
             0.1,
             "#c51b7d"
            ],
            [
             0.2,
             "#de77ae"
            ],
            [
             0.3,
             "#f1b6da"
            ],
            [
             0.4,
             "#fde0ef"
            ],
            [
             0.5,
             "#f7f7f7"
            ],
            [
             0.6,
             "#e6f5d0"
            ],
            [
             0.7,
             "#b8e186"
            ],
            [
             0.8,
             "#7fbc41"
            ],
            [
             0.9,
             "#4d9221"
            ],
            [
             1,
             "#276419"
            ]
           ],
           "sequential": [
            [
             0,
             "#0d0887"
            ],
            [
             0.1111111111111111,
             "#46039f"
            ],
            [
             0.2222222222222222,
             "#7201a8"
            ],
            [
             0.3333333333333333,
             "#9c179e"
            ],
            [
             0.4444444444444444,
             "#bd3786"
            ],
            [
             0.5555555555555556,
             "#d8576b"
            ],
            [
             0.6666666666666666,
             "#ed7953"
            ],
            [
             0.7777777777777778,
             "#fb9f3a"
            ],
            [
             0.8888888888888888,
             "#fdca26"
            ],
            [
             1,
             "#f0f921"
            ]
           ],
           "sequentialminus": [
            [
             0,
             "#0d0887"
            ],
            [
             0.1111111111111111,
             "#46039f"
            ],
            [
             0.2222222222222222,
             "#7201a8"
            ],
            [
             0.3333333333333333,
             "#9c179e"
            ],
            [
             0.4444444444444444,
             "#bd3786"
            ],
            [
             0.5555555555555556,
             "#d8576b"
            ],
            [
             0.6666666666666666,
             "#ed7953"
            ],
            [
             0.7777777777777778,
             "#fb9f3a"
            ],
            [
             0.8888888888888888,
             "#fdca26"
            ],
            [
             1,
             "#f0f921"
            ]
           ]
          },
          "colorway": [
           "#636efa",
           "#EF553B",
           "#00cc96",
           "#ab63fa",
           "#FFA15A",
           "#19d3f3",
           "#FF6692",
           "#B6E880",
           "#FF97FF",
           "#FECB52"
          ],
          "font": {
           "color": "#2a3f5f"
          },
          "geo": {
           "bgcolor": "white",
           "lakecolor": "white",
           "landcolor": "#E5ECF6",
           "showlakes": true,
           "showland": true,
           "subunitcolor": "white"
          },
          "hoverlabel": {
           "align": "left"
          },
          "hovermode": "closest",
          "mapbox": {
           "style": "light"
          },
          "paper_bgcolor": "white",
          "plot_bgcolor": "#E5ECF6",
          "polar": {
           "angularaxis": {
            "gridcolor": "white",
            "linecolor": "white",
            "ticks": ""
           },
           "bgcolor": "#E5ECF6",
           "radialaxis": {
            "gridcolor": "white",
            "linecolor": "white",
            "ticks": ""
           }
          },
          "scene": {
           "xaxis": {
            "backgroundcolor": "#E5ECF6",
            "gridcolor": "white",
            "gridwidth": 2,
            "linecolor": "white",
            "showbackground": true,
            "ticks": "",
            "zerolinecolor": "white"
           },
           "yaxis": {
            "backgroundcolor": "#E5ECF6",
            "gridcolor": "white",
            "gridwidth": 2,
            "linecolor": "white",
            "showbackground": true,
            "ticks": "",
            "zerolinecolor": "white"
           },
           "zaxis": {
            "backgroundcolor": "#E5ECF6",
            "gridcolor": "white",
            "gridwidth": 2,
            "linecolor": "white",
            "showbackground": true,
            "ticks": "",
            "zerolinecolor": "white"
           }
          },
          "shapedefaults": {
           "line": {
            "color": "#2a3f5f"
           }
          },
          "ternary": {
           "aaxis": {
            "gridcolor": "white",
            "linecolor": "white",
            "ticks": ""
           },
           "baxis": {
            "gridcolor": "white",
            "linecolor": "white",
            "ticks": ""
           },
           "bgcolor": "#E5ECF6",
           "caxis": {
            "gridcolor": "white",
            "linecolor": "white",
            "ticks": ""
           }
          },
          "title": {
           "x": 0.05
          },
          "xaxis": {
           "automargin": true,
           "gridcolor": "white",
           "linecolor": "white",
           "ticks": "",
           "title": {
            "standoff": 15
           },
           "zerolinecolor": "white",
           "zerolinewidth": 2
          },
          "yaxis": {
           "automargin": true,
           "gridcolor": "white",
           "linecolor": "white",
           "ticks": "",
           "title": {
            "standoff": 15
           },
           "zerolinecolor": "white",
           "zerolinewidth": 2
          }
         }
        },
        "title": {
         "text": "Dynamic Time Warping Alignment Between Series 1 and Series 2"
        },
        "xaxis": {
         "title": {
          "text": "t"
         }
        },
        "yaxis": {
         "title": {
          "text": "Value"
         }
        }
       }
      }
     },
     "metadata": {},
     "output_type": "display_data"
    }
   ],
   "source": [
    "d_dtw_sn, path_sn = dtw_distance(series1_smooth_norm, series2_smooth_norm)\n",
    "\n",
    "print(f'Dynamic Time Warping Distance: {d_dtw_sn:.2f}')\n",
    "\n",
    "plot_dtw_alignment(series1_smooth_norm, series2_smooth_norm, t, path_sn)"
   ]
  },
  {
   "cell_type": "code",
   "execution_count": null,
   "id": "0963a5ed",
   "metadata": {},
   "outputs": [],
   "source": []
  }
 ],
 "metadata": {
  "kernelspec": {
   "display_name": ".venv",
   "language": "python",
   "name": "python3"
  },
  "language_info": {
   "codemirror_mode": {
    "name": "ipython",
    "version": 3
   },
   "file_extension": ".py",
   "mimetype": "text/x-python",
   "name": "python",
   "nbconvert_exporter": "python",
   "pygments_lexer": "ipython3",
   "version": "3.13.5"
  }
 },
 "nbformat": 4,
 "nbformat_minor": 5
}
